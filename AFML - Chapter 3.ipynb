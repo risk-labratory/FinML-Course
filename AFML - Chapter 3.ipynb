{
  "nbformat": 4,
  "nbformat_minor": 0,
  "metadata": {
    "colab": {
      "name": "AFML - Chapter 3.ipynb",
      "provenance": [],
      "collapsed_sections": [],
      "toc_visible": true
    },
    "kernelspec": {
      "name": "python3",
      "display_name": "Python 3"
    }
  },
  "cells": [
    {
      "cell_type": "markdown",
      "metadata": {
        "id": "PdlJuKvwdnCY"
      },
      "source": [
        "**Copyright (c) 2021 Risklab Middle East - All Rights Reserved**\n",
        "\n",
        "---\n",
        "\n",
        "\n",
        "**Author: Mehrdad Moghimi**\n",
        "\n"
      ]
    },
    {
      "cell_type": "markdown",
      "metadata": {
        "id": "kkg1npDlSfO0"
      },
      "source": [
        "# Imports libraries"
      ]
    },
    {
      "cell_type": "code",
      "metadata": {
        "id": "SK-RJi_JNXyG"
      },
      "source": [
        "%%capture\n",
        "!pip install plotly -U"
      ],
      "execution_count": null,
      "outputs": []
    },
    {
      "cell_type": "code",
      "metadata": {
        "id": "Iyv5ZzRds2wz",
        "colab": {
          "base_uri": "https://localhost:8080/"
        },
        "outputId": "2279b8c5-f91c-4dd5-f190-b94a350ec7b3"
      },
      "source": [
        "import pandas as pd\n",
        "import numpy as np \n",
        "import datetime\n",
        "import time\n",
        "import sys\n",
        "from scipy import stats\n",
        "from statsmodels.stats import stattools\n",
        "\n",
        "import plotly.express as px\n",
        "import plotly.figure_factory as ff\n",
        "import plotly.graph_objects as go\n",
        "from plotly.subplots import make_subplots\n",
        "\n",
        "import multiprocessing as mp\n",
        "\n",
        "pd.options.plotting.backend = \"plotly\"\n",
        "np.seterr(divide='ignore', invalid='ignore')"
      ],
      "execution_count": null,
      "outputs": [
        {
          "output_type": "stream",
          "text": [
            "/usr/local/lib/python3.7/dist-packages/statsmodels/tools/_testing.py:19: FutureWarning: pandas.util.testing is deprecated. Use the functions in the public API at pandas.testing instead.\n",
            "  import pandas.util.testing as tm\n"
          ],
          "name": "stderr"
        },
        {
          "output_type": "execute_result",
          "data": {
            "text/plain": [
              "{'divide': 'warn', 'invalid': 'warn', 'over': 'warn', 'under': 'ignore'}"
            ]
          },
          "metadata": {
            "tags": []
          },
          "execution_count": 2
        }
      ]
    },
    {
      "cell_type": "markdown",
      "metadata": {
        "id": "CSXpLX-4SqbL"
      },
      "source": [
        "# Import Tick data"
      ]
    },
    {
      "cell_type": "code",
      "metadata": {
        "id": "R12r9VGstY_k",
        "colab": {
          "base_uri": "https://localhost:8080/",
          "height": 225
        },
        "outputId": "1f0310a8-9085-4c41-acf1-df97c168f53e"
      },
      "source": [
        "dir = \"https://raw.githubusercontent.com/risk-labratory/data/main/\"\n",
        "url = dir + \"IVE_2020.csv\"\n",
        "df = pd.read_csv(url, header=0)\n",
        "df['dates'] = pd.to_datetime(df['dates'])\n",
        "df.set_index('dates', inplace=True, drop=True)\n",
        "df.drop_duplicates(inplace=True)\n",
        "df = df[(df.index.hour>=9) & (df.index.hour<16)]\n",
        "df.head()"
      ],
      "execution_count": null,
      "outputs": [
        {
          "output_type": "execute_result",
          "data": {
            "text/html": [
              "<div>\n",
              "<style scoped>\n",
              "    .dataframe tbody tr th:only-of-type {\n",
              "        vertical-align: middle;\n",
              "    }\n",
              "\n",
              "    .dataframe tbody tr th {\n",
              "        vertical-align: top;\n",
              "    }\n",
              "\n",
              "    .dataframe thead th {\n",
              "        text-align: right;\n",
              "    }\n",
              "</style>\n",
              "<table border=\"1\" class=\"dataframe\">\n",
              "  <thead>\n",
              "    <tr style=\"text-align: right;\">\n",
              "      <th></th>\n",
              "      <th>price</th>\n",
              "      <th>bid</th>\n",
              "      <th>ask</th>\n",
              "      <th>size</th>\n",
              "    </tr>\n",
              "    <tr>\n",
              "      <th>dates</th>\n",
              "      <th></th>\n",
              "      <th></th>\n",
              "      <th></th>\n",
              "      <th></th>\n",
              "    </tr>\n",
              "  </thead>\n",
              "  <tbody>\n",
              "    <tr>\n",
              "      <th>2020-01-02 09:30:00</th>\n",
              "      <td>130.68</td>\n",
              "      <td>130.59</td>\n",
              "      <td>130.60</td>\n",
              "      <td>20625</td>\n",
              "    </tr>\n",
              "    <tr>\n",
              "      <th>2020-01-02 09:30:01</th>\n",
              "      <td>130.50</td>\n",
              "      <td>130.50</td>\n",
              "      <td>130.77</td>\n",
              "      <td>200</td>\n",
              "    </tr>\n",
              "    <tr>\n",
              "      <th>2020-01-02 09:30:04</th>\n",
              "      <td>130.53</td>\n",
              "      <td>130.52</td>\n",
              "      <td>130.78</td>\n",
              "      <td>100</td>\n",
              "    </tr>\n",
              "    <tr>\n",
              "      <th>2020-01-02 09:30:04</th>\n",
              "      <td>130.55</td>\n",
              "      <td>130.52</td>\n",
              "      <td>130.78</td>\n",
              "      <td>100</td>\n",
              "    </tr>\n",
              "    <tr>\n",
              "      <th>2020-01-02 09:30:04</th>\n",
              "      <td>130.53</td>\n",
              "      <td>130.52</td>\n",
              "      <td>130.78</td>\n",
              "      <td>200</td>\n",
              "    </tr>\n",
              "  </tbody>\n",
              "</table>\n",
              "</div>"
            ],
            "text/plain": [
              "                      price     bid     ask   size\n",
              "dates                                             \n",
              "2020-01-02 09:30:00  130.68  130.59  130.60  20625\n",
              "2020-01-02 09:30:01  130.50  130.50  130.77    200\n",
              "2020-01-02 09:30:04  130.53  130.52  130.78    100\n",
              "2020-01-02 09:30:04  130.55  130.52  130.78    100\n",
              "2020-01-02 09:30:04  130.53  130.52  130.78    200"
            ]
          },
          "metadata": {
            "tags": []
          },
          "execution_count": 3
        }
      ]
    },
    {
      "cell_type": "markdown",
      "metadata": {
        "id": "e6eOxBVTcqG3"
      },
      "source": [
        "# Functions"
      ]
    },
    {
      "cell_type": "code",
      "metadata": {
        "id": "8L7z2ysd8v0E"
      },
      "source": [
        "# SNIPPET 20.5 THE linParts FUNCTION\n",
        "def linParts(numAtoms,numThreads):\n",
        "  # partition of atoms with a single loop\n",
        "  parts=np.linspace(0,numAtoms,min(numThreads,numAtoms)+1)\n",
        "  parts=np.ceil(parts).astype(int)\n",
        "  return parts\n",
        "\n",
        "# SNIPPET 20.6 THE nestedParts FUNCTION\n",
        "def nestedParts(numAtoms,numThreads,upperTriang=False):\n",
        "  # partition of atoms with an inner loop\n",
        "  parts,numThreads_=[0],min(numThreads,numAtoms)\n",
        "  for num in range(numThreads_):\n",
        "    part=1 + 4*(parts[-1]**2+parts[-1]+numAtoms*(numAtoms+1.)/numThreads_)\n",
        "    part=(-1+part**.5)/2.\n",
        "    parts.append(part)\n",
        "  parts=np.round(parts).astype(int)\n",
        "  if upperTriang: # the first rows are the heaviest\n",
        "    parts=np.cumsum(np.diff(parts)[::-1])\n",
        "    parts=np.append(np.array([0]),parts)\n",
        "  return parts\n",
        "\n",
        "# SNIPPET 20.7 THE mpPandasObj, USED AT VARIOUS POINTS IN THE BOOK\n",
        "def mpPandasObj(func,pdObj,numThreads=24,mpBatches=1,linMols=True,**kargs):\n",
        "  \"\"\"\n",
        "  Parallelize jobs, return a DataFrame or Series\n",
        "  + func: function to be parallelized. Returns a DataFrame\n",
        "  + pdObj[0]: Name of argument used to pass the molecule\n",
        "  + pdObj[1]: List of atoms that will be grouped into molecules\n",
        "  + kargs: any other argument needed by func\n",
        "  Example: df1=mpPandasObj(func,(’molecule’,df0.index),24,**kargs)\n",
        "  \"\"\"\n",
        "  argList = list(kargs.values()) #?\n",
        "  if linMols:\n",
        "    parts=linParts(len(argList[1]),numThreads*mpBatches)\n",
        "  else:\n",
        "    parts=nestedParts(len(argList[1]),numThreads*mpBatches)\n",
        "  jobs=[] \n",
        "  for i in range(1,len(parts)):\n",
        "    job={pdObj[0]:pdObj[1][parts[i-1]:parts[i]],'func':func}\n",
        "    job.update(kargs)\n",
        "    jobs.append(job)\n",
        "  if numThreads==1:\n",
        "    out=processJobs_(jobs)\n",
        "  else:\n",
        "    out=processJobs(jobs,numThreads=numThreads)\n",
        "  if isinstance(out[0],pd.DataFrame):\n",
        "    df0=pd.DataFrame()\n",
        "  elif isinstance(out[0],pd.Series):\n",
        "    df0=pd.Series()\n",
        "  else:\n",
        "    return out\n",
        "  for i in out:\n",
        "    df0=df0.append(i)\n",
        "  df0=df0.sort_index()\n",
        "  return df0\n",
        "\n",
        "# SNIPPET 20.8 SINGLE-THREAD EXECUTION, FOR DEBUGGING\n",
        "def processJobs_(jobs):\n",
        "  # Run jobs sequentially, for debugging\n",
        "  out=[]\n",
        "  for job in jobs:\n",
        "    out_=expandCall(job)\n",
        "    out.append(out_)\n",
        "  return out\n",
        "\n",
        "# SNIPPET 20.9 EXAMPLE OF ASYNCHRONOUS CALL TO PYTHON’S MULTIPROCESSING LIBRARY\n",
        "def reportProgress(jobNum,numJobs,time0,task):\n",
        "  # Report progress as asynch jobs are completed\n",
        "  msg=[float(jobNum)/numJobs,(time.time()-time0)/60.]\n",
        "  msg.append(msg[1]*(1/msg[0]-1))\n",
        "  timeStamp=str(datetime.datetime.fromtimestamp(time.time()))\n",
        "  msg= timeStamp+' '+str(round(msg[0]*100,2))+'% '+task+' done after '+ str(round(msg[1],2))+' minutes. Remaining '+str(round(msg[2],2))+' minutes.'\n",
        "  if jobNum<numJobs:\n",
        "    sys.stderr.write(msg+'\\r')\n",
        "  else:\n",
        "    sys.stderr.write(msg+'\\n')\n",
        "  return\n",
        "\n",
        "def processJobs(jobs,task=None,numThreads=24):\n",
        "  # Run in parallel.\n",
        "  # jobs must contain a ’func’ callback, for expandCall\n",
        "  if task is None:task=jobs[0]['func'].__name__\n",
        "  pool=mp.Pool(processes=numThreads)\n",
        "  outputs,out,time0=pool.imap_unordered(expandCall,jobs),[],time.time()\n",
        "  # Process asynchronous output, report progress\n",
        "  for i,out_ in enumerate(outputs,1):\n",
        "    out.append(out_)\n",
        "    reportProgress(i,len(jobs),time0,task)\n",
        "  pool.close()\n",
        "  pool.join() # this is needed to prevent memory leaks\n",
        "  return out\n",
        "\n",
        "# SNIPPET 20.10 PASSING THE JOB (MOLECULE) TO THE CALLBACK FUNCTION\n",
        "def expandCall(kargs):\n",
        "  # Expand the arguments of a callback function, kargs[’func’]\n",
        "  func=kargs['func']\n",
        "  del kargs['func']\n",
        "  out=func(**kargs)\n",
        "  return out"
      ],
      "execution_count": null,
      "outputs": []
    },
    {
      "cell_type": "code",
      "metadata": {
        "id": "Boj5a_O3rHmm"
      },
      "source": [
        "def progressBar(value, end_value, start_time, bar_length=20):\n",
        "    percent = float(value) / end_value\n",
        "    arrow = '-' * int(round(percent * bar_length)-1) + '>'\n",
        "    spaces = ' ' * (bar_length - len(arrow))\n",
        "    remaining = int(((time.time()-start_time)/value)*(end_value-value)/60)\n",
        "    sys.stdout.write(\"\\rCompleted: [{0}] {1}% - {2} minutes remaining.\".format(arrow + spaces, int(round(percent * 100)), remaining))\n",
        "    sys.stdout.flush()"
      ],
      "execution_count": null,
      "outputs": []
    },
    {
      "cell_type": "code",
      "metadata": {
        "id": "49JL_oWQVDyi"
      },
      "source": [
        "def get_ohlcv(df_group):\n",
        "  ohlc = df_group['price'].ohlc()\n",
        "  ohlc['volume'] = df_group['size'].sum()\n",
        "  ohlc['vwap'] = df_group.apply(lambda x: (x['price']*x['size']).sum()/x['size'].sum())\n",
        "  ohlc['twap'] = df_group['price'].mean()\n",
        "  ohlc['tick_count'] = df_group['price'].count()\n",
        "  ohlc['twap_logr'] = np.log(ohlc['twap']) - np.log(ohlc['twap'].shift(1))\n",
        "  return ohlc\n",
        "\n",
        "def get_time_bar(df, freq=\"5Min\"):\n",
        "  df_group = df.groupby(pd.Grouper(freq=freq))\n",
        "  ohlcv = get_ohlcv(df_group)\n",
        "  return ohlcv\n",
        "\n",
        "def get_tick_bar(df, tick_per_bar=10, num_of_bars=None):\n",
        "  if not tick_per_bar:\n",
        "    tick_per_bar = int(df.shape[0] / num_of_bars)\n",
        "  tick_group = df.reset_index().assign(grpId=lambda x: x.index // tick_per_bar)\n",
        "  dates = tick_group.groupby('grpId', as_index=False).first()['dates']\n",
        "  df_group =  tick_group.groupby('grpId')\n",
        "  ohlcv = get_ohlcv(df_group)\n",
        "  ohlcv.set_index(dates, drop=True, inplace=True)\n",
        "  return ohlcv\n",
        "\n",
        "def get_volume_bar(df, volume_per_bar=10000, num_of_bars=None):\n",
        "  df['cum_size'] = df['size'].cumsum() \n",
        "  if not volume_per_bar:\n",
        "    total_vol = df['cum_size'].values[-1]\n",
        "    volume_per_bar = total_vol / num_of_bars\n",
        "    volume_per_bar = round(volume_per_bar, -2) # round to the nearest hundred\n",
        "  tick_group = df.reset_index().assign(grpId=lambda x: x.cum_size // volume_per_bar)\n",
        "  dates = tick_group.groupby('grpId', as_index=False).first()['dates']\n",
        "  df_group =  tick_group.groupby('grpId')\n",
        "  ohlcv = get_ohlcv(df_group)\n",
        "  ohlcv.set_index(dates, drop=True, inplace=True)\n",
        "  return ohlcv\n",
        "\n",
        "def get_dollar_bar(df, dollar_per_bar=100000, num_of_bars=None):\n",
        "  df['dollar'] = df['price']*df['size']\n",
        "  df['cum_dv'] = df['dollar'].cumsum() \n",
        "  if not dollar_per_bar:\n",
        "    total_dvol = df['cum_dv'].values[-1]\n",
        "    dollar_per_bar = total_dvol / num_of_bars\n",
        "    dollar_per_bar = round(dollar_per_bar, -2) # round to the nearest hundred\n",
        "  tick_group = df.reset_index().assign(grpId=lambda x: x.cum_dv // dollar_per_bar)\n",
        "  dates = tick_group.groupby('grpId', as_index=False).first()['dates']\n",
        "  df_group =  tick_group.groupby('grpId')\n",
        "  ohlcv = get_ohlcv(df_group)\n",
        "  ohlcv.set_index(dates, drop=True, inplace=True)\n",
        "  return ohlcv"
      ],
      "execution_count": null,
      "outputs": []
    },
    {
      "cell_type": "code",
      "metadata": {
        "id": "HbRVRIoChbnH"
      },
      "source": [
        "def plot_ohlcv(ohlcv):\n",
        "  dt_all = pd.date_range(start=ohlcv.index[0],end=ohlcv.index[-1])\n",
        "  dt_obs = [d.strftime(\"%Y-%m-%d\") for d in ohlcv.index]\n",
        "  dt_breaks = [d for d in dt_all.strftime(\"%Y-%m-%d\").tolist() if not d in dt_obs]\n",
        "  fig = make_subplots(rows=3, cols=1,\n",
        "                      shared_xaxes=True,\n",
        "                      vertical_spacing=0.05, specs=[[{\"rowspan\": 2}], \n",
        "                                                  [{}], \n",
        "                                                  [{}]])\n",
        "  fig.add_trace(go.Candlestick(x=ohlcv.index, \n",
        "                              open=ohlcv.open, \n",
        "                              high=ohlcv.high,\n",
        "                              low=ohlcv.low, \n",
        "                              close=ohlcv.close, name='Candlestick'), row=1, col=1)\n",
        "  fig.add_trace(go.Bar(x=ohlcv.index, y=ohlcv.volume, marker_color='rgba(255, 100, 100, 0.7)', name='volume'), row=3, col=1)\n",
        "  fig.update_yaxes(title_text=\"Price\", row=1, col=1)\n",
        "  fig.update_yaxes(title_text=\"Volume\", row=3, col=1)\n",
        "  fig.update_xaxes(\n",
        "          rangeslider_visible=False,\n",
        "          rangebreaks=[\n",
        "              dict(bounds=[\"sat\", \"mon\"]),  # hide weekends, eg. hide sat to before mon\n",
        "              dict(bounds=[16, 9.5], pattern=\"hour\"),  # hide hours outside of 9.30am-4pm\n",
        "              dict(values=dt_breaks)  # hide empty dates\n",
        "          ]\n",
        "      )\n",
        "  fig.update_layout(xaxis_rangeslider_visible=False)\n",
        "  fig.show()"
      ],
      "execution_count": null,
      "outputs": []
    },
    {
      "cell_type": "markdown",
      "metadata": {
        "id": "bs4qACoxfgvn"
      },
      "source": [
        "# Code Snippets"
      ]
    },
    {
      "cell_type": "code",
      "metadata": {
        "colab": {
          "base_uri": "https://localhost:8080/",
          "height": 225
        },
        "id": "HE0sq7Zxzuwj",
        "outputId": "bde8512f-1adb-4e59-86ab-dafde3972bca"
      },
      "source": [
        "ohlcv = get_time_bar(df, freq=\"1B\")\n",
        "ohlcv.dropna(inplace=True)\n",
        "close = ohlcv.close\n",
        "ohlcv.head()"
      ],
      "execution_count": null,
      "outputs": [
        {
          "output_type": "execute_result",
          "data": {
            "text/html": [
              "<div>\n",
              "<style scoped>\n",
              "    .dataframe tbody tr th:only-of-type {\n",
              "        vertical-align: middle;\n",
              "    }\n",
              "\n",
              "    .dataframe tbody tr th {\n",
              "        vertical-align: top;\n",
              "    }\n",
              "\n",
              "    .dataframe thead th {\n",
              "        text-align: right;\n",
              "    }\n",
              "</style>\n",
              "<table border=\"1\" class=\"dataframe\">\n",
              "  <thead>\n",
              "    <tr style=\"text-align: right;\">\n",
              "      <th></th>\n",
              "      <th>open</th>\n",
              "      <th>high</th>\n",
              "      <th>low</th>\n",
              "      <th>close</th>\n",
              "      <th>volume</th>\n",
              "      <th>vwap</th>\n",
              "      <th>twap</th>\n",
              "      <th>tick_count</th>\n",
              "      <th>twap_logr</th>\n",
              "    </tr>\n",
              "    <tr>\n",
              "      <th>dates</th>\n",
              "      <th></th>\n",
              "      <th></th>\n",
              "      <th></th>\n",
              "      <th></th>\n",
              "      <th></th>\n",
              "      <th></th>\n",
              "      <th></th>\n",
              "      <th></th>\n",
              "      <th></th>\n",
              "    </tr>\n",
              "  </thead>\n",
              "  <tbody>\n",
              "    <tr>\n",
              "      <th>2020-01-03</th>\n",
              "      <td>129.33</td>\n",
              "      <td>129.9874</td>\n",
              "      <td>129.2912</td>\n",
              "      <td>129.6400</td>\n",
              "      <td>526340</td>\n",
              "      <td>129.751774</td>\n",
              "      <td>129.719157</td>\n",
              "      <td>922</td>\n",
              "      <td>-0.003845</td>\n",
              "    </tr>\n",
              "    <tr>\n",
              "      <th>2020-01-06</th>\n",
              "      <td>129.00</td>\n",
              "      <td>129.8952</td>\n",
              "      <td>128.9300</td>\n",
              "      <td>129.8952</td>\n",
              "      <td>655431</td>\n",
              "      <td>129.548003</td>\n",
              "      <td>129.493223</td>\n",
              "      <td>770</td>\n",
              "      <td>-0.001743</td>\n",
              "    </tr>\n",
              "    <tr>\n",
              "      <th>2020-01-07</th>\n",
              "      <td>129.52</td>\n",
              "      <td>129.5800</td>\n",
              "      <td>129.1405</td>\n",
              "      <td>129.3800</td>\n",
              "      <td>413423</td>\n",
              "      <td>129.376731</td>\n",
              "      <td>129.357347</td>\n",
              "      <td>908</td>\n",
              "      <td>-0.001050</td>\n",
              "    </tr>\n",
              "    <tr>\n",
              "      <th>2020-01-08</th>\n",
              "      <td>129.38</td>\n",
              "      <td>130.2999</td>\n",
              "      <td>129.2400</td>\n",
              "      <td>129.7600</td>\n",
              "      <td>449383</td>\n",
              "      <td>129.881903</td>\n",
              "      <td>129.858126</td>\n",
              "      <td>1028</td>\n",
              "      <td>0.003864</td>\n",
              "    </tr>\n",
              "    <tr>\n",
              "      <th>2020-01-09</th>\n",
              "      <td>130.30</td>\n",
              "      <td>130.3800</td>\n",
              "      <td>129.9200</td>\n",
              "      <td>130.3168</td>\n",
              "      <td>376142</td>\n",
              "      <td>130.161216</td>\n",
              "      <td>130.161563</td>\n",
              "      <td>614</td>\n",
              "      <td>0.002334</td>\n",
              "    </tr>\n",
              "  </tbody>\n",
              "</table>\n",
              "</div>"
            ],
            "text/plain": [
              "              open      high       low  ...        twap  tick_count  twap_logr\n",
              "dates                                   ...                                   \n",
              "2020-01-03  129.33  129.9874  129.2912  ...  129.719157         922  -0.003845\n",
              "2020-01-06  129.00  129.8952  128.9300  ...  129.493223         770  -0.001743\n",
              "2020-01-07  129.52  129.5800  129.1405  ...  129.357347         908  -0.001050\n",
              "2020-01-08  129.38  130.2999  129.2400  ...  129.858126        1028   0.003864\n",
              "2020-01-09  130.30  130.3800  129.9200  ...  130.161563         614   0.002334\n",
              "\n",
              "[5 rows x 9 columns]"
            ]
          },
          "metadata": {
            "tags": []
          },
          "execution_count": 8
        }
      ]
    },
    {
      "cell_type": "markdown",
      "metadata": {
        "id": "F8-J28_iflAl"
      },
      "source": [
        "SNIPPET 3.1 DAILY VOLATILITY ESTIMATES"
      ]
    },
    {
      "cell_type": "code",
      "metadata": {
        "id": "-bXJvrrJfjAO"
      },
      "source": [
        "def getDailyVol(close, span0=63):\n",
        "    # daily vol, reindexed to close\n",
        "    df0 = close.index.searchsorted(close.index - pd.Timedelta(days=1))\n",
        "    df0 = df0[df0 > 0]\n",
        "    df0 = pd.Series(close.index[df0 - 1], index=close.index[close.shape[0] - df0.shape[0]:])\n",
        "    rets = (close.loc[df0.index] / close.loc[df0.values].values - 1).rename(\"rets\")  # daily returns\n",
        "    stds = rets.ewm(span=span0).std().rename(\"std\")\n",
        "    return rets, stds"
      ],
      "execution_count": null,
      "outputs": []
    },
    {
      "cell_type": "code",
      "metadata": {
        "colab": {
          "base_uri": "https://localhost:8080/",
          "height": 542
        },
        "id": "eU-4hmbt02Zb",
        "outputId": "ee3a1064-d16e-400a-cecd-15974a7334b3"
      },
      "source": [
        "rets, stds = getDailyVol(close, span0=32)\n",
        "fig = go.Figure()\n",
        "fig.add_trace(go.Scatter(x=rets.index, y=rets.values, mode=\"lines\", marker=dict(color='firebrick'), name=\"rets\"))\n",
        "fig.add_trace(go.Scatter(x=rets.index, y=stds.values, mode=\"lines\", marker=dict(color='royalblue'),  name=\"stds\"))\n",
        "fig.add_trace(go.Scatter(x=rets.index, y=-stds.values, mode=\"lines\", marker=dict(color='royalblue'),  name=\"-stds\"))"
      ],
      "execution_count": null,
      "outputs": [
        {
          "output_type": "display_data",
          "data": {
            "text/html": [
              "<html>\n",
              "<head><meta charset=\"utf-8\" /></head>\n",
              "<body>\n",
              "    <div>            <script src=\"https://cdnjs.cloudflare.com/ajax/libs/mathjax/2.7.5/MathJax.js?config=TeX-AMS-MML_SVG\"></script><script type=\"text/javascript\">if (window.MathJax) {MathJax.Hub.Config({SVG: {font: \"STIX-Web\"}});}</script>                <script type=\"text/javascript\">window.PlotlyConfig = {MathJaxConfig: 'local'};</script>\n",
              "        <script src=\"https://cdn.plot.ly/plotly-latest.min.js\"></script>                <div id=\"f4adf4dd-496f-4e11-bef4-6d9c5600cc29\" class=\"plotly-graph-div\" style=\"height:525px; width:100%;\"></div>            <script type=\"text/javascript\">                                    window.PLOTLYENV=window.PLOTLYENV || {};                                    if (document.getElementById(\"f4adf4dd-496f-4e11-bef4-6d9c5600cc29\")) {                    Plotly.newPlot(                        \"f4adf4dd-496f-4e11-bef4-6d9c5600cc29\",                        [{\"marker\": {\"color\": \"firebrick\"}, \"mode\": \"lines\", \"name\": \"rets\", \"type\": \"scatter\", \"x\": [\"2020-01-06T00:00:00\", \"2020-01-07T00:00:00\", \"2020-01-08T00:00:00\", \"2020-01-09T00:00:00\", \"2020-01-10T00:00:00\", \"2020-01-13T00:00:00\", \"2020-01-14T00:00:00\", \"2020-01-15T00:00:00\", \"2020-01-16T00:00:00\", \"2020-01-17T00:00:00\", \"2020-01-22T00:00:00\", \"2020-01-23T00:00:00\", \"2020-01-24T00:00:00\", \"2020-01-27T00:00:00\", \"2020-01-28T00:00:00\", \"2020-01-29T00:00:00\", \"2020-01-30T00:00:00\", \"2020-01-31T00:00:00\", \"2020-02-03T00:00:00\", \"2020-02-04T00:00:00\", \"2020-02-05T00:00:00\", \"2020-02-06T00:00:00\", \"2020-02-07T00:00:00\", \"2020-02-10T00:00:00\", \"2020-02-11T00:00:00\", \"2020-02-12T00:00:00\", \"2020-02-13T00:00:00\", \"2020-02-14T00:00:00\", \"2020-02-19T00:00:00\", \"2020-02-20T00:00:00\", \"2020-02-21T00:00:00\", \"2020-02-24T00:00:00\", \"2020-02-25T00:00:00\", \"2020-02-26T00:00:00\", \"2020-02-27T00:00:00\", \"2020-02-28T00:00:00\", \"2020-03-02T00:00:00\", \"2020-03-03T00:00:00\", \"2020-03-04T00:00:00\", \"2020-03-05T00:00:00\", \"2020-03-06T00:00:00\", \"2020-03-09T00:00:00\", \"2020-03-10T00:00:00\", \"2020-03-11T00:00:00\", \"2020-03-12T00:00:00\", \"2020-03-13T00:00:00\", \"2020-03-16T00:00:00\", \"2020-03-17T00:00:00\", \"2020-03-18T00:00:00\", \"2020-03-19T00:00:00\", \"2020-03-20T00:00:00\", \"2020-03-23T00:00:00\", \"2020-03-24T00:00:00\", \"2020-03-25T00:00:00\", \"2020-03-26T00:00:00\", \"2020-03-27T00:00:00\", \"2020-03-30T00:00:00\", \"2020-03-31T00:00:00\", \"2020-04-01T00:00:00\", \"2020-04-02T00:00:00\", \"2020-04-03T00:00:00\", \"2020-04-06T00:00:00\", \"2020-04-07T00:00:00\", \"2020-04-08T00:00:00\", \"2020-04-09T00:00:00\", \"2020-04-14T00:00:00\", \"2020-04-15T00:00:00\", \"2020-04-16T00:00:00\", \"2020-04-17T00:00:00\", \"2020-04-20T00:00:00\", \"2020-04-21T00:00:00\", \"2020-04-22T00:00:00\", \"2020-04-23T00:00:00\", \"2020-04-24T00:00:00\", \"2020-04-27T00:00:00\", \"2020-04-28T00:00:00\", \"2020-04-29T00:00:00\", \"2020-04-30T00:00:00\", \"2020-05-01T00:00:00\", \"2020-05-04T00:00:00\", \"2020-05-05T00:00:00\", \"2020-05-06T00:00:00\", \"2020-05-07T00:00:00\", \"2020-05-08T00:00:00\", \"2020-05-11T00:00:00\", \"2020-05-12T00:00:00\", \"2020-05-13T00:00:00\", \"2020-05-14T00:00:00\", \"2020-05-15T00:00:00\", \"2020-05-18T00:00:00\", \"2020-05-19T00:00:00\", \"2020-05-20T00:00:00\", \"2020-05-21T00:00:00\", \"2020-05-22T00:00:00\", \"2020-05-27T00:00:00\", \"2020-05-28T00:00:00\", \"2020-05-29T00:00:00\", \"2020-06-01T00:00:00\", \"2020-06-02T00:00:00\", \"2020-06-03T00:00:00\", \"2020-06-04T00:00:00\", \"2020-06-05T00:00:00\", \"2020-06-08T00:00:00\", \"2020-06-09T00:00:00\", \"2020-06-10T00:00:00\", \"2020-06-11T00:00:00\", \"2020-06-12T00:00:00\", \"2020-06-15T00:00:00\", \"2020-06-16T00:00:00\", \"2020-06-17T00:00:00\", \"2020-06-18T00:00:00\", \"2020-06-19T00:00:00\", \"2020-06-22T00:00:00\", \"2020-06-23T00:00:00\", \"2020-06-24T00:00:00\", \"2020-06-25T00:00:00\", \"2020-06-26T00:00:00\", \"2020-06-29T00:00:00\", \"2020-06-30T00:00:00\", \"2020-07-01T00:00:00\", \"2020-07-02T00:00:00\", \"2020-07-07T00:00:00\", \"2020-07-08T00:00:00\", \"2020-07-09T00:00:00\", \"2020-07-10T00:00:00\", \"2020-07-13T00:00:00\", \"2020-07-14T00:00:00\", \"2020-07-15T00:00:00\", \"2020-07-16T00:00:00\", \"2020-07-17T00:00:00\", \"2020-07-20T00:00:00\", \"2020-07-21T00:00:00\", \"2020-07-22T00:00:00\", \"2020-07-23T00:00:00\", \"2020-07-24T00:00:00\", \"2020-07-27T00:00:00\", \"2020-07-28T00:00:00\", \"2020-07-29T00:00:00\", \"2020-07-30T00:00:00\", \"2020-07-31T00:00:00\", \"2020-08-03T00:00:00\", \"2020-08-04T00:00:00\", \"2020-08-05T00:00:00\", \"2020-08-06T00:00:00\", \"2020-08-07T00:00:00\", \"2020-08-10T00:00:00\", \"2020-08-11T00:00:00\", \"2020-08-12T00:00:00\", \"2020-08-13T00:00:00\", \"2020-08-14T00:00:00\", \"2020-08-17T00:00:00\", \"2020-08-18T00:00:00\", \"2020-08-19T00:00:00\", \"2020-08-20T00:00:00\", \"2020-08-21T00:00:00\", \"2020-08-24T00:00:00\", \"2020-08-25T00:00:00\", \"2020-08-26T00:00:00\", \"2020-08-27T00:00:00\", \"2020-08-28T00:00:00\", \"2020-08-31T00:00:00\", \"2020-09-01T00:00:00\", \"2020-09-02T00:00:00\", \"2020-09-03T00:00:00\", \"2020-09-04T00:00:00\", \"2020-09-09T00:00:00\", \"2020-09-10T00:00:00\", \"2020-09-11T00:00:00\", \"2020-09-14T00:00:00\", \"2020-09-15T00:00:00\", \"2020-09-16T00:00:00\", \"2020-09-17T00:00:00\", \"2020-09-18T00:00:00\", \"2020-09-21T00:00:00\", \"2020-09-22T00:00:00\", \"2020-09-23T00:00:00\", \"2020-09-24T00:00:00\", \"2020-09-25T00:00:00\", \"2020-09-28T00:00:00\", \"2020-09-29T00:00:00\", \"2020-09-30T00:00:00\", \"2020-10-01T00:00:00\", \"2020-10-02T00:00:00\", \"2020-10-05T00:00:00\", \"2020-10-06T00:00:00\", \"2020-10-07T00:00:00\", \"2020-10-08T00:00:00\", \"2020-10-09T00:00:00\", \"2020-10-12T00:00:00\", \"2020-10-13T00:00:00\", \"2020-10-14T00:00:00\", \"2020-10-15T00:00:00\", \"2020-10-16T00:00:00\", \"2020-10-19T00:00:00\", \"2020-10-20T00:00:00\", \"2020-10-21T00:00:00\", \"2020-10-22T00:00:00\", \"2020-10-23T00:00:00\", \"2020-10-26T00:00:00\", \"2020-10-27T00:00:00\", \"2020-10-28T00:00:00\", \"2020-10-29T00:00:00\", \"2020-10-30T00:00:00\", \"2020-11-02T00:00:00\", \"2020-11-03T00:00:00\", \"2020-11-04T00:00:00\", \"2020-11-05T00:00:00\", \"2020-11-06T00:00:00\", \"2020-11-09T00:00:00\", \"2020-11-10T00:00:00\", \"2020-11-11T00:00:00\", \"2020-11-12T00:00:00\", \"2020-11-13T00:00:00\", \"2020-11-16T00:00:00\", \"2020-11-17T00:00:00\", \"2020-11-18T00:00:00\", \"2020-11-19T00:00:00\", \"2020-11-20T00:00:00\", \"2020-11-23T00:00:00\", \"2020-11-24T00:00:00\", \"2020-11-25T00:00:00\", \"2020-11-30T00:00:00\", \"2020-12-01T00:00:00\", \"2020-12-02T00:00:00\", \"2020-12-03T00:00:00\", \"2020-12-04T00:00:00\", \"2020-12-07T00:00:00\", \"2020-12-08T00:00:00\", \"2020-12-09T00:00:00\", \"2020-12-10T00:00:00\", \"2020-12-11T00:00:00\", \"2020-12-14T00:00:00\", \"2020-12-15T00:00:00\", \"2020-12-16T00:00:00\", \"2020-12-17T00:00:00\", \"2020-12-18T00:00:00\", \"2020-12-21T00:00:00\", \"2020-12-22T00:00:00\", \"2020-12-23T00:00:00\", \"2020-12-24T00:00:00\", \"2020-12-29T00:00:00\", \"2020-12-30T00:00:00\", \"2020-12-31T00:00:00\"], \"y\": [0.0019685282320272, -0.002005553841406882, -0.0010408390764247155, 0.007240686350286074, 0.0008477188655982015, 0.0033495033495034576, 0.004697004697004514, 0.002494148344269087, 0.008353770692826501, 0.008803490775472822, -0.0035665503111246277, -0.0035665503111246277, -0.00951945777168528, -0.013993541442411161, -0.007765646624634748, 0.0017935121646910357, -0.0006974041069353065, -0.014166731532653465, 0.0033951835767862537, 0.01539676273193824, 0.03021718602455148, 0.018429237947122923, -0.005346776657500718, 0.0027645522961143865, 0.007218553217631651, 0.00934293153622301, 0.002973467520585693, -0.0026555386949925763, -0.0009128946367438218, -0.0017497147204259544, -0.005330084519911793, -0.030697389573604794, -0.0613947791472097, -0.04059390301690091, -0.051137753853682355, -0.056387882779058374, 0.04492715693971916, 0.01587717002529887, 0.012856904324594964, 0.007471017604121943, -0.050280250576986485, -0.0812358965457386, -0.04035757680958174, -0.008029472888720912, -0.14533779506195166, -0.019569564803352146, -0.11242775970084018, -0.056189597396920976, -0.0038301597723789937, -0.06679016157250173, -0.05075249917609581, -0.04305057285036451, 0.0531188519847241, 0.1141613254323377, 0.07703296703296703, 0.034082275046130484, 0.028865330114411725, 0.010181589167628902, -0.061824117527035316, -0.021300914380714797, 0.008481948673336293, 0.06232477895190858, 0.06653008410610317, 0.04455948030856671, 0.06328985946820342, 0.002186935437862525, -0.026053056955405496, -0.029269449715370044, 0.035341208630284004, -0.020650636492220653, -0.04714757190004715, -0.011457731561717699, 0.016279069767441756, 0.013051524301159079, 0.02086337852129594, 0.025286030189404896, 0.02392164249387818, -0.001781695423855978, -0.047461368653421654, -0.0004828118964851358, 0.004055619930475096, -0.0108202106076708, -0.0057703404500866196, 0.03164371520656317, -0.006626905235254998, -0.02707564138975671, -0.04298103497569816, -0.008173591515033496, 0.015036845249950304, 0.040518002550770094, 0.023349357402138615, -0.0016028663020931644, 0.008723995781804161, -0.006044007932760387, 0.04874109263657944, 0.0442755344418051, -0.0038956332668961258, 0.0033651659845383985, 0.013096862210095539, 0.029006526468455363, 0.023700511715593953, 0.03453136011275548, 0.019158719346048958, -0.00034059945504083533, -0.03943520761968422, -0.08432708688245316, -0.050273984517700265, 0.002381170436853264, 0.02106420001831677, 0.007492005481955166, -0.011122073728585424, -0.008252471207037204, -0.001005852231163118, 0.000822970007315238, -0.02608695652173909, -0.01763362265874835, -0.010996240601503726, 0.016915328328423573, 0.028223890525515438, 0.01084010840108407, 0.004713493530499102, -0.003863490019317295, -0.0020237328672615407, -0.013944039154123233, 0.001843487879067185, 0.0013800717637317828, 0.01692888030177575, 0.029125321572951224, 0.013480503030851354, 0.0031247210070528553, -0.0077429690281238805, 0.0037379850480598886, 0.017669746165575484, 0.005408760418514014, -0.007756037369998192, 0.0003553028957186122, -0.0006217800675074603, 0.01012253596164081, 0.0003555239534263066, -0.013273558368495086, 0.002761692650333991, 0.008195991091314081, 0.011194029850746245, 0.005566846337368592, 0.011597258829731283, 0.009553586937641079, 0.00694806322737529, 0.004387474191328344, -0.00043125754700701346, -0.005310492505353315, -0.0019805390510633236, -0.005683285972616914, -0.007765314926660993, -0.009526283883259712, -0.0055652173913043335, 0.01364113326337879, 0.012416928996152432, -0.0038819875776398005, 0.0045776472620486786, 0.014029618082618933, -0.007600990690921572, -0.007686395080707231, 0.017125645438898385, -0.001635252603494286, -0.018698705474236355, -0.0068977409898257624, -0.022072771167442662, -0.009984372286855447, 0.013066736823642788, 0.011225116197491891, 0.005020775623268747, 0.0021680686844158803, -0.01283376399655467, -0.02198761015618178, -0.02111508594363498, -0.025247568917833862, -0.024779392102682984, 0.013088046860699087, 0.015358207606829932, 0.007588761405727729, 0.0011566865379482039, 0.00950416928180764, 0.0027550657660859734, 0.015775946113622208, 0.005760879198794644, 0.006020417066573636, 0.02890377158970736, 0.014570685169124076, 0.007266199350316249, -0.002735510343648495, -0.015870321649834596, -0.002914452254414557, 0.006553984132459556, -0.013622344071281711, -0.010195339273474935, 0.00017371666811438757, 0.009607894053492494, 0.015197568389057725, -0.019076133447391008, -0.031736526946107846, -0.0414232144414407, -0.024383779485820267, 0.005185589519650646, 0.01846320934021195, 0.03710743053670029, 0.020616724429041167, 0.01719172702679117, 0.01184153243360897, 0.03992771706393605, 0.05455640650546423, 0.01059164253206446, -0.015830273357813174, 0.006304757225906954, 0.01733116354759967, 0.01228641171684286, -0.017435815404303057, -0.011333494092114704, -0.0034188034188032956, 0.013395409621824506, 0.03471371395899703, 0.014910937374063016, -0.010403430749682308, -0.002382465057179095, 0.014846320520022438, 0.008995382900812032, 0.013680215087774839, -0.005850690381465018, -0.0017162025118964142, 0.0040018832391715, -0.0027350160193795325, -0.006096131301289609, -0.016670598411575144, -0.003145395926712369, 0.010635745701719213, 0.002603139544056221, 0.0005538851084032625, -0.004903123764333772, -0.01249505733491496, -0.0003178892156082691, 0.010010410827260285, 0.002537266095781643, 0.006977481763399851, 0.012496045555204116]}, {\"marker\": {\"color\": \"royalblue\"}, \"mode\": \"lines\", \"name\": \"stds\", \"type\": \"scatter\", \"x\": [\"2020-01-06T00:00:00\", \"2020-01-07T00:00:00\", \"2020-01-08T00:00:00\", \"2020-01-09T00:00:00\", \"2020-01-10T00:00:00\", \"2020-01-13T00:00:00\", \"2020-01-14T00:00:00\", \"2020-01-15T00:00:00\", \"2020-01-16T00:00:00\", \"2020-01-17T00:00:00\", \"2020-01-22T00:00:00\", \"2020-01-23T00:00:00\", \"2020-01-24T00:00:00\", \"2020-01-27T00:00:00\", \"2020-01-28T00:00:00\", \"2020-01-29T00:00:00\", \"2020-01-30T00:00:00\", \"2020-01-31T00:00:00\", \"2020-02-03T00:00:00\", \"2020-02-04T00:00:00\", \"2020-02-05T00:00:00\", \"2020-02-06T00:00:00\", \"2020-02-07T00:00:00\", \"2020-02-10T00:00:00\", \"2020-02-11T00:00:00\", \"2020-02-12T00:00:00\", \"2020-02-13T00:00:00\", \"2020-02-14T00:00:00\", \"2020-02-19T00:00:00\", \"2020-02-20T00:00:00\", \"2020-02-21T00:00:00\", \"2020-02-24T00:00:00\", \"2020-02-25T00:00:00\", \"2020-02-26T00:00:00\", \"2020-02-27T00:00:00\", \"2020-02-28T00:00:00\", \"2020-03-02T00:00:00\", \"2020-03-03T00:00:00\", \"2020-03-04T00:00:00\", \"2020-03-05T00:00:00\", \"2020-03-06T00:00:00\", \"2020-03-09T00:00:00\", \"2020-03-10T00:00:00\", \"2020-03-11T00:00:00\", \"2020-03-12T00:00:00\", \"2020-03-13T00:00:00\", \"2020-03-16T00:00:00\", \"2020-03-17T00:00:00\", \"2020-03-18T00:00:00\", \"2020-03-19T00:00:00\", \"2020-03-20T00:00:00\", \"2020-03-23T00:00:00\", \"2020-03-24T00:00:00\", \"2020-03-25T00:00:00\", \"2020-03-26T00:00:00\", \"2020-03-27T00:00:00\", \"2020-03-30T00:00:00\", \"2020-03-31T00:00:00\", \"2020-04-01T00:00:00\", \"2020-04-02T00:00:00\", \"2020-04-03T00:00:00\", \"2020-04-06T00:00:00\", \"2020-04-07T00:00:00\", \"2020-04-08T00:00:00\", \"2020-04-09T00:00:00\", \"2020-04-14T00:00:00\", \"2020-04-15T00:00:00\", \"2020-04-16T00:00:00\", \"2020-04-17T00:00:00\", \"2020-04-20T00:00:00\", \"2020-04-21T00:00:00\", \"2020-04-22T00:00:00\", \"2020-04-23T00:00:00\", \"2020-04-24T00:00:00\", \"2020-04-27T00:00:00\", \"2020-04-28T00:00:00\", \"2020-04-29T00:00:00\", \"2020-04-30T00:00:00\", \"2020-05-01T00:00:00\", \"2020-05-04T00:00:00\", \"2020-05-05T00:00:00\", \"2020-05-06T00:00:00\", \"2020-05-07T00:00:00\", \"2020-05-08T00:00:00\", \"2020-05-11T00:00:00\", \"2020-05-12T00:00:00\", \"2020-05-13T00:00:00\", \"2020-05-14T00:00:00\", \"2020-05-15T00:00:00\", \"2020-05-18T00:00:00\", \"2020-05-19T00:00:00\", \"2020-05-20T00:00:00\", \"2020-05-21T00:00:00\", \"2020-05-22T00:00:00\", \"2020-05-27T00:00:00\", \"2020-05-28T00:00:00\", \"2020-05-29T00:00:00\", \"2020-06-01T00:00:00\", \"2020-06-02T00:00:00\", \"2020-06-03T00:00:00\", \"2020-06-04T00:00:00\", \"2020-06-05T00:00:00\", \"2020-06-08T00:00:00\", \"2020-06-09T00:00:00\", \"2020-06-10T00:00:00\", \"2020-06-11T00:00:00\", \"2020-06-12T00:00:00\", \"2020-06-15T00:00:00\", \"2020-06-16T00:00:00\", \"2020-06-17T00:00:00\", \"2020-06-18T00:00:00\", \"2020-06-19T00:00:00\", \"2020-06-22T00:00:00\", \"2020-06-23T00:00:00\", \"2020-06-24T00:00:00\", \"2020-06-25T00:00:00\", \"2020-06-26T00:00:00\", \"2020-06-29T00:00:00\", \"2020-06-30T00:00:00\", \"2020-07-01T00:00:00\", \"2020-07-02T00:00:00\", \"2020-07-07T00:00:00\", \"2020-07-08T00:00:00\", \"2020-07-09T00:00:00\", \"2020-07-10T00:00:00\", \"2020-07-13T00:00:00\", \"2020-07-14T00:00:00\", \"2020-07-15T00:00:00\", \"2020-07-16T00:00:00\", \"2020-07-17T00:00:00\", \"2020-07-20T00:00:00\", \"2020-07-21T00:00:00\", \"2020-07-22T00:00:00\", \"2020-07-23T00:00:00\", \"2020-07-24T00:00:00\", \"2020-07-27T00:00:00\", \"2020-07-28T00:00:00\", \"2020-07-29T00:00:00\", \"2020-07-30T00:00:00\", \"2020-07-31T00:00:00\", \"2020-08-03T00:00:00\", \"2020-08-04T00:00:00\", \"2020-08-05T00:00:00\", \"2020-08-06T00:00:00\", \"2020-08-07T00:00:00\", \"2020-08-10T00:00:00\", \"2020-08-11T00:00:00\", \"2020-08-12T00:00:00\", \"2020-08-13T00:00:00\", \"2020-08-14T00:00:00\", \"2020-08-17T00:00:00\", \"2020-08-18T00:00:00\", \"2020-08-19T00:00:00\", \"2020-08-20T00:00:00\", \"2020-08-21T00:00:00\", \"2020-08-24T00:00:00\", \"2020-08-25T00:00:00\", \"2020-08-26T00:00:00\", \"2020-08-27T00:00:00\", \"2020-08-28T00:00:00\", \"2020-08-31T00:00:00\", \"2020-09-01T00:00:00\", \"2020-09-02T00:00:00\", \"2020-09-03T00:00:00\", \"2020-09-04T00:00:00\", \"2020-09-09T00:00:00\", \"2020-09-10T00:00:00\", \"2020-09-11T00:00:00\", \"2020-09-14T00:00:00\", \"2020-09-15T00:00:00\", \"2020-09-16T00:00:00\", \"2020-09-17T00:00:00\", \"2020-09-18T00:00:00\", \"2020-09-21T00:00:00\", \"2020-09-22T00:00:00\", \"2020-09-23T00:00:00\", \"2020-09-24T00:00:00\", \"2020-09-25T00:00:00\", \"2020-09-28T00:00:00\", \"2020-09-29T00:00:00\", \"2020-09-30T00:00:00\", \"2020-10-01T00:00:00\", \"2020-10-02T00:00:00\", \"2020-10-05T00:00:00\", \"2020-10-06T00:00:00\", \"2020-10-07T00:00:00\", \"2020-10-08T00:00:00\", \"2020-10-09T00:00:00\", \"2020-10-12T00:00:00\", \"2020-10-13T00:00:00\", \"2020-10-14T00:00:00\", \"2020-10-15T00:00:00\", \"2020-10-16T00:00:00\", \"2020-10-19T00:00:00\", \"2020-10-20T00:00:00\", \"2020-10-21T00:00:00\", \"2020-10-22T00:00:00\", \"2020-10-23T00:00:00\", \"2020-10-26T00:00:00\", \"2020-10-27T00:00:00\", \"2020-10-28T00:00:00\", \"2020-10-29T00:00:00\", \"2020-10-30T00:00:00\", \"2020-11-02T00:00:00\", \"2020-11-03T00:00:00\", \"2020-11-04T00:00:00\", \"2020-11-05T00:00:00\", \"2020-11-06T00:00:00\", \"2020-11-09T00:00:00\", \"2020-11-10T00:00:00\", \"2020-11-11T00:00:00\", \"2020-11-12T00:00:00\", \"2020-11-13T00:00:00\", \"2020-11-16T00:00:00\", \"2020-11-17T00:00:00\", \"2020-11-18T00:00:00\", \"2020-11-19T00:00:00\", \"2020-11-20T00:00:00\", \"2020-11-23T00:00:00\", \"2020-11-24T00:00:00\", \"2020-11-25T00:00:00\", \"2020-11-30T00:00:00\", \"2020-12-01T00:00:00\", \"2020-12-02T00:00:00\", \"2020-12-03T00:00:00\", \"2020-12-04T00:00:00\", \"2020-12-07T00:00:00\", \"2020-12-08T00:00:00\", \"2020-12-09T00:00:00\", \"2020-12-10T00:00:00\", \"2020-12-11T00:00:00\", \"2020-12-14T00:00:00\", \"2020-12-15T00:00:00\", \"2020-12-16T00:00:00\", \"2020-12-17T00:00:00\", \"2020-12-18T00:00:00\", \"2020-12-21T00:00:00\", \"2020-12-22T00:00:00\", \"2020-12-23T00:00:00\", \"2020-12-24T00:00:00\", \"2020-12-29T00:00:00\", \"2020-12-30T00:00:00\", \"2020-12-31T00:00:00\"], \"y\": [null, 0.0028101003831171346, 0.00203514033896424, 0.004273789034979978, 0.0036623805158011234, 0.003321807056482279, 0.003199974795897709, 0.0029142083998737814, 0.003476902705334691, 0.0037879234804046513, 0.004373621237529323, 0.004650778136755023, 0.0058149559964945415, 0.007261140209038614, 0.007227657546143446, 0.006922481732391776, 0.0065829394440845195, 0.007381022785809528, 0.007224478280356247, 0.008463243953266667, 0.011833154683461834, 0.012200932556809143, 0.011957212291754919, 0.011472294214622274, 0.011078838486813588, 0.010773681764919517, 0.010360991783274662, 0.01010835172053707, 0.00979055470642012, 0.009507719180652257, 0.009390523684052339, 0.012431121741100438, 0.019873306182160422, 0.021313016333975813, 0.02348986900151947, 0.025597422645175484, 0.02882787207096419, 0.028567832275680532, 0.028080421026920484, 0.02735271103024134, 0.028765443654764494, 0.033321717609865714, 0.03293676043783554, 0.03189330228518016, 0.044983618871816344, 0.04351689584551795, 0.04767221007124572, 0.04663785886622341, 0.04559643883723715, 0.045134672697867965, 0.04395655324557614, 0.04262986133570266, 0.046404107189374696, 0.05690206033989143, 0.05991126097729475, 0.059130727737957016, 0.05803148806183405, 0.05635544286454932, 0.05625799695397982, 0.0545567528740761, 0.05303781702501833, 0.05427249847949958, 0.05538737379307608, 0.05476188922632805, 0.055093047565722135, 0.053376262728648705, 0.052293188311954765, 0.051304412581583816, 0.05036708407434646, 0.04916401481736072, 0.04914382790542355, 0.04768677227101995, 0.04639938846979519, 0.04507139023351964, 0.043947286709878707, 0.0429618457844193, 0.04192932320422278, 0.04065749604176929, 0.04135116727042666, 0.040070869810249723, 0.038836563817151865, 0.03774546207771522, 0.03660743276818874, 0.03629759140463672, 0.03523614525341755, 0.034841383255032526, 0.03531965222822263, 0.034251702122604415, 0.0334883494548791, 0.034065494865896245, 0.0334772495027796, 0.032454315699068675, 0.03149902999799772, 0.030590373708803558, 0.031778833721842634, 0.03227911368572683, 0.031392210930832325, 0.03043167307843523, 0.02954257394728988, 0.029148772329204552, 0.028510711053747684, 0.02832780062520286, 0.027537166624800623, 0.026827303721147853, 0.028655319387516386, 0.035557474719587694, 0.03669140817042753, 0.03557319934817445, 0.03489986919142239, 0.03387217673354174, 0.03295023251919094, 0.03199527553759308, 0.031009772353606007, 0.030056775164844497, 0.02978008454700611, 0.029106552621530526, 0.02827543584071547, 0.027850597349665114, 0.027990259412623605, 0.027266384998062686, 0.02644916643941133, 0.025656504973412344, 0.02487250496650625, 0.024345809618436746, 0.023604621012778004, 0.022882883985447106, 0.02257642143328671, 0.02295013287429698, 0.022407930271115272, 0.021718095953953707, 0.021209826405505956, 0.02055966046458375, 0.020266546677106458, 0.019648990858120267, 0.019237826289856874, 0.018654999343973324, 0.01809810239961389, 0.017639384129968346, 0.017107653081323868, 0.01703054798985922, 0.01650801216157565, 0.016073765620398094, 0.015729815794079536, 0.015260665570439737, 0.014938985618228767, 0.014554130932410963, 0.014126304451381124, 0.013691780519236564, 0.013314699496951238, 0.013091547810552743, 0.012751210118298899, 0.012533088203210287, 0.012394262320639421, 0.012321174839554472, 0.012050399163934697, 0.012094465619972631, 0.012018848193571277, 0.011739873196270801, 0.011398889844803648, 0.011430229812059083, 0.011354932045500617, 0.011255709720342929, 0.011551471798774462, 0.011238792081921974, 0.012009802399283367, 0.011792653235011665, 0.012664530028248615, 0.012469179082519497, 0.012589764621070523, 0.012534680128947697, 0.012206997596180512, 0.011838962645328228, 0.011922362081106698, 0.012696152584727827, 0.0131829472192012, 0.013888868765819198, 0.01436038172490925, 0.014622276042076277, 0.014950495131465322, 0.014719782570824335, 0.014293406312473254, 0.014142263026776559, 0.013746011586153732, 0.01394800904080324, 0.013596329517697089, 0.013254757697200975, 0.014576236308127542, 0.014441511205964808, 0.01403579992900931, 0.013680408550291357, 0.014015774153864787, 0.013631002402346402, 0.013269323353278257, 0.013390538819133463, 0.013250598486826796, 0.012842788160200045, 0.012656535786135324, 0.012758433165153252, 0.013343804292300029, 0.015092719983676981, 0.017528074081157273, 0.017692420765072776, 0.017333139156922733, 0.017706213110383402, 0.019749323743933518, 0.01983097392303075, 0.01964047258519736, 0.019199122800998922, 0.02073829361879563, 0.023484982879878002, 0.022774612576114742, 0.022797469156180892, 0.022095842206850725, 0.021583452904415223, 0.02095949165724539, 0.021177707105594086, 0.020939839744159618, 0.02039106241340411, 0.019888089007077663, 0.020596473809492095, 0.020064084745224704, 0.01990415616334742, 0.019399311887466623, 0.018937450166980632, 0.018368092632570228, 0.01789319845372525, 0.017608167893274712, 0.017167324159935327, 0.016642891985703828, 0.01625083572763, 0.015975021884824577, 0.016292193015082296, 0.015860308726134136, 0.015495025647417048, 0.015018604687027584, 0.014569061301267137, 0.014247097654711991, 0.014275099649429114, 0.013843013062651439, 0.013577691951120647, 0.013160615224373114, 0.012813087893283823, 0.012663359114628663]}, {\"marker\": {\"color\": \"royalblue\"}, \"mode\": \"lines\", \"name\": \"-stds\", \"type\": \"scatter\", \"x\": [\"2020-01-06T00:00:00\", \"2020-01-07T00:00:00\", \"2020-01-08T00:00:00\", \"2020-01-09T00:00:00\", \"2020-01-10T00:00:00\", \"2020-01-13T00:00:00\", \"2020-01-14T00:00:00\", \"2020-01-15T00:00:00\", \"2020-01-16T00:00:00\", \"2020-01-17T00:00:00\", \"2020-01-22T00:00:00\", \"2020-01-23T00:00:00\", \"2020-01-24T00:00:00\", \"2020-01-27T00:00:00\", \"2020-01-28T00:00:00\", \"2020-01-29T00:00:00\", \"2020-01-30T00:00:00\", \"2020-01-31T00:00:00\", \"2020-02-03T00:00:00\", \"2020-02-04T00:00:00\", \"2020-02-05T00:00:00\", \"2020-02-06T00:00:00\", \"2020-02-07T00:00:00\", \"2020-02-10T00:00:00\", \"2020-02-11T00:00:00\", \"2020-02-12T00:00:00\", \"2020-02-13T00:00:00\", \"2020-02-14T00:00:00\", \"2020-02-19T00:00:00\", \"2020-02-20T00:00:00\", \"2020-02-21T00:00:00\", \"2020-02-24T00:00:00\", \"2020-02-25T00:00:00\", \"2020-02-26T00:00:00\", \"2020-02-27T00:00:00\", \"2020-02-28T00:00:00\", \"2020-03-02T00:00:00\", \"2020-03-03T00:00:00\", \"2020-03-04T00:00:00\", \"2020-03-05T00:00:00\", \"2020-03-06T00:00:00\", \"2020-03-09T00:00:00\", \"2020-03-10T00:00:00\", \"2020-03-11T00:00:00\", \"2020-03-12T00:00:00\", \"2020-03-13T00:00:00\", \"2020-03-16T00:00:00\", \"2020-03-17T00:00:00\", \"2020-03-18T00:00:00\", \"2020-03-19T00:00:00\", \"2020-03-20T00:00:00\", \"2020-03-23T00:00:00\", \"2020-03-24T00:00:00\", \"2020-03-25T00:00:00\", \"2020-03-26T00:00:00\", \"2020-03-27T00:00:00\", \"2020-03-30T00:00:00\", \"2020-03-31T00:00:00\", \"2020-04-01T00:00:00\", \"2020-04-02T00:00:00\", \"2020-04-03T00:00:00\", \"2020-04-06T00:00:00\", \"2020-04-07T00:00:00\", \"2020-04-08T00:00:00\", \"2020-04-09T00:00:00\", \"2020-04-14T00:00:00\", \"2020-04-15T00:00:00\", \"2020-04-16T00:00:00\", \"2020-04-17T00:00:00\", \"2020-04-20T00:00:00\", \"2020-04-21T00:00:00\", \"2020-04-22T00:00:00\", \"2020-04-23T00:00:00\", \"2020-04-24T00:00:00\", \"2020-04-27T00:00:00\", \"2020-04-28T00:00:00\", \"2020-04-29T00:00:00\", \"2020-04-30T00:00:00\", \"2020-05-01T00:00:00\", \"2020-05-04T00:00:00\", \"2020-05-05T00:00:00\", \"2020-05-06T00:00:00\", \"2020-05-07T00:00:00\", \"2020-05-08T00:00:00\", \"2020-05-11T00:00:00\", \"2020-05-12T00:00:00\", \"2020-05-13T00:00:00\", \"2020-05-14T00:00:00\", \"2020-05-15T00:00:00\", \"2020-05-18T00:00:00\", \"2020-05-19T00:00:00\", \"2020-05-20T00:00:00\", \"2020-05-21T00:00:00\", \"2020-05-22T00:00:00\", \"2020-05-27T00:00:00\", \"2020-05-28T00:00:00\", \"2020-05-29T00:00:00\", \"2020-06-01T00:00:00\", \"2020-06-02T00:00:00\", \"2020-06-03T00:00:00\", \"2020-06-04T00:00:00\", \"2020-06-05T00:00:00\", \"2020-06-08T00:00:00\", \"2020-06-09T00:00:00\", \"2020-06-10T00:00:00\", \"2020-06-11T00:00:00\", \"2020-06-12T00:00:00\", \"2020-06-15T00:00:00\", \"2020-06-16T00:00:00\", \"2020-06-17T00:00:00\", \"2020-06-18T00:00:00\", \"2020-06-19T00:00:00\", \"2020-06-22T00:00:00\", \"2020-06-23T00:00:00\", \"2020-06-24T00:00:00\", \"2020-06-25T00:00:00\", \"2020-06-26T00:00:00\", \"2020-06-29T00:00:00\", \"2020-06-30T00:00:00\", \"2020-07-01T00:00:00\", \"2020-07-02T00:00:00\", \"2020-07-07T00:00:00\", \"2020-07-08T00:00:00\", \"2020-07-09T00:00:00\", \"2020-07-10T00:00:00\", \"2020-07-13T00:00:00\", \"2020-07-14T00:00:00\", \"2020-07-15T00:00:00\", \"2020-07-16T00:00:00\", \"2020-07-17T00:00:00\", \"2020-07-20T00:00:00\", \"2020-07-21T00:00:00\", \"2020-07-22T00:00:00\", \"2020-07-23T00:00:00\", \"2020-07-24T00:00:00\", \"2020-07-27T00:00:00\", \"2020-07-28T00:00:00\", \"2020-07-29T00:00:00\", \"2020-07-30T00:00:00\", \"2020-07-31T00:00:00\", \"2020-08-03T00:00:00\", \"2020-08-04T00:00:00\", \"2020-08-05T00:00:00\", \"2020-08-06T00:00:00\", \"2020-08-07T00:00:00\", \"2020-08-10T00:00:00\", \"2020-08-11T00:00:00\", \"2020-08-12T00:00:00\", \"2020-08-13T00:00:00\", \"2020-08-14T00:00:00\", \"2020-08-17T00:00:00\", \"2020-08-18T00:00:00\", \"2020-08-19T00:00:00\", \"2020-08-20T00:00:00\", \"2020-08-21T00:00:00\", \"2020-08-24T00:00:00\", \"2020-08-25T00:00:00\", \"2020-08-26T00:00:00\", \"2020-08-27T00:00:00\", \"2020-08-28T00:00:00\", \"2020-08-31T00:00:00\", \"2020-09-01T00:00:00\", \"2020-09-02T00:00:00\", \"2020-09-03T00:00:00\", \"2020-09-04T00:00:00\", \"2020-09-09T00:00:00\", \"2020-09-10T00:00:00\", \"2020-09-11T00:00:00\", \"2020-09-14T00:00:00\", \"2020-09-15T00:00:00\", \"2020-09-16T00:00:00\", \"2020-09-17T00:00:00\", \"2020-09-18T00:00:00\", \"2020-09-21T00:00:00\", \"2020-09-22T00:00:00\", \"2020-09-23T00:00:00\", \"2020-09-24T00:00:00\", \"2020-09-25T00:00:00\", \"2020-09-28T00:00:00\", \"2020-09-29T00:00:00\", \"2020-09-30T00:00:00\", \"2020-10-01T00:00:00\", \"2020-10-02T00:00:00\", \"2020-10-05T00:00:00\", \"2020-10-06T00:00:00\", \"2020-10-07T00:00:00\", \"2020-10-08T00:00:00\", \"2020-10-09T00:00:00\", \"2020-10-12T00:00:00\", \"2020-10-13T00:00:00\", \"2020-10-14T00:00:00\", \"2020-10-15T00:00:00\", \"2020-10-16T00:00:00\", \"2020-10-19T00:00:00\", \"2020-10-20T00:00:00\", \"2020-10-21T00:00:00\", \"2020-10-22T00:00:00\", \"2020-10-23T00:00:00\", \"2020-10-26T00:00:00\", \"2020-10-27T00:00:00\", \"2020-10-28T00:00:00\", \"2020-10-29T00:00:00\", \"2020-10-30T00:00:00\", \"2020-11-02T00:00:00\", \"2020-11-03T00:00:00\", \"2020-11-04T00:00:00\", \"2020-11-05T00:00:00\", \"2020-11-06T00:00:00\", \"2020-11-09T00:00:00\", \"2020-11-10T00:00:00\", \"2020-11-11T00:00:00\", \"2020-11-12T00:00:00\", \"2020-11-13T00:00:00\", \"2020-11-16T00:00:00\", \"2020-11-17T00:00:00\", \"2020-11-18T00:00:00\", \"2020-11-19T00:00:00\", \"2020-11-20T00:00:00\", \"2020-11-23T00:00:00\", \"2020-11-24T00:00:00\", \"2020-11-25T00:00:00\", \"2020-11-30T00:00:00\", \"2020-12-01T00:00:00\", \"2020-12-02T00:00:00\", \"2020-12-03T00:00:00\", \"2020-12-04T00:00:00\", \"2020-12-07T00:00:00\", \"2020-12-08T00:00:00\", \"2020-12-09T00:00:00\", \"2020-12-10T00:00:00\", \"2020-12-11T00:00:00\", \"2020-12-14T00:00:00\", \"2020-12-15T00:00:00\", \"2020-12-16T00:00:00\", \"2020-12-17T00:00:00\", \"2020-12-18T00:00:00\", \"2020-12-21T00:00:00\", \"2020-12-22T00:00:00\", \"2020-12-23T00:00:00\", \"2020-12-24T00:00:00\", \"2020-12-29T00:00:00\", \"2020-12-30T00:00:00\", \"2020-12-31T00:00:00\"], \"y\": [null, -0.0028101003831171346, -0.00203514033896424, -0.004273789034979978, -0.0036623805158011234, -0.003321807056482279, -0.003199974795897709, -0.0029142083998737814, -0.003476902705334691, -0.0037879234804046513, -0.004373621237529323, -0.004650778136755023, -0.0058149559964945415, -0.007261140209038614, -0.007227657546143446, -0.006922481732391776, -0.0065829394440845195, -0.007381022785809528, -0.007224478280356247, -0.008463243953266667, -0.011833154683461834, -0.012200932556809143, -0.011957212291754919, -0.011472294214622274, -0.011078838486813588, -0.010773681764919517, -0.010360991783274662, -0.01010835172053707, -0.00979055470642012, -0.009507719180652257, -0.009390523684052339, -0.012431121741100438, -0.019873306182160422, -0.021313016333975813, -0.02348986900151947, -0.025597422645175484, -0.02882787207096419, -0.028567832275680532, -0.028080421026920484, -0.02735271103024134, -0.028765443654764494, -0.033321717609865714, -0.03293676043783554, -0.03189330228518016, -0.044983618871816344, -0.04351689584551795, -0.04767221007124572, -0.04663785886622341, -0.04559643883723715, -0.045134672697867965, -0.04395655324557614, -0.04262986133570266, -0.046404107189374696, -0.05690206033989143, -0.05991126097729475, -0.059130727737957016, -0.05803148806183405, -0.05635544286454932, -0.05625799695397982, -0.0545567528740761, -0.05303781702501833, -0.05427249847949958, -0.05538737379307608, -0.05476188922632805, -0.055093047565722135, -0.053376262728648705, -0.052293188311954765, -0.051304412581583816, -0.05036708407434646, -0.04916401481736072, -0.04914382790542355, -0.04768677227101995, -0.04639938846979519, -0.04507139023351964, -0.043947286709878707, -0.0429618457844193, -0.04192932320422278, -0.04065749604176929, -0.04135116727042666, -0.040070869810249723, -0.038836563817151865, -0.03774546207771522, -0.03660743276818874, -0.03629759140463672, -0.03523614525341755, -0.034841383255032526, -0.03531965222822263, -0.034251702122604415, -0.0334883494548791, -0.034065494865896245, -0.0334772495027796, -0.032454315699068675, -0.03149902999799772, -0.030590373708803558, -0.031778833721842634, -0.03227911368572683, -0.031392210930832325, -0.03043167307843523, -0.02954257394728988, -0.029148772329204552, -0.028510711053747684, -0.02832780062520286, -0.027537166624800623, -0.026827303721147853, -0.028655319387516386, -0.035557474719587694, -0.03669140817042753, -0.03557319934817445, -0.03489986919142239, -0.03387217673354174, -0.03295023251919094, -0.03199527553759308, -0.031009772353606007, -0.030056775164844497, -0.02978008454700611, -0.029106552621530526, -0.02827543584071547, -0.027850597349665114, -0.027990259412623605, -0.027266384998062686, -0.02644916643941133, -0.025656504973412344, -0.02487250496650625, -0.024345809618436746, -0.023604621012778004, -0.022882883985447106, -0.02257642143328671, -0.02295013287429698, -0.022407930271115272, -0.021718095953953707, -0.021209826405505956, -0.02055966046458375, -0.020266546677106458, -0.019648990858120267, -0.019237826289856874, -0.018654999343973324, -0.01809810239961389, -0.017639384129968346, -0.017107653081323868, -0.01703054798985922, -0.01650801216157565, -0.016073765620398094, -0.015729815794079536, -0.015260665570439737, -0.014938985618228767, -0.014554130932410963, -0.014126304451381124, -0.013691780519236564, -0.013314699496951238, -0.013091547810552743, -0.012751210118298899, -0.012533088203210287, -0.012394262320639421, -0.012321174839554472, -0.012050399163934697, -0.012094465619972631, -0.012018848193571277, -0.011739873196270801, -0.011398889844803648, -0.011430229812059083, -0.011354932045500617, -0.011255709720342929, -0.011551471798774462, -0.011238792081921974, -0.012009802399283367, -0.011792653235011665, -0.012664530028248615, -0.012469179082519497, -0.012589764621070523, -0.012534680128947697, -0.012206997596180512, -0.011838962645328228, -0.011922362081106698, -0.012696152584727827, -0.0131829472192012, -0.013888868765819198, -0.01436038172490925, -0.014622276042076277, -0.014950495131465322, -0.014719782570824335, -0.014293406312473254, -0.014142263026776559, -0.013746011586153732, -0.01394800904080324, -0.013596329517697089, -0.013254757697200975, -0.014576236308127542, -0.014441511205964808, -0.01403579992900931, -0.013680408550291357, -0.014015774153864787, -0.013631002402346402, -0.013269323353278257, -0.013390538819133463, -0.013250598486826796, -0.012842788160200045, -0.012656535786135324, -0.012758433165153252, -0.013343804292300029, -0.015092719983676981, -0.017528074081157273, -0.017692420765072776, -0.017333139156922733, -0.017706213110383402, -0.019749323743933518, -0.01983097392303075, -0.01964047258519736, -0.019199122800998922, -0.02073829361879563, -0.023484982879878002, -0.022774612576114742, -0.022797469156180892, -0.022095842206850725, -0.021583452904415223, -0.02095949165724539, -0.021177707105594086, -0.020939839744159618, -0.02039106241340411, -0.019888089007077663, -0.020596473809492095, -0.020064084745224704, -0.01990415616334742, -0.019399311887466623, -0.018937450166980632, -0.018368092632570228, -0.01789319845372525, -0.017608167893274712, -0.017167324159935327, -0.016642891985703828, -0.01625083572763, -0.015975021884824577, -0.016292193015082296, -0.015860308726134136, -0.015495025647417048, -0.015018604687027584, -0.014569061301267137, -0.014247097654711991, -0.014275099649429114, -0.013843013062651439, -0.013577691951120647, -0.013160615224373114, -0.012813087893283823, -0.012663359114628663]}],                        {\"template\": {\"data\": {\"bar\": [{\"error_x\": {\"color\": \"#2a3f5f\"}, \"error_y\": {\"color\": \"#2a3f5f\"}, \"marker\": {\"line\": {\"color\": \"#E5ECF6\", \"width\": 0.5}}, \"type\": \"bar\"}], \"barpolar\": [{\"marker\": {\"line\": {\"color\": \"#E5ECF6\", \"width\": 0.5}}, \"type\": \"barpolar\"}], \"carpet\": [{\"aaxis\": {\"endlinecolor\": \"#2a3f5f\", \"gridcolor\": \"white\", \"linecolor\": \"white\", \"minorgridcolor\": \"white\", \"startlinecolor\": \"#2a3f5f\"}, \"baxis\": {\"endlinecolor\": \"#2a3f5f\", \"gridcolor\": \"white\", \"linecolor\": \"white\", \"minorgridcolor\": \"white\", \"startlinecolor\": \"#2a3f5f\"}, \"type\": \"carpet\"}], \"choropleth\": [{\"colorbar\": {\"outlinewidth\": 0, \"ticks\": \"\"}, \"type\": \"choropleth\"}], \"contour\": [{\"colorbar\": {\"outlinewidth\": 0, \"ticks\": \"\"}, \"colorscale\": [[0.0, \"#0d0887\"], [0.1111111111111111, \"#46039f\"], [0.2222222222222222, \"#7201a8\"], [0.3333333333333333, \"#9c179e\"], [0.4444444444444444, \"#bd3786\"], [0.5555555555555556, \"#d8576b\"], [0.6666666666666666, \"#ed7953\"], [0.7777777777777778, \"#fb9f3a\"], [0.8888888888888888, \"#fdca26\"], [1.0, \"#f0f921\"]], \"type\": \"contour\"}], \"contourcarpet\": [{\"colorbar\": {\"outlinewidth\": 0, \"ticks\": \"\"}, \"type\": \"contourcarpet\"}], \"heatmap\": [{\"colorbar\": {\"outlinewidth\": 0, \"ticks\": \"\"}, \"colorscale\": [[0.0, \"#0d0887\"], [0.1111111111111111, \"#46039f\"], [0.2222222222222222, \"#7201a8\"], [0.3333333333333333, \"#9c179e\"], [0.4444444444444444, \"#bd3786\"], [0.5555555555555556, \"#d8576b\"], [0.6666666666666666, \"#ed7953\"], [0.7777777777777778, \"#fb9f3a\"], [0.8888888888888888, \"#fdca26\"], [1.0, \"#f0f921\"]], \"type\": \"heatmap\"}], \"heatmapgl\": [{\"colorbar\": {\"outlinewidth\": 0, \"ticks\": \"\"}, \"colorscale\": [[0.0, \"#0d0887\"], [0.1111111111111111, \"#46039f\"], [0.2222222222222222, \"#7201a8\"], [0.3333333333333333, \"#9c179e\"], [0.4444444444444444, \"#bd3786\"], [0.5555555555555556, \"#d8576b\"], [0.6666666666666666, \"#ed7953\"], [0.7777777777777778, \"#fb9f3a\"], [0.8888888888888888, \"#fdca26\"], [1.0, \"#f0f921\"]], \"type\": \"heatmapgl\"}], \"histogram\": [{\"marker\": {\"colorbar\": {\"outlinewidth\": 0, \"ticks\": \"\"}}, \"type\": \"histogram\"}], \"histogram2d\": [{\"colorbar\": {\"outlinewidth\": 0, \"ticks\": \"\"}, \"colorscale\": [[0.0, \"#0d0887\"], [0.1111111111111111, \"#46039f\"], [0.2222222222222222, \"#7201a8\"], [0.3333333333333333, \"#9c179e\"], [0.4444444444444444, \"#bd3786\"], [0.5555555555555556, \"#d8576b\"], [0.6666666666666666, \"#ed7953\"], [0.7777777777777778, \"#fb9f3a\"], [0.8888888888888888, \"#fdca26\"], [1.0, \"#f0f921\"]], \"type\": \"histogram2d\"}], \"histogram2dcontour\": [{\"colorbar\": {\"outlinewidth\": 0, \"ticks\": \"\"}, \"colorscale\": [[0.0, \"#0d0887\"], [0.1111111111111111, \"#46039f\"], [0.2222222222222222, \"#7201a8\"], [0.3333333333333333, \"#9c179e\"], [0.4444444444444444, \"#bd3786\"], [0.5555555555555556, \"#d8576b\"], [0.6666666666666666, \"#ed7953\"], [0.7777777777777778, \"#fb9f3a\"], [0.8888888888888888, \"#fdca26\"], [1.0, \"#f0f921\"]], \"type\": \"histogram2dcontour\"}], \"mesh3d\": [{\"colorbar\": {\"outlinewidth\": 0, \"ticks\": \"\"}, \"type\": \"mesh3d\"}], \"parcoords\": [{\"line\": {\"colorbar\": {\"outlinewidth\": 0, \"ticks\": \"\"}}, \"type\": \"parcoords\"}], \"pie\": [{\"automargin\": true, \"type\": \"pie\"}], \"scatter\": [{\"marker\": {\"colorbar\": {\"outlinewidth\": 0, \"ticks\": \"\"}}, \"type\": \"scatter\"}], \"scatter3d\": [{\"line\": {\"colorbar\": {\"outlinewidth\": 0, \"ticks\": \"\"}}, \"marker\": {\"colorbar\": {\"outlinewidth\": 0, \"ticks\": \"\"}}, \"type\": \"scatter3d\"}], \"scattercarpet\": [{\"marker\": {\"colorbar\": {\"outlinewidth\": 0, \"ticks\": \"\"}}, \"type\": \"scattercarpet\"}], \"scattergeo\": [{\"marker\": {\"colorbar\": {\"outlinewidth\": 0, \"ticks\": \"\"}}, \"type\": \"scattergeo\"}], \"scattergl\": [{\"marker\": {\"colorbar\": {\"outlinewidth\": 0, \"ticks\": \"\"}}, \"type\": \"scattergl\"}], \"scattermapbox\": [{\"marker\": {\"colorbar\": {\"outlinewidth\": 0, \"ticks\": \"\"}}, \"type\": \"scattermapbox\"}], \"scatterpolar\": [{\"marker\": {\"colorbar\": {\"outlinewidth\": 0, \"ticks\": \"\"}}, \"type\": \"scatterpolar\"}], \"scatterpolargl\": [{\"marker\": {\"colorbar\": {\"outlinewidth\": 0, \"ticks\": \"\"}}, \"type\": \"scatterpolargl\"}], \"scatterternary\": [{\"marker\": {\"colorbar\": {\"outlinewidth\": 0, \"ticks\": \"\"}}, \"type\": \"scatterternary\"}], \"surface\": [{\"colorbar\": {\"outlinewidth\": 0, \"ticks\": \"\"}, \"colorscale\": [[0.0, \"#0d0887\"], [0.1111111111111111, \"#46039f\"], [0.2222222222222222, \"#7201a8\"], [0.3333333333333333, \"#9c179e\"], [0.4444444444444444, \"#bd3786\"], [0.5555555555555556, \"#d8576b\"], [0.6666666666666666, \"#ed7953\"], [0.7777777777777778, \"#fb9f3a\"], [0.8888888888888888, \"#fdca26\"], [1.0, \"#f0f921\"]], \"type\": \"surface\"}], \"table\": [{\"cells\": {\"fill\": {\"color\": \"#EBF0F8\"}, \"line\": {\"color\": \"white\"}}, \"header\": {\"fill\": {\"color\": \"#C8D4E3\"}, \"line\": {\"color\": \"white\"}}, \"type\": \"table\"}]}, \"layout\": {\"annotationdefaults\": {\"arrowcolor\": \"#2a3f5f\", \"arrowhead\": 0, \"arrowwidth\": 1}, \"autotypenumbers\": \"strict\", \"coloraxis\": {\"colorbar\": {\"outlinewidth\": 0, \"ticks\": \"\"}}, \"colorscale\": {\"diverging\": [[0, \"#8e0152\"], [0.1, \"#c51b7d\"], [0.2, \"#de77ae\"], [0.3, \"#f1b6da\"], [0.4, \"#fde0ef\"], [0.5, \"#f7f7f7\"], [0.6, \"#e6f5d0\"], [0.7, \"#b8e186\"], [0.8, \"#7fbc41\"], [0.9, \"#4d9221\"], [1, \"#276419\"]], \"sequential\": [[0.0, \"#0d0887\"], [0.1111111111111111, \"#46039f\"], [0.2222222222222222, \"#7201a8\"], [0.3333333333333333, \"#9c179e\"], [0.4444444444444444, \"#bd3786\"], [0.5555555555555556, \"#d8576b\"], [0.6666666666666666, \"#ed7953\"], [0.7777777777777778, \"#fb9f3a\"], [0.8888888888888888, \"#fdca26\"], [1.0, \"#f0f921\"]], \"sequentialminus\": [[0.0, \"#0d0887\"], [0.1111111111111111, \"#46039f\"], [0.2222222222222222, \"#7201a8\"], [0.3333333333333333, \"#9c179e\"], [0.4444444444444444, \"#bd3786\"], [0.5555555555555556, \"#d8576b\"], [0.6666666666666666, \"#ed7953\"], [0.7777777777777778, \"#fb9f3a\"], [0.8888888888888888, \"#fdca26\"], [1.0, \"#f0f921\"]]}, \"colorway\": [\"#636efa\", \"#EF553B\", \"#00cc96\", \"#ab63fa\", \"#FFA15A\", \"#19d3f3\", \"#FF6692\", \"#B6E880\", \"#FF97FF\", \"#FECB52\"], \"font\": {\"color\": \"#2a3f5f\"}, \"geo\": {\"bgcolor\": \"white\", \"lakecolor\": \"white\", \"landcolor\": \"#E5ECF6\", \"showlakes\": true, \"showland\": true, \"subunitcolor\": \"white\"}, \"hoverlabel\": {\"align\": \"left\"}, \"hovermode\": \"closest\", \"mapbox\": {\"style\": \"light\"}, \"paper_bgcolor\": \"white\", \"plot_bgcolor\": \"#E5ECF6\", \"polar\": {\"angularaxis\": {\"gridcolor\": \"white\", \"linecolor\": \"white\", \"ticks\": \"\"}, \"bgcolor\": \"#E5ECF6\", \"radialaxis\": {\"gridcolor\": \"white\", \"linecolor\": \"white\", \"ticks\": \"\"}}, \"scene\": {\"xaxis\": {\"backgroundcolor\": \"#E5ECF6\", \"gridcolor\": \"white\", \"gridwidth\": 2, \"linecolor\": \"white\", \"showbackground\": true, \"ticks\": \"\", \"zerolinecolor\": \"white\"}, \"yaxis\": {\"backgroundcolor\": \"#E5ECF6\", \"gridcolor\": \"white\", \"gridwidth\": 2, \"linecolor\": \"white\", \"showbackground\": true, \"ticks\": \"\", \"zerolinecolor\": \"white\"}, \"zaxis\": {\"backgroundcolor\": \"#E5ECF6\", \"gridcolor\": \"white\", \"gridwidth\": 2, \"linecolor\": \"white\", \"showbackground\": true, \"ticks\": \"\", \"zerolinecolor\": \"white\"}}, \"shapedefaults\": {\"line\": {\"color\": \"#2a3f5f\"}}, \"ternary\": {\"aaxis\": {\"gridcolor\": \"white\", \"linecolor\": \"white\", \"ticks\": \"\"}, \"baxis\": {\"gridcolor\": \"white\", \"linecolor\": \"white\", \"ticks\": \"\"}, \"bgcolor\": \"#E5ECF6\", \"caxis\": {\"gridcolor\": \"white\", \"linecolor\": \"white\", \"ticks\": \"\"}}, \"title\": {\"x\": 0.05}, \"xaxis\": {\"automargin\": true, \"gridcolor\": \"white\", \"linecolor\": \"white\", \"ticks\": \"\", \"title\": {\"standoff\": 15}, \"zerolinecolor\": \"white\", \"zerolinewidth\": 2}, \"yaxis\": {\"automargin\": true, \"gridcolor\": \"white\", \"linecolor\": \"white\", \"ticks\": \"\", \"title\": {\"standoff\": 15}, \"zerolinecolor\": \"white\", \"zerolinewidth\": 2}}}},                        {\"responsive\": true}                    ).then(function(){\n",
              "                            \n",
              "var gd = document.getElementById('f4adf4dd-496f-4e11-bef4-6d9c5600cc29');\n",
              "var x = new MutationObserver(function (mutations, observer) {{\n",
              "        var display = window.getComputedStyle(gd).display;\n",
              "        if (!display || display === 'none') {{\n",
              "            console.log([gd, 'removed!']);\n",
              "            Plotly.purge(gd);\n",
              "            observer.disconnect();\n",
              "        }}\n",
              "}});\n",
              "\n",
              "// Listen for the removal of the full notebook cells\n",
              "var notebookContainer = gd.closest('#notebook-container');\n",
              "if (notebookContainer) {{\n",
              "    x.observe(notebookContainer, {childList: true});\n",
              "}}\n",
              "\n",
              "// Listen for the clearing of the current output cell\n",
              "var outputEl = gd.closest('.output');\n",
              "if (outputEl) {{\n",
              "    x.observe(outputEl, {childList: true});\n",
              "}}\n",
              "\n",
              "                        })                };                            </script>        </div>\n",
              "</body>\n",
              "</html>"
            ]
          },
          "metadata": {
            "tags": []
          }
        }
      ]
    },
    {
      "cell_type": "markdown",
      "metadata": {
        "id": "NIBLAvtyfqpm"
      },
      "source": [
        "SNIPPET 3.2 TRIPLE-BARRIER LABELING METHOD\n",
        "\n",
        "Snippet 3.2 implements the triple-barrier method. The function receives four arguments:\n",
        "* close: A pandas series of prices.\n",
        "* events: A pandas dataframe, with columns,\n",
        " -  t1: The timestamp of vertical barrier. When the value is np.nan, there will not be a vertical barrier.\n",
        " - trgt: The unit width of the horizontal barriers.\n",
        "* ptSl: A list of two non-negative float values:\n",
        " - ptSl[0]: The factor that multiplies trgt to set the width of the upper barrier.\n",
        "If 0, there will not be an upper barrier.\n",
        " - ptSl[1]: The factor that multiplies trgt to set the width of the lower barrier.\n",
        "If 0, there will not be a lower barrier.\n",
        "* molecule: A list with the subset of event indices that will be processed by a\n",
        "single thread. Its use will become clear later on in the chapter."
      ]
    },
    {
      "cell_type": "code",
      "metadata": {
        "id": "T9EQgZnUfpHl"
      },
      "source": [
        "def applyPtSlOnT1(close, events, ptSl, molecule):\n",
        "    # apply stop loss/profit taking, if it takes place before t1 (end of event)\n",
        "    events_ = events.loc[molecule]\n",
        "    out = events_[['t1']].copy(deep=True)\n",
        "    if ptSl[0] > 0:\n",
        "        pt = ptSl[0] * events_['trgt']\n",
        "    else:\n",
        "        pt = pd.Series(index=events.index)  # NaNs\n",
        "    if ptSl[1] > 0:\n",
        "        sl = -ptSl[1] * events_['trgt']\n",
        "    else:\n",
        "        sl = pd.Series(index=events.index)  # NaNs\n",
        "    for loc, t1 in events_['t1'].fillna(close.index[-1]).iteritems():\n",
        "        df0 = close[loc:t1]  # path prices\n",
        "        df0 = (df0 / close[loc] - 1) * events_.at[loc, 'side']  # path returns\n",
        "        out.loc[loc, 'sl'] = df0[df0 < sl[loc]].index.min()  # earliest stop loss.\n",
        "        out.loc[loc, 'pt'] = df0[df0 > pt[loc]].index.min()  # earliest profit taking.\n",
        "    return out"
      ],
      "execution_count": null,
      "outputs": []
    },
    {
      "cell_type": "markdown",
      "metadata": {
        "id": "frhYUT7CmECR"
      },
      "source": [
        "SNIPPET 2.4 THE SYMMETRIC CUSUM FILTER\n",
        "\n",
        "The function getTEvents receives two arguments: the raw time series we wish\n",
        "to filter (gRaw) and the threshold, h. One practical aspect that makes CUSUM filters\n",
        "appealing is that multiple events are not triggered by gRaw hovering around a threshold\n",
        "level, which is a flaw suffered by popular market signals such as Bollinger bands.\n",
        "It will require a full run of length h for gRaw to trigger an event.\n",
        "\n"
      ]
    },
    {
      "cell_type": "code",
      "metadata": {
        "id": "0kWVyAdBl7ub"
      },
      "source": [
        "def getTEvents(gRaw, h):\n",
        "  tEvents, sPos, sNeg = [], 0, 0\n",
        "  diff = gRaw.diff()\n",
        "  for i in diff.index[1:]:\n",
        "    sPos, sNeg = max(0, sPos+diff.loc[i]), min(0, sNeg+diff.loc[i])\n",
        "    if sNeg<-h:\n",
        "      sNeg=0\n",
        "      tEvents.append(i)\n",
        "    elif sPos>h:\n",
        "      sPos=0\n",
        "      tEvents.append(i)\n",
        "  return pd.DatetimeIndex(tEvents)"
      ],
      "execution_count": null,
      "outputs": []
    },
    {
      "cell_type": "code",
      "metadata": {
        "colab": {
          "base_uri": "https://localhost:8080/",
          "height": 542
        },
        "id": "Lj9RKFruvHh1",
        "outputId": "4af925d9-4067-4fc3-e6fd-71d2f27af090"
      },
      "source": [
        "tEvents = getTEvents(close, h=5)\n",
        "#tEvents = close.index\n",
        "fig = close.plot()\n",
        "fig.add_trace(go.Scatter(x=tEvents, y=close[tEvents], mode=\"markers\", name=\"tEvents\"))"
      ],
      "execution_count": null,
      "outputs": [
        {
          "output_type": "display_data",
          "data": {
            "text/html": [
              "<html>\n",
              "<head><meta charset=\"utf-8\" /></head>\n",
              "<body>\n",
              "    <div>            <script src=\"https://cdnjs.cloudflare.com/ajax/libs/mathjax/2.7.5/MathJax.js?config=TeX-AMS-MML_SVG\"></script><script type=\"text/javascript\">if (window.MathJax) {MathJax.Hub.Config({SVG: {font: \"STIX-Web\"}});}</script>                <script type=\"text/javascript\">window.PlotlyConfig = {MathJaxConfig: 'local'};</script>\n",
              "        <script src=\"https://cdn.plot.ly/plotly-latest.min.js\"></script>                <div id=\"ac3e321a-8798-4a0c-bdb4-1dff67f6a71a\" class=\"plotly-graph-div\" style=\"height:525px; width:100%;\"></div>            <script type=\"text/javascript\">                                    window.PLOTLYENV=window.PLOTLYENV || {};                                    if (document.getElementById(\"ac3e321a-8798-4a0c-bdb4-1dff67f6a71a\")) {                    Plotly.newPlot(                        \"ac3e321a-8798-4a0c-bdb4-1dff67f6a71a\",                        [{\"hovertemplate\": \"variable=close<br>dates=%{x}<br>value=%{y}<extra></extra>\", \"legendgroup\": \"close\", \"line\": {\"color\": \"#636efa\", \"dash\": \"solid\"}, \"mode\": \"lines\", \"name\": \"close\", \"orientation\": \"v\", \"showlegend\": true, \"type\": \"scatter\", \"x\": [\"2020-01-03T00:00:00\", \"2020-01-06T00:00:00\", \"2020-01-07T00:00:00\", \"2020-01-08T00:00:00\", \"2020-01-09T00:00:00\", \"2020-01-10T00:00:00\", \"2020-01-13T00:00:00\", \"2020-01-14T00:00:00\", \"2020-01-15T00:00:00\", \"2020-01-16T00:00:00\", \"2020-01-17T00:00:00\", \"2020-01-22T00:00:00\", \"2020-01-23T00:00:00\", \"2020-01-24T00:00:00\", \"2020-01-27T00:00:00\", \"2020-01-28T00:00:00\", \"2020-01-29T00:00:00\", \"2020-01-30T00:00:00\", \"2020-01-31T00:00:00\", \"2020-02-03T00:00:00\", \"2020-02-04T00:00:00\", \"2020-02-05T00:00:00\", \"2020-02-06T00:00:00\", \"2020-02-07T00:00:00\", \"2020-02-10T00:00:00\", \"2020-02-11T00:00:00\", \"2020-02-12T00:00:00\", \"2020-02-13T00:00:00\", \"2020-02-14T00:00:00\", \"2020-02-19T00:00:00\", \"2020-02-20T00:00:00\", \"2020-02-21T00:00:00\", \"2020-02-24T00:00:00\", \"2020-02-25T00:00:00\", \"2020-02-26T00:00:00\", \"2020-02-27T00:00:00\", \"2020-02-28T00:00:00\", \"2020-03-02T00:00:00\", \"2020-03-03T00:00:00\", \"2020-03-04T00:00:00\", \"2020-03-05T00:00:00\", \"2020-03-06T00:00:00\", \"2020-03-09T00:00:00\", \"2020-03-10T00:00:00\", \"2020-03-11T00:00:00\", \"2020-03-12T00:00:00\", \"2020-03-13T00:00:00\", \"2020-03-16T00:00:00\", \"2020-03-17T00:00:00\", \"2020-03-18T00:00:00\", \"2020-03-19T00:00:00\", \"2020-03-20T00:00:00\", \"2020-03-23T00:00:00\", \"2020-03-24T00:00:00\", \"2020-03-25T00:00:00\", \"2020-03-26T00:00:00\", \"2020-03-27T00:00:00\", \"2020-03-30T00:00:00\", \"2020-03-31T00:00:00\", \"2020-04-01T00:00:00\", \"2020-04-02T00:00:00\", \"2020-04-03T00:00:00\", \"2020-04-06T00:00:00\", \"2020-04-07T00:00:00\", \"2020-04-08T00:00:00\", \"2020-04-09T00:00:00\", \"2020-04-14T00:00:00\", \"2020-04-15T00:00:00\", \"2020-04-16T00:00:00\", \"2020-04-17T00:00:00\", \"2020-04-20T00:00:00\", \"2020-04-21T00:00:00\", \"2020-04-22T00:00:00\", \"2020-04-23T00:00:00\", \"2020-04-24T00:00:00\", \"2020-04-27T00:00:00\", \"2020-04-28T00:00:00\", \"2020-04-29T00:00:00\", \"2020-04-30T00:00:00\", \"2020-05-01T00:00:00\", \"2020-05-04T00:00:00\", \"2020-05-05T00:00:00\", \"2020-05-06T00:00:00\", \"2020-05-07T00:00:00\", \"2020-05-08T00:00:00\", \"2020-05-11T00:00:00\", \"2020-05-12T00:00:00\", \"2020-05-13T00:00:00\", \"2020-05-14T00:00:00\", \"2020-05-15T00:00:00\", \"2020-05-18T00:00:00\", \"2020-05-19T00:00:00\", \"2020-05-20T00:00:00\", \"2020-05-21T00:00:00\", \"2020-05-22T00:00:00\", \"2020-05-27T00:00:00\", \"2020-05-28T00:00:00\", \"2020-05-29T00:00:00\", \"2020-06-01T00:00:00\", \"2020-06-02T00:00:00\", \"2020-06-03T00:00:00\", \"2020-06-04T00:00:00\", \"2020-06-05T00:00:00\", \"2020-06-08T00:00:00\", \"2020-06-09T00:00:00\", \"2020-06-10T00:00:00\", \"2020-06-11T00:00:00\", \"2020-06-12T00:00:00\", \"2020-06-15T00:00:00\", \"2020-06-16T00:00:00\", \"2020-06-17T00:00:00\", \"2020-06-18T00:00:00\", \"2020-06-19T00:00:00\", \"2020-06-22T00:00:00\", \"2020-06-23T00:00:00\", \"2020-06-24T00:00:00\", \"2020-06-25T00:00:00\", \"2020-06-26T00:00:00\", \"2020-06-29T00:00:00\", \"2020-06-30T00:00:00\", \"2020-07-01T00:00:00\", \"2020-07-02T00:00:00\", \"2020-07-07T00:00:00\", \"2020-07-08T00:00:00\", \"2020-07-09T00:00:00\", \"2020-07-10T00:00:00\", \"2020-07-13T00:00:00\", \"2020-07-14T00:00:00\", \"2020-07-15T00:00:00\", \"2020-07-16T00:00:00\", \"2020-07-17T00:00:00\", \"2020-07-20T00:00:00\", \"2020-07-21T00:00:00\", \"2020-07-22T00:00:00\", \"2020-07-23T00:00:00\", \"2020-07-24T00:00:00\", \"2020-07-27T00:00:00\", \"2020-07-28T00:00:00\", \"2020-07-29T00:00:00\", \"2020-07-30T00:00:00\", \"2020-07-31T00:00:00\", \"2020-08-03T00:00:00\", \"2020-08-04T00:00:00\", \"2020-08-05T00:00:00\", \"2020-08-06T00:00:00\", \"2020-08-07T00:00:00\", \"2020-08-10T00:00:00\", \"2020-08-11T00:00:00\", \"2020-08-12T00:00:00\", \"2020-08-13T00:00:00\", \"2020-08-14T00:00:00\", \"2020-08-17T00:00:00\", \"2020-08-18T00:00:00\", \"2020-08-19T00:00:00\", \"2020-08-20T00:00:00\", \"2020-08-21T00:00:00\", \"2020-08-24T00:00:00\", \"2020-08-25T00:00:00\", \"2020-08-26T00:00:00\", \"2020-08-27T00:00:00\", \"2020-08-28T00:00:00\", \"2020-08-31T00:00:00\", \"2020-09-01T00:00:00\", \"2020-09-02T00:00:00\", \"2020-09-03T00:00:00\", \"2020-09-04T00:00:00\", \"2020-09-09T00:00:00\", \"2020-09-10T00:00:00\", \"2020-09-11T00:00:00\", \"2020-09-14T00:00:00\", \"2020-09-15T00:00:00\", \"2020-09-16T00:00:00\", \"2020-09-17T00:00:00\", \"2020-09-18T00:00:00\", \"2020-09-21T00:00:00\", \"2020-09-22T00:00:00\", \"2020-09-23T00:00:00\", \"2020-09-24T00:00:00\", \"2020-09-25T00:00:00\", \"2020-09-28T00:00:00\", \"2020-09-29T00:00:00\", \"2020-09-30T00:00:00\", \"2020-10-01T00:00:00\", \"2020-10-02T00:00:00\", \"2020-10-05T00:00:00\", \"2020-10-06T00:00:00\", \"2020-10-07T00:00:00\", \"2020-10-08T00:00:00\", \"2020-10-09T00:00:00\", \"2020-10-12T00:00:00\", \"2020-10-13T00:00:00\", \"2020-10-14T00:00:00\", \"2020-10-15T00:00:00\", \"2020-10-16T00:00:00\", \"2020-10-19T00:00:00\", \"2020-10-20T00:00:00\", \"2020-10-21T00:00:00\", \"2020-10-22T00:00:00\", \"2020-10-23T00:00:00\", \"2020-10-26T00:00:00\", \"2020-10-27T00:00:00\", \"2020-10-28T00:00:00\", \"2020-10-29T00:00:00\", \"2020-10-30T00:00:00\", \"2020-11-02T00:00:00\", \"2020-11-03T00:00:00\", \"2020-11-04T00:00:00\", \"2020-11-05T00:00:00\", \"2020-11-06T00:00:00\", \"2020-11-09T00:00:00\", \"2020-11-10T00:00:00\", \"2020-11-11T00:00:00\", \"2020-11-12T00:00:00\", \"2020-11-13T00:00:00\", \"2020-11-16T00:00:00\", \"2020-11-17T00:00:00\", \"2020-11-18T00:00:00\", \"2020-11-19T00:00:00\", \"2020-11-20T00:00:00\", \"2020-11-23T00:00:00\", \"2020-11-24T00:00:00\", \"2020-11-25T00:00:00\", \"2020-11-30T00:00:00\", \"2020-12-01T00:00:00\", \"2020-12-02T00:00:00\", \"2020-12-03T00:00:00\", \"2020-12-04T00:00:00\", \"2020-12-07T00:00:00\", \"2020-12-08T00:00:00\", \"2020-12-09T00:00:00\", \"2020-12-10T00:00:00\", \"2020-12-11T00:00:00\", \"2020-12-14T00:00:00\", \"2020-12-15T00:00:00\", \"2020-12-16T00:00:00\", \"2020-12-17T00:00:00\", \"2020-12-18T00:00:00\", \"2020-12-21T00:00:00\", \"2020-12-22T00:00:00\", \"2020-12-23T00:00:00\", \"2020-12-24T00:00:00\", \"2020-12-29T00:00:00\", \"2020-12-30T00:00:00\", \"2020-12-31T00:00:00\"], \"xaxis\": \"x\", \"y\": [129.64, 129.8952, 129.38, 129.76, 130.3168, 129.87, 130.305, 130.48, 130.63, 131.57, 131.78, 131.31, 131.31, 130.06, 128.24, 129.05, 128.47, 128.96, 126.65, 127.08, 128.6, 130.92, 130.97, 130.22, 130.58, 131.16, 131.8, 131.55, 131.45, 131.33, 131.22, 130.63, 126.62, 122.61, 121.48, 116.34, 114.63, 119.78, 116.45, 121.32, 117.32, 115.22, 105.86, 110.57, 105.01, 94.5, 102.955, 91.38, 97.17, 91.03, 90.68, 86.41, 82.69, 91.0, 92.13, 98.01, 95.27, 98.02, 96.24, 91.96, 94.19, 92.74, 98.52, 98.91, 102.91, 105.17, 105.4, 102.43, 102.315, 106.05, 103.86, 101.05, 102.67, 102.695, 104.01, 106.18, 106.64, 108.72, 106.45, 103.56, 103.51, 103.98, 102.39, 103.38, 105.63, 104.93, 102.77, 100.42, 101.93, 101.93, 106.06, 104.31, 105.89, 105.22, 105.25, 110.38, 109.91, 109.95, 110.32, 111.39, 113.52, 114.03, 117.44, 119.69, 117.4, 114.97, 107.5, 109.19, 109.45, 111.49, 110.27, 110.25, 109.36, 109.25, 109.45, 106.4, 107.52, 105.23, 107.01, 108.2, 108.17, 108.71, 108.29, 108.49, 106.78, 108.69, 108.84, 110.53, 112.01, 112.02, 112.36, 111.49, 112.78, 113.46, 113.39, 112.58, 112.62, 112.51, 113.76, 112.55, 112.25, 112.56, 113.17, 113.82, 113.8, 115.14, 116.24, 115.94, 116.75, 115.89, 116.13, 115.9, 115.47, 115.0, 114.37, 114.36, 115.92, 115.78, 115.47, 116.31, 117.09, 116.2, 116.19, 118.19, 116.0, 115.98, 115.18, 113.42, 114.03, 115.52, 115.31, 116.1, 115.56, 114.61, 112.09, 112.19, 109.26, 109.41, 110.69, 112.39, 111.53, 112.52, 112.59, 112.83, 114.61, 113.48, 115.3, 116.76, 116.98, 117.83, 116.66, 115.96, 116.32, 116.72, 115.13, 115.53, 115.15, 116.64, 116.9, 114.67, 113.19, 109.92, 110.43, 110.49, 112.53, 114.59, 114.85, 116.56, 116.21, 120.85, 122.55, 122.13, 120.61, 122.9, 125.03, 124.41, 122.85, 123.0, 122.43, 124.07, 126.68, 125.92, 124.61, 125.62, 126.46, 126.75, 128.19, 127.44, 127.97, 127.95, 127.62, 127.17, 125.05, 126.77, 126.38, 127.1, 126.45, 125.83, 124.87, 125.79, 126.12, 126.44, 127.0, 128.02], \"yaxis\": \"y\"}, {\"mode\": \"markers\", \"name\": \"tEvents\", \"type\": \"scatter\", \"x\": [\"2020-01-31T00:00:00\", \"2020-02-12T00:00:00\", \"2020-02-24T00:00:00\", \"2020-02-26T00:00:00\", \"2020-02-27T00:00:00\", \"2020-03-02T00:00:00\", \"2020-03-06T00:00:00\", \"2020-03-09T00:00:00\", \"2020-03-11T00:00:00\", \"2020-03-12T00:00:00\", \"2020-03-13T00:00:00\", \"2020-03-16T00:00:00\", \"2020-03-17T00:00:00\", \"2020-03-18T00:00:00\", \"2020-03-23T00:00:00\", \"2020-03-24T00:00:00\", \"2020-03-26T00:00:00\", \"2020-04-01T00:00:00\", \"2020-04-06T00:00:00\", \"2020-04-09T00:00:00\", \"2020-04-27T00:00:00\", \"2020-05-01T00:00:00\", \"2020-05-13T00:00:00\", \"2020-05-18T00:00:00\", \"2020-05-27T00:00:00\", \"2020-06-05T00:00:00\", \"2020-06-11T00:00:00\", \"2020-06-24T00:00:00\", \"2020-07-14T00:00:00\", \"2020-08-10T00:00:00\", \"2020-09-21T00:00:00\", \"2020-10-05T00:00:00\", \"2020-10-28T00:00:00\", \"2020-11-05T00:00:00\", \"2020-11-10T00:00:00\", \"2020-11-24T00:00:00\"], \"y\": [126.65, 131.8, 126.62, 121.48, 116.34, 119.78, 115.22, 105.86, 105.01, 94.5, 102.955, 91.38, 97.17, 91.03, 82.69, 91.0, 98.01, 91.96, 98.52, 105.17, 106.18, 103.56, 100.42, 106.06, 110.38, 117.44, 107.5, 106.4, 110.53, 116.24, 112.09, 114.61, 109.92, 116.56, 122.55, 126.68]}],                        {\"legend\": {\"title\": {\"text\": \"variable\"}, \"tracegroupgap\": 0}, \"margin\": {\"t\": 60}, \"template\": {\"data\": {\"bar\": [{\"error_x\": {\"color\": \"#2a3f5f\"}, \"error_y\": {\"color\": \"#2a3f5f\"}, \"marker\": {\"line\": {\"color\": \"#E5ECF6\", \"width\": 0.5}}, \"type\": \"bar\"}], \"barpolar\": [{\"marker\": {\"line\": {\"color\": \"#E5ECF6\", \"width\": 0.5}}, \"type\": \"barpolar\"}], \"carpet\": [{\"aaxis\": {\"endlinecolor\": \"#2a3f5f\", \"gridcolor\": \"white\", \"linecolor\": \"white\", \"minorgridcolor\": \"white\", \"startlinecolor\": \"#2a3f5f\"}, \"baxis\": {\"endlinecolor\": \"#2a3f5f\", \"gridcolor\": \"white\", \"linecolor\": \"white\", \"minorgridcolor\": \"white\", \"startlinecolor\": \"#2a3f5f\"}, \"type\": \"carpet\"}], \"choropleth\": [{\"colorbar\": {\"outlinewidth\": 0, \"ticks\": \"\"}, \"type\": \"choropleth\"}], \"contour\": [{\"colorbar\": {\"outlinewidth\": 0, \"ticks\": \"\"}, \"colorscale\": [[0.0, \"#0d0887\"], [0.1111111111111111, \"#46039f\"], [0.2222222222222222, \"#7201a8\"], [0.3333333333333333, \"#9c179e\"], [0.4444444444444444, \"#bd3786\"], [0.5555555555555556, \"#d8576b\"], [0.6666666666666666, \"#ed7953\"], [0.7777777777777778, \"#fb9f3a\"], [0.8888888888888888, \"#fdca26\"], [1.0, \"#f0f921\"]], \"type\": \"contour\"}], \"contourcarpet\": [{\"colorbar\": {\"outlinewidth\": 0, \"ticks\": \"\"}, \"type\": \"contourcarpet\"}], \"heatmap\": [{\"colorbar\": {\"outlinewidth\": 0, \"ticks\": \"\"}, \"colorscale\": [[0.0, \"#0d0887\"], [0.1111111111111111, \"#46039f\"], [0.2222222222222222, \"#7201a8\"], [0.3333333333333333, \"#9c179e\"], [0.4444444444444444, \"#bd3786\"], [0.5555555555555556, \"#d8576b\"], [0.6666666666666666, \"#ed7953\"], [0.7777777777777778, \"#fb9f3a\"], [0.8888888888888888, \"#fdca26\"], [1.0, \"#f0f921\"]], \"type\": \"heatmap\"}], \"heatmapgl\": [{\"colorbar\": {\"outlinewidth\": 0, \"ticks\": \"\"}, \"colorscale\": [[0.0, \"#0d0887\"], [0.1111111111111111, \"#46039f\"], [0.2222222222222222, \"#7201a8\"], [0.3333333333333333, \"#9c179e\"], [0.4444444444444444, \"#bd3786\"], [0.5555555555555556, \"#d8576b\"], [0.6666666666666666, \"#ed7953\"], [0.7777777777777778, \"#fb9f3a\"], [0.8888888888888888, \"#fdca26\"], [1.0, \"#f0f921\"]], \"type\": \"heatmapgl\"}], \"histogram\": [{\"marker\": {\"colorbar\": {\"outlinewidth\": 0, \"ticks\": \"\"}}, \"type\": \"histogram\"}], \"histogram2d\": [{\"colorbar\": {\"outlinewidth\": 0, \"ticks\": \"\"}, \"colorscale\": [[0.0, \"#0d0887\"], [0.1111111111111111, \"#46039f\"], [0.2222222222222222, \"#7201a8\"], [0.3333333333333333, \"#9c179e\"], [0.4444444444444444, \"#bd3786\"], [0.5555555555555556, \"#d8576b\"], [0.6666666666666666, \"#ed7953\"], [0.7777777777777778, \"#fb9f3a\"], [0.8888888888888888, \"#fdca26\"], [1.0, \"#f0f921\"]], \"type\": \"histogram2d\"}], \"histogram2dcontour\": [{\"colorbar\": {\"outlinewidth\": 0, \"ticks\": \"\"}, \"colorscale\": [[0.0, \"#0d0887\"], [0.1111111111111111, \"#46039f\"], [0.2222222222222222, \"#7201a8\"], [0.3333333333333333, \"#9c179e\"], [0.4444444444444444, \"#bd3786\"], [0.5555555555555556, \"#d8576b\"], [0.6666666666666666, \"#ed7953\"], [0.7777777777777778, \"#fb9f3a\"], [0.8888888888888888, \"#fdca26\"], [1.0, \"#f0f921\"]], \"type\": \"histogram2dcontour\"}], \"mesh3d\": [{\"colorbar\": {\"outlinewidth\": 0, \"ticks\": \"\"}, \"type\": \"mesh3d\"}], \"parcoords\": [{\"line\": {\"colorbar\": {\"outlinewidth\": 0, \"ticks\": \"\"}}, \"type\": \"parcoords\"}], \"pie\": [{\"automargin\": true, \"type\": \"pie\"}], \"scatter\": [{\"marker\": {\"colorbar\": {\"outlinewidth\": 0, \"ticks\": \"\"}}, \"type\": \"scatter\"}], \"scatter3d\": [{\"line\": {\"colorbar\": {\"outlinewidth\": 0, \"ticks\": \"\"}}, \"marker\": {\"colorbar\": {\"outlinewidth\": 0, \"ticks\": \"\"}}, \"type\": \"scatter3d\"}], \"scattercarpet\": [{\"marker\": {\"colorbar\": {\"outlinewidth\": 0, \"ticks\": \"\"}}, \"type\": \"scattercarpet\"}], \"scattergeo\": [{\"marker\": {\"colorbar\": {\"outlinewidth\": 0, \"ticks\": \"\"}}, \"type\": \"scattergeo\"}], \"scattergl\": [{\"marker\": {\"colorbar\": {\"outlinewidth\": 0, \"ticks\": \"\"}}, \"type\": \"scattergl\"}], \"scattermapbox\": [{\"marker\": {\"colorbar\": {\"outlinewidth\": 0, \"ticks\": \"\"}}, \"type\": \"scattermapbox\"}], \"scatterpolar\": [{\"marker\": {\"colorbar\": {\"outlinewidth\": 0, \"ticks\": \"\"}}, \"type\": \"scatterpolar\"}], \"scatterpolargl\": [{\"marker\": {\"colorbar\": {\"outlinewidth\": 0, \"ticks\": \"\"}}, \"type\": \"scatterpolargl\"}], \"scatterternary\": [{\"marker\": {\"colorbar\": {\"outlinewidth\": 0, \"ticks\": \"\"}}, \"type\": \"scatterternary\"}], \"surface\": [{\"colorbar\": {\"outlinewidth\": 0, \"ticks\": \"\"}, \"colorscale\": [[0.0, \"#0d0887\"], [0.1111111111111111, \"#46039f\"], [0.2222222222222222, \"#7201a8\"], [0.3333333333333333, \"#9c179e\"], [0.4444444444444444, \"#bd3786\"], [0.5555555555555556, \"#d8576b\"], [0.6666666666666666, \"#ed7953\"], [0.7777777777777778, \"#fb9f3a\"], [0.8888888888888888, \"#fdca26\"], [1.0, \"#f0f921\"]], \"type\": \"surface\"}], \"table\": [{\"cells\": {\"fill\": {\"color\": \"#EBF0F8\"}, \"line\": {\"color\": \"white\"}}, \"header\": {\"fill\": {\"color\": \"#C8D4E3\"}, \"line\": {\"color\": \"white\"}}, \"type\": \"table\"}]}, \"layout\": {\"annotationdefaults\": {\"arrowcolor\": \"#2a3f5f\", \"arrowhead\": 0, \"arrowwidth\": 1}, \"autotypenumbers\": \"strict\", \"coloraxis\": {\"colorbar\": {\"outlinewidth\": 0, \"ticks\": \"\"}}, \"colorscale\": {\"diverging\": [[0, \"#8e0152\"], [0.1, \"#c51b7d\"], [0.2, \"#de77ae\"], [0.3, \"#f1b6da\"], [0.4, \"#fde0ef\"], [0.5, \"#f7f7f7\"], [0.6, \"#e6f5d0\"], [0.7, \"#b8e186\"], [0.8, \"#7fbc41\"], [0.9, \"#4d9221\"], [1, \"#276419\"]], \"sequential\": [[0.0, \"#0d0887\"], [0.1111111111111111, \"#46039f\"], [0.2222222222222222, \"#7201a8\"], [0.3333333333333333, \"#9c179e\"], [0.4444444444444444, \"#bd3786\"], [0.5555555555555556, \"#d8576b\"], [0.6666666666666666, \"#ed7953\"], [0.7777777777777778, \"#fb9f3a\"], [0.8888888888888888, \"#fdca26\"], [1.0, \"#f0f921\"]], \"sequentialminus\": [[0.0, \"#0d0887\"], [0.1111111111111111, \"#46039f\"], [0.2222222222222222, \"#7201a8\"], [0.3333333333333333, \"#9c179e\"], [0.4444444444444444, \"#bd3786\"], [0.5555555555555556, \"#d8576b\"], [0.6666666666666666, \"#ed7953\"], [0.7777777777777778, \"#fb9f3a\"], [0.8888888888888888, \"#fdca26\"], [1.0, \"#f0f921\"]]}, \"colorway\": [\"#636efa\", \"#EF553B\", \"#00cc96\", \"#ab63fa\", \"#FFA15A\", \"#19d3f3\", \"#FF6692\", \"#B6E880\", \"#FF97FF\", \"#FECB52\"], \"font\": {\"color\": \"#2a3f5f\"}, \"geo\": {\"bgcolor\": \"white\", \"lakecolor\": \"white\", \"landcolor\": \"#E5ECF6\", \"showlakes\": true, \"showland\": true, \"subunitcolor\": \"white\"}, \"hoverlabel\": {\"align\": \"left\"}, \"hovermode\": \"closest\", \"mapbox\": {\"style\": \"light\"}, \"paper_bgcolor\": \"white\", \"plot_bgcolor\": \"#E5ECF6\", \"polar\": {\"angularaxis\": {\"gridcolor\": \"white\", \"linecolor\": \"white\", \"ticks\": \"\"}, \"bgcolor\": \"#E5ECF6\", \"radialaxis\": {\"gridcolor\": \"white\", \"linecolor\": \"white\", \"ticks\": \"\"}}, \"scene\": {\"xaxis\": {\"backgroundcolor\": \"#E5ECF6\", \"gridcolor\": \"white\", \"gridwidth\": 2, \"linecolor\": \"white\", \"showbackground\": true, \"ticks\": \"\", \"zerolinecolor\": \"white\"}, \"yaxis\": {\"backgroundcolor\": \"#E5ECF6\", \"gridcolor\": \"white\", \"gridwidth\": 2, \"linecolor\": \"white\", \"showbackground\": true, \"ticks\": \"\", \"zerolinecolor\": \"white\"}, \"zaxis\": {\"backgroundcolor\": \"#E5ECF6\", \"gridcolor\": \"white\", \"gridwidth\": 2, \"linecolor\": \"white\", \"showbackground\": true, \"ticks\": \"\", \"zerolinecolor\": \"white\"}}, \"shapedefaults\": {\"line\": {\"color\": \"#2a3f5f\"}}, \"ternary\": {\"aaxis\": {\"gridcolor\": \"white\", \"linecolor\": \"white\", \"ticks\": \"\"}, \"baxis\": {\"gridcolor\": \"white\", \"linecolor\": \"white\", \"ticks\": \"\"}, \"bgcolor\": \"#E5ECF6\", \"caxis\": {\"gridcolor\": \"white\", \"linecolor\": \"white\", \"ticks\": \"\"}}, \"title\": {\"x\": 0.05}, \"xaxis\": {\"automargin\": true, \"gridcolor\": \"white\", \"linecolor\": \"white\", \"ticks\": \"\", \"title\": {\"standoff\": 15}, \"zerolinecolor\": \"white\", \"zerolinewidth\": 2}, \"yaxis\": {\"automargin\": true, \"gridcolor\": \"white\", \"linecolor\": \"white\", \"ticks\": \"\", \"title\": {\"standoff\": 15}, \"zerolinecolor\": \"white\", \"zerolinewidth\": 2}}}, \"xaxis\": {\"anchor\": \"y\", \"domain\": [0.0, 1.0], \"title\": {\"text\": \"dates\"}}, \"yaxis\": {\"anchor\": \"x\", \"domain\": [0.0, 1.0], \"title\": {\"text\": \"value\"}}},                        {\"responsive\": true}                    ).then(function(){\n",
              "                            \n",
              "var gd = document.getElementById('ac3e321a-8798-4a0c-bdb4-1dff67f6a71a');\n",
              "var x = new MutationObserver(function (mutations, observer) {{\n",
              "        var display = window.getComputedStyle(gd).display;\n",
              "        if (!display || display === 'none') {{\n",
              "            console.log([gd, 'removed!']);\n",
              "            Plotly.purge(gd);\n",
              "            observer.disconnect();\n",
              "        }}\n",
              "}});\n",
              "\n",
              "// Listen for the removal of the full notebook cells\n",
              "var notebookContainer = gd.closest('#notebook-container');\n",
              "if (notebookContainer) {{\n",
              "    x.observe(notebookContainer, {childList: true});\n",
              "}}\n",
              "\n",
              "// Listen for the clearing of the current output cell\n",
              "var outputEl = gd.closest('.output');\n",
              "if (outputEl) {{\n",
              "    x.observe(outputEl, {childList: true});\n",
              "}}\n",
              "\n",
              "                        })                };                            </script>        </div>\n",
              "</body>\n",
              "</html>"
            ]
          },
          "metadata": {
            "tags": []
          }
        }
      ]
    },
    {
      "cell_type": "code",
      "metadata": {
        "id": "u5EL9TPZV_pL",
        "colab": {
          "base_uri": "https://localhost:8080/",
          "height": 195
        },
        "outputId": "9425e285-ab69-4c9a-a2cc-aad9e70bd33b"
      },
      "source": [
        "t1 = pd.Series(pd.NaT, index=tEvents)\n",
        "side_ = pd.Series(1., index=tEvents)\n",
        "trgt = stds.loc[tEvents] \n",
        "ptSl = [1, 1]\n",
        "events = pd.concat({'t1': t1, 'trgt': trgt, 'side': side_}, axis=1).dropna(subset=['trgt'])\n",
        "out = applyPtSlOnT1(close, events, ptSl, molecule=tEvents)\n",
        "pt, sl = ptSl[0]*trgt, ptSl[1]*trgt\n",
        "upper, lower = close[tEvents]*(1+pt), close[tEvents]*(1-sl)\n",
        "out.head()"
      ],
      "execution_count": null,
      "outputs": [
        {
          "output_type": "execute_result",
          "data": {
            "text/html": [
              "<div>\n",
              "<style scoped>\n",
              "    .dataframe tbody tr th:only-of-type {\n",
              "        vertical-align: middle;\n",
              "    }\n",
              "\n",
              "    .dataframe tbody tr th {\n",
              "        vertical-align: top;\n",
              "    }\n",
              "\n",
              "    .dataframe thead th {\n",
              "        text-align: right;\n",
              "    }\n",
              "</style>\n",
              "<table border=\"1\" class=\"dataframe\">\n",
              "  <thead>\n",
              "    <tr style=\"text-align: right;\">\n",
              "      <th></th>\n",
              "      <th>t1</th>\n",
              "      <th>sl</th>\n",
              "      <th>pt</th>\n",
              "    </tr>\n",
              "  </thead>\n",
              "  <tbody>\n",
              "    <tr>\n",
              "      <th>2020-01-31</th>\n",
              "      <td>NaT</td>\n",
              "      <td>2020-02-25</td>\n",
              "      <td>2020-02-04</td>\n",
              "    </tr>\n",
              "    <tr>\n",
              "      <th>2020-02-12</th>\n",
              "      <td>NaT</td>\n",
              "      <td>2020-02-24</td>\n",
              "      <td>NaT</td>\n",
              "    </tr>\n",
              "    <tr>\n",
              "      <th>2020-02-24</th>\n",
              "      <td>NaT</td>\n",
              "      <td>2020-02-25</td>\n",
              "      <td>NaT</td>\n",
              "    </tr>\n",
              "    <tr>\n",
              "      <th>2020-02-26</th>\n",
              "      <td>NaT</td>\n",
              "      <td>2020-02-27</td>\n",
              "      <td>2020-11-16</td>\n",
              "    </tr>\n",
              "    <tr>\n",
              "      <th>2020-02-27</th>\n",
              "      <td>NaT</td>\n",
              "      <td>2020-03-09</td>\n",
              "      <td>2020-03-02</td>\n",
              "    </tr>\n",
              "  </tbody>\n",
              "</table>\n",
              "</div>"
            ],
            "text/plain": [
              "            t1         sl         pt\n",
              "2020-01-31 NaT 2020-02-25 2020-02-04\n",
              "2020-02-12 NaT 2020-02-24        NaT\n",
              "2020-02-24 NaT 2020-02-25        NaT\n",
              "2020-02-26 NaT 2020-02-27 2020-11-16\n",
              "2020-02-27 NaT 2020-03-09 2020-03-02"
            ]
          },
          "metadata": {
            "tags": []
          },
          "execution_count": 14
        }
      ]
    },
    {
      "cell_type": "code",
      "metadata": {
        "colab": {
          "base_uri": "https://localhost:8080/",
          "height": 542
        },
        "id": "scO8QUX7g_xk",
        "outputId": "33219ab9-31f6-49f8-dbf3-76a39fcca93c"
      },
      "source": [
        "i = 4\n",
        "tt1, tt2 = out.index[i], close.index[-1]\n",
        "u, l = upper.iloc[i], lower.iloc[i]\n",
        "tsl, tpt = out['sl'].iloc[i], out['pt'].iloc[i]\n",
        "psl, ppt = close.loc[tsl], close.loc[tpt]\n",
        "fig = close.plot()\n",
        "fig.add_shape(type=\"line\", x0=tt1, y0=u, x1=tt1, y1=l, line=dict(color=\"red\", width=2))\n",
        "fig.add_shape(type=\"line\", x0=tt1, y0=u, x1=tt2, y1=u, line=dict(color=\"red\", width=2))\n",
        "fig.add_shape(type=\"line\", x0=tt1, y0=l, x1=tt2, y1=l, line=dict(color=\"red\", width=2))\n",
        "fig.add_trace(go.Scatter(x=[tsl], y=[psl], marker=dict(size=[10], color=['red']), name=\"Stop Loss\"))\n",
        "fig.add_trace(go.Scatter(x=[tpt], y=[ppt], marker=dict(size=[10], color=['green']), name=\"Take Profit\"))\n",
        "fig.show()"
      ],
      "execution_count": null,
      "outputs": [
        {
          "output_type": "display_data",
          "data": {
            "text/html": [
              "<html>\n",
              "<head><meta charset=\"utf-8\" /></head>\n",
              "<body>\n",
              "    <div>            <script src=\"https://cdnjs.cloudflare.com/ajax/libs/mathjax/2.7.5/MathJax.js?config=TeX-AMS-MML_SVG\"></script><script type=\"text/javascript\">if (window.MathJax) {MathJax.Hub.Config({SVG: {font: \"STIX-Web\"}});}</script>                <script type=\"text/javascript\">window.PlotlyConfig = {MathJaxConfig: 'local'};</script>\n",
              "        <script src=\"https://cdn.plot.ly/plotly-latest.min.js\"></script>                <div id=\"0ba0e008-b7a3-439f-8cd3-44a81e3eaf90\" class=\"plotly-graph-div\" style=\"height:525px; width:100%;\"></div>            <script type=\"text/javascript\">                                    window.PLOTLYENV=window.PLOTLYENV || {};                                    if (document.getElementById(\"0ba0e008-b7a3-439f-8cd3-44a81e3eaf90\")) {                    Plotly.newPlot(                        \"0ba0e008-b7a3-439f-8cd3-44a81e3eaf90\",                        [{\"hovertemplate\": \"variable=close<br>dates=%{x}<br>value=%{y}<extra></extra>\", \"legendgroup\": \"close\", \"line\": {\"color\": \"#636efa\", \"dash\": \"solid\"}, \"mode\": \"lines\", \"name\": \"close\", \"orientation\": \"v\", \"showlegend\": true, \"type\": \"scatter\", \"x\": [\"2020-01-03T00:00:00\", \"2020-01-06T00:00:00\", \"2020-01-07T00:00:00\", \"2020-01-08T00:00:00\", \"2020-01-09T00:00:00\", \"2020-01-10T00:00:00\", \"2020-01-13T00:00:00\", \"2020-01-14T00:00:00\", \"2020-01-15T00:00:00\", \"2020-01-16T00:00:00\", \"2020-01-17T00:00:00\", \"2020-01-22T00:00:00\", \"2020-01-23T00:00:00\", \"2020-01-24T00:00:00\", \"2020-01-27T00:00:00\", \"2020-01-28T00:00:00\", \"2020-01-29T00:00:00\", \"2020-01-30T00:00:00\", \"2020-01-31T00:00:00\", \"2020-02-03T00:00:00\", \"2020-02-04T00:00:00\", \"2020-02-05T00:00:00\", \"2020-02-06T00:00:00\", \"2020-02-07T00:00:00\", \"2020-02-10T00:00:00\", \"2020-02-11T00:00:00\", \"2020-02-12T00:00:00\", \"2020-02-13T00:00:00\", \"2020-02-14T00:00:00\", \"2020-02-19T00:00:00\", \"2020-02-20T00:00:00\", \"2020-02-21T00:00:00\", \"2020-02-24T00:00:00\", \"2020-02-25T00:00:00\", \"2020-02-26T00:00:00\", \"2020-02-27T00:00:00\", \"2020-02-28T00:00:00\", \"2020-03-02T00:00:00\", \"2020-03-03T00:00:00\", \"2020-03-04T00:00:00\", \"2020-03-05T00:00:00\", \"2020-03-06T00:00:00\", \"2020-03-09T00:00:00\", \"2020-03-10T00:00:00\", \"2020-03-11T00:00:00\", \"2020-03-12T00:00:00\", \"2020-03-13T00:00:00\", \"2020-03-16T00:00:00\", \"2020-03-17T00:00:00\", \"2020-03-18T00:00:00\", \"2020-03-19T00:00:00\", \"2020-03-20T00:00:00\", \"2020-03-23T00:00:00\", \"2020-03-24T00:00:00\", \"2020-03-25T00:00:00\", \"2020-03-26T00:00:00\", \"2020-03-27T00:00:00\", \"2020-03-30T00:00:00\", \"2020-03-31T00:00:00\", \"2020-04-01T00:00:00\", \"2020-04-02T00:00:00\", \"2020-04-03T00:00:00\", \"2020-04-06T00:00:00\", \"2020-04-07T00:00:00\", \"2020-04-08T00:00:00\", \"2020-04-09T00:00:00\", \"2020-04-14T00:00:00\", \"2020-04-15T00:00:00\", \"2020-04-16T00:00:00\", \"2020-04-17T00:00:00\", \"2020-04-20T00:00:00\", \"2020-04-21T00:00:00\", \"2020-04-22T00:00:00\", \"2020-04-23T00:00:00\", \"2020-04-24T00:00:00\", \"2020-04-27T00:00:00\", \"2020-04-28T00:00:00\", \"2020-04-29T00:00:00\", \"2020-04-30T00:00:00\", \"2020-05-01T00:00:00\", \"2020-05-04T00:00:00\", \"2020-05-05T00:00:00\", \"2020-05-06T00:00:00\", \"2020-05-07T00:00:00\", \"2020-05-08T00:00:00\", \"2020-05-11T00:00:00\", \"2020-05-12T00:00:00\", \"2020-05-13T00:00:00\", \"2020-05-14T00:00:00\", \"2020-05-15T00:00:00\", \"2020-05-18T00:00:00\", \"2020-05-19T00:00:00\", \"2020-05-20T00:00:00\", \"2020-05-21T00:00:00\", \"2020-05-22T00:00:00\", \"2020-05-27T00:00:00\", \"2020-05-28T00:00:00\", \"2020-05-29T00:00:00\", \"2020-06-01T00:00:00\", \"2020-06-02T00:00:00\", \"2020-06-03T00:00:00\", \"2020-06-04T00:00:00\", \"2020-06-05T00:00:00\", \"2020-06-08T00:00:00\", \"2020-06-09T00:00:00\", \"2020-06-10T00:00:00\", \"2020-06-11T00:00:00\", \"2020-06-12T00:00:00\", \"2020-06-15T00:00:00\", \"2020-06-16T00:00:00\", \"2020-06-17T00:00:00\", \"2020-06-18T00:00:00\", \"2020-06-19T00:00:00\", \"2020-06-22T00:00:00\", \"2020-06-23T00:00:00\", \"2020-06-24T00:00:00\", \"2020-06-25T00:00:00\", \"2020-06-26T00:00:00\", \"2020-06-29T00:00:00\", \"2020-06-30T00:00:00\", \"2020-07-01T00:00:00\", \"2020-07-02T00:00:00\", \"2020-07-07T00:00:00\", \"2020-07-08T00:00:00\", \"2020-07-09T00:00:00\", \"2020-07-10T00:00:00\", \"2020-07-13T00:00:00\", \"2020-07-14T00:00:00\", \"2020-07-15T00:00:00\", \"2020-07-16T00:00:00\", \"2020-07-17T00:00:00\", \"2020-07-20T00:00:00\", \"2020-07-21T00:00:00\", \"2020-07-22T00:00:00\", \"2020-07-23T00:00:00\", \"2020-07-24T00:00:00\", \"2020-07-27T00:00:00\", \"2020-07-28T00:00:00\", \"2020-07-29T00:00:00\", \"2020-07-30T00:00:00\", \"2020-07-31T00:00:00\", \"2020-08-03T00:00:00\", \"2020-08-04T00:00:00\", \"2020-08-05T00:00:00\", \"2020-08-06T00:00:00\", \"2020-08-07T00:00:00\", \"2020-08-10T00:00:00\", \"2020-08-11T00:00:00\", \"2020-08-12T00:00:00\", \"2020-08-13T00:00:00\", \"2020-08-14T00:00:00\", \"2020-08-17T00:00:00\", \"2020-08-18T00:00:00\", \"2020-08-19T00:00:00\", \"2020-08-20T00:00:00\", \"2020-08-21T00:00:00\", \"2020-08-24T00:00:00\", \"2020-08-25T00:00:00\", \"2020-08-26T00:00:00\", \"2020-08-27T00:00:00\", \"2020-08-28T00:00:00\", \"2020-08-31T00:00:00\", \"2020-09-01T00:00:00\", \"2020-09-02T00:00:00\", \"2020-09-03T00:00:00\", \"2020-09-04T00:00:00\", \"2020-09-09T00:00:00\", \"2020-09-10T00:00:00\", \"2020-09-11T00:00:00\", \"2020-09-14T00:00:00\", \"2020-09-15T00:00:00\", \"2020-09-16T00:00:00\", \"2020-09-17T00:00:00\", \"2020-09-18T00:00:00\", \"2020-09-21T00:00:00\", \"2020-09-22T00:00:00\", \"2020-09-23T00:00:00\", \"2020-09-24T00:00:00\", \"2020-09-25T00:00:00\", \"2020-09-28T00:00:00\", \"2020-09-29T00:00:00\", \"2020-09-30T00:00:00\", \"2020-10-01T00:00:00\", \"2020-10-02T00:00:00\", \"2020-10-05T00:00:00\", \"2020-10-06T00:00:00\", \"2020-10-07T00:00:00\", \"2020-10-08T00:00:00\", \"2020-10-09T00:00:00\", \"2020-10-12T00:00:00\", \"2020-10-13T00:00:00\", \"2020-10-14T00:00:00\", \"2020-10-15T00:00:00\", \"2020-10-16T00:00:00\", \"2020-10-19T00:00:00\", \"2020-10-20T00:00:00\", \"2020-10-21T00:00:00\", \"2020-10-22T00:00:00\", \"2020-10-23T00:00:00\", \"2020-10-26T00:00:00\", \"2020-10-27T00:00:00\", \"2020-10-28T00:00:00\", \"2020-10-29T00:00:00\", \"2020-10-30T00:00:00\", \"2020-11-02T00:00:00\", \"2020-11-03T00:00:00\", \"2020-11-04T00:00:00\", \"2020-11-05T00:00:00\", \"2020-11-06T00:00:00\", \"2020-11-09T00:00:00\", \"2020-11-10T00:00:00\", \"2020-11-11T00:00:00\", \"2020-11-12T00:00:00\", \"2020-11-13T00:00:00\", \"2020-11-16T00:00:00\", \"2020-11-17T00:00:00\", \"2020-11-18T00:00:00\", \"2020-11-19T00:00:00\", \"2020-11-20T00:00:00\", \"2020-11-23T00:00:00\", \"2020-11-24T00:00:00\", \"2020-11-25T00:00:00\", \"2020-11-30T00:00:00\", \"2020-12-01T00:00:00\", \"2020-12-02T00:00:00\", \"2020-12-03T00:00:00\", \"2020-12-04T00:00:00\", \"2020-12-07T00:00:00\", \"2020-12-08T00:00:00\", \"2020-12-09T00:00:00\", \"2020-12-10T00:00:00\", \"2020-12-11T00:00:00\", \"2020-12-14T00:00:00\", \"2020-12-15T00:00:00\", \"2020-12-16T00:00:00\", \"2020-12-17T00:00:00\", \"2020-12-18T00:00:00\", \"2020-12-21T00:00:00\", \"2020-12-22T00:00:00\", \"2020-12-23T00:00:00\", \"2020-12-24T00:00:00\", \"2020-12-29T00:00:00\", \"2020-12-30T00:00:00\", \"2020-12-31T00:00:00\"], \"xaxis\": \"x\", \"y\": [129.64, 129.8952, 129.38, 129.76, 130.3168, 129.87, 130.305, 130.48, 130.63, 131.57, 131.78, 131.31, 131.31, 130.06, 128.24, 129.05, 128.47, 128.96, 126.65, 127.08, 128.6, 130.92, 130.97, 130.22, 130.58, 131.16, 131.8, 131.55, 131.45, 131.33, 131.22, 130.63, 126.62, 122.61, 121.48, 116.34, 114.63, 119.78, 116.45, 121.32, 117.32, 115.22, 105.86, 110.57, 105.01, 94.5, 102.955, 91.38, 97.17, 91.03, 90.68, 86.41, 82.69, 91.0, 92.13, 98.01, 95.27, 98.02, 96.24, 91.96, 94.19, 92.74, 98.52, 98.91, 102.91, 105.17, 105.4, 102.43, 102.315, 106.05, 103.86, 101.05, 102.67, 102.695, 104.01, 106.18, 106.64, 108.72, 106.45, 103.56, 103.51, 103.98, 102.39, 103.38, 105.63, 104.93, 102.77, 100.42, 101.93, 101.93, 106.06, 104.31, 105.89, 105.22, 105.25, 110.38, 109.91, 109.95, 110.32, 111.39, 113.52, 114.03, 117.44, 119.69, 117.4, 114.97, 107.5, 109.19, 109.45, 111.49, 110.27, 110.25, 109.36, 109.25, 109.45, 106.4, 107.52, 105.23, 107.01, 108.2, 108.17, 108.71, 108.29, 108.49, 106.78, 108.69, 108.84, 110.53, 112.01, 112.02, 112.36, 111.49, 112.78, 113.46, 113.39, 112.58, 112.62, 112.51, 113.76, 112.55, 112.25, 112.56, 113.17, 113.82, 113.8, 115.14, 116.24, 115.94, 116.75, 115.89, 116.13, 115.9, 115.47, 115.0, 114.37, 114.36, 115.92, 115.78, 115.47, 116.31, 117.09, 116.2, 116.19, 118.19, 116.0, 115.98, 115.18, 113.42, 114.03, 115.52, 115.31, 116.1, 115.56, 114.61, 112.09, 112.19, 109.26, 109.41, 110.69, 112.39, 111.53, 112.52, 112.59, 112.83, 114.61, 113.48, 115.3, 116.76, 116.98, 117.83, 116.66, 115.96, 116.32, 116.72, 115.13, 115.53, 115.15, 116.64, 116.9, 114.67, 113.19, 109.92, 110.43, 110.49, 112.53, 114.59, 114.85, 116.56, 116.21, 120.85, 122.55, 122.13, 120.61, 122.9, 125.03, 124.41, 122.85, 123.0, 122.43, 124.07, 126.68, 125.92, 124.61, 125.62, 126.46, 126.75, 128.19, 127.44, 127.97, 127.95, 127.62, 127.17, 125.05, 126.77, 126.38, 127.1, 126.45, 125.83, 124.87, 125.79, 126.12, 126.44, 127.0, 128.02], \"yaxis\": \"y\"}, {\"marker\": {\"color\": [\"red\"], \"size\": [10]}, \"name\": \"Stop Loss\", \"type\": \"scatter\", \"x\": [\"2020-03-09T00:00:00\"], \"y\": [105.86]}, {\"marker\": {\"color\": [\"green\"], \"size\": [10]}, \"name\": \"Take Profit\", \"type\": \"scatter\", \"x\": [\"2020-03-02T00:00:00\"], \"y\": [119.78]}],                        {\"legend\": {\"title\": {\"text\": \"variable\"}, \"tracegroupgap\": 0}, \"margin\": {\"t\": 60}, \"shapes\": [{\"line\": {\"color\": \"red\", \"width\": 2}, \"type\": \"line\", \"x0\": \"2020-02-27T00:00:00\", \"x1\": \"2020-02-27T00:00:00\", \"y0\": 119.07281135963679, \"y1\": 113.60718864036322}, {\"line\": {\"color\": \"red\", \"width\": 2}, \"type\": \"line\", \"x0\": \"2020-02-27T00:00:00\", \"x1\": \"2020-12-31T00:00:00\", \"y0\": 119.07281135963679, \"y1\": 119.07281135963679}, {\"line\": {\"color\": \"red\", \"width\": 2}, \"type\": \"line\", \"x0\": \"2020-02-27T00:00:00\", \"x1\": \"2020-12-31T00:00:00\", \"y0\": 113.60718864036322, \"y1\": 113.60718864036322}], \"template\": {\"data\": {\"bar\": [{\"error_x\": {\"color\": \"#2a3f5f\"}, \"error_y\": {\"color\": \"#2a3f5f\"}, \"marker\": {\"line\": {\"color\": \"#E5ECF6\", \"width\": 0.5}}, \"type\": \"bar\"}], \"barpolar\": [{\"marker\": {\"line\": {\"color\": \"#E5ECF6\", \"width\": 0.5}}, \"type\": \"barpolar\"}], \"carpet\": [{\"aaxis\": {\"endlinecolor\": \"#2a3f5f\", \"gridcolor\": \"white\", \"linecolor\": \"white\", \"minorgridcolor\": \"white\", \"startlinecolor\": \"#2a3f5f\"}, \"baxis\": {\"endlinecolor\": \"#2a3f5f\", \"gridcolor\": \"white\", \"linecolor\": \"white\", \"minorgridcolor\": \"white\", \"startlinecolor\": \"#2a3f5f\"}, \"type\": \"carpet\"}], \"choropleth\": [{\"colorbar\": {\"outlinewidth\": 0, \"ticks\": \"\"}, \"type\": \"choropleth\"}], \"contour\": [{\"colorbar\": {\"outlinewidth\": 0, \"ticks\": \"\"}, \"colorscale\": [[0.0, \"#0d0887\"], [0.1111111111111111, \"#46039f\"], [0.2222222222222222, \"#7201a8\"], [0.3333333333333333, \"#9c179e\"], [0.4444444444444444, \"#bd3786\"], [0.5555555555555556, \"#d8576b\"], [0.6666666666666666, \"#ed7953\"], [0.7777777777777778, \"#fb9f3a\"], [0.8888888888888888, \"#fdca26\"], [1.0, \"#f0f921\"]], \"type\": \"contour\"}], \"contourcarpet\": [{\"colorbar\": {\"outlinewidth\": 0, \"ticks\": \"\"}, \"type\": \"contourcarpet\"}], \"heatmap\": [{\"colorbar\": {\"outlinewidth\": 0, \"ticks\": \"\"}, \"colorscale\": [[0.0, \"#0d0887\"], [0.1111111111111111, \"#46039f\"], [0.2222222222222222, \"#7201a8\"], [0.3333333333333333, \"#9c179e\"], [0.4444444444444444, \"#bd3786\"], [0.5555555555555556, \"#d8576b\"], [0.6666666666666666, \"#ed7953\"], [0.7777777777777778, \"#fb9f3a\"], [0.8888888888888888, \"#fdca26\"], [1.0, \"#f0f921\"]], \"type\": \"heatmap\"}], \"heatmapgl\": [{\"colorbar\": {\"outlinewidth\": 0, \"ticks\": \"\"}, \"colorscale\": [[0.0, \"#0d0887\"], [0.1111111111111111, \"#46039f\"], [0.2222222222222222, \"#7201a8\"], [0.3333333333333333, \"#9c179e\"], [0.4444444444444444, \"#bd3786\"], [0.5555555555555556, \"#d8576b\"], [0.6666666666666666, \"#ed7953\"], [0.7777777777777778, \"#fb9f3a\"], [0.8888888888888888, \"#fdca26\"], [1.0, \"#f0f921\"]], \"type\": \"heatmapgl\"}], \"histogram\": [{\"marker\": {\"colorbar\": {\"outlinewidth\": 0, \"ticks\": \"\"}}, \"type\": \"histogram\"}], \"histogram2d\": [{\"colorbar\": {\"outlinewidth\": 0, \"ticks\": \"\"}, \"colorscale\": [[0.0, \"#0d0887\"], [0.1111111111111111, \"#46039f\"], [0.2222222222222222, \"#7201a8\"], [0.3333333333333333, \"#9c179e\"], [0.4444444444444444, \"#bd3786\"], [0.5555555555555556, \"#d8576b\"], [0.6666666666666666, \"#ed7953\"], [0.7777777777777778, \"#fb9f3a\"], [0.8888888888888888, \"#fdca26\"], [1.0, \"#f0f921\"]], \"type\": \"histogram2d\"}], \"histogram2dcontour\": [{\"colorbar\": {\"outlinewidth\": 0, \"ticks\": \"\"}, \"colorscale\": [[0.0, \"#0d0887\"], [0.1111111111111111, \"#46039f\"], [0.2222222222222222, \"#7201a8\"], [0.3333333333333333, \"#9c179e\"], [0.4444444444444444, \"#bd3786\"], [0.5555555555555556, \"#d8576b\"], [0.6666666666666666, \"#ed7953\"], [0.7777777777777778, \"#fb9f3a\"], [0.8888888888888888, \"#fdca26\"], [1.0, \"#f0f921\"]], \"type\": \"histogram2dcontour\"}], \"mesh3d\": [{\"colorbar\": {\"outlinewidth\": 0, \"ticks\": \"\"}, \"type\": \"mesh3d\"}], \"parcoords\": [{\"line\": {\"colorbar\": {\"outlinewidth\": 0, \"ticks\": \"\"}}, \"type\": \"parcoords\"}], \"pie\": [{\"automargin\": true, \"type\": \"pie\"}], \"scatter\": [{\"marker\": {\"colorbar\": {\"outlinewidth\": 0, \"ticks\": \"\"}}, \"type\": \"scatter\"}], \"scatter3d\": [{\"line\": {\"colorbar\": {\"outlinewidth\": 0, \"ticks\": \"\"}}, \"marker\": {\"colorbar\": {\"outlinewidth\": 0, \"ticks\": \"\"}}, \"type\": \"scatter3d\"}], \"scattercarpet\": [{\"marker\": {\"colorbar\": {\"outlinewidth\": 0, \"ticks\": \"\"}}, \"type\": \"scattercarpet\"}], \"scattergeo\": [{\"marker\": {\"colorbar\": {\"outlinewidth\": 0, \"ticks\": \"\"}}, \"type\": \"scattergeo\"}], \"scattergl\": [{\"marker\": {\"colorbar\": {\"outlinewidth\": 0, \"ticks\": \"\"}}, \"type\": \"scattergl\"}], \"scattermapbox\": [{\"marker\": {\"colorbar\": {\"outlinewidth\": 0, \"ticks\": \"\"}}, \"type\": \"scattermapbox\"}], \"scatterpolar\": [{\"marker\": {\"colorbar\": {\"outlinewidth\": 0, \"ticks\": \"\"}}, \"type\": \"scatterpolar\"}], \"scatterpolargl\": [{\"marker\": {\"colorbar\": {\"outlinewidth\": 0, \"ticks\": \"\"}}, \"type\": \"scatterpolargl\"}], \"scatterternary\": [{\"marker\": {\"colorbar\": {\"outlinewidth\": 0, \"ticks\": \"\"}}, \"type\": \"scatterternary\"}], \"surface\": [{\"colorbar\": {\"outlinewidth\": 0, \"ticks\": \"\"}, \"colorscale\": [[0.0, \"#0d0887\"], [0.1111111111111111, \"#46039f\"], [0.2222222222222222, \"#7201a8\"], [0.3333333333333333, \"#9c179e\"], [0.4444444444444444, \"#bd3786\"], [0.5555555555555556, \"#d8576b\"], [0.6666666666666666, \"#ed7953\"], [0.7777777777777778, \"#fb9f3a\"], [0.8888888888888888, \"#fdca26\"], [1.0, \"#f0f921\"]], \"type\": \"surface\"}], \"table\": [{\"cells\": {\"fill\": {\"color\": \"#EBF0F8\"}, \"line\": {\"color\": \"white\"}}, \"header\": {\"fill\": {\"color\": \"#C8D4E3\"}, \"line\": {\"color\": \"white\"}}, \"type\": \"table\"}]}, \"layout\": {\"annotationdefaults\": {\"arrowcolor\": \"#2a3f5f\", \"arrowhead\": 0, \"arrowwidth\": 1}, \"autotypenumbers\": \"strict\", \"coloraxis\": {\"colorbar\": {\"outlinewidth\": 0, \"ticks\": \"\"}}, \"colorscale\": {\"diverging\": [[0, \"#8e0152\"], [0.1, \"#c51b7d\"], [0.2, \"#de77ae\"], [0.3, \"#f1b6da\"], [0.4, \"#fde0ef\"], [0.5, \"#f7f7f7\"], [0.6, \"#e6f5d0\"], [0.7, \"#b8e186\"], [0.8, \"#7fbc41\"], [0.9, \"#4d9221\"], [1, \"#276419\"]], \"sequential\": [[0.0, \"#0d0887\"], [0.1111111111111111, \"#46039f\"], [0.2222222222222222, \"#7201a8\"], [0.3333333333333333, \"#9c179e\"], [0.4444444444444444, \"#bd3786\"], [0.5555555555555556, \"#d8576b\"], [0.6666666666666666, \"#ed7953\"], [0.7777777777777778, \"#fb9f3a\"], [0.8888888888888888, \"#fdca26\"], [1.0, \"#f0f921\"]], \"sequentialminus\": [[0.0, \"#0d0887\"], [0.1111111111111111, \"#46039f\"], [0.2222222222222222, \"#7201a8\"], [0.3333333333333333, \"#9c179e\"], [0.4444444444444444, \"#bd3786\"], [0.5555555555555556, \"#d8576b\"], [0.6666666666666666, \"#ed7953\"], [0.7777777777777778, \"#fb9f3a\"], [0.8888888888888888, \"#fdca26\"], [1.0, \"#f0f921\"]]}, \"colorway\": [\"#636efa\", \"#EF553B\", \"#00cc96\", \"#ab63fa\", \"#FFA15A\", \"#19d3f3\", \"#FF6692\", \"#B6E880\", \"#FF97FF\", \"#FECB52\"], \"font\": {\"color\": \"#2a3f5f\"}, \"geo\": {\"bgcolor\": \"white\", \"lakecolor\": \"white\", \"landcolor\": \"#E5ECF6\", \"showlakes\": true, \"showland\": true, \"subunitcolor\": \"white\"}, \"hoverlabel\": {\"align\": \"left\"}, \"hovermode\": \"closest\", \"mapbox\": {\"style\": \"light\"}, \"paper_bgcolor\": \"white\", \"plot_bgcolor\": \"#E5ECF6\", \"polar\": {\"angularaxis\": {\"gridcolor\": \"white\", \"linecolor\": \"white\", \"ticks\": \"\"}, \"bgcolor\": \"#E5ECF6\", \"radialaxis\": {\"gridcolor\": \"white\", \"linecolor\": \"white\", \"ticks\": \"\"}}, \"scene\": {\"xaxis\": {\"backgroundcolor\": \"#E5ECF6\", \"gridcolor\": \"white\", \"gridwidth\": 2, \"linecolor\": \"white\", \"showbackground\": true, \"ticks\": \"\", \"zerolinecolor\": \"white\"}, \"yaxis\": {\"backgroundcolor\": \"#E5ECF6\", \"gridcolor\": \"white\", \"gridwidth\": 2, \"linecolor\": \"white\", \"showbackground\": true, \"ticks\": \"\", \"zerolinecolor\": \"white\"}, \"zaxis\": {\"backgroundcolor\": \"#E5ECF6\", \"gridcolor\": \"white\", \"gridwidth\": 2, \"linecolor\": \"white\", \"showbackground\": true, \"ticks\": \"\", \"zerolinecolor\": \"white\"}}, \"shapedefaults\": {\"line\": {\"color\": \"#2a3f5f\"}}, \"ternary\": {\"aaxis\": {\"gridcolor\": \"white\", \"linecolor\": \"white\", \"ticks\": \"\"}, \"baxis\": {\"gridcolor\": \"white\", \"linecolor\": \"white\", \"ticks\": \"\"}, \"bgcolor\": \"#E5ECF6\", \"caxis\": {\"gridcolor\": \"white\", \"linecolor\": \"white\", \"ticks\": \"\"}}, \"title\": {\"x\": 0.05}, \"xaxis\": {\"automargin\": true, \"gridcolor\": \"white\", \"linecolor\": \"white\", \"ticks\": \"\", \"title\": {\"standoff\": 15}, \"zerolinecolor\": \"white\", \"zerolinewidth\": 2}, \"yaxis\": {\"automargin\": true, \"gridcolor\": \"white\", \"linecolor\": \"white\", \"ticks\": \"\", \"title\": {\"standoff\": 15}, \"zerolinecolor\": \"white\", \"zerolinewidth\": 2}}}, \"xaxis\": {\"anchor\": \"y\", \"domain\": [0.0, 1.0], \"title\": {\"text\": \"dates\"}}, \"yaxis\": {\"anchor\": \"x\", \"domain\": [0.0, 1.0], \"title\": {\"text\": \"value\"}}},                        {\"responsive\": true}                    ).then(function(){\n",
              "                            \n",
              "var gd = document.getElementById('0ba0e008-b7a3-439f-8cd3-44a81e3eaf90');\n",
              "var x = new MutationObserver(function (mutations, observer) {{\n",
              "        var display = window.getComputedStyle(gd).display;\n",
              "        if (!display || display === 'none') {{\n",
              "            console.log([gd, 'removed!']);\n",
              "            Plotly.purge(gd);\n",
              "            observer.disconnect();\n",
              "        }}\n",
              "}});\n",
              "\n",
              "// Listen for the removal of the full notebook cells\n",
              "var notebookContainer = gd.closest('#notebook-container');\n",
              "if (notebookContainer) {{\n",
              "    x.observe(notebookContainer, {childList: true});\n",
              "}}\n",
              "\n",
              "// Listen for the clearing of the current output cell\n",
              "var outputEl = gd.closest('.output');\n",
              "if (outputEl) {{\n",
              "    x.observe(outputEl, {childList: true});\n",
              "}}\n",
              "\n",
              "                        })                };                            </script>        </div>\n",
              "</body>\n",
              "</html>"
            ]
          },
          "metadata": {
            "tags": []
          }
        }
      ]
    },
    {
      "cell_type": "markdown",
      "metadata": {
        "id": "V1VKe9Z2ft6P"
      },
      "source": [
        "SNIPPET 3.3 GETTING THE TIME OF FIRST TOUCH\n",
        "\n",
        "Snippet 3.3 implements the function getEvents, which finds the time of the first\n",
        "barrier touch. The function receives the following arguments:\n",
        "* close: A pandas series of prices.\n",
        "* tEvents: The pandas timeindex containing the timestamps that will seed every\n",
        "triple barrier. These are the timestamps selected by the sampling procedures\n",
        "discussed in Chapter 2, Section 2.5.\n",
        "* ptSl: A non-negative float that sets the width of the two barriers. A 0 value\n",
        "means that the respective horizontal barrier (profit taking and/or stop loss) will\n",
        "be disabled.\n",
        "* t1: A pandas series with the timestamps of the vertical barriers. We pass a\n",
        "False when we want to disable vertical barriers.\n",
        "* trgt: A pandas series of targets, expressed in terms of absolute returns.\n",
        "* minRet: The minimum target return required for running a triple barrier search.\n",
        "* numThreads: The number of threads concurrently used by the function.\n",
        "\n",
        "The output from this function is a pandas dataframe with columns:\n",
        "* t1: The timestamp at which the first barrier is touched.\n",
        "* trgt: The target that was used to generate the horizontal barriers."
      ]
    },
    {
      "cell_type": "code",
      "metadata": {
        "id": "rZEjKBXKfuFF"
      },
      "source": [
        "def getEvents(close, tEvents, ptSl, trgt, minRet, numThreads, t1=False):\n",
        "    # 1) get target\n",
        "    trgt = trgt.loc[tEvents]\n",
        "    trgt = trgt[trgt > minRet]  # minRet\n",
        "    # 2) get t1 (max holding period)\n",
        "    if t1 is False: \n",
        "        t1 = pd.Series(pd.NaT, index=tEvents)\n",
        "    # 3) form events object, apply stop loss on t1\n",
        "    side_ = pd.Series(1., index=trgt.index)\n",
        "    events = pd.concat({'t1': t1, 'trgt': trgt, 'side': side_}, axis=1).dropna(subset=['trgt'])\n",
        "    df0 = mpPandasObj(func=applyPtSlOnT1, pdObj=('molecule', events.index), \n",
        "                      numThreads=numThreads, close=close, events=events, ptSl=[ptSl, ptSl])\n",
        "    events['t1'] = df0.dropna(how='all').min(axis=1)  # pd.min ignores nan\n",
        "    events = events.drop('side', axis=1)\n",
        "    return events"
      ],
      "execution_count": null,
      "outputs": []
    },
    {
      "cell_type": "markdown",
      "metadata": {
        "id": "b9WF6aG7f239"
      },
      "source": [
        "SNIPPET 3.4 ADDING A VERTICAL BARRIER\n"
      ]
    },
    {
      "cell_type": "code",
      "metadata": {
        "id": "0zmIzDgXf3km"
      },
      "source": [
        "numDays = 21\n",
        "t1 = close.index.searchsorted(tEvents+pd.Timedelta(days=numDays))\n",
        "t1 = t1[t1<close.shape[0]]\n",
        "t1 = pd.Series(close.index[t1],index=tEvents[:t1.shape[0]]) # NaNs at end"
      ],
      "execution_count": null,
      "outputs": []
    },
    {
      "cell_type": "code",
      "metadata": {
        "colab": {
          "base_uri": "https://localhost:8080/",
          "height": 195
        },
        "id": "NXmFOTXT0Kqq",
        "outputId": "39593314-5300-48ae-aa20-3e91baebfaf6"
      },
      "source": [
        "events2 = getEvents(close, tEvents, ptSl=1, trgt=stds, minRet=0.04, numThreads=1, t1=t1)\n",
        "pt, sl = events2['trgt'], events2['trgt']\n",
        "upper, lower = close[events2.index]*(1+pt), close[events2.index]*(1-sl)\n",
        "events2.head()"
      ],
      "execution_count": null,
      "outputs": [
        {
          "output_type": "execute_result",
          "data": {
            "text/html": [
              "<div>\n",
              "<style scoped>\n",
              "    .dataframe tbody tr th:only-of-type {\n",
              "        vertical-align: middle;\n",
              "    }\n",
              "\n",
              "    .dataframe tbody tr th {\n",
              "        vertical-align: top;\n",
              "    }\n",
              "\n",
              "    .dataframe thead th {\n",
              "        text-align: right;\n",
              "    }\n",
              "</style>\n",
              "<table border=\"1\" class=\"dataframe\">\n",
              "  <thead>\n",
              "    <tr style=\"text-align: right;\">\n",
              "      <th></th>\n",
              "      <th>t1</th>\n",
              "      <th>trgt</th>\n",
              "    </tr>\n",
              "  </thead>\n",
              "  <tbody>\n",
              "    <tr>\n",
              "      <th>2020-03-12</th>\n",
              "      <td>2020-03-13</td>\n",
              "      <td>0.044984</td>\n",
              "    </tr>\n",
              "    <tr>\n",
              "      <th>2020-03-13</th>\n",
              "      <td>2020-03-16</td>\n",
              "      <td>0.043517</td>\n",
              "    </tr>\n",
              "    <tr>\n",
              "      <th>2020-03-16</th>\n",
              "      <td>2020-03-17</td>\n",
              "      <td>0.047672</td>\n",
              "    </tr>\n",
              "    <tr>\n",
              "      <th>2020-03-17</th>\n",
              "      <td>2020-03-18</td>\n",
              "      <td>0.046638</td>\n",
              "    </tr>\n",
              "    <tr>\n",
              "      <th>2020-03-18</th>\n",
              "      <td>2020-03-20</td>\n",
              "      <td>0.045596</td>\n",
              "    </tr>\n",
              "  </tbody>\n",
              "</table>\n",
              "</div>"
            ],
            "text/plain": [
              "                   t1      trgt\n",
              "2020-03-12 2020-03-13  0.044984\n",
              "2020-03-13 2020-03-16  0.043517\n",
              "2020-03-16 2020-03-17  0.047672\n",
              "2020-03-17 2020-03-18  0.046638\n",
              "2020-03-18 2020-03-20  0.045596"
            ]
          },
          "metadata": {
            "tags": []
          },
          "execution_count": 18
        }
      ]
    },
    {
      "cell_type": "code",
      "metadata": {
        "colab": {
          "base_uri": "https://localhost:8080/",
          "height": 542
        },
        "id": "1duxZ83NjWQp",
        "outputId": "9837b3b5-ca76-45f1-f5c4-d05a08356247"
      },
      "source": [
        "i = 2\n",
        "tt1, tt2 = events2.index[i], t1.loc[events2.index].iloc[i]\n",
        "ft = events2['t1'].iloc[i]\n",
        "pft = close.loc[ft]\n",
        "u, l = upper.iloc[i], lower.iloc[i]\n",
        "fig = close.plot()\n",
        "fig.add_shape(type=\"line\", x0=tt1, y0=u, x1=tt1, y1=l, line=dict(color=\"red\", width=2))\n",
        "fig.add_shape(type=\"line\", x0=tt1, y0=u, x1=tt2, y1=u, line=dict(color=\"red\", width=2))\n",
        "fig.add_shape(type=\"line\", x0=tt1, y0=l, x1=tt2, y1=l, line=dict(color=\"red\", width=2))\n",
        "fig.add_shape(type=\"line\", x0=tt2, y0=u, x1=tt2, y1=l, line=dict(color=\"red\", width=2))\n",
        "fig.add_trace(go.Scatter(x=[ft], y=[pft], marker=dict(size=[10], color=['red']), name=\"First Touch\"))\n",
        "fig.show()"
      ],
      "execution_count": null,
      "outputs": [
        {
          "output_type": "display_data",
          "data": {
            "text/html": [
              "<html>\n",
              "<head><meta charset=\"utf-8\" /></head>\n",
              "<body>\n",
              "    <div>            <script src=\"https://cdnjs.cloudflare.com/ajax/libs/mathjax/2.7.5/MathJax.js?config=TeX-AMS-MML_SVG\"></script><script type=\"text/javascript\">if (window.MathJax) {MathJax.Hub.Config({SVG: {font: \"STIX-Web\"}});}</script>                <script type=\"text/javascript\">window.PlotlyConfig = {MathJaxConfig: 'local'};</script>\n",
              "        <script src=\"https://cdn.plot.ly/plotly-latest.min.js\"></script>                <div id=\"0f3ddc25-81e4-479e-9408-1dc4434ea4d2\" class=\"plotly-graph-div\" style=\"height:525px; width:100%;\"></div>            <script type=\"text/javascript\">                                    window.PLOTLYENV=window.PLOTLYENV || {};                                    if (document.getElementById(\"0f3ddc25-81e4-479e-9408-1dc4434ea4d2\")) {                    Plotly.newPlot(                        \"0f3ddc25-81e4-479e-9408-1dc4434ea4d2\",                        [{\"hovertemplate\": \"variable=close<br>dates=%{x}<br>value=%{y}<extra></extra>\", \"legendgroup\": \"close\", \"line\": {\"color\": \"#636efa\", \"dash\": \"solid\"}, \"mode\": \"lines\", \"name\": \"close\", \"orientation\": \"v\", \"showlegend\": true, \"type\": \"scatter\", \"x\": [\"2020-01-03T00:00:00\", \"2020-01-06T00:00:00\", \"2020-01-07T00:00:00\", \"2020-01-08T00:00:00\", \"2020-01-09T00:00:00\", \"2020-01-10T00:00:00\", \"2020-01-13T00:00:00\", \"2020-01-14T00:00:00\", \"2020-01-15T00:00:00\", \"2020-01-16T00:00:00\", \"2020-01-17T00:00:00\", \"2020-01-22T00:00:00\", \"2020-01-23T00:00:00\", \"2020-01-24T00:00:00\", \"2020-01-27T00:00:00\", \"2020-01-28T00:00:00\", \"2020-01-29T00:00:00\", \"2020-01-30T00:00:00\", \"2020-01-31T00:00:00\", \"2020-02-03T00:00:00\", \"2020-02-04T00:00:00\", \"2020-02-05T00:00:00\", \"2020-02-06T00:00:00\", \"2020-02-07T00:00:00\", \"2020-02-10T00:00:00\", \"2020-02-11T00:00:00\", \"2020-02-12T00:00:00\", \"2020-02-13T00:00:00\", \"2020-02-14T00:00:00\", \"2020-02-19T00:00:00\", \"2020-02-20T00:00:00\", \"2020-02-21T00:00:00\", \"2020-02-24T00:00:00\", \"2020-02-25T00:00:00\", \"2020-02-26T00:00:00\", \"2020-02-27T00:00:00\", \"2020-02-28T00:00:00\", \"2020-03-02T00:00:00\", \"2020-03-03T00:00:00\", \"2020-03-04T00:00:00\", \"2020-03-05T00:00:00\", \"2020-03-06T00:00:00\", \"2020-03-09T00:00:00\", \"2020-03-10T00:00:00\", \"2020-03-11T00:00:00\", \"2020-03-12T00:00:00\", \"2020-03-13T00:00:00\", \"2020-03-16T00:00:00\", \"2020-03-17T00:00:00\", \"2020-03-18T00:00:00\", \"2020-03-19T00:00:00\", \"2020-03-20T00:00:00\", \"2020-03-23T00:00:00\", \"2020-03-24T00:00:00\", \"2020-03-25T00:00:00\", \"2020-03-26T00:00:00\", \"2020-03-27T00:00:00\", \"2020-03-30T00:00:00\", \"2020-03-31T00:00:00\", \"2020-04-01T00:00:00\", \"2020-04-02T00:00:00\", \"2020-04-03T00:00:00\", \"2020-04-06T00:00:00\", \"2020-04-07T00:00:00\", \"2020-04-08T00:00:00\", \"2020-04-09T00:00:00\", \"2020-04-14T00:00:00\", \"2020-04-15T00:00:00\", \"2020-04-16T00:00:00\", \"2020-04-17T00:00:00\", \"2020-04-20T00:00:00\", \"2020-04-21T00:00:00\", \"2020-04-22T00:00:00\", \"2020-04-23T00:00:00\", \"2020-04-24T00:00:00\", \"2020-04-27T00:00:00\", \"2020-04-28T00:00:00\", \"2020-04-29T00:00:00\", \"2020-04-30T00:00:00\", \"2020-05-01T00:00:00\", \"2020-05-04T00:00:00\", \"2020-05-05T00:00:00\", \"2020-05-06T00:00:00\", \"2020-05-07T00:00:00\", \"2020-05-08T00:00:00\", \"2020-05-11T00:00:00\", \"2020-05-12T00:00:00\", \"2020-05-13T00:00:00\", \"2020-05-14T00:00:00\", \"2020-05-15T00:00:00\", \"2020-05-18T00:00:00\", \"2020-05-19T00:00:00\", \"2020-05-20T00:00:00\", \"2020-05-21T00:00:00\", \"2020-05-22T00:00:00\", \"2020-05-27T00:00:00\", \"2020-05-28T00:00:00\", \"2020-05-29T00:00:00\", \"2020-06-01T00:00:00\", \"2020-06-02T00:00:00\", \"2020-06-03T00:00:00\", \"2020-06-04T00:00:00\", \"2020-06-05T00:00:00\", \"2020-06-08T00:00:00\", \"2020-06-09T00:00:00\", \"2020-06-10T00:00:00\", \"2020-06-11T00:00:00\", \"2020-06-12T00:00:00\", \"2020-06-15T00:00:00\", \"2020-06-16T00:00:00\", \"2020-06-17T00:00:00\", \"2020-06-18T00:00:00\", \"2020-06-19T00:00:00\", \"2020-06-22T00:00:00\", \"2020-06-23T00:00:00\", \"2020-06-24T00:00:00\", \"2020-06-25T00:00:00\", \"2020-06-26T00:00:00\", \"2020-06-29T00:00:00\", \"2020-06-30T00:00:00\", \"2020-07-01T00:00:00\", \"2020-07-02T00:00:00\", \"2020-07-07T00:00:00\", \"2020-07-08T00:00:00\", \"2020-07-09T00:00:00\", \"2020-07-10T00:00:00\", \"2020-07-13T00:00:00\", \"2020-07-14T00:00:00\", \"2020-07-15T00:00:00\", \"2020-07-16T00:00:00\", \"2020-07-17T00:00:00\", \"2020-07-20T00:00:00\", \"2020-07-21T00:00:00\", \"2020-07-22T00:00:00\", \"2020-07-23T00:00:00\", \"2020-07-24T00:00:00\", \"2020-07-27T00:00:00\", \"2020-07-28T00:00:00\", \"2020-07-29T00:00:00\", \"2020-07-30T00:00:00\", \"2020-07-31T00:00:00\", \"2020-08-03T00:00:00\", \"2020-08-04T00:00:00\", \"2020-08-05T00:00:00\", \"2020-08-06T00:00:00\", \"2020-08-07T00:00:00\", \"2020-08-10T00:00:00\", \"2020-08-11T00:00:00\", \"2020-08-12T00:00:00\", \"2020-08-13T00:00:00\", \"2020-08-14T00:00:00\", \"2020-08-17T00:00:00\", \"2020-08-18T00:00:00\", \"2020-08-19T00:00:00\", \"2020-08-20T00:00:00\", \"2020-08-21T00:00:00\", \"2020-08-24T00:00:00\", \"2020-08-25T00:00:00\", \"2020-08-26T00:00:00\", \"2020-08-27T00:00:00\", \"2020-08-28T00:00:00\", \"2020-08-31T00:00:00\", \"2020-09-01T00:00:00\", \"2020-09-02T00:00:00\", \"2020-09-03T00:00:00\", \"2020-09-04T00:00:00\", \"2020-09-09T00:00:00\", \"2020-09-10T00:00:00\", \"2020-09-11T00:00:00\", \"2020-09-14T00:00:00\", \"2020-09-15T00:00:00\", \"2020-09-16T00:00:00\", \"2020-09-17T00:00:00\", \"2020-09-18T00:00:00\", \"2020-09-21T00:00:00\", \"2020-09-22T00:00:00\", \"2020-09-23T00:00:00\", \"2020-09-24T00:00:00\", \"2020-09-25T00:00:00\", \"2020-09-28T00:00:00\", \"2020-09-29T00:00:00\", \"2020-09-30T00:00:00\", \"2020-10-01T00:00:00\", \"2020-10-02T00:00:00\", \"2020-10-05T00:00:00\", \"2020-10-06T00:00:00\", \"2020-10-07T00:00:00\", \"2020-10-08T00:00:00\", \"2020-10-09T00:00:00\", \"2020-10-12T00:00:00\", \"2020-10-13T00:00:00\", \"2020-10-14T00:00:00\", \"2020-10-15T00:00:00\", \"2020-10-16T00:00:00\", \"2020-10-19T00:00:00\", \"2020-10-20T00:00:00\", \"2020-10-21T00:00:00\", \"2020-10-22T00:00:00\", \"2020-10-23T00:00:00\", \"2020-10-26T00:00:00\", \"2020-10-27T00:00:00\", \"2020-10-28T00:00:00\", \"2020-10-29T00:00:00\", \"2020-10-30T00:00:00\", \"2020-11-02T00:00:00\", \"2020-11-03T00:00:00\", \"2020-11-04T00:00:00\", \"2020-11-05T00:00:00\", \"2020-11-06T00:00:00\", \"2020-11-09T00:00:00\", \"2020-11-10T00:00:00\", \"2020-11-11T00:00:00\", \"2020-11-12T00:00:00\", \"2020-11-13T00:00:00\", \"2020-11-16T00:00:00\", \"2020-11-17T00:00:00\", \"2020-11-18T00:00:00\", \"2020-11-19T00:00:00\", \"2020-11-20T00:00:00\", \"2020-11-23T00:00:00\", \"2020-11-24T00:00:00\", \"2020-11-25T00:00:00\", \"2020-11-30T00:00:00\", \"2020-12-01T00:00:00\", \"2020-12-02T00:00:00\", \"2020-12-03T00:00:00\", \"2020-12-04T00:00:00\", \"2020-12-07T00:00:00\", \"2020-12-08T00:00:00\", \"2020-12-09T00:00:00\", \"2020-12-10T00:00:00\", \"2020-12-11T00:00:00\", \"2020-12-14T00:00:00\", \"2020-12-15T00:00:00\", \"2020-12-16T00:00:00\", \"2020-12-17T00:00:00\", \"2020-12-18T00:00:00\", \"2020-12-21T00:00:00\", \"2020-12-22T00:00:00\", \"2020-12-23T00:00:00\", \"2020-12-24T00:00:00\", \"2020-12-29T00:00:00\", \"2020-12-30T00:00:00\", \"2020-12-31T00:00:00\"], \"xaxis\": \"x\", \"y\": [129.64, 129.8952, 129.38, 129.76, 130.3168, 129.87, 130.305, 130.48, 130.63, 131.57, 131.78, 131.31, 131.31, 130.06, 128.24, 129.05, 128.47, 128.96, 126.65, 127.08, 128.6, 130.92, 130.97, 130.22, 130.58, 131.16, 131.8, 131.55, 131.45, 131.33, 131.22, 130.63, 126.62, 122.61, 121.48, 116.34, 114.63, 119.78, 116.45, 121.32, 117.32, 115.22, 105.86, 110.57, 105.01, 94.5, 102.955, 91.38, 97.17, 91.03, 90.68, 86.41, 82.69, 91.0, 92.13, 98.01, 95.27, 98.02, 96.24, 91.96, 94.19, 92.74, 98.52, 98.91, 102.91, 105.17, 105.4, 102.43, 102.315, 106.05, 103.86, 101.05, 102.67, 102.695, 104.01, 106.18, 106.64, 108.72, 106.45, 103.56, 103.51, 103.98, 102.39, 103.38, 105.63, 104.93, 102.77, 100.42, 101.93, 101.93, 106.06, 104.31, 105.89, 105.22, 105.25, 110.38, 109.91, 109.95, 110.32, 111.39, 113.52, 114.03, 117.44, 119.69, 117.4, 114.97, 107.5, 109.19, 109.45, 111.49, 110.27, 110.25, 109.36, 109.25, 109.45, 106.4, 107.52, 105.23, 107.01, 108.2, 108.17, 108.71, 108.29, 108.49, 106.78, 108.69, 108.84, 110.53, 112.01, 112.02, 112.36, 111.49, 112.78, 113.46, 113.39, 112.58, 112.62, 112.51, 113.76, 112.55, 112.25, 112.56, 113.17, 113.82, 113.8, 115.14, 116.24, 115.94, 116.75, 115.89, 116.13, 115.9, 115.47, 115.0, 114.37, 114.36, 115.92, 115.78, 115.47, 116.31, 117.09, 116.2, 116.19, 118.19, 116.0, 115.98, 115.18, 113.42, 114.03, 115.52, 115.31, 116.1, 115.56, 114.61, 112.09, 112.19, 109.26, 109.41, 110.69, 112.39, 111.53, 112.52, 112.59, 112.83, 114.61, 113.48, 115.3, 116.76, 116.98, 117.83, 116.66, 115.96, 116.32, 116.72, 115.13, 115.53, 115.15, 116.64, 116.9, 114.67, 113.19, 109.92, 110.43, 110.49, 112.53, 114.59, 114.85, 116.56, 116.21, 120.85, 122.55, 122.13, 120.61, 122.9, 125.03, 124.41, 122.85, 123.0, 122.43, 124.07, 126.68, 125.92, 124.61, 125.62, 126.46, 126.75, 128.19, 127.44, 127.97, 127.95, 127.62, 127.17, 125.05, 126.77, 126.38, 127.1, 126.45, 125.83, 124.87, 125.79, 126.12, 126.44, 127.0, 128.02], \"yaxis\": \"y\"}, {\"marker\": {\"color\": [\"red\"], \"size\": [10]}, \"name\": \"First Touch\", \"type\": \"scatter\", \"x\": [\"2020-03-17T00:00:00\"], \"y\": [97.17]}],                        {\"legend\": {\"title\": {\"text\": \"variable\"}, \"tracegroupgap\": 0}, \"margin\": {\"t\": 60}, \"shapes\": [{\"line\": {\"color\": \"red\", \"width\": 2}, \"type\": \"line\", \"x0\": \"2020-03-16T00:00:00\", \"x1\": \"2020-03-16T00:00:00\", \"y0\": 95.73628655631042, \"y1\": 87.02371344368957}, {\"line\": {\"color\": \"red\", \"width\": 2}, \"type\": \"line\", \"x0\": \"2020-03-16T00:00:00\", \"x1\": \"2020-04-06T00:00:00\", \"y0\": 95.73628655631042, \"y1\": 95.73628655631042}, {\"line\": {\"color\": \"red\", \"width\": 2}, \"type\": \"line\", \"x0\": \"2020-03-16T00:00:00\", \"x1\": \"2020-04-06T00:00:00\", \"y0\": 87.02371344368957, \"y1\": 87.02371344368957}, {\"line\": {\"color\": \"red\", \"width\": 2}, \"type\": \"line\", \"x0\": \"2020-04-06T00:00:00\", \"x1\": \"2020-04-06T00:00:00\", \"y0\": 95.73628655631042, \"y1\": 87.02371344368957}], \"template\": {\"data\": {\"bar\": [{\"error_x\": {\"color\": \"#2a3f5f\"}, \"error_y\": {\"color\": \"#2a3f5f\"}, \"marker\": {\"line\": {\"color\": \"#E5ECF6\", \"width\": 0.5}}, \"type\": \"bar\"}], \"barpolar\": [{\"marker\": {\"line\": {\"color\": \"#E5ECF6\", \"width\": 0.5}}, \"type\": \"barpolar\"}], \"carpet\": [{\"aaxis\": {\"endlinecolor\": \"#2a3f5f\", \"gridcolor\": \"white\", \"linecolor\": \"white\", \"minorgridcolor\": \"white\", \"startlinecolor\": \"#2a3f5f\"}, \"baxis\": {\"endlinecolor\": \"#2a3f5f\", \"gridcolor\": \"white\", \"linecolor\": \"white\", \"minorgridcolor\": \"white\", \"startlinecolor\": \"#2a3f5f\"}, \"type\": \"carpet\"}], \"choropleth\": [{\"colorbar\": {\"outlinewidth\": 0, \"ticks\": \"\"}, \"type\": \"choropleth\"}], \"contour\": [{\"colorbar\": {\"outlinewidth\": 0, \"ticks\": \"\"}, \"colorscale\": [[0.0, \"#0d0887\"], [0.1111111111111111, \"#46039f\"], [0.2222222222222222, \"#7201a8\"], [0.3333333333333333, \"#9c179e\"], [0.4444444444444444, \"#bd3786\"], [0.5555555555555556, \"#d8576b\"], [0.6666666666666666, \"#ed7953\"], [0.7777777777777778, \"#fb9f3a\"], [0.8888888888888888, \"#fdca26\"], [1.0, \"#f0f921\"]], \"type\": \"contour\"}], \"contourcarpet\": [{\"colorbar\": {\"outlinewidth\": 0, \"ticks\": \"\"}, \"type\": \"contourcarpet\"}], \"heatmap\": [{\"colorbar\": {\"outlinewidth\": 0, \"ticks\": \"\"}, \"colorscale\": [[0.0, \"#0d0887\"], [0.1111111111111111, \"#46039f\"], [0.2222222222222222, \"#7201a8\"], [0.3333333333333333, \"#9c179e\"], [0.4444444444444444, \"#bd3786\"], [0.5555555555555556, \"#d8576b\"], [0.6666666666666666, \"#ed7953\"], [0.7777777777777778, \"#fb9f3a\"], [0.8888888888888888, \"#fdca26\"], [1.0, \"#f0f921\"]], \"type\": \"heatmap\"}], \"heatmapgl\": [{\"colorbar\": {\"outlinewidth\": 0, \"ticks\": \"\"}, \"colorscale\": [[0.0, \"#0d0887\"], [0.1111111111111111, \"#46039f\"], [0.2222222222222222, \"#7201a8\"], [0.3333333333333333, \"#9c179e\"], [0.4444444444444444, \"#bd3786\"], [0.5555555555555556, \"#d8576b\"], [0.6666666666666666, \"#ed7953\"], [0.7777777777777778, \"#fb9f3a\"], [0.8888888888888888, \"#fdca26\"], [1.0, \"#f0f921\"]], \"type\": \"heatmapgl\"}], \"histogram\": [{\"marker\": {\"colorbar\": {\"outlinewidth\": 0, \"ticks\": \"\"}}, \"type\": \"histogram\"}], \"histogram2d\": [{\"colorbar\": {\"outlinewidth\": 0, \"ticks\": \"\"}, \"colorscale\": [[0.0, \"#0d0887\"], [0.1111111111111111, \"#46039f\"], [0.2222222222222222, \"#7201a8\"], [0.3333333333333333, \"#9c179e\"], [0.4444444444444444, \"#bd3786\"], [0.5555555555555556, \"#d8576b\"], [0.6666666666666666, \"#ed7953\"], [0.7777777777777778, \"#fb9f3a\"], [0.8888888888888888, \"#fdca26\"], [1.0, \"#f0f921\"]], \"type\": \"histogram2d\"}], \"histogram2dcontour\": [{\"colorbar\": {\"outlinewidth\": 0, \"ticks\": \"\"}, \"colorscale\": [[0.0, \"#0d0887\"], [0.1111111111111111, \"#46039f\"], [0.2222222222222222, \"#7201a8\"], [0.3333333333333333, \"#9c179e\"], [0.4444444444444444, \"#bd3786\"], [0.5555555555555556, \"#d8576b\"], [0.6666666666666666, \"#ed7953\"], [0.7777777777777778, \"#fb9f3a\"], [0.8888888888888888, \"#fdca26\"], [1.0, \"#f0f921\"]], \"type\": \"histogram2dcontour\"}], \"mesh3d\": [{\"colorbar\": {\"outlinewidth\": 0, \"ticks\": \"\"}, \"type\": \"mesh3d\"}], \"parcoords\": [{\"line\": {\"colorbar\": {\"outlinewidth\": 0, \"ticks\": \"\"}}, \"type\": \"parcoords\"}], \"pie\": [{\"automargin\": true, \"type\": \"pie\"}], \"scatter\": [{\"marker\": {\"colorbar\": {\"outlinewidth\": 0, \"ticks\": \"\"}}, \"type\": \"scatter\"}], \"scatter3d\": [{\"line\": {\"colorbar\": {\"outlinewidth\": 0, \"ticks\": \"\"}}, \"marker\": {\"colorbar\": {\"outlinewidth\": 0, \"ticks\": \"\"}}, \"type\": \"scatter3d\"}], \"scattercarpet\": [{\"marker\": {\"colorbar\": {\"outlinewidth\": 0, \"ticks\": \"\"}}, \"type\": \"scattercarpet\"}], \"scattergeo\": [{\"marker\": {\"colorbar\": {\"outlinewidth\": 0, \"ticks\": \"\"}}, \"type\": \"scattergeo\"}], \"scattergl\": [{\"marker\": {\"colorbar\": {\"outlinewidth\": 0, \"ticks\": \"\"}}, \"type\": \"scattergl\"}], \"scattermapbox\": [{\"marker\": {\"colorbar\": {\"outlinewidth\": 0, \"ticks\": \"\"}}, \"type\": \"scattermapbox\"}], \"scatterpolar\": [{\"marker\": {\"colorbar\": {\"outlinewidth\": 0, \"ticks\": \"\"}}, \"type\": \"scatterpolar\"}], \"scatterpolargl\": [{\"marker\": {\"colorbar\": {\"outlinewidth\": 0, \"ticks\": \"\"}}, \"type\": \"scatterpolargl\"}], \"scatterternary\": [{\"marker\": {\"colorbar\": {\"outlinewidth\": 0, \"ticks\": \"\"}}, \"type\": \"scatterternary\"}], \"surface\": [{\"colorbar\": {\"outlinewidth\": 0, \"ticks\": \"\"}, \"colorscale\": [[0.0, \"#0d0887\"], [0.1111111111111111, \"#46039f\"], [0.2222222222222222, \"#7201a8\"], [0.3333333333333333, \"#9c179e\"], [0.4444444444444444, \"#bd3786\"], [0.5555555555555556, \"#d8576b\"], [0.6666666666666666, \"#ed7953\"], [0.7777777777777778, \"#fb9f3a\"], [0.8888888888888888, \"#fdca26\"], [1.0, \"#f0f921\"]], \"type\": \"surface\"}], \"table\": [{\"cells\": {\"fill\": {\"color\": \"#EBF0F8\"}, \"line\": {\"color\": \"white\"}}, \"header\": {\"fill\": {\"color\": \"#C8D4E3\"}, \"line\": {\"color\": \"white\"}}, \"type\": \"table\"}]}, \"layout\": {\"annotationdefaults\": {\"arrowcolor\": \"#2a3f5f\", \"arrowhead\": 0, \"arrowwidth\": 1}, \"autotypenumbers\": \"strict\", \"coloraxis\": {\"colorbar\": {\"outlinewidth\": 0, \"ticks\": \"\"}}, \"colorscale\": {\"diverging\": [[0, \"#8e0152\"], [0.1, \"#c51b7d\"], [0.2, \"#de77ae\"], [0.3, \"#f1b6da\"], [0.4, \"#fde0ef\"], [0.5, \"#f7f7f7\"], [0.6, \"#e6f5d0\"], [0.7, \"#b8e186\"], [0.8, \"#7fbc41\"], [0.9, \"#4d9221\"], [1, \"#276419\"]], \"sequential\": [[0.0, \"#0d0887\"], [0.1111111111111111, \"#46039f\"], [0.2222222222222222, \"#7201a8\"], [0.3333333333333333, \"#9c179e\"], [0.4444444444444444, \"#bd3786\"], [0.5555555555555556, \"#d8576b\"], [0.6666666666666666, \"#ed7953\"], [0.7777777777777778, \"#fb9f3a\"], [0.8888888888888888, \"#fdca26\"], [1.0, \"#f0f921\"]], \"sequentialminus\": [[0.0, \"#0d0887\"], [0.1111111111111111, \"#46039f\"], [0.2222222222222222, \"#7201a8\"], [0.3333333333333333, \"#9c179e\"], [0.4444444444444444, \"#bd3786\"], [0.5555555555555556, \"#d8576b\"], [0.6666666666666666, \"#ed7953\"], [0.7777777777777778, \"#fb9f3a\"], [0.8888888888888888, \"#fdca26\"], [1.0, \"#f0f921\"]]}, \"colorway\": [\"#636efa\", \"#EF553B\", \"#00cc96\", \"#ab63fa\", \"#FFA15A\", \"#19d3f3\", \"#FF6692\", \"#B6E880\", \"#FF97FF\", \"#FECB52\"], \"font\": {\"color\": \"#2a3f5f\"}, \"geo\": {\"bgcolor\": \"white\", \"lakecolor\": \"white\", \"landcolor\": \"#E5ECF6\", \"showlakes\": true, \"showland\": true, \"subunitcolor\": \"white\"}, \"hoverlabel\": {\"align\": \"left\"}, \"hovermode\": \"closest\", \"mapbox\": {\"style\": \"light\"}, \"paper_bgcolor\": \"white\", \"plot_bgcolor\": \"#E5ECF6\", \"polar\": {\"angularaxis\": {\"gridcolor\": \"white\", \"linecolor\": \"white\", \"ticks\": \"\"}, \"bgcolor\": \"#E5ECF6\", \"radialaxis\": {\"gridcolor\": \"white\", \"linecolor\": \"white\", \"ticks\": \"\"}}, \"scene\": {\"xaxis\": {\"backgroundcolor\": \"#E5ECF6\", \"gridcolor\": \"white\", \"gridwidth\": 2, \"linecolor\": \"white\", \"showbackground\": true, \"ticks\": \"\", \"zerolinecolor\": \"white\"}, \"yaxis\": {\"backgroundcolor\": \"#E5ECF6\", \"gridcolor\": \"white\", \"gridwidth\": 2, \"linecolor\": \"white\", \"showbackground\": true, \"ticks\": \"\", \"zerolinecolor\": \"white\"}, \"zaxis\": {\"backgroundcolor\": \"#E5ECF6\", \"gridcolor\": \"white\", \"gridwidth\": 2, \"linecolor\": \"white\", \"showbackground\": true, \"ticks\": \"\", \"zerolinecolor\": \"white\"}}, \"shapedefaults\": {\"line\": {\"color\": \"#2a3f5f\"}}, \"ternary\": {\"aaxis\": {\"gridcolor\": \"white\", \"linecolor\": \"white\", \"ticks\": \"\"}, \"baxis\": {\"gridcolor\": \"white\", \"linecolor\": \"white\", \"ticks\": \"\"}, \"bgcolor\": \"#E5ECF6\", \"caxis\": {\"gridcolor\": \"white\", \"linecolor\": \"white\", \"ticks\": \"\"}}, \"title\": {\"x\": 0.05}, \"xaxis\": {\"automargin\": true, \"gridcolor\": \"white\", \"linecolor\": \"white\", \"ticks\": \"\", \"title\": {\"standoff\": 15}, \"zerolinecolor\": \"white\", \"zerolinewidth\": 2}, \"yaxis\": {\"automargin\": true, \"gridcolor\": \"white\", \"linecolor\": \"white\", \"ticks\": \"\", \"title\": {\"standoff\": 15}, \"zerolinecolor\": \"white\", \"zerolinewidth\": 2}}}, \"xaxis\": {\"anchor\": \"y\", \"domain\": [0.0, 1.0], \"title\": {\"text\": \"dates\"}}, \"yaxis\": {\"anchor\": \"x\", \"domain\": [0.0, 1.0], \"title\": {\"text\": \"value\"}}},                        {\"responsive\": true}                    ).then(function(){\n",
              "                            \n",
              "var gd = document.getElementById('0f3ddc25-81e4-479e-9408-1dc4434ea4d2');\n",
              "var x = new MutationObserver(function (mutations, observer) {{\n",
              "        var display = window.getComputedStyle(gd).display;\n",
              "        if (!display || display === 'none') {{\n",
              "            console.log([gd, 'removed!']);\n",
              "            Plotly.purge(gd);\n",
              "            observer.disconnect();\n",
              "        }}\n",
              "}});\n",
              "\n",
              "// Listen for the removal of the full notebook cells\n",
              "var notebookContainer = gd.closest('#notebook-container');\n",
              "if (notebookContainer) {{\n",
              "    x.observe(notebookContainer, {childList: true});\n",
              "}}\n",
              "\n",
              "// Listen for the clearing of the current output cell\n",
              "var outputEl = gd.closest('.output');\n",
              "if (outputEl) {{\n",
              "    x.observe(outputEl, {childList: true});\n",
              "}}\n",
              "\n",
              "                        })                };                            </script>        </div>\n",
              "</body>\n",
              "</html>"
            ]
          },
          "metadata": {
            "tags": []
          }
        }
      ]
    },
    {
      "cell_type": "markdown",
      "metadata": {
        "id": "M_dTsNpsf9GW"
      },
      "source": [
        "SNIPPET 3.5 LABELING FOR SIDE AND SIZE"
      ]
    },
    {
      "cell_type": "code",
      "metadata": {
        "id": "zB0SpkoFf_R2"
      },
      "source": [
        "def getBins(events, close):\n",
        "    # 1) prices aligned with events\n",
        "    events_ = events.dropna(subset=['t1'])\n",
        "    px = events_.index.union(events_['t1'].values).drop_duplicates()\n",
        "    px = close.reindex(px, method='bfill')\n",
        "    # 2) create out object\n",
        "    out = pd.DataFrame(index=events_.index)\n",
        "    out['ret'] = px.loc[events_['t1'].values].values / px.loc[events_.index] - 1\n",
        "    out['bin'] = np.sign(out['ret'])\n",
        "    return out"
      ],
      "execution_count": null,
      "outputs": []
    },
    {
      "cell_type": "code",
      "metadata": {
        "colab": {
          "base_uri": "https://localhost:8080/",
          "height": 195
        },
        "id": "pjG0gdeeslwP",
        "outputId": "9527fb2c-eb77-4abe-a8ce-13ff668a8082"
      },
      "source": [
        "out3 = getBins(events2, close)\n",
        "out3.head()"
      ],
      "execution_count": null,
      "outputs": [
        {
          "output_type": "execute_result",
          "data": {
            "text/html": [
              "<div>\n",
              "<style scoped>\n",
              "    .dataframe tbody tr th:only-of-type {\n",
              "        vertical-align: middle;\n",
              "    }\n",
              "\n",
              "    .dataframe tbody tr th {\n",
              "        vertical-align: top;\n",
              "    }\n",
              "\n",
              "    .dataframe thead th {\n",
              "        text-align: right;\n",
              "    }\n",
              "</style>\n",
              "<table border=\"1\" class=\"dataframe\">\n",
              "  <thead>\n",
              "    <tr style=\"text-align: right;\">\n",
              "      <th></th>\n",
              "      <th>ret</th>\n",
              "      <th>bin</th>\n",
              "    </tr>\n",
              "  </thead>\n",
              "  <tbody>\n",
              "    <tr>\n",
              "      <th>2020-03-12</th>\n",
              "      <td>0.089471</td>\n",
              "      <td>1.0</td>\n",
              "    </tr>\n",
              "    <tr>\n",
              "      <th>2020-03-13</th>\n",
              "      <td>-0.112428</td>\n",
              "      <td>-1.0</td>\n",
              "    </tr>\n",
              "    <tr>\n",
              "      <th>2020-03-16</th>\n",
              "      <td>0.063362</td>\n",
              "      <td>1.0</td>\n",
              "    </tr>\n",
              "    <tr>\n",
              "      <th>2020-03-17</th>\n",
              "      <td>-0.063188</td>\n",
              "      <td>-1.0</td>\n",
              "    </tr>\n",
              "    <tr>\n",
              "      <th>2020-03-18</th>\n",
              "      <td>-0.050752</td>\n",
              "      <td>-1.0</td>\n",
              "    </tr>\n",
              "  </tbody>\n",
              "</table>\n",
              "</div>"
            ],
            "text/plain": [
              "                 ret  bin\n",
              "2020-03-12  0.089471  1.0\n",
              "2020-03-13 -0.112428 -1.0\n",
              "2020-03-16  0.063362  1.0\n",
              "2020-03-17 -0.063188 -1.0\n",
              "2020-03-18 -0.050752 -1.0"
            ]
          },
          "metadata": {
            "tags": []
          },
          "execution_count": 27
        }
      ]
    },
    {
      "cell_type": "markdown",
      "metadata": {
        "id": "W1MwITE4gC21"
      },
      "source": [
        "SNIPPET 3.6 EXPANDING getEvents TO INCORPORATE\n",
        "META-LABELING"
      ]
    },
    {
      "cell_type": "code",
      "metadata": {
        "id": "ro6_s3GZgDcl"
      },
      "source": [
        "def getEventsM(close,tEvents,ptSl,trgt,minRet,numThreads,t1=False,side=None):\n",
        "  #1) get target\n",
        "  trgt = trgt.loc[tEvents]\n",
        "  trgt = trgt[trgt > minRet] # minRet\n",
        "  #2) get t1 (max holding period)\n",
        "  if t1 is False:\n",
        "    t1 = pd.Series(pd.NaT, index=tEvents)\n",
        "  #3) form events object, apply stop loss on t1\n",
        "  if side is None:\n",
        "    side_, ptSl_ = pd.Series(1.,index=trgt.index), [ptSl[0],ptSl[0]]\n",
        "  else:\n",
        "    side_, ptSl_ = side.loc[trgt.index], ptSl[:2]\n",
        "  events = pd.concat({'t1':t1,'trgt':trgt,'side':side_},axis=1).dropna(subset=['trgt'])\n",
        "  df0 = mpPandasObj(func=applyPtSlOnT1, pdObj=('molecule',events.index), \n",
        "                    numThreads=numThreads, close=close, events=events, ptSl=ptSl_)\n",
        "  events['t1'] = df0.dropna(how='all').min(axis=1) # pd.min ignores nan\n",
        "  if side is None:\n",
        "    events = events.drop('side',axis=1)\n",
        "  return events"
      ],
      "execution_count": null,
      "outputs": []
    },
    {
      "cell_type": "code",
      "metadata": {
        "colab": {
          "base_uri": "https://localhost:8080/",
          "height": 195
        },
        "id": "UCD8s2T4umtg",
        "outputId": "4b118a1c-ce40-4786-bac4-510dbd9bca44"
      },
      "source": [
        "events3 = getEventsM(close, tEvents, ptSl=[1,1], trgt=stds, minRet=0.04, numThreads=1, t1=t1)\n",
        "events3.head()"
      ],
      "execution_count": null,
      "outputs": [
        {
          "output_type": "execute_result",
          "data": {
            "text/html": [
              "<div>\n",
              "<style scoped>\n",
              "    .dataframe tbody tr th:only-of-type {\n",
              "        vertical-align: middle;\n",
              "    }\n",
              "\n",
              "    .dataframe tbody tr th {\n",
              "        vertical-align: top;\n",
              "    }\n",
              "\n",
              "    .dataframe thead th {\n",
              "        text-align: right;\n",
              "    }\n",
              "</style>\n",
              "<table border=\"1\" class=\"dataframe\">\n",
              "  <thead>\n",
              "    <tr style=\"text-align: right;\">\n",
              "      <th></th>\n",
              "      <th>t1</th>\n",
              "      <th>trgt</th>\n",
              "    </tr>\n",
              "  </thead>\n",
              "  <tbody>\n",
              "    <tr>\n",
              "      <th>2020-03-12</th>\n",
              "      <td>2020-03-13</td>\n",
              "      <td>0.044984</td>\n",
              "    </tr>\n",
              "    <tr>\n",
              "      <th>2020-03-13</th>\n",
              "      <td>2020-03-16</td>\n",
              "      <td>0.043517</td>\n",
              "    </tr>\n",
              "    <tr>\n",
              "      <th>2020-03-16</th>\n",
              "      <td>2020-03-17</td>\n",
              "      <td>0.047672</td>\n",
              "    </tr>\n",
              "    <tr>\n",
              "      <th>2020-03-17</th>\n",
              "      <td>2020-03-18</td>\n",
              "      <td>0.046638</td>\n",
              "    </tr>\n",
              "    <tr>\n",
              "      <th>2020-03-18</th>\n",
              "      <td>2020-03-20</td>\n",
              "      <td>0.045596</td>\n",
              "    </tr>\n",
              "  </tbody>\n",
              "</table>\n",
              "</div>"
            ],
            "text/plain": [
              "                   t1      trgt\n",
              "2020-03-12 2020-03-13  0.044984\n",
              "2020-03-13 2020-03-16  0.043517\n",
              "2020-03-16 2020-03-17  0.047672\n",
              "2020-03-17 2020-03-18  0.046638\n",
              "2020-03-18 2020-03-20  0.045596"
            ]
          },
          "metadata": {
            "tags": []
          },
          "execution_count": 23
        }
      ]
    },
    {
      "cell_type": "markdown",
      "metadata": {
        "id": "tD9fxYa4gTW9"
      },
      "source": [
        "SNIPPET 3.7 EXPANDING getBins TO INCORPORATE\n",
        "META-LABELING"
      ]
    },
    {
      "cell_type": "code",
      "metadata": {
        "id": "bS2Ag8-agTxP"
      },
      "source": [
        "def getBinsM(events, close):\n",
        "    \"\"\"\n",
        "    Compute event's outcome (including side information, if provided).\n",
        "    events is a DataFrame where:\n",
        "    —events.index is event's starttime\n",
        "    —events[’t1’] is event's endtime\n",
        "    —events[’trgt’] is event's target\n",
        "    —events[’side’] (optional) implies the algo's position side\n",
        "    Case 1: (’side’ not in events): bin in (-1,1) <—label by price action\n",
        "    Case 2: (’side’ in events): bin in (0,1) <—label by pnl (meta-labeling)\n",
        "    \"\"\"\n",
        "    # 1) prices aligned with events\n",
        "    events_ = events.dropna(subset=['t1'])\n",
        "    px = events_.index.union(events_['t1'].values).drop_duplicates()\n",
        "    px = close.reindex(px, method='bfill')\n",
        "    # 2) create out object\n",
        "    out = pd.DataFrame(index=events_.index)\n",
        "    out['ret'] = px.loc[events_['t1'].values].values / px.loc[events_.index] - 1\n",
        "    if 'side' in events_: \n",
        "      out['ret'] *= events_['side']  # meta-labeling\n",
        "    out['bin'] = np.sign(out['ret'])\n",
        "    if 'side' in events_: \n",
        "      out.loc[out['ret'] <= 0, 'bin'] = 0  # meta-labeling\n",
        "    return out"
      ],
      "execution_count": null,
      "outputs": []
    },
    {
      "cell_type": "code",
      "metadata": {
        "colab": {
          "base_uri": "https://localhost:8080/",
          "height": 195
        },
        "id": "tPe0uMsRxDzt",
        "outputId": "a59027b1-7b69-4184-97f9-85350d4e33cb"
      },
      "source": [
        "out4 = getBinsM(events3, close)\n",
        "out4.head()"
      ],
      "execution_count": null,
      "outputs": [
        {
          "output_type": "execute_result",
          "data": {
            "text/html": [
              "<div>\n",
              "<style scoped>\n",
              "    .dataframe tbody tr th:only-of-type {\n",
              "        vertical-align: middle;\n",
              "    }\n",
              "\n",
              "    .dataframe tbody tr th {\n",
              "        vertical-align: top;\n",
              "    }\n",
              "\n",
              "    .dataframe thead th {\n",
              "        text-align: right;\n",
              "    }\n",
              "</style>\n",
              "<table border=\"1\" class=\"dataframe\">\n",
              "  <thead>\n",
              "    <tr style=\"text-align: right;\">\n",
              "      <th></th>\n",
              "      <th>ret</th>\n",
              "      <th>bin</th>\n",
              "    </tr>\n",
              "  </thead>\n",
              "  <tbody>\n",
              "    <tr>\n",
              "      <th>2020-03-12</th>\n",
              "      <td>0.089471</td>\n",
              "      <td>1.0</td>\n",
              "    </tr>\n",
              "    <tr>\n",
              "      <th>2020-03-13</th>\n",
              "      <td>-0.112428</td>\n",
              "      <td>-1.0</td>\n",
              "    </tr>\n",
              "    <tr>\n",
              "      <th>2020-03-16</th>\n",
              "      <td>0.063362</td>\n",
              "      <td>1.0</td>\n",
              "    </tr>\n",
              "    <tr>\n",
              "      <th>2020-03-17</th>\n",
              "      <td>-0.063188</td>\n",
              "      <td>-1.0</td>\n",
              "    </tr>\n",
              "    <tr>\n",
              "      <th>2020-03-18</th>\n",
              "      <td>-0.050752</td>\n",
              "      <td>-1.0</td>\n",
              "    </tr>\n",
              "  </tbody>\n",
              "</table>\n",
              "</div>"
            ],
            "text/plain": [
              "                 ret  bin\n",
              "2020-03-12  0.089471  1.0\n",
              "2020-03-13 -0.112428 -1.0\n",
              "2020-03-16  0.063362  1.0\n",
              "2020-03-17 -0.063188 -1.0\n",
              "2020-03-18 -0.050752 -1.0"
            ]
          },
          "metadata": {
            "tags": []
          },
          "execution_count": 25
        }
      ]
    },
    {
      "cell_type": "markdown",
      "metadata": {
        "id": "BI51JhzngjDs"
      },
      "source": [
        "SNIPPET 3.8 DROPPING UNDER-POPULATED LABELS"
      ]
    },
    {
      "cell_type": "code",
      "metadata": {
        "id": "0E3wthaEgiAl"
      },
      "source": [
        "def dropLabels(events,minPtc=.05):\n",
        "  # apply weights, drop labels with insufficient examples\n",
        "  while True:\n",
        "    df0=events['bin'].value_counts(normalize=True)\n",
        "    if df0.min()>minPct or df0.shape[0]<3:\n",
        "      break\n",
        "    print('dropped label',df0.argmin(),df0.min())\n",
        "    events=events[events['bin']!=df0.argmin()]\n",
        "  return events"
      ],
      "execution_count": null,
      "outputs": []
    }
  ]
}