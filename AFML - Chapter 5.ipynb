{
  "nbformat": 4,
  "nbformat_minor": 0,
  "metadata": {
    "colab": {
      "name": "AFML - Chapter 5.ipynb",
      "provenance": [],
      "collapsed_sections": [],
      "toc_visible": true
    },
    "kernelspec": {
      "name": "python3",
      "display_name": "Python 3"
    }
  },
  "cells": [
    {
      "cell_type": "markdown",
      "metadata": {
        "id": "PdlJuKvwdnCY"
      },
      "source": [
        "**Copyright (c) 2021 Risklab Middle East - All Rights Reserved**\n",
        "\n",
        "---\n",
        "\n",
        "\n",
        "**Author: Mehrdad Moghimi**\n",
        "\n"
      ]
    },
    {
      "cell_type": "markdown",
      "metadata": {
        "id": "kkg1npDlSfO0"
      },
      "source": [
        "# Imports libraries"
      ]
    },
    {
      "cell_type": "code",
      "metadata": {
        "id": "SK-RJi_JNXyG"
      },
      "source": [
        "%%capture\n",
        "!pip install plotly -U"
      ],
      "execution_count": 1,
      "outputs": []
    },
    {
      "cell_type": "code",
      "metadata": {
        "id": "Iyv5ZzRds2wz",
        "colab": {
          "base_uri": "https://localhost:8080/"
        },
        "outputId": "27315ae8-eda8-4f7e-ea7e-69f97cf6e334"
      },
      "source": [
        "import pandas as pd\n",
        "import numpy as np \n",
        "import datetime\n",
        "import time\n",
        "import sys\n",
        "from scipy import stats\n",
        "from statsmodels.stats import stattools\n",
        "from statsmodels.tsa.stattools import adfuller\n",
        "import statsmodels.api as sm\n",
        "\n",
        "import plotly.express as px\n",
        "import plotly.figure_factory as ff\n",
        "import plotly.graph_objects as go\n",
        "from plotly.subplots import make_subplots\n",
        "\n",
        "import multiprocessing as mp\n",
        "\n",
        "pd.options.plotting.backend = \"plotly\"\n",
        "np.seterr(divide='ignore', invalid='ignore')"
      ],
      "execution_count": 2,
      "outputs": [
        {
          "output_type": "stream",
          "text": [
            "/usr/local/lib/python3.7/dist-packages/statsmodels/tools/_testing.py:19: FutureWarning: pandas.util.testing is deprecated. Use the functions in the public API at pandas.testing instead.\n",
            "  import pandas.util.testing as tm\n"
          ],
          "name": "stderr"
        },
        {
          "output_type": "execute_result",
          "data": {
            "text/plain": [
              "{'divide': 'warn', 'invalid': 'warn', 'over': 'warn', 'under': 'ignore'}"
            ]
          },
          "metadata": {
            "tags": []
          },
          "execution_count": 2
        }
      ]
    },
    {
      "cell_type": "markdown",
      "metadata": {
        "id": "CSXpLX-4SqbL"
      },
      "source": [
        "# Import Tick data"
      ]
    },
    {
      "cell_type": "code",
      "metadata": {
        "id": "R12r9VGstY_k",
        "colab": {
          "base_uri": "https://localhost:8080/",
          "height": 225
        },
        "outputId": "adb68b4e-25cf-4ce9-bbe7-136e0f41d406"
      },
      "source": [
        "dir = \"https://raw.githubusercontent.com/risk-labratory/data/main/\"\n",
        "url = dir + \"IVE_2020.csv\"\n",
        "df = pd.read_csv(url, header=0)\n",
        "df['dates'] = pd.to_datetime(df['dates'])\n",
        "df.set_index('dates', inplace=True, drop=True)\n",
        "df.drop_duplicates(inplace=True)\n",
        "df = df[(df.index.hour>=9) & (df.index.hour<16)]\n",
        "df.head()"
      ],
      "execution_count": 3,
      "outputs": [
        {
          "output_type": "execute_result",
          "data": {
            "text/html": [
              "<div>\n",
              "<style scoped>\n",
              "    .dataframe tbody tr th:only-of-type {\n",
              "        vertical-align: middle;\n",
              "    }\n",
              "\n",
              "    .dataframe tbody tr th {\n",
              "        vertical-align: top;\n",
              "    }\n",
              "\n",
              "    .dataframe thead th {\n",
              "        text-align: right;\n",
              "    }\n",
              "</style>\n",
              "<table border=\"1\" class=\"dataframe\">\n",
              "  <thead>\n",
              "    <tr style=\"text-align: right;\">\n",
              "      <th></th>\n",
              "      <th>price</th>\n",
              "      <th>bid</th>\n",
              "      <th>ask</th>\n",
              "      <th>size</th>\n",
              "    </tr>\n",
              "    <tr>\n",
              "      <th>dates</th>\n",
              "      <th></th>\n",
              "      <th></th>\n",
              "      <th></th>\n",
              "      <th></th>\n",
              "    </tr>\n",
              "  </thead>\n",
              "  <tbody>\n",
              "    <tr>\n",
              "      <th>2020-01-02 09:30:00</th>\n",
              "      <td>130.68</td>\n",
              "      <td>130.59</td>\n",
              "      <td>130.60</td>\n",
              "      <td>20625</td>\n",
              "    </tr>\n",
              "    <tr>\n",
              "      <th>2020-01-02 09:30:01</th>\n",
              "      <td>130.50</td>\n",
              "      <td>130.50</td>\n",
              "      <td>130.77</td>\n",
              "      <td>200</td>\n",
              "    </tr>\n",
              "    <tr>\n",
              "      <th>2020-01-02 09:30:04</th>\n",
              "      <td>130.53</td>\n",
              "      <td>130.52</td>\n",
              "      <td>130.78</td>\n",
              "      <td>100</td>\n",
              "    </tr>\n",
              "    <tr>\n",
              "      <th>2020-01-02 09:30:04</th>\n",
              "      <td>130.55</td>\n",
              "      <td>130.52</td>\n",
              "      <td>130.78</td>\n",
              "      <td>100</td>\n",
              "    </tr>\n",
              "    <tr>\n",
              "      <th>2020-01-02 09:30:04</th>\n",
              "      <td>130.53</td>\n",
              "      <td>130.52</td>\n",
              "      <td>130.78</td>\n",
              "      <td>200</td>\n",
              "    </tr>\n",
              "  </tbody>\n",
              "</table>\n",
              "</div>"
            ],
            "text/plain": [
              "                      price     bid     ask   size\n",
              "dates                                             \n",
              "2020-01-02 09:30:00  130.68  130.59  130.60  20625\n",
              "2020-01-02 09:30:01  130.50  130.50  130.77    200\n",
              "2020-01-02 09:30:04  130.53  130.52  130.78    100\n",
              "2020-01-02 09:30:04  130.55  130.52  130.78    100\n",
              "2020-01-02 09:30:04  130.53  130.52  130.78    200"
            ]
          },
          "metadata": {
            "tags": []
          },
          "execution_count": 3
        }
      ]
    },
    {
      "cell_type": "markdown",
      "metadata": {
        "id": "e6eOxBVTcqG3"
      },
      "source": [
        "# Functions"
      ]
    },
    {
      "cell_type": "code",
      "metadata": {
        "id": "8L7z2ysd8v0E"
      },
      "source": [
        "# SNIPPET 20.5 THE linParts FUNCTION\n",
        "def linParts(numAtoms,numThreads):\n",
        "  # partition of atoms with a single loop\n",
        "  parts=np.linspace(0,numAtoms,min(numThreads,numAtoms)+1)\n",
        "  parts=np.ceil(parts).astype(int)\n",
        "  return parts\n",
        "\n",
        "# SNIPPET 20.6 THE nestedParts FUNCTION\n",
        "def nestedParts(numAtoms,numThreads,upperTriang=False):\n",
        "  # partition of atoms with an inner loop\n",
        "  parts,numThreads_=[0],min(numThreads,numAtoms)\n",
        "  for num in range(numThreads_):\n",
        "    part=1 + 4*(parts[-1]**2+parts[-1]+numAtoms*(numAtoms+1.)/numThreads_)\n",
        "    part=(-1+part**.5)/2.\n",
        "    parts.append(part)\n",
        "  parts=np.round(parts).astype(int)\n",
        "  if upperTriang: # the first rows are the heaviest\n",
        "    parts=np.cumsum(np.diff(parts)[::-1])\n",
        "    parts=np.append(np.array([0]),parts)\n",
        "  return parts\n",
        "\n",
        "# SNIPPET 20.7 THE mpPandasObj, USED AT VARIOUS POINTS IN THE BOOK\n",
        "def mpPandasObj(func,pdObj,numThreads=24,mpBatches=1,linMols=True,**kargs):\n",
        "  \"\"\"\n",
        "  Parallelize jobs, return a DataFrame or Series\n",
        "  + func: function to be parallelized. Returns a DataFrame\n",
        "  + pdObj[0]: Name of argument used to pass the molecule\n",
        "  + pdObj[1]: List of atoms that will be grouped into molecules\n",
        "  + kargs: any other argument needed by func\n",
        "  Example: df1=mpPandasObj(func,(’molecule’,df0.index),24,**kargs)\n",
        "  \"\"\"\n",
        "  argList = list(kargs.values()) #?\n",
        "  if linMols:\n",
        "    parts=linParts(len(argList[1]),numThreads*mpBatches)\n",
        "  else:\n",
        "    parts=nestedParts(len(argList[1]),numThreads*mpBatches)\n",
        "  jobs=[] \n",
        "  for i in range(1,len(parts)):\n",
        "    job={pdObj[0]:pdObj[1][parts[i-1]:parts[i]],'func':func}\n",
        "    job.update(kargs)\n",
        "    jobs.append(job)\n",
        "  if numThreads==1:\n",
        "    out=processJobs_(jobs)\n",
        "  else:\n",
        "    out=processJobs(jobs,numThreads=numThreads)\n",
        "  if isinstance(out[0],pd.DataFrame):\n",
        "    df0=pd.DataFrame()\n",
        "  elif isinstance(out[0],pd.Series):\n",
        "    df0=pd.Series()\n",
        "  else:\n",
        "    return out\n",
        "  for i in out:\n",
        "    df0=df0.append(i)\n",
        "  df0=df0.sort_index()\n",
        "  return df0\n",
        "\n",
        "# SNIPPET 20.8 SINGLE-THREAD EXECUTION, FOR DEBUGGING\n",
        "def processJobs_(jobs):\n",
        "  # Run jobs sequentially, for debugging\n",
        "  out=[]\n",
        "  for job in jobs:\n",
        "    out_=expandCall(job)\n",
        "    out.append(out_)\n",
        "  return out\n",
        "\n",
        "# SNIPPET 20.9 EXAMPLE OF ASYNCHRONOUS CALL TO PYTHON’S MULTIPROCESSING LIBRARY\n",
        "def reportProgress(jobNum,numJobs,time0,task):\n",
        "  # Report progress as asynch jobs are completed\n",
        "  msg=[float(jobNum)/numJobs,(time.time()-time0)/60.]\n",
        "  msg.append(msg[1]*(1/msg[0]-1))\n",
        "  timeStamp=str(datetime.datetime.fromtimestamp(time.time()))\n",
        "  msg= timeStamp+' '+str(round(msg[0]*100,2))+'% '+task+' done after '+ str(round(msg[1],2))+' minutes. Remaining '+str(round(msg[2],2))+' minutes.'\n",
        "  if jobNum<numJobs:\n",
        "    sys.stderr.write(msg+'\\r')\n",
        "  else:\n",
        "    sys.stderr.write(msg+'\\n')\n",
        "  return\n",
        "\n",
        "def processJobs(jobs,task=None,numThreads=24):\n",
        "  # Run in parallel.\n",
        "  # jobs must contain a ’func’ callback, for expandCall\n",
        "  if task is None:task=jobs[0]['func'].__name__\n",
        "  pool=mp.Pool(processes=numThreads)\n",
        "  outputs,out,time0=pool.imap_unordered(expandCall,jobs),[],time.time()\n",
        "  # Process asynchronous output, report progress\n",
        "  for i,out_ in enumerate(outputs,1):\n",
        "    out.append(out_)\n",
        "    reportProgress(i,len(jobs),time0,task)\n",
        "  pool.close()\n",
        "  pool.join() # this is needed to prevent memory leaks\n",
        "  return out\n",
        "\n",
        "# SNIPPET 20.10 PASSING THE JOB (MOLECULE) TO THE CALLBACK FUNCTION\n",
        "def expandCall(kargs):\n",
        "  # Expand the arguments of a callback function, kargs[’func’]\n",
        "  func=kargs['func']\n",
        "  del kargs['func']\n",
        "  out=func(**kargs)\n",
        "  return out\n",
        "\n",
        "# SNIPPET 20.12 ENHANCING processJobs TO PERFORM ON-THE-FLY OUTPUT REDUCTION\n",
        "def processJobsRedux(jobs,task=None,numThreads=24,redux=None,reduxArgs={}, reduxInPlace=False):\n",
        "  '''\n",
        "  Run in parallel\n",
        "  jobs must contain a ’func’ callback, for expandCall\n",
        "  redux prevents wasting memory by reducing output on the fly\n",
        "  '''\n",
        "  if task is None:\n",
        "    task=jobs[0]['func'].__name__\n",
        "  pool = mp.Pool(processes=numThreads)\n",
        "  imap, out, time0 = pool.imap_unordered(expandCall,jobs),None,time.time()\n",
        "  # Process asynchronous output, report progress\n",
        "  for i,out_ in enumerate(imap,1):\n",
        "    if out is None:\n",
        "      if redux is None:\n",
        "        out,redux,reduxInPlace=[out_],list.append,True\n",
        "      else:\n",
        "        out=copy.deepcopy(out_)\n",
        "    else:\n",
        "      if reduxInPlace:\n",
        "        redux(out,out_,**reduxArgs)\n",
        "      else:\n",
        "        out=redux(out,out_,**reduxArgs)\n",
        "    reportProgress(i,len(jobs),time0,task)\n",
        "  pool.close();pool.join() # this is needed to prevent memory leaks\n",
        "  if isinstance(out,(pd.Series,pd.DataFrame)):out=out.sort_index()\n",
        "  return out\n",
        "\n",
        "# SNIPPET 20.13 ENHANCING mpPandasObj TO PERFORM ON-THE-FLY OUTPUT REDUCTION\n",
        "def mpJobList(func, argList, numThreads=24, mpBatches=1, linMols=True, redux=None, reduxArgs={}, reduxInPlace=False, **kargs):\n",
        "  if linMols:\n",
        "    parts=linParts(len(argList[1]),numThreads*mpBatches)\n",
        "  else:\n",
        "    parts=nestedParts(len(argList[1]),numThreads*mpBatches)\n",
        "  jobs=[]\n",
        "  for i in xrange(1,len(parts)):\n",
        "    job={argList[0]:argList[1][parts[i-1]:parts[i]],'func':func}\n",
        "    job.update(kargs)\n",
        "    jobs.append(job)\n",
        "  out=processJobsRedux(jobs,redux=redux,reduxArgs=reduxArgs, reduxInPlace=reduxInPlace,numThreads=numThreads)\n",
        "  return out"
      ],
      "execution_count": 4,
      "outputs": []
    },
    {
      "cell_type": "code",
      "metadata": {
        "id": "Boj5a_O3rHmm"
      },
      "source": [
        "def progressBar(value, end_value, start_time, bar_length=20):\n",
        "    percent = float(value) / end_value\n",
        "    arrow = '-' * int(round(percent * bar_length)-1) + '>'\n",
        "    spaces = ' ' * (bar_length - len(arrow))\n",
        "    remaining = int(((time.time()-start_time)/value)*(end_value-value)/60)\n",
        "    sys.stdout.write(\"\\rCompleted: [{0}] {1}% - {2} minutes remaining.\".format(arrow + spaces, int(round(percent * 100)), remaining))\n",
        "    sys.stdout.flush()"
      ],
      "execution_count": 5,
      "outputs": []
    },
    {
      "cell_type": "code",
      "metadata": {
        "id": "49JL_oWQVDyi"
      },
      "source": [
        "def get_ohlcv(df_group):\n",
        "  ohlc = df_group['price'].ohlc()\n",
        "  ohlc['volume'] = df_group['size'].sum()\n",
        "  ohlc['vwap'] = df_group.apply(lambda x: (x['price']*x['size']).sum()/x['size'].sum())\n",
        "  ohlc['twap'] = df_group['price'].mean()\n",
        "  ohlc['tick_count'] = df_group['price'].count()\n",
        "  ohlc['twap_logr'] = np.log(ohlc['twap']) - np.log(ohlc['twap'].shift(1))\n",
        "  return ohlc\n",
        "\n",
        "def get_time_bar(df, freq=\"5Min\"):\n",
        "  df_group = df.groupby(pd.Grouper(freq=freq))\n",
        "  ohlcv = get_ohlcv(df_group)\n",
        "  return ohlcv\n",
        "\n",
        "def get_tick_bar(df, tick_per_bar=10, num_of_bars=None):\n",
        "  if not tick_per_bar:\n",
        "    tick_per_bar = int(df.shape[0] / num_of_bars)\n",
        "  tick_group = df.reset_index().assign(grpId=lambda x: x.index // tick_per_bar)\n",
        "  dates = tick_group.groupby('grpId', as_index=False).first()['dates']\n",
        "  df_group =  tick_group.groupby('grpId')\n",
        "  ohlcv = get_ohlcv(df_group)\n",
        "  ohlcv.set_index(dates, drop=True, inplace=True)\n",
        "  return ohlcv\n",
        "\n",
        "def get_volume_bar(df, volume_per_bar=10000, num_of_bars=None):\n",
        "  df['cum_size'] = df['size'].cumsum() \n",
        "  if not volume_per_bar:\n",
        "    total_vol = df['cum_size'].values[-1]\n",
        "    volume_per_bar = total_vol / num_of_bars\n",
        "    volume_per_bar = round(volume_per_bar, -2) # round to the nearest hundred\n",
        "  tick_group = df.reset_index().assign(grpId=lambda x: x.cum_size // volume_per_bar)\n",
        "  dates = tick_group.groupby('grpId', as_index=False).first()['dates']\n",
        "  df_group =  tick_group.groupby('grpId')\n",
        "  ohlcv = get_ohlcv(df_group)\n",
        "  ohlcv.set_index(dates, drop=True, inplace=True)\n",
        "  return ohlcv\n",
        "\n",
        "def get_dollar_bar(df, dollar_per_bar=100000, num_of_bars=None):\n",
        "  df['dollar'] = df['price']*df['size']\n",
        "  df['cum_dv'] = df['dollar'].cumsum() \n",
        "  if not dollar_per_bar:\n",
        "    total_dvol = df['cum_dv'].values[-1]\n",
        "    dollar_per_bar = total_dvol / num_of_bars\n",
        "    dollar_per_bar = round(dollar_per_bar, -2) # round to the nearest hundred\n",
        "  tick_group = df.reset_index().assign(grpId=lambda x: x.cum_dv // dollar_per_bar)\n",
        "  dates = tick_group.groupby('grpId', as_index=False).first()['dates']\n",
        "  df_group =  tick_group.groupby('grpId')\n",
        "  ohlcv = get_ohlcv(df_group)\n",
        "  ohlcv.set_index(dates, drop=True, inplace=True)\n",
        "  return ohlcv"
      ],
      "execution_count": 6,
      "outputs": []
    },
    {
      "cell_type": "code",
      "metadata": {
        "id": "HbRVRIoChbnH"
      },
      "source": [
        "def plot_ohlcv(ohlcv):\n",
        "  dt_all = pd.date_range(start=ohlcv.index[0],end=ohlcv.index[-1])\n",
        "  dt_obs = [d.strftime(\"%Y-%m-%d\") for d in ohlcv.index]\n",
        "  dt_breaks = [d for d in dt_all.strftime(\"%Y-%m-%d\").tolist() if not d in dt_obs]\n",
        "  fig = make_subplots(rows=3, cols=1,\n",
        "                      shared_xaxes=True,\n",
        "                      vertical_spacing=0.05, specs=[[{\"rowspan\": 2}], \n",
        "                                                  [{}], \n",
        "                                                  [{}]])\n",
        "  fig.add_trace(go.Candlestick(x=ohlcv.index, \n",
        "                              open=ohlcv.open, \n",
        "                              high=ohlcv.high,\n",
        "                              low=ohlcv.low, \n",
        "                              close=ohlcv.close, name='Candlestick'), row=1, col=1)\n",
        "  fig.add_trace(go.Bar(x=ohlcv.index, y=ohlcv.volume, marker_color='rgba(255, 100, 100, 0.7)', name='volume'), row=3, col=1)\n",
        "  fig.update_yaxes(title_text=\"Price\", row=1, col=1)\n",
        "  fig.update_yaxes(title_text=\"Volume\", row=3, col=1)\n",
        "  fig.update_xaxes(\n",
        "          rangeslider_visible=False,\n",
        "          rangebreaks=[\n",
        "              dict(bounds=[\"sat\", \"mon\"]),  # hide weekends, eg. hide sat to before mon\n",
        "              dict(bounds=[16, 9.5], pattern=\"hour\"),  # hide hours outside of 9.30am-4pm\n",
        "              dict(values=dt_breaks)  # hide empty dates\n",
        "          ]\n",
        "      )\n",
        "  fig.update_layout(xaxis_rangeslider_visible=False)\n",
        "  fig.show()"
      ],
      "execution_count": 7,
      "outputs": []
    },
    {
      "cell_type": "markdown",
      "metadata": {
        "id": "bs4qACoxfgvn"
      },
      "source": [
        "# Code Snippets"
      ]
    },
    {
      "cell_type": "code",
      "metadata": {
        "colab": {
          "base_uri": "https://localhost:8080/",
          "height": 226
        },
        "id": "HE0sq7Zxzuwj",
        "outputId": "9747d557-dfed-4b5d-95cc-77b8a7ab65c6"
      },
      "source": [
        "ohlcv = get_time_bar(df, freq=\"1B\")\n",
        "ohlcv.dropna(inplace=True)\n",
        "close = ohlcv.close\n",
        "ohlcv.head()"
      ],
      "execution_count": 8,
      "outputs": [
        {
          "output_type": "execute_result",
          "data": {
            "text/html": [
              "<div>\n",
              "<style scoped>\n",
              "    .dataframe tbody tr th:only-of-type {\n",
              "        vertical-align: middle;\n",
              "    }\n",
              "\n",
              "    .dataframe tbody tr th {\n",
              "        vertical-align: top;\n",
              "    }\n",
              "\n",
              "    .dataframe thead th {\n",
              "        text-align: right;\n",
              "    }\n",
              "</style>\n",
              "<table border=\"1\" class=\"dataframe\">\n",
              "  <thead>\n",
              "    <tr style=\"text-align: right;\">\n",
              "      <th></th>\n",
              "      <th>open</th>\n",
              "      <th>high</th>\n",
              "      <th>low</th>\n",
              "      <th>close</th>\n",
              "      <th>volume</th>\n",
              "      <th>vwap</th>\n",
              "      <th>twap</th>\n",
              "      <th>tick_count</th>\n",
              "      <th>twap_logr</th>\n",
              "    </tr>\n",
              "    <tr>\n",
              "      <th>dates</th>\n",
              "      <th></th>\n",
              "      <th></th>\n",
              "      <th></th>\n",
              "      <th></th>\n",
              "      <th></th>\n",
              "      <th></th>\n",
              "      <th></th>\n",
              "      <th></th>\n",
              "      <th></th>\n",
              "    </tr>\n",
              "  </thead>\n",
              "  <tbody>\n",
              "    <tr>\n",
              "      <th>2020-01-03</th>\n",
              "      <td>129.33</td>\n",
              "      <td>129.9874</td>\n",
              "      <td>129.2912</td>\n",
              "      <td>129.6400</td>\n",
              "      <td>526340</td>\n",
              "      <td>129.751774</td>\n",
              "      <td>129.719157</td>\n",
              "      <td>922</td>\n",
              "      <td>-0.003845</td>\n",
              "    </tr>\n",
              "    <tr>\n",
              "      <th>2020-01-06</th>\n",
              "      <td>129.00</td>\n",
              "      <td>129.8952</td>\n",
              "      <td>128.9300</td>\n",
              "      <td>129.8952</td>\n",
              "      <td>655431</td>\n",
              "      <td>129.548003</td>\n",
              "      <td>129.493223</td>\n",
              "      <td>770</td>\n",
              "      <td>-0.001743</td>\n",
              "    </tr>\n",
              "    <tr>\n",
              "      <th>2020-01-07</th>\n",
              "      <td>129.52</td>\n",
              "      <td>129.5800</td>\n",
              "      <td>129.1405</td>\n",
              "      <td>129.3800</td>\n",
              "      <td>413423</td>\n",
              "      <td>129.376731</td>\n",
              "      <td>129.357347</td>\n",
              "      <td>908</td>\n",
              "      <td>-0.001050</td>\n",
              "    </tr>\n",
              "    <tr>\n",
              "      <th>2020-01-08</th>\n",
              "      <td>129.38</td>\n",
              "      <td>130.2999</td>\n",
              "      <td>129.2400</td>\n",
              "      <td>129.7600</td>\n",
              "      <td>449383</td>\n",
              "      <td>129.881903</td>\n",
              "      <td>129.858126</td>\n",
              "      <td>1028</td>\n",
              "      <td>0.003864</td>\n",
              "    </tr>\n",
              "    <tr>\n",
              "      <th>2020-01-09</th>\n",
              "      <td>130.30</td>\n",
              "      <td>130.3800</td>\n",
              "      <td>129.9200</td>\n",
              "      <td>130.3168</td>\n",
              "      <td>376142</td>\n",
              "      <td>130.161216</td>\n",
              "      <td>130.161563</td>\n",
              "      <td>614</td>\n",
              "      <td>0.002334</td>\n",
              "    </tr>\n",
              "  </tbody>\n",
              "</table>\n",
              "</div>"
            ],
            "text/plain": [
              "              open      high       low  ...        twap  tick_count  twap_logr\n",
              "dates                                   ...                                   \n",
              "2020-01-03  129.33  129.9874  129.2912  ...  129.719157         922  -0.003845\n",
              "2020-01-06  129.00  129.8952  128.9300  ...  129.493223         770  -0.001743\n",
              "2020-01-07  129.52  129.5800  129.1405  ...  129.357347         908  -0.001050\n",
              "2020-01-08  129.38  130.2999  129.2400  ...  129.858126        1028   0.003864\n",
              "2020-01-09  130.30  130.3800  129.9200  ...  130.161563         614   0.002334\n",
              "\n",
              "[5 rows x 9 columns]"
            ]
          },
          "metadata": {
            "tags": []
          },
          "execution_count": 8
        }
      ]
    },
    {
      "cell_type": "markdown",
      "metadata": {
        "id": "dW2FCK-6ghCp"
      },
      "source": [
        "SNIPPET 5.1 WEIGHTING FUNCTION"
      ]
    },
    {
      "cell_type": "code",
      "metadata": {
        "id": "yO0HtX6MgitI"
      },
      "source": [
        "def getWeights(d, size):\n",
        "    # thres>0 drops insignificant weights\n",
        "    w = [1.]\n",
        "    for k in range(1, size):\n",
        "        w_ = -w[-1] / k * (d - k + 1)\n",
        "        # w = np.append(w, w_) # duno why w_ or w or something turns to np.ndarray suddenly, should be a list somewhat, may give a bug if d is not a np. float\n",
        "        w.append(w_)\n",
        "    w = np.array(w[ : : -1]).reshape(-1, 1)\n",
        "    return w\n",
        "\n",
        "\n",
        "def plotWeights(dRange, nPlots, size):\n",
        "    w = pd.DataFrame()\n",
        "    for d in np.linspace(dRange[0], dRange[1], nPlots):\n",
        "        d = np.round(d,2)\n",
        "        w_ = getWeights(d, size = size)\n",
        "        w_ = pd.DataFrame(w_, index = range(w_.shape[0])[ : : -1], columns = [d])\n",
        "        w = w.join(w_, how = 'outer')\n",
        "    fig = w.plot()\n",
        "    fig.show()\n",
        "    return"
      ],
      "execution_count": 9,
      "outputs": []
    },
    {
      "cell_type": "code",
      "metadata": {
        "id": "9KMeg2Lfglgf",
        "colab": {
          "base_uri": "https://localhost:8080/",
          "height": 542
        },
        "outputId": "9166f37b-e013-42cf-bec5-d4c547ed1afc"
      },
      "source": [
        "plotWeights(dRange = [0, 1], nPlots = 11, size = 6)"
      ],
      "execution_count": 10,
      "outputs": [
        {
          "output_type": "display_data",
          "data": {
            "text/html": [
              "<html>\n",
              "<head><meta charset=\"utf-8\" /></head>\n",
              "<body>\n",
              "    <div>            <script src=\"https://cdnjs.cloudflare.com/ajax/libs/mathjax/2.7.5/MathJax.js?config=TeX-AMS-MML_SVG\"></script><script type=\"text/javascript\">if (window.MathJax) {MathJax.Hub.Config({SVG: {font: \"STIX-Web\"}});}</script>                <script type=\"text/javascript\">window.PlotlyConfig = {MathJaxConfig: 'local'};</script>\n",
              "        <script src=\"https://cdn.plot.ly/plotly-latest.min.js\"></script>                <div id=\"95a94739-2298-4e45-84f6-2dee4523f891\" class=\"plotly-graph-div\" style=\"height:525px; width:100%;\"></div>            <script type=\"text/javascript\">                                    window.PLOTLYENV=window.PLOTLYENV || {};                                    if (document.getElementById(\"95a94739-2298-4e45-84f6-2dee4523f891\")) {                    Plotly.newPlot(                        \"95a94739-2298-4e45-84f6-2dee4523f891\",                        [{\"hovertemplate\": \"variable=0.0<br>index=%{x}<br>value=%{y}<extra></extra>\", \"legendgroup\": \"0.0\", \"line\": {\"color\": \"#636efa\", \"dash\": \"solid\"}, \"mode\": \"lines\", \"name\": \"0.0\", \"orientation\": \"v\", \"showlegend\": true, \"type\": \"scatter\", \"x\": [5, 4, 3, 2, 1, 0], \"xaxis\": \"x\", \"y\": [-0.0, -0.0, -0.0, -0.0, -0.0, 1.0], \"yaxis\": \"y\"}, {\"hovertemplate\": \"variable=0.1<br>index=%{x}<br>value=%{y}<extra></extra>\", \"legendgroup\": \"0.1\", \"line\": {\"color\": \"#EF553B\", \"dash\": \"solid\"}, \"mode\": \"lines\", \"name\": \"0.1\", \"orientation\": \"v\", \"showlegend\": true, \"type\": \"scatter\", \"x\": [5, 4, 3, 2, 1, 0], \"xaxis\": \"x\", \"y\": [-0.016116749999999996, -0.02066249999999999, -0.028499999999999987, -0.044999999999999984, -0.09999999999999998, 1.0], \"yaxis\": \"y\"}, {\"hovertemplate\": \"variable=0.2<br>index=%{x}<br>value=%{y}<extra></extra>\", \"legendgroup\": \"0.2\", \"line\": {\"color\": \"#00cc96\", \"dash\": \"solid\"}, \"mode\": \"lines\", \"name\": \"0.2\", \"orientation\": \"v\", \"showlegend\": true, \"type\": \"scatter\", \"x\": [5, 4, 3, 2, 1, 0], \"xaxis\": \"x\", \"y\": [-0.025535999999999993, -0.03359999999999999, -0.04799999999999999, -0.07999999999999999, -0.19999999999999996, 1.0], \"yaxis\": \"y\"}, {\"hovertemplate\": \"variable=0.3<br>index=%{x}<br>value=%{y}<extra></extra>\", \"legendgroup\": \"0.3\", \"line\": {\"color\": \"#ab63fa\", \"dash\": \"solid\"}, \"mode\": \"lines\", \"name\": \"0.3\", \"orientation\": \"v\", \"showlegend\": true, \"type\": \"scatter\", \"x\": [5, 4, 3, 2, 1, 0], \"xaxis\": \"x\", \"y\": [-0.029720250000000007, -0.04016250000000001, -0.05950000000000001, -0.10500000000000001, -0.30000000000000004, 1.0], \"yaxis\": \"y\"}, {\"hovertemplate\": \"variable=0.4<br>index=%{x}<br>value=%{y}<extra></extra>\", \"legendgroup\": \"0.4\", \"line\": {\"color\": \"#FFA15A\", \"dash\": \"solid\"}, \"mode\": \"lines\", \"name\": \"0.4\", \"orientation\": \"v\", \"showlegend\": true, \"type\": \"scatter\", \"x\": [5, 4, 3, 2, 1, 0], \"xaxis\": \"x\", \"y\": [-0.029952000000000006, -0.04160000000000001, -0.06400000000000002, -0.12000000000000002, -0.4, 1.0], \"yaxis\": \"y\"}, {\"hovertemplate\": \"variable=0.5<br>index=%{x}<br>value=%{y}<extra></extra>\", \"legendgroup\": \"0.5\", \"line\": {\"color\": \"#19d3f3\", \"dash\": \"solid\"}, \"mode\": \"lines\", \"name\": \"0.5\", \"orientation\": \"v\", \"showlegend\": true, \"type\": \"scatter\", \"x\": [5, 4, 3, 2, 1, 0], \"xaxis\": \"x\", \"y\": [-0.02734375, -0.0390625, -0.0625, -0.125, -0.5, 1.0], \"yaxis\": \"y\"}, {\"hovertemplate\": \"variable=0.6<br>index=%{x}<br>value=%{y}<extra></extra>\", \"legendgroup\": \"0.6\", \"line\": {\"color\": \"#FF6692\", \"dash\": \"solid\"}, \"mode\": \"lines\", \"name\": \"0.6\", \"orientation\": \"v\", \"showlegend\": true, \"type\": \"scatter\", \"x\": [5, 4, 3, 2, 1, 0], \"xaxis\": \"x\", \"y\": [-0.02284799999999999, -0.033599999999999984, -0.05599999999999998, -0.11999999999999997, -0.6, 1.0], \"yaxis\": \"y\"}, {\"hovertemplate\": \"variable=0.7<br>index=%{x}<br>value=%{y}<extra></extra>\", \"legendgroup\": \"0.7\", \"line\": {\"color\": \"#B6E880\", \"dash\": \"solid\"}, \"mode\": \"lines\", \"name\": \"0.7\", \"orientation\": \"v\", \"showlegend\": true, \"type\": \"scatter\", \"x\": [5, 4, 3, 2, 1, 0], \"xaxis\": \"x\", \"y\": [-0.017267249999999998, -0.026162499999999998, -0.0455, -0.10500000000000001, -0.7, 1.0], \"yaxis\": \"y\"}, {\"hovertemplate\": \"variable=0.8<br>index=%{x}<br>value=%{y}<extra></extra>\", \"legendgroup\": \"0.8\", \"line\": {\"color\": \"#FF97FF\", \"dash\": \"solid\"}, \"mode\": \"lines\", \"name\": \"0.8\", \"orientation\": \"v\", \"showlegend\": true, \"type\": \"scatter\", \"x\": [5, 4, 3, 2, 1, 0], \"xaxis\": \"x\", \"y\": [-0.011264000000000001, -0.0176, -0.032, -0.07999999999999999, -0.8, 1.0], \"yaxis\": \"y\"}, {\"hovertemplate\": \"variable=0.9<br>index=%{x}<br>value=%{y}<extra></extra>\", \"legendgroup\": \"0.9\", \"line\": {\"color\": \"#FECB52\", \"dash\": \"solid\"}, \"mode\": \"lines\", \"name\": \"0.9\", \"orientation\": \"v\", \"showlegend\": true, \"type\": \"scatter\", \"x\": [5, 4, 3, 2, 1, 0], \"xaxis\": \"x\", \"y\": [-0.005370750000000005, -0.008662500000000009, -0.016500000000000015, -0.04500000000000004, -0.9, 1.0], \"yaxis\": \"y\"}, {\"hovertemplate\": \"variable=1.0<br>index=%{x}<br>value=%{y}<extra></extra>\", \"legendgroup\": \"1.0\", \"line\": {\"color\": \"#636efa\", \"dash\": \"solid\"}, \"mode\": \"lines\", \"name\": \"1.0\", \"orientation\": \"v\", \"showlegend\": true, \"type\": \"scatter\", \"x\": [5, 4, 3, 2, 1, 0], \"xaxis\": \"x\", \"y\": [0.0, 0.0, 0.0, 0.0, -1.0, 1.0], \"yaxis\": \"y\"}],                        {\"legend\": {\"title\": {\"text\": \"variable\"}, \"tracegroupgap\": 0}, \"margin\": {\"t\": 60}, \"template\": {\"data\": {\"bar\": [{\"error_x\": {\"color\": \"#2a3f5f\"}, \"error_y\": {\"color\": \"#2a3f5f\"}, \"marker\": {\"line\": {\"color\": \"#E5ECF6\", \"width\": 0.5}}, \"type\": \"bar\"}], \"barpolar\": [{\"marker\": {\"line\": {\"color\": \"#E5ECF6\", \"width\": 0.5}}, \"type\": \"barpolar\"}], \"carpet\": [{\"aaxis\": {\"endlinecolor\": \"#2a3f5f\", \"gridcolor\": \"white\", \"linecolor\": \"white\", \"minorgridcolor\": \"white\", \"startlinecolor\": \"#2a3f5f\"}, \"baxis\": {\"endlinecolor\": \"#2a3f5f\", \"gridcolor\": \"white\", \"linecolor\": \"white\", \"minorgridcolor\": \"white\", \"startlinecolor\": \"#2a3f5f\"}, \"type\": \"carpet\"}], \"choropleth\": [{\"colorbar\": {\"outlinewidth\": 0, \"ticks\": \"\"}, \"type\": \"choropleth\"}], \"contour\": [{\"colorbar\": {\"outlinewidth\": 0, \"ticks\": \"\"}, \"colorscale\": [[0.0, \"#0d0887\"], [0.1111111111111111, \"#46039f\"], [0.2222222222222222, \"#7201a8\"], [0.3333333333333333, \"#9c179e\"], [0.4444444444444444, \"#bd3786\"], [0.5555555555555556, \"#d8576b\"], [0.6666666666666666, \"#ed7953\"], [0.7777777777777778, \"#fb9f3a\"], [0.8888888888888888, \"#fdca26\"], [1.0, \"#f0f921\"]], \"type\": \"contour\"}], \"contourcarpet\": [{\"colorbar\": {\"outlinewidth\": 0, \"ticks\": \"\"}, \"type\": \"contourcarpet\"}], \"heatmap\": [{\"colorbar\": {\"outlinewidth\": 0, \"ticks\": \"\"}, \"colorscale\": [[0.0, \"#0d0887\"], [0.1111111111111111, \"#46039f\"], [0.2222222222222222, \"#7201a8\"], [0.3333333333333333, \"#9c179e\"], [0.4444444444444444, \"#bd3786\"], [0.5555555555555556, \"#d8576b\"], [0.6666666666666666, \"#ed7953\"], [0.7777777777777778, \"#fb9f3a\"], [0.8888888888888888, \"#fdca26\"], [1.0, \"#f0f921\"]], \"type\": \"heatmap\"}], \"heatmapgl\": [{\"colorbar\": {\"outlinewidth\": 0, \"ticks\": \"\"}, \"colorscale\": [[0.0, \"#0d0887\"], [0.1111111111111111, \"#46039f\"], [0.2222222222222222, \"#7201a8\"], [0.3333333333333333, \"#9c179e\"], [0.4444444444444444, \"#bd3786\"], [0.5555555555555556, \"#d8576b\"], [0.6666666666666666, \"#ed7953\"], [0.7777777777777778, \"#fb9f3a\"], [0.8888888888888888, \"#fdca26\"], [1.0, \"#f0f921\"]], \"type\": \"heatmapgl\"}], \"histogram\": [{\"marker\": {\"colorbar\": {\"outlinewidth\": 0, \"ticks\": \"\"}}, \"type\": \"histogram\"}], \"histogram2d\": [{\"colorbar\": {\"outlinewidth\": 0, \"ticks\": \"\"}, \"colorscale\": [[0.0, \"#0d0887\"], [0.1111111111111111, \"#46039f\"], [0.2222222222222222, \"#7201a8\"], [0.3333333333333333, \"#9c179e\"], [0.4444444444444444, \"#bd3786\"], [0.5555555555555556, \"#d8576b\"], [0.6666666666666666, \"#ed7953\"], [0.7777777777777778, \"#fb9f3a\"], [0.8888888888888888, \"#fdca26\"], [1.0, \"#f0f921\"]], \"type\": \"histogram2d\"}], \"histogram2dcontour\": [{\"colorbar\": {\"outlinewidth\": 0, \"ticks\": \"\"}, \"colorscale\": [[0.0, \"#0d0887\"], [0.1111111111111111, \"#46039f\"], [0.2222222222222222, \"#7201a8\"], [0.3333333333333333, \"#9c179e\"], [0.4444444444444444, \"#bd3786\"], [0.5555555555555556, \"#d8576b\"], [0.6666666666666666, \"#ed7953\"], [0.7777777777777778, \"#fb9f3a\"], [0.8888888888888888, \"#fdca26\"], [1.0, \"#f0f921\"]], \"type\": \"histogram2dcontour\"}], \"mesh3d\": [{\"colorbar\": {\"outlinewidth\": 0, \"ticks\": \"\"}, \"type\": \"mesh3d\"}], \"parcoords\": [{\"line\": {\"colorbar\": {\"outlinewidth\": 0, \"ticks\": \"\"}}, \"type\": \"parcoords\"}], \"pie\": [{\"automargin\": true, \"type\": \"pie\"}], \"scatter\": [{\"marker\": {\"colorbar\": {\"outlinewidth\": 0, \"ticks\": \"\"}}, \"type\": \"scatter\"}], \"scatter3d\": [{\"line\": {\"colorbar\": {\"outlinewidth\": 0, \"ticks\": \"\"}}, \"marker\": {\"colorbar\": {\"outlinewidth\": 0, \"ticks\": \"\"}}, \"type\": \"scatter3d\"}], \"scattercarpet\": [{\"marker\": {\"colorbar\": {\"outlinewidth\": 0, \"ticks\": \"\"}}, \"type\": \"scattercarpet\"}], \"scattergeo\": [{\"marker\": {\"colorbar\": {\"outlinewidth\": 0, \"ticks\": \"\"}}, \"type\": \"scattergeo\"}], \"scattergl\": [{\"marker\": {\"colorbar\": {\"outlinewidth\": 0, \"ticks\": \"\"}}, \"type\": \"scattergl\"}], \"scattermapbox\": [{\"marker\": {\"colorbar\": {\"outlinewidth\": 0, \"ticks\": \"\"}}, \"type\": \"scattermapbox\"}], \"scatterpolar\": [{\"marker\": {\"colorbar\": {\"outlinewidth\": 0, \"ticks\": \"\"}}, \"type\": \"scatterpolar\"}], \"scatterpolargl\": [{\"marker\": {\"colorbar\": {\"outlinewidth\": 0, \"ticks\": \"\"}}, \"type\": \"scatterpolargl\"}], \"scatterternary\": [{\"marker\": {\"colorbar\": {\"outlinewidth\": 0, \"ticks\": \"\"}}, \"type\": \"scatterternary\"}], \"surface\": [{\"colorbar\": {\"outlinewidth\": 0, \"ticks\": \"\"}, \"colorscale\": [[0.0, \"#0d0887\"], [0.1111111111111111, \"#46039f\"], [0.2222222222222222, \"#7201a8\"], [0.3333333333333333, \"#9c179e\"], [0.4444444444444444, \"#bd3786\"], [0.5555555555555556, \"#d8576b\"], [0.6666666666666666, \"#ed7953\"], [0.7777777777777778, \"#fb9f3a\"], [0.8888888888888888, \"#fdca26\"], [1.0, \"#f0f921\"]], \"type\": \"surface\"}], \"table\": [{\"cells\": {\"fill\": {\"color\": \"#EBF0F8\"}, \"line\": {\"color\": \"white\"}}, \"header\": {\"fill\": {\"color\": \"#C8D4E3\"}, \"line\": {\"color\": \"white\"}}, \"type\": \"table\"}]}, \"layout\": {\"annotationdefaults\": {\"arrowcolor\": \"#2a3f5f\", \"arrowhead\": 0, \"arrowwidth\": 1}, \"autotypenumbers\": \"strict\", \"coloraxis\": {\"colorbar\": {\"outlinewidth\": 0, \"ticks\": \"\"}}, \"colorscale\": {\"diverging\": [[0, \"#8e0152\"], [0.1, \"#c51b7d\"], [0.2, \"#de77ae\"], [0.3, \"#f1b6da\"], [0.4, \"#fde0ef\"], [0.5, \"#f7f7f7\"], [0.6, \"#e6f5d0\"], [0.7, \"#b8e186\"], [0.8, \"#7fbc41\"], [0.9, \"#4d9221\"], [1, \"#276419\"]], \"sequential\": [[0.0, \"#0d0887\"], [0.1111111111111111, \"#46039f\"], [0.2222222222222222, \"#7201a8\"], [0.3333333333333333, \"#9c179e\"], [0.4444444444444444, \"#bd3786\"], [0.5555555555555556, \"#d8576b\"], [0.6666666666666666, \"#ed7953\"], [0.7777777777777778, \"#fb9f3a\"], [0.8888888888888888, \"#fdca26\"], [1.0, \"#f0f921\"]], \"sequentialminus\": [[0.0, \"#0d0887\"], [0.1111111111111111, \"#46039f\"], [0.2222222222222222, \"#7201a8\"], [0.3333333333333333, \"#9c179e\"], [0.4444444444444444, \"#bd3786\"], [0.5555555555555556, \"#d8576b\"], [0.6666666666666666, \"#ed7953\"], [0.7777777777777778, \"#fb9f3a\"], [0.8888888888888888, \"#fdca26\"], [1.0, \"#f0f921\"]]}, \"colorway\": [\"#636efa\", \"#EF553B\", \"#00cc96\", \"#ab63fa\", \"#FFA15A\", \"#19d3f3\", \"#FF6692\", \"#B6E880\", \"#FF97FF\", \"#FECB52\"], \"font\": {\"color\": \"#2a3f5f\"}, \"geo\": {\"bgcolor\": \"white\", \"lakecolor\": \"white\", \"landcolor\": \"#E5ECF6\", \"showlakes\": true, \"showland\": true, \"subunitcolor\": \"white\"}, \"hoverlabel\": {\"align\": \"left\"}, \"hovermode\": \"closest\", \"mapbox\": {\"style\": \"light\"}, \"paper_bgcolor\": \"white\", \"plot_bgcolor\": \"#E5ECF6\", \"polar\": {\"angularaxis\": {\"gridcolor\": \"white\", \"linecolor\": \"white\", \"ticks\": \"\"}, \"bgcolor\": \"#E5ECF6\", \"radialaxis\": {\"gridcolor\": \"white\", \"linecolor\": \"white\", \"ticks\": \"\"}}, \"scene\": {\"xaxis\": {\"backgroundcolor\": \"#E5ECF6\", \"gridcolor\": \"white\", \"gridwidth\": 2, \"linecolor\": \"white\", \"showbackground\": true, \"ticks\": \"\", \"zerolinecolor\": \"white\"}, \"yaxis\": {\"backgroundcolor\": \"#E5ECF6\", \"gridcolor\": \"white\", \"gridwidth\": 2, \"linecolor\": \"white\", \"showbackground\": true, \"ticks\": \"\", \"zerolinecolor\": \"white\"}, \"zaxis\": {\"backgroundcolor\": \"#E5ECF6\", \"gridcolor\": \"white\", \"gridwidth\": 2, \"linecolor\": \"white\", \"showbackground\": true, \"ticks\": \"\", \"zerolinecolor\": \"white\"}}, \"shapedefaults\": {\"line\": {\"color\": \"#2a3f5f\"}}, \"ternary\": {\"aaxis\": {\"gridcolor\": \"white\", \"linecolor\": \"white\", \"ticks\": \"\"}, \"baxis\": {\"gridcolor\": \"white\", \"linecolor\": \"white\", \"ticks\": \"\"}, \"bgcolor\": \"#E5ECF6\", \"caxis\": {\"gridcolor\": \"white\", \"linecolor\": \"white\", \"ticks\": \"\"}}, \"title\": {\"x\": 0.05}, \"xaxis\": {\"automargin\": true, \"gridcolor\": \"white\", \"linecolor\": \"white\", \"ticks\": \"\", \"title\": {\"standoff\": 15}, \"zerolinecolor\": \"white\", \"zerolinewidth\": 2}, \"yaxis\": {\"automargin\": true, \"gridcolor\": \"white\", \"linecolor\": \"white\", \"ticks\": \"\", \"title\": {\"standoff\": 15}, \"zerolinecolor\": \"white\", \"zerolinewidth\": 2}}}, \"xaxis\": {\"anchor\": \"y\", \"domain\": [0.0, 1.0], \"title\": {\"text\": \"index\"}}, \"yaxis\": {\"anchor\": \"x\", \"domain\": [0.0, 1.0], \"title\": {\"text\": \"value\"}}},                        {\"responsive\": true}                    ).then(function(){\n",
              "                            \n",
              "var gd = document.getElementById('95a94739-2298-4e45-84f6-2dee4523f891');\n",
              "var x = new MutationObserver(function (mutations, observer) {{\n",
              "        var display = window.getComputedStyle(gd).display;\n",
              "        if (!display || display === 'none') {{\n",
              "            console.log([gd, 'removed!']);\n",
              "            Plotly.purge(gd);\n",
              "            observer.disconnect();\n",
              "        }}\n",
              "}});\n",
              "\n",
              "// Listen for the removal of the full notebook cells\n",
              "var notebookContainer = gd.closest('#notebook-container');\n",
              "if (notebookContainer) {{\n",
              "    x.observe(notebookContainer, {childList: true});\n",
              "}}\n",
              "\n",
              "// Listen for the clearing of the current output cell\n",
              "var outputEl = gd.closest('.output');\n",
              "if (outputEl) {{\n",
              "    x.observe(outputEl, {childList: true});\n",
              "}}\n",
              "\n",
              "                        })                };                            </script>        </div>\n",
              "</body>\n",
              "</html>"
            ]
          },
          "metadata": {
            "tags": []
          }
        }
      ]
    },
    {
      "cell_type": "code",
      "metadata": {
        "colab": {
          "base_uri": "https://localhost:8080/",
          "height": 542
        },
        "id": "d4dL9i9RLgVL",
        "outputId": "08635bcc-49b4-4774-9b3f-07a91cb2ac98"
      },
      "source": [
        "plotWeights(dRange = [1, 2], nPlots = 11, size = 6)"
      ],
      "execution_count": 11,
      "outputs": [
        {
          "output_type": "display_data",
          "data": {
            "text/html": [
              "<html>\n",
              "<head><meta charset=\"utf-8\" /></head>\n",
              "<body>\n",
              "    <div>            <script src=\"https://cdnjs.cloudflare.com/ajax/libs/mathjax/2.7.5/MathJax.js?config=TeX-AMS-MML_SVG\"></script><script type=\"text/javascript\">if (window.MathJax) {MathJax.Hub.Config({SVG: {font: \"STIX-Web\"}});}</script>                <script type=\"text/javascript\">window.PlotlyConfig = {MathJaxConfig: 'local'};</script>\n",
              "        <script src=\"https://cdn.plot.ly/plotly-latest.min.js\"></script>                <div id=\"996d4169-421b-4fd5-a674-ea820fc0fdd6\" class=\"plotly-graph-div\" style=\"height:525px; width:100%;\"></div>            <script type=\"text/javascript\">                                    window.PLOTLYENV=window.PLOTLYENV || {};                                    if (document.getElementById(\"996d4169-421b-4fd5-a674-ea820fc0fdd6\")) {                    Plotly.newPlot(                        \"996d4169-421b-4fd5-a674-ea820fc0fdd6\",                        [{\"hovertemplate\": \"variable=1.0<br>index=%{x}<br>value=%{y}<extra></extra>\", \"legendgroup\": \"1.0\", \"line\": {\"color\": \"#636efa\", \"dash\": \"solid\"}, \"mode\": \"lines\", \"name\": \"1.0\", \"orientation\": \"v\", \"showlegend\": true, \"type\": \"scatter\", \"x\": [5, 4, 3, 2, 1, 0], \"xaxis\": \"x\", \"y\": [0.0, 0.0, 0.0, 0.0, -1.0, 1.0], \"yaxis\": \"y\"}, {\"hovertemplate\": \"variable=1.1<br>index=%{x}<br>value=%{y}<extra></extra>\", \"legendgroup\": \"1.1\", \"line\": {\"color\": \"#EF553B\", \"dash\": \"solid\"}, \"mode\": \"lines\", \"name\": \"1.1\", \"orientation\": \"v\", \"showlegend\": true, \"type\": \"scatter\", \"x\": [5, 4, 3, 2, 1, 0], \"xaxis\": \"x\", \"y\": [0.004545750000000003, 0.007837500000000006, 0.016500000000000015, 0.055000000000000056, -1.1, 1.0], \"yaxis\": \"y\"}, {\"hovertemplate\": \"variable=1.2<br>index=%{x}<br>value=%{y}<extra></extra>\", \"legendgroup\": \"1.2\", \"line\": {\"color\": \"#00cc96\", \"dash\": \"solid\"}, \"mode\": \"lines\", \"name\": \"1.2\", \"orientation\": \"v\", \"showlegend\": true, \"type\": \"scatter\", \"x\": [5, 4, 3, 2, 1, 0], \"xaxis\": \"x\", \"y\": [0.008063999999999998, 0.014399999999999996, 0.031999999999999994, 0.11999999999999997, -1.2, 1.0], \"yaxis\": \"y\"}, {\"hovertemplate\": \"variable=1.3<br>index=%{x}<br>value=%{y}<extra></extra>\", \"legendgroup\": \"1.3\", \"line\": {\"color\": \"#ab63fa\", \"dash\": \"solid\"}, \"mode\": \"lines\", \"name\": \"1.3\", \"orientation\": \"v\", \"showlegend\": true, \"type\": \"scatter\", \"x\": [5, 4, 3, 2, 1, 0], \"xaxis\": \"x\", \"y\": [0.010442250000000002, 0.019337500000000004, 0.045500000000000006, 0.19500000000000003, -1.3, 1.0], \"yaxis\": \"y\"}, {\"hovertemplate\": \"variable=1.4<br>index=%{x}<br>value=%{y}<extra></extra>\", \"legendgroup\": \"1.4\", \"line\": {\"color\": \"#FFA15A\", \"dash\": \"solid\"}, \"mode\": \"lines\", \"name\": \"1.4\", \"orientation\": \"v\", \"showlegend\": true, \"type\": \"scatter\", \"x\": [5, 4, 3, 2, 1, 0], \"xaxis\": \"x\", \"y\": [0.011647999999999999, 0.0224, 0.055999999999999994, 0.2799999999999999, -1.4, 1.0], \"yaxis\": \"y\"}, {\"hovertemplate\": \"variable=1.5<br>index=%{x}<br>value=%{y}<extra></extra>\", \"legendgroup\": \"1.5\", \"line\": {\"color\": \"#19d3f3\", \"dash\": \"solid\"}, \"mode\": \"lines\", \"name\": \"1.5\", \"orientation\": \"v\", \"showlegend\": true, \"type\": \"scatter\", \"x\": [5, 4, 3, 2, 1, 0], \"xaxis\": \"x\", \"y\": [0.01171875, 0.0234375, 0.0625, 0.375, -1.5, 1.0], \"yaxis\": \"y\"}, {\"hovertemplate\": \"variable=1.6<br>index=%{x}<br>value=%{y}<extra></extra>\", \"legendgroup\": \"1.6\", \"line\": {\"color\": \"#FF6692\", \"dash\": \"solid\"}, \"mode\": \"lines\", \"name\": \"1.6\", \"orientation\": \"v\", \"showlegend\": true, \"type\": \"scatter\", \"x\": [5, 4, 3, 2, 1, 0], \"xaxis\": \"x\", \"y\": [0.010752, 0.0224, 0.064, 0.4800000000000001, -1.6, 1.0], \"yaxis\": \"y\"}, {\"hovertemplate\": \"variable=1.7<br>index=%{x}<br>value=%{y}<extra></extra>\", \"legendgroup\": \"1.7\", \"line\": {\"color\": \"#B6E880\", \"dash\": \"solid\"}, \"mode\": \"lines\", \"name\": \"1.7\", \"orientation\": \"v\", \"showlegend\": true, \"type\": \"scatter\", \"x\": [5, 4, 3, 2, 1, 0], \"xaxis\": \"x\", \"y\": [0.00889525, 0.0193375, 0.05950000000000001, 0.595, -1.7, 1.0], \"yaxis\": \"y\"}, {\"hovertemplate\": \"variable=1.8<br>index=%{x}<br>value=%{y}<extra></extra>\", \"legendgroup\": \"1.8\", \"line\": {\"color\": \"#FF97FF\", \"dash\": \"solid\"}, \"mode\": \"lines\", \"name\": \"1.8\", \"orientation\": \"v\", \"showlegend\": true, \"type\": \"scatter\", \"x\": [5, 4, 3, 2, 1, 0], \"xaxis\": \"x\", \"y\": [0.006336, 0.0144, 0.047999999999999994, 0.7200000000000001, -1.8, 1.0], \"yaxis\": \"y\"}, {\"hovertemplate\": \"variable=1.9<br>index=%{x}<br>value=%{y}<extra></extra>\", \"legendgroup\": \"1.9\", \"line\": {\"color\": \"#FECB52\", \"dash\": \"solid\"}, \"mode\": \"lines\", \"name\": \"1.9\", \"orientation\": \"v\", \"showlegend\": true, \"type\": \"scatter\", \"x\": [5, 4, 3, 2, 1, 0], \"xaxis\": \"x\", \"y\": [0.0032917500000000026, 0.007837500000000006, 0.028500000000000022, 0.8549999999999999, -1.9, 1.0], \"yaxis\": \"y\"}, {\"hovertemplate\": \"variable=2.0<br>index=%{x}<br>value=%{y}<extra></extra>\", \"legendgroup\": \"2.0\", \"line\": {\"color\": \"#636efa\", \"dash\": \"solid\"}, \"mode\": \"lines\", \"name\": \"2.0\", \"orientation\": \"v\", \"showlegend\": true, \"type\": \"scatter\", \"x\": [5, 4, 3, 2, 1, 0], \"xaxis\": \"x\", \"y\": [-0.0, -0.0, -0.0, 1.0, -2.0, 1.0], \"yaxis\": \"y\"}],                        {\"legend\": {\"title\": {\"text\": \"variable\"}, \"tracegroupgap\": 0}, \"margin\": {\"t\": 60}, \"template\": {\"data\": {\"bar\": [{\"error_x\": {\"color\": \"#2a3f5f\"}, \"error_y\": {\"color\": \"#2a3f5f\"}, \"marker\": {\"line\": {\"color\": \"#E5ECF6\", \"width\": 0.5}}, \"type\": \"bar\"}], \"barpolar\": [{\"marker\": {\"line\": {\"color\": \"#E5ECF6\", \"width\": 0.5}}, \"type\": \"barpolar\"}], \"carpet\": [{\"aaxis\": {\"endlinecolor\": \"#2a3f5f\", \"gridcolor\": \"white\", \"linecolor\": \"white\", \"minorgridcolor\": \"white\", \"startlinecolor\": \"#2a3f5f\"}, \"baxis\": {\"endlinecolor\": \"#2a3f5f\", \"gridcolor\": \"white\", \"linecolor\": \"white\", \"minorgridcolor\": \"white\", \"startlinecolor\": \"#2a3f5f\"}, \"type\": \"carpet\"}], \"choropleth\": [{\"colorbar\": {\"outlinewidth\": 0, \"ticks\": \"\"}, \"type\": \"choropleth\"}], \"contour\": [{\"colorbar\": {\"outlinewidth\": 0, \"ticks\": \"\"}, \"colorscale\": [[0.0, \"#0d0887\"], [0.1111111111111111, \"#46039f\"], [0.2222222222222222, \"#7201a8\"], [0.3333333333333333, \"#9c179e\"], [0.4444444444444444, \"#bd3786\"], [0.5555555555555556, \"#d8576b\"], [0.6666666666666666, \"#ed7953\"], [0.7777777777777778, \"#fb9f3a\"], [0.8888888888888888, \"#fdca26\"], [1.0, \"#f0f921\"]], \"type\": \"contour\"}], \"contourcarpet\": [{\"colorbar\": {\"outlinewidth\": 0, \"ticks\": \"\"}, \"type\": \"contourcarpet\"}], \"heatmap\": [{\"colorbar\": {\"outlinewidth\": 0, \"ticks\": \"\"}, \"colorscale\": [[0.0, \"#0d0887\"], [0.1111111111111111, \"#46039f\"], [0.2222222222222222, \"#7201a8\"], [0.3333333333333333, \"#9c179e\"], [0.4444444444444444, \"#bd3786\"], [0.5555555555555556, \"#d8576b\"], [0.6666666666666666, \"#ed7953\"], [0.7777777777777778, \"#fb9f3a\"], [0.8888888888888888, \"#fdca26\"], [1.0, \"#f0f921\"]], \"type\": \"heatmap\"}], \"heatmapgl\": [{\"colorbar\": {\"outlinewidth\": 0, \"ticks\": \"\"}, \"colorscale\": [[0.0, \"#0d0887\"], [0.1111111111111111, \"#46039f\"], [0.2222222222222222, \"#7201a8\"], [0.3333333333333333, \"#9c179e\"], [0.4444444444444444, \"#bd3786\"], [0.5555555555555556, \"#d8576b\"], [0.6666666666666666, \"#ed7953\"], [0.7777777777777778, \"#fb9f3a\"], [0.8888888888888888, \"#fdca26\"], [1.0, \"#f0f921\"]], \"type\": \"heatmapgl\"}], \"histogram\": [{\"marker\": {\"colorbar\": {\"outlinewidth\": 0, \"ticks\": \"\"}}, \"type\": \"histogram\"}], \"histogram2d\": [{\"colorbar\": {\"outlinewidth\": 0, \"ticks\": \"\"}, \"colorscale\": [[0.0, \"#0d0887\"], [0.1111111111111111, \"#46039f\"], [0.2222222222222222, \"#7201a8\"], [0.3333333333333333, \"#9c179e\"], [0.4444444444444444, \"#bd3786\"], [0.5555555555555556, \"#d8576b\"], [0.6666666666666666, \"#ed7953\"], [0.7777777777777778, \"#fb9f3a\"], [0.8888888888888888, \"#fdca26\"], [1.0, \"#f0f921\"]], \"type\": \"histogram2d\"}], \"histogram2dcontour\": [{\"colorbar\": {\"outlinewidth\": 0, \"ticks\": \"\"}, \"colorscale\": [[0.0, \"#0d0887\"], [0.1111111111111111, \"#46039f\"], [0.2222222222222222, \"#7201a8\"], [0.3333333333333333, \"#9c179e\"], [0.4444444444444444, \"#bd3786\"], [0.5555555555555556, \"#d8576b\"], [0.6666666666666666, \"#ed7953\"], [0.7777777777777778, \"#fb9f3a\"], [0.8888888888888888, \"#fdca26\"], [1.0, \"#f0f921\"]], \"type\": \"histogram2dcontour\"}], \"mesh3d\": [{\"colorbar\": {\"outlinewidth\": 0, \"ticks\": \"\"}, \"type\": \"mesh3d\"}], \"parcoords\": [{\"line\": {\"colorbar\": {\"outlinewidth\": 0, \"ticks\": \"\"}}, \"type\": \"parcoords\"}], \"pie\": [{\"automargin\": true, \"type\": \"pie\"}], \"scatter\": [{\"marker\": {\"colorbar\": {\"outlinewidth\": 0, \"ticks\": \"\"}}, \"type\": \"scatter\"}], \"scatter3d\": [{\"line\": {\"colorbar\": {\"outlinewidth\": 0, \"ticks\": \"\"}}, \"marker\": {\"colorbar\": {\"outlinewidth\": 0, \"ticks\": \"\"}}, \"type\": \"scatter3d\"}], \"scattercarpet\": [{\"marker\": {\"colorbar\": {\"outlinewidth\": 0, \"ticks\": \"\"}}, \"type\": \"scattercarpet\"}], \"scattergeo\": [{\"marker\": {\"colorbar\": {\"outlinewidth\": 0, \"ticks\": \"\"}}, \"type\": \"scattergeo\"}], \"scattergl\": [{\"marker\": {\"colorbar\": {\"outlinewidth\": 0, \"ticks\": \"\"}}, \"type\": \"scattergl\"}], \"scattermapbox\": [{\"marker\": {\"colorbar\": {\"outlinewidth\": 0, \"ticks\": \"\"}}, \"type\": \"scattermapbox\"}], \"scatterpolar\": [{\"marker\": {\"colorbar\": {\"outlinewidth\": 0, \"ticks\": \"\"}}, \"type\": \"scatterpolar\"}], \"scatterpolargl\": [{\"marker\": {\"colorbar\": {\"outlinewidth\": 0, \"ticks\": \"\"}}, \"type\": \"scatterpolargl\"}], \"scatterternary\": [{\"marker\": {\"colorbar\": {\"outlinewidth\": 0, \"ticks\": \"\"}}, \"type\": \"scatterternary\"}], \"surface\": [{\"colorbar\": {\"outlinewidth\": 0, \"ticks\": \"\"}, \"colorscale\": [[0.0, \"#0d0887\"], [0.1111111111111111, \"#46039f\"], [0.2222222222222222, \"#7201a8\"], [0.3333333333333333, \"#9c179e\"], [0.4444444444444444, \"#bd3786\"], [0.5555555555555556, \"#d8576b\"], [0.6666666666666666, \"#ed7953\"], [0.7777777777777778, \"#fb9f3a\"], [0.8888888888888888, \"#fdca26\"], [1.0, \"#f0f921\"]], \"type\": \"surface\"}], \"table\": [{\"cells\": {\"fill\": {\"color\": \"#EBF0F8\"}, \"line\": {\"color\": \"white\"}}, \"header\": {\"fill\": {\"color\": \"#C8D4E3\"}, \"line\": {\"color\": \"white\"}}, \"type\": \"table\"}]}, \"layout\": {\"annotationdefaults\": {\"arrowcolor\": \"#2a3f5f\", \"arrowhead\": 0, \"arrowwidth\": 1}, \"autotypenumbers\": \"strict\", \"coloraxis\": {\"colorbar\": {\"outlinewidth\": 0, \"ticks\": \"\"}}, \"colorscale\": {\"diverging\": [[0, \"#8e0152\"], [0.1, \"#c51b7d\"], [0.2, \"#de77ae\"], [0.3, \"#f1b6da\"], [0.4, \"#fde0ef\"], [0.5, \"#f7f7f7\"], [0.6, \"#e6f5d0\"], [0.7, \"#b8e186\"], [0.8, \"#7fbc41\"], [0.9, \"#4d9221\"], [1, \"#276419\"]], \"sequential\": [[0.0, \"#0d0887\"], [0.1111111111111111, \"#46039f\"], [0.2222222222222222, \"#7201a8\"], [0.3333333333333333, \"#9c179e\"], [0.4444444444444444, \"#bd3786\"], [0.5555555555555556, \"#d8576b\"], [0.6666666666666666, \"#ed7953\"], [0.7777777777777778, \"#fb9f3a\"], [0.8888888888888888, \"#fdca26\"], [1.0, \"#f0f921\"]], \"sequentialminus\": [[0.0, \"#0d0887\"], [0.1111111111111111, \"#46039f\"], [0.2222222222222222, \"#7201a8\"], [0.3333333333333333, \"#9c179e\"], [0.4444444444444444, \"#bd3786\"], [0.5555555555555556, \"#d8576b\"], [0.6666666666666666, \"#ed7953\"], [0.7777777777777778, \"#fb9f3a\"], [0.8888888888888888, \"#fdca26\"], [1.0, \"#f0f921\"]]}, \"colorway\": [\"#636efa\", \"#EF553B\", \"#00cc96\", \"#ab63fa\", \"#FFA15A\", \"#19d3f3\", \"#FF6692\", \"#B6E880\", \"#FF97FF\", \"#FECB52\"], \"font\": {\"color\": \"#2a3f5f\"}, \"geo\": {\"bgcolor\": \"white\", \"lakecolor\": \"white\", \"landcolor\": \"#E5ECF6\", \"showlakes\": true, \"showland\": true, \"subunitcolor\": \"white\"}, \"hoverlabel\": {\"align\": \"left\"}, \"hovermode\": \"closest\", \"mapbox\": {\"style\": \"light\"}, \"paper_bgcolor\": \"white\", \"plot_bgcolor\": \"#E5ECF6\", \"polar\": {\"angularaxis\": {\"gridcolor\": \"white\", \"linecolor\": \"white\", \"ticks\": \"\"}, \"bgcolor\": \"#E5ECF6\", \"radialaxis\": {\"gridcolor\": \"white\", \"linecolor\": \"white\", \"ticks\": \"\"}}, \"scene\": {\"xaxis\": {\"backgroundcolor\": \"#E5ECF6\", \"gridcolor\": \"white\", \"gridwidth\": 2, \"linecolor\": \"white\", \"showbackground\": true, \"ticks\": \"\", \"zerolinecolor\": \"white\"}, \"yaxis\": {\"backgroundcolor\": \"#E5ECF6\", \"gridcolor\": \"white\", \"gridwidth\": 2, \"linecolor\": \"white\", \"showbackground\": true, \"ticks\": \"\", \"zerolinecolor\": \"white\"}, \"zaxis\": {\"backgroundcolor\": \"#E5ECF6\", \"gridcolor\": \"white\", \"gridwidth\": 2, \"linecolor\": \"white\", \"showbackground\": true, \"ticks\": \"\", \"zerolinecolor\": \"white\"}}, \"shapedefaults\": {\"line\": {\"color\": \"#2a3f5f\"}}, \"ternary\": {\"aaxis\": {\"gridcolor\": \"white\", \"linecolor\": \"white\", \"ticks\": \"\"}, \"baxis\": {\"gridcolor\": \"white\", \"linecolor\": \"white\", \"ticks\": \"\"}, \"bgcolor\": \"#E5ECF6\", \"caxis\": {\"gridcolor\": \"white\", \"linecolor\": \"white\", \"ticks\": \"\"}}, \"title\": {\"x\": 0.05}, \"xaxis\": {\"automargin\": true, \"gridcolor\": \"white\", \"linecolor\": \"white\", \"ticks\": \"\", \"title\": {\"standoff\": 15}, \"zerolinecolor\": \"white\", \"zerolinewidth\": 2}, \"yaxis\": {\"automargin\": true, \"gridcolor\": \"white\", \"linecolor\": \"white\", \"ticks\": \"\", \"title\": {\"standoff\": 15}, \"zerolinecolor\": \"white\", \"zerolinewidth\": 2}}}, \"xaxis\": {\"anchor\": \"y\", \"domain\": [0.0, 1.0], \"title\": {\"text\": \"index\"}}, \"yaxis\": {\"anchor\": \"x\", \"domain\": [0.0, 1.0], \"title\": {\"text\": \"value\"}}},                        {\"responsive\": true}                    ).then(function(){\n",
              "                            \n",
              "var gd = document.getElementById('996d4169-421b-4fd5-a674-ea820fc0fdd6');\n",
              "var x = new MutationObserver(function (mutations, observer) {{\n",
              "        var display = window.getComputedStyle(gd).display;\n",
              "        if (!display || display === 'none') {{\n",
              "            console.log([gd, 'removed!']);\n",
              "            Plotly.purge(gd);\n",
              "            observer.disconnect();\n",
              "        }}\n",
              "}});\n",
              "\n",
              "// Listen for the removal of the full notebook cells\n",
              "var notebookContainer = gd.closest('#notebook-container');\n",
              "if (notebookContainer) {{\n",
              "    x.observe(notebookContainer, {childList: true});\n",
              "}}\n",
              "\n",
              "// Listen for the clearing of the current output cell\n",
              "var outputEl = gd.closest('.output');\n",
              "if (outputEl) {{\n",
              "    x.observe(outputEl, {childList: true});\n",
              "}}\n",
              "\n",
              "                        })                };                            </script>        </div>\n",
              "</body>\n",
              "</html>"
            ]
          },
          "metadata": {
            "tags": []
          }
        }
      ]
    },
    {
      "cell_type": "markdown",
      "metadata": {
        "id": "jNiSCTIzgqQo"
      },
      "source": [
        "SNIPPET 5.2 STANDARD FRACDIFF (EXPANDING WINDOW)"
      ]
    },
    {
      "cell_type": "code",
      "metadata": {
        "id": "K4ZeUmdhgs2v"
      },
      "source": [
        "def fracDiff(series, d, thres = .01):\n",
        "    \"\"\"\n",
        "    Increasing width window, with treatment of NaNs (Standard Fracdiff, expanding window)\n",
        "    Note 1: For thres=1, nothing is skipped.\n",
        "    Note 2: d can be any positive fractional, not necessarily bounded [0,1].\n",
        "    \"\"\"\n",
        "    #1) Compute weights for the longest series\n",
        "    w = getWeights(d, series.shape[0]) # each obs has a weight\n",
        "    #2) Determine initial calcs to be skipped based on weight-loss threshold\n",
        "    w_ = np.cumsum(abs(w)) # cumulative weights\n",
        "    w_ /= w_[-1] # determine the relative weight-loss\n",
        "    skip = w_[w_ > thres].shape[0]  # the no. of results where the weight-loss is beyond the acceptable value\n",
        "    #3) Apply weights to values\n",
        "    df = {} # empty dictionary\n",
        "    for name in series.columns:\n",
        "        # fill the na prices\n",
        "        seriesF = series[[name]].fillna(method = 'ffill').dropna()\n",
        "        df_ = pd.Series(dtype=\"float64\") # create a pd series\n",
        "        for iloc in range(skip, seriesF.shape[0]):\n",
        "            loc = seriesF.index[iloc] # find the iloc th obs \n",
        "            \n",
        "            test_val = series.loc[loc,name] # must resample if duplicate index\n",
        "            if isinstance(test_val, (pd.Series, pd.DataFrame)):\n",
        "                test_val = test_val.resample('1m').mean()\n",
        "            \n",
        "            if not np.isfinite(test_val).any():\n",
        "                 continue # exclude NAs\n",
        "            try: # the (iloc)^th obs will use all the weights from the start to the (iloc)^th\n",
        "                df_.loc[loc]=np.dot(w[-(iloc+1):,:].T, seriesF.loc[:loc])[0,0]\n",
        "            except:\n",
        "                continue\n",
        "        df[name] = df_.copy(deep = True)\n",
        "    df = pd.concat(df, axis = 1)\n",
        "    return df"
      ],
      "execution_count": 12,
      "outputs": []
    },
    {
      "cell_type": "code",
      "metadata": {
        "colab": {
          "base_uri": "https://localhost:8080/",
          "height": 542
        },
        "id": "Vl0mmva3qCwG",
        "outputId": "5497075c-0a46-4bf9-8699-ff345f4e37a6"
      },
      "source": [
        "close_fd = fracDiff(pd.DataFrame(close), d=0.4, thres = 1).iloc[:,0]\n",
        "close_fd_c = fracDiff(pd.DataFrame(close), d=0.4, thres = 0.01).iloc[:,0]\n",
        "fig = make_subplots(specs=[[{\"secondary_y\": True}]])\n",
        "fig.add_trace(go.Scatter(x=close.index, y=close, name=\"close\"), secondary_y=False)\n",
        "fig.add_trace(go.Scatter(x=close_fd.index, y=close_fd, name=\"Diff\"), secondary_y=True)\n",
        "fig.add_trace(go.Scatter(x=close_fd_c.index, y=close_fd_c, name=\"Diff Controlled\"), secondary_y=True)\n",
        "fig.update_yaxes(title_text=\"Price\", secondary_y=False)\n",
        "fig.update_yaxes(title_text=\"Diff Ret\", secondary_y=True)\n",
        "fig.show()"
      ],
      "execution_count": 13,
      "outputs": [
        {
          "output_type": "display_data",
          "data": {
            "text/html": [
              "<html>\n",
              "<head><meta charset=\"utf-8\" /></head>\n",
              "<body>\n",
              "    <div>            <script src=\"https://cdnjs.cloudflare.com/ajax/libs/mathjax/2.7.5/MathJax.js?config=TeX-AMS-MML_SVG\"></script><script type=\"text/javascript\">if (window.MathJax) {MathJax.Hub.Config({SVG: {font: \"STIX-Web\"}});}</script>                <script type=\"text/javascript\">window.PlotlyConfig = {MathJaxConfig: 'local'};</script>\n",
              "        <script src=\"https://cdn.plot.ly/plotly-latest.min.js\"></script>                <div id=\"21eb9e5f-31bf-47b5-8940-94e5f36f17da\" class=\"plotly-graph-div\" style=\"height:525px; width:100%;\"></div>            <script type=\"text/javascript\">                                    window.PLOTLYENV=window.PLOTLYENV || {};                                    if (document.getElementById(\"21eb9e5f-31bf-47b5-8940-94e5f36f17da\")) {                    Plotly.newPlot(                        \"21eb9e5f-31bf-47b5-8940-94e5f36f17da\",                        [{\"name\": \"close\", \"type\": \"scatter\", \"x\": [\"2020-01-03T00:00:00\", \"2020-01-06T00:00:00\", \"2020-01-07T00:00:00\", \"2020-01-08T00:00:00\", \"2020-01-09T00:00:00\", \"2020-01-10T00:00:00\", \"2020-01-13T00:00:00\", \"2020-01-14T00:00:00\", \"2020-01-15T00:00:00\", \"2020-01-16T00:00:00\", \"2020-01-17T00:00:00\", \"2020-01-22T00:00:00\", \"2020-01-23T00:00:00\", \"2020-01-24T00:00:00\", \"2020-01-27T00:00:00\", \"2020-01-28T00:00:00\", \"2020-01-29T00:00:00\", \"2020-01-30T00:00:00\", \"2020-01-31T00:00:00\", \"2020-02-03T00:00:00\", \"2020-02-04T00:00:00\", \"2020-02-05T00:00:00\", \"2020-02-06T00:00:00\", \"2020-02-07T00:00:00\", \"2020-02-10T00:00:00\", \"2020-02-11T00:00:00\", \"2020-02-12T00:00:00\", \"2020-02-13T00:00:00\", \"2020-02-14T00:00:00\", \"2020-02-19T00:00:00\", \"2020-02-20T00:00:00\", \"2020-02-21T00:00:00\", \"2020-02-24T00:00:00\", \"2020-02-25T00:00:00\", \"2020-02-26T00:00:00\", \"2020-02-27T00:00:00\", \"2020-02-28T00:00:00\", \"2020-03-02T00:00:00\", \"2020-03-03T00:00:00\", \"2020-03-04T00:00:00\", \"2020-03-05T00:00:00\", \"2020-03-06T00:00:00\", \"2020-03-09T00:00:00\", \"2020-03-10T00:00:00\", \"2020-03-11T00:00:00\", \"2020-03-12T00:00:00\", \"2020-03-13T00:00:00\", \"2020-03-16T00:00:00\", \"2020-03-17T00:00:00\", \"2020-03-18T00:00:00\", \"2020-03-19T00:00:00\", \"2020-03-20T00:00:00\", \"2020-03-23T00:00:00\", \"2020-03-24T00:00:00\", \"2020-03-25T00:00:00\", \"2020-03-26T00:00:00\", \"2020-03-27T00:00:00\", \"2020-03-30T00:00:00\", \"2020-03-31T00:00:00\", \"2020-04-01T00:00:00\", \"2020-04-02T00:00:00\", \"2020-04-03T00:00:00\", \"2020-04-06T00:00:00\", \"2020-04-07T00:00:00\", \"2020-04-08T00:00:00\", \"2020-04-09T00:00:00\", \"2020-04-14T00:00:00\", \"2020-04-15T00:00:00\", \"2020-04-16T00:00:00\", \"2020-04-17T00:00:00\", \"2020-04-20T00:00:00\", \"2020-04-21T00:00:00\", \"2020-04-22T00:00:00\", \"2020-04-23T00:00:00\", \"2020-04-24T00:00:00\", \"2020-04-27T00:00:00\", \"2020-04-28T00:00:00\", \"2020-04-29T00:00:00\", \"2020-04-30T00:00:00\", \"2020-05-01T00:00:00\", \"2020-05-04T00:00:00\", \"2020-05-05T00:00:00\", \"2020-05-06T00:00:00\", \"2020-05-07T00:00:00\", \"2020-05-08T00:00:00\", \"2020-05-11T00:00:00\", \"2020-05-12T00:00:00\", \"2020-05-13T00:00:00\", \"2020-05-14T00:00:00\", \"2020-05-15T00:00:00\", \"2020-05-18T00:00:00\", \"2020-05-19T00:00:00\", \"2020-05-20T00:00:00\", \"2020-05-21T00:00:00\", \"2020-05-22T00:00:00\", \"2020-05-27T00:00:00\", \"2020-05-28T00:00:00\", \"2020-05-29T00:00:00\", \"2020-06-01T00:00:00\", \"2020-06-02T00:00:00\", \"2020-06-03T00:00:00\", \"2020-06-04T00:00:00\", \"2020-06-05T00:00:00\", \"2020-06-08T00:00:00\", \"2020-06-09T00:00:00\", \"2020-06-10T00:00:00\", \"2020-06-11T00:00:00\", \"2020-06-12T00:00:00\", \"2020-06-15T00:00:00\", \"2020-06-16T00:00:00\", \"2020-06-17T00:00:00\", \"2020-06-18T00:00:00\", \"2020-06-19T00:00:00\", \"2020-06-22T00:00:00\", \"2020-06-23T00:00:00\", \"2020-06-24T00:00:00\", \"2020-06-25T00:00:00\", \"2020-06-26T00:00:00\", \"2020-06-29T00:00:00\", \"2020-06-30T00:00:00\", \"2020-07-01T00:00:00\", \"2020-07-02T00:00:00\", \"2020-07-07T00:00:00\", \"2020-07-08T00:00:00\", \"2020-07-09T00:00:00\", \"2020-07-10T00:00:00\", \"2020-07-13T00:00:00\", \"2020-07-14T00:00:00\", \"2020-07-15T00:00:00\", \"2020-07-16T00:00:00\", \"2020-07-17T00:00:00\", \"2020-07-20T00:00:00\", \"2020-07-21T00:00:00\", \"2020-07-22T00:00:00\", \"2020-07-23T00:00:00\", \"2020-07-24T00:00:00\", \"2020-07-27T00:00:00\", \"2020-07-28T00:00:00\", \"2020-07-29T00:00:00\", \"2020-07-30T00:00:00\", \"2020-07-31T00:00:00\", \"2020-08-03T00:00:00\", \"2020-08-04T00:00:00\", \"2020-08-05T00:00:00\", \"2020-08-06T00:00:00\", \"2020-08-07T00:00:00\", \"2020-08-10T00:00:00\", \"2020-08-11T00:00:00\", \"2020-08-12T00:00:00\", \"2020-08-13T00:00:00\", \"2020-08-14T00:00:00\", \"2020-08-17T00:00:00\", \"2020-08-18T00:00:00\", \"2020-08-19T00:00:00\", \"2020-08-20T00:00:00\", \"2020-08-21T00:00:00\", \"2020-08-24T00:00:00\", \"2020-08-25T00:00:00\", \"2020-08-26T00:00:00\", \"2020-08-27T00:00:00\", \"2020-08-28T00:00:00\", \"2020-08-31T00:00:00\", \"2020-09-01T00:00:00\", \"2020-09-02T00:00:00\", \"2020-09-03T00:00:00\", \"2020-09-04T00:00:00\", \"2020-09-09T00:00:00\", \"2020-09-10T00:00:00\", \"2020-09-11T00:00:00\", \"2020-09-14T00:00:00\", \"2020-09-15T00:00:00\", \"2020-09-16T00:00:00\", \"2020-09-17T00:00:00\", \"2020-09-18T00:00:00\", \"2020-09-21T00:00:00\", \"2020-09-22T00:00:00\", \"2020-09-23T00:00:00\", \"2020-09-24T00:00:00\", \"2020-09-25T00:00:00\", \"2020-09-28T00:00:00\", \"2020-09-29T00:00:00\", \"2020-09-30T00:00:00\", \"2020-10-01T00:00:00\", \"2020-10-02T00:00:00\", \"2020-10-05T00:00:00\", \"2020-10-06T00:00:00\", \"2020-10-07T00:00:00\", \"2020-10-08T00:00:00\", \"2020-10-09T00:00:00\", \"2020-10-12T00:00:00\", \"2020-10-13T00:00:00\", \"2020-10-14T00:00:00\", \"2020-10-15T00:00:00\", \"2020-10-16T00:00:00\", \"2020-10-19T00:00:00\", \"2020-10-20T00:00:00\", \"2020-10-21T00:00:00\", \"2020-10-22T00:00:00\", \"2020-10-23T00:00:00\", \"2020-10-26T00:00:00\", \"2020-10-27T00:00:00\", \"2020-10-28T00:00:00\", \"2020-10-29T00:00:00\", \"2020-10-30T00:00:00\", \"2020-11-02T00:00:00\", \"2020-11-03T00:00:00\", \"2020-11-04T00:00:00\", \"2020-11-05T00:00:00\", \"2020-11-06T00:00:00\", \"2020-11-09T00:00:00\", \"2020-11-10T00:00:00\", \"2020-11-11T00:00:00\", \"2020-11-12T00:00:00\", \"2020-11-13T00:00:00\", \"2020-11-16T00:00:00\", \"2020-11-17T00:00:00\", \"2020-11-18T00:00:00\", \"2020-11-19T00:00:00\", \"2020-11-20T00:00:00\", \"2020-11-23T00:00:00\", \"2020-11-24T00:00:00\", \"2020-11-25T00:00:00\", \"2020-11-30T00:00:00\", \"2020-12-01T00:00:00\", \"2020-12-02T00:00:00\", \"2020-12-03T00:00:00\", \"2020-12-04T00:00:00\", \"2020-12-07T00:00:00\", \"2020-12-08T00:00:00\", \"2020-12-09T00:00:00\", \"2020-12-10T00:00:00\", \"2020-12-11T00:00:00\", \"2020-12-14T00:00:00\", \"2020-12-15T00:00:00\", \"2020-12-16T00:00:00\", \"2020-12-17T00:00:00\", \"2020-12-18T00:00:00\", \"2020-12-21T00:00:00\", \"2020-12-22T00:00:00\", \"2020-12-23T00:00:00\", \"2020-12-24T00:00:00\", \"2020-12-29T00:00:00\", \"2020-12-30T00:00:00\", \"2020-12-31T00:00:00\"], \"xaxis\": \"x\", \"y\": [129.64, 129.8952, 129.38, 129.76, 130.3168, 129.87, 130.305, 130.48, 130.63, 131.57, 131.78, 131.31, 131.31, 130.06, 128.24, 129.05, 128.47, 128.96, 126.65, 127.08, 128.6, 130.92, 130.97, 130.22, 130.58, 131.16, 131.8, 131.55, 131.45, 131.33, 131.22, 130.63, 126.62, 122.61, 121.48, 116.34, 114.63, 119.78, 116.45, 121.32, 117.32, 115.22, 105.86, 110.57, 105.01, 94.5, 102.955, 91.38, 97.17, 91.03, 90.68, 86.41, 82.69, 91.0, 92.13, 98.01, 95.27, 98.02, 96.24, 91.96, 94.19, 92.74, 98.52, 98.91, 102.91, 105.17, 105.4, 102.43, 102.315, 106.05, 103.86, 101.05, 102.67, 102.695, 104.01, 106.18, 106.64, 108.72, 106.45, 103.56, 103.51, 103.98, 102.39, 103.38, 105.63, 104.93, 102.77, 100.42, 101.93, 101.93, 106.06, 104.31, 105.89, 105.22, 105.25, 110.38, 109.91, 109.95, 110.32, 111.39, 113.52, 114.03, 117.44, 119.69, 117.4, 114.97, 107.5, 109.19, 109.45, 111.49, 110.27, 110.25, 109.36, 109.25, 109.45, 106.4, 107.52, 105.23, 107.01, 108.2, 108.17, 108.71, 108.29, 108.49, 106.78, 108.69, 108.84, 110.53, 112.01, 112.02, 112.36, 111.49, 112.78, 113.46, 113.39, 112.58, 112.62, 112.51, 113.76, 112.55, 112.25, 112.56, 113.17, 113.82, 113.8, 115.14, 116.24, 115.94, 116.75, 115.89, 116.13, 115.9, 115.47, 115.0, 114.37, 114.36, 115.92, 115.78, 115.47, 116.31, 117.09, 116.2, 116.19, 118.19, 116.0, 115.98, 115.18, 113.42, 114.03, 115.52, 115.31, 116.1, 115.56, 114.61, 112.09, 112.19, 109.26, 109.41, 110.69, 112.39, 111.53, 112.52, 112.59, 112.83, 114.61, 113.48, 115.3, 116.76, 116.98, 117.83, 116.66, 115.96, 116.32, 116.72, 115.13, 115.53, 115.15, 116.64, 116.9, 114.67, 113.19, 109.92, 110.43, 110.49, 112.53, 114.59, 114.85, 116.56, 116.21, 120.85, 122.55, 122.13, 120.61, 122.9, 125.03, 124.41, 122.85, 123.0, 122.43, 124.07, 126.68, 125.92, 124.61, 125.62, 126.46, 126.75, 128.19, 127.44, 127.97, 127.95, 127.62, 127.17, 125.05, 126.77, 126.38, 127.1, 126.45, 125.83, 124.87, 125.79, 126.12, 126.44, 127.0, 128.02], \"yaxis\": \"y\"}, {\"name\": \"Diff\", \"type\": \"scatter\", \"x\": [\"2020-01-03T00:00:00\", \"2020-01-06T00:00:00\", \"2020-01-07T00:00:00\", \"2020-01-08T00:00:00\", \"2020-01-09T00:00:00\", \"2020-01-10T00:00:00\", \"2020-01-13T00:00:00\", \"2020-01-14T00:00:00\", \"2020-01-15T00:00:00\", \"2020-01-16T00:00:00\", \"2020-01-17T00:00:00\", \"2020-01-22T00:00:00\", \"2020-01-23T00:00:00\", \"2020-01-24T00:00:00\", \"2020-01-27T00:00:00\", \"2020-01-28T00:00:00\", \"2020-01-29T00:00:00\", \"2020-01-30T00:00:00\", \"2020-01-31T00:00:00\", \"2020-02-03T00:00:00\", \"2020-02-04T00:00:00\", \"2020-02-05T00:00:00\", \"2020-02-06T00:00:00\", \"2020-02-07T00:00:00\", \"2020-02-10T00:00:00\", \"2020-02-11T00:00:00\", \"2020-02-12T00:00:00\", \"2020-02-13T00:00:00\", \"2020-02-14T00:00:00\", \"2020-02-19T00:00:00\", \"2020-02-20T00:00:00\", \"2020-02-21T00:00:00\", \"2020-02-24T00:00:00\", \"2020-02-25T00:00:00\", \"2020-02-26T00:00:00\", \"2020-02-27T00:00:00\", \"2020-02-28T00:00:00\", \"2020-03-02T00:00:00\", \"2020-03-03T00:00:00\", \"2020-03-04T00:00:00\", \"2020-03-05T00:00:00\", \"2020-03-06T00:00:00\", \"2020-03-09T00:00:00\", \"2020-03-10T00:00:00\", \"2020-03-11T00:00:00\", \"2020-03-12T00:00:00\", \"2020-03-13T00:00:00\", \"2020-03-16T00:00:00\", \"2020-03-17T00:00:00\", \"2020-03-18T00:00:00\", \"2020-03-19T00:00:00\", \"2020-03-20T00:00:00\", \"2020-03-23T00:00:00\", \"2020-03-24T00:00:00\", \"2020-03-25T00:00:00\", \"2020-03-26T00:00:00\", \"2020-03-27T00:00:00\", \"2020-03-30T00:00:00\", \"2020-03-31T00:00:00\", \"2020-04-01T00:00:00\", \"2020-04-02T00:00:00\", \"2020-04-03T00:00:00\", \"2020-04-06T00:00:00\", \"2020-04-07T00:00:00\", \"2020-04-08T00:00:00\", \"2020-04-09T00:00:00\", \"2020-04-14T00:00:00\", \"2020-04-15T00:00:00\", \"2020-04-16T00:00:00\", \"2020-04-17T00:00:00\", \"2020-04-20T00:00:00\", \"2020-04-21T00:00:00\", \"2020-04-22T00:00:00\", \"2020-04-23T00:00:00\", \"2020-04-24T00:00:00\", \"2020-04-27T00:00:00\", \"2020-04-28T00:00:00\", \"2020-04-29T00:00:00\", \"2020-04-30T00:00:00\", \"2020-05-01T00:00:00\", \"2020-05-04T00:00:00\", \"2020-05-05T00:00:00\", \"2020-05-06T00:00:00\", \"2020-05-07T00:00:00\", \"2020-05-08T00:00:00\", \"2020-05-11T00:00:00\", \"2020-05-12T00:00:00\", \"2020-05-13T00:00:00\", \"2020-05-14T00:00:00\", \"2020-05-15T00:00:00\", \"2020-05-18T00:00:00\", \"2020-05-19T00:00:00\", \"2020-05-20T00:00:00\", \"2020-05-21T00:00:00\", \"2020-05-22T00:00:00\", \"2020-05-27T00:00:00\", \"2020-05-28T00:00:00\", \"2020-05-29T00:00:00\", \"2020-06-01T00:00:00\", \"2020-06-02T00:00:00\", \"2020-06-03T00:00:00\", \"2020-06-04T00:00:00\", \"2020-06-05T00:00:00\", \"2020-06-08T00:00:00\", \"2020-06-09T00:00:00\", \"2020-06-10T00:00:00\", \"2020-06-11T00:00:00\", \"2020-06-12T00:00:00\", \"2020-06-15T00:00:00\", \"2020-06-16T00:00:00\", \"2020-06-17T00:00:00\", \"2020-06-18T00:00:00\", \"2020-06-19T00:00:00\", \"2020-06-22T00:00:00\", \"2020-06-23T00:00:00\", \"2020-06-24T00:00:00\", \"2020-06-25T00:00:00\", \"2020-06-26T00:00:00\", \"2020-06-29T00:00:00\", \"2020-06-30T00:00:00\", \"2020-07-01T00:00:00\", \"2020-07-02T00:00:00\", \"2020-07-07T00:00:00\", \"2020-07-08T00:00:00\", \"2020-07-09T00:00:00\", \"2020-07-10T00:00:00\", \"2020-07-13T00:00:00\", \"2020-07-14T00:00:00\", \"2020-07-15T00:00:00\", \"2020-07-16T00:00:00\", \"2020-07-17T00:00:00\", \"2020-07-20T00:00:00\", \"2020-07-21T00:00:00\", \"2020-07-22T00:00:00\", \"2020-07-23T00:00:00\", \"2020-07-24T00:00:00\", \"2020-07-27T00:00:00\", \"2020-07-28T00:00:00\", \"2020-07-29T00:00:00\", \"2020-07-30T00:00:00\", \"2020-07-31T00:00:00\", \"2020-08-03T00:00:00\", \"2020-08-04T00:00:00\", \"2020-08-05T00:00:00\", \"2020-08-06T00:00:00\", \"2020-08-07T00:00:00\", \"2020-08-10T00:00:00\", \"2020-08-11T00:00:00\", \"2020-08-12T00:00:00\", \"2020-08-13T00:00:00\", \"2020-08-14T00:00:00\", \"2020-08-17T00:00:00\", \"2020-08-18T00:00:00\", \"2020-08-19T00:00:00\", \"2020-08-20T00:00:00\", \"2020-08-21T00:00:00\", \"2020-08-24T00:00:00\", \"2020-08-25T00:00:00\", \"2020-08-26T00:00:00\", \"2020-08-27T00:00:00\", \"2020-08-28T00:00:00\", \"2020-08-31T00:00:00\", \"2020-09-01T00:00:00\", \"2020-09-02T00:00:00\", \"2020-09-03T00:00:00\", \"2020-09-04T00:00:00\", \"2020-09-09T00:00:00\", \"2020-09-10T00:00:00\", \"2020-09-11T00:00:00\", \"2020-09-14T00:00:00\", \"2020-09-15T00:00:00\", \"2020-09-16T00:00:00\", \"2020-09-17T00:00:00\", \"2020-09-18T00:00:00\", \"2020-09-21T00:00:00\", \"2020-09-22T00:00:00\", \"2020-09-23T00:00:00\", \"2020-09-24T00:00:00\", \"2020-09-25T00:00:00\", \"2020-09-28T00:00:00\", \"2020-09-29T00:00:00\", \"2020-09-30T00:00:00\", \"2020-10-01T00:00:00\", \"2020-10-02T00:00:00\", \"2020-10-05T00:00:00\", \"2020-10-06T00:00:00\", \"2020-10-07T00:00:00\", \"2020-10-08T00:00:00\", \"2020-10-09T00:00:00\", \"2020-10-12T00:00:00\", \"2020-10-13T00:00:00\", \"2020-10-14T00:00:00\", \"2020-10-15T00:00:00\", \"2020-10-16T00:00:00\", \"2020-10-19T00:00:00\", \"2020-10-20T00:00:00\", \"2020-10-21T00:00:00\", \"2020-10-22T00:00:00\", \"2020-10-23T00:00:00\", \"2020-10-26T00:00:00\", \"2020-10-27T00:00:00\", \"2020-10-28T00:00:00\", \"2020-10-29T00:00:00\", \"2020-10-30T00:00:00\", \"2020-11-02T00:00:00\", \"2020-11-03T00:00:00\", \"2020-11-04T00:00:00\", \"2020-11-05T00:00:00\", \"2020-11-06T00:00:00\", \"2020-11-09T00:00:00\", \"2020-11-10T00:00:00\", \"2020-11-11T00:00:00\", \"2020-11-12T00:00:00\", \"2020-11-13T00:00:00\", \"2020-11-16T00:00:00\", \"2020-11-17T00:00:00\", \"2020-11-18T00:00:00\", \"2020-11-19T00:00:00\", \"2020-11-20T00:00:00\", \"2020-11-23T00:00:00\", \"2020-11-24T00:00:00\", \"2020-11-25T00:00:00\", \"2020-11-30T00:00:00\", \"2020-12-01T00:00:00\", \"2020-12-02T00:00:00\", \"2020-12-03T00:00:00\", \"2020-12-04T00:00:00\", \"2020-12-07T00:00:00\", \"2020-12-08T00:00:00\", \"2020-12-09T00:00:00\", \"2020-12-10T00:00:00\", \"2020-12-11T00:00:00\", \"2020-12-14T00:00:00\", \"2020-12-15T00:00:00\", \"2020-12-16T00:00:00\", \"2020-12-17T00:00:00\", \"2020-12-18T00:00:00\", \"2020-12-21T00:00:00\", \"2020-12-22T00:00:00\", \"2020-12-23T00:00:00\", \"2020-12-24T00:00:00\", \"2020-12-29T00:00:00\", \"2020-12-30T00:00:00\", \"2020-12-31T00:00:00\"], \"xaxis\": \"x\", \"y\": [129.64, 78.0392, 61.86511999999999, 54.123615999999984, 49.1808832, 44.60514239999999, 42.1645657216, 39.79575018495997, 37.859956715007996, 37.03074403266558, 35.38873437601791, 33.44481231048867, 32.42411853677788, 30.17819052501774, 27.953131355060364, 28.81941284030738, 27.464277362840292, 27.570293483281688, 24.561932934978387, 25.357631243930612, 26.4713746207685, 27.802302511736173, 26.362345299318676, 24.845835022386666, 24.929664272029243, 24.965755724709723, 24.941510940915265, 23.974659634231088, 23.498053496487813, 23.04321543376433, 22.644928055747656, 21.79434571937749, 17.739346425966815, 15.129807515209876, 15.858520812534906, 11.67915097797436, 12.358279273412023, 18.94788348471235, 14.137121105937993, 20.036423338114275, 14.342883162015426, 13.364826525504682, 5.055213676866757, 13.819956440141567, 7.635701420074412, -0.5558386685341077, 12.877212497306289, -0.3853068046551513, 9.97362522120251, 2.996682065449974, 5.24966916468864, 2.0545759628597153, 0.65302936071609, 11.387001587550458, 10.230106947509285, 15.324528612815698, 10.046335179659295, 13.139979380631999, 10.213721124067774, 6.265542543118187, 10.207783826501867, 8.35111368249322, 14.687164412632768, 12.945967737262379, 16.197873320831903, 16.50750019000111, 15.134207166097255, 11.388451160845563, 12.001660520817452, 15.811428368134315, 12.077812674424223, 9.620168433405581, 12.307646954105323, 11.927619897848743, 13.121392550926373, 14.683051887086776, 14.045131149697184, 15.529334239217974, 12.114617954176353, 9.662628892712682, 10.73455729475559, 11.485326164360288, 9.804843730686898, 11.40634076871028, 13.422300376074702, 11.770605999274451, 9.584785355471624, 8.004196839995174, 10.629029044205097, 10.370315159921532, 14.491128891008117, 11.091570619928532, 12.873453682809682, 11.50877056843791, 11.544193850153064, 16.57369170027482, 13.963108053507653, 13.496572674682255, 13.507207580526511, 14.175391806106916, 15.635145959624055, 14.978098454413171, 17.70534998872921, 18.216035628839336, 14.345703651614713, 12.12776414596091, 5.437961215453228, 10.201862976200573, 10.648678599939629, 12.790387260431842, 10.844107347671866, 11.119096971272725, 10.27831381344214, 10.52768515873332, 10.865231514092272, 7.783474049454085, 10.11640472648763, 7.73235334453895, 10.471866305080383, 11.258582158048085, 10.706089241614663, 11.106773747582139, 10.395160146751337, 10.646661338307524, 8.83151442766389, 11.370329546091682, 10.91735395017011, 12.388467868375471, 13.087136472104973, 12.230130679352001, 12.223106724299498, 11.001802895115674, 12.442145122313477, 12.564584791640215, 12.005754387744005, 10.996143205340317, 11.210347430225639, 11.061256366700121, 12.300456634086501, 10.545606125410117, 10.529309245365937, 10.97363584868188, 11.471090191236044, 11.823373410048617, 11.423241827239977, 12.609496667247512, 13.065616190341515, 12.078663805184433, 12.717229124333798, 11.377550074583326, 11.73789802817457, 11.356618212371316, 10.918298006824102, 10.56124218113088, 10.107574574207035, 10.371597774930919, 11.999786307188486, 11.253018888900328, 10.808424344761917, 11.675483229676587, 12.080885163424767, 10.733573031644937, 10.887799073354842, 12.870497341608896, 9.839150370766987, 10.409552631157254, 9.70666672749266, 8.281382091724993, 9.680553391900972, 11.167508375230156, 10.40773155521022, 11.132017399070577, 10.221219895093398, 9.34976045478463, 7.187387888734307, 8.377719881912299, 5.738280651154611, 7.216921269849081, 8.883985576179882, 10.303950890400486, 8.764948303684193, 9.923539113739352, 9.621145355944904, 9.723560361144095, 11.340629022872477, 9.426334839870393, 11.436857592584602, 12.15394948924272, 11.539479069384356, 11.976948367028129, 10.24027874710805, 9.747769240292342, 10.351607640779562, 10.631492301523764, 8.821909665478927, 9.758054855062028, 9.335227122581841, 10.969317677117914, 10.66502957798913, 8.158149798598402, 7.438358882688192, 4.938196644515656, 7.006483813929279, 7.383654177369934, 9.624687783945816, 11.01412701229603, 10.310672101178099, 11.617662209462395, 10.396093184560456, 14.854491294136835, 14.548783413931588, 12.780129919582507, 10.839217100928579, 13.413518552740996, 14.5656530740184, 12.722496306740098, 10.912063118747042, 11.439177510070095, 10.79654847412742, 12.580325387391852, 14.51614456240766, 12.468434852542032, 10.989317249367446, 12.322543345057966, 12.750594892356773, 12.52849498210115, 13.621658891006263, 12.098394091370736, 12.606746728105378, 12.24960657711469, 11.745763719510506, 11.289814044683482, 9.272516919867812, 11.812935607064901, 10.939611494509123, 11.689361703603723, 10.719738545423255, 10.234464231574492, 9.51343880395902, 10.861984879763298, 10.942958671129048, 11.069819827439119, 11.42330643169555, 12.126065605510817], \"yaxis\": \"y2\"}, {\"name\": \"Diff Controlled\", \"type\": \"scatter\", \"x\": [\"2020-07-29T00:00:00\", \"2020-07-30T00:00:00\", \"2020-07-31T00:00:00\", \"2020-08-03T00:00:00\", \"2020-08-04T00:00:00\", \"2020-08-05T00:00:00\", \"2020-08-06T00:00:00\", \"2020-08-07T00:00:00\", \"2020-08-10T00:00:00\", \"2020-08-11T00:00:00\", \"2020-08-12T00:00:00\", \"2020-08-13T00:00:00\", \"2020-08-14T00:00:00\", \"2020-08-17T00:00:00\", \"2020-08-18T00:00:00\", \"2020-08-19T00:00:00\", \"2020-08-20T00:00:00\", \"2020-08-21T00:00:00\", \"2020-08-24T00:00:00\", \"2020-08-25T00:00:00\", \"2020-08-26T00:00:00\", \"2020-08-27T00:00:00\", \"2020-08-28T00:00:00\", \"2020-08-31T00:00:00\", \"2020-09-01T00:00:00\", \"2020-09-02T00:00:00\", \"2020-09-03T00:00:00\", \"2020-09-04T00:00:00\", \"2020-09-09T00:00:00\", \"2020-09-10T00:00:00\", \"2020-09-11T00:00:00\", \"2020-09-14T00:00:00\", \"2020-09-15T00:00:00\", \"2020-09-16T00:00:00\", \"2020-09-17T00:00:00\", \"2020-09-18T00:00:00\", \"2020-09-21T00:00:00\", \"2020-09-22T00:00:00\", \"2020-09-23T00:00:00\", \"2020-09-24T00:00:00\", \"2020-09-25T00:00:00\", \"2020-09-28T00:00:00\", \"2020-09-29T00:00:00\", \"2020-09-30T00:00:00\", \"2020-10-01T00:00:00\", \"2020-10-02T00:00:00\", \"2020-10-05T00:00:00\", \"2020-10-06T00:00:00\", \"2020-10-07T00:00:00\", \"2020-10-08T00:00:00\", \"2020-10-09T00:00:00\", \"2020-10-12T00:00:00\", \"2020-10-13T00:00:00\", \"2020-10-14T00:00:00\", \"2020-10-15T00:00:00\", \"2020-10-16T00:00:00\", \"2020-10-19T00:00:00\", \"2020-10-20T00:00:00\", \"2020-10-21T00:00:00\", \"2020-10-22T00:00:00\", \"2020-10-23T00:00:00\", \"2020-10-26T00:00:00\", \"2020-10-27T00:00:00\", \"2020-10-28T00:00:00\", \"2020-10-29T00:00:00\", \"2020-10-30T00:00:00\", \"2020-11-02T00:00:00\", \"2020-11-03T00:00:00\", \"2020-11-04T00:00:00\", \"2020-11-05T00:00:00\", \"2020-11-06T00:00:00\", \"2020-11-09T00:00:00\", \"2020-11-10T00:00:00\", \"2020-11-11T00:00:00\", \"2020-11-12T00:00:00\", \"2020-11-13T00:00:00\", \"2020-11-16T00:00:00\", \"2020-11-17T00:00:00\", \"2020-11-18T00:00:00\", \"2020-11-19T00:00:00\", \"2020-11-20T00:00:00\", \"2020-11-23T00:00:00\", \"2020-11-24T00:00:00\", \"2020-11-25T00:00:00\", \"2020-11-30T00:00:00\", \"2020-12-01T00:00:00\", \"2020-12-02T00:00:00\", \"2020-12-03T00:00:00\", \"2020-12-04T00:00:00\", \"2020-12-07T00:00:00\", \"2020-12-08T00:00:00\", \"2020-12-09T00:00:00\", \"2020-12-10T00:00:00\", \"2020-12-11T00:00:00\", \"2020-12-14T00:00:00\", \"2020-12-15T00:00:00\", \"2020-12-16T00:00:00\", \"2020-12-17T00:00:00\", \"2020-12-18T00:00:00\", \"2020-12-21T00:00:00\", \"2020-12-22T00:00:00\", \"2020-12-23T00:00:00\", \"2020-12-24T00:00:00\", \"2020-12-29T00:00:00\", \"2020-12-30T00:00:00\", \"2020-12-31T00:00:00\"], \"xaxis\": \"x\", \"y\": [12.300456634086501, 10.545606125410117, 10.529309245365937, 10.97363584868188, 11.471090191236044, 11.823373410048617, 11.423241827239977, 12.609496667247512, 13.065616190341515, 12.078663805184433, 12.717229124333798, 11.377550074583326, 11.73789802817457, 11.356618212371316, 10.918298006824102, 10.56124218113088, 10.107574574207035, 10.371597774930919, 11.999786307188486, 11.253018888900328, 10.808424344761917, 11.675483229676587, 12.080885163424767, 10.733573031644937, 10.887799073354842, 12.870497341608896, 9.839150370766987, 10.409552631157254, 9.70666672749266, 8.281382091724993, 9.680553391900972, 11.167508375230156, 10.40773155521022, 11.132017399070577, 10.221219895093398, 9.34976045478463, 7.187387888734307, 8.377719881912299, 5.738280651154611, 7.216921269849081, 8.883985576179882, 10.303950890400486, 8.764948303684193, 9.923539113739352, 9.621145355944904, 9.723560361144095, 11.340629022872477, 9.426334839870393, 11.436857592584602, 12.15394948924272, 11.539479069384356, 11.976948367028129, 10.24027874710805, 9.747769240292342, 10.351607640779562, 10.631492301523764, 8.821909665478927, 9.758054855062028, 9.335227122581841, 10.969317677117914, 10.66502957798913, 8.158149798598402, 7.438358882688192, 4.938196644515656, 7.006483813929279, 7.383654177369934, 9.624687783945816, 11.01412701229603, 10.310672101178099, 11.617662209462395, 10.396093184560456, 14.854491294136835, 14.548783413931588, 12.780129919582507, 10.839217100928579, 13.413518552740996, 14.5656530740184, 12.722496306740098, 10.912063118747042, 11.439177510070095, 10.79654847412742, 12.580325387391852, 14.51614456240766, 12.468434852542032, 10.989317249367446, 12.322543345057966, 12.750594892356773, 12.52849498210115, 13.621658891006263, 12.098394091370736, 12.606746728105378, 12.24960657711469, 11.745763719510506, 11.289814044683482, 9.272516919867812, 11.812935607064901, 10.939611494509123, 11.689361703603723, 10.719738545423255, 10.234464231574492, 9.51343880395902, 10.861984879763298, 10.942958671129048, 11.069819827439119, 11.42330643169555, 12.126065605510817], \"yaxis\": \"y2\"}],                        {\"template\": {\"data\": {\"bar\": [{\"error_x\": {\"color\": \"#2a3f5f\"}, \"error_y\": {\"color\": \"#2a3f5f\"}, \"marker\": {\"line\": {\"color\": \"#E5ECF6\", \"width\": 0.5}}, \"type\": \"bar\"}], \"barpolar\": [{\"marker\": {\"line\": {\"color\": \"#E5ECF6\", \"width\": 0.5}}, \"type\": \"barpolar\"}], \"carpet\": [{\"aaxis\": {\"endlinecolor\": \"#2a3f5f\", \"gridcolor\": \"white\", \"linecolor\": \"white\", \"minorgridcolor\": \"white\", \"startlinecolor\": \"#2a3f5f\"}, \"baxis\": {\"endlinecolor\": \"#2a3f5f\", \"gridcolor\": \"white\", \"linecolor\": \"white\", \"minorgridcolor\": \"white\", \"startlinecolor\": \"#2a3f5f\"}, \"type\": \"carpet\"}], \"choropleth\": [{\"colorbar\": {\"outlinewidth\": 0, \"ticks\": \"\"}, \"type\": \"choropleth\"}], \"contour\": [{\"colorbar\": {\"outlinewidth\": 0, \"ticks\": \"\"}, \"colorscale\": [[0.0, \"#0d0887\"], [0.1111111111111111, \"#46039f\"], [0.2222222222222222, \"#7201a8\"], [0.3333333333333333, \"#9c179e\"], [0.4444444444444444, \"#bd3786\"], [0.5555555555555556, \"#d8576b\"], [0.6666666666666666, \"#ed7953\"], [0.7777777777777778, \"#fb9f3a\"], [0.8888888888888888, \"#fdca26\"], [1.0, \"#f0f921\"]], \"type\": \"contour\"}], \"contourcarpet\": [{\"colorbar\": {\"outlinewidth\": 0, \"ticks\": \"\"}, \"type\": \"contourcarpet\"}], \"heatmap\": [{\"colorbar\": {\"outlinewidth\": 0, \"ticks\": \"\"}, \"colorscale\": [[0.0, \"#0d0887\"], [0.1111111111111111, \"#46039f\"], [0.2222222222222222, \"#7201a8\"], [0.3333333333333333, \"#9c179e\"], [0.4444444444444444, \"#bd3786\"], [0.5555555555555556, \"#d8576b\"], [0.6666666666666666, \"#ed7953\"], [0.7777777777777778, \"#fb9f3a\"], [0.8888888888888888, \"#fdca26\"], [1.0, \"#f0f921\"]], \"type\": \"heatmap\"}], \"heatmapgl\": [{\"colorbar\": {\"outlinewidth\": 0, \"ticks\": \"\"}, \"colorscale\": [[0.0, \"#0d0887\"], [0.1111111111111111, \"#46039f\"], [0.2222222222222222, \"#7201a8\"], [0.3333333333333333, \"#9c179e\"], [0.4444444444444444, \"#bd3786\"], [0.5555555555555556, \"#d8576b\"], [0.6666666666666666, \"#ed7953\"], [0.7777777777777778, \"#fb9f3a\"], [0.8888888888888888, \"#fdca26\"], [1.0, \"#f0f921\"]], \"type\": \"heatmapgl\"}], \"histogram\": [{\"marker\": {\"colorbar\": {\"outlinewidth\": 0, \"ticks\": \"\"}}, \"type\": \"histogram\"}], \"histogram2d\": [{\"colorbar\": {\"outlinewidth\": 0, \"ticks\": \"\"}, \"colorscale\": [[0.0, \"#0d0887\"], [0.1111111111111111, \"#46039f\"], [0.2222222222222222, \"#7201a8\"], [0.3333333333333333, \"#9c179e\"], [0.4444444444444444, \"#bd3786\"], [0.5555555555555556, \"#d8576b\"], [0.6666666666666666, \"#ed7953\"], [0.7777777777777778, \"#fb9f3a\"], [0.8888888888888888, \"#fdca26\"], [1.0, \"#f0f921\"]], \"type\": \"histogram2d\"}], \"histogram2dcontour\": [{\"colorbar\": {\"outlinewidth\": 0, \"ticks\": \"\"}, \"colorscale\": [[0.0, \"#0d0887\"], [0.1111111111111111, \"#46039f\"], [0.2222222222222222, \"#7201a8\"], [0.3333333333333333, \"#9c179e\"], [0.4444444444444444, \"#bd3786\"], [0.5555555555555556, \"#d8576b\"], [0.6666666666666666, \"#ed7953\"], [0.7777777777777778, \"#fb9f3a\"], [0.8888888888888888, \"#fdca26\"], [1.0, \"#f0f921\"]], \"type\": \"histogram2dcontour\"}], \"mesh3d\": [{\"colorbar\": {\"outlinewidth\": 0, \"ticks\": \"\"}, \"type\": \"mesh3d\"}], \"parcoords\": [{\"line\": {\"colorbar\": {\"outlinewidth\": 0, \"ticks\": \"\"}}, \"type\": \"parcoords\"}], \"pie\": [{\"automargin\": true, \"type\": \"pie\"}], \"scatter\": [{\"marker\": {\"colorbar\": {\"outlinewidth\": 0, \"ticks\": \"\"}}, \"type\": \"scatter\"}], \"scatter3d\": [{\"line\": {\"colorbar\": {\"outlinewidth\": 0, \"ticks\": \"\"}}, \"marker\": {\"colorbar\": {\"outlinewidth\": 0, \"ticks\": \"\"}}, \"type\": \"scatter3d\"}], \"scattercarpet\": [{\"marker\": {\"colorbar\": {\"outlinewidth\": 0, \"ticks\": \"\"}}, \"type\": \"scattercarpet\"}], \"scattergeo\": [{\"marker\": {\"colorbar\": {\"outlinewidth\": 0, \"ticks\": \"\"}}, \"type\": \"scattergeo\"}], \"scattergl\": [{\"marker\": {\"colorbar\": {\"outlinewidth\": 0, \"ticks\": \"\"}}, \"type\": \"scattergl\"}], \"scattermapbox\": [{\"marker\": {\"colorbar\": {\"outlinewidth\": 0, \"ticks\": \"\"}}, \"type\": \"scattermapbox\"}], \"scatterpolar\": [{\"marker\": {\"colorbar\": {\"outlinewidth\": 0, \"ticks\": \"\"}}, \"type\": \"scatterpolar\"}], \"scatterpolargl\": [{\"marker\": {\"colorbar\": {\"outlinewidth\": 0, \"ticks\": \"\"}}, \"type\": \"scatterpolargl\"}], \"scatterternary\": [{\"marker\": {\"colorbar\": {\"outlinewidth\": 0, \"ticks\": \"\"}}, \"type\": \"scatterternary\"}], \"surface\": [{\"colorbar\": {\"outlinewidth\": 0, \"ticks\": \"\"}, \"colorscale\": [[0.0, \"#0d0887\"], [0.1111111111111111, \"#46039f\"], [0.2222222222222222, \"#7201a8\"], [0.3333333333333333, \"#9c179e\"], [0.4444444444444444, \"#bd3786\"], [0.5555555555555556, \"#d8576b\"], [0.6666666666666666, \"#ed7953\"], [0.7777777777777778, \"#fb9f3a\"], [0.8888888888888888, \"#fdca26\"], [1.0, \"#f0f921\"]], \"type\": \"surface\"}], \"table\": [{\"cells\": {\"fill\": {\"color\": \"#EBF0F8\"}, \"line\": {\"color\": \"white\"}}, \"header\": {\"fill\": {\"color\": \"#C8D4E3\"}, \"line\": {\"color\": \"white\"}}, \"type\": \"table\"}]}, \"layout\": {\"annotationdefaults\": {\"arrowcolor\": \"#2a3f5f\", \"arrowhead\": 0, \"arrowwidth\": 1}, \"autotypenumbers\": \"strict\", \"coloraxis\": {\"colorbar\": {\"outlinewidth\": 0, \"ticks\": \"\"}}, \"colorscale\": {\"diverging\": [[0, \"#8e0152\"], [0.1, \"#c51b7d\"], [0.2, \"#de77ae\"], [0.3, \"#f1b6da\"], [0.4, \"#fde0ef\"], [0.5, \"#f7f7f7\"], [0.6, \"#e6f5d0\"], [0.7, \"#b8e186\"], [0.8, \"#7fbc41\"], [0.9, \"#4d9221\"], [1, \"#276419\"]], \"sequential\": [[0.0, \"#0d0887\"], [0.1111111111111111, \"#46039f\"], [0.2222222222222222, \"#7201a8\"], [0.3333333333333333, \"#9c179e\"], [0.4444444444444444, \"#bd3786\"], [0.5555555555555556, \"#d8576b\"], [0.6666666666666666, \"#ed7953\"], [0.7777777777777778, \"#fb9f3a\"], [0.8888888888888888, \"#fdca26\"], [1.0, \"#f0f921\"]], \"sequentialminus\": [[0.0, \"#0d0887\"], [0.1111111111111111, \"#46039f\"], [0.2222222222222222, \"#7201a8\"], [0.3333333333333333, \"#9c179e\"], [0.4444444444444444, \"#bd3786\"], [0.5555555555555556, \"#d8576b\"], [0.6666666666666666, \"#ed7953\"], [0.7777777777777778, \"#fb9f3a\"], [0.8888888888888888, \"#fdca26\"], [1.0, \"#f0f921\"]]}, \"colorway\": [\"#636efa\", \"#EF553B\", \"#00cc96\", \"#ab63fa\", \"#FFA15A\", \"#19d3f3\", \"#FF6692\", \"#B6E880\", \"#FF97FF\", \"#FECB52\"], \"font\": {\"color\": \"#2a3f5f\"}, \"geo\": {\"bgcolor\": \"white\", \"lakecolor\": \"white\", \"landcolor\": \"#E5ECF6\", \"showlakes\": true, \"showland\": true, \"subunitcolor\": \"white\"}, \"hoverlabel\": {\"align\": \"left\"}, \"hovermode\": \"closest\", \"mapbox\": {\"style\": \"light\"}, \"paper_bgcolor\": \"white\", \"plot_bgcolor\": \"#E5ECF6\", \"polar\": {\"angularaxis\": {\"gridcolor\": \"white\", \"linecolor\": \"white\", \"ticks\": \"\"}, \"bgcolor\": \"#E5ECF6\", \"radialaxis\": {\"gridcolor\": \"white\", \"linecolor\": \"white\", \"ticks\": \"\"}}, \"scene\": {\"xaxis\": {\"backgroundcolor\": \"#E5ECF6\", \"gridcolor\": \"white\", \"gridwidth\": 2, \"linecolor\": \"white\", \"showbackground\": true, \"ticks\": \"\", \"zerolinecolor\": \"white\"}, \"yaxis\": {\"backgroundcolor\": \"#E5ECF6\", \"gridcolor\": \"white\", \"gridwidth\": 2, \"linecolor\": \"white\", \"showbackground\": true, \"ticks\": \"\", \"zerolinecolor\": \"white\"}, \"zaxis\": {\"backgroundcolor\": \"#E5ECF6\", \"gridcolor\": \"white\", \"gridwidth\": 2, \"linecolor\": \"white\", \"showbackground\": true, \"ticks\": \"\", \"zerolinecolor\": \"white\"}}, \"shapedefaults\": {\"line\": {\"color\": \"#2a3f5f\"}}, \"ternary\": {\"aaxis\": {\"gridcolor\": \"white\", \"linecolor\": \"white\", \"ticks\": \"\"}, \"baxis\": {\"gridcolor\": \"white\", \"linecolor\": \"white\", \"ticks\": \"\"}, \"bgcolor\": \"#E5ECF6\", \"caxis\": {\"gridcolor\": \"white\", \"linecolor\": \"white\", \"ticks\": \"\"}}, \"title\": {\"x\": 0.05}, \"xaxis\": {\"automargin\": true, \"gridcolor\": \"white\", \"linecolor\": \"white\", \"ticks\": \"\", \"title\": {\"standoff\": 15}, \"zerolinecolor\": \"white\", \"zerolinewidth\": 2}, \"yaxis\": {\"automargin\": true, \"gridcolor\": \"white\", \"linecolor\": \"white\", \"ticks\": \"\", \"title\": {\"standoff\": 15}, \"zerolinecolor\": \"white\", \"zerolinewidth\": 2}}}, \"xaxis\": {\"anchor\": \"y\", \"domain\": [0.0, 0.94]}, \"yaxis\": {\"anchor\": \"x\", \"domain\": [0.0, 1.0], \"title\": {\"text\": \"Price\"}}, \"yaxis2\": {\"anchor\": \"x\", \"overlaying\": \"y\", \"side\": \"right\", \"title\": {\"text\": \"Diff Ret\"}}},                        {\"responsive\": true}                    ).then(function(){\n",
              "                            \n",
              "var gd = document.getElementById('21eb9e5f-31bf-47b5-8940-94e5f36f17da');\n",
              "var x = new MutationObserver(function (mutations, observer) {{\n",
              "        var display = window.getComputedStyle(gd).display;\n",
              "        if (!display || display === 'none') {{\n",
              "            console.log([gd, 'removed!']);\n",
              "            Plotly.purge(gd);\n",
              "            observer.disconnect();\n",
              "        }}\n",
              "}});\n",
              "\n",
              "// Listen for the removal of the full notebook cells\n",
              "var notebookContainer = gd.closest('#notebook-container');\n",
              "if (notebookContainer) {{\n",
              "    x.observe(notebookContainer, {childList: true});\n",
              "}}\n",
              "\n",
              "// Listen for the clearing of the current output cell\n",
              "var outputEl = gd.closest('.output');\n",
              "if (outputEl) {{\n",
              "    x.observe(outputEl, {childList: true});\n",
              "}}\n",
              "\n",
              "                        })                };                            </script>        </div>\n",
              "</body>\n",
              "</html>"
            ]
          },
          "metadata": {
            "tags": []
          }
        }
      ]
    },
    {
      "cell_type": "markdown",
      "metadata": {
        "id": "mwtV7Shwgtho"
      },
      "source": [
        "SNIPPET 5.3 THE NEW FIXED-WIDTH WINDOWFRACDIFF METHOD"
      ]
    },
    {
      "cell_type": "code",
      "metadata": {
        "id": "1fvDnz_Cg6Qu"
      },
      "source": [
        "def getWeights_FFD(d, thres):\n",
        "    # thres>0 drops insignificant weights\n",
        "    w = [1.]\n",
        "    k = 1\n",
        "    while abs(w[-1]) >= thres:  \n",
        "        w_ = -w[-1] / k * (d - k + 1)\n",
        "        w.append(w_)\n",
        "        k += 1\n",
        "    w = np.array(w[ : : -1]).reshape(-1, 1)[1 : ]  \n",
        "    return w\n",
        "\n",
        "def fracDiff_FFD(series, d, thres = 1e-5):\n",
        "    \"\"\"\n",
        "    Constant width window (new solution)\n",
        "    Note 1: thres determines the cut-off weight for the window\n",
        "    Note 2: d can be any positive fractional, not necessarily bounded [0,1].\n",
        "    \"\"\"\n",
        "    #1) Compute weights for the longest series\n",
        "    w = getWeights_FFD(d, thres)\n",
        "    # w = getWeights(d, series.shape[0])\n",
        "    #w=getWeights_FFD(d,thres)\n",
        "    width = len(w) - 1\n",
        "    #2) Apply weights to values\n",
        "    df = {} # empty dict\n",
        "    for name in series.columns:\n",
        "        seriesF = series[[name]].fillna(method = 'ffill').dropna()\n",
        "        df_ = pd.Series(dtype=\"float64\") # empty pd.series\n",
        "        for iloc1 in range(width, seriesF.shape[0]):\n",
        "            loc0 = seriesF.index[iloc1 - width]\n",
        "            loc1 = seriesF.index[iloc1]\n",
        "            if not np.isfinite(series.loc[loc1,name]):\n",
        "                continue # exclude NAs\n",
        "            #try: # the (iloc)^th obs will use all the weights from the start to the (iloc)^th\n",
        "            df_[loc1] = np.dot(w.T, seriesF.loc[loc0 : loc1])[0, 0]\n",
        "            # except:\n",
        "            #     continue\n",
        "      \n",
        "        df[name] = df_.copy(deep = True)\n",
        "    df = pd.concat(df, axis = 1)\n",
        "    return df"
      ],
      "execution_count": 14,
      "outputs": []
    },
    {
      "cell_type": "code",
      "metadata": {
        "colab": {
          "base_uri": "https://localhost:8080/",
          "height": 542
        },
        "id": "UpA0t1Bxvbh0",
        "outputId": "950b847b-cd92-4fd1-d70b-0919121ea9e7"
      },
      "source": [
        "close_ffd = fracDiff_FFD(pd.DataFrame(close), d=0.3, thres = 1e-3).iloc[:,0]\n",
        "fig = make_subplots(specs=[[{\"secondary_y\": True}]])\n",
        "fig.add_trace(go.Scatter(x=close.index, y=close, name=\"close\"), secondary_y=False)\n",
        "fig.add_trace(go.Scatter(x=close_ffd.index, y=close_ffd, name=\"FFD\"), secondary_y=True)\n",
        "fig.update_yaxes(title_text=\"Price\", secondary_y=False)\n",
        "fig.update_yaxes(title_text=\"Diff Ret\", secondary_y=True)\n",
        "fig.show()"
      ],
      "execution_count": 15,
      "outputs": [
        {
          "output_type": "display_data",
          "data": {
            "text/html": [
              "<html>\n",
              "<head><meta charset=\"utf-8\" /></head>\n",
              "<body>\n",
              "    <div>            <script src=\"https://cdnjs.cloudflare.com/ajax/libs/mathjax/2.7.5/MathJax.js?config=TeX-AMS-MML_SVG\"></script><script type=\"text/javascript\">if (window.MathJax) {MathJax.Hub.Config({SVG: {font: \"STIX-Web\"}});}</script>                <script type=\"text/javascript\">window.PlotlyConfig = {MathJaxConfig: 'local'};</script>\n",
              "        <script src=\"https://cdn.plot.ly/plotly-latest.min.js\"></script>                <div id=\"bb06edec-f2ac-41fc-9d57-9cba4766a396\" class=\"plotly-graph-div\" style=\"height:525px; width:100%;\"></div>            <script type=\"text/javascript\">                                    window.PLOTLYENV=window.PLOTLYENV || {};                                    if (document.getElementById(\"bb06edec-f2ac-41fc-9d57-9cba4766a396\")) {                    Plotly.newPlot(                        \"bb06edec-f2ac-41fc-9d57-9cba4766a396\",                        [{\"name\": \"close\", \"type\": \"scatter\", \"x\": [\"2020-01-03T00:00:00\", \"2020-01-06T00:00:00\", \"2020-01-07T00:00:00\", \"2020-01-08T00:00:00\", \"2020-01-09T00:00:00\", \"2020-01-10T00:00:00\", \"2020-01-13T00:00:00\", \"2020-01-14T00:00:00\", \"2020-01-15T00:00:00\", \"2020-01-16T00:00:00\", \"2020-01-17T00:00:00\", \"2020-01-22T00:00:00\", \"2020-01-23T00:00:00\", \"2020-01-24T00:00:00\", \"2020-01-27T00:00:00\", \"2020-01-28T00:00:00\", \"2020-01-29T00:00:00\", \"2020-01-30T00:00:00\", \"2020-01-31T00:00:00\", \"2020-02-03T00:00:00\", \"2020-02-04T00:00:00\", \"2020-02-05T00:00:00\", \"2020-02-06T00:00:00\", \"2020-02-07T00:00:00\", \"2020-02-10T00:00:00\", \"2020-02-11T00:00:00\", \"2020-02-12T00:00:00\", \"2020-02-13T00:00:00\", \"2020-02-14T00:00:00\", \"2020-02-19T00:00:00\", \"2020-02-20T00:00:00\", \"2020-02-21T00:00:00\", \"2020-02-24T00:00:00\", \"2020-02-25T00:00:00\", \"2020-02-26T00:00:00\", \"2020-02-27T00:00:00\", \"2020-02-28T00:00:00\", \"2020-03-02T00:00:00\", \"2020-03-03T00:00:00\", \"2020-03-04T00:00:00\", \"2020-03-05T00:00:00\", \"2020-03-06T00:00:00\", \"2020-03-09T00:00:00\", \"2020-03-10T00:00:00\", \"2020-03-11T00:00:00\", \"2020-03-12T00:00:00\", \"2020-03-13T00:00:00\", \"2020-03-16T00:00:00\", \"2020-03-17T00:00:00\", \"2020-03-18T00:00:00\", \"2020-03-19T00:00:00\", \"2020-03-20T00:00:00\", \"2020-03-23T00:00:00\", \"2020-03-24T00:00:00\", \"2020-03-25T00:00:00\", \"2020-03-26T00:00:00\", \"2020-03-27T00:00:00\", \"2020-03-30T00:00:00\", \"2020-03-31T00:00:00\", \"2020-04-01T00:00:00\", \"2020-04-02T00:00:00\", \"2020-04-03T00:00:00\", \"2020-04-06T00:00:00\", \"2020-04-07T00:00:00\", \"2020-04-08T00:00:00\", \"2020-04-09T00:00:00\", \"2020-04-14T00:00:00\", \"2020-04-15T00:00:00\", \"2020-04-16T00:00:00\", \"2020-04-17T00:00:00\", \"2020-04-20T00:00:00\", \"2020-04-21T00:00:00\", \"2020-04-22T00:00:00\", \"2020-04-23T00:00:00\", \"2020-04-24T00:00:00\", \"2020-04-27T00:00:00\", \"2020-04-28T00:00:00\", \"2020-04-29T00:00:00\", \"2020-04-30T00:00:00\", \"2020-05-01T00:00:00\", \"2020-05-04T00:00:00\", \"2020-05-05T00:00:00\", \"2020-05-06T00:00:00\", \"2020-05-07T00:00:00\", \"2020-05-08T00:00:00\", \"2020-05-11T00:00:00\", \"2020-05-12T00:00:00\", \"2020-05-13T00:00:00\", \"2020-05-14T00:00:00\", \"2020-05-15T00:00:00\", \"2020-05-18T00:00:00\", \"2020-05-19T00:00:00\", \"2020-05-20T00:00:00\", \"2020-05-21T00:00:00\", \"2020-05-22T00:00:00\", \"2020-05-27T00:00:00\", \"2020-05-28T00:00:00\", \"2020-05-29T00:00:00\", \"2020-06-01T00:00:00\", \"2020-06-02T00:00:00\", \"2020-06-03T00:00:00\", \"2020-06-04T00:00:00\", \"2020-06-05T00:00:00\", \"2020-06-08T00:00:00\", \"2020-06-09T00:00:00\", \"2020-06-10T00:00:00\", \"2020-06-11T00:00:00\", \"2020-06-12T00:00:00\", \"2020-06-15T00:00:00\", \"2020-06-16T00:00:00\", \"2020-06-17T00:00:00\", \"2020-06-18T00:00:00\", \"2020-06-19T00:00:00\", \"2020-06-22T00:00:00\", \"2020-06-23T00:00:00\", \"2020-06-24T00:00:00\", \"2020-06-25T00:00:00\", \"2020-06-26T00:00:00\", \"2020-06-29T00:00:00\", \"2020-06-30T00:00:00\", \"2020-07-01T00:00:00\", \"2020-07-02T00:00:00\", \"2020-07-07T00:00:00\", \"2020-07-08T00:00:00\", \"2020-07-09T00:00:00\", \"2020-07-10T00:00:00\", \"2020-07-13T00:00:00\", \"2020-07-14T00:00:00\", \"2020-07-15T00:00:00\", \"2020-07-16T00:00:00\", \"2020-07-17T00:00:00\", \"2020-07-20T00:00:00\", \"2020-07-21T00:00:00\", \"2020-07-22T00:00:00\", \"2020-07-23T00:00:00\", \"2020-07-24T00:00:00\", \"2020-07-27T00:00:00\", \"2020-07-28T00:00:00\", \"2020-07-29T00:00:00\", \"2020-07-30T00:00:00\", \"2020-07-31T00:00:00\", \"2020-08-03T00:00:00\", \"2020-08-04T00:00:00\", \"2020-08-05T00:00:00\", \"2020-08-06T00:00:00\", \"2020-08-07T00:00:00\", \"2020-08-10T00:00:00\", \"2020-08-11T00:00:00\", \"2020-08-12T00:00:00\", \"2020-08-13T00:00:00\", \"2020-08-14T00:00:00\", \"2020-08-17T00:00:00\", \"2020-08-18T00:00:00\", \"2020-08-19T00:00:00\", \"2020-08-20T00:00:00\", \"2020-08-21T00:00:00\", \"2020-08-24T00:00:00\", \"2020-08-25T00:00:00\", \"2020-08-26T00:00:00\", \"2020-08-27T00:00:00\", \"2020-08-28T00:00:00\", \"2020-08-31T00:00:00\", \"2020-09-01T00:00:00\", \"2020-09-02T00:00:00\", \"2020-09-03T00:00:00\", \"2020-09-04T00:00:00\", \"2020-09-09T00:00:00\", \"2020-09-10T00:00:00\", \"2020-09-11T00:00:00\", \"2020-09-14T00:00:00\", \"2020-09-15T00:00:00\", \"2020-09-16T00:00:00\", \"2020-09-17T00:00:00\", \"2020-09-18T00:00:00\", \"2020-09-21T00:00:00\", \"2020-09-22T00:00:00\", \"2020-09-23T00:00:00\", \"2020-09-24T00:00:00\", \"2020-09-25T00:00:00\", \"2020-09-28T00:00:00\", \"2020-09-29T00:00:00\", \"2020-09-30T00:00:00\", \"2020-10-01T00:00:00\", \"2020-10-02T00:00:00\", \"2020-10-05T00:00:00\", \"2020-10-06T00:00:00\", \"2020-10-07T00:00:00\", \"2020-10-08T00:00:00\", \"2020-10-09T00:00:00\", \"2020-10-12T00:00:00\", \"2020-10-13T00:00:00\", \"2020-10-14T00:00:00\", \"2020-10-15T00:00:00\", \"2020-10-16T00:00:00\", \"2020-10-19T00:00:00\", \"2020-10-20T00:00:00\", \"2020-10-21T00:00:00\", \"2020-10-22T00:00:00\", \"2020-10-23T00:00:00\", \"2020-10-26T00:00:00\", \"2020-10-27T00:00:00\", \"2020-10-28T00:00:00\", \"2020-10-29T00:00:00\", \"2020-10-30T00:00:00\", \"2020-11-02T00:00:00\", \"2020-11-03T00:00:00\", \"2020-11-04T00:00:00\", \"2020-11-05T00:00:00\", \"2020-11-06T00:00:00\", \"2020-11-09T00:00:00\", \"2020-11-10T00:00:00\", \"2020-11-11T00:00:00\", \"2020-11-12T00:00:00\", \"2020-11-13T00:00:00\", \"2020-11-16T00:00:00\", \"2020-11-17T00:00:00\", \"2020-11-18T00:00:00\", \"2020-11-19T00:00:00\", \"2020-11-20T00:00:00\", \"2020-11-23T00:00:00\", \"2020-11-24T00:00:00\", \"2020-11-25T00:00:00\", \"2020-11-30T00:00:00\", \"2020-12-01T00:00:00\", \"2020-12-02T00:00:00\", \"2020-12-03T00:00:00\", \"2020-12-04T00:00:00\", \"2020-12-07T00:00:00\", \"2020-12-08T00:00:00\", \"2020-12-09T00:00:00\", \"2020-12-10T00:00:00\", \"2020-12-11T00:00:00\", \"2020-12-14T00:00:00\", \"2020-12-15T00:00:00\", \"2020-12-16T00:00:00\", \"2020-12-17T00:00:00\", \"2020-12-18T00:00:00\", \"2020-12-21T00:00:00\", \"2020-12-22T00:00:00\", \"2020-12-23T00:00:00\", \"2020-12-24T00:00:00\", \"2020-12-29T00:00:00\", \"2020-12-30T00:00:00\", \"2020-12-31T00:00:00\"], \"xaxis\": \"x\", \"y\": [129.64, 129.8952, 129.38, 129.76, 130.3168, 129.87, 130.305, 130.48, 130.63, 131.57, 131.78, 131.31, 131.31, 130.06, 128.24, 129.05, 128.47, 128.96, 126.65, 127.08, 128.6, 130.92, 130.97, 130.22, 130.58, 131.16, 131.8, 131.55, 131.45, 131.33, 131.22, 130.63, 126.62, 122.61, 121.48, 116.34, 114.63, 119.78, 116.45, 121.32, 117.32, 115.22, 105.86, 110.57, 105.01, 94.5, 102.955, 91.38, 97.17, 91.03, 90.68, 86.41, 82.69, 91.0, 92.13, 98.01, 95.27, 98.02, 96.24, 91.96, 94.19, 92.74, 98.52, 98.91, 102.91, 105.17, 105.4, 102.43, 102.315, 106.05, 103.86, 101.05, 102.67, 102.695, 104.01, 106.18, 106.64, 108.72, 106.45, 103.56, 103.51, 103.98, 102.39, 103.38, 105.63, 104.93, 102.77, 100.42, 101.93, 101.93, 106.06, 104.31, 105.89, 105.22, 105.25, 110.38, 109.91, 109.95, 110.32, 111.39, 113.52, 114.03, 117.44, 119.69, 117.4, 114.97, 107.5, 109.19, 109.45, 111.49, 110.27, 110.25, 109.36, 109.25, 109.45, 106.4, 107.52, 105.23, 107.01, 108.2, 108.17, 108.71, 108.29, 108.49, 106.78, 108.69, 108.84, 110.53, 112.01, 112.02, 112.36, 111.49, 112.78, 113.46, 113.39, 112.58, 112.62, 112.51, 113.76, 112.55, 112.25, 112.56, 113.17, 113.82, 113.8, 115.14, 116.24, 115.94, 116.75, 115.89, 116.13, 115.9, 115.47, 115.0, 114.37, 114.36, 115.92, 115.78, 115.47, 116.31, 117.09, 116.2, 116.19, 118.19, 116.0, 115.98, 115.18, 113.42, 114.03, 115.52, 115.31, 116.1, 115.56, 114.61, 112.09, 112.19, 109.26, 109.41, 110.69, 112.39, 111.53, 112.52, 112.59, 112.83, 114.61, 113.48, 115.3, 116.76, 116.98, 117.83, 116.66, 115.96, 116.32, 116.72, 115.13, 115.53, 115.15, 116.64, 116.9, 114.67, 113.19, 109.92, 110.43, 110.49, 112.53, 114.59, 114.85, 116.56, 116.21, 120.85, 122.55, 122.13, 120.61, 122.9, 125.03, 124.41, 122.85, 123.0, 122.43, 124.07, 126.68, 125.92, 124.61, 125.62, 126.46, 126.75, 128.19, 127.44, 127.97, 127.95, 127.62, 127.17, 125.05, 126.77, 126.38, 127.1, 126.45, 125.83, 124.87, 125.79, 126.12, 126.44, 127.0, 128.02], \"yaxis\": \"y\"}, {\"name\": \"FFD\", \"type\": \"scatter\", \"x\": [\"2020-04-09T00:00:00\", \"2020-04-14T00:00:00\", \"2020-04-15T00:00:00\", \"2020-04-16T00:00:00\", \"2020-04-17T00:00:00\", \"2020-04-20T00:00:00\", \"2020-04-21T00:00:00\", \"2020-04-22T00:00:00\", \"2020-04-23T00:00:00\", \"2020-04-24T00:00:00\", \"2020-04-27T00:00:00\", \"2020-04-28T00:00:00\", \"2020-04-29T00:00:00\", \"2020-04-30T00:00:00\", \"2020-05-01T00:00:00\", \"2020-05-04T00:00:00\", \"2020-05-05T00:00:00\", \"2020-05-06T00:00:00\", \"2020-05-07T00:00:00\", \"2020-05-08T00:00:00\", \"2020-05-11T00:00:00\", \"2020-05-12T00:00:00\", \"2020-05-13T00:00:00\", \"2020-05-14T00:00:00\", \"2020-05-15T00:00:00\", \"2020-05-18T00:00:00\", \"2020-05-19T00:00:00\", \"2020-05-20T00:00:00\", \"2020-05-21T00:00:00\", \"2020-05-22T00:00:00\", \"2020-05-27T00:00:00\", \"2020-05-28T00:00:00\", \"2020-05-29T00:00:00\", \"2020-06-01T00:00:00\", \"2020-06-02T00:00:00\", \"2020-06-03T00:00:00\", \"2020-06-04T00:00:00\", \"2020-06-05T00:00:00\", \"2020-06-08T00:00:00\", \"2020-06-09T00:00:00\", \"2020-06-10T00:00:00\", \"2020-06-11T00:00:00\", \"2020-06-12T00:00:00\", \"2020-06-15T00:00:00\", \"2020-06-16T00:00:00\", \"2020-06-17T00:00:00\", \"2020-06-18T00:00:00\", \"2020-06-19T00:00:00\", \"2020-06-22T00:00:00\", \"2020-06-23T00:00:00\", \"2020-06-24T00:00:00\", \"2020-06-25T00:00:00\", \"2020-06-26T00:00:00\", \"2020-06-29T00:00:00\", \"2020-06-30T00:00:00\", \"2020-07-01T00:00:00\", \"2020-07-02T00:00:00\", \"2020-07-07T00:00:00\", \"2020-07-08T00:00:00\", \"2020-07-09T00:00:00\", \"2020-07-10T00:00:00\", \"2020-07-13T00:00:00\", \"2020-07-14T00:00:00\", \"2020-07-15T00:00:00\", \"2020-07-16T00:00:00\", \"2020-07-17T00:00:00\", \"2020-07-20T00:00:00\", \"2020-07-21T00:00:00\", \"2020-07-22T00:00:00\", \"2020-07-23T00:00:00\", \"2020-07-24T00:00:00\", \"2020-07-27T00:00:00\", \"2020-07-28T00:00:00\", \"2020-07-29T00:00:00\", \"2020-07-30T00:00:00\", \"2020-07-31T00:00:00\", \"2020-08-03T00:00:00\", \"2020-08-04T00:00:00\", \"2020-08-05T00:00:00\", \"2020-08-06T00:00:00\", \"2020-08-07T00:00:00\", \"2020-08-10T00:00:00\", \"2020-08-11T00:00:00\", \"2020-08-12T00:00:00\", \"2020-08-13T00:00:00\", \"2020-08-14T00:00:00\", \"2020-08-17T00:00:00\", \"2020-08-18T00:00:00\", \"2020-08-19T00:00:00\", \"2020-08-20T00:00:00\", \"2020-08-21T00:00:00\", \"2020-08-24T00:00:00\", \"2020-08-25T00:00:00\", \"2020-08-26T00:00:00\", \"2020-08-27T00:00:00\", \"2020-08-28T00:00:00\", \"2020-08-31T00:00:00\", \"2020-09-01T00:00:00\", \"2020-09-02T00:00:00\", \"2020-09-03T00:00:00\", \"2020-09-04T00:00:00\", \"2020-09-09T00:00:00\", \"2020-09-10T00:00:00\", \"2020-09-11T00:00:00\", \"2020-09-14T00:00:00\", \"2020-09-15T00:00:00\", \"2020-09-16T00:00:00\", \"2020-09-17T00:00:00\", \"2020-09-18T00:00:00\", \"2020-09-21T00:00:00\", \"2020-09-22T00:00:00\", \"2020-09-23T00:00:00\", \"2020-09-24T00:00:00\", \"2020-09-25T00:00:00\", \"2020-09-28T00:00:00\", \"2020-09-29T00:00:00\", \"2020-09-30T00:00:00\", \"2020-10-01T00:00:00\", \"2020-10-02T00:00:00\", \"2020-10-05T00:00:00\", \"2020-10-06T00:00:00\", \"2020-10-07T00:00:00\", \"2020-10-08T00:00:00\", \"2020-10-09T00:00:00\", \"2020-10-12T00:00:00\", \"2020-10-13T00:00:00\", \"2020-10-14T00:00:00\", \"2020-10-15T00:00:00\", \"2020-10-16T00:00:00\", \"2020-10-19T00:00:00\", \"2020-10-20T00:00:00\", \"2020-10-21T00:00:00\", \"2020-10-22T00:00:00\", \"2020-10-23T00:00:00\", \"2020-10-26T00:00:00\", \"2020-10-27T00:00:00\", \"2020-10-28T00:00:00\", \"2020-10-29T00:00:00\", \"2020-10-30T00:00:00\", \"2020-11-02T00:00:00\", \"2020-11-03T00:00:00\", \"2020-11-04T00:00:00\", \"2020-11-05T00:00:00\", \"2020-11-06T00:00:00\", \"2020-11-09T00:00:00\", \"2020-11-10T00:00:00\", \"2020-11-11T00:00:00\", \"2020-11-12T00:00:00\", \"2020-11-13T00:00:00\", \"2020-11-16T00:00:00\", \"2020-11-17T00:00:00\", \"2020-11-18T00:00:00\", \"2020-11-19T00:00:00\", \"2020-11-20T00:00:00\", \"2020-11-23T00:00:00\", \"2020-11-24T00:00:00\", \"2020-11-25T00:00:00\", \"2020-11-30T00:00:00\", \"2020-12-01T00:00:00\", \"2020-12-02T00:00:00\", \"2020-12-03T00:00:00\", \"2020-12-04T00:00:00\", \"2020-12-07T00:00:00\", \"2020-12-08T00:00:00\", \"2020-12-09T00:00:00\", \"2020-12-10T00:00:00\", \"2020-12-11T00:00:00\", \"2020-12-14T00:00:00\", \"2020-12-15T00:00:00\", \"2020-12-16T00:00:00\", \"2020-12-17T00:00:00\", \"2020-12-18T00:00:00\", \"2020-12-21T00:00:00\", \"2020-12-22T00:00:00\", \"2020-12-23T00:00:00\", \"2020-12-24T00:00:00\", \"2020-12-29T00:00:00\", \"2020-12-30T00:00:00\", \"2020-12-31T00:00:00\"], \"xaxis\": \"x\", \"y\": [25.78635483017723, 24.827002454083456, 21.274337439235907, 21.721812465512386, 25.58902576851287, 22.319123223956197, 19.79333228136845, 22.279353379572285, 22.109448908129153, 23.408575273586123, 25.196523895867898, 24.887082334931776, 26.54504323429296, 23.444508725624445, 20.8870479923811, 21.727595839482433, 22.502438971889205, 20.929132493895082, 22.448519772211284, 24.612096288591573, 23.265251335779695, 21.118254708727235, 19.396673342254047, 21.828298883415997, 21.747340664827775, 25.947738569889438, 23.0340097876835, 24.77454320801054, 23.630603632932292, 23.69015986707433, 28.786473784865393, 26.754140087833463, 26.380953826485523, 26.46985336223439, 27.234158016916368, 28.858496189494545, 28.47598064733988, 31.33190404869319, 32.24688429408434, 28.69843880515691, 26.345773315475128, 19.43211411477421, 23.441187891024356, 23.954849071564, 26.136553765173502, 24.4145433154857, 24.61030083865684, 23.78113464720903, 23.95096235779326, 24.281738556591137, 21.226602815419625, 23.26818251678155, 20.959374867288005, 23.4785275106061, 24.423763784408706, 24.02303368108703, 24.46590698993174, 23.835219082373513, 24.078324258538387, 22.30124548788895, 24.687725030525925, 24.419092006422503, 25.942991311746567, 26.841301616571897, 26.18298293861413, 26.234002951963518, 25.08435267564073, 26.473304377290034, 26.73751668012146, 26.28516238338706, 25.308750872745733, 25.46805055502051, 25.331178635900145, 26.57695765083514, 24.964372658821972, 24.865973982571703, 25.29051947615315, 25.83409730460295, 26.274521604698336, 25.97169743837945, 27.188327272431465, 27.801640724338682, 26.965834074862713, 27.615221894343136, 26.37762603004157, 26.68527453458435, 26.337778515863278, 25.89344032338515, 25.5032824600288, 25.00964362188867, 25.215697742105505, 26.849037341772046, 26.271094468703495, 25.853132891135203, 26.711781760003333, 27.216334903025626, 25.981909120563387, 26.0846581277074, 28.079739501152076, 25.26779797951653, 25.670936486303376, 24.96632257521651, 23.47833553366563, 24.714564981722674, 26.26117917790073, 25.67723898206239, 26.427305419155687, 25.616682942356064, 24.7240538067516, 22.482419007584483, 23.4270069075301, 20.775113880832237, 21.969116692075502, 23.6223973722649, 25.177616545180584, 23.844062343614482, 24.96481172744383, 24.777762397771582, 24.919156122787896, 26.584892304242956, 24.87413743845822, 26.819714556071347, 27.730170724567003, 27.30553578519134, 27.812649616870218, 26.18935114642747, 25.613807728202673, 26.151697154134226, 26.47078915401299, 24.72026085744426, 25.52120400195747, 25.13425610200204, 26.746726339067422, 26.603521330796923, 24.162116824580565, 23.248319180554716, 20.588096644998245, 22.31617685511246, 22.703258964881456, 24.959083811452118, 26.568306509434905, 26.11987216627236, 27.513208908906932, 26.50035707664854, 30.97657262661528, 31.160106388649382, 29.653994316089992, 27.73935514627223, 30.190025014070912, 31.570391463409763, 29.98509645034325, 28.16830709622043, 28.556881592128576, 27.920329444720025, 29.654492449460562, 31.754719888398824, 29.999910571230842, 28.50236840403045, 29.719111980311496, 30.24118701863567, 30.124396845573358, 31.273844434542255, 29.914562441455246, 30.38318327448745, 30.087769911035835, 29.598935607084115, 29.12127638149647, 27.063060986382396, 29.389937383648657, 28.661424487784075, 29.396272121908055, 28.505857675166936, 27.97616290702186, 27.19638550800036, 28.446815208012865, 28.608569060365724, 28.783655703741914, 29.180724090247352, 29.951486550110943], \"yaxis\": \"y2\"}],                        {\"template\": {\"data\": {\"bar\": [{\"error_x\": {\"color\": \"#2a3f5f\"}, \"error_y\": {\"color\": \"#2a3f5f\"}, \"marker\": {\"line\": {\"color\": \"#E5ECF6\", \"width\": 0.5}}, \"type\": \"bar\"}], \"barpolar\": [{\"marker\": {\"line\": {\"color\": \"#E5ECF6\", \"width\": 0.5}}, \"type\": \"barpolar\"}], \"carpet\": [{\"aaxis\": {\"endlinecolor\": \"#2a3f5f\", \"gridcolor\": \"white\", \"linecolor\": \"white\", \"minorgridcolor\": \"white\", \"startlinecolor\": \"#2a3f5f\"}, \"baxis\": {\"endlinecolor\": \"#2a3f5f\", \"gridcolor\": \"white\", \"linecolor\": \"white\", \"minorgridcolor\": \"white\", \"startlinecolor\": \"#2a3f5f\"}, \"type\": \"carpet\"}], \"choropleth\": [{\"colorbar\": {\"outlinewidth\": 0, \"ticks\": \"\"}, \"type\": \"choropleth\"}], \"contour\": [{\"colorbar\": {\"outlinewidth\": 0, \"ticks\": \"\"}, \"colorscale\": [[0.0, \"#0d0887\"], [0.1111111111111111, \"#46039f\"], [0.2222222222222222, \"#7201a8\"], [0.3333333333333333, \"#9c179e\"], [0.4444444444444444, \"#bd3786\"], [0.5555555555555556, \"#d8576b\"], [0.6666666666666666, \"#ed7953\"], [0.7777777777777778, \"#fb9f3a\"], [0.8888888888888888, \"#fdca26\"], [1.0, \"#f0f921\"]], \"type\": \"contour\"}], \"contourcarpet\": [{\"colorbar\": {\"outlinewidth\": 0, \"ticks\": \"\"}, \"type\": \"contourcarpet\"}], \"heatmap\": [{\"colorbar\": {\"outlinewidth\": 0, \"ticks\": \"\"}, \"colorscale\": [[0.0, \"#0d0887\"], [0.1111111111111111, \"#46039f\"], [0.2222222222222222, \"#7201a8\"], [0.3333333333333333, \"#9c179e\"], [0.4444444444444444, \"#bd3786\"], [0.5555555555555556, \"#d8576b\"], [0.6666666666666666, \"#ed7953\"], [0.7777777777777778, \"#fb9f3a\"], [0.8888888888888888, \"#fdca26\"], [1.0, \"#f0f921\"]], \"type\": \"heatmap\"}], \"heatmapgl\": [{\"colorbar\": {\"outlinewidth\": 0, \"ticks\": \"\"}, \"colorscale\": [[0.0, \"#0d0887\"], [0.1111111111111111, \"#46039f\"], [0.2222222222222222, \"#7201a8\"], [0.3333333333333333, \"#9c179e\"], [0.4444444444444444, \"#bd3786\"], [0.5555555555555556, \"#d8576b\"], [0.6666666666666666, \"#ed7953\"], [0.7777777777777778, \"#fb9f3a\"], [0.8888888888888888, \"#fdca26\"], [1.0, \"#f0f921\"]], \"type\": \"heatmapgl\"}], \"histogram\": [{\"marker\": {\"colorbar\": {\"outlinewidth\": 0, \"ticks\": \"\"}}, \"type\": \"histogram\"}], \"histogram2d\": [{\"colorbar\": {\"outlinewidth\": 0, \"ticks\": \"\"}, \"colorscale\": [[0.0, \"#0d0887\"], [0.1111111111111111, \"#46039f\"], [0.2222222222222222, \"#7201a8\"], [0.3333333333333333, \"#9c179e\"], [0.4444444444444444, \"#bd3786\"], [0.5555555555555556, \"#d8576b\"], [0.6666666666666666, \"#ed7953\"], [0.7777777777777778, \"#fb9f3a\"], [0.8888888888888888, \"#fdca26\"], [1.0, \"#f0f921\"]], \"type\": \"histogram2d\"}], \"histogram2dcontour\": [{\"colorbar\": {\"outlinewidth\": 0, \"ticks\": \"\"}, \"colorscale\": [[0.0, \"#0d0887\"], [0.1111111111111111, \"#46039f\"], [0.2222222222222222, \"#7201a8\"], [0.3333333333333333, \"#9c179e\"], [0.4444444444444444, \"#bd3786\"], [0.5555555555555556, \"#d8576b\"], [0.6666666666666666, \"#ed7953\"], [0.7777777777777778, \"#fb9f3a\"], [0.8888888888888888, \"#fdca26\"], [1.0, \"#f0f921\"]], \"type\": \"histogram2dcontour\"}], \"mesh3d\": [{\"colorbar\": {\"outlinewidth\": 0, \"ticks\": \"\"}, \"type\": \"mesh3d\"}], \"parcoords\": [{\"line\": {\"colorbar\": {\"outlinewidth\": 0, \"ticks\": \"\"}}, \"type\": \"parcoords\"}], \"pie\": [{\"automargin\": true, \"type\": \"pie\"}], \"scatter\": [{\"marker\": {\"colorbar\": {\"outlinewidth\": 0, \"ticks\": \"\"}}, \"type\": \"scatter\"}], \"scatter3d\": [{\"line\": {\"colorbar\": {\"outlinewidth\": 0, \"ticks\": \"\"}}, \"marker\": {\"colorbar\": {\"outlinewidth\": 0, \"ticks\": \"\"}}, \"type\": \"scatter3d\"}], \"scattercarpet\": [{\"marker\": {\"colorbar\": {\"outlinewidth\": 0, \"ticks\": \"\"}}, \"type\": \"scattercarpet\"}], \"scattergeo\": [{\"marker\": {\"colorbar\": {\"outlinewidth\": 0, \"ticks\": \"\"}}, \"type\": \"scattergeo\"}], \"scattergl\": [{\"marker\": {\"colorbar\": {\"outlinewidth\": 0, \"ticks\": \"\"}}, \"type\": \"scattergl\"}], \"scattermapbox\": [{\"marker\": {\"colorbar\": {\"outlinewidth\": 0, \"ticks\": \"\"}}, \"type\": \"scattermapbox\"}], \"scatterpolar\": [{\"marker\": {\"colorbar\": {\"outlinewidth\": 0, \"ticks\": \"\"}}, \"type\": \"scatterpolar\"}], \"scatterpolargl\": [{\"marker\": {\"colorbar\": {\"outlinewidth\": 0, \"ticks\": \"\"}}, \"type\": \"scatterpolargl\"}], \"scatterternary\": [{\"marker\": {\"colorbar\": {\"outlinewidth\": 0, \"ticks\": \"\"}}, \"type\": \"scatterternary\"}], \"surface\": [{\"colorbar\": {\"outlinewidth\": 0, \"ticks\": \"\"}, \"colorscale\": [[0.0, \"#0d0887\"], [0.1111111111111111, \"#46039f\"], [0.2222222222222222, \"#7201a8\"], [0.3333333333333333, \"#9c179e\"], [0.4444444444444444, \"#bd3786\"], [0.5555555555555556, \"#d8576b\"], [0.6666666666666666, \"#ed7953\"], [0.7777777777777778, \"#fb9f3a\"], [0.8888888888888888, \"#fdca26\"], [1.0, \"#f0f921\"]], \"type\": \"surface\"}], \"table\": [{\"cells\": {\"fill\": {\"color\": \"#EBF0F8\"}, \"line\": {\"color\": \"white\"}}, \"header\": {\"fill\": {\"color\": \"#C8D4E3\"}, \"line\": {\"color\": \"white\"}}, \"type\": \"table\"}]}, \"layout\": {\"annotationdefaults\": {\"arrowcolor\": \"#2a3f5f\", \"arrowhead\": 0, \"arrowwidth\": 1}, \"autotypenumbers\": \"strict\", \"coloraxis\": {\"colorbar\": {\"outlinewidth\": 0, \"ticks\": \"\"}}, \"colorscale\": {\"diverging\": [[0, \"#8e0152\"], [0.1, \"#c51b7d\"], [0.2, \"#de77ae\"], [0.3, \"#f1b6da\"], [0.4, \"#fde0ef\"], [0.5, \"#f7f7f7\"], [0.6, \"#e6f5d0\"], [0.7, \"#b8e186\"], [0.8, \"#7fbc41\"], [0.9, \"#4d9221\"], [1, \"#276419\"]], \"sequential\": [[0.0, \"#0d0887\"], [0.1111111111111111, \"#46039f\"], [0.2222222222222222, \"#7201a8\"], [0.3333333333333333, \"#9c179e\"], [0.4444444444444444, \"#bd3786\"], [0.5555555555555556, \"#d8576b\"], [0.6666666666666666, \"#ed7953\"], [0.7777777777777778, \"#fb9f3a\"], [0.8888888888888888, \"#fdca26\"], [1.0, \"#f0f921\"]], \"sequentialminus\": [[0.0, \"#0d0887\"], [0.1111111111111111, \"#46039f\"], [0.2222222222222222, \"#7201a8\"], [0.3333333333333333, \"#9c179e\"], [0.4444444444444444, \"#bd3786\"], [0.5555555555555556, \"#d8576b\"], [0.6666666666666666, \"#ed7953\"], [0.7777777777777778, \"#fb9f3a\"], [0.8888888888888888, \"#fdca26\"], [1.0, \"#f0f921\"]]}, \"colorway\": [\"#636efa\", \"#EF553B\", \"#00cc96\", \"#ab63fa\", \"#FFA15A\", \"#19d3f3\", \"#FF6692\", \"#B6E880\", \"#FF97FF\", \"#FECB52\"], \"font\": {\"color\": \"#2a3f5f\"}, \"geo\": {\"bgcolor\": \"white\", \"lakecolor\": \"white\", \"landcolor\": \"#E5ECF6\", \"showlakes\": true, \"showland\": true, \"subunitcolor\": \"white\"}, \"hoverlabel\": {\"align\": \"left\"}, \"hovermode\": \"closest\", \"mapbox\": {\"style\": \"light\"}, \"paper_bgcolor\": \"white\", \"plot_bgcolor\": \"#E5ECF6\", \"polar\": {\"angularaxis\": {\"gridcolor\": \"white\", \"linecolor\": \"white\", \"ticks\": \"\"}, \"bgcolor\": \"#E5ECF6\", \"radialaxis\": {\"gridcolor\": \"white\", \"linecolor\": \"white\", \"ticks\": \"\"}}, \"scene\": {\"xaxis\": {\"backgroundcolor\": \"#E5ECF6\", \"gridcolor\": \"white\", \"gridwidth\": 2, \"linecolor\": \"white\", \"showbackground\": true, \"ticks\": \"\", \"zerolinecolor\": \"white\"}, \"yaxis\": {\"backgroundcolor\": \"#E5ECF6\", \"gridcolor\": \"white\", \"gridwidth\": 2, \"linecolor\": \"white\", \"showbackground\": true, \"ticks\": \"\", \"zerolinecolor\": \"white\"}, \"zaxis\": {\"backgroundcolor\": \"#E5ECF6\", \"gridcolor\": \"white\", \"gridwidth\": 2, \"linecolor\": \"white\", \"showbackground\": true, \"ticks\": \"\", \"zerolinecolor\": \"white\"}}, \"shapedefaults\": {\"line\": {\"color\": \"#2a3f5f\"}}, \"ternary\": {\"aaxis\": {\"gridcolor\": \"white\", \"linecolor\": \"white\", \"ticks\": \"\"}, \"baxis\": {\"gridcolor\": \"white\", \"linecolor\": \"white\", \"ticks\": \"\"}, \"bgcolor\": \"#E5ECF6\", \"caxis\": {\"gridcolor\": \"white\", \"linecolor\": \"white\", \"ticks\": \"\"}}, \"title\": {\"x\": 0.05}, \"xaxis\": {\"automargin\": true, \"gridcolor\": \"white\", \"linecolor\": \"white\", \"ticks\": \"\", \"title\": {\"standoff\": 15}, \"zerolinecolor\": \"white\", \"zerolinewidth\": 2}, \"yaxis\": {\"automargin\": true, \"gridcolor\": \"white\", \"linecolor\": \"white\", \"ticks\": \"\", \"title\": {\"standoff\": 15}, \"zerolinecolor\": \"white\", \"zerolinewidth\": 2}}}, \"xaxis\": {\"anchor\": \"y\", \"domain\": [0.0, 0.94]}, \"yaxis\": {\"anchor\": \"x\", \"domain\": [0.0, 1.0], \"title\": {\"text\": \"Price\"}}, \"yaxis2\": {\"anchor\": \"x\", \"overlaying\": \"y\", \"side\": \"right\", \"title\": {\"text\": \"Diff Ret\"}}},                        {\"responsive\": true}                    ).then(function(){\n",
              "                            \n",
              "var gd = document.getElementById('bb06edec-f2ac-41fc-9d57-9cba4766a396');\n",
              "var x = new MutationObserver(function (mutations, observer) {{\n",
              "        var display = window.getComputedStyle(gd).display;\n",
              "        if (!display || display === 'none') {{\n",
              "            console.log([gd, 'removed!']);\n",
              "            Plotly.purge(gd);\n",
              "            observer.disconnect();\n",
              "        }}\n",
              "}});\n",
              "\n",
              "// Listen for the removal of the full notebook cells\n",
              "var notebookContainer = gd.closest('#notebook-container');\n",
              "if (notebookContainer) {{\n",
              "    x.observe(notebookContainer, {childList: true});\n",
              "}}\n",
              "\n",
              "// Listen for the clearing of the current output cell\n",
              "var outputEl = gd.closest('.output');\n",
              "if (outputEl) {{\n",
              "    x.observe(outputEl, {childList: true});\n",
              "}}\n",
              "\n",
              "                        })                };                            </script>        </div>\n",
              "</body>\n",
              "</html>"
            ]
          },
          "metadata": {
            "tags": []
          }
        }
      ]
    },
    {
      "cell_type": "markdown",
      "metadata": {
        "id": "3Uc8M7Wmg9sY"
      },
      "source": [
        "SNIPPET 5.4 FINDING THE MINIMUM D VALUE THAT PASSES THE ADF TEST"
      ]
    },
    {
      "cell_type": "code",
      "metadata": {
        "id": "s9enMmOTg-yY"
      },
      "source": [
        "def plotMinFFD(df0):\n",
        "    #path = './'\n",
        "    #instName ='ES1_Index_Method12'\n",
        "    out = pd.DataFrame(columns= ['adfStat', 'pVal', 'lags', 'nObs', '95% conf', 'corr'])\n",
        "    #df0 = pd.read_csv(path + instName +'.csv',index_col = 0, parse_dates = True)\n",
        "    for d in np.linspace(0, 1, 11):\n",
        "        df1 = np.log(df0[['close']]).resample('1D').last() # downcast to daily obs\n",
        "        df2 = fracDiff_FFD(df1, d, thres = .01)\n",
        "        corr = np.corrcoef(df1.loc[df2.index, 'close'], df2['close'])[0, 1]\n",
        "        df2 = adfuller(df2['close'], maxlag = 1, regression = 'c', autolag = None)\n",
        "        out.loc[d] = list(df2[ : 4]) + [df2[4]['5%']] + [corr] # with critical value\n",
        "    #out.to_csv(path + instName + '_testMinFFD.csv')\n",
        "    #out[['adfStat', 'corr']].plot(secondary_y = 'adfStat')\n",
        "    #plt.axhline(out['95% conf'].mean(), linewidth = 1, color = 'r', linestyle = 'dotted')\n",
        "    #plt.savefig(path + instName + '_testMinFFD.png')\n",
        "    return out"
      ],
      "execution_count": 16,
      "outputs": []
    },
    {
      "cell_type": "code",
      "metadata": {
        "colab": {
          "base_uri": "https://localhost:8080/",
          "height": 196
        },
        "id": "6MjI7F9uxgak",
        "outputId": "3be15084-97ee-4a8f-9f95-aa3d977902e2"
      },
      "source": [
        "out = plotMinFFD(ohlcv)\n",
        "out.head()"
      ],
      "execution_count": 17,
      "outputs": [
        {
          "output_type": "execute_result",
          "data": {
            "text/html": [
              "<div>\n",
              "<style scoped>\n",
              "    .dataframe tbody tr th:only-of-type {\n",
              "        vertical-align: middle;\n",
              "    }\n",
              "\n",
              "    .dataframe tbody tr th {\n",
              "        vertical-align: top;\n",
              "    }\n",
              "\n",
              "    .dataframe thead th {\n",
              "        text-align: right;\n",
              "    }\n",
              "</style>\n",
              "<table border=\"1\" class=\"dataframe\">\n",
              "  <thead>\n",
              "    <tr style=\"text-align: right;\">\n",
              "      <th></th>\n",
              "      <th>adfStat</th>\n",
              "      <th>pVal</th>\n",
              "      <th>lags</th>\n",
              "      <th>nObs</th>\n",
              "      <th>95% conf</th>\n",
              "      <th>corr</th>\n",
              "    </tr>\n",
              "  </thead>\n",
              "  <tbody>\n",
              "    <tr>\n",
              "      <th>0.0</th>\n",
              "      <td>-1.569758</td>\n",
              "      <td>0.498765</td>\n",
              "      <td>1.0</td>\n",
              "      <td>242.0</td>\n",
              "      <td>-2.873559</td>\n",
              "      <td>1.000000</td>\n",
              "    </tr>\n",
              "    <tr>\n",
              "      <th>0.1</th>\n",
              "      <td>-1.859458</td>\n",
              "      <td>0.351367</td>\n",
              "      <td>1.0</td>\n",
              "      <td>237.0</td>\n",
              "      <td>-2.873814</td>\n",
              "      <td>0.996445</td>\n",
              "    </tr>\n",
              "    <tr>\n",
              "      <th>0.2</th>\n",
              "      <td>-2.364270</td>\n",
              "      <td>0.152076</td>\n",
              "      <td>1.0</td>\n",
              "      <td>236.0</td>\n",
              "      <td>-2.873866</td>\n",
              "      <td>0.974398</td>\n",
              "    </tr>\n",
              "    <tr>\n",
              "      <th>0.3</th>\n",
              "      <td>-3.046800</td>\n",
              "      <td>0.030749</td>\n",
              "      <td>1.0</td>\n",
              "      <td>235.0</td>\n",
              "      <td>-2.873919</td>\n",
              "      <td>0.920690</td>\n",
              "    </tr>\n",
              "    <tr>\n",
              "      <th>0.4</th>\n",
              "      <td>-3.846095</td>\n",
              "      <td>0.002469</td>\n",
              "      <td>1.0</td>\n",
              "      <td>236.0</td>\n",
              "      <td>-2.873866</td>\n",
              "      <td>0.840757</td>\n",
              "    </tr>\n",
              "  </tbody>\n",
              "</table>\n",
              "</div>"
            ],
            "text/plain": [
              "      adfStat      pVal  lags   nObs  95% conf      corr\n",
              "0.0 -1.569758  0.498765   1.0  242.0 -2.873559  1.000000\n",
              "0.1 -1.859458  0.351367   1.0  237.0 -2.873814  0.996445\n",
              "0.2 -2.364270  0.152076   1.0  236.0 -2.873866  0.974398\n",
              "0.3 -3.046800  0.030749   1.0  235.0 -2.873919  0.920690\n",
              "0.4 -3.846095  0.002469   1.0  236.0 -2.873866  0.840757"
            ]
          },
          "metadata": {
            "tags": []
          },
          "execution_count": 17
        }
      ]
    },
    {
      "cell_type": "code",
      "metadata": {
        "colab": {
          "base_uri": "https://localhost:8080/",
          "height": 542
        },
        "id": "Bsc5zjCFzPrz",
        "outputId": "67193ad5-673f-405d-ca60-e1f73b37c36b"
      },
      "source": [
        "fig = make_subplots(specs=[[{\"secondary_y\": True}]])\n",
        "fig.add_trace(go.Scatter(x=out.index, y=out['corr'], name=\"corr\"), secondary_y=False)\n",
        "fig.add_trace(go.Scatter(x=out.index, y=out['adfStat'], name=\"adfStat\"), secondary_y=True)\n",
        "fig.add_hline(y=out['95% conf'].mean(), line_width=3, line_dash=\"dash\", line_color=\"green\", secondary_y=True)\n",
        "fig.update_yaxes(title_text=\"corr\", secondary_y=False)\n",
        "fig.update_yaxes(title_text=\"adfStat\", secondary_y=True)\n",
        "fig.show()"
      ],
      "execution_count": 18,
      "outputs": [
        {
          "output_type": "display_data",
          "data": {
            "text/html": [
              "<html>\n",
              "<head><meta charset=\"utf-8\" /></head>\n",
              "<body>\n",
              "    <div>            <script src=\"https://cdnjs.cloudflare.com/ajax/libs/mathjax/2.7.5/MathJax.js?config=TeX-AMS-MML_SVG\"></script><script type=\"text/javascript\">if (window.MathJax) {MathJax.Hub.Config({SVG: {font: \"STIX-Web\"}});}</script>                <script type=\"text/javascript\">window.PlotlyConfig = {MathJaxConfig: 'local'};</script>\n",
              "        <script src=\"https://cdn.plot.ly/plotly-latest.min.js\"></script>                <div id=\"227fa2d3-3cb4-4e77-a611-3861aa640841\" class=\"plotly-graph-div\" style=\"height:525px; width:100%;\"></div>            <script type=\"text/javascript\">                                    window.PLOTLYENV=window.PLOTLYENV || {};                                    if (document.getElementById(\"227fa2d3-3cb4-4e77-a611-3861aa640841\")) {                    Plotly.newPlot(                        \"227fa2d3-3cb4-4e77-a611-3861aa640841\",                        [{\"name\": \"corr\", \"type\": \"scatter\", \"x\": [0.0, 0.1, 0.2, 0.30000000000000004, 0.4, 0.5, 0.6000000000000001, 0.7000000000000001, 0.8, 0.9, 1.0], \"xaxis\": \"x\", \"y\": [1.0, 0.9964453165617332, 0.9743979826007568, 0.9206895490911374, 0.8407572263051221, 0.7300357445354879, 0.5994384070474758, 0.49616883901553593, 0.3698790934559146, 0.28080144080317465, 0.1216938843885887], \"yaxis\": \"y\"}, {\"name\": \"adfStat\", \"type\": \"scatter\", \"x\": [0.0, 0.1, 0.2, 0.30000000000000004, 0.4, 0.5, 0.6000000000000001, 0.7000000000000001, 0.8, 0.9, 1.0], \"xaxis\": \"x\", \"y\": [-1.569758045864032, -1.8594581847217706, -2.364269715567054, -3.0468003068197214, -3.8460946543537533, -4.796885532227391, -5.840113170911898, -6.831472901285132, -7.968934389839401, -9.034634885507508, -9.932448650650546], \"yaxis\": \"y2\"}],                        {\"shapes\": [{\"line\": {\"color\": \"green\", \"dash\": \"dash\", \"width\": 3}, \"type\": \"line\", \"x0\": 0, \"x1\": 1, \"xref\": \"x domain\", \"y0\": -2.8737677422915002, \"y1\": -2.8737677422915002, \"yref\": \"y2\"}], \"template\": {\"data\": {\"bar\": [{\"error_x\": {\"color\": \"#2a3f5f\"}, \"error_y\": {\"color\": \"#2a3f5f\"}, \"marker\": {\"line\": {\"color\": \"#E5ECF6\", \"width\": 0.5}}, \"type\": \"bar\"}], \"barpolar\": [{\"marker\": {\"line\": {\"color\": \"#E5ECF6\", \"width\": 0.5}}, \"type\": \"barpolar\"}], \"carpet\": [{\"aaxis\": {\"endlinecolor\": \"#2a3f5f\", \"gridcolor\": \"white\", \"linecolor\": \"white\", \"minorgridcolor\": \"white\", \"startlinecolor\": \"#2a3f5f\"}, \"baxis\": {\"endlinecolor\": \"#2a3f5f\", \"gridcolor\": \"white\", \"linecolor\": \"white\", \"minorgridcolor\": \"white\", \"startlinecolor\": \"#2a3f5f\"}, \"type\": \"carpet\"}], \"choropleth\": [{\"colorbar\": {\"outlinewidth\": 0, \"ticks\": \"\"}, \"type\": \"choropleth\"}], \"contour\": [{\"colorbar\": {\"outlinewidth\": 0, \"ticks\": \"\"}, \"colorscale\": [[0.0, \"#0d0887\"], [0.1111111111111111, \"#46039f\"], [0.2222222222222222, \"#7201a8\"], [0.3333333333333333, \"#9c179e\"], [0.4444444444444444, \"#bd3786\"], [0.5555555555555556, \"#d8576b\"], [0.6666666666666666, \"#ed7953\"], [0.7777777777777778, \"#fb9f3a\"], [0.8888888888888888, \"#fdca26\"], [1.0, \"#f0f921\"]], \"type\": \"contour\"}], \"contourcarpet\": [{\"colorbar\": {\"outlinewidth\": 0, \"ticks\": \"\"}, \"type\": \"contourcarpet\"}], \"heatmap\": [{\"colorbar\": {\"outlinewidth\": 0, \"ticks\": \"\"}, \"colorscale\": [[0.0, \"#0d0887\"], [0.1111111111111111, \"#46039f\"], [0.2222222222222222, \"#7201a8\"], [0.3333333333333333, \"#9c179e\"], [0.4444444444444444, \"#bd3786\"], [0.5555555555555556, \"#d8576b\"], [0.6666666666666666, \"#ed7953\"], [0.7777777777777778, \"#fb9f3a\"], [0.8888888888888888, \"#fdca26\"], [1.0, \"#f0f921\"]], \"type\": \"heatmap\"}], \"heatmapgl\": [{\"colorbar\": {\"outlinewidth\": 0, \"ticks\": \"\"}, \"colorscale\": [[0.0, \"#0d0887\"], [0.1111111111111111, \"#46039f\"], [0.2222222222222222, \"#7201a8\"], [0.3333333333333333, \"#9c179e\"], [0.4444444444444444, \"#bd3786\"], [0.5555555555555556, \"#d8576b\"], [0.6666666666666666, \"#ed7953\"], [0.7777777777777778, \"#fb9f3a\"], [0.8888888888888888, \"#fdca26\"], [1.0, \"#f0f921\"]], \"type\": \"heatmapgl\"}], \"histogram\": [{\"marker\": {\"colorbar\": {\"outlinewidth\": 0, \"ticks\": \"\"}}, \"type\": \"histogram\"}], \"histogram2d\": [{\"colorbar\": {\"outlinewidth\": 0, \"ticks\": \"\"}, \"colorscale\": [[0.0, \"#0d0887\"], [0.1111111111111111, \"#46039f\"], [0.2222222222222222, \"#7201a8\"], [0.3333333333333333, \"#9c179e\"], [0.4444444444444444, \"#bd3786\"], [0.5555555555555556, \"#d8576b\"], [0.6666666666666666, \"#ed7953\"], [0.7777777777777778, \"#fb9f3a\"], [0.8888888888888888, \"#fdca26\"], [1.0, \"#f0f921\"]], \"type\": \"histogram2d\"}], \"histogram2dcontour\": [{\"colorbar\": {\"outlinewidth\": 0, \"ticks\": \"\"}, \"colorscale\": [[0.0, \"#0d0887\"], [0.1111111111111111, \"#46039f\"], [0.2222222222222222, \"#7201a8\"], [0.3333333333333333, \"#9c179e\"], [0.4444444444444444, \"#bd3786\"], [0.5555555555555556, \"#d8576b\"], [0.6666666666666666, \"#ed7953\"], [0.7777777777777778, \"#fb9f3a\"], [0.8888888888888888, \"#fdca26\"], [1.0, \"#f0f921\"]], \"type\": \"histogram2dcontour\"}], \"mesh3d\": [{\"colorbar\": {\"outlinewidth\": 0, \"ticks\": \"\"}, \"type\": \"mesh3d\"}], \"parcoords\": [{\"line\": {\"colorbar\": {\"outlinewidth\": 0, \"ticks\": \"\"}}, \"type\": \"parcoords\"}], \"pie\": [{\"automargin\": true, \"type\": \"pie\"}], \"scatter\": [{\"marker\": {\"colorbar\": {\"outlinewidth\": 0, \"ticks\": \"\"}}, \"type\": \"scatter\"}], \"scatter3d\": [{\"line\": {\"colorbar\": {\"outlinewidth\": 0, \"ticks\": \"\"}}, \"marker\": {\"colorbar\": {\"outlinewidth\": 0, \"ticks\": \"\"}}, \"type\": \"scatter3d\"}], \"scattercarpet\": [{\"marker\": {\"colorbar\": {\"outlinewidth\": 0, \"ticks\": \"\"}}, \"type\": \"scattercarpet\"}], \"scattergeo\": [{\"marker\": {\"colorbar\": {\"outlinewidth\": 0, \"ticks\": \"\"}}, \"type\": \"scattergeo\"}], \"scattergl\": [{\"marker\": {\"colorbar\": {\"outlinewidth\": 0, \"ticks\": \"\"}}, \"type\": \"scattergl\"}], \"scattermapbox\": [{\"marker\": {\"colorbar\": {\"outlinewidth\": 0, \"ticks\": \"\"}}, \"type\": \"scattermapbox\"}], \"scatterpolar\": [{\"marker\": {\"colorbar\": {\"outlinewidth\": 0, \"ticks\": \"\"}}, \"type\": \"scatterpolar\"}], \"scatterpolargl\": [{\"marker\": {\"colorbar\": {\"outlinewidth\": 0, \"ticks\": \"\"}}, \"type\": \"scatterpolargl\"}], \"scatterternary\": [{\"marker\": {\"colorbar\": {\"outlinewidth\": 0, \"ticks\": \"\"}}, \"type\": \"scatterternary\"}], \"surface\": [{\"colorbar\": {\"outlinewidth\": 0, \"ticks\": \"\"}, \"colorscale\": [[0.0, \"#0d0887\"], [0.1111111111111111, \"#46039f\"], [0.2222222222222222, \"#7201a8\"], [0.3333333333333333, \"#9c179e\"], [0.4444444444444444, \"#bd3786\"], [0.5555555555555556, \"#d8576b\"], [0.6666666666666666, \"#ed7953\"], [0.7777777777777778, \"#fb9f3a\"], [0.8888888888888888, \"#fdca26\"], [1.0, \"#f0f921\"]], \"type\": \"surface\"}], \"table\": [{\"cells\": {\"fill\": {\"color\": \"#EBF0F8\"}, \"line\": {\"color\": \"white\"}}, \"header\": {\"fill\": {\"color\": \"#C8D4E3\"}, \"line\": {\"color\": \"white\"}}, \"type\": \"table\"}]}, \"layout\": {\"annotationdefaults\": {\"arrowcolor\": \"#2a3f5f\", \"arrowhead\": 0, \"arrowwidth\": 1}, \"autotypenumbers\": \"strict\", \"coloraxis\": {\"colorbar\": {\"outlinewidth\": 0, \"ticks\": \"\"}}, \"colorscale\": {\"diverging\": [[0, \"#8e0152\"], [0.1, \"#c51b7d\"], [0.2, \"#de77ae\"], [0.3, \"#f1b6da\"], [0.4, \"#fde0ef\"], [0.5, \"#f7f7f7\"], [0.6, \"#e6f5d0\"], [0.7, \"#b8e186\"], [0.8, \"#7fbc41\"], [0.9, \"#4d9221\"], [1, \"#276419\"]], \"sequential\": [[0.0, \"#0d0887\"], [0.1111111111111111, \"#46039f\"], [0.2222222222222222, \"#7201a8\"], [0.3333333333333333, \"#9c179e\"], [0.4444444444444444, \"#bd3786\"], [0.5555555555555556, \"#d8576b\"], [0.6666666666666666, \"#ed7953\"], [0.7777777777777778, \"#fb9f3a\"], [0.8888888888888888, \"#fdca26\"], [1.0, \"#f0f921\"]], \"sequentialminus\": [[0.0, \"#0d0887\"], [0.1111111111111111, \"#46039f\"], [0.2222222222222222, \"#7201a8\"], [0.3333333333333333, \"#9c179e\"], [0.4444444444444444, \"#bd3786\"], [0.5555555555555556, \"#d8576b\"], [0.6666666666666666, \"#ed7953\"], [0.7777777777777778, \"#fb9f3a\"], [0.8888888888888888, \"#fdca26\"], [1.0, \"#f0f921\"]]}, \"colorway\": [\"#636efa\", \"#EF553B\", \"#00cc96\", \"#ab63fa\", \"#FFA15A\", \"#19d3f3\", \"#FF6692\", \"#B6E880\", \"#FF97FF\", \"#FECB52\"], \"font\": {\"color\": \"#2a3f5f\"}, \"geo\": {\"bgcolor\": \"white\", \"lakecolor\": \"white\", \"landcolor\": \"#E5ECF6\", \"showlakes\": true, \"showland\": true, \"subunitcolor\": \"white\"}, \"hoverlabel\": {\"align\": \"left\"}, \"hovermode\": \"closest\", \"mapbox\": {\"style\": \"light\"}, \"paper_bgcolor\": \"white\", \"plot_bgcolor\": \"#E5ECF6\", \"polar\": {\"angularaxis\": {\"gridcolor\": \"white\", \"linecolor\": \"white\", \"ticks\": \"\"}, \"bgcolor\": \"#E5ECF6\", \"radialaxis\": {\"gridcolor\": \"white\", \"linecolor\": \"white\", \"ticks\": \"\"}}, \"scene\": {\"xaxis\": {\"backgroundcolor\": \"#E5ECF6\", \"gridcolor\": \"white\", \"gridwidth\": 2, \"linecolor\": \"white\", \"showbackground\": true, \"ticks\": \"\", \"zerolinecolor\": \"white\"}, \"yaxis\": {\"backgroundcolor\": \"#E5ECF6\", \"gridcolor\": \"white\", \"gridwidth\": 2, \"linecolor\": \"white\", \"showbackground\": true, \"ticks\": \"\", \"zerolinecolor\": \"white\"}, \"zaxis\": {\"backgroundcolor\": \"#E5ECF6\", \"gridcolor\": \"white\", \"gridwidth\": 2, \"linecolor\": \"white\", \"showbackground\": true, \"ticks\": \"\", \"zerolinecolor\": \"white\"}}, \"shapedefaults\": {\"line\": {\"color\": \"#2a3f5f\"}}, \"ternary\": {\"aaxis\": {\"gridcolor\": \"white\", \"linecolor\": \"white\", \"ticks\": \"\"}, \"baxis\": {\"gridcolor\": \"white\", \"linecolor\": \"white\", \"ticks\": \"\"}, \"bgcolor\": \"#E5ECF6\", \"caxis\": {\"gridcolor\": \"white\", \"linecolor\": \"white\", \"ticks\": \"\"}}, \"title\": {\"x\": 0.05}, \"xaxis\": {\"automargin\": true, \"gridcolor\": \"white\", \"linecolor\": \"white\", \"ticks\": \"\", \"title\": {\"standoff\": 15}, \"zerolinecolor\": \"white\", \"zerolinewidth\": 2}, \"yaxis\": {\"automargin\": true, \"gridcolor\": \"white\", \"linecolor\": \"white\", \"ticks\": \"\", \"title\": {\"standoff\": 15}, \"zerolinecolor\": \"white\", \"zerolinewidth\": 2}}}, \"xaxis\": {\"anchor\": \"y\", \"domain\": [0.0, 0.94]}, \"yaxis\": {\"anchor\": \"x\", \"domain\": [0.0, 1.0], \"title\": {\"text\": \"corr\"}}, \"yaxis2\": {\"anchor\": \"x\", \"overlaying\": \"y\", \"side\": \"right\", \"title\": {\"text\": \"adfStat\"}}},                        {\"responsive\": true}                    ).then(function(){\n",
              "                            \n",
              "var gd = document.getElementById('227fa2d3-3cb4-4e77-a611-3861aa640841');\n",
              "var x = new MutationObserver(function (mutations, observer) {{\n",
              "        var display = window.getComputedStyle(gd).display;\n",
              "        if (!display || display === 'none') {{\n",
              "            console.log([gd, 'removed!']);\n",
              "            Plotly.purge(gd);\n",
              "            observer.disconnect();\n",
              "        }}\n",
              "}});\n",
              "\n",
              "// Listen for the removal of the full notebook cells\n",
              "var notebookContainer = gd.closest('#notebook-container');\n",
              "if (notebookContainer) {{\n",
              "    x.observe(notebookContainer, {childList: true});\n",
              "}}\n",
              "\n",
              "// Listen for the clearing of the current output cell\n",
              "var outputEl = gd.closest('.output');\n",
              "if (outputEl) {{\n",
              "    x.observe(outputEl, {childList: true});\n",
              "}}\n",
              "\n",
              "                        })                };                            </script>        </div>\n",
              "</body>\n",
              "</html>"
            ]
          },
          "metadata": {
            "tags": []
          }
        }
      ]
    },
    {
      "cell_type": "code",
      "metadata": {
        "id": "hLHaQj62dHvI"
      },
      "source": [
        "def get_optimal_ffd(data, start = 0, end = 1, interval = 10, t=1e-5):\n",
        "  d = np.linspace(start,end,interval)\n",
        "  out = mpJobList(mp_get_optimal_ffd, ('molecules', d), redux = pd.DataFrame.append, data = data)\n",
        "  return out\n",
        "\n",
        "def mp_get_optimal_ffd(data, molecules, t = 1e-5):\n",
        "  cols = ['adfStat','pVal','lags','nObs','95% conf']\n",
        "  out = pd.DataFrame(columns=cols)\n",
        "  for d in molecules:\n",
        "    try:\n",
        "      dfx = fracDiff_FFD(data.to_frame(),d,thres=t)\n",
        "      dfx = sm.tsa.stattools.adfuller(dfx['close'], maxlag=1,regression='c',autolag=None)\n",
        "      out.loc[d]=list(dfx[:4])+[dfx[4]['5%']]\n",
        "    except Exception as e:\n",
        "      print(f'{d} error: {e}')\n",
        "  return out\n",
        "\n",
        "def optimal_ffd(data, start = 0, end = 1, interval = 10, t=1e-5):\n",
        "  for d in np.linspace(start, end, interval):    \n",
        "    d = np.round(d, 2)\n",
        "    dfx = fracDiff_FFD(data.to_frame(), d, thres = t)\n",
        "    if sm.tsa.stattools.adfuller(dfx['close'], maxlag=1,regression='c',autolag=None)[1] < 0.05:\n",
        "        return d\n",
        "  print('no optimal d')\n",
        "  return d"
      ],
      "execution_count": 19,
      "outputs": []
    },
    {
      "cell_type": "code",
      "metadata": {
        "colab": {
          "base_uri": "https://localhost:8080/"
        },
        "id": "5HFgQtRa3hIS",
        "outputId": "030f0ea6-8239-4d48-ce08-8cb602da7d5d"
      },
      "source": [
        "d = optimal_ffd(close, start = 0, end = 1, interval = 11, t=1e-2)\n",
        "print(\"The optimal d is {}\".format(d))"
      ],
      "execution_count": 20,
      "outputs": [
        {
          "output_type": "stream",
          "text": [
            "The optimal d is 0.3\n"
          ],
          "name": "stdout"
        }
      ]
    }
  ]
}