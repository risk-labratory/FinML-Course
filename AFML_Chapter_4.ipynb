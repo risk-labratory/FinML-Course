{
  "nbformat": 4,
  "nbformat_minor": 0,
  "metadata": {
    "colab": {
      "name": "AFML - Chapter 4.ipynb",
      "provenance": [],
      "collapsed_sections": [],
      "toc_visible": true
    },
    "kernelspec": {
      "name": "python3",
      "display_name": "Python 3"
    }
  },
  "cells": [
    {
      "cell_type": "markdown",
      "metadata": {
        "id": "PdlJuKvwdnCY"
      },
      "source": [
        "**Copyright (c) 2021 Risklab Middle East - All Rights Reserved**\n",
        "\n",
        "---\n",
        "\n",
        "\n",
        "**Author: Mehrdad Moghimi**\n",
        "\n"
      ]
    },
    {
      "cell_type": "markdown",
      "metadata": {
        "id": "kkg1npDlSfO0"
      },
      "source": [
        "# Imports libraries"
      ]
    },
    {
      "cell_type": "code",
      "metadata": {
        "id": "SK-RJi_JNXyG"
      },
      "source": [
        "%%capture\n",
        "!pip install plotly -U"
      ],
      "execution_count": null,
      "outputs": []
    },
    {
      "cell_type": "code",
      "metadata": {
        "id": "Iyv5ZzRds2wz",
        "colab": {
          "base_uri": "https://localhost:8080/"
        },
        "outputId": "ff46c3b0-a15c-4b20-93c9-dac9531f31a3"
      },
      "source": [
        "import pandas as pd\n",
        "import numpy as np \n",
        "import datetime\n",
        "import time\n",
        "import sys\n",
        "from scipy import stats\n",
        "from statsmodels.stats import stattools\n",
        "\n",
        "import plotly.express as px\n",
        "import plotly.figure_factory as ff\n",
        "import plotly.graph_objects as go\n",
        "from plotly.subplots import make_subplots\n",
        "\n",
        "import multiprocessing as mp\n",
        "\n",
        "pd.options.plotting.backend = \"plotly\"\n",
        "np.seterr(divide='ignore', invalid='ignore')"
      ],
      "execution_count": null,
      "outputs": [
        {
          "output_type": "stream",
          "text": [
            "/usr/local/lib/python3.7/dist-packages/statsmodels/tools/_testing.py:19: FutureWarning: pandas.util.testing is deprecated. Use the functions in the public API at pandas.testing instead.\n",
            "  import pandas.util.testing as tm\n"
          ],
          "name": "stderr"
        },
        {
          "output_type": "execute_result",
          "data": {
            "text/plain": [
              "{'divide': 'warn', 'invalid': 'warn', 'over': 'warn', 'under': 'ignore'}"
            ]
          },
          "metadata": {
            "tags": []
          },
          "execution_count": 2
        }
      ]
    },
    {
      "cell_type": "markdown",
      "metadata": {
        "id": "CSXpLX-4SqbL"
      },
      "source": [
        "# Import Tick data"
      ]
    },
    {
      "cell_type": "code",
      "metadata": {
        "id": "R12r9VGstY_k",
        "colab": {
          "base_uri": "https://localhost:8080/",
          "height": 226
        },
        "outputId": "d1db8368-e4fc-4041-9d53-09bc3ae06809"
      },
      "source": [
        "dir = \"https://raw.githubusercontent.com/risk-labratory/data/main/\"\n",
        "url = dir + \"IVE_2020.csv\"\n",
        "df = pd.read_csv(url, header=0)\n",
        "df['dates'] = pd.to_datetime(df['dates'])\n",
        "df.set_index('dates', inplace=True, drop=True)\n",
        "df.drop_duplicates(inplace=True)\n",
        "df = df[(df.index.hour>=9) & (df.index.hour<16)]\n",
        "df.head()"
      ],
      "execution_count": null,
      "outputs": [
        {
          "output_type": "execute_result",
          "data": {
            "text/html": [
              "<div>\n",
              "<style scoped>\n",
              "    .dataframe tbody tr th:only-of-type {\n",
              "        vertical-align: middle;\n",
              "    }\n",
              "\n",
              "    .dataframe tbody tr th {\n",
              "        vertical-align: top;\n",
              "    }\n",
              "\n",
              "    .dataframe thead th {\n",
              "        text-align: right;\n",
              "    }\n",
              "</style>\n",
              "<table border=\"1\" class=\"dataframe\">\n",
              "  <thead>\n",
              "    <tr style=\"text-align: right;\">\n",
              "      <th></th>\n",
              "      <th>price</th>\n",
              "      <th>bid</th>\n",
              "      <th>ask</th>\n",
              "      <th>size</th>\n",
              "    </tr>\n",
              "    <tr>\n",
              "      <th>dates</th>\n",
              "      <th></th>\n",
              "      <th></th>\n",
              "      <th></th>\n",
              "      <th></th>\n",
              "    </tr>\n",
              "  </thead>\n",
              "  <tbody>\n",
              "    <tr>\n",
              "      <th>2020-01-02 09:30:00</th>\n",
              "      <td>130.68</td>\n",
              "      <td>130.59</td>\n",
              "      <td>130.60</td>\n",
              "      <td>20625</td>\n",
              "    </tr>\n",
              "    <tr>\n",
              "      <th>2020-01-02 09:30:01</th>\n",
              "      <td>130.50</td>\n",
              "      <td>130.50</td>\n",
              "      <td>130.77</td>\n",
              "      <td>200</td>\n",
              "    </tr>\n",
              "    <tr>\n",
              "      <th>2020-01-02 09:30:04</th>\n",
              "      <td>130.53</td>\n",
              "      <td>130.52</td>\n",
              "      <td>130.78</td>\n",
              "      <td>100</td>\n",
              "    </tr>\n",
              "    <tr>\n",
              "      <th>2020-01-02 09:30:04</th>\n",
              "      <td>130.55</td>\n",
              "      <td>130.52</td>\n",
              "      <td>130.78</td>\n",
              "      <td>100</td>\n",
              "    </tr>\n",
              "    <tr>\n",
              "      <th>2020-01-02 09:30:04</th>\n",
              "      <td>130.53</td>\n",
              "      <td>130.52</td>\n",
              "      <td>130.78</td>\n",
              "      <td>200</td>\n",
              "    </tr>\n",
              "  </tbody>\n",
              "</table>\n",
              "</div>"
            ],
            "text/plain": [
              "                      price     bid     ask   size\n",
              "dates                                             \n",
              "2020-01-02 09:30:00  130.68  130.59  130.60  20625\n",
              "2020-01-02 09:30:01  130.50  130.50  130.77    200\n",
              "2020-01-02 09:30:04  130.53  130.52  130.78    100\n",
              "2020-01-02 09:30:04  130.55  130.52  130.78    100\n",
              "2020-01-02 09:30:04  130.53  130.52  130.78    200"
            ]
          },
          "metadata": {
            "tags": []
          },
          "execution_count": 3
        }
      ]
    },
    {
      "cell_type": "markdown",
      "metadata": {
        "id": "e6eOxBVTcqG3"
      },
      "source": [
        "# Functions"
      ]
    },
    {
      "cell_type": "code",
      "metadata": {
        "id": "8L7z2ysd8v0E"
      },
      "source": [
        "# SNIPPET 20.5 THE linParts FUNCTION\n",
        "def linParts(numAtoms,numThreads):\n",
        "  # partition of atoms with a single loop\n",
        "  parts=np.linspace(0,numAtoms,min(numThreads,numAtoms)+1)\n",
        "  parts=np.ceil(parts).astype(int)\n",
        "  return parts\n",
        "\n",
        "# SNIPPET 20.6 THE nestedParts FUNCTION\n",
        "def nestedParts(numAtoms,numThreads,upperTriang=False):\n",
        "  # partition of atoms with an inner loop\n",
        "  parts,numThreads_=[0],min(numThreads,numAtoms)\n",
        "  for num in range(numThreads_):\n",
        "    part=1 + 4*(parts[-1]**2+parts[-1]+numAtoms*(numAtoms+1.)/numThreads_)\n",
        "    part=(-1+part**.5)/2.\n",
        "    parts.append(part)\n",
        "  parts=np.round(parts).astype(int)\n",
        "  if upperTriang: # the first rows are the heaviest\n",
        "    parts=np.cumsum(np.diff(parts)[::-1])\n",
        "    parts=np.append(np.array([0]),parts)\n",
        "  return parts\n",
        "\n",
        "# SNIPPET 20.7 THE mpPandasObj, USED AT VARIOUS POINTS IN THE BOOK\n",
        "def mpPandasObj(func,pdObj,numThreads=24,mpBatches=1,linMols=True,**kargs):\n",
        "  \"\"\"\n",
        "  Parallelize jobs, return a DataFrame or Series\n",
        "  + func: function to be parallelized. Returns a DataFrame\n",
        "  + pdObj[0]: Name of argument used to pass the molecule\n",
        "  + pdObj[1]: List of atoms that will be grouped into molecules\n",
        "  + kargs: any other argument needed by func\n",
        "  Example: df1=mpPandasObj(func,(’molecule’,df0.index),24,**kargs)\n",
        "  \"\"\"\n",
        "  argList = list(kargs.values()) #?\n",
        "  if linMols:\n",
        "    parts=linParts(len(argList[1]),numThreads*mpBatches)\n",
        "  else:\n",
        "    parts=nestedParts(len(argList[1]),numThreads*mpBatches)\n",
        "  jobs=[] \n",
        "  for i in range(1,len(parts)):\n",
        "    job={pdObj[0]:pdObj[1][parts[i-1]:parts[i]],'func':func}\n",
        "    job.update(kargs)\n",
        "    jobs.append(job)\n",
        "  if numThreads==1:\n",
        "    out=processJobs_(jobs)\n",
        "  else:\n",
        "    out=processJobs(jobs,numThreads=numThreads)\n",
        "  if isinstance(out[0],pd.DataFrame):\n",
        "    df0=pd.DataFrame()\n",
        "  elif isinstance(out[0],pd.Series):\n",
        "    df0=pd.Series(dtype=\"float64\")\n",
        "  else:\n",
        "    return out\n",
        "  for i in out:\n",
        "    df0=df0.append(i)\n",
        "  df0=df0.sort_index()\n",
        "  return df0\n",
        "\n",
        "# SNIPPET 20.8 SINGLE-THREAD EXECUTION, FOR DEBUGGING\n",
        "def processJobs_(jobs):\n",
        "  # Run jobs sequentially, for debugging\n",
        "  out=[]\n",
        "  for job in jobs:\n",
        "    out_=expandCall(job)\n",
        "    out.append(out_)\n",
        "  return out\n",
        "\n",
        "# SNIPPET 20.9 EXAMPLE OF ASYNCHRONOUS CALL TO PYTHON’S MULTIPROCESSING LIBRARY\n",
        "def reportProgress(jobNum,numJobs,time0,task):\n",
        "  # Report progress as asynch jobs are completed\n",
        "  msg=[float(jobNum)/numJobs,(time.time()-time0)/60.]\n",
        "  msg.append(msg[1]*(1/msg[0]-1))\n",
        "  timeStamp=str(datetime.datetime.fromtimestamp(time.time()))\n",
        "  msg= timeStamp+' '+str(round(msg[0]*100,2))+'% '+task+' done after '+ str(round(msg[1],2))+' minutes. Remaining '+str(round(msg[2],2))+' minutes.'\n",
        "  if jobNum<numJobs:\n",
        "    sys.stderr.write(msg+'\\r')\n",
        "  else:\n",
        "    sys.stderr.write(msg+'\\n')\n",
        "  return\n",
        "\n",
        "def processJobs(jobs,task=None,numThreads=24):\n",
        "  # Run in parallel.\n",
        "  # jobs must contain a ’func’ callback, for expandCall\n",
        "  if task is None:task=jobs[0]['func'].__name__\n",
        "  pool=mp.Pool(processes=numThreads)\n",
        "  outputs,out,time0=pool.imap_unordered(expandCall,jobs),[],time.time()\n",
        "  # Process asynchronous output, report progress\n",
        "  for i,out_ in enumerate(outputs,1):\n",
        "    out.append(out_)\n",
        "    reportProgress(i,len(jobs),time0,task)\n",
        "  pool.close()\n",
        "  pool.join() # this is needed to prevent memory leaks\n",
        "  return out\n",
        "\n",
        "# SNIPPET 20.10 PASSING THE JOB (MOLECULE) TO THE CALLBACK FUNCTION\n",
        "def expandCall(kargs):\n",
        "  # Expand the arguments of a callback function, kargs[’func’]\n",
        "  func=kargs['func']\n",
        "  del kargs['func']\n",
        "  out=func(**kargs)\n",
        "  return out"
      ],
      "execution_count": null,
      "outputs": []
    },
    {
      "cell_type": "code",
      "metadata": {
        "id": "Boj5a_O3rHmm"
      },
      "source": [
        "def progressBar(value, end_value, start_time, bar_length=20):\n",
        "    percent = float(value) / end_value\n",
        "    arrow = '-' * int(round(percent * bar_length)-1) + '>'\n",
        "    spaces = ' ' * (bar_length - len(arrow))\n",
        "    remaining = int(((time.time()-start_time)/value)*(end_value-value)/60)\n",
        "    sys.stdout.write(\"\\rCompleted: [{0}] {1}% - {2} minutes remaining.\".format(arrow + spaces, int(round(percent * 100)), remaining))\n",
        "    sys.stdout.flush()"
      ],
      "execution_count": null,
      "outputs": []
    },
    {
      "cell_type": "code",
      "metadata": {
        "id": "49JL_oWQVDyi"
      },
      "source": [
        "def get_ohlcv(df_group):\n",
        "  ohlc = df_group['price'].ohlc()\n",
        "  ohlc['volume'] = df_group['size'].sum()\n",
        "  ohlc['vwap'] = df_group.apply(lambda x: (x['price']*x['size']).sum()/x['size'].sum())\n",
        "  ohlc['twap'] = df_group['price'].mean()\n",
        "  ohlc['tick_count'] = df_group['price'].count()\n",
        "  ohlc['twap_logr'] = np.log(ohlc['twap']) - np.log(ohlc['twap'].shift(1))\n",
        "  return ohlc\n",
        "\n",
        "def get_time_bar(df, freq=\"5Min\"):\n",
        "  df_group = df.groupby(pd.Grouper(freq=freq))\n",
        "  ohlcv = get_ohlcv(df_group)\n",
        "  return ohlcv\n",
        "\n",
        "def get_tick_bar(df, tick_per_bar=10, num_of_bars=None):\n",
        "  if not tick_per_bar:\n",
        "    tick_per_bar = int(df.shape[0] / num_of_bars)\n",
        "  tick_group = df.reset_index().assign(grpId=lambda x: x.index // tick_per_bar)\n",
        "  dates = tick_group.groupby('grpId', as_index=False).first()['dates']\n",
        "  df_group =  tick_group.groupby('grpId')\n",
        "  ohlcv = get_ohlcv(df_group)\n",
        "  ohlcv.set_index(dates, drop=True, inplace=True)\n",
        "  return ohlcv\n",
        "\n",
        "def get_volume_bar(df, volume_per_bar=10000, num_of_bars=None):\n",
        "  df['cum_size'] = df['size'].cumsum() \n",
        "  if not volume_per_bar:\n",
        "    total_vol = df['cum_size'].values[-1]\n",
        "    volume_per_bar = total_vol / num_of_bars\n",
        "    volume_per_bar = round(volume_per_bar, -2) # round to the nearest hundred\n",
        "  tick_group = df.reset_index().assign(grpId=lambda x: x.cum_size // volume_per_bar)\n",
        "  dates = tick_group.groupby('grpId', as_index=False).first()['dates']\n",
        "  df_group =  tick_group.groupby('grpId')\n",
        "  ohlcv = get_ohlcv(df_group)\n",
        "  ohlcv.set_index(dates, drop=True, inplace=True)\n",
        "  return ohlcv\n",
        "\n",
        "def get_dollar_bar(df, dollar_per_bar=100000, num_of_bars=None):\n",
        "  df['dollar'] = df['price']*df['size']\n",
        "  df['cum_dv'] = df['dollar'].cumsum() \n",
        "  if not dollar_per_bar:\n",
        "    total_dvol = df['cum_dv'].values[-1]\n",
        "    dollar_per_bar = total_dvol / num_of_bars\n",
        "    dollar_per_bar = round(dollar_per_bar, -2) # round to the nearest hundred\n",
        "  tick_group = df.reset_index().assign(grpId=lambda x: x.cum_dv // dollar_per_bar)\n",
        "  dates = tick_group.groupby('grpId', as_index=False).first()['dates']\n",
        "  df_group =  tick_group.groupby('grpId')\n",
        "  ohlcv = get_ohlcv(df_group)\n",
        "  ohlcv.set_index(dates, drop=True, inplace=True)\n",
        "  return ohlcv"
      ],
      "execution_count": null,
      "outputs": []
    },
    {
      "cell_type": "code",
      "metadata": {
        "id": "HbRVRIoChbnH"
      },
      "source": [
        "def plot_ohlcv(ohlcv):\n",
        "  dt_all = pd.date_range(start=ohlcv.index[0],end=ohlcv.index[-1])\n",
        "  dt_obs = [d.strftime(\"%Y-%m-%d\") for d in ohlcv.index]\n",
        "  dt_breaks = [d for d in dt_all.strftime(\"%Y-%m-%d\").tolist() if not d in dt_obs]\n",
        "  fig = make_subplots(rows=3, cols=1,\n",
        "                      shared_xaxes=True,\n",
        "                      vertical_spacing=0.05, specs=[[{\"rowspan\": 2}], \n",
        "                                                  [{}], \n",
        "                                                  [{}]])\n",
        "  fig.add_trace(go.Candlestick(x=ohlcv.index, \n",
        "                              open=ohlcv.open, \n",
        "                              high=ohlcv.high,\n",
        "                              low=ohlcv.low, \n",
        "                              close=ohlcv.close, name='Candlestick'), row=1, col=1)\n",
        "  fig.add_trace(go.Bar(x=ohlcv.index, y=ohlcv.volume, marker_color='rgba(255, 100, 100, 0.7)', name='volume'), row=3, col=1)\n",
        "  fig.update_yaxes(title_text=\"Price\", row=1, col=1)\n",
        "  fig.update_yaxes(title_text=\"Volume\", row=3, col=1)\n",
        "  fig.update_xaxes(\n",
        "          rangeslider_visible=False,\n",
        "          rangebreaks=[\n",
        "              dict(bounds=[\"sat\", \"mon\"]),  # hide weekends, eg. hide sat to before mon\n",
        "              dict(bounds=[16, 9.5], pattern=\"hour\"),  # hide hours outside of 9.30am-4pm\n",
        "              dict(values=dt_breaks)  # hide empty dates\n",
        "          ]\n",
        "      )\n",
        "  fig.update_layout(xaxis_rangeslider_visible=False)\n",
        "  fig.show()"
      ],
      "execution_count": null,
      "outputs": []
    },
    {
      "cell_type": "markdown",
      "metadata": {
        "id": "bs4qACoxfgvn"
      },
      "source": [
        "# Code Snippets"
      ]
    },
    {
      "cell_type": "code",
      "metadata": {
        "colab": {
          "base_uri": "https://localhost:8080/",
          "height": 226
        },
        "id": "HE0sq7Zxzuwj",
        "outputId": "cea70d97-389b-42d8-882b-ae6b03f8f7ec"
      },
      "source": [
        "ohlcv = get_time_bar(df, freq=\"1B\")\n",
        "ohlcv.dropna(inplace=True)\n",
        "close = ohlcv.close\n",
        "ohlcv.head()"
      ],
      "execution_count": null,
      "outputs": [
        {
          "output_type": "execute_result",
          "data": {
            "text/html": [
              "<div>\n",
              "<style scoped>\n",
              "    .dataframe tbody tr th:only-of-type {\n",
              "        vertical-align: middle;\n",
              "    }\n",
              "\n",
              "    .dataframe tbody tr th {\n",
              "        vertical-align: top;\n",
              "    }\n",
              "\n",
              "    .dataframe thead th {\n",
              "        text-align: right;\n",
              "    }\n",
              "</style>\n",
              "<table border=\"1\" class=\"dataframe\">\n",
              "  <thead>\n",
              "    <tr style=\"text-align: right;\">\n",
              "      <th></th>\n",
              "      <th>open</th>\n",
              "      <th>high</th>\n",
              "      <th>low</th>\n",
              "      <th>close</th>\n",
              "      <th>volume</th>\n",
              "      <th>vwap</th>\n",
              "      <th>twap</th>\n",
              "      <th>tick_count</th>\n",
              "      <th>twap_logr</th>\n",
              "    </tr>\n",
              "    <tr>\n",
              "      <th>dates</th>\n",
              "      <th></th>\n",
              "      <th></th>\n",
              "      <th></th>\n",
              "      <th></th>\n",
              "      <th></th>\n",
              "      <th></th>\n",
              "      <th></th>\n",
              "      <th></th>\n",
              "      <th></th>\n",
              "    </tr>\n",
              "  </thead>\n",
              "  <tbody>\n",
              "    <tr>\n",
              "      <th>2020-01-03</th>\n",
              "      <td>129.33</td>\n",
              "      <td>129.9874</td>\n",
              "      <td>129.2912</td>\n",
              "      <td>129.6400</td>\n",
              "      <td>526340</td>\n",
              "      <td>129.751774</td>\n",
              "      <td>129.719157</td>\n",
              "      <td>922</td>\n",
              "      <td>-0.003845</td>\n",
              "    </tr>\n",
              "    <tr>\n",
              "      <th>2020-01-06</th>\n",
              "      <td>129.00</td>\n",
              "      <td>129.8952</td>\n",
              "      <td>128.9300</td>\n",
              "      <td>129.8952</td>\n",
              "      <td>655431</td>\n",
              "      <td>129.548003</td>\n",
              "      <td>129.493223</td>\n",
              "      <td>770</td>\n",
              "      <td>-0.001743</td>\n",
              "    </tr>\n",
              "    <tr>\n",
              "      <th>2020-01-07</th>\n",
              "      <td>129.52</td>\n",
              "      <td>129.5800</td>\n",
              "      <td>129.1405</td>\n",
              "      <td>129.3800</td>\n",
              "      <td>413423</td>\n",
              "      <td>129.376731</td>\n",
              "      <td>129.357347</td>\n",
              "      <td>908</td>\n",
              "      <td>-0.001050</td>\n",
              "    </tr>\n",
              "    <tr>\n",
              "      <th>2020-01-08</th>\n",
              "      <td>129.38</td>\n",
              "      <td>130.2999</td>\n",
              "      <td>129.2400</td>\n",
              "      <td>129.7600</td>\n",
              "      <td>449383</td>\n",
              "      <td>129.881903</td>\n",
              "      <td>129.858126</td>\n",
              "      <td>1028</td>\n",
              "      <td>0.003864</td>\n",
              "    </tr>\n",
              "    <tr>\n",
              "      <th>2020-01-09</th>\n",
              "      <td>130.30</td>\n",
              "      <td>130.3800</td>\n",
              "      <td>129.9200</td>\n",
              "      <td>130.3168</td>\n",
              "      <td>376142</td>\n",
              "      <td>130.161216</td>\n",
              "      <td>130.161563</td>\n",
              "      <td>614</td>\n",
              "      <td>0.002334</td>\n",
              "    </tr>\n",
              "  </tbody>\n",
              "</table>\n",
              "</div>"
            ],
            "text/plain": [
              "              open      high       low  ...        twap  tick_count  twap_logr\n",
              "dates                                   ...                                   \n",
              "2020-01-03  129.33  129.9874  129.2912  ...  129.719157         922  -0.003845\n",
              "2020-01-06  129.00  129.8952  128.9300  ...  129.493223         770  -0.001743\n",
              "2020-01-07  129.52  129.5800  129.1405  ...  129.357347         908  -0.001050\n",
              "2020-01-08  129.38  130.2999  129.2400  ...  129.858126        1028   0.003864\n",
              "2020-01-09  130.30  130.3800  129.9200  ...  130.161563         614   0.002334\n",
              "\n",
              "[5 rows x 9 columns]"
            ]
          },
          "metadata": {
            "tags": []
          },
          "execution_count": 8
        }
      ]
    },
    {
      "cell_type": "markdown",
      "metadata": {
        "id": "frhYUT7CmECR"
      },
      "source": [
        "SNIPPET 2.4 THE SYMMETRIC CUSUM FILTER\n",
        "\n"
      ]
    },
    {
      "cell_type": "code",
      "metadata": {
        "id": "0kWVyAdBl7ub"
      },
      "source": [
        "def getTEvents(gRaw, h):\n",
        "  tEvents, sPos, sNeg = [], 0, 0\n",
        "  diff = gRaw.diff()\n",
        "  for i in diff.index[1:]:\n",
        "    sPos, sNeg = max(0, sPos+diff.loc[i]), min(0, sNeg+diff.loc[i])\n",
        "    if sNeg<-h:\n",
        "      sNeg=0\n",
        "      tEvents.append(i)\n",
        "    elif sPos>h:\n",
        "      sPos=0\n",
        "      tEvents.append(i)\n",
        "  return pd.DatetimeIndex(tEvents)"
      ],
      "execution_count": null,
      "outputs": []
    },
    {
      "cell_type": "markdown",
      "metadata": {
        "id": "F8-J28_iflAl"
      },
      "source": [
        "SNIPPET 3.1 DAILY VOLATILITY ESTIMATES"
      ]
    },
    {
      "cell_type": "code",
      "metadata": {
        "id": "-bXJvrrJfjAO"
      },
      "source": [
        "def getDailyVol(close, span0=63):\n",
        "    # daily vol, reindexed to close\n",
        "    df0 = close.index.searchsorted(close.index - pd.Timedelta(days=1))\n",
        "    df0 = df0[df0 > 0]\n",
        "    df0 = pd.Series(close.index[df0 - 1], index=close.index[close.shape[0] - df0.shape[0]:])\n",
        "    rets = (close.loc[df0.index] / close.loc[df0.values].values - 1).rename(\"rets\")  # daily returns\n",
        "    stds = rets.ewm(span=span0).std().rename(\"std\")\n",
        "    return rets, stds"
      ],
      "execution_count": null,
      "outputs": []
    },
    {
      "cell_type": "markdown",
      "metadata": {
        "id": "NIBLAvtyfqpm"
      },
      "source": [
        "SNIPPET 3.2 TRIPLE-BARRIER LABELING METHOD"
      ]
    },
    {
      "cell_type": "code",
      "metadata": {
        "id": "T9EQgZnUfpHl"
      },
      "source": [
        "def applyPtSlOnT1(close, events, ptSl, molecule):\n",
        "    # apply stop loss/profit taking, if it takes place before t1 (end of event)\n",
        "    events_ = events.loc[molecule]\n",
        "    out = events_[['t1']].copy(deep=True)\n",
        "    if ptSl[0] > 0:\n",
        "        pt = ptSl[0] * events_['trgt']\n",
        "    else:\n",
        "        pt = pd.Series(index=events.index, dtype=\"float64\")  # NaNs\n",
        "    if ptSl[1] > 0:\n",
        "        sl = -ptSl[1] * events_['trgt']\n",
        "    else:\n",
        "        sl = pd.Series(index=events.index, dtype=\"float64\")  # NaNs\n",
        "    for loc, t1 in events_['t1'].fillna(close.index[-1]).iteritems():\n",
        "        df0 = close[loc:t1]  # path prices\n",
        "        df0 = (df0 / close[loc] - 1) * events_.at[loc, 'side']  # path returns\n",
        "        out.loc[loc, 'sl'] = df0[df0 < sl[loc]].index.min()  # earliest stop loss.\n",
        "        out.loc[loc, 'pt'] = df0[df0 > pt[loc]].index.min()  # earliest profit taking.\n",
        "    return out"
      ],
      "execution_count": null,
      "outputs": []
    },
    {
      "cell_type": "markdown",
      "metadata": {
        "id": "V1VKe9Z2ft6P"
      },
      "source": [
        "SNIPPET 3.3 GETTING THE TIME OF FIRST TOUCH"
      ]
    },
    {
      "cell_type": "code",
      "metadata": {
        "id": "rZEjKBXKfuFF"
      },
      "source": [
        "def getEvents(close, tEvents, ptSl, trgt, minRet, numThreads, t1=False):\n",
        "    # 1) get target\n",
        "    trgt = trgt.loc[tEvents]\n",
        "    trgt = trgt[trgt > minRet]  # minRet\n",
        "    # 2) get t1 (max holding period)\n",
        "    if t1 is False: \n",
        "        t1 = pd.Series(pd.NaT, index=tEvents)\n",
        "    # 3) form events object, apply stop loss on t1\n",
        "    side_ = pd.Series(1., index=trgt.index)\n",
        "    events = pd.concat({'t1': t1, 'trgt': trgt, 'side': side_}, axis=1).dropna(subset=['trgt'])\n",
        "    df0 = mpPandasObj(func=applyPtSlOnT1, pdObj=('molecule', events.index), \n",
        "                      numThreads=numThreads, close=close, events=events, ptSl=[ptSl, ptSl])\n",
        "    events['t1'] = df0.dropna(how='all').min(axis=1)  # pd.min ignores nan\n",
        "    events = events.drop('side', axis=1)\n",
        "    return events"
      ],
      "execution_count": null,
      "outputs": []
    },
    {
      "cell_type": "markdown",
      "metadata": {
        "id": "rNx6ahJeVcEG"
      },
      "source": [
        "Plotting the overlap"
      ]
    },
    {
      "cell_type": "code",
      "metadata": {
        "id": "yqX6PUBETaUO"
      },
      "source": [
        "numDays = 21\n",
        "tEvents = getTEvents(close, h=5)\n",
        "t1 = close.index.searchsorted(tEvents+pd.Timedelta(days=numDays))\n",
        "t1 = t1[t1<close.shape[0]]\n",
        "t1 = pd.Series(close.index[t1],index=tEvents[:t1.shape[0]]) # NaNs at end\n",
        "rets, stds = getDailyVol(close, span0=32)\n",
        "events = getEvents(close, tEvents, ptSl=1, trgt=stds, minRet=0.0, numThreads=1, t1=t1)\n",
        "\n",
        "def add_box(close, events, fig, i):\n",
        "  pt, sl = events['trgt'], events['trgt']\n",
        "  upper, lower = close[events.index]*(1+pt), close[events.index]*(1-sl)\n",
        "  tt1, tt2 = events.index[i], t1.loc[events.index].iloc[i]\n",
        "  ft = events['t1'].iloc[i]\n",
        "  pft = close.loc[ft]\n",
        "  u, l = upper.iloc[i], lower.iloc[i]\n",
        "  fig.add_shape(type=\"line\", x0=tt1, y0=u, x1=tt1, y1=l, line=dict(color=\"red\", width=2))\n",
        "  fig.add_shape(type=\"line\", x0=tt1, y0=u, x1=tt2, y1=u, line=dict(color=\"red\", width=2))\n",
        "  fig.add_shape(type=\"line\", x0=tt1, y0=l, x1=tt2, y1=l, line=dict(color=\"red\", width=2))\n",
        "  fig.add_shape(type=\"line\", x0=tt2, y0=u, x1=tt2, y1=l, line=dict(color=\"red\", width=2))\n",
        "  fig.add_shape(type=\"line\", x0=ft, y0=u, x1=ft, y1=l, line=dict(color=\"red\", width=2, dash='dash'))\n",
        "  fig.add_trace(go.Scatter(x=[ft], y=[pft], marker=dict(size=[10], color=['green']), name=\"First Touch\"))\n",
        "  return fig, tt1, ft"
      ],
      "execution_count": null,
      "outputs": []
    },
    {
      "cell_type": "code",
      "metadata": {
        "colab": {
          "base_uri": "https://localhost:8080/",
          "height": 542
        },
        "id": "7of-wPeLUcPY",
        "outputId": "aa572db1-0428-4cee-cc16-3d4b2b98606f"
      },
      "source": [
        "fig = close.plot()\n",
        "fig.add_trace(go.Scatter(x=tEvents, y=close[tEvents], mode=\"markers\", name=\"tEvents\"))\n",
        "fig, t11, t12 = add_box(close, events, fig, i=20)\n",
        "fig, t21, t22 = add_box(close, events, fig, i=21)\n",
        "if t21<np.min([t12, t22]):\n",
        "  fig.add_vrect(x0=t21, x1=np.min([t12, t22]), annotation_text=\"overlap\", fillcolor=\"green\", opacity=0.25, line_width=0)\n",
        "fig.show()"
      ],
      "execution_count": null,
      "outputs": [
        {
          "output_type": "display_data",
          "data": {
            "text/html": [
              "<html>\n",
              "<head><meta charset=\"utf-8\" /></head>\n",
              "<body>\n",
              "    <div>            <script src=\"https://cdnjs.cloudflare.com/ajax/libs/mathjax/2.7.5/MathJax.js?config=TeX-AMS-MML_SVG\"></script><script type=\"text/javascript\">if (window.MathJax) {MathJax.Hub.Config({SVG: {font: \"STIX-Web\"}});}</script>                <script type=\"text/javascript\">window.PlotlyConfig = {MathJaxConfig: 'local'};</script>\n",
              "        <script src=\"https://cdn.plot.ly/plotly-latest.min.js\"></script>                <div id=\"79f6c774-826f-4f37-b81c-341898e5e49a\" class=\"plotly-graph-div\" style=\"height:525px; width:100%;\"></div>            <script type=\"text/javascript\">                                    window.PLOTLYENV=window.PLOTLYENV || {};                                    if (document.getElementById(\"79f6c774-826f-4f37-b81c-341898e5e49a\")) {                    Plotly.newPlot(                        \"79f6c774-826f-4f37-b81c-341898e5e49a\",                        [{\"hovertemplate\": \"variable=close<br>dates=%{x}<br>value=%{y}<extra></extra>\", \"legendgroup\": \"close\", \"line\": {\"color\": \"#636efa\", \"dash\": \"solid\"}, \"mode\": \"lines\", \"name\": \"close\", \"orientation\": \"v\", \"showlegend\": true, \"type\": \"scatter\", \"x\": [\"2020-01-03T00:00:00\", \"2020-01-06T00:00:00\", \"2020-01-07T00:00:00\", \"2020-01-08T00:00:00\", \"2020-01-09T00:00:00\", \"2020-01-10T00:00:00\", \"2020-01-13T00:00:00\", \"2020-01-14T00:00:00\", \"2020-01-15T00:00:00\", \"2020-01-16T00:00:00\", \"2020-01-17T00:00:00\", \"2020-01-22T00:00:00\", \"2020-01-23T00:00:00\", \"2020-01-24T00:00:00\", \"2020-01-27T00:00:00\", \"2020-01-28T00:00:00\", \"2020-01-29T00:00:00\", \"2020-01-30T00:00:00\", \"2020-01-31T00:00:00\", \"2020-02-03T00:00:00\", \"2020-02-04T00:00:00\", \"2020-02-05T00:00:00\", \"2020-02-06T00:00:00\", \"2020-02-07T00:00:00\", \"2020-02-10T00:00:00\", \"2020-02-11T00:00:00\", \"2020-02-12T00:00:00\", \"2020-02-13T00:00:00\", \"2020-02-14T00:00:00\", \"2020-02-19T00:00:00\", \"2020-02-20T00:00:00\", \"2020-02-21T00:00:00\", \"2020-02-24T00:00:00\", \"2020-02-25T00:00:00\", \"2020-02-26T00:00:00\", \"2020-02-27T00:00:00\", \"2020-02-28T00:00:00\", \"2020-03-02T00:00:00\", \"2020-03-03T00:00:00\", \"2020-03-04T00:00:00\", \"2020-03-05T00:00:00\", \"2020-03-06T00:00:00\", \"2020-03-09T00:00:00\", \"2020-03-10T00:00:00\", \"2020-03-11T00:00:00\", \"2020-03-12T00:00:00\", \"2020-03-13T00:00:00\", \"2020-03-16T00:00:00\", \"2020-03-17T00:00:00\", \"2020-03-18T00:00:00\", \"2020-03-19T00:00:00\", \"2020-03-20T00:00:00\", \"2020-03-23T00:00:00\", \"2020-03-24T00:00:00\", \"2020-03-25T00:00:00\", \"2020-03-26T00:00:00\", \"2020-03-27T00:00:00\", \"2020-03-30T00:00:00\", \"2020-03-31T00:00:00\", \"2020-04-01T00:00:00\", \"2020-04-02T00:00:00\", \"2020-04-03T00:00:00\", \"2020-04-06T00:00:00\", \"2020-04-07T00:00:00\", \"2020-04-08T00:00:00\", \"2020-04-09T00:00:00\", \"2020-04-14T00:00:00\", \"2020-04-15T00:00:00\", \"2020-04-16T00:00:00\", \"2020-04-17T00:00:00\", \"2020-04-20T00:00:00\", \"2020-04-21T00:00:00\", \"2020-04-22T00:00:00\", \"2020-04-23T00:00:00\", \"2020-04-24T00:00:00\", \"2020-04-27T00:00:00\", \"2020-04-28T00:00:00\", \"2020-04-29T00:00:00\", \"2020-04-30T00:00:00\", \"2020-05-01T00:00:00\", \"2020-05-04T00:00:00\", \"2020-05-05T00:00:00\", \"2020-05-06T00:00:00\", \"2020-05-07T00:00:00\", \"2020-05-08T00:00:00\", \"2020-05-11T00:00:00\", \"2020-05-12T00:00:00\", \"2020-05-13T00:00:00\", \"2020-05-14T00:00:00\", \"2020-05-15T00:00:00\", \"2020-05-18T00:00:00\", \"2020-05-19T00:00:00\", \"2020-05-20T00:00:00\", \"2020-05-21T00:00:00\", \"2020-05-22T00:00:00\", \"2020-05-27T00:00:00\", \"2020-05-28T00:00:00\", \"2020-05-29T00:00:00\", \"2020-06-01T00:00:00\", \"2020-06-02T00:00:00\", \"2020-06-03T00:00:00\", \"2020-06-04T00:00:00\", \"2020-06-05T00:00:00\", \"2020-06-08T00:00:00\", \"2020-06-09T00:00:00\", \"2020-06-10T00:00:00\", \"2020-06-11T00:00:00\", \"2020-06-12T00:00:00\", \"2020-06-15T00:00:00\", \"2020-06-16T00:00:00\", \"2020-06-17T00:00:00\", \"2020-06-18T00:00:00\", \"2020-06-19T00:00:00\", \"2020-06-22T00:00:00\", \"2020-06-23T00:00:00\", \"2020-06-24T00:00:00\", \"2020-06-25T00:00:00\", \"2020-06-26T00:00:00\", \"2020-06-29T00:00:00\", \"2020-06-30T00:00:00\", \"2020-07-01T00:00:00\", \"2020-07-02T00:00:00\", \"2020-07-07T00:00:00\", \"2020-07-08T00:00:00\", \"2020-07-09T00:00:00\", \"2020-07-10T00:00:00\", \"2020-07-13T00:00:00\", \"2020-07-14T00:00:00\", \"2020-07-15T00:00:00\", \"2020-07-16T00:00:00\", \"2020-07-17T00:00:00\", \"2020-07-20T00:00:00\", \"2020-07-21T00:00:00\", \"2020-07-22T00:00:00\", \"2020-07-23T00:00:00\", \"2020-07-24T00:00:00\", \"2020-07-27T00:00:00\", \"2020-07-28T00:00:00\", \"2020-07-29T00:00:00\", \"2020-07-30T00:00:00\", \"2020-07-31T00:00:00\", \"2020-08-03T00:00:00\", \"2020-08-04T00:00:00\", \"2020-08-05T00:00:00\", \"2020-08-06T00:00:00\", \"2020-08-07T00:00:00\", \"2020-08-10T00:00:00\", \"2020-08-11T00:00:00\", \"2020-08-12T00:00:00\", \"2020-08-13T00:00:00\", \"2020-08-14T00:00:00\", \"2020-08-17T00:00:00\", \"2020-08-18T00:00:00\", \"2020-08-19T00:00:00\", \"2020-08-20T00:00:00\", \"2020-08-21T00:00:00\", \"2020-08-24T00:00:00\", \"2020-08-25T00:00:00\", \"2020-08-26T00:00:00\", \"2020-08-27T00:00:00\", \"2020-08-28T00:00:00\", \"2020-08-31T00:00:00\", \"2020-09-01T00:00:00\", \"2020-09-02T00:00:00\", \"2020-09-03T00:00:00\", \"2020-09-04T00:00:00\", \"2020-09-09T00:00:00\", \"2020-09-10T00:00:00\", \"2020-09-11T00:00:00\", \"2020-09-14T00:00:00\", \"2020-09-15T00:00:00\", \"2020-09-16T00:00:00\", \"2020-09-17T00:00:00\", \"2020-09-18T00:00:00\", \"2020-09-21T00:00:00\", \"2020-09-22T00:00:00\", \"2020-09-23T00:00:00\", \"2020-09-24T00:00:00\", \"2020-09-25T00:00:00\", \"2020-09-28T00:00:00\", \"2020-09-29T00:00:00\", \"2020-09-30T00:00:00\", \"2020-10-01T00:00:00\", \"2020-10-02T00:00:00\", \"2020-10-05T00:00:00\", \"2020-10-06T00:00:00\", \"2020-10-07T00:00:00\", \"2020-10-08T00:00:00\", \"2020-10-09T00:00:00\", \"2020-10-12T00:00:00\", \"2020-10-13T00:00:00\", \"2020-10-14T00:00:00\", \"2020-10-15T00:00:00\", \"2020-10-16T00:00:00\", \"2020-10-19T00:00:00\", \"2020-10-20T00:00:00\", \"2020-10-21T00:00:00\", \"2020-10-22T00:00:00\", \"2020-10-23T00:00:00\", \"2020-10-26T00:00:00\", \"2020-10-27T00:00:00\", \"2020-10-28T00:00:00\", \"2020-10-29T00:00:00\", \"2020-10-30T00:00:00\", \"2020-11-02T00:00:00\", \"2020-11-03T00:00:00\", \"2020-11-04T00:00:00\", \"2020-11-05T00:00:00\", \"2020-11-06T00:00:00\", \"2020-11-09T00:00:00\", \"2020-11-10T00:00:00\", \"2020-11-11T00:00:00\", \"2020-11-12T00:00:00\", \"2020-11-13T00:00:00\", \"2020-11-16T00:00:00\", \"2020-11-17T00:00:00\", \"2020-11-18T00:00:00\", \"2020-11-19T00:00:00\", \"2020-11-20T00:00:00\", \"2020-11-23T00:00:00\", \"2020-11-24T00:00:00\", \"2020-11-25T00:00:00\", \"2020-11-30T00:00:00\", \"2020-12-01T00:00:00\", \"2020-12-02T00:00:00\", \"2020-12-03T00:00:00\", \"2020-12-04T00:00:00\", \"2020-12-07T00:00:00\", \"2020-12-08T00:00:00\", \"2020-12-09T00:00:00\", \"2020-12-10T00:00:00\", \"2020-12-11T00:00:00\", \"2020-12-14T00:00:00\", \"2020-12-15T00:00:00\", \"2020-12-16T00:00:00\", \"2020-12-17T00:00:00\", \"2020-12-18T00:00:00\", \"2020-12-21T00:00:00\", \"2020-12-22T00:00:00\", \"2020-12-23T00:00:00\", \"2020-12-24T00:00:00\", \"2020-12-29T00:00:00\", \"2020-12-30T00:00:00\", \"2020-12-31T00:00:00\"], \"xaxis\": \"x\", \"y\": [129.64, 129.8952, 129.38, 129.76, 130.3168, 129.87, 130.305, 130.48, 130.63, 131.57, 131.78, 131.31, 131.31, 130.06, 128.24, 129.05, 128.47, 128.96, 126.65, 127.08, 128.6, 130.92, 130.97, 130.22, 130.58, 131.16, 131.8, 131.55, 131.45, 131.33, 131.22, 130.63, 126.62, 122.61, 121.48, 116.34, 114.63, 119.78, 116.45, 121.32, 117.32, 115.22, 105.86, 110.57, 105.01, 94.5, 102.955, 91.38, 97.17, 91.03, 90.68, 86.41, 82.69, 91.0, 92.13, 98.01, 95.27, 98.02, 96.24, 91.96, 94.19, 92.74, 98.52, 98.91, 102.91, 105.17, 105.4, 102.43, 102.315, 106.05, 103.86, 101.05, 102.67, 102.695, 104.01, 106.18, 106.64, 108.72, 106.45, 103.56, 103.51, 103.98, 102.39, 103.38, 105.63, 104.93, 102.77, 100.42, 101.93, 101.93, 106.06, 104.31, 105.89, 105.22, 105.25, 110.38, 109.91, 109.95, 110.32, 111.39, 113.52, 114.03, 117.44, 119.69, 117.4, 114.97, 107.5, 109.19, 109.45, 111.49, 110.27, 110.25, 109.36, 109.25, 109.45, 106.4, 107.52, 105.23, 107.01, 108.2, 108.17, 108.71, 108.29, 108.49, 106.78, 108.69, 108.84, 110.53, 112.01, 112.02, 112.36, 111.49, 112.78, 113.46, 113.39, 112.58, 112.62, 112.51, 113.76, 112.55, 112.25, 112.56, 113.17, 113.82, 113.8, 115.14, 116.24, 115.94, 116.75, 115.89, 116.13, 115.9, 115.47, 115.0, 114.37, 114.36, 115.92, 115.78, 115.47, 116.31, 117.09, 116.2, 116.19, 118.19, 116.0, 115.98, 115.18, 113.42, 114.03, 115.52, 115.31, 116.1, 115.56, 114.61, 112.09, 112.19, 109.26, 109.41, 110.69, 112.39, 111.53, 112.52, 112.59, 112.83, 114.61, 113.48, 115.3, 116.76, 116.98, 117.83, 116.66, 115.96, 116.32, 116.72, 115.13, 115.53, 115.15, 116.64, 116.9, 114.67, 113.19, 109.92, 110.43, 110.49, 112.53, 114.59, 114.85, 116.56, 116.21, 120.85, 122.55, 122.13, 120.61, 122.9, 125.03, 124.41, 122.85, 123.0, 122.43, 124.07, 126.68, 125.92, 124.61, 125.62, 126.46, 126.75, 128.19, 127.44, 127.97, 127.95, 127.62, 127.17, 125.05, 126.77, 126.38, 127.1, 126.45, 125.83, 124.87, 125.79, 126.12, 126.44, 127.0, 128.02], \"yaxis\": \"y\"}, {\"mode\": \"markers\", \"name\": \"tEvents\", \"type\": \"scatter\", \"x\": [\"2020-01-31T00:00:00\", \"2020-02-12T00:00:00\", \"2020-02-24T00:00:00\", \"2020-02-26T00:00:00\", \"2020-02-27T00:00:00\", \"2020-03-02T00:00:00\", \"2020-03-06T00:00:00\", \"2020-03-09T00:00:00\", \"2020-03-11T00:00:00\", \"2020-03-12T00:00:00\", \"2020-03-13T00:00:00\", \"2020-03-16T00:00:00\", \"2020-03-17T00:00:00\", \"2020-03-18T00:00:00\", \"2020-03-23T00:00:00\", \"2020-03-24T00:00:00\", \"2020-03-26T00:00:00\", \"2020-04-01T00:00:00\", \"2020-04-06T00:00:00\", \"2020-04-09T00:00:00\", \"2020-04-27T00:00:00\", \"2020-05-01T00:00:00\", \"2020-05-13T00:00:00\", \"2020-05-18T00:00:00\", \"2020-05-27T00:00:00\", \"2020-06-05T00:00:00\", \"2020-06-11T00:00:00\", \"2020-06-24T00:00:00\", \"2020-07-14T00:00:00\", \"2020-08-10T00:00:00\", \"2020-09-21T00:00:00\", \"2020-10-05T00:00:00\", \"2020-10-28T00:00:00\", \"2020-11-05T00:00:00\", \"2020-11-10T00:00:00\", \"2020-11-24T00:00:00\"], \"y\": [126.65, 131.8, 126.62, 121.48, 116.34, 119.78, 115.22, 105.86, 105.01, 94.5, 102.955, 91.38, 97.17, 91.03, 82.69, 91.0, 98.01, 91.96, 98.52, 105.17, 106.18, 103.56, 100.42, 106.06, 110.38, 117.44, 107.5, 106.4, 110.53, 116.24, 112.09, 114.61, 109.92, 116.56, 122.55, 126.68]}, {\"marker\": {\"color\": [\"green\"], \"size\": [10]}, \"name\": \"First Touch\", \"type\": \"scatter\", \"x\": [\"2020-05-13T00:00:00\"], \"y\": [100.42]}, {\"marker\": {\"color\": [\"green\"], \"size\": [10]}, \"name\": \"First Touch\", \"type\": \"scatter\", \"x\": [\"2020-05-22T00:00:00\"], \"y\": [105.25]}],                        {\"annotations\": [{\"showarrow\": false, \"text\": \"overlap\", \"x\": \"2020-05-13T00:00:00\", \"xanchor\": \"right\", \"xref\": \"x\", \"y\": 1, \"yanchor\": \"top\", \"yref\": \"y domain\"}], \"legend\": {\"title\": {\"text\": \"variable\"}, \"tracegroupgap\": 0}, \"margin\": {\"t\": 60}, \"shapes\": [{\"line\": {\"color\": \"red\", \"width\": 2}, \"type\": \"line\", \"x0\": \"2020-04-27T00:00:00\", \"x1\": \"2020-04-27T00:00:00\", \"y0\": 110.84632290285492, \"y1\": 101.51367709714509}, {\"line\": {\"color\": \"red\", \"width\": 2}, \"type\": \"line\", \"x0\": \"2020-04-27T00:00:00\", \"x1\": \"2020-05-18T00:00:00\", \"y0\": 110.84632290285492, \"y1\": 110.84632290285492}, {\"line\": {\"color\": \"red\", \"width\": 2}, \"type\": \"line\", \"x0\": \"2020-04-27T00:00:00\", \"x1\": \"2020-05-18T00:00:00\", \"y0\": 101.51367709714509, \"y1\": 101.51367709714509}, {\"line\": {\"color\": \"red\", \"width\": 2}, \"type\": \"line\", \"x0\": \"2020-05-18T00:00:00\", \"x1\": \"2020-05-18T00:00:00\", \"y0\": 110.84632290285492, \"y1\": 101.51367709714509}, {\"line\": {\"color\": \"red\", \"dash\": \"dash\", \"width\": 2}, \"type\": \"line\", \"x0\": \"2020-05-13T00:00:00\", \"x1\": \"2020-05-13T00:00:00\", \"y0\": 110.84632290285492, \"y1\": 101.51367709714509}, {\"line\": {\"color\": \"red\", \"width\": 2}, \"type\": \"line\", \"x0\": \"2020-05-01T00:00:00\", \"x1\": \"2020-05-01T00:00:00\", \"y0\": 107.8423268825254, \"y1\": 99.27767311747462}, {\"line\": {\"color\": \"red\", \"width\": 2}, \"type\": \"line\", \"x0\": \"2020-05-01T00:00:00\", \"x1\": \"2020-05-22T00:00:00\", \"y0\": 107.8423268825254, \"y1\": 107.8423268825254}, {\"line\": {\"color\": \"red\", \"width\": 2}, \"type\": \"line\", \"x0\": \"2020-05-01T00:00:00\", \"x1\": \"2020-05-22T00:00:00\", \"y0\": 99.27767311747462, \"y1\": 99.27767311747462}, {\"line\": {\"color\": \"red\", \"width\": 2}, \"type\": \"line\", \"x0\": \"2020-05-22T00:00:00\", \"x1\": \"2020-05-22T00:00:00\", \"y0\": 107.8423268825254, \"y1\": 99.27767311747462}, {\"line\": {\"color\": \"red\", \"dash\": \"dash\", \"width\": 2}, \"type\": \"line\", \"x0\": \"2020-05-22T00:00:00\", \"x1\": \"2020-05-22T00:00:00\", \"y0\": 107.8423268825254, \"y1\": 99.27767311747462}, {\"fillcolor\": \"green\", \"line\": {\"width\": 0}, \"opacity\": 0.25, \"type\": \"rect\", \"x0\": \"2020-05-01T00:00:00\", \"x1\": \"2020-05-13T00:00:00\", \"xref\": \"x\", \"y0\": 0, \"y1\": 1, \"yref\": \"y domain\"}], \"template\": {\"data\": {\"bar\": [{\"error_x\": {\"color\": \"#2a3f5f\"}, \"error_y\": {\"color\": \"#2a3f5f\"}, \"marker\": {\"line\": {\"color\": \"#E5ECF6\", \"width\": 0.5}}, \"type\": \"bar\"}], \"barpolar\": [{\"marker\": {\"line\": {\"color\": \"#E5ECF6\", \"width\": 0.5}}, \"type\": \"barpolar\"}], \"carpet\": [{\"aaxis\": {\"endlinecolor\": \"#2a3f5f\", \"gridcolor\": \"white\", \"linecolor\": \"white\", \"minorgridcolor\": \"white\", \"startlinecolor\": \"#2a3f5f\"}, \"baxis\": {\"endlinecolor\": \"#2a3f5f\", \"gridcolor\": \"white\", \"linecolor\": \"white\", \"minorgridcolor\": \"white\", \"startlinecolor\": \"#2a3f5f\"}, \"type\": \"carpet\"}], \"choropleth\": [{\"colorbar\": {\"outlinewidth\": 0, \"ticks\": \"\"}, \"type\": \"choropleth\"}], \"contour\": [{\"colorbar\": {\"outlinewidth\": 0, \"ticks\": \"\"}, \"colorscale\": [[0.0, \"#0d0887\"], [0.1111111111111111, \"#46039f\"], [0.2222222222222222, \"#7201a8\"], [0.3333333333333333, \"#9c179e\"], [0.4444444444444444, \"#bd3786\"], [0.5555555555555556, \"#d8576b\"], [0.6666666666666666, \"#ed7953\"], [0.7777777777777778, \"#fb9f3a\"], [0.8888888888888888, \"#fdca26\"], [1.0, \"#f0f921\"]], \"type\": \"contour\"}], \"contourcarpet\": [{\"colorbar\": {\"outlinewidth\": 0, \"ticks\": \"\"}, \"type\": \"contourcarpet\"}], \"heatmap\": [{\"colorbar\": {\"outlinewidth\": 0, \"ticks\": \"\"}, \"colorscale\": [[0.0, \"#0d0887\"], [0.1111111111111111, \"#46039f\"], [0.2222222222222222, \"#7201a8\"], [0.3333333333333333, \"#9c179e\"], [0.4444444444444444, \"#bd3786\"], [0.5555555555555556, \"#d8576b\"], [0.6666666666666666, \"#ed7953\"], [0.7777777777777778, \"#fb9f3a\"], [0.8888888888888888, \"#fdca26\"], [1.0, \"#f0f921\"]], \"type\": \"heatmap\"}], \"heatmapgl\": [{\"colorbar\": {\"outlinewidth\": 0, \"ticks\": \"\"}, \"colorscale\": [[0.0, \"#0d0887\"], [0.1111111111111111, \"#46039f\"], [0.2222222222222222, \"#7201a8\"], [0.3333333333333333, \"#9c179e\"], [0.4444444444444444, \"#bd3786\"], [0.5555555555555556, \"#d8576b\"], [0.6666666666666666, \"#ed7953\"], [0.7777777777777778, \"#fb9f3a\"], [0.8888888888888888, \"#fdca26\"], [1.0, \"#f0f921\"]], \"type\": \"heatmapgl\"}], \"histogram\": [{\"marker\": {\"colorbar\": {\"outlinewidth\": 0, \"ticks\": \"\"}}, \"type\": \"histogram\"}], \"histogram2d\": [{\"colorbar\": {\"outlinewidth\": 0, \"ticks\": \"\"}, \"colorscale\": [[0.0, \"#0d0887\"], [0.1111111111111111, \"#46039f\"], [0.2222222222222222, \"#7201a8\"], [0.3333333333333333, \"#9c179e\"], [0.4444444444444444, \"#bd3786\"], [0.5555555555555556, \"#d8576b\"], [0.6666666666666666, \"#ed7953\"], [0.7777777777777778, \"#fb9f3a\"], [0.8888888888888888, \"#fdca26\"], [1.0, \"#f0f921\"]], \"type\": \"histogram2d\"}], \"histogram2dcontour\": [{\"colorbar\": {\"outlinewidth\": 0, \"ticks\": \"\"}, \"colorscale\": [[0.0, \"#0d0887\"], [0.1111111111111111, \"#46039f\"], [0.2222222222222222, \"#7201a8\"], [0.3333333333333333, \"#9c179e\"], [0.4444444444444444, \"#bd3786\"], [0.5555555555555556, \"#d8576b\"], [0.6666666666666666, \"#ed7953\"], [0.7777777777777778, \"#fb9f3a\"], [0.8888888888888888, \"#fdca26\"], [1.0, \"#f0f921\"]], \"type\": \"histogram2dcontour\"}], \"mesh3d\": [{\"colorbar\": {\"outlinewidth\": 0, \"ticks\": \"\"}, \"type\": \"mesh3d\"}], \"parcoords\": [{\"line\": {\"colorbar\": {\"outlinewidth\": 0, \"ticks\": \"\"}}, \"type\": \"parcoords\"}], \"pie\": [{\"automargin\": true, \"type\": \"pie\"}], \"scatter\": [{\"marker\": {\"colorbar\": {\"outlinewidth\": 0, \"ticks\": \"\"}}, \"type\": \"scatter\"}], \"scatter3d\": [{\"line\": {\"colorbar\": {\"outlinewidth\": 0, \"ticks\": \"\"}}, \"marker\": {\"colorbar\": {\"outlinewidth\": 0, \"ticks\": \"\"}}, \"type\": \"scatter3d\"}], \"scattercarpet\": [{\"marker\": {\"colorbar\": {\"outlinewidth\": 0, \"ticks\": \"\"}}, \"type\": \"scattercarpet\"}], \"scattergeo\": [{\"marker\": {\"colorbar\": {\"outlinewidth\": 0, \"ticks\": \"\"}}, \"type\": \"scattergeo\"}], \"scattergl\": [{\"marker\": {\"colorbar\": {\"outlinewidth\": 0, \"ticks\": \"\"}}, \"type\": \"scattergl\"}], \"scattermapbox\": [{\"marker\": {\"colorbar\": {\"outlinewidth\": 0, \"ticks\": \"\"}}, \"type\": \"scattermapbox\"}], \"scatterpolar\": [{\"marker\": {\"colorbar\": {\"outlinewidth\": 0, \"ticks\": \"\"}}, \"type\": \"scatterpolar\"}], \"scatterpolargl\": [{\"marker\": {\"colorbar\": {\"outlinewidth\": 0, \"ticks\": \"\"}}, \"type\": \"scatterpolargl\"}], \"scatterternary\": [{\"marker\": {\"colorbar\": {\"outlinewidth\": 0, \"ticks\": \"\"}}, \"type\": \"scatterternary\"}], \"surface\": [{\"colorbar\": {\"outlinewidth\": 0, \"ticks\": \"\"}, \"colorscale\": [[0.0, \"#0d0887\"], [0.1111111111111111, \"#46039f\"], [0.2222222222222222, \"#7201a8\"], [0.3333333333333333, \"#9c179e\"], [0.4444444444444444, \"#bd3786\"], [0.5555555555555556, \"#d8576b\"], [0.6666666666666666, \"#ed7953\"], [0.7777777777777778, \"#fb9f3a\"], [0.8888888888888888, \"#fdca26\"], [1.0, \"#f0f921\"]], \"type\": \"surface\"}], \"table\": [{\"cells\": {\"fill\": {\"color\": \"#EBF0F8\"}, \"line\": {\"color\": \"white\"}}, \"header\": {\"fill\": {\"color\": \"#C8D4E3\"}, \"line\": {\"color\": \"white\"}}, \"type\": \"table\"}]}, \"layout\": {\"annotationdefaults\": {\"arrowcolor\": \"#2a3f5f\", \"arrowhead\": 0, \"arrowwidth\": 1}, \"autotypenumbers\": \"strict\", \"coloraxis\": {\"colorbar\": {\"outlinewidth\": 0, \"ticks\": \"\"}}, \"colorscale\": {\"diverging\": [[0, \"#8e0152\"], [0.1, \"#c51b7d\"], [0.2, \"#de77ae\"], [0.3, \"#f1b6da\"], [0.4, \"#fde0ef\"], [0.5, \"#f7f7f7\"], [0.6, \"#e6f5d0\"], [0.7, \"#b8e186\"], [0.8, \"#7fbc41\"], [0.9, \"#4d9221\"], [1, \"#276419\"]], \"sequential\": [[0.0, \"#0d0887\"], [0.1111111111111111, \"#46039f\"], [0.2222222222222222, \"#7201a8\"], [0.3333333333333333, \"#9c179e\"], [0.4444444444444444, \"#bd3786\"], [0.5555555555555556, \"#d8576b\"], [0.6666666666666666, \"#ed7953\"], [0.7777777777777778, \"#fb9f3a\"], [0.8888888888888888, \"#fdca26\"], [1.0, \"#f0f921\"]], \"sequentialminus\": [[0.0, \"#0d0887\"], [0.1111111111111111, \"#46039f\"], [0.2222222222222222, \"#7201a8\"], [0.3333333333333333, \"#9c179e\"], [0.4444444444444444, \"#bd3786\"], [0.5555555555555556, \"#d8576b\"], [0.6666666666666666, \"#ed7953\"], [0.7777777777777778, \"#fb9f3a\"], [0.8888888888888888, \"#fdca26\"], [1.0, \"#f0f921\"]]}, \"colorway\": [\"#636efa\", \"#EF553B\", \"#00cc96\", \"#ab63fa\", \"#FFA15A\", \"#19d3f3\", \"#FF6692\", \"#B6E880\", \"#FF97FF\", \"#FECB52\"], \"font\": {\"color\": \"#2a3f5f\"}, \"geo\": {\"bgcolor\": \"white\", \"lakecolor\": \"white\", \"landcolor\": \"#E5ECF6\", \"showlakes\": true, \"showland\": true, \"subunitcolor\": \"white\"}, \"hoverlabel\": {\"align\": \"left\"}, \"hovermode\": \"closest\", \"mapbox\": {\"style\": \"light\"}, \"paper_bgcolor\": \"white\", \"plot_bgcolor\": \"#E5ECF6\", \"polar\": {\"angularaxis\": {\"gridcolor\": \"white\", \"linecolor\": \"white\", \"ticks\": \"\"}, \"bgcolor\": \"#E5ECF6\", \"radialaxis\": {\"gridcolor\": \"white\", \"linecolor\": \"white\", \"ticks\": \"\"}}, \"scene\": {\"xaxis\": {\"backgroundcolor\": \"#E5ECF6\", \"gridcolor\": \"white\", \"gridwidth\": 2, \"linecolor\": \"white\", \"showbackground\": true, \"ticks\": \"\", \"zerolinecolor\": \"white\"}, \"yaxis\": {\"backgroundcolor\": \"#E5ECF6\", \"gridcolor\": \"white\", \"gridwidth\": 2, \"linecolor\": \"white\", \"showbackground\": true, \"ticks\": \"\", \"zerolinecolor\": \"white\"}, \"zaxis\": {\"backgroundcolor\": \"#E5ECF6\", \"gridcolor\": \"white\", \"gridwidth\": 2, \"linecolor\": \"white\", \"showbackground\": true, \"ticks\": \"\", \"zerolinecolor\": \"white\"}}, \"shapedefaults\": {\"line\": {\"color\": \"#2a3f5f\"}}, \"ternary\": {\"aaxis\": {\"gridcolor\": \"white\", \"linecolor\": \"white\", \"ticks\": \"\"}, \"baxis\": {\"gridcolor\": \"white\", \"linecolor\": \"white\", \"ticks\": \"\"}, \"bgcolor\": \"#E5ECF6\", \"caxis\": {\"gridcolor\": \"white\", \"linecolor\": \"white\", \"ticks\": \"\"}}, \"title\": {\"x\": 0.05}, \"xaxis\": {\"automargin\": true, \"gridcolor\": \"white\", \"linecolor\": \"white\", \"ticks\": \"\", \"title\": {\"standoff\": 15}, \"zerolinecolor\": \"white\", \"zerolinewidth\": 2}, \"yaxis\": {\"automargin\": true, \"gridcolor\": \"white\", \"linecolor\": \"white\", \"ticks\": \"\", \"title\": {\"standoff\": 15}, \"zerolinecolor\": \"white\", \"zerolinewidth\": 2}}}, \"xaxis\": {\"anchor\": \"y\", \"domain\": [0.0, 1.0], \"title\": {\"text\": \"dates\"}}, \"yaxis\": {\"anchor\": \"x\", \"domain\": [0.0, 1.0], \"title\": {\"text\": \"value\"}}},                        {\"responsive\": true}                    ).then(function(){\n",
              "                            \n",
              "var gd = document.getElementById('79f6c774-826f-4f37-b81c-341898e5e49a');\n",
              "var x = new MutationObserver(function (mutations, observer) {{\n",
              "        var display = window.getComputedStyle(gd).display;\n",
              "        if (!display || display === 'none') {{\n",
              "            console.log([gd, 'removed!']);\n",
              "            Plotly.purge(gd);\n",
              "            observer.disconnect();\n",
              "        }}\n",
              "}});\n",
              "\n",
              "// Listen for the removal of the full notebook cells\n",
              "var notebookContainer = gd.closest('#notebook-container');\n",
              "if (notebookContainer) {{\n",
              "    x.observe(notebookContainer, {childList: true});\n",
              "}}\n",
              "\n",
              "// Listen for the clearing of the current output cell\n",
              "var outputEl = gd.closest('.output');\n",
              "if (outputEl) {{\n",
              "    x.observe(outputEl, {childList: true});\n",
              "}}\n",
              "\n",
              "                        })                };                            </script>        </div>\n",
              "</body>\n",
              "</html>"
            ]
          },
          "metadata": {
            "tags": []
          }
        }
      ]
    },
    {
      "cell_type": "markdown",
      "metadata": {
        "id": "FjZxBgEJR0x9"
      },
      "source": [
        "SNIPPET 4.1 ESTIMATING THE UNIQUENESS OF A LABEL\n",
        "\n",
        "Compute the number of concurrent events per bar\n",
        "* closeIdx: pd.DataFrame, the index of the close price\n",
        "* t1: pd series, timestamps of the vertical barriers. (index: eventStart, value: eventEnd).\n",
        "* molecule: the date of the event on which the weight will be computed\n",
        "  - molecule[0] is the date of the first event on which the weight will be computed\n",
        "  - molecule[-1] is the date of the last event on which the weight will be computed\n",
        "    \n",
        "Any event that starts before t1[molecule].max() impacts the count\n",
        "\n",
        "The function returns:\n",
        "* count: pd.Series, the number of concurrent event per bar"
      ]
    },
    {
      "cell_type": "code",
      "metadata": {
        "id": "FKZOUiaBRScd"
      },
      "source": [
        "def mpNumCoEvents(closeIdx, t1, molecule):\n",
        "    # 1) Find events that span the period [molecule[0], molecule[-1]]\n",
        "    # unclosed events still impact other weights\n",
        "    # fill the unclosed events with the last available (index) date\n",
        "    t1 = t1.fillna(closeIdx[-1]) \n",
        "    # events that end at or after molecule[0] (the first event date)\n",
        "    t1 = t1[t1 >= molecule[0]]\n",
        "    # events that start at or before t1[molecule].max() which is the furthest stop date in the batch\n",
        "    t1 = t1.loc[ : t1[molecule].max()]\n",
        "\n",
        "    # 2) Count events spanning a bar\n",
        "    # find the indices begining start date ([t1.index[0]) and the furthest stop date (t1.max())\n",
        "    iloc = closeIdx.searchsorted(np.array([t1.index[0], t1.max()]))\n",
        "    # form a 0-array, index: from the begining start date to the furthest stop date\n",
        "    count = pd.Series(0, index = closeIdx[iloc[0] : iloc[1] + 1])\n",
        "    # for each signal t1 (index: eventStart, value: eventEnd)\n",
        "    for tIn, tOut in t1.iteritems():\n",
        "        # add 1 if and only if [t_(i,0), t_(i.1)] overlaps with [t-1,t]\n",
        "        count.loc[tIn : tOut] += 1 # every timestamp between tIn and tOut\n",
        "    # compute the number of labels concurrents at t\n",
        "    return count.loc[molecule[0] : t1[molecule].max()] # only return the timespan of the molecule"
      ],
      "execution_count": null,
      "outputs": []
    },
    {
      "cell_type": "code",
      "metadata": {
        "colab": {
          "base_uri": "https://localhost:8080/",
          "height": 542
        },
        "id": "I222Ru0edD3R",
        "outputId": "1bf74859-2e43-453b-e1e9-4c5f9dbc9931"
      },
      "source": [
        "count = mpNumCoEvents(closeIdx=close.index, t1=events['t1'], molecule=tEvents)\n",
        "\n",
        "fig = make_subplots(specs=[[{\"secondary_y\": True}]])\n",
        "fig.add_trace(go.Scatter(x=close.index, y=close.values, mode=\"lines\", marker=dict(color='blue'), name=\"close\"), secondary_y=False) \n",
        "fig.add_trace(go.Scatter(x=tEvents, y=close[tEvents], mode=\"markers\", marker=dict(color='red'), name=\"tEvents 10\"), secondary_y=False)\n",
        "fig.add_trace(go.Scatter(x=count.index, y=count.values, mode=\"lines\", marker=dict(color='red'), name=\"t10 counts\"), secondary_y=True) \n",
        "#fig, t21, t22 = add_box(close, events, fig, i=21)\n",
        "fig.update_yaxes(title_text=\"Price\", secondary_y=False)\n",
        "fig.update_yaxes(title_text=\"Count\", secondary_y=True)\n",
        "fig.show()"
      ],
      "execution_count": null,
      "outputs": [
        {
          "output_type": "display_data",
          "data": {
            "text/html": [
              "<html>\n",
              "<head><meta charset=\"utf-8\" /></head>\n",
              "<body>\n",
              "    <div>            <script src=\"https://cdnjs.cloudflare.com/ajax/libs/mathjax/2.7.5/MathJax.js?config=TeX-AMS-MML_SVG\"></script><script type=\"text/javascript\">if (window.MathJax) {MathJax.Hub.Config({SVG: {font: \"STIX-Web\"}});}</script>                <script type=\"text/javascript\">window.PlotlyConfig = {MathJaxConfig: 'local'};</script>\n",
              "        <script src=\"https://cdn.plot.ly/plotly-latest.min.js\"></script>                <div id=\"c12e9484-0e9e-45c8-8533-4560ba882f7d\" class=\"plotly-graph-div\" style=\"height:525px; width:100%;\"></div>            <script type=\"text/javascript\">                                    window.PLOTLYENV=window.PLOTLYENV || {};                                    if (document.getElementById(\"c12e9484-0e9e-45c8-8533-4560ba882f7d\")) {                    Plotly.newPlot(                        \"c12e9484-0e9e-45c8-8533-4560ba882f7d\",                        [{\"marker\": {\"color\": \"blue\"}, \"mode\": \"lines\", \"name\": \"close\", \"type\": \"scatter\", \"x\": [\"2020-01-03T00:00:00\", \"2020-01-06T00:00:00\", \"2020-01-07T00:00:00\", \"2020-01-08T00:00:00\", \"2020-01-09T00:00:00\", \"2020-01-10T00:00:00\", \"2020-01-13T00:00:00\", \"2020-01-14T00:00:00\", \"2020-01-15T00:00:00\", \"2020-01-16T00:00:00\", \"2020-01-17T00:00:00\", \"2020-01-22T00:00:00\", \"2020-01-23T00:00:00\", \"2020-01-24T00:00:00\", \"2020-01-27T00:00:00\", \"2020-01-28T00:00:00\", \"2020-01-29T00:00:00\", \"2020-01-30T00:00:00\", \"2020-01-31T00:00:00\", \"2020-02-03T00:00:00\", \"2020-02-04T00:00:00\", \"2020-02-05T00:00:00\", \"2020-02-06T00:00:00\", \"2020-02-07T00:00:00\", \"2020-02-10T00:00:00\", \"2020-02-11T00:00:00\", \"2020-02-12T00:00:00\", \"2020-02-13T00:00:00\", \"2020-02-14T00:00:00\", \"2020-02-19T00:00:00\", \"2020-02-20T00:00:00\", \"2020-02-21T00:00:00\", \"2020-02-24T00:00:00\", \"2020-02-25T00:00:00\", \"2020-02-26T00:00:00\", \"2020-02-27T00:00:00\", \"2020-02-28T00:00:00\", \"2020-03-02T00:00:00\", \"2020-03-03T00:00:00\", \"2020-03-04T00:00:00\", \"2020-03-05T00:00:00\", \"2020-03-06T00:00:00\", \"2020-03-09T00:00:00\", \"2020-03-10T00:00:00\", \"2020-03-11T00:00:00\", \"2020-03-12T00:00:00\", \"2020-03-13T00:00:00\", \"2020-03-16T00:00:00\", \"2020-03-17T00:00:00\", \"2020-03-18T00:00:00\", \"2020-03-19T00:00:00\", \"2020-03-20T00:00:00\", \"2020-03-23T00:00:00\", \"2020-03-24T00:00:00\", \"2020-03-25T00:00:00\", \"2020-03-26T00:00:00\", \"2020-03-27T00:00:00\", \"2020-03-30T00:00:00\", \"2020-03-31T00:00:00\", \"2020-04-01T00:00:00\", \"2020-04-02T00:00:00\", \"2020-04-03T00:00:00\", \"2020-04-06T00:00:00\", \"2020-04-07T00:00:00\", \"2020-04-08T00:00:00\", \"2020-04-09T00:00:00\", \"2020-04-14T00:00:00\", \"2020-04-15T00:00:00\", \"2020-04-16T00:00:00\", \"2020-04-17T00:00:00\", \"2020-04-20T00:00:00\", \"2020-04-21T00:00:00\", \"2020-04-22T00:00:00\", \"2020-04-23T00:00:00\", \"2020-04-24T00:00:00\", \"2020-04-27T00:00:00\", \"2020-04-28T00:00:00\", \"2020-04-29T00:00:00\", \"2020-04-30T00:00:00\", \"2020-05-01T00:00:00\", \"2020-05-04T00:00:00\", \"2020-05-05T00:00:00\", \"2020-05-06T00:00:00\", \"2020-05-07T00:00:00\", \"2020-05-08T00:00:00\", \"2020-05-11T00:00:00\", \"2020-05-12T00:00:00\", \"2020-05-13T00:00:00\", \"2020-05-14T00:00:00\", \"2020-05-15T00:00:00\", \"2020-05-18T00:00:00\", \"2020-05-19T00:00:00\", \"2020-05-20T00:00:00\", \"2020-05-21T00:00:00\", \"2020-05-22T00:00:00\", \"2020-05-27T00:00:00\", \"2020-05-28T00:00:00\", \"2020-05-29T00:00:00\", \"2020-06-01T00:00:00\", \"2020-06-02T00:00:00\", \"2020-06-03T00:00:00\", \"2020-06-04T00:00:00\", \"2020-06-05T00:00:00\", \"2020-06-08T00:00:00\", \"2020-06-09T00:00:00\", \"2020-06-10T00:00:00\", \"2020-06-11T00:00:00\", \"2020-06-12T00:00:00\", \"2020-06-15T00:00:00\", \"2020-06-16T00:00:00\", \"2020-06-17T00:00:00\", \"2020-06-18T00:00:00\", \"2020-06-19T00:00:00\", \"2020-06-22T00:00:00\", \"2020-06-23T00:00:00\", \"2020-06-24T00:00:00\", \"2020-06-25T00:00:00\", \"2020-06-26T00:00:00\", \"2020-06-29T00:00:00\", \"2020-06-30T00:00:00\", \"2020-07-01T00:00:00\", \"2020-07-02T00:00:00\", \"2020-07-07T00:00:00\", \"2020-07-08T00:00:00\", \"2020-07-09T00:00:00\", \"2020-07-10T00:00:00\", \"2020-07-13T00:00:00\", \"2020-07-14T00:00:00\", \"2020-07-15T00:00:00\", \"2020-07-16T00:00:00\", \"2020-07-17T00:00:00\", \"2020-07-20T00:00:00\", \"2020-07-21T00:00:00\", \"2020-07-22T00:00:00\", \"2020-07-23T00:00:00\", \"2020-07-24T00:00:00\", \"2020-07-27T00:00:00\", \"2020-07-28T00:00:00\", \"2020-07-29T00:00:00\", \"2020-07-30T00:00:00\", \"2020-07-31T00:00:00\", \"2020-08-03T00:00:00\", \"2020-08-04T00:00:00\", \"2020-08-05T00:00:00\", \"2020-08-06T00:00:00\", \"2020-08-07T00:00:00\", \"2020-08-10T00:00:00\", \"2020-08-11T00:00:00\", \"2020-08-12T00:00:00\", \"2020-08-13T00:00:00\", \"2020-08-14T00:00:00\", \"2020-08-17T00:00:00\", \"2020-08-18T00:00:00\", \"2020-08-19T00:00:00\", \"2020-08-20T00:00:00\", \"2020-08-21T00:00:00\", \"2020-08-24T00:00:00\", \"2020-08-25T00:00:00\", \"2020-08-26T00:00:00\", \"2020-08-27T00:00:00\", \"2020-08-28T00:00:00\", \"2020-08-31T00:00:00\", \"2020-09-01T00:00:00\", \"2020-09-02T00:00:00\", \"2020-09-03T00:00:00\", \"2020-09-04T00:00:00\", \"2020-09-09T00:00:00\", \"2020-09-10T00:00:00\", \"2020-09-11T00:00:00\", \"2020-09-14T00:00:00\", \"2020-09-15T00:00:00\", \"2020-09-16T00:00:00\", \"2020-09-17T00:00:00\", \"2020-09-18T00:00:00\", \"2020-09-21T00:00:00\", \"2020-09-22T00:00:00\", \"2020-09-23T00:00:00\", \"2020-09-24T00:00:00\", \"2020-09-25T00:00:00\", \"2020-09-28T00:00:00\", \"2020-09-29T00:00:00\", \"2020-09-30T00:00:00\", \"2020-10-01T00:00:00\", \"2020-10-02T00:00:00\", \"2020-10-05T00:00:00\", \"2020-10-06T00:00:00\", \"2020-10-07T00:00:00\", \"2020-10-08T00:00:00\", \"2020-10-09T00:00:00\", \"2020-10-12T00:00:00\", \"2020-10-13T00:00:00\", \"2020-10-14T00:00:00\", \"2020-10-15T00:00:00\", \"2020-10-16T00:00:00\", \"2020-10-19T00:00:00\", \"2020-10-20T00:00:00\", \"2020-10-21T00:00:00\", \"2020-10-22T00:00:00\", \"2020-10-23T00:00:00\", \"2020-10-26T00:00:00\", \"2020-10-27T00:00:00\", \"2020-10-28T00:00:00\", \"2020-10-29T00:00:00\", \"2020-10-30T00:00:00\", \"2020-11-02T00:00:00\", \"2020-11-03T00:00:00\", \"2020-11-04T00:00:00\", \"2020-11-05T00:00:00\", \"2020-11-06T00:00:00\", \"2020-11-09T00:00:00\", \"2020-11-10T00:00:00\", \"2020-11-11T00:00:00\", \"2020-11-12T00:00:00\", \"2020-11-13T00:00:00\", \"2020-11-16T00:00:00\", \"2020-11-17T00:00:00\", \"2020-11-18T00:00:00\", \"2020-11-19T00:00:00\", \"2020-11-20T00:00:00\", \"2020-11-23T00:00:00\", \"2020-11-24T00:00:00\", \"2020-11-25T00:00:00\", \"2020-11-30T00:00:00\", \"2020-12-01T00:00:00\", \"2020-12-02T00:00:00\", \"2020-12-03T00:00:00\", \"2020-12-04T00:00:00\", \"2020-12-07T00:00:00\", \"2020-12-08T00:00:00\", \"2020-12-09T00:00:00\", \"2020-12-10T00:00:00\", \"2020-12-11T00:00:00\", \"2020-12-14T00:00:00\", \"2020-12-15T00:00:00\", \"2020-12-16T00:00:00\", \"2020-12-17T00:00:00\", \"2020-12-18T00:00:00\", \"2020-12-21T00:00:00\", \"2020-12-22T00:00:00\", \"2020-12-23T00:00:00\", \"2020-12-24T00:00:00\", \"2020-12-29T00:00:00\", \"2020-12-30T00:00:00\", \"2020-12-31T00:00:00\"], \"xaxis\": \"x\", \"y\": [129.64, 129.8952, 129.38, 129.76, 130.3168, 129.87, 130.305, 130.48, 130.63, 131.57, 131.78, 131.31, 131.31, 130.06, 128.24, 129.05, 128.47, 128.96, 126.65, 127.08, 128.6, 130.92, 130.97, 130.22, 130.58, 131.16, 131.8, 131.55, 131.45, 131.33, 131.22, 130.63, 126.62, 122.61, 121.48, 116.34, 114.63, 119.78, 116.45, 121.32, 117.32, 115.22, 105.86, 110.57, 105.01, 94.5, 102.955, 91.38, 97.17, 91.03, 90.68, 86.41, 82.69, 91.0, 92.13, 98.01, 95.27, 98.02, 96.24, 91.96, 94.19, 92.74, 98.52, 98.91, 102.91, 105.17, 105.4, 102.43, 102.315, 106.05, 103.86, 101.05, 102.67, 102.695, 104.01, 106.18, 106.64, 108.72, 106.45, 103.56, 103.51, 103.98, 102.39, 103.38, 105.63, 104.93, 102.77, 100.42, 101.93, 101.93, 106.06, 104.31, 105.89, 105.22, 105.25, 110.38, 109.91, 109.95, 110.32, 111.39, 113.52, 114.03, 117.44, 119.69, 117.4, 114.97, 107.5, 109.19, 109.45, 111.49, 110.27, 110.25, 109.36, 109.25, 109.45, 106.4, 107.52, 105.23, 107.01, 108.2, 108.17, 108.71, 108.29, 108.49, 106.78, 108.69, 108.84, 110.53, 112.01, 112.02, 112.36, 111.49, 112.78, 113.46, 113.39, 112.58, 112.62, 112.51, 113.76, 112.55, 112.25, 112.56, 113.17, 113.82, 113.8, 115.14, 116.24, 115.94, 116.75, 115.89, 116.13, 115.9, 115.47, 115.0, 114.37, 114.36, 115.92, 115.78, 115.47, 116.31, 117.09, 116.2, 116.19, 118.19, 116.0, 115.98, 115.18, 113.42, 114.03, 115.52, 115.31, 116.1, 115.56, 114.61, 112.09, 112.19, 109.26, 109.41, 110.69, 112.39, 111.53, 112.52, 112.59, 112.83, 114.61, 113.48, 115.3, 116.76, 116.98, 117.83, 116.66, 115.96, 116.32, 116.72, 115.13, 115.53, 115.15, 116.64, 116.9, 114.67, 113.19, 109.92, 110.43, 110.49, 112.53, 114.59, 114.85, 116.56, 116.21, 120.85, 122.55, 122.13, 120.61, 122.9, 125.03, 124.41, 122.85, 123.0, 122.43, 124.07, 126.68, 125.92, 124.61, 125.62, 126.46, 126.75, 128.19, 127.44, 127.97, 127.95, 127.62, 127.17, 125.05, 126.77, 126.38, 127.1, 126.45, 125.83, 124.87, 125.79, 126.12, 126.44, 127.0, 128.02], \"yaxis\": \"y\"}, {\"marker\": {\"color\": \"red\"}, \"mode\": \"markers\", \"name\": \"tEvents 10\", \"type\": \"scatter\", \"x\": [\"2020-01-31T00:00:00\", \"2020-02-12T00:00:00\", \"2020-02-24T00:00:00\", \"2020-02-26T00:00:00\", \"2020-02-27T00:00:00\", \"2020-03-02T00:00:00\", \"2020-03-06T00:00:00\", \"2020-03-09T00:00:00\", \"2020-03-11T00:00:00\", \"2020-03-12T00:00:00\", \"2020-03-13T00:00:00\", \"2020-03-16T00:00:00\", \"2020-03-17T00:00:00\", \"2020-03-18T00:00:00\", \"2020-03-23T00:00:00\", \"2020-03-24T00:00:00\", \"2020-03-26T00:00:00\", \"2020-04-01T00:00:00\", \"2020-04-06T00:00:00\", \"2020-04-09T00:00:00\", \"2020-04-27T00:00:00\", \"2020-05-01T00:00:00\", \"2020-05-13T00:00:00\", \"2020-05-18T00:00:00\", \"2020-05-27T00:00:00\", \"2020-06-05T00:00:00\", \"2020-06-11T00:00:00\", \"2020-06-24T00:00:00\", \"2020-07-14T00:00:00\", \"2020-08-10T00:00:00\", \"2020-09-21T00:00:00\", \"2020-10-05T00:00:00\", \"2020-10-28T00:00:00\", \"2020-11-05T00:00:00\", \"2020-11-10T00:00:00\", \"2020-11-24T00:00:00\"], \"xaxis\": \"x\", \"y\": [126.65, 131.8, 126.62, 121.48, 116.34, 119.78, 115.22, 105.86, 105.01, 94.5, 102.955, 91.38, 97.17, 91.03, 82.69, 91.0, 98.01, 91.96, 98.52, 105.17, 106.18, 103.56, 100.42, 106.06, 110.38, 117.44, 107.5, 106.4, 110.53, 116.24, 112.09, 114.61, 109.92, 116.56, 122.55, 126.68], \"yaxis\": \"y\"}, {\"marker\": {\"color\": \"red\"}, \"mode\": \"lines\", \"name\": \"t10 counts\", \"type\": \"scatter\", \"x\": [\"2020-01-31T00:00:00\", \"2020-02-03T00:00:00\", \"2020-02-04T00:00:00\", \"2020-02-05T00:00:00\", \"2020-02-06T00:00:00\", \"2020-02-07T00:00:00\", \"2020-02-10T00:00:00\", \"2020-02-11T00:00:00\", \"2020-02-12T00:00:00\", \"2020-02-13T00:00:00\", \"2020-02-14T00:00:00\", \"2020-02-19T00:00:00\", \"2020-02-20T00:00:00\", \"2020-02-21T00:00:00\", \"2020-02-24T00:00:00\", \"2020-02-25T00:00:00\", \"2020-02-26T00:00:00\", \"2020-02-27T00:00:00\", \"2020-02-28T00:00:00\", \"2020-03-02T00:00:00\", \"2020-03-03T00:00:00\", \"2020-03-04T00:00:00\", \"2020-03-05T00:00:00\", \"2020-03-06T00:00:00\", \"2020-03-09T00:00:00\", \"2020-03-10T00:00:00\", \"2020-03-11T00:00:00\", \"2020-03-12T00:00:00\", \"2020-03-13T00:00:00\", \"2020-03-16T00:00:00\", \"2020-03-17T00:00:00\", \"2020-03-18T00:00:00\", \"2020-03-19T00:00:00\", \"2020-03-20T00:00:00\", \"2020-03-23T00:00:00\", \"2020-03-24T00:00:00\", \"2020-03-25T00:00:00\", \"2020-03-26T00:00:00\", \"2020-03-27T00:00:00\", \"2020-03-30T00:00:00\", \"2020-03-31T00:00:00\", \"2020-04-01T00:00:00\", \"2020-04-02T00:00:00\", \"2020-04-03T00:00:00\", \"2020-04-06T00:00:00\", \"2020-04-07T00:00:00\", \"2020-04-08T00:00:00\", \"2020-04-09T00:00:00\", \"2020-04-14T00:00:00\", \"2020-04-15T00:00:00\", \"2020-04-16T00:00:00\", \"2020-04-17T00:00:00\", \"2020-04-20T00:00:00\", \"2020-04-21T00:00:00\", \"2020-04-22T00:00:00\", \"2020-04-23T00:00:00\", \"2020-04-24T00:00:00\", \"2020-04-27T00:00:00\", \"2020-04-28T00:00:00\", \"2020-04-29T00:00:00\", \"2020-04-30T00:00:00\", \"2020-05-01T00:00:00\", \"2020-05-04T00:00:00\", \"2020-05-05T00:00:00\", \"2020-05-06T00:00:00\", \"2020-05-07T00:00:00\", \"2020-05-08T00:00:00\", \"2020-05-11T00:00:00\", \"2020-05-12T00:00:00\", \"2020-05-13T00:00:00\", \"2020-05-14T00:00:00\", \"2020-05-15T00:00:00\", \"2020-05-18T00:00:00\", \"2020-05-19T00:00:00\", \"2020-05-20T00:00:00\", \"2020-05-21T00:00:00\", \"2020-05-22T00:00:00\", \"2020-05-27T00:00:00\", \"2020-05-28T00:00:00\", \"2020-05-29T00:00:00\", \"2020-06-01T00:00:00\", \"2020-06-02T00:00:00\", \"2020-06-03T00:00:00\", \"2020-06-04T00:00:00\", \"2020-06-05T00:00:00\", \"2020-06-08T00:00:00\", \"2020-06-09T00:00:00\", \"2020-06-10T00:00:00\", \"2020-06-11T00:00:00\", \"2020-06-12T00:00:00\", \"2020-06-15T00:00:00\", \"2020-06-16T00:00:00\", \"2020-06-17T00:00:00\", \"2020-06-18T00:00:00\", \"2020-06-19T00:00:00\", \"2020-06-22T00:00:00\", \"2020-06-23T00:00:00\", \"2020-06-24T00:00:00\", \"2020-06-25T00:00:00\", \"2020-06-26T00:00:00\", \"2020-06-29T00:00:00\", \"2020-06-30T00:00:00\", \"2020-07-01T00:00:00\", \"2020-07-02T00:00:00\", \"2020-07-07T00:00:00\", \"2020-07-08T00:00:00\", \"2020-07-09T00:00:00\", \"2020-07-10T00:00:00\", \"2020-07-13T00:00:00\", \"2020-07-14T00:00:00\", \"2020-07-15T00:00:00\", \"2020-07-16T00:00:00\", \"2020-07-17T00:00:00\", \"2020-07-20T00:00:00\", \"2020-07-21T00:00:00\", \"2020-07-22T00:00:00\", \"2020-07-23T00:00:00\", \"2020-07-24T00:00:00\", \"2020-07-27T00:00:00\", \"2020-07-28T00:00:00\", \"2020-07-29T00:00:00\", \"2020-07-30T00:00:00\", \"2020-07-31T00:00:00\", \"2020-08-03T00:00:00\", \"2020-08-04T00:00:00\", \"2020-08-05T00:00:00\", \"2020-08-06T00:00:00\", \"2020-08-07T00:00:00\", \"2020-08-10T00:00:00\", \"2020-08-11T00:00:00\", \"2020-08-12T00:00:00\", \"2020-08-13T00:00:00\", \"2020-08-14T00:00:00\", \"2020-08-17T00:00:00\", \"2020-08-18T00:00:00\", \"2020-08-19T00:00:00\", \"2020-08-20T00:00:00\", \"2020-08-21T00:00:00\", \"2020-08-24T00:00:00\", \"2020-08-25T00:00:00\", \"2020-08-26T00:00:00\", \"2020-08-27T00:00:00\", \"2020-08-28T00:00:00\", \"2020-08-31T00:00:00\", \"2020-09-01T00:00:00\", \"2020-09-02T00:00:00\", \"2020-09-03T00:00:00\", \"2020-09-04T00:00:00\", \"2020-09-09T00:00:00\", \"2020-09-10T00:00:00\", \"2020-09-11T00:00:00\", \"2020-09-14T00:00:00\", \"2020-09-15T00:00:00\", \"2020-09-16T00:00:00\", \"2020-09-17T00:00:00\", \"2020-09-18T00:00:00\", \"2020-09-21T00:00:00\", \"2020-09-22T00:00:00\", \"2020-09-23T00:00:00\", \"2020-09-24T00:00:00\", \"2020-09-25T00:00:00\", \"2020-09-28T00:00:00\", \"2020-09-29T00:00:00\", \"2020-09-30T00:00:00\", \"2020-10-01T00:00:00\", \"2020-10-02T00:00:00\", \"2020-10-05T00:00:00\", \"2020-10-06T00:00:00\", \"2020-10-07T00:00:00\", \"2020-10-08T00:00:00\", \"2020-10-09T00:00:00\", \"2020-10-12T00:00:00\", \"2020-10-13T00:00:00\", \"2020-10-14T00:00:00\", \"2020-10-15T00:00:00\", \"2020-10-16T00:00:00\", \"2020-10-19T00:00:00\", \"2020-10-20T00:00:00\", \"2020-10-21T00:00:00\", \"2020-10-22T00:00:00\", \"2020-10-23T00:00:00\", \"2020-10-26T00:00:00\", \"2020-10-27T00:00:00\", \"2020-10-28T00:00:00\", \"2020-10-29T00:00:00\", \"2020-10-30T00:00:00\", \"2020-11-02T00:00:00\", \"2020-11-03T00:00:00\", \"2020-11-04T00:00:00\", \"2020-11-05T00:00:00\", \"2020-11-06T00:00:00\", \"2020-11-09T00:00:00\", \"2020-11-10T00:00:00\", \"2020-11-11T00:00:00\", \"2020-11-12T00:00:00\", \"2020-11-13T00:00:00\", \"2020-11-16T00:00:00\", \"2020-11-17T00:00:00\", \"2020-11-18T00:00:00\", \"2020-11-19T00:00:00\", \"2020-11-20T00:00:00\", \"2020-11-23T00:00:00\", \"2020-11-24T00:00:00\", \"2020-11-25T00:00:00\", \"2020-11-30T00:00:00\", \"2020-12-01T00:00:00\", \"2020-12-02T00:00:00\", \"2020-12-03T00:00:00\", \"2020-12-04T00:00:00\", \"2020-12-07T00:00:00\", \"2020-12-08T00:00:00\", \"2020-12-09T00:00:00\", \"2020-12-10T00:00:00\", \"2020-12-11T00:00:00\", \"2020-12-14T00:00:00\", \"2020-12-15T00:00:00\"], \"xaxis\": \"x\", \"y\": [1, 1, 1, 0, 0, 0, 0, 0, 1, 1, 1, 1, 1, 1, 2, 1, 1, 2, 1, 2, 1, 1, 1, 2, 2, 1, 1, 2, 2, 2, 2, 2, 1, 1, 1, 2, 1, 2, 1, 1, 1, 2, 1, 1, 2, 1, 1, 2, 1, 1, 1, 1, 1, 1, 1, 1, 1, 2, 2, 2, 2, 2, 2, 2, 2, 2, 2, 2, 2, 3, 2, 2, 3, 2, 2, 2, 2, 2, 1, 1, 1, 1, 1, 1, 1, 1, 1, 1, 2, 1, 1, 1, 0, 0, 0, 0, 0, 1, 1, 1, 1, 1, 1, 1, 1, 1, 1, 1, 1, 2, 1, 1, 1, 1, 1, 1, 0, 0, 0, 0, 0, 0, 0, 0, 0, 0, 0, 0, 1, 1, 1, 1, 1, 1, 1, 1, 1, 0, 0, 0, 0, 0, 0, 0, 0, 0, 0, 0, 0, 0, 0, 0, 0, 0, 0, 0, 1, 1, 1, 0, 0, 0, 0, 0, 0, 0, 1, 1, 1, 1, 0, 0, 0, 0, 0, 0, 0, 0, 0, 0, 0, 0, 0, 1, 1, 1, 1, 0, 0, 1, 1, 1, 1, 1, 1, 1, 1, 1, 1, 1, 1, 1, 2, 1, 1, 1, 1, 1, 1, 1, 1, 1, 1, 1, 1, 1], \"yaxis\": \"y2\"}],                        {\"template\": {\"data\": {\"bar\": [{\"error_x\": {\"color\": \"#2a3f5f\"}, \"error_y\": {\"color\": \"#2a3f5f\"}, \"marker\": {\"line\": {\"color\": \"#E5ECF6\", \"width\": 0.5}}, \"type\": \"bar\"}], \"barpolar\": [{\"marker\": {\"line\": {\"color\": \"#E5ECF6\", \"width\": 0.5}}, \"type\": \"barpolar\"}], \"carpet\": [{\"aaxis\": {\"endlinecolor\": \"#2a3f5f\", \"gridcolor\": \"white\", \"linecolor\": \"white\", \"minorgridcolor\": \"white\", \"startlinecolor\": \"#2a3f5f\"}, \"baxis\": {\"endlinecolor\": \"#2a3f5f\", \"gridcolor\": \"white\", \"linecolor\": \"white\", \"minorgridcolor\": \"white\", \"startlinecolor\": \"#2a3f5f\"}, \"type\": \"carpet\"}], \"choropleth\": [{\"colorbar\": {\"outlinewidth\": 0, \"ticks\": \"\"}, \"type\": \"choropleth\"}], \"contour\": [{\"colorbar\": {\"outlinewidth\": 0, \"ticks\": \"\"}, \"colorscale\": [[0.0, \"#0d0887\"], [0.1111111111111111, \"#46039f\"], [0.2222222222222222, \"#7201a8\"], [0.3333333333333333, \"#9c179e\"], [0.4444444444444444, \"#bd3786\"], [0.5555555555555556, \"#d8576b\"], [0.6666666666666666, \"#ed7953\"], [0.7777777777777778, \"#fb9f3a\"], [0.8888888888888888, \"#fdca26\"], [1.0, \"#f0f921\"]], \"type\": \"contour\"}], \"contourcarpet\": [{\"colorbar\": {\"outlinewidth\": 0, \"ticks\": \"\"}, \"type\": \"contourcarpet\"}], \"heatmap\": [{\"colorbar\": {\"outlinewidth\": 0, \"ticks\": \"\"}, \"colorscale\": [[0.0, \"#0d0887\"], [0.1111111111111111, \"#46039f\"], [0.2222222222222222, \"#7201a8\"], [0.3333333333333333, \"#9c179e\"], [0.4444444444444444, \"#bd3786\"], [0.5555555555555556, \"#d8576b\"], [0.6666666666666666, \"#ed7953\"], [0.7777777777777778, \"#fb9f3a\"], [0.8888888888888888, \"#fdca26\"], [1.0, \"#f0f921\"]], \"type\": \"heatmap\"}], \"heatmapgl\": [{\"colorbar\": {\"outlinewidth\": 0, \"ticks\": \"\"}, \"colorscale\": [[0.0, \"#0d0887\"], [0.1111111111111111, \"#46039f\"], [0.2222222222222222, \"#7201a8\"], [0.3333333333333333, \"#9c179e\"], [0.4444444444444444, \"#bd3786\"], [0.5555555555555556, \"#d8576b\"], [0.6666666666666666, \"#ed7953\"], [0.7777777777777778, \"#fb9f3a\"], [0.8888888888888888, \"#fdca26\"], [1.0, \"#f0f921\"]], \"type\": \"heatmapgl\"}], \"histogram\": [{\"marker\": {\"colorbar\": {\"outlinewidth\": 0, \"ticks\": \"\"}}, \"type\": \"histogram\"}], \"histogram2d\": [{\"colorbar\": {\"outlinewidth\": 0, \"ticks\": \"\"}, \"colorscale\": [[0.0, \"#0d0887\"], [0.1111111111111111, \"#46039f\"], [0.2222222222222222, \"#7201a8\"], [0.3333333333333333, \"#9c179e\"], [0.4444444444444444, \"#bd3786\"], [0.5555555555555556, \"#d8576b\"], [0.6666666666666666, \"#ed7953\"], [0.7777777777777778, \"#fb9f3a\"], [0.8888888888888888, \"#fdca26\"], [1.0, \"#f0f921\"]], \"type\": \"histogram2d\"}], \"histogram2dcontour\": [{\"colorbar\": {\"outlinewidth\": 0, \"ticks\": \"\"}, \"colorscale\": [[0.0, \"#0d0887\"], [0.1111111111111111, \"#46039f\"], [0.2222222222222222, \"#7201a8\"], [0.3333333333333333, \"#9c179e\"], [0.4444444444444444, \"#bd3786\"], [0.5555555555555556, \"#d8576b\"], [0.6666666666666666, \"#ed7953\"], [0.7777777777777778, \"#fb9f3a\"], [0.8888888888888888, \"#fdca26\"], [1.0, \"#f0f921\"]], \"type\": \"histogram2dcontour\"}], \"mesh3d\": [{\"colorbar\": {\"outlinewidth\": 0, \"ticks\": \"\"}, \"type\": \"mesh3d\"}], \"parcoords\": [{\"line\": {\"colorbar\": {\"outlinewidth\": 0, \"ticks\": \"\"}}, \"type\": \"parcoords\"}], \"pie\": [{\"automargin\": true, \"type\": \"pie\"}], \"scatter\": [{\"marker\": {\"colorbar\": {\"outlinewidth\": 0, \"ticks\": \"\"}}, \"type\": \"scatter\"}], \"scatter3d\": [{\"line\": {\"colorbar\": {\"outlinewidth\": 0, \"ticks\": \"\"}}, \"marker\": {\"colorbar\": {\"outlinewidth\": 0, \"ticks\": \"\"}}, \"type\": \"scatter3d\"}], \"scattercarpet\": [{\"marker\": {\"colorbar\": {\"outlinewidth\": 0, \"ticks\": \"\"}}, \"type\": \"scattercarpet\"}], \"scattergeo\": [{\"marker\": {\"colorbar\": {\"outlinewidth\": 0, \"ticks\": \"\"}}, \"type\": \"scattergeo\"}], \"scattergl\": [{\"marker\": {\"colorbar\": {\"outlinewidth\": 0, \"ticks\": \"\"}}, \"type\": \"scattergl\"}], \"scattermapbox\": [{\"marker\": {\"colorbar\": {\"outlinewidth\": 0, \"ticks\": \"\"}}, \"type\": \"scattermapbox\"}], \"scatterpolar\": [{\"marker\": {\"colorbar\": {\"outlinewidth\": 0, \"ticks\": \"\"}}, \"type\": \"scatterpolar\"}], \"scatterpolargl\": [{\"marker\": {\"colorbar\": {\"outlinewidth\": 0, \"ticks\": \"\"}}, \"type\": \"scatterpolargl\"}], \"scatterternary\": [{\"marker\": {\"colorbar\": {\"outlinewidth\": 0, \"ticks\": \"\"}}, \"type\": \"scatterternary\"}], \"surface\": [{\"colorbar\": {\"outlinewidth\": 0, \"ticks\": \"\"}, \"colorscale\": [[0.0, \"#0d0887\"], [0.1111111111111111, \"#46039f\"], [0.2222222222222222, \"#7201a8\"], [0.3333333333333333, \"#9c179e\"], [0.4444444444444444, \"#bd3786\"], [0.5555555555555556, \"#d8576b\"], [0.6666666666666666, \"#ed7953\"], [0.7777777777777778, \"#fb9f3a\"], [0.8888888888888888, \"#fdca26\"], [1.0, \"#f0f921\"]], \"type\": \"surface\"}], \"table\": [{\"cells\": {\"fill\": {\"color\": \"#EBF0F8\"}, \"line\": {\"color\": \"white\"}}, \"header\": {\"fill\": {\"color\": \"#C8D4E3\"}, \"line\": {\"color\": \"white\"}}, \"type\": \"table\"}]}, \"layout\": {\"annotationdefaults\": {\"arrowcolor\": \"#2a3f5f\", \"arrowhead\": 0, \"arrowwidth\": 1}, \"autotypenumbers\": \"strict\", \"coloraxis\": {\"colorbar\": {\"outlinewidth\": 0, \"ticks\": \"\"}}, \"colorscale\": {\"diverging\": [[0, \"#8e0152\"], [0.1, \"#c51b7d\"], [0.2, \"#de77ae\"], [0.3, \"#f1b6da\"], [0.4, \"#fde0ef\"], [0.5, \"#f7f7f7\"], [0.6, \"#e6f5d0\"], [0.7, \"#b8e186\"], [0.8, \"#7fbc41\"], [0.9, \"#4d9221\"], [1, \"#276419\"]], \"sequential\": [[0.0, \"#0d0887\"], [0.1111111111111111, \"#46039f\"], [0.2222222222222222, \"#7201a8\"], [0.3333333333333333, \"#9c179e\"], [0.4444444444444444, \"#bd3786\"], [0.5555555555555556, \"#d8576b\"], [0.6666666666666666, \"#ed7953\"], [0.7777777777777778, \"#fb9f3a\"], [0.8888888888888888, \"#fdca26\"], [1.0, \"#f0f921\"]], \"sequentialminus\": [[0.0, \"#0d0887\"], [0.1111111111111111, \"#46039f\"], [0.2222222222222222, \"#7201a8\"], [0.3333333333333333, \"#9c179e\"], [0.4444444444444444, \"#bd3786\"], [0.5555555555555556, \"#d8576b\"], [0.6666666666666666, \"#ed7953\"], [0.7777777777777778, \"#fb9f3a\"], [0.8888888888888888, \"#fdca26\"], [1.0, \"#f0f921\"]]}, \"colorway\": [\"#636efa\", \"#EF553B\", \"#00cc96\", \"#ab63fa\", \"#FFA15A\", \"#19d3f3\", \"#FF6692\", \"#B6E880\", \"#FF97FF\", \"#FECB52\"], \"font\": {\"color\": \"#2a3f5f\"}, \"geo\": {\"bgcolor\": \"white\", \"lakecolor\": \"white\", \"landcolor\": \"#E5ECF6\", \"showlakes\": true, \"showland\": true, \"subunitcolor\": \"white\"}, \"hoverlabel\": {\"align\": \"left\"}, \"hovermode\": \"closest\", \"mapbox\": {\"style\": \"light\"}, \"paper_bgcolor\": \"white\", \"plot_bgcolor\": \"#E5ECF6\", \"polar\": {\"angularaxis\": {\"gridcolor\": \"white\", \"linecolor\": \"white\", \"ticks\": \"\"}, \"bgcolor\": \"#E5ECF6\", \"radialaxis\": {\"gridcolor\": \"white\", \"linecolor\": \"white\", \"ticks\": \"\"}}, \"scene\": {\"xaxis\": {\"backgroundcolor\": \"#E5ECF6\", \"gridcolor\": \"white\", \"gridwidth\": 2, \"linecolor\": \"white\", \"showbackground\": true, \"ticks\": \"\", \"zerolinecolor\": \"white\"}, \"yaxis\": {\"backgroundcolor\": \"#E5ECF6\", \"gridcolor\": \"white\", \"gridwidth\": 2, \"linecolor\": \"white\", \"showbackground\": true, \"ticks\": \"\", \"zerolinecolor\": \"white\"}, \"zaxis\": {\"backgroundcolor\": \"#E5ECF6\", \"gridcolor\": \"white\", \"gridwidth\": 2, \"linecolor\": \"white\", \"showbackground\": true, \"ticks\": \"\", \"zerolinecolor\": \"white\"}}, \"shapedefaults\": {\"line\": {\"color\": \"#2a3f5f\"}}, \"ternary\": {\"aaxis\": {\"gridcolor\": \"white\", \"linecolor\": \"white\", \"ticks\": \"\"}, \"baxis\": {\"gridcolor\": \"white\", \"linecolor\": \"white\", \"ticks\": \"\"}, \"bgcolor\": \"#E5ECF6\", \"caxis\": {\"gridcolor\": \"white\", \"linecolor\": \"white\", \"ticks\": \"\"}}, \"title\": {\"x\": 0.05}, \"xaxis\": {\"automargin\": true, \"gridcolor\": \"white\", \"linecolor\": \"white\", \"ticks\": \"\", \"title\": {\"standoff\": 15}, \"zerolinecolor\": \"white\", \"zerolinewidth\": 2}, \"yaxis\": {\"automargin\": true, \"gridcolor\": \"white\", \"linecolor\": \"white\", \"ticks\": \"\", \"title\": {\"standoff\": 15}, \"zerolinecolor\": \"white\", \"zerolinewidth\": 2}}}, \"xaxis\": {\"anchor\": \"y\", \"domain\": [0.0, 0.94]}, \"yaxis\": {\"anchor\": \"x\", \"domain\": [0.0, 1.0], \"title\": {\"text\": \"Price\"}}, \"yaxis2\": {\"anchor\": \"x\", \"overlaying\": \"y\", \"side\": \"right\", \"title\": {\"text\": \"Count\"}}},                        {\"responsive\": true}                    ).then(function(){\n",
              "                            \n",
              "var gd = document.getElementById('c12e9484-0e9e-45c8-8533-4560ba882f7d');\n",
              "var x = new MutationObserver(function (mutations, observer) {{\n",
              "        var display = window.getComputedStyle(gd).display;\n",
              "        if (!display || display === 'none') {{\n",
              "            console.log([gd, 'removed!']);\n",
              "            Plotly.purge(gd);\n",
              "            observer.disconnect();\n",
              "        }}\n",
              "}});\n",
              "\n",
              "// Listen for the removal of the full notebook cells\n",
              "var notebookContainer = gd.closest('#notebook-container');\n",
              "if (notebookContainer) {{\n",
              "    x.observe(notebookContainer, {childList: true});\n",
              "}}\n",
              "\n",
              "// Listen for the clearing of the current output cell\n",
              "var outputEl = gd.closest('.output');\n",
              "if (outputEl) {{\n",
              "    x.observe(outputEl, {childList: true});\n",
              "}}\n",
              "\n",
              "                        })                };                            </script>        </div>\n",
              "</body>\n",
              "</html>"
            ]
          },
          "metadata": {
            "tags": []
          }
        }
      ]
    },
    {
      "cell_type": "markdown",
      "metadata": {
        "id": "iSRGkWByR4TU"
      },
      "source": [
        "SNIPPET 4.2 ESTIMATING THE AVERAGE UNIQUENESS OF A LABEL\n",
        "\n",
        "mpSampleTW:\n",
        "* t1: pd series, timestamps of the vertical barriers. (index: eventStart, value: eventEnd).\n",
        "* numCoEvent: \n",
        "* molecule: the date of the event on which the weight will be computed\n",
        "  - molecule[0] is the date of the first event on which the weight will be computed\n",
        "  - molecule[-1] is the date of the last event on which the weight will be computed\n",
        "\n",
        "\n",
        "SampleTW:\n",
        "* close: A pd series of prices\n",
        "* events: A Pd dataframe\n",
        "  -   t1: the timestamp of vertical barrier. if the value is np.nan, no vertical barrier\n",
        "  -   trgr: the unit width of the horizontal barriers, e.g. standard deviation\n",
        "* numThreads: constant, The no. of threads concurrently used by the function\n",
        "\n",
        "The functions returns:\n",
        " * wght: pd.Series, the sample weight of each (volume) bar"
      ]
    },
    {
      "cell_type": "code",
      "metadata": {
        "id": "Qgg9JK8hRUDx"
      },
      "source": [
        "def mpSampleTW(t1, numCoEvents, molecule):\n",
        "    # derive average uniqueness over the event's lifespan\n",
        "    wght = pd.Series(index = molecule, dtype='float64')\n",
        "    # for each events\n",
        "    for tIn, tOut in t1.loc[wght.index].iteritems():\n",
        "        # tIn, starts of the events, tOut, ends of the events\n",
        "        # the more the coEvents, the lower the weights\n",
        "        wght.loc[tIn] = (1. / numCoEvents.loc[tIn : tOut]).mean()\n",
        "    return wght\n",
        "\n",
        "def SampleTW(close, events, numThreads):\n",
        "    out = events[['t1']].copy(deep = True)\n",
        "    out['t1'] = out['t1'].fillna(close.index[-1])\n",
        "    events['t1'] = events['t1'].fillna(close.index[-1])\n",
        "    numCoEvents = mpPandasObj(mpNumCoEvents, ('molecule', events.index), numThreads, closeIdx = close.index, t1 = out['t1'])\n",
        "    numCoEvents = numCoEvents.loc[~numCoEvents.index.duplicated(keep = 'last')]\n",
        "    numCoEvents = numCoEvents.reindex(close.index).fillna(0)\n",
        "    out['tW'] = mpPandasObj(mpSampleTW, ('molecule', events.index), numThreads, t1 = out['t1'], numCoEvents = numCoEvents)\n",
        "    return out, numCoEvents"
      ],
      "execution_count": null,
      "outputs": []
    },
    {
      "cell_type": "code",
      "metadata": {
        "colab": {
          "base_uri": "https://localhost:8080/",
          "height": 542
        },
        "id": "iaXTzXtjoaif",
        "outputId": "1667de89-cbb2-4ef7-f13f-c77d607b4217"
      },
      "source": [
        "out, numCoEvents = SampleTW(close, events, numThreads=1)\n",
        "fig = make_subplots(specs=[[{\"secondary_y\": True}]])\n",
        "fig.add_trace(go.Scatter(x=numCoEvents.index, y=numCoEvents.values, mode=\"lines\", marker=dict(color='blue'), name=\"Count\"), secondary_y=False) \n",
        "fig.add_trace(go.Scatter(x=out.index, y=out['tW'], mode=\"lines\", marker=dict(color='green'), name=\"Weight\"), secondary_y=True) "
      ],
      "execution_count": null,
      "outputs": [
        {
          "output_type": "display_data",
          "data": {
            "text/html": [
              "<html>\n",
              "<head><meta charset=\"utf-8\" /></head>\n",
              "<body>\n",
              "    <div>            <script src=\"https://cdnjs.cloudflare.com/ajax/libs/mathjax/2.7.5/MathJax.js?config=TeX-AMS-MML_SVG\"></script><script type=\"text/javascript\">if (window.MathJax) {MathJax.Hub.Config({SVG: {font: \"STIX-Web\"}});}</script>                <script type=\"text/javascript\">window.PlotlyConfig = {MathJaxConfig: 'local'};</script>\n",
              "        <script src=\"https://cdn.plot.ly/plotly-latest.min.js\"></script>                <div id=\"466046e0-7360-4bef-a640-7c633361f3ea\" class=\"plotly-graph-div\" style=\"height:525px; width:100%;\"></div>            <script type=\"text/javascript\">                                    window.PLOTLYENV=window.PLOTLYENV || {};                                    if (document.getElementById(\"466046e0-7360-4bef-a640-7c633361f3ea\")) {                    Plotly.newPlot(                        \"466046e0-7360-4bef-a640-7c633361f3ea\",                        [{\"marker\": {\"color\": \"blue\"}, \"mode\": \"lines\", \"name\": \"Count\", \"type\": \"scatter\", \"x\": [\"2020-01-03T00:00:00\", \"2020-01-06T00:00:00\", \"2020-01-07T00:00:00\", \"2020-01-08T00:00:00\", \"2020-01-09T00:00:00\", \"2020-01-10T00:00:00\", \"2020-01-13T00:00:00\", \"2020-01-14T00:00:00\", \"2020-01-15T00:00:00\", \"2020-01-16T00:00:00\", \"2020-01-17T00:00:00\", \"2020-01-22T00:00:00\", \"2020-01-23T00:00:00\", \"2020-01-24T00:00:00\", \"2020-01-27T00:00:00\", \"2020-01-28T00:00:00\", \"2020-01-29T00:00:00\", \"2020-01-30T00:00:00\", \"2020-01-31T00:00:00\", \"2020-02-03T00:00:00\", \"2020-02-04T00:00:00\", \"2020-02-05T00:00:00\", \"2020-02-06T00:00:00\", \"2020-02-07T00:00:00\", \"2020-02-10T00:00:00\", \"2020-02-11T00:00:00\", \"2020-02-12T00:00:00\", \"2020-02-13T00:00:00\", \"2020-02-14T00:00:00\", \"2020-02-19T00:00:00\", \"2020-02-20T00:00:00\", \"2020-02-21T00:00:00\", \"2020-02-24T00:00:00\", \"2020-02-25T00:00:00\", \"2020-02-26T00:00:00\", \"2020-02-27T00:00:00\", \"2020-02-28T00:00:00\", \"2020-03-02T00:00:00\", \"2020-03-03T00:00:00\", \"2020-03-04T00:00:00\", \"2020-03-05T00:00:00\", \"2020-03-06T00:00:00\", \"2020-03-09T00:00:00\", \"2020-03-10T00:00:00\", \"2020-03-11T00:00:00\", \"2020-03-12T00:00:00\", \"2020-03-13T00:00:00\", \"2020-03-16T00:00:00\", \"2020-03-17T00:00:00\", \"2020-03-18T00:00:00\", \"2020-03-19T00:00:00\", \"2020-03-20T00:00:00\", \"2020-03-23T00:00:00\", \"2020-03-24T00:00:00\", \"2020-03-25T00:00:00\", \"2020-03-26T00:00:00\", \"2020-03-27T00:00:00\", \"2020-03-30T00:00:00\", \"2020-03-31T00:00:00\", \"2020-04-01T00:00:00\", \"2020-04-02T00:00:00\", \"2020-04-03T00:00:00\", \"2020-04-06T00:00:00\", \"2020-04-07T00:00:00\", \"2020-04-08T00:00:00\", \"2020-04-09T00:00:00\", \"2020-04-14T00:00:00\", \"2020-04-15T00:00:00\", \"2020-04-16T00:00:00\", \"2020-04-17T00:00:00\", \"2020-04-20T00:00:00\", \"2020-04-21T00:00:00\", \"2020-04-22T00:00:00\", \"2020-04-23T00:00:00\", \"2020-04-24T00:00:00\", \"2020-04-27T00:00:00\", \"2020-04-28T00:00:00\", \"2020-04-29T00:00:00\", \"2020-04-30T00:00:00\", \"2020-05-01T00:00:00\", \"2020-05-04T00:00:00\", \"2020-05-05T00:00:00\", \"2020-05-06T00:00:00\", \"2020-05-07T00:00:00\", \"2020-05-08T00:00:00\", \"2020-05-11T00:00:00\", \"2020-05-12T00:00:00\", \"2020-05-13T00:00:00\", \"2020-05-14T00:00:00\", \"2020-05-15T00:00:00\", \"2020-05-18T00:00:00\", \"2020-05-19T00:00:00\", \"2020-05-20T00:00:00\", \"2020-05-21T00:00:00\", \"2020-05-22T00:00:00\", \"2020-05-27T00:00:00\", \"2020-05-28T00:00:00\", \"2020-05-29T00:00:00\", \"2020-06-01T00:00:00\", \"2020-06-02T00:00:00\", \"2020-06-03T00:00:00\", \"2020-06-04T00:00:00\", \"2020-06-05T00:00:00\", \"2020-06-08T00:00:00\", \"2020-06-09T00:00:00\", \"2020-06-10T00:00:00\", \"2020-06-11T00:00:00\", \"2020-06-12T00:00:00\", \"2020-06-15T00:00:00\", \"2020-06-16T00:00:00\", \"2020-06-17T00:00:00\", \"2020-06-18T00:00:00\", \"2020-06-19T00:00:00\", \"2020-06-22T00:00:00\", \"2020-06-23T00:00:00\", \"2020-06-24T00:00:00\", \"2020-06-25T00:00:00\", \"2020-06-26T00:00:00\", \"2020-06-29T00:00:00\", \"2020-06-30T00:00:00\", \"2020-07-01T00:00:00\", \"2020-07-02T00:00:00\", \"2020-07-07T00:00:00\", \"2020-07-08T00:00:00\", \"2020-07-09T00:00:00\", \"2020-07-10T00:00:00\", \"2020-07-13T00:00:00\", \"2020-07-14T00:00:00\", \"2020-07-15T00:00:00\", \"2020-07-16T00:00:00\", \"2020-07-17T00:00:00\", \"2020-07-20T00:00:00\", \"2020-07-21T00:00:00\", \"2020-07-22T00:00:00\", \"2020-07-23T00:00:00\", \"2020-07-24T00:00:00\", \"2020-07-27T00:00:00\", \"2020-07-28T00:00:00\", \"2020-07-29T00:00:00\", \"2020-07-30T00:00:00\", \"2020-07-31T00:00:00\", \"2020-08-03T00:00:00\", \"2020-08-04T00:00:00\", \"2020-08-05T00:00:00\", \"2020-08-06T00:00:00\", \"2020-08-07T00:00:00\", \"2020-08-10T00:00:00\", \"2020-08-11T00:00:00\", \"2020-08-12T00:00:00\", \"2020-08-13T00:00:00\", \"2020-08-14T00:00:00\", \"2020-08-17T00:00:00\", \"2020-08-18T00:00:00\", \"2020-08-19T00:00:00\", \"2020-08-20T00:00:00\", \"2020-08-21T00:00:00\", \"2020-08-24T00:00:00\", \"2020-08-25T00:00:00\", \"2020-08-26T00:00:00\", \"2020-08-27T00:00:00\", \"2020-08-28T00:00:00\", \"2020-08-31T00:00:00\", \"2020-09-01T00:00:00\", \"2020-09-02T00:00:00\", \"2020-09-03T00:00:00\", \"2020-09-04T00:00:00\", \"2020-09-09T00:00:00\", \"2020-09-10T00:00:00\", \"2020-09-11T00:00:00\", \"2020-09-14T00:00:00\", \"2020-09-15T00:00:00\", \"2020-09-16T00:00:00\", \"2020-09-17T00:00:00\", \"2020-09-18T00:00:00\", \"2020-09-21T00:00:00\", \"2020-09-22T00:00:00\", \"2020-09-23T00:00:00\", \"2020-09-24T00:00:00\", \"2020-09-25T00:00:00\", \"2020-09-28T00:00:00\", \"2020-09-29T00:00:00\", \"2020-09-30T00:00:00\", \"2020-10-01T00:00:00\", \"2020-10-02T00:00:00\", \"2020-10-05T00:00:00\", \"2020-10-06T00:00:00\", \"2020-10-07T00:00:00\", \"2020-10-08T00:00:00\", \"2020-10-09T00:00:00\", \"2020-10-12T00:00:00\", \"2020-10-13T00:00:00\", \"2020-10-14T00:00:00\", \"2020-10-15T00:00:00\", \"2020-10-16T00:00:00\", \"2020-10-19T00:00:00\", \"2020-10-20T00:00:00\", \"2020-10-21T00:00:00\", \"2020-10-22T00:00:00\", \"2020-10-23T00:00:00\", \"2020-10-26T00:00:00\", \"2020-10-27T00:00:00\", \"2020-10-28T00:00:00\", \"2020-10-29T00:00:00\", \"2020-10-30T00:00:00\", \"2020-11-02T00:00:00\", \"2020-11-03T00:00:00\", \"2020-11-04T00:00:00\", \"2020-11-05T00:00:00\", \"2020-11-06T00:00:00\", \"2020-11-09T00:00:00\", \"2020-11-10T00:00:00\", \"2020-11-11T00:00:00\", \"2020-11-12T00:00:00\", \"2020-11-13T00:00:00\", \"2020-11-16T00:00:00\", \"2020-11-17T00:00:00\", \"2020-11-18T00:00:00\", \"2020-11-19T00:00:00\", \"2020-11-20T00:00:00\", \"2020-11-23T00:00:00\", \"2020-11-24T00:00:00\", \"2020-11-25T00:00:00\", \"2020-11-30T00:00:00\", \"2020-12-01T00:00:00\", \"2020-12-02T00:00:00\", \"2020-12-03T00:00:00\", \"2020-12-04T00:00:00\", \"2020-12-07T00:00:00\", \"2020-12-08T00:00:00\", \"2020-12-09T00:00:00\", \"2020-12-10T00:00:00\", \"2020-12-11T00:00:00\", \"2020-12-14T00:00:00\", \"2020-12-15T00:00:00\", \"2020-12-16T00:00:00\", \"2020-12-17T00:00:00\", \"2020-12-18T00:00:00\", \"2020-12-21T00:00:00\", \"2020-12-22T00:00:00\", \"2020-12-23T00:00:00\", \"2020-12-24T00:00:00\", \"2020-12-29T00:00:00\", \"2020-12-30T00:00:00\", \"2020-12-31T00:00:00\"], \"xaxis\": \"x\", \"y\": [0.0, 0.0, 0.0, 0.0, 0.0, 0.0, 0.0, 0.0, 0.0, 0.0, 0.0, 0.0, 0.0, 0.0, 0.0, 0.0, 0.0, 0.0, 1.0, 1.0, 1.0, 0.0, 0.0, 0.0, 0.0, 0.0, 1.0, 1.0, 1.0, 1.0, 1.0, 1.0, 2.0, 1.0, 1.0, 2.0, 1.0, 2.0, 1.0, 1.0, 1.0, 2.0, 2.0, 1.0, 1.0, 2.0, 2.0, 2.0, 2.0, 2.0, 1.0, 1.0, 1.0, 2.0, 1.0, 2.0, 1.0, 1.0, 1.0, 2.0, 1.0, 1.0, 2.0, 1.0, 1.0, 2.0, 1.0, 1.0, 1.0, 1.0, 1.0, 1.0, 1.0, 1.0, 1.0, 2.0, 2.0, 2.0, 2.0, 2.0, 2.0, 2.0, 2.0, 2.0, 2.0, 2.0, 2.0, 3.0, 2.0, 2.0, 3.0, 2.0, 2.0, 2.0, 2.0, 2.0, 1.0, 1.0, 1.0, 1.0, 1.0, 1.0, 1.0, 1.0, 1.0, 1.0, 2.0, 1.0, 1.0, 1.0, 0.0, 0.0, 0.0, 0.0, 0.0, 1.0, 1.0, 1.0, 1.0, 1.0, 1.0, 1.0, 1.0, 1.0, 1.0, 1.0, 1.0, 2.0, 1.0, 1.0, 1.0, 1.0, 1.0, 1.0, 0.0, 0.0, 0.0, 0.0, 0.0, 0.0, 0.0, 0.0, 0.0, 0.0, 0.0, 0.0, 1.0, 1.0, 1.0, 1.0, 1.0, 1.0, 1.0, 1.0, 1.0, 0.0, 0.0, 0.0, 0.0, 0.0, 0.0, 0.0, 0.0, 0.0, 0.0, 0.0, 0.0, 0.0, 0.0, 0.0, 0.0, 0.0, 0.0, 0.0, 1.0, 1.0, 1.0, 0.0, 0.0, 0.0, 0.0, 0.0, 0.0, 0.0, 1.0, 1.0, 1.0, 1.0, 0.0, 0.0, 0.0, 0.0, 0.0, 0.0, 0.0, 0.0, 0.0, 0.0, 0.0, 0.0, 0.0, 1.0, 1.0, 1.0, 1.0, 0.0, 0.0, 1.0, 1.0, 1.0, 1.0, 1.0, 1.0, 1.0, 1.0, 1.0, 1.0, 1.0, 1.0, 1.0, 2.0, 1.0, 1.0, 1.0, 1.0, 1.0, 1.0, 1.0, 1.0, 1.0, 1.0, 1.0, 1.0, 1.0, 0.0, 0.0, 0.0, 0.0, 0.0, 0.0, 0.0, 0.0, 0.0, 0.0], \"yaxis\": \"y\"}, {\"marker\": {\"color\": \"green\"}, \"mode\": \"lines\", \"name\": \"Weight\", \"type\": \"scatter\", \"x\": [\"2020-01-31T00:00:00\", \"2020-02-12T00:00:00\", \"2020-02-24T00:00:00\", \"2020-02-26T00:00:00\", \"2020-02-27T00:00:00\", \"2020-03-02T00:00:00\", \"2020-03-06T00:00:00\", \"2020-03-09T00:00:00\", \"2020-03-11T00:00:00\", \"2020-03-12T00:00:00\", \"2020-03-13T00:00:00\", \"2020-03-16T00:00:00\", \"2020-03-17T00:00:00\", \"2020-03-18T00:00:00\", \"2020-03-23T00:00:00\", \"2020-03-24T00:00:00\", \"2020-03-26T00:00:00\", \"2020-04-01T00:00:00\", \"2020-04-06T00:00:00\", \"2020-04-09T00:00:00\", \"2020-04-27T00:00:00\", \"2020-05-01T00:00:00\", \"2020-05-13T00:00:00\", \"2020-05-18T00:00:00\", \"2020-05-27T00:00:00\", \"2020-06-05T00:00:00\", \"2020-06-11T00:00:00\", \"2020-06-24T00:00:00\", \"2020-07-14T00:00:00\", \"2020-08-10T00:00:00\", \"2020-09-21T00:00:00\", \"2020-10-05T00:00:00\", \"2020-10-28T00:00:00\", \"2020-11-05T00:00:00\", \"2020-11-10T00:00:00\", \"2020-11-24T00:00:00\"], \"xaxis\": \"x\", \"y\": [1.0, 0.9285714285714286, 0.75, 0.75, 0.6666666666666666, 0.8, 0.5, 0.75, 0.75, 0.5, 0.5, 0.5, 0.5, 0.8333333333333334, 0.75, 0.6666666666666666, 0.8, 0.75, 0.75, 0.8214285714285714, 0.48717948717948717, 0.47916666666666663, 0.41666666666666663, 0.47222222222222215, 0.9285714285714286, 0.9, 0.875, 0.9615384615384616, 0.9285714285714286, 1.0, 1.0, 1.0, 1.0, 1.0, 0.9545454545454546, 0.9642857142857143], \"yaxis\": \"y2\"}],                        {\"template\": {\"data\": {\"bar\": [{\"error_x\": {\"color\": \"#2a3f5f\"}, \"error_y\": {\"color\": \"#2a3f5f\"}, \"marker\": {\"line\": {\"color\": \"#E5ECF6\", \"width\": 0.5}}, \"type\": \"bar\"}], \"barpolar\": [{\"marker\": {\"line\": {\"color\": \"#E5ECF6\", \"width\": 0.5}}, \"type\": \"barpolar\"}], \"carpet\": [{\"aaxis\": {\"endlinecolor\": \"#2a3f5f\", \"gridcolor\": \"white\", \"linecolor\": \"white\", \"minorgridcolor\": \"white\", \"startlinecolor\": \"#2a3f5f\"}, \"baxis\": {\"endlinecolor\": \"#2a3f5f\", \"gridcolor\": \"white\", \"linecolor\": \"white\", \"minorgridcolor\": \"white\", \"startlinecolor\": \"#2a3f5f\"}, \"type\": \"carpet\"}], \"choropleth\": [{\"colorbar\": {\"outlinewidth\": 0, \"ticks\": \"\"}, \"type\": \"choropleth\"}], \"contour\": [{\"colorbar\": {\"outlinewidth\": 0, \"ticks\": \"\"}, \"colorscale\": [[0.0, \"#0d0887\"], [0.1111111111111111, \"#46039f\"], [0.2222222222222222, \"#7201a8\"], [0.3333333333333333, \"#9c179e\"], [0.4444444444444444, \"#bd3786\"], [0.5555555555555556, \"#d8576b\"], [0.6666666666666666, \"#ed7953\"], [0.7777777777777778, \"#fb9f3a\"], [0.8888888888888888, \"#fdca26\"], [1.0, \"#f0f921\"]], \"type\": \"contour\"}], \"contourcarpet\": [{\"colorbar\": {\"outlinewidth\": 0, \"ticks\": \"\"}, \"type\": \"contourcarpet\"}], \"heatmap\": [{\"colorbar\": {\"outlinewidth\": 0, \"ticks\": \"\"}, \"colorscale\": [[0.0, \"#0d0887\"], [0.1111111111111111, \"#46039f\"], [0.2222222222222222, \"#7201a8\"], [0.3333333333333333, \"#9c179e\"], [0.4444444444444444, \"#bd3786\"], [0.5555555555555556, \"#d8576b\"], [0.6666666666666666, \"#ed7953\"], [0.7777777777777778, \"#fb9f3a\"], [0.8888888888888888, \"#fdca26\"], [1.0, \"#f0f921\"]], \"type\": \"heatmap\"}], \"heatmapgl\": [{\"colorbar\": {\"outlinewidth\": 0, \"ticks\": \"\"}, \"colorscale\": [[0.0, \"#0d0887\"], [0.1111111111111111, \"#46039f\"], [0.2222222222222222, \"#7201a8\"], [0.3333333333333333, \"#9c179e\"], [0.4444444444444444, \"#bd3786\"], [0.5555555555555556, \"#d8576b\"], [0.6666666666666666, \"#ed7953\"], [0.7777777777777778, \"#fb9f3a\"], [0.8888888888888888, \"#fdca26\"], [1.0, \"#f0f921\"]], \"type\": \"heatmapgl\"}], \"histogram\": [{\"marker\": {\"colorbar\": {\"outlinewidth\": 0, \"ticks\": \"\"}}, \"type\": \"histogram\"}], \"histogram2d\": [{\"colorbar\": {\"outlinewidth\": 0, \"ticks\": \"\"}, \"colorscale\": [[0.0, \"#0d0887\"], [0.1111111111111111, \"#46039f\"], [0.2222222222222222, \"#7201a8\"], [0.3333333333333333, \"#9c179e\"], [0.4444444444444444, \"#bd3786\"], [0.5555555555555556, \"#d8576b\"], [0.6666666666666666, \"#ed7953\"], [0.7777777777777778, \"#fb9f3a\"], [0.8888888888888888, \"#fdca26\"], [1.0, \"#f0f921\"]], \"type\": \"histogram2d\"}], \"histogram2dcontour\": [{\"colorbar\": {\"outlinewidth\": 0, \"ticks\": \"\"}, \"colorscale\": [[0.0, \"#0d0887\"], [0.1111111111111111, \"#46039f\"], [0.2222222222222222, \"#7201a8\"], [0.3333333333333333, \"#9c179e\"], [0.4444444444444444, \"#bd3786\"], [0.5555555555555556, \"#d8576b\"], [0.6666666666666666, \"#ed7953\"], [0.7777777777777778, \"#fb9f3a\"], [0.8888888888888888, \"#fdca26\"], [1.0, \"#f0f921\"]], \"type\": \"histogram2dcontour\"}], \"mesh3d\": [{\"colorbar\": {\"outlinewidth\": 0, \"ticks\": \"\"}, \"type\": \"mesh3d\"}], \"parcoords\": [{\"line\": {\"colorbar\": {\"outlinewidth\": 0, \"ticks\": \"\"}}, \"type\": \"parcoords\"}], \"pie\": [{\"automargin\": true, \"type\": \"pie\"}], \"scatter\": [{\"marker\": {\"colorbar\": {\"outlinewidth\": 0, \"ticks\": \"\"}}, \"type\": \"scatter\"}], \"scatter3d\": [{\"line\": {\"colorbar\": {\"outlinewidth\": 0, \"ticks\": \"\"}}, \"marker\": {\"colorbar\": {\"outlinewidth\": 0, \"ticks\": \"\"}}, \"type\": \"scatter3d\"}], \"scattercarpet\": [{\"marker\": {\"colorbar\": {\"outlinewidth\": 0, \"ticks\": \"\"}}, \"type\": \"scattercarpet\"}], \"scattergeo\": [{\"marker\": {\"colorbar\": {\"outlinewidth\": 0, \"ticks\": \"\"}}, \"type\": \"scattergeo\"}], \"scattergl\": [{\"marker\": {\"colorbar\": {\"outlinewidth\": 0, \"ticks\": \"\"}}, \"type\": \"scattergl\"}], \"scattermapbox\": [{\"marker\": {\"colorbar\": {\"outlinewidth\": 0, \"ticks\": \"\"}}, \"type\": \"scattermapbox\"}], \"scatterpolar\": [{\"marker\": {\"colorbar\": {\"outlinewidth\": 0, \"ticks\": \"\"}}, \"type\": \"scatterpolar\"}], \"scatterpolargl\": [{\"marker\": {\"colorbar\": {\"outlinewidth\": 0, \"ticks\": \"\"}}, \"type\": \"scatterpolargl\"}], \"scatterternary\": [{\"marker\": {\"colorbar\": {\"outlinewidth\": 0, \"ticks\": \"\"}}, \"type\": \"scatterternary\"}], \"surface\": [{\"colorbar\": {\"outlinewidth\": 0, \"ticks\": \"\"}, \"colorscale\": [[0.0, \"#0d0887\"], [0.1111111111111111, \"#46039f\"], [0.2222222222222222, \"#7201a8\"], [0.3333333333333333, \"#9c179e\"], [0.4444444444444444, \"#bd3786\"], [0.5555555555555556, \"#d8576b\"], [0.6666666666666666, \"#ed7953\"], [0.7777777777777778, \"#fb9f3a\"], [0.8888888888888888, \"#fdca26\"], [1.0, \"#f0f921\"]], \"type\": \"surface\"}], \"table\": [{\"cells\": {\"fill\": {\"color\": \"#EBF0F8\"}, \"line\": {\"color\": \"white\"}}, \"header\": {\"fill\": {\"color\": \"#C8D4E3\"}, \"line\": {\"color\": \"white\"}}, \"type\": \"table\"}]}, \"layout\": {\"annotationdefaults\": {\"arrowcolor\": \"#2a3f5f\", \"arrowhead\": 0, \"arrowwidth\": 1}, \"autotypenumbers\": \"strict\", \"coloraxis\": {\"colorbar\": {\"outlinewidth\": 0, \"ticks\": \"\"}}, \"colorscale\": {\"diverging\": [[0, \"#8e0152\"], [0.1, \"#c51b7d\"], [0.2, \"#de77ae\"], [0.3, \"#f1b6da\"], [0.4, \"#fde0ef\"], [0.5, \"#f7f7f7\"], [0.6, \"#e6f5d0\"], [0.7, \"#b8e186\"], [0.8, \"#7fbc41\"], [0.9, \"#4d9221\"], [1, \"#276419\"]], \"sequential\": [[0.0, \"#0d0887\"], [0.1111111111111111, \"#46039f\"], [0.2222222222222222, \"#7201a8\"], [0.3333333333333333, \"#9c179e\"], [0.4444444444444444, \"#bd3786\"], [0.5555555555555556, \"#d8576b\"], [0.6666666666666666, \"#ed7953\"], [0.7777777777777778, \"#fb9f3a\"], [0.8888888888888888, \"#fdca26\"], [1.0, \"#f0f921\"]], \"sequentialminus\": [[0.0, \"#0d0887\"], [0.1111111111111111, \"#46039f\"], [0.2222222222222222, \"#7201a8\"], [0.3333333333333333, \"#9c179e\"], [0.4444444444444444, \"#bd3786\"], [0.5555555555555556, \"#d8576b\"], [0.6666666666666666, \"#ed7953\"], [0.7777777777777778, \"#fb9f3a\"], [0.8888888888888888, \"#fdca26\"], [1.0, \"#f0f921\"]]}, \"colorway\": [\"#636efa\", \"#EF553B\", \"#00cc96\", \"#ab63fa\", \"#FFA15A\", \"#19d3f3\", \"#FF6692\", \"#B6E880\", \"#FF97FF\", \"#FECB52\"], \"font\": {\"color\": \"#2a3f5f\"}, \"geo\": {\"bgcolor\": \"white\", \"lakecolor\": \"white\", \"landcolor\": \"#E5ECF6\", \"showlakes\": true, \"showland\": true, \"subunitcolor\": \"white\"}, \"hoverlabel\": {\"align\": \"left\"}, \"hovermode\": \"closest\", \"mapbox\": {\"style\": \"light\"}, \"paper_bgcolor\": \"white\", \"plot_bgcolor\": \"#E5ECF6\", \"polar\": {\"angularaxis\": {\"gridcolor\": \"white\", \"linecolor\": \"white\", \"ticks\": \"\"}, \"bgcolor\": \"#E5ECF6\", \"radialaxis\": {\"gridcolor\": \"white\", \"linecolor\": \"white\", \"ticks\": \"\"}}, \"scene\": {\"xaxis\": {\"backgroundcolor\": \"#E5ECF6\", \"gridcolor\": \"white\", \"gridwidth\": 2, \"linecolor\": \"white\", \"showbackground\": true, \"ticks\": \"\", \"zerolinecolor\": \"white\"}, \"yaxis\": {\"backgroundcolor\": \"#E5ECF6\", \"gridcolor\": \"white\", \"gridwidth\": 2, \"linecolor\": \"white\", \"showbackground\": true, \"ticks\": \"\", \"zerolinecolor\": \"white\"}, \"zaxis\": {\"backgroundcolor\": \"#E5ECF6\", \"gridcolor\": \"white\", \"gridwidth\": 2, \"linecolor\": \"white\", \"showbackground\": true, \"ticks\": \"\", \"zerolinecolor\": \"white\"}}, \"shapedefaults\": {\"line\": {\"color\": \"#2a3f5f\"}}, \"ternary\": {\"aaxis\": {\"gridcolor\": \"white\", \"linecolor\": \"white\", \"ticks\": \"\"}, \"baxis\": {\"gridcolor\": \"white\", \"linecolor\": \"white\", \"ticks\": \"\"}, \"bgcolor\": \"#E5ECF6\", \"caxis\": {\"gridcolor\": \"white\", \"linecolor\": \"white\", \"ticks\": \"\"}}, \"title\": {\"x\": 0.05}, \"xaxis\": {\"automargin\": true, \"gridcolor\": \"white\", \"linecolor\": \"white\", \"ticks\": \"\", \"title\": {\"standoff\": 15}, \"zerolinecolor\": \"white\", \"zerolinewidth\": 2}, \"yaxis\": {\"automargin\": true, \"gridcolor\": \"white\", \"linecolor\": \"white\", \"ticks\": \"\", \"title\": {\"standoff\": 15}, \"zerolinecolor\": \"white\", \"zerolinewidth\": 2}}}, \"xaxis\": {\"anchor\": \"y\", \"domain\": [0.0, 0.94]}, \"yaxis\": {\"anchor\": \"x\", \"domain\": [0.0, 1.0]}, \"yaxis2\": {\"anchor\": \"x\", \"overlaying\": \"y\", \"side\": \"right\"}},                        {\"responsive\": true}                    ).then(function(){\n",
              "                            \n",
              "var gd = document.getElementById('466046e0-7360-4bef-a640-7c633361f3ea');\n",
              "var x = new MutationObserver(function (mutations, observer) {{\n",
              "        var display = window.getComputedStyle(gd).display;\n",
              "        if (!display || display === 'none') {{\n",
              "            console.log([gd, 'removed!']);\n",
              "            Plotly.purge(gd);\n",
              "            observer.disconnect();\n",
              "        }}\n",
              "}});\n",
              "\n",
              "// Listen for the removal of the full notebook cells\n",
              "var notebookContainer = gd.closest('#notebook-container');\n",
              "if (notebookContainer) {{\n",
              "    x.observe(notebookContainer, {childList: true});\n",
              "}}\n",
              "\n",
              "// Listen for the clearing of the current output cell\n",
              "var outputEl = gd.closest('.output');\n",
              "if (outputEl) {{\n",
              "    x.observe(outputEl, {childList: true});\n",
              "}}\n",
              "\n",
              "                        })                };                            </script>        </div>\n",
              "</body>\n",
              "</html>"
            ]
          },
          "metadata": {
            "tags": []
          }
        }
      ]
    },
    {
      "cell_type": "code",
      "metadata": {
        "colab": {
          "base_uri": "https://localhost:8080/",
          "height": 542
        },
        "id": "vaCc6T0yxshO",
        "outputId": "23731ed2-2f6b-4255-9bfd-f0736db580fc"
      },
      "source": [
        "tEvents2 = close.index[1:]\n",
        "t2 = close.index.searchsorted(tEvents2+pd.Timedelta(days=numDays))\n",
        "t2 = t2[t2<close.shape[0]]\n",
        "t2 = pd.Series(close.index[t2],index=tEvents2[:t2.shape[0]]) # NaNs at end\n",
        "events2 = getEvents(close, tEvents2, ptSl=1, trgt=stds, minRet=0.0, numThreads=1, t1=t2)\n",
        "out2, numCoEvents2 = SampleTW(close, events2, numThreads=1)\n",
        "fig = px.histogram(out2['tW'], nbins=100)\n",
        "fig.show()"
      ],
      "execution_count": null,
      "outputs": [
        {
          "output_type": "display_data",
          "data": {
            "text/html": [
              "<html>\n",
              "<head><meta charset=\"utf-8\" /></head>\n",
              "<body>\n",
              "    <div>            <script src=\"https://cdnjs.cloudflare.com/ajax/libs/mathjax/2.7.5/MathJax.js?config=TeX-AMS-MML_SVG\"></script><script type=\"text/javascript\">if (window.MathJax) {MathJax.Hub.Config({SVG: {font: \"STIX-Web\"}});}</script>                <script type=\"text/javascript\">window.PlotlyConfig = {MathJaxConfig: 'local'};</script>\n",
              "        <script src=\"https://cdn.plot.ly/plotly-latest.min.js\"></script>                <div id=\"a5a6c9c5-b569-489b-ada7-8379413a4228\" class=\"plotly-graph-div\" style=\"height:525px; width:100%;\"></div>            <script type=\"text/javascript\">                                    window.PLOTLYENV=window.PLOTLYENV || {};                                    if (document.getElementById(\"a5a6c9c5-b569-489b-ada7-8379413a4228\")) {                    Plotly.newPlot(                        \"a5a6c9c5-b569-489b-ada7-8379413a4228\",                        [{\"alignmentgroup\": \"True\", \"bingroup\": \"x\", \"hovertemplate\": \"variable=tW<br>value=%{x}<br>count=%{y}<extra></extra>\", \"legendgroup\": \"tW\", \"marker\": {\"color\": \"#636efa\"}, \"name\": \"tW\", \"nbinsx\": 100, \"offsetgroup\": \"tW\", \"orientation\": \"v\", \"showlegend\": true, \"type\": \"histogram\", \"x\": [0.75, 0.5, 0.33888888888888885, 0.3611111111111111, 0.2583333333333333, 0.2333333333333333, 0.225, 0.29666666666666663, 0.3208333333333333, 0.26111111111111107, 0.225, 0.35, 0.35666666666666663, 0.3208333333333333, 0.26111111111111107, 0.225, 0.3444444444444444, 0.41666666666666663, 0.41666666666666663, 0.22387866762866762, 0.19877672832218288, 0.23749999999999996, 0.1503567420234087, 0.1379013347763348, 0.12903009688723974, 0.12275733525733527, 0.11397546897546898, 0.10675505050505052, 0.10067340067340068, 0.09545454545454546, 0.29545454545454547, 0.4444444444444444, 0.41666666666666663, 0.38888888888888884, 0.41666666666666663, 0.3666666666666666, 0.41666666666666663, 0.3333333333333333, 0.3333333333333333, 0.3333333333333333, 0.41666666666666663, 0.5, 0.5, 0.5, 0.5, 0.5, 0.5, 0.4444444444444444, 0.41666666666666663, 0.38888888888888884, 0.41666666666666663, 0.38888888888888884, 0.41666666666666663, 0.3233333333333333, 0.2518518518518518, 0.26111111111111107, 0.20476190476190476, 0.20416666666666666, 0.19666666666666666, 0.18333333333333335, 0.19583333333333333, 0.20555555555555557, 0.15572383965241113, 0.15274764917622058, 0.14059863747363746, 0.13001215955761408, 0.1180133755133755, 0.11051656676656678, 0.10578171828171828, 0.10207070707070709, 0.09093499093499093, 0.08689976689976689, 0.08362470862470862, 0.09975942860558244, 0.10112826987826985, 0.10897435897435898, 0.10532828282828284, 0.10571338383838386, 0.10358270202020203, 0.10215488215488217, 0.10151515151515153, 0.10077700077700077, 0.0890151515151515, 0.08838383838383838, 0.10282828282828282, 0.1048611111111111, 0.11203703703703705, 0.10555555555555556, 0.1029882154882155, 0.1035858585858586, 0.09823232323232323, 0.09393939393939395, 0.09090909090909091, 0.2487012987012987, 0.29, 0.23749999999999996, 0.20416666666666666, 0.20416666666666666, 0.20555555555555557, 0.225, 0.31666666666666665, 0.3611111111111111, 0.27777777777777773, 0.25, 0.3333333333333333, 0.19414682539682537, 0.18468253968253967, 0.17794784580498865, 0.16593915343915344, 0.14912698412698414, 0.13558201058201058, 0.12936507936507935, 0.1259920634920635, 0.12683427683427684, 0.125979575979576, 0.1519047619047619, 0.12698773448773448, 0.1169877344877345, 0.1114678531345198, 0.10754419191919193, 0.10505050505050506, 0.10172558922558923, 0.09633838383838383, 0.09356060606060607, 0.09141414141414143, 0.182312925170068, 0.1327241335053835, 0.1303803835053835, 0.11345330017205016, 0.10435018685018684, 0.09751805733948592, 0.09581737706737706, 0.09219893354508739, 0.08298835003380459, 0.07878718503718504, 0.0751956376956377, 0.07995754245754244, 0.06940737833594976, 0.06708638583638583, 0.06511904761904762, 0.06354166666666666, 0.08258928571428571, 0.08928571428571429, 0.14951636904761906, 0.17588183421516757, 0.15342261904761903, 0.16593915343915344, 0.1330952380952381, 0.13134920634920638, 0.12251984126984126, 0.12156084656084658, 0.12113095238095238, 0.1263227513227513, 0.13392857142857142, 0.1246031746031746, 0.12454648526077097, 0.11203703703703705, 0.12079365079365079, 0.20136054421768707, 0.13095238095238096, 0.125, 0.22916666666666666, 0.29166666666666663, 0.27777777777777773, 0.25, 0.3611111111111111, 0.41666666666666663, 0.30277777777777776, 0.29666666666666663, 0.26111111111111107, 0.21666666666666667, 0.2, 0.3444444444444444, 0.41666666666666663, 0.35416666666666663, 0.3611111111111111, 0.29166666666666663, 0.2833333333333333, 0.29, 0.23749999999999996, 0.20555555555555557, 0.18333333333333335, 0.3333333333333333, 0.41666666666666663, 0.3333333333333333, 0.2033882783882784, 0.23231292517006802, 0.26111111111111107, 0.1644047619047619, 0.1644047619047619, 0.14925595238095238, 0.15476190476190477, 0.14047619047619048, 0.15575396825396826, 0.13392857142857142, 0.125, 0.125, 0.23611111111111108, 0.29166666666666663, 0.35416666666666663, 0.3611111111111111, 0.29166666666666663, 0.375, 0.35666666666666663, 0.3208333333333333, 0.26111111111111107, 0.225, 0.27499999999999997, 0.2223304473304473, 0.23749999999999996, 0.20555555555555557, 0.17028769841269842, 0.165995115995116, 0.16593915343915344, 0.14912698412698414, 0.13640873015873017, 0.1263227513227513, 0.11805555555555555, 0.1435683364254793, 0.14753659039373326, 0.14912698412698414, 0.13640873015873017, 0.13593975468975472, 0.13482368326118327, 0.12109358895073183, 0.12275733525733527, 0.11397546897546898, 0.10675505050505052, 0.10067340067340068, 0.09545454545454546, 0.1477272727272727, 0.13924963924963926, 0.13650793650793652, 0.15029761904761904, 0.12896825396825398, 0.1235827664399093, 0.12222222222222223, 0.11944444444444444, 0.11805555555555555, 0.11574074074074074, 0.1111111111111111, 0.1111111111111111], \"xaxis\": \"x\", \"yaxis\": \"y\"}],                        {\"barmode\": \"relative\", \"legend\": {\"title\": {\"text\": \"variable\"}, \"tracegroupgap\": 0}, \"margin\": {\"t\": 60}, \"template\": {\"data\": {\"bar\": [{\"error_x\": {\"color\": \"#2a3f5f\"}, \"error_y\": {\"color\": \"#2a3f5f\"}, \"marker\": {\"line\": {\"color\": \"#E5ECF6\", \"width\": 0.5}}, \"type\": \"bar\"}], \"barpolar\": [{\"marker\": {\"line\": {\"color\": \"#E5ECF6\", \"width\": 0.5}}, \"type\": \"barpolar\"}], \"carpet\": [{\"aaxis\": {\"endlinecolor\": \"#2a3f5f\", \"gridcolor\": \"white\", \"linecolor\": \"white\", \"minorgridcolor\": \"white\", \"startlinecolor\": \"#2a3f5f\"}, \"baxis\": {\"endlinecolor\": \"#2a3f5f\", \"gridcolor\": \"white\", \"linecolor\": \"white\", \"minorgridcolor\": \"white\", \"startlinecolor\": \"#2a3f5f\"}, \"type\": \"carpet\"}], \"choropleth\": [{\"colorbar\": {\"outlinewidth\": 0, \"ticks\": \"\"}, \"type\": \"choropleth\"}], \"contour\": [{\"colorbar\": {\"outlinewidth\": 0, \"ticks\": \"\"}, \"colorscale\": [[0.0, \"#0d0887\"], [0.1111111111111111, \"#46039f\"], [0.2222222222222222, \"#7201a8\"], [0.3333333333333333, \"#9c179e\"], [0.4444444444444444, \"#bd3786\"], [0.5555555555555556, \"#d8576b\"], [0.6666666666666666, \"#ed7953\"], [0.7777777777777778, \"#fb9f3a\"], [0.8888888888888888, \"#fdca26\"], [1.0, \"#f0f921\"]], \"type\": \"contour\"}], \"contourcarpet\": [{\"colorbar\": {\"outlinewidth\": 0, \"ticks\": \"\"}, \"type\": \"contourcarpet\"}], \"heatmap\": [{\"colorbar\": {\"outlinewidth\": 0, \"ticks\": \"\"}, \"colorscale\": [[0.0, \"#0d0887\"], [0.1111111111111111, \"#46039f\"], [0.2222222222222222, \"#7201a8\"], [0.3333333333333333, \"#9c179e\"], [0.4444444444444444, \"#bd3786\"], [0.5555555555555556, \"#d8576b\"], [0.6666666666666666, \"#ed7953\"], [0.7777777777777778, \"#fb9f3a\"], [0.8888888888888888, \"#fdca26\"], [1.0, \"#f0f921\"]], \"type\": \"heatmap\"}], \"heatmapgl\": [{\"colorbar\": {\"outlinewidth\": 0, \"ticks\": \"\"}, \"colorscale\": [[0.0, \"#0d0887\"], [0.1111111111111111, \"#46039f\"], [0.2222222222222222, \"#7201a8\"], [0.3333333333333333, \"#9c179e\"], [0.4444444444444444, \"#bd3786\"], [0.5555555555555556, \"#d8576b\"], [0.6666666666666666, \"#ed7953\"], [0.7777777777777778, \"#fb9f3a\"], [0.8888888888888888, \"#fdca26\"], [1.0, \"#f0f921\"]], \"type\": \"heatmapgl\"}], \"histogram\": [{\"marker\": {\"colorbar\": {\"outlinewidth\": 0, \"ticks\": \"\"}}, \"type\": \"histogram\"}], \"histogram2d\": [{\"colorbar\": {\"outlinewidth\": 0, \"ticks\": \"\"}, \"colorscale\": [[0.0, \"#0d0887\"], [0.1111111111111111, \"#46039f\"], [0.2222222222222222, \"#7201a8\"], [0.3333333333333333, \"#9c179e\"], [0.4444444444444444, \"#bd3786\"], [0.5555555555555556, \"#d8576b\"], [0.6666666666666666, \"#ed7953\"], [0.7777777777777778, \"#fb9f3a\"], [0.8888888888888888, \"#fdca26\"], [1.0, \"#f0f921\"]], \"type\": \"histogram2d\"}], \"histogram2dcontour\": [{\"colorbar\": {\"outlinewidth\": 0, \"ticks\": \"\"}, \"colorscale\": [[0.0, \"#0d0887\"], [0.1111111111111111, \"#46039f\"], [0.2222222222222222, \"#7201a8\"], [0.3333333333333333, \"#9c179e\"], [0.4444444444444444, \"#bd3786\"], [0.5555555555555556, \"#d8576b\"], [0.6666666666666666, \"#ed7953\"], [0.7777777777777778, \"#fb9f3a\"], [0.8888888888888888, \"#fdca26\"], [1.0, \"#f0f921\"]], \"type\": \"histogram2dcontour\"}], \"mesh3d\": [{\"colorbar\": {\"outlinewidth\": 0, \"ticks\": \"\"}, \"type\": \"mesh3d\"}], \"parcoords\": [{\"line\": {\"colorbar\": {\"outlinewidth\": 0, \"ticks\": \"\"}}, \"type\": \"parcoords\"}], \"pie\": [{\"automargin\": true, \"type\": \"pie\"}], \"scatter\": [{\"marker\": {\"colorbar\": {\"outlinewidth\": 0, \"ticks\": \"\"}}, \"type\": \"scatter\"}], \"scatter3d\": [{\"line\": {\"colorbar\": {\"outlinewidth\": 0, \"ticks\": \"\"}}, \"marker\": {\"colorbar\": {\"outlinewidth\": 0, \"ticks\": \"\"}}, \"type\": \"scatter3d\"}], \"scattercarpet\": [{\"marker\": {\"colorbar\": {\"outlinewidth\": 0, \"ticks\": \"\"}}, \"type\": \"scattercarpet\"}], \"scattergeo\": [{\"marker\": {\"colorbar\": {\"outlinewidth\": 0, \"ticks\": \"\"}}, \"type\": \"scattergeo\"}], \"scattergl\": [{\"marker\": {\"colorbar\": {\"outlinewidth\": 0, \"ticks\": \"\"}}, \"type\": \"scattergl\"}], \"scattermapbox\": [{\"marker\": {\"colorbar\": {\"outlinewidth\": 0, \"ticks\": \"\"}}, \"type\": \"scattermapbox\"}], \"scatterpolar\": [{\"marker\": {\"colorbar\": {\"outlinewidth\": 0, \"ticks\": \"\"}}, \"type\": \"scatterpolar\"}], \"scatterpolargl\": [{\"marker\": {\"colorbar\": {\"outlinewidth\": 0, \"ticks\": \"\"}}, \"type\": \"scatterpolargl\"}], \"scatterternary\": [{\"marker\": {\"colorbar\": {\"outlinewidth\": 0, \"ticks\": \"\"}}, \"type\": \"scatterternary\"}], \"surface\": [{\"colorbar\": {\"outlinewidth\": 0, \"ticks\": \"\"}, \"colorscale\": [[0.0, \"#0d0887\"], [0.1111111111111111, \"#46039f\"], [0.2222222222222222, \"#7201a8\"], [0.3333333333333333, \"#9c179e\"], [0.4444444444444444, \"#bd3786\"], [0.5555555555555556, \"#d8576b\"], [0.6666666666666666, \"#ed7953\"], [0.7777777777777778, \"#fb9f3a\"], [0.8888888888888888, \"#fdca26\"], [1.0, \"#f0f921\"]], \"type\": \"surface\"}], \"table\": [{\"cells\": {\"fill\": {\"color\": \"#EBF0F8\"}, \"line\": {\"color\": \"white\"}}, \"header\": {\"fill\": {\"color\": \"#C8D4E3\"}, \"line\": {\"color\": \"white\"}}, \"type\": \"table\"}]}, \"layout\": {\"annotationdefaults\": {\"arrowcolor\": \"#2a3f5f\", \"arrowhead\": 0, \"arrowwidth\": 1}, \"autotypenumbers\": \"strict\", \"coloraxis\": {\"colorbar\": {\"outlinewidth\": 0, \"ticks\": \"\"}}, \"colorscale\": {\"diverging\": [[0, \"#8e0152\"], [0.1, \"#c51b7d\"], [0.2, \"#de77ae\"], [0.3, \"#f1b6da\"], [0.4, \"#fde0ef\"], [0.5, \"#f7f7f7\"], [0.6, \"#e6f5d0\"], [0.7, \"#b8e186\"], [0.8, \"#7fbc41\"], [0.9, \"#4d9221\"], [1, \"#276419\"]], \"sequential\": [[0.0, \"#0d0887\"], [0.1111111111111111, \"#46039f\"], [0.2222222222222222, \"#7201a8\"], [0.3333333333333333, \"#9c179e\"], [0.4444444444444444, \"#bd3786\"], [0.5555555555555556, \"#d8576b\"], [0.6666666666666666, \"#ed7953\"], [0.7777777777777778, \"#fb9f3a\"], [0.8888888888888888, \"#fdca26\"], [1.0, \"#f0f921\"]], \"sequentialminus\": [[0.0, \"#0d0887\"], [0.1111111111111111, \"#46039f\"], [0.2222222222222222, \"#7201a8\"], [0.3333333333333333, \"#9c179e\"], [0.4444444444444444, \"#bd3786\"], [0.5555555555555556, \"#d8576b\"], [0.6666666666666666, \"#ed7953\"], [0.7777777777777778, \"#fb9f3a\"], [0.8888888888888888, \"#fdca26\"], [1.0, \"#f0f921\"]]}, \"colorway\": [\"#636efa\", \"#EF553B\", \"#00cc96\", \"#ab63fa\", \"#FFA15A\", \"#19d3f3\", \"#FF6692\", \"#B6E880\", \"#FF97FF\", \"#FECB52\"], \"font\": {\"color\": \"#2a3f5f\"}, \"geo\": {\"bgcolor\": \"white\", \"lakecolor\": \"white\", \"landcolor\": \"#E5ECF6\", \"showlakes\": true, \"showland\": true, \"subunitcolor\": \"white\"}, \"hoverlabel\": {\"align\": \"left\"}, \"hovermode\": \"closest\", \"mapbox\": {\"style\": \"light\"}, \"paper_bgcolor\": \"white\", \"plot_bgcolor\": \"#E5ECF6\", \"polar\": {\"angularaxis\": {\"gridcolor\": \"white\", \"linecolor\": \"white\", \"ticks\": \"\"}, \"bgcolor\": \"#E5ECF6\", \"radialaxis\": {\"gridcolor\": \"white\", \"linecolor\": \"white\", \"ticks\": \"\"}}, \"scene\": {\"xaxis\": {\"backgroundcolor\": \"#E5ECF6\", \"gridcolor\": \"white\", \"gridwidth\": 2, \"linecolor\": \"white\", \"showbackground\": true, \"ticks\": \"\", \"zerolinecolor\": \"white\"}, \"yaxis\": {\"backgroundcolor\": \"#E5ECF6\", \"gridcolor\": \"white\", \"gridwidth\": 2, \"linecolor\": \"white\", \"showbackground\": true, \"ticks\": \"\", \"zerolinecolor\": \"white\"}, \"zaxis\": {\"backgroundcolor\": \"#E5ECF6\", \"gridcolor\": \"white\", \"gridwidth\": 2, \"linecolor\": \"white\", \"showbackground\": true, \"ticks\": \"\", \"zerolinecolor\": \"white\"}}, \"shapedefaults\": {\"line\": {\"color\": \"#2a3f5f\"}}, \"ternary\": {\"aaxis\": {\"gridcolor\": \"white\", \"linecolor\": \"white\", \"ticks\": \"\"}, \"baxis\": {\"gridcolor\": \"white\", \"linecolor\": \"white\", \"ticks\": \"\"}, \"bgcolor\": \"#E5ECF6\", \"caxis\": {\"gridcolor\": \"white\", \"linecolor\": \"white\", \"ticks\": \"\"}}, \"title\": {\"x\": 0.05}, \"xaxis\": {\"automargin\": true, \"gridcolor\": \"white\", \"linecolor\": \"white\", \"ticks\": \"\", \"title\": {\"standoff\": 15}, \"zerolinecolor\": \"white\", \"zerolinewidth\": 2}, \"yaxis\": {\"automargin\": true, \"gridcolor\": \"white\", \"linecolor\": \"white\", \"ticks\": \"\", \"title\": {\"standoff\": 15}, \"zerolinecolor\": \"white\", \"zerolinewidth\": 2}}}, \"xaxis\": {\"anchor\": \"y\", \"domain\": [0.0, 1.0], \"title\": {\"text\": \"value\"}}, \"yaxis\": {\"anchor\": \"x\", \"domain\": [0.0, 1.0], \"title\": {\"text\": \"count\"}}},                        {\"responsive\": true}                    ).then(function(){\n",
              "                            \n",
              "var gd = document.getElementById('a5a6c9c5-b569-489b-ada7-8379413a4228');\n",
              "var x = new MutationObserver(function (mutations, observer) {{\n",
              "        var display = window.getComputedStyle(gd).display;\n",
              "        if (!display || display === 'none') {{\n",
              "            console.log([gd, 'removed!']);\n",
              "            Plotly.purge(gd);\n",
              "            observer.disconnect();\n",
              "        }}\n",
              "}});\n",
              "\n",
              "// Listen for the removal of the full notebook cells\n",
              "var notebookContainer = gd.closest('#notebook-container');\n",
              "if (notebookContainer) {{\n",
              "    x.observe(notebookContainer, {childList: true});\n",
              "}}\n",
              "\n",
              "// Listen for the clearing of the current output cell\n",
              "var outputEl = gd.closest('.output');\n",
              "if (outputEl) {{\n",
              "    x.observe(outputEl, {childList: true});\n",
              "}}\n",
              "\n",
              "                        })                };                            </script>        </div>\n",
              "</body>\n",
              "</html>"
            ]
          },
          "metadata": {
            "tags": []
          }
        }
      ]
    },
    {
      "cell_type": "markdown",
      "metadata": {
        "id": "99j1_mm2R8Al"
      },
      "source": [
        "SNIPPET 4.3 BUILD AN INDICATOR MATRIX\n",
        "\n",
        "Get Indicator matrix\n",
        "* barIx: the index of bars\n",
        "* t1: pd series, timestamps of the vertical barriers. (index: eventStart, value: eventEnd).\n",
        "\n",
        "The function returns:\n",
        "* indM: binary matrix, indicate what (price) bars influence the label for each observation"
      ]
    },
    {
      "cell_type": "code",
      "metadata": {
        "id": "EiSChT_CR8Ww"
      },
      "source": [
        "def getIndMatrix(barIx, t1):\n",
        "    indM = pd.DataFrame(0, index = barIx, columns = range(t1.shape[0]))\n",
        "    for i, (t0, t1) in enumerate(t1.iteritems()): # signal = obs\n",
        "        indM.loc[t0 : t1, i] = 1. # each obs each column, you can see how many bars are related to an obs/\n",
        "    return indM"
      ],
      "execution_count": null,
      "outputs": []
    },
    {
      "cell_type": "code",
      "metadata": {
        "colab": {
          "base_uri": "https://localhost:8080/",
          "height": 578
        },
        "id": "JX77_K2a0qzx",
        "outputId": "6d3ec622-d467-4611-f0f8-fb9b2977c9ed"
      },
      "source": [
        "indM = getIndMatrix(barIx=close.index, t1=out['t1'])\n",
        "indM.columns = t1.index\n",
        "indM.iloc[30:40,:]"
      ],
      "execution_count": null,
      "outputs": [
        {
          "output_type": "execute_result",
          "data": {
            "text/html": [
              "<div>\n",
              "<style scoped>\n",
              "    .dataframe tbody tr th:only-of-type {\n",
              "        vertical-align: middle;\n",
              "    }\n",
              "\n",
              "    .dataframe tbody tr th {\n",
              "        vertical-align: top;\n",
              "    }\n",
              "\n",
              "    .dataframe thead th {\n",
              "        text-align: right;\n",
              "    }\n",
              "</style>\n",
              "<table border=\"1\" class=\"dataframe\">\n",
              "  <thead>\n",
              "    <tr style=\"text-align: right;\">\n",
              "      <th></th>\n",
              "      <th>2020-01-31</th>\n",
              "      <th>2020-02-12</th>\n",
              "      <th>2020-02-24</th>\n",
              "      <th>2020-02-26</th>\n",
              "      <th>2020-02-27</th>\n",
              "      <th>2020-03-02</th>\n",
              "      <th>2020-03-06</th>\n",
              "      <th>2020-03-09</th>\n",
              "      <th>2020-03-11</th>\n",
              "      <th>2020-03-12</th>\n",
              "      <th>2020-03-13</th>\n",
              "      <th>2020-03-16</th>\n",
              "      <th>2020-03-17</th>\n",
              "      <th>2020-03-18</th>\n",
              "      <th>2020-03-23</th>\n",
              "      <th>2020-03-24</th>\n",
              "      <th>2020-03-26</th>\n",
              "      <th>2020-04-01</th>\n",
              "      <th>2020-04-06</th>\n",
              "      <th>2020-04-09</th>\n",
              "      <th>2020-04-27</th>\n",
              "      <th>2020-05-01</th>\n",
              "      <th>2020-05-13</th>\n",
              "      <th>2020-05-18</th>\n",
              "      <th>2020-05-27</th>\n",
              "      <th>2020-06-05</th>\n",
              "      <th>2020-06-11</th>\n",
              "      <th>2020-06-24</th>\n",
              "      <th>2020-07-14</th>\n",
              "      <th>2020-08-10</th>\n",
              "      <th>2020-09-21</th>\n",
              "      <th>2020-10-05</th>\n",
              "      <th>2020-10-28</th>\n",
              "      <th>2020-11-05</th>\n",
              "      <th>2020-11-10</th>\n",
              "      <th>2020-11-24</th>\n",
              "    </tr>\n",
              "    <tr>\n",
              "      <th>dates</th>\n",
              "      <th></th>\n",
              "      <th></th>\n",
              "      <th></th>\n",
              "      <th></th>\n",
              "      <th></th>\n",
              "      <th></th>\n",
              "      <th></th>\n",
              "      <th></th>\n",
              "      <th></th>\n",
              "      <th></th>\n",
              "      <th></th>\n",
              "      <th></th>\n",
              "      <th></th>\n",
              "      <th></th>\n",
              "      <th></th>\n",
              "      <th></th>\n",
              "      <th></th>\n",
              "      <th></th>\n",
              "      <th></th>\n",
              "      <th></th>\n",
              "      <th></th>\n",
              "      <th></th>\n",
              "      <th></th>\n",
              "      <th></th>\n",
              "      <th></th>\n",
              "      <th></th>\n",
              "      <th></th>\n",
              "      <th></th>\n",
              "      <th></th>\n",
              "      <th></th>\n",
              "      <th></th>\n",
              "      <th></th>\n",
              "      <th></th>\n",
              "      <th></th>\n",
              "      <th></th>\n",
              "      <th></th>\n",
              "    </tr>\n",
              "  </thead>\n",
              "  <tbody>\n",
              "    <tr>\n",
              "      <th>2020-02-20</th>\n",
              "      <td>0</td>\n",
              "      <td>1</td>\n",
              "      <td>0</td>\n",
              "      <td>0</td>\n",
              "      <td>0</td>\n",
              "      <td>0</td>\n",
              "      <td>0</td>\n",
              "      <td>0</td>\n",
              "      <td>0</td>\n",
              "      <td>0</td>\n",
              "      <td>0</td>\n",
              "      <td>0</td>\n",
              "      <td>0</td>\n",
              "      <td>0</td>\n",
              "      <td>0</td>\n",
              "      <td>0</td>\n",
              "      <td>0</td>\n",
              "      <td>0</td>\n",
              "      <td>0</td>\n",
              "      <td>0</td>\n",
              "      <td>0</td>\n",
              "      <td>0</td>\n",
              "      <td>0</td>\n",
              "      <td>0</td>\n",
              "      <td>0</td>\n",
              "      <td>0</td>\n",
              "      <td>0</td>\n",
              "      <td>0</td>\n",
              "      <td>0</td>\n",
              "      <td>0</td>\n",
              "      <td>0</td>\n",
              "      <td>0</td>\n",
              "      <td>0</td>\n",
              "      <td>0</td>\n",
              "      <td>0</td>\n",
              "      <td>0</td>\n",
              "    </tr>\n",
              "    <tr>\n",
              "      <th>2020-02-21</th>\n",
              "      <td>0</td>\n",
              "      <td>1</td>\n",
              "      <td>0</td>\n",
              "      <td>0</td>\n",
              "      <td>0</td>\n",
              "      <td>0</td>\n",
              "      <td>0</td>\n",
              "      <td>0</td>\n",
              "      <td>0</td>\n",
              "      <td>0</td>\n",
              "      <td>0</td>\n",
              "      <td>0</td>\n",
              "      <td>0</td>\n",
              "      <td>0</td>\n",
              "      <td>0</td>\n",
              "      <td>0</td>\n",
              "      <td>0</td>\n",
              "      <td>0</td>\n",
              "      <td>0</td>\n",
              "      <td>0</td>\n",
              "      <td>0</td>\n",
              "      <td>0</td>\n",
              "      <td>0</td>\n",
              "      <td>0</td>\n",
              "      <td>0</td>\n",
              "      <td>0</td>\n",
              "      <td>0</td>\n",
              "      <td>0</td>\n",
              "      <td>0</td>\n",
              "      <td>0</td>\n",
              "      <td>0</td>\n",
              "      <td>0</td>\n",
              "      <td>0</td>\n",
              "      <td>0</td>\n",
              "      <td>0</td>\n",
              "      <td>0</td>\n",
              "    </tr>\n",
              "    <tr>\n",
              "      <th>2020-02-24</th>\n",
              "      <td>0</td>\n",
              "      <td>1</td>\n",
              "      <td>1</td>\n",
              "      <td>0</td>\n",
              "      <td>0</td>\n",
              "      <td>0</td>\n",
              "      <td>0</td>\n",
              "      <td>0</td>\n",
              "      <td>0</td>\n",
              "      <td>0</td>\n",
              "      <td>0</td>\n",
              "      <td>0</td>\n",
              "      <td>0</td>\n",
              "      <td>0</td>\n",
              "      <td>0</td>\n",
              "      <td>0</td>\n",
              "      <td>0</td>\n",
              "      <td>0</td>\n",
              "      <td>0</td>\n",
              "      <td>0</td>\n",
              "      <td>0</td>\n",
              "      <td>0</td>\n",
              "      <td>0</td>\n",
              "      <td>0</td>\n",
              "      <td>0</td>\n",
              "      <td>0</td>\n",
              "      <td>0</td>\n",
              "      <td>0</td>\n",
              "      <td>0</td>\n",
              "      <td>0</td>\n",
              "      <td>0</td>\n",
              "      <td>0</td>\n",
              "      <td>0</td>\n",
              "      <td>0</td>\n",
              "      <td>0</td>\n",
              "      <td>0</td>\n",
              "    </tr>\n",
              "    <tr>\n",
              "      <th>2020-02-25</th>\n",
              "      <td>0</td>\n",
              "      <td>0</td>\n",
              "      <td>1</td>\n",
              "      <td>0</td>\n",
              "      <td>0</td>\n",
              "      <td>0</td>\n",
              "      <td>0</td>\n",
              "      <td>0</td>\n",
              "      <td>0</td>\n",
              "      <td>0</td>\n",
              "      <td>0</td>\n",
              "      <td>0</td>\n",
              "      <td>0</td>\n",
              "      <td>0</td>\n",
              "      <td>0</td>\n",
              "      <td>0</td>\n",
              "      <td>0</td>\n",
              "      <td>0</td>\n",
              "      <td>0</td>\n",
              "      <td>0</td>\n",
              "      <td>0</td>\n",
              "      <td>0</td>\n",
              "      <td>0</td>\n",
              "      <td>0</td>\n",
              "      <td>0</td>\n",
              "      <td>0</td>\n",
              "      <td>0</td>\n",
              "      <td>0</td>\n",
              "      <td>0</td>\n",
              "      <td>0</td>\n",
              "      <td>0</td>\n",
              "      <td>0</td>\n",
              "      <td>0</td>\n",
              "      <td>0</td>\n",
              "      <td>0</td>\n",
              "      <td>0</td>\n",
              "    </tr>\n",
              "    <tr>\n",
              "      <th>2020-02-26</th>\n",
              "      <td>0</td>\n",
              "      <td>0</td>\n",
              "      <td>0</td>\n",
              "      <td>1</td>\n",
              "      <td>0</td>\n",
              "      <td>0</td>\n",
              "      <td>0</td>\n",
              "      <td>0</td>\n",
              "      <td>0</td>\n",
              "      <td>0</td>\n",
              "      <td>0</td>\n",
              "      <td>0</td>\n",
              "      <td>0</td>\n",
              "      <td>0</td>\n",
              "      <td>0</td>\n",
              "      <td>0</td>\n",
              "      <td>0</td>\n",
              "      <td>0</td>\n",
              "      <td>0</td>\n",
              "      <td>0</td>\n",
              "      <td>0</td>\n",
              "      <td>0</td>\n",
              "      <td>0</td>\n",
              "      <td>0</td>\n",
              "      <td>0</td>\n",
              "      <td>0</td>\n",
              "      <td>0</td>\n",
              "      <td>0</td>\n",
              "      <td>0</td>\n",
              "      <td>0</td>\n",
              "      <td>0</td>\n",
              "      <td>0</td>\n",
              "      <td>0</td>\n",
              "      <td>0</td>\n",
              "      <td>0</td>\n",
              "      <td>0</td>\n",
              "    </tr>\n",
              "    <tr>\n",
              "      <th>2020-02-27</th>\n",
              "      <td>0</td>\n",
              "      <td>0</td>\n",
              "      <td>0</td>\n",
              "      <td>1</td>\n",
              "      <td>1</td>\n",
              "      <td>0</td>\n",
              "      <td>0</td>\n",
              "      <td>0</td>\n",
              "      <td>0</td>\n",
              "      <td>0</td>\n",
              "      <td>0</td>\n",
              "      <td>0</td>\n",
              "      <td>0</td>\n",
              "      <td>0</td>\n",
              "      <td>0</td>\n",
              "      <td>0</td>\n",
              "      <td>0</td>\n",
              "      <td>0</td>\n",
              "      <td>0</td>\n",
              "      <td>0</td>\n",
              "      <td>0</td>\n",
              "      <td>0</td>\n",
              "      <td>0</td>\n",
              "      <td>0</td>\n",
              "      <td>0</td>\n",
              "      <td>0</td>\n",
              "      <td>0</td>\n",
              "      <td>0</td>\n",
              "      <td>0</td>\n",
              "      <td>0</td>\n",
              "      <td>0</td>\n",
              "      <td>0</td>\n",
              "      <td>0</td>\n",
              "      <td>0</td>\n",
              "      <td>0</td>\n",
              "      <td>0</td>\n",
              "    </tr>\n",
              "    <tr>\n",
              "      <th>2020-02-28</th>\n",
              "      <td>0</td>\n",
              "      <td>0</td>\n",
              "      <td>0</td>\n",
              "      <td>0</td>\n",
              "      <td>1</td>\n",
              "      <td>0</td>\n",
              "      <td>0</td>\n",
              "      <td>0</td>\n",
              "      <td>0</td>\n",
              "      <td>0</td>\n",
              "      <td>0</td>\n",
              "      <td>0</td>\n",
              "      <td>0</td>\n",
              "      <td>0</td>\n",
              "      <td>0</td>\n",
              "      <td>0</td>\n",
              "      <td>0</td>\n",
              "      <td>0</td>\n",
              "      <td>0</td>\n",
              "      <td>0</td>\n",
              "      <td>0</td>\n",
              "      <td>0</td>\n",
              "      <td>0</td>\n",
              "      <td>0</td>\n",
              "      <td>0</td>\n",
              "      <td>0</td>\n",
              "      <td>0</td>\n",
              "      <td>0</td>\n",
              "      <td>0</td>\n",
              "      <td>0</td>\n",
              "      <td>0</td>\n",
              "      <td>0</td>\n",
              "      <td>0</td>\n",
              "      <td>0</td>\n",
              "      <td>0</td>\n",
              "      <td>0</td>\n",
              "    </tr>\n",
              "    <tr>\n",
              "      <th>2020-03-02</th>\n",
              "      <td>0</td>\n",
              "      <td>0</td>\n",
              "      <td>0</td>\n",
              "      <td>0</td>\n",
              "      <td>1</td>\n",
              "      <td>1</td>\n",
              "      <td>0</td>\n",
              "      <td>0</td>\n",
              "      <td>0</td>\n",
              "      <td>0</td>\n",
              "      <td>0</td>\n",
              "      <td>0</td>\n",
              "      <td>0</td>\n",
              "      <td>0</td>\n",
              "      <td>0</td>\n",
              "      <td>0</td>\n",
              "      <td>0</td>\n",
              "      <td>0</td>\n",
              "      <td>0</td>\n",
              "      <td>0</td>\n",
              "      <td>0</td>\n",
              "      <td>0</td>\n",
              "      <td>0</td>\n",
              "      <td>0</td>\n",
              "      <td>0</td>\n",
              "      <td>0</td>\n",
              "      <td>0</td>\n",
              "      <td>0</td>\n",
              "      <td>0</td>\n",
              "      <td>0</td>\n",
              "      <td>0</td>\n",
              "      <td>0</td>\n",
              "      <td>0</td>\n",
              "      <td>0</td>\n",
              "      <td>0</td>\n",
              "      <td>0</td>\n",
              "    </tr>\n",
              "    <tr>\n",
              "      <th>2020-03-03</th>\n",
              "      <td>0</td>\n",
              "      <td>0</td>\n",
              "      <td>0</td>\n",
              "      <td>0</td>\n",
              "      <td>0</td>\n",
              "      <td>1</td>\n",
              "      <td>0</td>\n",
              "      <td>0</td>\n",
              "      <td>0</td>\n",
              "      <td>0</td>\n",
              "      <td>0</td>\n",
              "      <td>0</td>\n",
              "      <td>0</td>\n",
              "      <td>0</td>\n",
              "      <td>0</td>\n",
              "      <td>0</td>\n",
              "      <td>0</td>\n",
              "      <td>0</td>\n",
              "      <td>0</td>\n",
              "      <td>0</td>\n",
              "      <td>0</td>\n",
              "      <td>0</td>\n",
              "      <td>0</td>\n",
              "      <td>0</td>\n",
              "      <td>0</td>\n",
              "      <td>0</td>\n",
              "      <td>0</td>\n",
              "      <td>0</td>\n",
              "      <td>0</td>\n",
              "      <td>0</td>\n",
              "      <td>0</td>\n",
              "      <td>0</td>\n",
              "      <td>0</td>\n",
              "      <td>0</td>\n",
              "      <td>0</td>\n",
              "      <td>0</td>\n",
              "    </tr>\n",
              "    <tr>\n",
              "      <th>2020-03-04</th>\n",
              "      <td>0</td>\n",
              "      <td>0</td>\n",
              "      <td>0</td>\n",
              "      <td>0</td>\n",
              "      <td>0</td>\n",
              "      <td>1</td>\n",
              "      <td>0</td>\n",
              "      <td>0</td>\n",
              "      <td>0</td>\n",
              "      <td>0</td>\n",
              "      <td>0</td>\n",
              "      <td>0</td>\n",
              "      <td>0</td>\n",
              "      <td>0</td>\n",
              "      <td>0</td>\n",
              "      <td>0</td>\n",
              "      <td>0</td>\n",
              "      <td>0</td>\n",
              "      <td>0</td>\n",
              "      <td>0</td>\n",
              "      <td>0</td>\n",
              "      <td>0</td>\n",
              "      <td>0</td>\n",
              "      <td>0</td>\n",
              "      <td>0</td>\n",
              "      <td>0</td>\n",
              "      <td>0</td>\n",
              "      <td>0</td>\n",
              "      <td>0</td>\n",
              "      <td>0</td>\n",
              "      <td>0</td>\n",
              "      <td>0</td>\n",
              "      <td>0</td>\n",
              "      <td>0</td>\n",
              "      <td>0</td>\n",
              "      <td>0</td>\n",
              "    </tr>\n",
              "  </tbody>\n",
              "</table>\n",
              "</div>"
            ],
            "text/plain": [
              "            2020-01-31  2020-02-12  ...  2020-11-10  2020-11-24\n",
              "dates                               ...                        \n",
              "2020-02-20           0           1  ...           0           0\n",
              "2020-02-21           0           1  ...           0           0\n",
              "2020-02-24           0           1  ...           0           0\n",
              "2020-02-25           0           0  ...           0           0\n",
              "2020-02-26           0           0  ...           0           0\n",
              "2020-02-27           0           0  ...           0           0\n",
              "2020-02-28           0           0  ...           0           0\n",
              "2020-03-02           0           0  ...           0           0\n",
              "2020-03-03           0           0  ...           0           0\n",
              "2020-03-04           0           0  ...           0           0\n",
              "\n",
              "[10 rows x 36 columns]"
            ]
          },
          "metadata": {
            "tags": []
          },
          "execution_count": 21
        }
      ]
    },
    {
      "cell_type": "markdown",
      "metadata": {
        "id": "tThWcJwMSQTm"
      },
      "source": [
        "SNIPPET 4.4 COMPUTE AVERAGE UNIQUENESS\n",
        "\n",
        "* indM: binary matrix, indicate what (price) bars influence the label for each observation\n",
        "\n",
        "The function returns:\n",
        "* avgU: average uniqueness of each observed feature"
      ]
    },
    {
      "cell_type": "code",
      "metadata": {
        "id": "hV6N3jGZSTnu"
      },
      "source": [
        "def getAvgUniqueness(indM):\n",
        "    # Average uniqueness from indicator matrix\n",
        "    c = indM.sum(axis = 1) # concurrency, how many obs share the same bar\n",
        "    u = indM.div(c, axis = 0) # uniqueness, the more obs share the same bar, the less important the bar is\n",
        "    avgU = u[u > 0].mean() # average uniqueness\n",
        "    return avgU"
      ],
      "execution_count": null,
      "outputs": []
    },
    {
      "cell_type": "code",
      "metadata": {
        "colab": {
          "base_uri": "https://localhost:8080/",
          "height": 542
        },
        "id": "b7qtjNDO8tSx",
        "outputId": "a93c1388-f41b-4835-96f3-2a09cf16c5c5"
      },
      "source": [
        "avgU = getAvgUniqueness(indM)\n",
        "avgU.plot()"
      ],
      "execution_count": null,
      "outputs": [
        {
          "output_type": "display_data",
          "data": {
            "text/html": [
              "<html>\n",
              "<head><meta charset=\"utf-8\" /></head>\n",
              "<body>\n",
              "    <div>            <script src=\"https://cdnjs.cloudflare.com/ajax/libs/mathjax/2.7.5/MathJax.js?config=TeX-AMS-MML_SVG\"></script><script type=\"text/javascript\">if (window.MathJax) {MathJax.Hub.Config({SVG: {font: \"STIX-Web\"}});}</script>                <script type=\"text/javascript\">window.PlotlyConfig = {MathJaxConfig: 'local'};</script>\n",
              "        <script src=\"https://cdn.plot.ly/plotly-latest.min.js\"></script>                <div id=\"49855b8b-67d2-4d63-bfd5-79d31881e3e0\" class=\"plotly-graph-div\" style=\"height:525px; width:100%;\"></div>            <script type=\"text/javascript\">                                    window.PLOTLYENV=window.PLOTLYENV || {};                                    if (document.getElementById(\"49855b8b-67d2-4d63-bfd5-79d31881e3e0\")) {                    Plotly.newPlot(                        \"49855b8b-67d2-4d63-bfd5-79d31881e3e0\",                        [{\"hovertemplate\": \"variable=0<br>index=%{x}<br>value=%{y}<extra></extra>\", \"legendgroup\": \"0\", \"line\": {\"color\": \"#636efa\", \"dash\": \"solid\"}, \"mode\": \"lines\", \"name\": \"0\", \"orientation\": \"v\", \"showlegend\": true, \"type\": \"scatter\", \"x\": [\"2020-01-31T00:00:00\", \"2020-02-12T00:00:00\", \"2020-02-24T00:00:00\", \"2020-02-26T00:00:00\", \"2020-02-27T00:00:00\", \"2020-03-02T00:00:00\", \"2020-03-06T00:00:00\", \"2020-03-09T00:00:00\", \"2020-03-11T00:00:00\", \"2020-03-12T00:00:00\", \"2020-03-13T00:00:00\", \"2020-03-16T00:00:00\", \"2020-03-17T00:00:00\", \"2020-03-18T00:00:00\", \"2020-03-23T00:00:00\", \"2020-03-24T00:00:00\", \"2020-03-26T00:00:00\", \"2020-04-01T00:00:00\", \"2020-04-06T00:00:00\", \"2020-04-09T00:00:00\", \"2020-04-27T00:00:00\", \"2020-05-01T00:00:00\", \"2020-05-13T00:00:00\", \"2020-05-18T00:00:00\", \"2020-05-27T00:00:00\", \"2020-06-05T00:00:00\", \"2020-06-11T00:00:00\", \"2020-06-24T00:00:00\", \"2020-07-14T00:00:00\", \"2020-08-10T00:00:00\", \"2020-09-21T00:00:00\", \"2020-10-05T00:00:00\", \"2020-10-28T00:00:00\", \"2020-11-05T00:00:00\", \"2020-11-10T00:00:00\", \"2020-11-24T00:00:00\"], \"xaxis\": \"x\", \"y\": [1.0, 0.9285714285714286, 0.75, 0.75, 0.6666666666666666, 0.8, 0.5, 0.75, 0.75, 0.5, 0.5, 0.5, 0.5, 0.8333333333333334, 0.75, 0.6666666666666666, 0.8, 0.75, 0.75, 0.8214285714285714, 0.48717948717948717, 0.47916666666666663, 0.41666666666666663, 0.47222222222222215, 0.9285714285714286, 0.9, 0.875, 0.9615384615384616, 0.9285714285714286, 1.0, 1.0, 1.0, 1.0, 1.0, 0.9545454545454546, 0.9642857142857143], \"yaxis\": \"y\"}],                        {\"legend\": {\"title\": {\"text\": \"variable\"}, \"tracegroupgap\": 0}, \"margin\": {\"t\": 60}, \"template\": {\"data\": {\"bar\": [{\"error_x\": {\"color\": \"#2a3f5f\"}, \"error_y\": {\"color\": \"#2a3f5f\"}, \"marker\": {\"line\": {\"color\": \"#E5ECF6\", \"width\": 0.5}}, \"type\": \"bar\"}], \"barpolar\": [{\"marker\": {\"line\": {\"color\": \"#E5ECF6\", \"width\": 0.5}}, \"type\": \"barpolar\"}], \"carpet\": [{\"aaxis\": {\"endlinecolor\": \"#2a3f5f\", \"gridcolor\": \"white\", \"linecolor\": \"white\", \"minorgridcolor\": \"white\", \"startlinecolor\": \"#2a3f5f\"}, \"baxis\": {\"endlinecolor\": \"#2a3f5f\", \"gridcolor\": \"white\", \"linecolor\": \"white\", \"minorgridcolor\": \"white\", \"startlinecolor\": \"#2a3f5f\"}, \"type\": \"carpet\"}], \"choropleth\": [{\"colorbar\": {\"outlinewidth\": 0, \"ticks\": \"\"}, \"type\": \"choropleth\"}], \"contour\": [{\"colorbar\": {\"outlinewidth\": 0, \"ticks\": \"\"}, \"colorscale\": [[0.0, \"#0d0887\"], [0.1111111111111111, \"#46039f\"], [0.2222222222222222, \"#7201a8\"], [0.3333333333333333, \"#9c179e\"], [0.4444444444444444, \"#bd3786\"], [0.5555555555555556, \"#d8576b\"], [0.6666666666666666, \"#ed7953\"], [0.7777777777777778, \"#fb9f3a\"], [0.8888888888888888, \"#fdca26\"], [1.0, \"#f0f921\"]], \"type\": \"contour\"}], \"contourcarpet\": [{\"colorbar\": {\"outlinewidth\": 0, \"ticks\": \"\"}, \"type\": \"contourcarpet\"}], \"heatmap\": [{\"colorbar\": {\"outlinewidth\": 0, \"ticks\": \"\"}, \"colorscale\": [[0.0, \"#0d0887\"], [0.1111111111111111, \"#46039f\"], [0.2222222222222222, \"#7201a8\"], [0.3333333333333333, \"#9c179e\"], [0.4444444444444444, \"#bd3786\"], [0.5555555555555556, \"#d8576b\"], [0.6666666666666666, \"#ed7953\"], [0.7777777777777778, \"#fb9f3a\"], [0.8888888888888888, \"#fdca26\"], [1.0, \"#f0f921\"]], \"type\": \"heatmap\"}], \"heatmapgl\": [{\"colorbar\": {\"outlinewidth\": 0, \"ticks\": \"\"}, \"colorscale\": [[0.0, \"#0d0887\"], [0.1111111111111111, \"#46039f\"], [0.2222222222222222, \"#7201a8\"], [0.3333333333333333, \"#9c179e\"], [0.4444444444444444, \"#bd3786\"], [0.5555555555555556, \"#d8576b\"], [0.6666666666666666, \"#ed7953\"], [0.7777777777777778, \"#fb9f3a\"], [0.8888888888888888, \"#fdca26\"], [1.0, \"#f0f921\"]], \"type\": \"heatmapgl\"}], \"histogram\": [{\"marker\": {\"colorbar\": {\"outlinewidth\": 0, \"ticks\": \"\"}}, \"type\": \"histogram\"}], \"histogram2d\": [{\"colorbar\": {\"outlinewidth\": 0, \"ticks\": \"\"}, \"colorscale\": [[0.0, \"#0d0887\"], [0.1111111111111111, \"#46039f\"], [0.2222222222222222, \"#7201a8\"], [0.3333333333333333, \"#9c179e\"], [0.4444444444444444, \"#bd3786\"], [0.5555555555555556, \"#d8576b\"], [0.6666666666666666, \"#ed7953\"], [0.7777777777777778, \"#fb9f3a\"], [0.8888888888888888, \"#fdca26\"], [1.0, \"#f0f921\"]], \"type\": \"histogram2d\"}], \"histogram2dcontour\": [{\"colorbar\": {\"outlinewidth\": 0, \"ticks\": \"\"}, \"colorscale\": [[0.0, \"#0d0887\"], [0.1111111111111111, \"#46039f\"], [0.2222222222222222, \"#7201a8\"], [0.3333333333333333, \"#9c179e\"], [0.4444444444444444, \"#bd3786\"], [0.5555555555555556, \"#d8576b\"], [0.6666666666666666, \"#ed7953\"], [0.7777777777777778, \"#fb9f3a\"], [0.8888888888888888, \"#fdca26\"], [1.0, \"#f0f921\"]], \"type\": \"histogram2dcontour\"}], \"mesh3d\": [{\"colorbar\": {\"outlinewidth\": 0, \"ticks\": \"\"}, \"type\": \"mesh3d\"}], \"parcoords\": [{\"line\": {\"colorbar\": {\"outlinewidth\": 0, \"ticks\": \"\"}}, \"type\": \"parcoords\"}], \"pie\": [{\"automargin\": true, \"type\": \"pie\"}], \"scatter\": [{\"marker\": {\"colorbar\": {\"outlinewidth\": 0, \"ticks\": \"\"}}, \"type\": \"scatter\"}], \"scatter3d\": [{\"line\": {\"colorbar\": {\"outlinewidth\": 0, \"ticks\": \"\"}}, \"marker\": {\"colorbar\": {\"outlinewidth\": 0, \"ticks\": \"\"}}, \"type\": \"scatter3d\"}], \"scattercarpet\": [{\"marker\": {\"colorbar\": {\"outlinewidth\": 0, \"ticks\": \"\"}}, \"type\": \"scattercarpet\"}], \"scattergeo\": [{\"marker\": {\"colorbar\": {\"outlinewidth\": 0, \"ticks\": \"\"}}, \"type\": \"scattergeo\"}], \"scattergl\": [{\"marker\": {\"colorbar\": {\"outlinewidth\": 0, \"ticks\": \"\"}}, \"type\": \"scattergl\"}], \"scattermapbox\": [{\"marker\": {\"colorbar\": {\"outlinewidth\": 0, \"ticks\": \"\"}}, \"type\": \"scattermapbox\"}], \"scatterpolar\": [{\"marker\": {\"colorbar\": {\"outlinewidth\": 0, \"ticks\": \"\"}}, \"type\": \"scatterpolar\"}], \"scatterpolargl\": [{\"marker\": {\"colorbar\": {\"outlinewidth\": 0, \"ticks\": \"\"}}, \"type\": \"scatterpolargl\"}], \"scatterternary\": [{\"marker\": {\"colorbar\": {\"outlinewidth\": 0, \"ticks\": \"\"}}, \"type\": \"scatterternary\"}], \"surface\": [{\"colorbar\": {\"outlinewidth\": 0, \"ticks\": \"\"}, \"colorscale\": [[0.0, \"#0d0887\"], [0.1111111111111111, \"#46039f\"], [0.2222222222222222, \"#7201a8\"], [0.3333333333333333, \"#9c179e\"], [0.4444444444444444, \"#bd3786\"], [0.5555555555555556, \"#d8576b\"], [0.6666666666666666, \"#ed7953\"], [0.7777777777777778, \"#fb9f3a\"], [0.8888888888888888, \"#fdca26\"], [1.0, \"#f0f921\"]], \"type\": \"surface\"}], \"table\": [{\"cells\": {\"fill\": {\"color\": \"#EBF0F8\"}, \"line\": {\"color\": \"white\"}}, \"header\": {\"fill\": {\"color\": \"#C8D4E3\"}, \"line\": {\"color\": \"white\"}}, \"type\": \"table\"}]}, \"layout\": {\"annotationdefaults\": {\"arrowcolor\": \"#2a3f5f\", \"arrowhead\": 0, \"arrowwidth\": 1}, \"autotypenumbers\": \"strict\", \"coloraxis\": {\"colorbar\": {\"outlinewidth\": 0, \"ticks\": \"\"}}, \"colorscale\": {\"diverging\": [[0, \"#8e0152\"], [0.1, \"#c51b7d\"], [0.2, \"#de77ae\"], [0.3, \"#f1b6da\"], [0.4, \"#fde0ef\"], [0.5, \"#f7f7f7\"], [0.6, \"#e6f5d0\"], [0.7, \"#b8e186\"], [0.8, \"#7fbc41\"], [0.9, \"#4d9221\"], [1, \"#276419\"]], \"sequential\": [[0.0, \"#0d0887\"], [0.1111111111111111, \"#46039f\"], [0.2222222222222222, \"#7201a8\"], [0.3333333333333333, \"#9c179e\"], [0.4444444444444444, \"#bd3786\"], [0.5555555555555556, \"#d8576b\"], [0.6666666666666666, \"#ed7953\"], [0.7777777777777778, \"#fb9f3a\"], [0.8888888888888888, \"#fdca26\"], [1.0, \"#f0f921\"]], \"sequentialminus\": [[0.0, \"#0d0887\"], [0.1111111111111111, \"#46039f\"], [0.2222222222222222, \"#7201a8\"], [0.3333333333333333, \"#9c179e\"], [0.4444444444444444, \"#bd3786\"], [0.5555555555555556, \"#d8576b\"], [0.6666666666666666, \"#ed7953\"], [0.7777777777777778, \"#fb9f3a\"], [0.8888888888888888, \"#fdca26\"], [1.0, \"#f0f921\"]]}, \"colorway\": [\"#636efa\", \"#EF553B\", \"#00cc96\", \"#ab63fa\", \"#FFA15A\", \"#19d3f3\", \"#FF6692\", \"#B6E880\", \"#FF97FF\", \"#FECB52\"], \"font\": {\"color\": \"#2a3f5f\"}, \"geo\": {\"bgcolor\": \"white\", \"lakecolor\": \"white\", \"landcolor\": \"#E5ECF6\", \"showlakes\": true, \"showland\": true, \"subunitcolor\": \"white\"}, \"hoverlabel\": {\"align\": \"left\"}, \"hovermode\": \"closest\", \"mapbox\": {\"style\": \"light\"}, \"paper_bgcolor\": \"white\", \"plot_bgcolor\": \"#E5ECF6\", \"polar\": {\"angularaxis\": {\"gridcolor\": \"white\", \"linecolor\": \"white\", \"ticks\": \"\"}, \"bgcolor\": \"#E5ECF6\", \"radialaxis\": {\"gridcolor\": \"white\", \"linecolor\": \"white\", \"ticks\": \"\"}}, \"scene\": {\"xaxis\": {\"backgroundcolor\": \"#E5ECF6\", \"gridcolor\": \"white\", \"gridwidth\": 2, \"linecolor\": \"white\", \"showbackground\": true, \"ticks\": \"\", \"zerolinecolor\": \"white\"}, \"yaxis\": {\"backgroundcolor\": \"#E5ECF6\", \"gridcolor\": \"white\", \"gridwidth\": 2, \"linecolor\": \"white\", \"showbackground\": true, \"ticks\": \"\", \"zerolinecolor\": \"white\"}, \"zaxis\": {\"backgroundcolor\": \"#E5ECF6\", \"gridcolor\": \"white\", \"gridwidth\": 2, \"linecolor\": \"white\", \"showbackground\": true, \"ticks\": \"\", \"zerolinecolor\": \"white\"}}, \"shapedefaults\": {\"line\": {\"color\": \"#2a3f5f\"}}, \"ternary\": {\"aaxis\": {\"gridcolor\": \"white\", \"linecolor\": \"white\", \"ticks\": \"\"}, \"baxis\": {\"gridcolor\": \"white\", \"linecolor\": \"white\", \"ticks\": \"\"}, \"bgcolor\": \"#E5ECF6\", \"caxis\": {\"gridcolor\": \"white\", \"linecolor\": \"white\", \"ticks\": \"\"}}, \"title\": {\"x\": 0.05}, \"xaxis\": {\"automargin\": true, \"gridcolor\": \"white\", \"linecolor\": \"white\", \"ticks\": \"\", \"title\": {\"standoff\": 15}, \"zerolinecolor\": \"white\", \"zerolinewidth\": 2}, \"yaxis\": {\"automargin\": true, \"gridcolor\": \"white\", \"linecolor\": \"white\", \"ticks\": \"\", \"title\": {\"standoff\": 15}, \"zerolinecolor\": \"white\", \"zerolinewidth\": 2}}}, \"xaxis\": {\"anchor\": \"y\", \"domain\": [0.0, 1.0], \"title\": {\"text\": \"index\"}}, \"yaxis\": {\"anchor\": \"x\", \"domain\": [0.0, 1.0], \"title\": {\"text\": \"value\"}}},                        {\"responsive\": true}                    ).then(function(){\n",
              "                            \n",
              "var gd = document.getElementById('49855b8b-67d2-4d63-bfd5-79d31881e3e0');\n",
              "var x = new MutationObserver(function (mutations, observer) {{\n",
              "        var display = window.getComputedStyle(gd).display;\n",
              "        if (!display || display === 'none') {{\n",
              "            console.log([gd, 'removed!']);\n",
              "            Plotly.purge(gd);\n",
              "            observer.disconnect();\n",
              "        }}\n",
              "}});\n",
              "\n",
              "// Listen for the removal of the full notebook cells\n",
              "var notebookContainer = gd.closest('#notebook-container');\n",
              "if (notebookContainer) {{\n",
              "    x.observe(notebookContainer, {childList: true});\n",
              "}}\n",
              "\n",
              "// Listen for the clearing of the current output cell\n",
              "var outputEl = gd.closest('.output');\n",
              "if (outputEl) {{\n",
              "    x.observe(outputEl, {childList: true});\n",
              "}}\n",
              "\n",
              "                        })                };                            </script>        </div>\n",
              "</body>\n",
              "</html>"
            ]
          },
          "metadata": {
            "tags": []
          }
        }
      ]
    },
    {
      "cell_type": "code",
      "metadata": {
        "colab": {
          "base_uri": "https://localhost:8080/"
        },
        "id": "PlQgC19ijfP0",
        "outputId": "bfcf3317-8b55-4d21-f092-c43be2ac473e"
      },
      "source": [
        "# t0: t1.index; t1: t1.values\n",
        "t3 = pd.Series([2, 3, 5], index = [0,2,4])\n",
        "# index of bars\n",
        "barIx3 = range(t3.max() + 1)\n",
        "# get indicator matrix\n",
        "indM3 = getIndMatrix(barIx3, t3)\n",
        "u3 = indM3.div(indM3.sum(axis = 1), axis = 0)\n",
        "print(\"Indicator Matrix:\\n\", indM3)\n",
        "print(\"Uniqueness Matrix:\\n\", u3)\n",
        "print(getAvgUniqueness(indM3))"
      ],
      "execution_count": null,
      "outputs": [
        {
          "output_type": "stream",
          "text": [
            "Indicator Matrix:\n",
            "    0  1  2\n",
            "0  1  0  0\n",
            "1  1  0  0\n",
            "2  1  1  0\n",
            "3  0  1  0\n",
            "4  0  0  1\n",
            "5  0  0  1\n",
            "Uniqueness Matrix:\n",
            "      0    1    2\n",
            "0  1.0  0.0  0.0\n",
            "1  1.0  0.0  0.0\n",
            "2  0.5  0.5  0.0\n",
            "3  0.0  1.0  0.0\n",
            "4  0.0  0.0  1.0\n",
            "5  0.0  0.0  1.0\n",
            "0    0.833333\n",
            "1    0.750000\n",
            "2    1.000000\n",
            "dtype: float64\n"
          ],
          "name": "stdout"
        }
      ]
    },
    {
      "cell_type": "markdown",
      "metadata": {
        "id": "FU75cchASbwX"
      },
      "source": [
        "SNIPPET 4.5 RETURN SAMPLE FROM SEQUENTIAL BOOTSTRAP\n",
        "Give the index of the features sampled by the sequential bootstrap\n",
        "* indM: binary matrix, indicate what (price) bars influence the label for each observation\n",
        "* sLength: optional, sample length, default: as many draws as rows in indM"
      ]
    },
    {
      "cell_type": "code",
      "metadata": {
        "id": "pHiEo_l9SfG2"
      },
      "source": [
        "def seqBootstrap(indM, sLength = None, log=False):\n",
        "    # Generate a sample via sequential bootstrap\n",
        "    if sLength is None: # default\n",
        "        sLength = indM.shape[1] # sample length = # of rows in indM\n",
        "    # Create an empty list to store the sequence of the draws\n",
        "    phi = []\n",
        "    if log: print(\"indM:\\n\", indM, \"\\n\")\n",
        "    while len(phi) < sLength:\n",
        "        avgU = pd.Series(dtype=\"float64\") # store the average uniqueness of the draw\n",
        "        for i in indM: # for every obs\n",
        "            indM_ = indM[phi + [i]] # add the obs to the existing bootstrapped sample\n",
        "            if log: print(\"indM_ {}:\\n\".format(i), indM_, \"\\n\")\n",
        "            # get the average uniqueness of the draw after adding to the new phi\n",
        "            if log: print(\"getAvgUniqueness(indM_):\\n\", getAvgUniqueness(indM_), \"\\n\")\n",
        "            avgU.loc[i] = getAvgUniqueness(indM_).iloc[-1] # only the last is the obs concerned, others are not important\n",
        "            if log: print(\"Average Uniqeness:\\n\", avgU, \"\\n\")\n",
        "        prob = avgU / avgU.sum() # cal prob <- normalise the average uniqueness\n",
        "        if log: print(\"Probabilities:\\n\", prob, \"\\n\")\n",
        "        phi += [np.random.choice(indM.columns, p = prob)] # add a random sample from indM.columns with prob. = prob\n",
        "        if log: print(\"Phi:\", phi, \"\\n\")\n",
        "    return phi"
      ],
      "execution_count": null,
      "outputs": []
    },
    {
      "cell_type": "markdown",
      "metadata": {
        "id": "ExfHRZP5SizN"
      },
      "source": [
        "SNIPPET 4.6 EXAMPLE OF SEQUENTIAL BOOTSTRAP"
      ]
    },
    {
      "cell_type": "code",
      "metadata": {
        "id": "GINqDoqkp-2D"
      },
      "source": [
        "phi = seqBootstrap(indM3, log=True)"
      ],
      "execution_count": null,
      "outputs": []
    },
    {
      "cell_type": "code",
      "metadata": {
        "colab": {
          "base_uri": "https://localhost:8080/"
        },
        "id": "giTfB2o_SlY1",
        "outputId": "f63e90f5-aa00-4674-d370-2962085d7ae4"
      },
      "source": [
        "phi = np.random.choice(indM3.columns, size = indM3.shape[1])\n",
        "print(phi)\n",
        "print ('Standard uniqueness:', getAvgUniqueness(indM3[phi]).mean())\n",
        "phi = seqBootstrap(indM3)\n",
        "print(phi)\n",
        "print ('Sequential uniqueness:', getAvgUniqueness(indM3[phi]).mean())"
      ],
      "execution_count": null,
      "outputs": [
        {
          "output_type": "stream",
          "text": [
            "[0 2 1]\n",
            "Standard uniqueness: 0.8611111111111112\n",
            "[0, 2, 0]\n",
            "Sequential uniqueness: 0.6666666666666666\n"
          ],
          "name": "stdout"
        }
      ]
    },
    {
      "cell_type": "markdown",
      "metadata": {
        "id": "sJaWzUpdSnS_"
      },
      "source": [
        "SNIPPET 4.7 GENERATING A RANDOM T1 SERIES"
      ]
    },
    {
      "cell_type": "code",
      "metadata": {
        "id": "qbJcrHalSpM-"
      },
      "source": [
        "def getRndT1(numObs, numBars, maxH):\n",
        "    # random t1 Series\n",
        "    t1 = pd.Series(dtype=\"float64\")\n",
        "    for _ in range(numObs):\n",
        "        ix = np.random.randint(0, numBars)\n",
        "        val = ix + np.random.randint(1, maxH)\n",
        "        t1.loc[ix] = val\n",
        "    return t1.sort_index()"
      ],
      "execution_count": null,
      "outputs": []
    },
    {
      "cell_type": "code",
      "metadata": {
        "colab": {
          "base_uri": "https://localhost:8080/"
        },
        "id": "tFAPe0wD0OTV",
        "outputId": "4f1b96fa-03f5-4892-bad1-dfe4d746f1b2"
      },
      "source": [
        "getRndT1(numObs = 10, numBars = 100, maxH = 5)"
      ],
      "execution_count": null,
      "outputs": [
        {
          "output_type": "execute_result",
          "data": {
            "text/plain": [
              "3      5\n",
              "9     11\n",
              "12    14\n",
              "19    20\n",
              "21    25\n",
              "54    58\n",
              "68    69\n",
              "76    78\n",
              "91    93\n",
              "dtype: int64"
            ]
          },
          "metadata": {
            "tags": []
          },
          "execution_count": 29
        }
      ]
    },
    {
      "cell_type": "markdown",
      "metadata": {
        "id": "HbzfvD1ySqrl"
      },
      "source": [
        "SNIPPET 4.8 UNIQUENESS FROM STANDARD AND SEQUENTIAL BOOTSTRAPS"
      ]
    },
    {
      "cell_type": "code",
      "metadata": {
        "id": "Rvk3R8_kStqU"
      },
      "source": [
        "def auxMC(numObs, numBars, maxH):\n",
        "    # Parallelized auxiliary function\n",
        "    t1 = getRndT1(numObs, numBars, maxH)\n",
        "    barIx = range(t1.max() + 1)\n",
        "    indM = getIndMatrix(barIx, t1)\n",
        "    phi = np.random.choice(indM.columns, size = indM.shape[1])\n",
        "    stdU = getAvgUniqueness(indM[phi]).mean()\n",
        "    phi = seqBootstrap(indM)\n",
        "    seqU = getAvgUniqueness(indM[phi]).mean()\n",
        "    return {'stdU': stdU, 'seqU': seqU}"
      ],
      "execution_count": null,
      "outputs": []
    },
    {
      "cell_type": "markdown",
      "metadata": {
        "id": "tYuBrkIVSwvO"
      },
      "source": [
        "SNIPPET 4.9 MULTI-THREADED MONTE CARLO"
      ]
    },
    {
      "cell_type": "code",
      "metadata": {
        "id": "TkekZDzZSwVl"
      },
      "source": [
        "def mainMC(numObs = 10, numBars = 100, maxH = 5, numIters = 1E6, numThreads = 24):\n",
        "    # Monte Carlo experiments\n",
        "    jobs=[]\n",
        "    for _ in range(int(numIters)):\n",
        "        job={'func': auxMC, 'numObs': numObs, 'numBars': numBars, 'maxH': maxH}\n",
        "        jobs.append(job)\n",
        "    if numThreads == 1:\n",
        "        out = processJobs_(jobs)\n",
        "    else:\n",
        "        out = processJobs(jobs, numThreads = numThreads)\n",
        "    out = pd.DataFrame(out)\n",
        "    print(out.describe())\n",
        "    return out"
      ],
      "execution_count": null,
      "outputs": []
    },
    {
      "cell_type": "code",
      "metadata": {
        "colab": {
          "base_uri": "https://localhost:8080/"
        },
        "id": "ZtacgEjyxHIA",
        "outputId": "6b5ec056-2272-43d0-a659-b7ad5b808fa8"
      },
      "source": [
        "out_mc = mainMC(numObs = 10, numBars = 100, maxH = 5, numIters = 1E3, numThreads = 8)"
      ],
      "execution_count": null,
      "outputs": [
        {
          "output_type": "stream",
          "text": [
            "2021-04-14 16:03:01.475790 100.0% auxMC done after 4.76 minutes. Remaining 0.0 minutes.\n"
          ],
          "name": "stderr"
        },
        {
          "output_type": "stream",
          "text": [
            "              stdU         seqU\n",
            "count  1000.000000  1000.000000\n",
            "mean      0.606231     0.701142\n",
            "std       0.103916     0.085671\n",
            "min       0.250000     0.500000\n",
            "25%       0.533333     0.656667\n",
            "50%       0.600000     0.700000\n",
            "75%       0.673333     0.750000\n",
            "max       0.817500     0.966667\n"
          ],
          "name": "stdout"
        }
      ]
    },
    {
      "cell_type": "code",
      "metadata": {
        "colab": {
          "base_uri": "https://localhost:8080/",
          "height": 542
        },
        "id": "c3J9vewK3Qju",
        "outputId": "9cd9a06d-7395-4d6f-aaa4-c360ebe6b7a0"
      },
      "source": [
        "fig = go.Figure()\n",
        "\n",
        "# Group data together\n",
        "hist_data = [out_mc.iloc[:,0], out_mc.iloc[:,1]]\n",
        "group_labels = [\"stdU\", \"seqU\"]\n",
        "\n",
        "# Create distplot with custom bin_size\n",
        "fig = ff.create_distplot(hist_data, group_labels, bin_size=.05)\n",
        "fig.show()"
      ],
      "execution_count": null,
      "outputs": [
        {
          "output_type": "display_data",
          "data": {
            "text/html": [
              "<html>\n",
              "<head><meta charset=\"utf-8\" /></head>\n",
              "<body>\n",
              "    <div>            <script src=\"https://cdnjs.cloudflare.com/ajax/libs/mathjax/2.7.5/MathJax.js?config=TeX-AMS-MML_SVG\"></script><script type=\"text/javascript\">if (window.MathJax) {MathJax.Hub.Config({SVG: {font: \"STIX-Web\"}});}</script>                <script type=\"text/javascript\">window.PlotlyConfig = {MathJaxConfig: 'local'};</script>\n",
              "        <script src=\"https://cdn.plot.ly/plotly-latest.min.js\"></script>                <div id=\"d4922a06-7bb2-4ff0-9569-0f5dd92ddbc5\" class=\"plotly-graph-div\" style=\"height:525px; width:100%;\"></div>            <script type=\"text/javascript\">                                    window.PLOTLYENV=window.PLOTLYENV || {};                                    if (document.getElementById(\"d4922a06-7bb2-4ff0-9569-0f5dd92ddbc5\")) {                    Plotly.newPlot(                        \"d4922a06-7bb2-4ff0-9569-0f5dd92ddbc5\",                        [{\"autobinx\": false, \"histnorm\": \"probability density\", \"legendgroup\": \"stdU\", \"marker\": {\"color\": \"rgb(31, 119, 180)\"}, \"name\": \"stdU\", \"opacity\": 0.7, \"type\": \"histogram\", \"x\": [0.6399999999999999, 0.6399999999999999, 0.6399999999999999, 0.6399999999999999, 0.6399999999999999, 0.6399999999999999, 0.6399999999999999, 0.6399999999999999, 0.7, 0.7, 0.7, 0.7, 0.7, 0.7, 0.7, 0.7, 0.5555555555555555, 0.5555555555555555, 0.5555555555555555, 0.5555555555555555, 0.5555555555555555, 0.5555555555555555, 0.5555555555555555, 0.5555555555555555, 0.5700000000000001, 0.5700000000000001, 0.5700000000000001, 0.5700000000000001, 0.5700000000000001, 0.5700000000000001, 0.5700000000000001, 0.5700000000000001, 0.6, 0.6, 0.6, 0.6, 0.6, 0.6, 0.6, 0.6, 0.6083333333333333, 0.6083333333333333, 0.6083333333333333, 0.6083333333333333, 0.6083333333333333, 0.6083333333333333, 0.6083333333333333, 0.6083333333333333, 0.6, 0.6, 0.6, 0.6, 0.6, 0.6, 0.6, 0.6, 0.6666666666666665, 0.6666666666666665, 0.6666666666666665, 0.6666666666666665, 0.6666666666666665, 0.6666666666666665, 0.6666666666666665, 0.6666666666666665, 0.675, 0.675, 0.675, 0.675, 0.675, 0.675, 0.675, 0.675, 0.4999999999999999, 0.4999999999999999, 0.4999999999999999, 0.4999999999999999, 0.4999999999999999, 0.4999999999999999, 0.4999999999999999, 0.4999999999999999, 0.7, 0.7, 0.7, 0.7, 0.7, 0.7, 0.7, 0.7, 0.7775000000000001, 0.7775000000000001, 0.7775000000000001, 0.7775000000000001, 0.7775000000000001, 0.7775000000000001, 0.7775000000000001, 0.7775000000000001, 0.5555555555555556, 0.5555555555555556, 0.5555555555555556, 0.5555555555555556, 0.5555555555555556, 0.5555555555555556, 0.5555555555555556, 0.5555555555555556, 0.5599999999999999, 0.5599999999999999, 0.5599999999999999, 0.5599999999999999, 0.5599999999999999, 0.5599999999999999, 0.5599999999999999, 0.5599999999999999, 0.6, 0.6, 0.6, 0.6, 0.6, 0.6, 0.6, 0.6, 0.525, 0.525, 0.525, 0.525, 0.525, 0.525, 0.525, 0.525, 0.7777777777777778, 0.7777777777777778, 0.7777777777777778, 0.7777777777777778, 0.7777777777777778, 0.7777777777777778, 0.7777777777777778, 0.7777777777777778, 0.48148148148148145, 0.48148148148148145, 0.48148148148148145, 0.48148148148148145, 0.48148148148148145, 0.48148148148148145, 0.48148148148148145, 0.48148148148148145, 0.8175000000000001, 0.8175000000000001, 0.8175000000000001, 0.8175000000000001, 0.8175000000000001, 0.8175000000000001, 0.8175000000000001, 0.8175000000000001, 0.6, 0.6, 0.6, 0.6, 0.6, 0.6, 0.6, 0.6, 0.5133333333333334, 0.5133333333333334, 0.5133333333333334, 0.5133333333333334, 0.5133333333333334, 0.5133333333333334, 0.5133333333333334, 0.5133333333333334, 0.8055555555555556, 0.8055555555555556, 0.8055555555555556, 0.8055555555555556, 0.8055555555555556, 0.8055555555555556, 0.8055555555555556, 0.8055555555555556, 0.5249999999999999, 0.5249999999999999, 0.5249999999999999, 0.5249999999999999, 0.5249999999999999, 0.5249999999999999, 0.5249999999999999, 0.5249999999999999, 0.4722222222222222, 0.4722222222222222, 0.4722222222222222, 0.4722222222222222, 0.4722222222222222, 0.4722222222222222, 0.4722222222222222, 0.4722222222222222, 0.61, 0.61, 0.61, 0.61, 0.61, 0.61, 0.61, 0.61, 0.6759259259259259, 0.6759259259259259, 0.6759259259259259, 0.6759259259259259, 0.6759259259259259, 0.6759259259259259, 0.6759259259259259, 0.6759259259259259, 0.6666666666666666, 0.6666666666666666, 0.6666666666666666, 0.6666666666666666, 0.6666666666666666, 0.6666666666666666, 0.6666666666666666, 0.6666666666666666, 0.6888888888888889, 0.6888888888888889, 0.6888888888888889, 0.6888888888888889, 0.6888888888888889, 0.6888888888888889, 0.6888888888888889, 0.6888888888888889, 0.6855555555555556, 0.6855555555555556, 0.6855555555555556, 0.6855555555555556, 0.6855555555555556, 0.6855555555555556, 0.6855555555555556, 0.4666666666666667, 0.4666666666666667, 0.6855555555555556, 0.4666666666666667, 0.4666666666666667, 0.4666666666666667, 0.4666666666666667, 0.4666666666666667, 0.6666666666666666, 0.4666666666666667, 0.6666666666666666, 0.6666666666666666, 0.6666666666666666, 0.6666666666666666, 0.6666666666666666, 0.6666666666666666, 0.6666666666666666, 0.6733333333333333, 0.6733333333333333, 0.6733333333333333, 0.6733333333333333, 0.6733333333333333, 0.6733333333333333, 0.6733333333333333, 0.6733333333333333, 0.5999999999999999, 0.5999999999999999, 0.5999999999999999, 0.5999999999999999, 0.5999999999999999, 0.5999999999999999, 0.5999999999999999, 0.5999999999999999, 0.64, 0.64, 0.64, 0.64, 0.64, 0.64, 0.64, 0.7, 0.64, 0.7, 0.7, 0.7, 0.7, 0.7, 0.7, 0.6733333333333332, 0.7, 0.6733333333333332, 0.6733333333333332, 0.6733333333333332, 0.6733333333333332, 0.6733333333333332, 0.4097222222222222, 0.6733333333333332, 0.4097222222222222, 0.6733333333333332, 0.4097222222222222, 0.4097222222222222, 0.4097222222222222, 0.4097222222222222, 0.6629629629629629, 0.4097222222222222, 0.6629629629629629, 0.4097222222222222, 0.6629629629629629, 0.6629629629629629, 0.6629629629629629, 0.6629629629629629, 0.6629629629629629, 0.5, 0.6629629629629629, 0.5, 0.5, 0.5, 0.5, 0.5, 0.5, 0.5309999999999999, 0.5, 0.5309999999999999, 0.5309999999999999, 0.5309999999999999, 0.5309999999999999, 0.5309999999999999, 0.5309999999999999, 0.316, 0.5309999999999999, 0.316, 0.316, 0.316, 0.316, 0.316, 0.316, 0.6394444444444445, 0.316, 0.6394444444444445, 0.6394444444444445, 0.6394444444444445, 0.6394444444444445, 0.6394444444444445, 0.6394444444444445, 0.8, 0.6394444444444445, 0.8, 0.8, 0.8, 0.8, 0.8, 0.8, 0.8, 0.8, 0.8, 0.8, 0.8, 0.8, 0.8, 0.5427469135802468, 0.8, 0.5427469135802468, 0.5427469135802468, 0.8, 0.5427469135802468, 0.5427469135802468, 0.5427469135802468, 0.4444444444444444, 0.5427469135802468, 0.4444444444444444, 0.4444444444444444, 0.5427469135802468, 0.4444444444444444, 0.4444444444444444, 0.4444444444444444, 0.575, 0.4444444444444444, 0.4444444444444444, 0.575, 0.575, 0.575, 0.575, 0.575, 0.4, 0.4, 0.575, 0.4, 0.4, 0.4, 0.575, 0.4, 0.4999999999999999, 0.4, 0.4999999999999999, 0.4, 0.4999999999999999, 0.4999999999999999, 0.4999999999999999, 0.4999999999999999, 0.47916666666666663, 0.4999999999999999, 0.47916666666666663, 0.4999999999999999, 0.47916666666666663, 0.47916666666666663, 0.47916666666666663, 0.47916666666666663, 0.7438271604938271, 0.7438271604938271, 0.47916666666666663, 0.7438271604938271, 0.7438271604938271, 0.47916666666666663, 0.7438271604938271, 0.7438271604938271, 0.7222222222222222, 0.7438271604938271, 0.7222222222222222, 0.7438271604938271, 0.7222222222222222, 0.7222222222222222, 0.7222222222222222, 0.25, 0.7222222222222222, 0.25, 0.25, 0.25, 0.7222222222222222, 0.25, 0.7222222222222222, 0.25, 0.6816666666666666, 0.25, 0.6816666666666666, 0.25, 0.6816666666666666, 0.6816666666666666, 0.6816666666666666, 0.6816666666666666, 0.5925925925925927, 0.5925925925925927, 0.6816666666666666, 0.5925925925925927, 0.5925925925925927, 0.5925925925925927, 0.6816666666666666, 0.5925925925925927, 0.6194444444444445, 0.6194444444444445, 0.5925925925925927, 0.6194444444444445, 0.6194444444444445, 0.6194444444444445, 0.5925925925925927, 0.6194444444444445, 0.6666666666666666, 0.6666666666666666, 0.6194444444444445, 0.6666666666666666, 0.6666666666666666, 0.6666666666666666, 0.6194444444444445, 0.6666666666666666, 0.5525, 0.6666666666666666, 0.5525, 0.5525, 0.6666666666666666, 0.5525, 0.5525, 0.5525, 0.6666666666666667, 0.5525, 0.6666666666666667, 0.6666666666666667, 0.6666666666666667, 0.5525, 0.6666666666666667, 0.6666666666666667, 0.7, 0.6666666666666667, 0.7, 0.7, 0.7, 0.6666666666666667, 0.7, 0.7, 0.5999999999999999, 0.7, 0.5999999999999999, 0.5999999999999999, 0.5999999999999999, 0.7, 0.5999999999999999, 0.5999999999999999, 0.49333333333333335, 0.5999999999999999, 0.49333333333333335, 0.49333333333333335, 0.49333333333333335, 0.49333333333333335, 0.5999999999999999, 0.49333333333333335, 0.5, 0.49333333333333335, 0.5, 0.5, 0.5, 0.5, 0.49333333333333335, 0.5, 0.6666666666666666, 0.6666666666666666, 0.6666666666666666, 0.6666666666666666, 0.5, 0.6666666666666666, 0.6666666666666666, 0.5, 0.6666666666666666, 0.6666666666666666, 0.6666666666666666, 0.6666666666666666, 0.6666666666666666, 0.6666666666666666, 0.6666666666666666, 0.6666666666666666, 0.6666666666666666, 0.6666666666666666, 0.6666666666666666, 0.6666666666666666, 0.6666666666666666, 0.6666666666666666, 0.6666666666666666, 0.6666666666666666, 0.65, 0.65, 0.6666666666666666, 0.65, 0.65, 0.65, 0.6666666666666666, 0.65, 0.6199999999999999, 0.6199999999999999, 0.65, 0.6199999999999999, 0.6199999999999999, 0.6199999999999999, 0.65, 0.6199999999999999, 0.5999999999999999, 0.5999999999999999, 0.6199999999999999, 0.5999999999999999, 0.5999999999999999, 0.5999999999999999, 0.6199999999999999, 0.5999999999999999, 0.5555555555555556, 0.5555555555555556, 0.5555555555555556, 0.5555555555555556, 0.5555555555555556, 0.5999999999999999, 0.5555555555555556, 0.5999999999999999, 0.4925, 0.4925, 0.5555555555555556, 0.4925, 0.4925, 0.4925, 0.5555555555555556, 0.4925, 0.5416666666666666, 0.5416666666666666, 0.4925, 0.5416666666666666, 0.5416666666666666, 0.5416666666666666, 0.4925, 0.5416666666666666, 0.7, 0.7, 0.7, 0.5416666666666666, 0.7, 0.7, 0.5416666666666666, 0.7, 0.6733333333333333, 0.6733333333333333, 0.6733333333333333, 0.7, 0.6733333333333333, 0.6733333333333333, 0.7, 0.44999999999999996, 0.6733333333333333, 0.44999999999999996, 0.44999999999999996, 0.44999999999999996, 0.44999999999999996, 0.6733333333333333, 0.44999999999999996, 0.7336111111111111, 0.6733333333333333, 0.7336111111111111, 0.7336111111111111, 0.44999999999999996, 0.7336111111111111, 0.7336111111111111, 0.5583333333333332, 0.7336111111111111, 0.44999999999999996, 0.5583333333333332, 0.5583333333333332, 0.5583333333333332, 0.5583333333333332, 0.5, 0.7336111111111111, 0.5583333333333332, 0.5, 0.5, 0.5, 0.5, 0.7336111111111111, 0.5583333333333332, 0.5, 0.5222222222222223, 0.5222222222222223, 0.5583333333333332, 0.5222222222222223, 0.5, 0.5222222222222223, 0.5222222222222223, 0.6666666666666666, 0.5222222222222223, 0.5, 0.6666666666666666, 0.6666666666666666, 0.6666666666666666, 0.6666666666666666, 0.5222222222222223, 0.6666666666666666, 0.58, 0.5222222222222223, 0.58, 0.58, 0.6666666666666666, 0.58, 0.58, 0.4444444444444444, 0.58, 0.6666666666666666, 0.4444444444444444, 0.4444444444444444, 0.4444444444444444, 0.4444444444444444, 0.58, 0.4444444444444444, 0.5, 0.58, 0.5, 0.5, 0.4444444444444444, 0.5, 0.5, 0.5722222222222223, 0.5, 0.4444444444444444, 0.5722222222222223, 0.5722222222222223, 0.5722222222222223, 0.5722222222222223, 0.5, 0.5722222222222223, 0.7999999999999999, 0.5, 0.7999999999999999, 0.7999999999999999, 0.5722222222222223, 0.7999999999999999, 0.7999999999999999, 0.711111111111111, 0.7999999999999999, 0.5722222222222223, 0.711111111111111, 0.711111111111111, 0.711111111111111, 0.711111111111111, 0.7999999999999999, 0.6666666666666666, 0.711111111111111, 0.6666666666666666, 0.6666666666666666, 0.7999999999999999, 0.6666666666666666, 0.6666666666666666, 0.711111111111111, 0.5037037037037038, 0.6666666666666666, 0.5037037037037038, 0.5037037037037038, 0.711111111111111, 0.5037037037037038, 0.5037037037037038, 0.6666666666666666, 0.5037037037037038, 0.5, 0.5, 0.6666666666666666, 0.5, 0.5, 0.5037037037037038, 0.5, 0.7333333333333333, 0.5, 0.7333333333333333, 0.5037037037037038, 0.7333333333333333, 0.7333333333333333, 0.7333333333333333, 0.6, 0.5, 0.6, 0.7333333333333333, 0.6, 0.6, 0.5, 0.6, 0.6, 0.7333333333333333, 0.6, 0.6, 0.6, 0.7333333333333333, 0.6, 0.6, 0.6, 0.6, 0.6, 0.6, 0.6, 0.6, 0.6, 0.6, 0.6, 0.6, 0.7, 0.6, 0.7, 0.7, 0.7, 0.7, 0.6, 0.7, 0.5000000000000001, 0.6, 0.5000000000000001, 0.5000000000000001, 0.5000000000000001, 0.5000000000000001, 0.7, 0.5000000000000001, 0.4, 0.7, 0.4, 0.4, 0.4, 0.4, 0.71875, 0.5000000000000001, 0.71875, 0.4, 0.71875, 0.5000000000000001, 0.71875, 0.71875, 0.5, 0.71875, 0.4, 0.5, 0.5, 0.4, 0.5, 0.5, 0.751851851851852, 0.71875, 0.751851851851852, 0.5, 0.71875, 0.751851851851852, 0.751851851851852, 0.751851851851852, 0.6, 0.5, 0.751851851851852, 0.6, 0.5, 0.6, 0.6, 0.6, 0.751851851851852, 0.6, 0.6, 0.6, 0.751851851851852, 0.6, 0.6, 0.6, 0.6, 0.7024999999999999, 0.6, 0.7024999999999999, 0.6, 0.7024999999999999, 0.7024999999999999, 0.7024999999999999, 0.6, 0.6, 0.7024999999999999, 0.6, 0.6, 0.6, 0.6, 0.6, 0.5872222222222223, 0.7024999999999999, 0.6, 0.5872222222222223, 0.7024999999999999, 0.5872222222222223, 0.5872222222222223, 0.5872222222222223, 0.7777777777777778, 0.7777777777777778, 0.6, 0.5872222222222223, 0.7777777777777778, 0.6, 0.7777777777777778, 0.7777777777777778, 0.6234567901234569, 0.6234567901234569, 0.7777777777777778, 0.5872222222222223, 0.6234567901234569, 0.6234567901234569, 0.6234567901234569, 0.5872222222222223, 0.7, 0.7, 0.6234567901234569, 0.7777777777777778, 0.7, 0.7777777777777778, 0.7, 0.7, 0.7, 0.6234567901234569, 0.7, 0.7, 0.6234567901234569, 0.7, 0.7, 0.7, 0.6466666666666667, 0.7, 0.6466666666666667, 0.7, 0.7, 0.6466666666666667, 0.6466666666666667, 0.6466666666666667, 0.6, 0.6, 0.7, 0.6466666666666667, 0.7, 0.6, 0.6, 0.6, 0.5199999999999999, 0.5199999999999999, 0.6466666666666667, 0.6, 0.6466666666666667, 0.5199999999999999, 0.5199999999999999, 0.5199999999999999, 0.4225, 0.4225, 0.6, 0.5199999999999999, 0.6, 0.4225, 0.5555555555555556, 0.4225, 0.4225, 0.5555555555555556, 0.5199999999999999, 0.4225, 0.5555555555555556, 0.5199999999999999, 0.5555555555555556, 0.5555555555555556, 0.5533333333333333, 0.5533333333333333, 0.5555555555555556, 0.4225, 0.5533333333333333, 0.4225, 0.5533333333333333, 0.5533333333333333, 0.5999999999999999, 0.5999999999999999, 0.5555555555555556, 0.5533333333333333, 0.5999999999999999, 0.5555555555555556, 0.5999999999999999, 0.5999999999999999, 0.7833333333333334, 0.7833333333333334, 0.5533333333333333, 0.5999999999999999, 0.7833333333333334, 0.5533333333333333, 0.7833333333333334, 0.7833333333333334, 0.6841666666666667, 0.6841666666666667, 0.5999999999999999, 0.7833333333333334, 0.6841666666666667, 0.5999999999999999, 0.6841666666666667, 0.5333333333333333, 0.6841666666666667, 0.5333333333333333, 0.7833333333333334, 0.6841666666666667, 0.5333333333333333, 0.7833333333333334, 0.5333333333333333, 0.6325, 0.5333333333333333, 0.6325, 0.6841666666666667, 0.5333333333333333, 0.6325, 0.6841666666666667, 0.6325, 0.6625, 0.6325, 0.6625, 0.6325, 0.5333333333333333, 0.6625, 0.5333333333333333, 0.6018518518518519, 0.6625, 0.6018518518518519, 0.6625, 0.6625, 0.6325, 0.6018518518518519, 0.6018518518518519, 0.6666666666666666, 0.6325, 0.6018518518518519, 0.6666666666666666, 0.6018518518518519, 0.6625, 0.6666666666666666, 0.6666666666666666, 0.5583333333333333, 0.6625, 0.6666666666666666, 0.5583333333333333, 0.6666666666666666, 0.6018518518518519, 0.5583333333333333, 0.6666666666666665, 0.6018518518518519, 0.5583333333333333, 0.6666666666666665, 0.5583333333333333, 0.5583333333333333, 0.6666666666666666, 0.6666666666666665, 0.6666666666666665, 0.5800000000000001, 0.6666666666666666, 0.6666666666666665, 0.5800000000000001, 0.6666666666666665, 0.5583333333333333, 0.5800000000000001, 0.5800000000000001, 0.64, 0.5800000000000001, 0.5583333333333333, 0.64, 0.5800000000000001, 0.6666666666666665, 0.64], \"xaxis\": \"x\", \"xbins\": {\"end\": 0.8175000000000001, \"size\": 0.05, \"start\": 0.25}, \"yaxis\": \"y\"}, {\"autobinx\": false, \"histnorm\": \"probability density\", \"legendgroup\": \"seqU\", \"marker\": {\"color\": \"rgb(255, 127, 14)\"}, \"name\": \"seqU\", \"opacity\": 0.7, \"type\": \"histogram\", \"x\": [0.6900000000000001, 0.6900000000000001, 0.6900000000000001, 0.6900000000000001, 0.6900000000000001, 0.6900000000000001, 0.6900000000000001, 0.6900000000000001, 0.7, 0.7, 0.7, 0.7, 0.7, 0.7, 0.7, 0.7, 0.6666666666666666, 0.6666666666666666, 0.6666666666666666, 0.6666666666666666, 0.6666666666666666, 0.6666666666666666, 0.6666666666666666, 0.6666666666666666, 0.6599999999999999, 0.6599999999999999, 0.6599999999999999, 0.6599999999999999, 0.6599999999999999, 0.6599999999999999, 0.6599999999999999, 0.6599999999999999, 0.7, 0.7, 0.7, 0.7, 0.7, 0.7, 0.7, 0.7, 0.7125, 0.7125, 0.7125, 0.7125, 0.7125, 0.7125, 0.7125, 0.7125, 0.7, 0.7, 0.7, 0.7, 0.7, 0.7, 0.7, 0.7, 0.8888888888888888, 0.8888888888888888, 0.8888888888888888, 0.8888888888888888, 0.8888888888888888, 0.8888888888888888, 0.8888888888888888, 0.8888888888888888, 0.775, 0.775, 0.775, 0.775, 0.775, 0.775, 0.775, 0.775, 0.7, 0.7, 0.7, 0.7, 0.7, 0.7, 0.7, 0.7, 0.7999999999999999, 0.7999999999999999, 0.7999999999999999, 0.7999999999999999, 0.7999999999999999, 0.7999999999999999, 0.7999999999999999, 0.7999999999999999, 0.7766666666666666, 0.7766666666666666, 0.7766666666666666, 0.7766666666666666, 0.7766666666666666, 0.7766666666666666, 0.7766666666666666, 0.7766666666666666, 0.8888888888888888, 0.8888888888888888, 0.8888888888888888, 0.8888888888888888, 0.8888888888888888, 0.8888888888888888, 0.8888888888888888, 0.8888888888888888, 0.7, 0.7, 0.7, 0.7, 0.7, 0.7, 0.7, 0.7, 0.8125, 0.8125, 0.8125, 0.8125, 0.8125, 0.8125, 0.8125, 0.8125, 0.7999999999999999, 0.7999999999999999, 0.7999999999999999, 0.7999999999999999, 0.7999999999999999, 0.7999999999999999, 0.7999999999999999, 0.7999999999999999, 0.8888888888888888, 0.8888888888888888, 0.8888888888888888, 0.8888888888888888, 0.8888888888888888, 0.8888888888888888, 0.8888888888888888, 0.8888888888888888, 0.7481481481481481, 0.7481481481481481, 0.7481481481481481, 0.7481481481481481, 0.7481481481481481, 0.7481481481481481, 0.7481481481481481, 0.7481481481481481, 0.7, 0.7, 0.7, 0.7, 0.7, 0.7, 0.7, 0.7, 0.6708333333333334, 0.6708333333333334, 0.6708333333333334, 0.6708333333333334, 0.6708333333333334, 0.6708333333333334, 0.6708333333333334, 0.6708333333333334, 0.735, 0.735, 0.735, 0.735, 0.735, 0.735, 0.735, 0.735, 0.6666666666666666, 0.6666666666666666, 0.6666666666666666, 0.6666666666666666, 0.6666666666666666, 0.6666666666666666, 0.6666666666666666, 0.6666666666666666, 0.7, 0.7, 0.7, 0.7, 0.7, 0.7, 0.7, 0.7, 0.6351851851851852, 0.6351851851851852, 0.6351851851851852, 0.6351851851851852, 0.6351851851851852, 0.6351851851851852, 0.6351851851851852, 0.6351851851851852, 0.615, 0.615, 0.615, 0.615, 0.615, 0.615, 0.615, 0.615, 0.675925925925926, 0.675925925925926, 0.675925925925926, 0.675925925925926, 0.675925925925926, 0.675925925925926, 0.675925925925926, 0.675925925925926, 0.6635802469135802, 0.6635802469135802, 0.6635802469135802, 0.6635802469135802, 0.6635802469135802, 0.6635802469135802, 0.6635802469135802, 0.6635802469135802, 0.7777777777777778, 0.7777777777777778, 0.7777777777777778, 0.7777777777777778, 0.7777777777777778, 0.7777777777777778, 0.7777777777777778, 0.7777777777777778, 0.7755555555555557, 0.7755555555555557, 0.7755555555555557, 0.7755555555555557, 0.7755555555555557, 0.7755555555555557, 0.7755555555555557, 0.6888888888888889, 0.6888888888888889, 0.7755555555555557, 0.6888888888888889, 0.6888888888888889, 0.6888888888888889, 0.6888888888888889, 0.6888888888888889, 0.6777777777777777, 0.6888888888888889, 0.6777777777777777, 0.6777777777777777, 0.6777777777777777, 0.6777777777777777, 0.6777777777777777, 0.6777777777777777, 0.6777777777777777, 0.8733333333333334, 0.8733333333333334, 0.8733333333333334, 0.8733333333333334, 0.8733333333333334, 0.8733333333333334, 0.8733333333333334, 0.8733333333333334, 0.7, 0.7, 0.7, 0.7, 0.7, 0.7, 0.7, 0.7, 0.7, 0.7, 0.7, 0.7, 0.7, 0.7, 0.7, 0.765, 0.7, 0.765, 0.765, 0.765, 0.765, 0.765, 0.765, 0.6733333333333333, 0.765, 0.6733333333333333, 0.6733333333333333, 0.6733333333333333, 0.6733333333333333, 0.6733333333333333, 0.7925925925925926, 0.6733333333333333, 0.7925925925925926, 0.6733333333333333, 0.7925925925925926, 0.7925925925925926, 0.7925925925925926, 0.7925925925925926, 0.7296296296296296, 0.7925925925925926, 0.7296296296296296, 0.7925925925925926, 0.7296296296296296, 0.7296296296296296, 0.7296296296296296, 0.7296296296296296, 0.7296296296296296, 0.7108333333333333, 0.7296296296296296, 0.7108333333333333, 0.7108333333333333, 0.7108333333333333, 0.7108333333333333, 0.7108333333333333, 0.7108333333333333, 0.7566666666666667, 0.7108333333333333, 0.7566666666666667, 0.7566666666666667, 0.7566666666666667, 0.7566666666666667, 0.7566666666666667, 0.7566666666666667, 0.7, 0.7566666666666667, 0.7, 0.7, 0.7, 0.7, 0.7, 0.7, 0.5783333333333334, 0.7, 0.5783333333333334, 0.5783333333333334, 0.5783333333333334, 0.5783333333333334, 0.5783333333333334, 0.5783333333333334, 0.9, 0.5783333333333334, 0.9, 0.9, 0.9, 0.9, 0.9, 0.9, 0.8, 0.9, 0.8, 0.8, 0.8, 0.8, 0.8, 0.5950617283950618, 0.8, 0.5950617283950618, 0.5950617283950618, 0.8, 0.5950617283950618, 0.5950617283950618, 0.5950617283950618, 0.8888888888888888, 0.5950617283950618, 0.8888888888888888, 0.8888888888888888, 0.5950617283950618, 0.8888888888888888, 0.8888888888888888, 0.8888888888888888, 0.5783333333333334, 0.8888888888888888, 0.8888888888888888, 0.5783333333333334, 0.5783333333333334, 0.5783333333333334, 0.5783333333333334, 0.5783333333333334, 0.6229166666666667, 0.6229166666666667, 0.5783333333333334, 0.6229166666666667, 0.6229166666666667, 0.6229166666666667, 0.5783333333333334, 0.6229166666666667, 0.775, 0.6229166666666667, 0.775, 0.6229166666666667, 0.775, 0.775, 0.775, 0.775, 0.7, 0.775, 0.7, 0.775, 0.7, 0.7, 0.7, 0.7, 0.8592592592592593, 0.8592592592592593, 0.7, 0.8592592592592593, 0.8592592592592593, 0.7, 0.8592592592592593, 0.8592592592592593, 0.6125, 0.8592592592592593, 0.6125, 0.8592592592592593, 0.6125, 0.6125, 0.6125, 0.75, 0.6125, 0.75, 0.75, 0.75, 0.6125, 0.75, 0.6125, 0.75, 0.675, 0.75, 0.675, 0.75, 0.675, 0.675, 0.675, 0.675, 0.7453703703703703, 0.7453703703703703, 0.675, 0.7453703703703703, 0.7453703703703703, 0.7453703703703703, 0.675, 0.7453703703703703, 0.6666666666666665, 0.6666666666666665, 0.7453703703703703, 0.6666666666666665, 0.6666666666666665, 0.6666666666666665, 0.7453703703703703, 0.6666666666666665, 0.6888888888888889, 0.6888888888888889, 0.6666666666666665, 0.6888888888888889, 0.6888888888888889, 0.6888888888888889, 0.6666666666666665, 0.6888888888888889, 0.575, 0.6888888888888889, 0.575, 0.575, 0.6888888888888889, 0.575, 0.575, 0.575, 0.9666666666666666, 0.575, 0.9666666666666666, 0.9666666666666666, 0.9666666666666666, 0.575, 0.9666666666666666, 0.9666666666666666, 0.575, 0.9666666666666666, 0.575, 0.575, 0.575, 0.9666666666666666, 0.575, 0.575, 0.7183333333333333, 0.575, 0.7183333333333333, 0.7183333333333333, 0.7183333333333333, 0.575, 0.7183333333333333, 0.7183333333333333, 0.7166666666666666, 0.7183333333333333, 0.7166666666666666, 0.7166666666666666, 0.7166666666666666, 0.7166666666666666, 0.7183333333333333, 0.7166666666666666, 0.7, 0.7166666666666666, 0.7, 0.7, 0.7, 0.7, 0.7166666666666666, 0.7, 0.7138888888888889, 0.7138888888888889, 0.7138888888888889, 0.7138888888888889, 0.7, 0.7138888888888889, 0.7138888888888889, 0.7, 0.5555555555555556, 0.5555555555555556, 0.5555555555555556, 0.5555555555555556, 0.7138888888888889, 0.5555555555555556, 0.5555555555555556, 0.7138888888888889, 0.5555555555555556, 0.5555555555555556, 0.5555555555555556, 0.5555555555555556, 0.5555555555555556, 0.5555555555555556, 0.5555555555555556, 0.5555555555555556, 0.775, 0.775, 0.5555555555555556, 0.775, 0.775, 0.775, 0.5555555555555556, 0.775, 0.8, 0.8, 0.775, 0.8, 0.8, 0.8, 0.775, 0.8, 0.7, 0.7, 0.8, 0.7, 0.7, 0.7, 0.8, 0.7, 0.7777777777777778, 0.7777777777777778, 0.7777777777777778, 0.7777777777777778, 0.7777777777777778, 0.7, 0.7777777777777778, 0.7, 0.5355555555555556, 0.5355555555555556, 0.7777777777777778, 0.5355555555555556, 0.5355555555555556, 0.5355555555555556, 0.7777777777777778, 0.5355555555555556, 0.8, 0.8, 0.5355555555555556, 0.8, 0.8, 0.8, 0.5355555555555556, 0.8, 0.7, 0.7, 0.7, 0.8, 0.7, 0.7, 0.8, 0.7, 0.5733333333333334, 0.5733333333333334, 0.5733333333333334, 0.7, 0.5733333333333334, 0.5733333333333334, 0.7, 0.7, 0.5733333333333334, 0.7, 0.7, 0.7, 0.7, 0.5733333333333334, 0.7, 0.6566666666666666, 0.5733333333333334, 0.6566666666666666, 0.6566666666666666, 0.7, 0.6566666666666666, 0.6566666666666666, 0.8138888888888889, 0.6566666666666666, 0.7, 0.8138888888888889, 0.8138888888888889, 0.8138888888888889, 0.8138888888888889, 0.75, 0.6566666666666666, 0.8138888888888889, 0.75, 0.75, 0.75, 0.75, 0.6566666666666666, 0.8138888888888889, 0.75, 0.55, 0.55, 0.8138888888888889, 0.55, 0.75, 0.55, 0.55, 0.6666666666666666, 0.55, 0.75, 0.6666666666666666, 0.6666666666666666, 0.6666666666666666, 0.6666666666666666, 0.55, 0.6666666666666666, 0.5716666666666665, 0.55, 0.5716666666666665, 0.5716666666666665, 0.6666666666666666, 0.5716666666666665, 0.5716666666666665, 0.5555555555555556, 0.5716666666666665, 0.6666666666666666, 0.5555555555555556, 0.5555555555555556, 0.5555555555555556, 0.5555555555555556, 0.5716666666666665, 0.5555555555555556, 0.7, 0.5716666666666665, 0.7, 0.7, 0.5555555555555556, 0.7, 0.7, 0.6111111111111112, 0.7, 0.5555555555555556, 0.6111111111111112, 0.6111111111111112, 0.6111111111111112, 0.6111111111111112, 0.7, 0.6111111111111112, 0.8, 0.7, 0.8, 0.8, 0.6111111111111112, 0.8, 0.8, 0.7, 0.8, 0.6111111111111112, 0.7, 0.7, 0.7, 0.7, 0.8, 0.7277777777777777, 0.7, 0.7277777777777777, 0.7277777777777777, 0.8, 0.7277777777777777, 0.7277777777777777, 0.7, 0.6935185185185185, 0.7277777777777777, 0.6935185185185185, 0.6935185185185185, 0.7, 0.6935185185185185, 0.6935185185185185, 0.7277777777777777, 0.6935185185185185, 0.7, 0.7, 0.7277777777777777, 0.7, 0.7, 0.6935185185185185, 0.7, 0.7777777777777778, 0.7, 0.7777777777777778, 0.6935185185185185, 0.7777777777777778, 0.7777777777777778, 0.7777777777777778, 0.625, 0.7, 0.625, 0.7777777777777778, 0.625, 0.625, 0.7, 0.625, 0.625, 0.7777777777777778, 0.7, 0.7, 0.7, 0.7777777777777778, 0.7, 0.625, 0.7, 0.7, 0.8, 0.625, 0.8, 0.8, 0.8, 0.7, 0.8, 0.8, 0.7, 0.7, 0.7, 0.7, 0.7, 0.7, 0.8, 0.7, 0.6666666666666667, 0.8, 0.6666666666666667, 0.6666666666666667, 0.6666666666666667, 0.6666666666666667, 0.7, 0.6666666666666667, 0.6599999999999999, 0.7, 0.6599999999999999, 0.6599999999999999, 0.6599999999999999, 0.6599999999999999, 0.625, 0.6666666666666667, 0.625, 0.6599999999999999, 0.625, 0.6666666666666667, 0.625, 0.625, 0.5, 0.625, 0.6599999999999999, 0.5, 0.5, 0.6599999999999999, 0.5, 0.5, 0.637037037037037, 0.625, 0.637037037037037, 0.5, 0.625, 0.637037037037037, 0.637037037037037, 0.637037037037037, 0.8, 0.5, 0.637037037037037, 0.8, 0.5, 0.8, 0.8, 0.8, 0.637037037037037, 0.6755555555555555, 0.8, 0.6755555555555555, 0.637037037037037, 0.6755555555555555, 0.6755555555555555, 0.6755555555555555, 0.8, 0.7016666666666667, 0.6755555555555555, 0.7016666666666667, 0.8, 0.7016666666666667, 0.7016666666666667, 0.7016666666666667, 0.6755555555555555, 0.5700000000000001, 0.7016666666666667, 0.5700000000000001, 0.6755555555555555, 0.5700000000000001, 0.5700000000000001, 0.5700000000000001, 0.6475, 0.7016666666666667, 0.5700000000000001, 0.6475, 0.7016666666666667, 0.6475, 0.6475, 0.6475, 0.7777777777777778, 0.7777777777777778, 0.5700000000000001, 0.6475, 0.7777777777777778, 0.5700000000000001, 0.7777777777777778, 0.7777777777777778, 0.7314814814814814, 0.7314814814814814, 0.7777777777777778, 0.6475, 0.7314814814814814, 0.7314814814814814, 0.7314814814814814, 0.6475, 0.8, 0.8, 0.7314814814814814, 0.7777777777777778, 0.8, 0.7777777777777778, 0.8, 0.8, 0.7, 0.7314814814814814, 0.7, 0.8, 0.7314814814814814, 0.7, 0.7, 0.7, 0.7, 0.8, 0.7, 0.7, 0.8, 0.7, 0.7, 0.7, 0.6399999999999999, 0.6399999999999999, 0.7, 0.7, 0.7, 0.6399999999999999, 0.6399999999999999, 0.6399999999999999, 0.73, 0.73, 0.7, 0.6399999999999999, 0.7, 0.73, 0.73, 0.73, 0.675, 0.675, 0.6399999999999999, 0.73, 0.6399999999999999, 0.675, 0.6277777777777778, 0.675, 0.675, 0.6277777777777778, 0.73, 0.675, 0.6277777777777778, 0.73, 0.6277777777777778, 0.6277777777777778, 0.7333333333333334, 0.7333333333333334, 0.6277777777777778, 0.675, 0.7333333333333334, 0.675, 0.7333333333333334, 0.7333333333333334, 0.5499999999999999, 0.5499999999999999, 0.6277777777777778, 0.7333333333333334, 0.5499999999999999, 0.6277777777777778, 0.5499999999999999, 0.5499999999999999, 0.625, 0.625, 0.7333333333333334, 0.5499999999999999, 0.625, 0.7333333333333334, 0.625, 0.625, 0.6291666666666667, 0.6291666666666667, 0.5499999999999999, 0.625, 0.6291666666666667, 0.5499999999999999, 0.6291666666666667, 0.6399999999999999, 0.6291666666666667, 0.6399999999999999, 0.625, 0.6291666666666667, 0.6399999999999999, 0.625, 0.6399999999999999, 0.6611111111111111, 0.6399999999999999, 0.6611111111111111, 0.6291666666666667, 0.6399999999999999, 0.6611111111111111, 0.6291666666666667, 0.6611111111111111, 0.5999999999999999, 0.6611111111111111, 0.5999999999999999, 0.6611111111111111, 0.6399999999999999, 0.5999999999999999, 0.6399999999999999, 0.6296296296296297, 0.5999999999999999, 0.6296296296296297, 0.5999999999999999, 0.5999999999999999, 0.6611111111111111, 0.6296296296296297, 0.6296296296296297, 0.6666666666666667, 0.6611111111111111, 0.6296296296296297, 0.6666666666666667, 0.6296296296296297, 0.5999999999999999, 0.6666666666666667, 0.6666666666666667, 0.6583333333333334, 0.5999999999999999, 0.6666666666666667, 0.6583333333333334, 0.6666666666666667, 0.6296296296296297, 0.6583333333333334, 0.6888888888888888, 0.6296296296296297, 0.6583333333333334, 0.6888888888888888, 0.6583333333333334, 0.6583333333333334, 0.6666666666666667, 0.6888888888888888, 0.6888888888888888, 0.7222222222222222, 0.6666666666666667, 0.6888888888888888, 0.7222222222222222, 0.6888888888888888, 0.6583333333333334, 0.7222222222222222, 0.7222222222222222, 0.73, 0.7222222222222222, 0.6583333333333334, 0.73, 0.7222222222222222, 0.6888888888888888, 0.73], \"xaxis\": \"x\", \"xbins\": {\"end\": 0.9666666666666666, \"size\": 0.05, \"start\": 0.5}, \"yaxis\": \"y\"}, {\"legendgroup\": \"stdU\", \"marker\": {\"color\": \"rgb(31, 119, 180)\"}, \"mode\": \"lines\", \"name\": \"stdU\", \"showlegend\": false, \"type\": \"scatter\", \"x\": [0.25, 0.251135, 0.25227, 0.253405, 0.25454, 0.255675, 0.25681, 0.257945, 0.25908, 0.260215, 0.26135, 0.262485, 0.26362, 0.264755, 0.26589, 0.267025, 0.26816, 0.269295, 0.27043, 0.271565, 0.2727, 0.273835, 0.27497, 0.276105, 0.27724, 0.278375, 0.27951, 0.28064500000000003, 0.28178000000000003, 0.282915, 0.28405, 0.285185, 0.28632, 0.287455, 0.28859, 0.289725, 0.29086, 0.291995, 0.29313, 0.294265, 0.2954, 0.296535, 0.29767, 0.298805, 0.29994, 0.301075, 0.30221, 0.30334500000000003, 0.30448000000000003, 0.305615, 0.30675, 0.307885, 0.30902, 0.310155, 0.31129, 0.312425, 0.31356, 0.314695, 0.31583, 0.31696500000000005, 0.3181, 0.31923500000000005, 0.32037000000000004, 0.32150500000000004, 0.32264000000000004, 0.32377500000000003, 0.32491000000000003, 0.32604500000000003, 0.32718, 0.328315, 0.32945, 0.330585, 0.33172, 0.332855, 0.33399, 0.335125, 0.33626, 0.337395, 0.33853, 0.339665, 0.3408, 0.341935, 0.34307000000000004, 0.344205, 0.34534000000000004, 0.34647500000000003, 0.34761000000000003, 0.348745, 0.34988, 0.351015, 0.35215, 0.353285, 0.35442, 0.355555, 0.35669, 0.357825, 0.35896000000000006, 0.36009500000000005, 0.36123000000000005, 0.36236500000000005, 0.36350000000000005, 0.36463500000000004, 0.36577000000000004, 0.36690500000000004, 0.36804000000000003, 0.36917500000000003, 0.37031000000000003, 0.371445, 0.37258, 0.373715, 0.37485, 0.375985, 0.37712, 0.378255, 0.37939, 0.380525, 0.38166, 0.382795, 0.38393000000000005, 0.385065, 0.3862, 0.38733500000000004, 0.38847000000000004, 0.389605, 0.39074000000000003, 0.39187500000000003, 0.39301, 0.3941450000000001, 0.39528, 0.396415, 0.39755000000000007, 0.39868500000000007, 0.39982, 0.40095500000000006, 0.40209000000000006, 0.40322500000000006, 0.40436000000000005, 0.40549500000000005, 0.40663000000000005, 0.40776500000000004, 0.40890000000000004, 0.41003500000000004, 0.41117000000000004, 0.41230500000000003, 0.41344000000000003, 0.414575, 0.41571, 0.416845, 0.41798, 0.419115, 0.42025, 0.421385, 0.42252, 0.423655, 0.42479000000000006, 0.42592500000000005, 0.42706, 0.42819500000000005, 0.42933000000000004, 0.43046500000000004, 0.4316, 0.43273500000000004, 0.43387000000000003, 0.43500500000000003, 0.4361400000000001, 0.437275, 0.43841, 0.4395450000000001, 0.44068000000000007, 0.441815, 0.44295000000000007, 0.44408500000000006, 0.44522000000000006, 0.44635500000000006, 0.44749000000000005, 0.44862500000000005, 0.44976000000000005, 0.45089500000000005, 0.45203000000000004, 0.45316500000000004, 0.45430000000000004, 0.45543500000000003, 0.45657000000000003, 0.45770500000000003, 0.45884, 0.459975, 0.46111, 0.462245, 0.46338, 0.464515, 0.46565, 0.46678500000000006, 0.46792000000000006, 0.469055, 0.47019000000000005, 0.47132500000000005, 0.47246000000000005, 0.47359500000000004, 0.47473000000000004, 0.47586500000000004, 0.4770000000000001, 0.4781350000000001, 0.47927000000000003, 0.4804050000000001, 0.4815400000000001, 0.4826750000000001, 0.4838100000000001, 0.48494500000000007, 0.48608000000000007, 0.48721500000000006, 0.48835000000000006, 0.48948500000000006, 0.49062000000000006, 0.49175500000000005, 0.49289000000000005, 0.49402500000000005, 0.49516000000000004, 0.49629500000000004, 0.49743000000000004, 0.49856500000000004, 0.49970000000000003, 0.5008350000000001, 0.50197, 0.503105, 0.50424, 0.5053750000000001, 0.50651, 0.507645, 0.50878, 0.5099150000000001, 0.51105, 0.5121850000000001, 0.51332, 0.5144550000000001, 0.51559, 0.5167250000000001, 0.5178600000000001, 0.5189950000000001, 0.52013, 0.5212650000000001, 0.5224, 0.5235350000000001, 0.5246700000000001, 0.5258050000000001, 0.5269400000000001, 0.5280750000000001, 0.52921, 0.5303450000000001, 0.5314800000000001, 0.5326150000000001, 0.5337500000000001, 0.534885, 0.53602, 0.537155, 0.5382900000000002, 0.539425, 0.54056, 0.541695, 0.54283, 0.543965, 0.5451000000000001, 0.546235, 0.5473700000000001, 0.548505, 0.54964, 0.550775, 0.5519100000000001, 0.553045, 0.5541800000000001, 0.555315, 0.5564500000000001, 0.557585, 0.5587200000000001, 0.5598550000000001, 0.5609900000000001, 0.562125, 0.5632600000000001, 0.564395, 0.5655300000000001, 0.5666650000000001, 0.5678000000000001, 0.5689350000000001, 0.5700700000000001, 0.571205, 0.5723400000000001, 0.5734750000000001, 0.5746100000000001, 0.5757450000000001, 0.5768800000000001, 0.5780150000000001, 0.57915, 0.5802850000000002, 0.58142, 0.582555, 0.58369, 0.584825, 0.58596, 0.5870950000000001, 0.58823, 0.5893650000000001, 0.5905, 0.591635, 0.59277, 0.5939050000000001, 0.59504, 0.5961750000000001, 0.59731, 0.5984450000000001, 0.5995800000000001, 0.6007150000000001, 0.6018500000000001, 0.6029850000000001, 0.60412, 0.6052550000000001, 0.6063900000000001, 0.6075250000000001, 0.6086600000000001, 0.6097950000000001, 0.6109300000000001, 0.6120650000000001, 0.6132, 0.6143350000000001, 0.6154700000000001, 0.6166050000000001, 0.6177400000000001, 0.6188750000000001, 0.6200100000000001, 0.6211450000000001, 0.6222800000000002, 0.623415, 0.62455, 0.625685, 0.62682, 0.627955, 0.6290900000000001, 0.630225, 0.6313600000000001, 0.632495, 0.63363, 0.634765, 0.6359000000000001, 0.637035, 0.6381700000000001, 0.639305, 0.6404400000000001, 0.6415750000000001, 0.6427100000000001, 0.6438450000000001, 0.6449800000000001, 0.646115, 0.6472500000000001, 0.6483850000000001, 0.6495200000000001, 0.6506550000000001, 0.6517900000000001, 0.6529250000000001, 0.6540600000000001, 0.6551950000000001, 0.6563300000000001, 0.6574650000000001, 0.6586000000000001, 0.6597350000000001, 0.6608700000000001, 0.6620050000000002, 0.6631400000000001, 0.6642750000000002, 0.6654100000000001, 0.666545, 0.66768, 0.6688150000000002, 0.66995, 0.6710850000000002, 0.67222, 0.6733550000000001, 0.67449, 0.6756250000000001, 0.67676, 0.6778950000000001, 0.67903, 0.6801650000000001, 0.6813, 0.6824350000000001, 0.6835700000000001, 0.6847050000000001, 0.6858400000000001, 0.6869750000000001, 0.68811, 0.6892450000000001, 0.6903800000000001, 0.6915150000000001, 0.6926500000000001, 0.6937850000000001, 0.6949200000000001, 0.6960550000000001, 0.6971900000000001, 0.6983250000000001, 0.6994600000000001, 0.7005950000000001, 0.7017300000000001, 0.7028650000000001, 0.7040000000000002, 0.7051350000000001, 0.7062700000000002, 0.7074050000000001, 0.7085400000000001, 0.7096750000000001, 0.7108100000000002, 0.711945, 0.7130800000000002, 0.714215, 0.7153500000000002, 0.716485, 0.7176200000000001, 0.718755, 0.7198900000000001, 0.721025, 0.7221600000000001, 0.723295, 0.7244300000000001, 0.7255650000000001, 0.7267000000000001, 0.7278350000000001, 0.7289700000000001, 0.730105, 0.7312400000000001, 0.7323750000000001, 0.7335100000000001, 0.7346450000000001, 0.7357800000000001, 0.7369150000000001, 0.7380500000000001, 0.7391850000000001, 0.7403200000000001, 0.7414550000000001, 0.7425900000000001, 0.7437250000000001, 0.7448600000000001, 0.7459950000000002, 0.7471300000000001, 0.7482650000000002, 0.7494000000000001, 0.7505350000000001, 0.7516700000000002, 0.7528050000000002, 0.7539400000000002, 0.755075, 0.75621, 0.757345, 0.7584800000000002, 0.7596150000000002, 0.7607500000000001, 0.7618850000000001, 0.7630200000000001, 0.7641550000000001, 0.76529, 0.766425, 0.76756, 0.768695, 0.7698300000000001, 0.7709650000000001, 0.7721000000000001, 0.7732350000000001, 0.7743700000000001, 0.7755050000000001, 0.7766400000000001, 0.7777750000000001, 0.7789100000000001, 0.7800450000000001, 0.7811800000000001, 0.7823150000000001, 0.7834500000000002, 0.7845850000000002, 0.7857200000000002, 0.7868550000000001, 0.7879900000000001, 0.7891250000000001, 0.7902600000000001, 0.7913950000000001, 0.7925300000000001, 0.7936650000000001, 0.7948000000000001, 0.7959350000000001, 0.7970700000000002, 0.7982050000000002, 0.7993400000000002, 0.8004750000000002, 0.8016100000000002, 0.8027450000000002, 0.8038800000000001, 0.8050150000000001, 0.8061500000000001, 0.807285, 0.80842, 0.809555, 0.8106900000000001, 0.8118250000000001, 0.8129600000000001, 0.8140950000000001, 0.8152300000000001, 0.8163650000000001], \"xaxis\": \"x\", \"y\": [0.12726977521284227, 0.12773015246309088, 0.1280146951407886, 0.12812901459808174, 0.12808006776527076, 0.12787610386823406, 0.12752659663609467, 0.12704216254470385, 0.12643446582269954, 0.1257161111201838, 0.12490052490300382, 0.12400182678592245, 0.12303469215354651, 0.12201420753690348, 0.1209557203144295, 0.11987468438755566, 0.1187865035420243, 0.11770637424582983, 0.1166491296528187, 0.11562908657739275, 0.11465989718058368, 0.11375440706145938, 0.112924521381071, 0.1121810805599135, 0.11153374698531052, 0.11099090404363654, 0.11055956865540582, 0.11024531834071491, 0.11005223368017901, 0.10998285686433018, 0.11003816684450783, 0.11021757141271088, 0.11051891634888077, 0.11093851158385556, 0.11147117413699727, 0.11211028740145264, 0.11284787616931982, 0.1136746966157767, 0.11458034029749774, 0.11555335106838152, 0.11658135367651785, 0.11765119268211083, 0.11874908022821322, 0.1198607511059266, 0.12097162348425454, 0.12206696362292083, 0.12313205285478421, 0.12415235511333203, 0.12511368329018166, 0.12600236273733295, 0.12680539027858279, 0.12751058716322428, 0.12810674448181375, 0.12858375966702973, 0.12893276282083468, 0.1291462317404183, 0.12921809465767153, 0.1291438198579565, 0.1289204915013159, 0.12854687113050622, 0.1280234445128253, 0.12735245362408765, 0.12653791374081266, 0.12558561575834315, 0.12450311399599295, 0.12329969988340109, 0.12198636204327794, 0.12057573339317985, 0.11908202598166698, 0.11752095435138066, 0.11590964828274952, 0.11426655581714029, 0.11261133748759264, 0.11096475269950237, 0.1093485392037441, 0.10778528659211647, 0.10629830472124951, 0.10491148793812814, 0.10364917594018971, 0.10253601205775348, 0.10159679969857402, 0.10085635764585218, 0.10033937485427012, 0.1000702653456196, 0.10007302376823024, 0.10037108215431328, 0.10098716838782495, 0.10194316688350338, 0.10325998197591923, 0.10495740452587882, 0.10705398227006614, 0.10956689446772185, 0.11251183143430708, 0.1159028795949875, 0.11975241273849131, 0.12407099020225693, 0.128867262770293, 0.13414788711315717, 0.13991744964212077, 0.146178400684029, 0.1529309999068302, 0.16017327393545974, 0.1679009870913007, 0.17610762616354017, 0.18478440007563252, 0.1939202552433065, 0.20350190733131654, 0.2135138900040354, 0.22393862113034177, 0.23475648674695787, 0.24594594290791819, 0.25748363535341884, 0.2693445367215468, 0.2815021008047149, 0.2939284331227062, 0.3065944768503759, 0.3194702129047005, 0.33252487276789267, 0.3457271624054951, 0.35904549543575665, 0.3724482335238925, 0.38590393181660404, 0.39938158710277244, 0.4128508862891622, 0.42628245271848514, 0.4396480878337426, 0.452921005709135, 0.46607605802472024, 0.47908994715963243, 0.49194142521593487, 0.5046114769603044, 0.5170834848810577, 0.5293433747998343, 0.5413797407461952, 0.5531839480943973, 0.5647502142689252, 0.5760756666426903, 0.587160377572767, 0.5980073768361174, 0.608622642035329, 0.6190150678350684, 0.629196415157459, 0.6391812417027576, 0.6489868153652947, 0.6586330122788209, 0.6681422013465337, 0.6775391171861552, 0.6868507234478967, 0.6961060684422198, 0.7053361349456385, 0.7145736859380882, 0.7238531078675533, 0.7332102528407007, 0.7426822809073514, 0.7523075033477192, 0.7621252275914234, 0.7721756041037883, 0.7824994752760941, 0.7931382260605321, 0.8041336358063643, 0.8155277304895203, 0.8273626342920253, 0.8396804192878825, 0.8525229518355796, 0.8659317341703827, 0.879947739637439, 0.894611240013464, 0.9099616234330749, 0.9260372015673393, 0.9428750048963714, 0.9605105651734732, 0.9789776844920146, 0.9983081907334486, 1.0185316795892096, 1.0396752438034178, 1.0617631907683802, 1.0848167501109705, 1.1088537734244024, 1.1338884288149256, 1.1599308934347656, 1.186987047648765, 1.215058174920527, 1.2441406718922157, 1.2742257734592866, 1.305299297896358, 1.3373414172638607, 1.370326458408293, 1.40422273985536, 1.438992449779651, 1.474591570013505, 1.5109698507303149, 1.5480708400041734, 1.5858319719118579, 1.6241847162095635, 1.6630547918930387, 1.702362446145034, 1.7420227992998885, 1.7819462555243442, 1.8220389779414068, 1.86220342592602, 1.902338951294648, 1.9423424491135455, 1.9821090578804654, 2.021532902910516, 2.0605078758964304, 2.0989284428345645, 2.136690471825939, 2.173692071692737, 2.2098344319068977, 2.2450226540209868, 2.2791665646309083, 2.312181499891789, 2.343989051756616, 2.3745177664125103, 2.4037037858505403, 2.431491424116514, 2.4578336705450923, 2.482692613167068, 2.5060397764872735, 2.5278563689425546, 2.5481334365486425, 2.56687192051183, 2.584082617895741, 2.5997860457732584, 2.614012210636118, 2.626800286157419, 2.638198203682098, 2.648262161035723, 2.657056056371134, 2.664650854796216, 2.671123896425934, 2.6765581552621582, 2.681041458911923, 2.684665679597897, 2.6875259071857607, 2.6897196150470704, 2.691345829490889, 2.692504313234562, 2.6932947729476187, 2.6938161003007415, 2.6941656551944235, 2.6944385989428348, 2.6947272841634478, 2.6951207069905654, 2.695704026011423, 2.696558151039072, 2.697759403510362, 2.6993792489542705, 2.7014841006406427, 2.704135192216988, 2.707388515896077, 2.7112948215934467, 2.7158996713543258, 2.721243542474718, 2.727361971930471, 2.7342857340975044, 2.7420410432896505, 2.7506497723682375, 2.7601296785970386, 2.7704946280308453, 2.781754810035822, 2.7939169340409196, 2.8069844013043035, 2.820957445335259, 2.835833235625509, 2.85160594049521, 2.868266746126595, 2.885803830217365, 2.9042022901094184, 2.9234440267070703, 2.943507586962333, 2.9643679691410223, 2.98599639646158, 3.0083600659862824, 3.031421880812701, 3.055140174632437, 3.079468438568724, 3.104355060850932, 3.129743090312746, 3.155570034895917, 3.181767706292422, 3.2082621215574356, 3.2349734719732637, 3.2618161686439118, 3.288698973260561, 3.31552522121473, 3.3421931427676177, 3.368596286335338, 3.3946240461493584, 3.420162294631487, 3.4450941178189267, 3.4693006501252066, 3.4926620026668735, 3.515058277364218, 3.5363706570775353, 3.5564825602083388, 3.5752808465152897, 3.59265705940307, 3.608508688671102, 3.6227404366859726, 3.635265470190181, 3.646006639498987, 3.6548976466790193, 3.661884144454499, 3.666924748049867, 3.6699919429467354, 3.6710728725972666, 3.670169991479064, 3.6673015704765026, 3.6625020434039013, 3.655822185516211, 3.6473291170489395, 3.6371061271538654, 3.625252316011869, 3.611882055368831, 3.5971242702144512, 3.5811215467671857, 3.5640290743022818, 3.5460134306271387, 3.5272512231347903, 3.5079275993205217, 3.4882346424012316, 3.468369669208218, 3.4485334488120585, 3.4289283613686368, 3.409756517437156, 3.391217858508529, 3.3735082596943053, 3.3568176554646856, 3.341328208996074, 3.327212545103987, 3.314632065909709, 3.3037353673348746, 3.2946567732564, 3.287515002705317, 3.2824119838797885, 3.279431826988491, 3.2786399660701036, 3.280082477972858, 3.283785584650108, 3.289755342858582, 3.2979775232601156, 3.308417678849133, 3.32102140058016, 3.3357147560746507, 3.352404905365242, 3.3709808858086956, 3.391314556584365, 3.413261691610846, 3.4366632082749033, 3.4613465180883307, 3.4871269842821833, 3.5138094704251177, 3.5411899634212785, 3.56905725371107, 3.5971946551688494, 3.6253817470682144, 3.6533961205676726, 3.6810151124548383, 3.708017509371129, 3.734185206413473, 3.759304804865266, 3.783169134833047, 3.8055786897435016, 3.8263429609703343, 3.8452816622933823, 3.862225835421978, 3.877018829419171, 3.8895171485187547, 3.8995911645096606, 3.9071256915468444, 3.9120204229102353, 3.914190230849247, 3.9135653321970407, 3.9100913238941857, 3.903729093906218, 3.8944546142358902, 3.8822586238040095, 3.8671462098904246, 3.8491362975798435, 3.8282610572403035, 3.804565240472298, 3.7781054552052606, 3.7489493906886735, 3.717175003035383, 3.682869671733917, 3.646129337167853, 3.6070576286776665, 3.5657649920907994, 3.522367824945946, 3.476987626867296, 3.4297501717214103, 3.380784707333439, 3.330223187668, 3.2781995415112366, 3.224848980840007, 3.170307351246445, 3.1147105260140013, 3.058193844724665, 3.0008915966251846, 2.9429365483983845, 2.884459515478368, 2.825588975616574, 2.766450723050069, 2.7071675613402557, 2.6478590327376983, 2.58864118177955, 2.5296263507361187, 2.4709230044836716, 2.4126355823858114, 2.3548643748062585, 2.2977054219465667, 2.2412504327932705, 2.185586722066551, 2.130797163177976, 2.0769601553262875, 2.024149602980597, 1.972434906119539, 1.9218809597083697, 1.8725481610051518, 1.8244924233892963, 1.7777651955041094, 1.7324134845984807, 1.6884798830449514, 1.6460025971029022, 1.6050154770896514, 1.5655480482199164, 1.527625541478512, 1.4912689240026258, 1.4564949285708297, 1.4233160819259094, 1.391740731798119, 1.3617730726435038, 1.3334131702675696, 1.3066569856654118, 1.281496398573221, 1.2579192313894891, 1.235909274284062, 1.2154463124653394, 1.1965061567166115, 1.1790606784378819, 1.1630778505351624, 1.148521795582321, 1.1353528427369415, 1.1235275949192043, 1.1129990077590142, 1.103716481779901, 1.09562596921803, 1.0886700967706537, 1.0827883054314902, 1.0779170084021408, 1.0739897678711536, 1.0709374912284872, 1.0686886470365946, 1.0671695008140945, 1.0663043704085973, 1.066015900446476, 1.0662253550542364, 1.066852927753795, 1.0678180671474569, 1.0690398167326671, 1.0704371669264219, 1.0719294171389233, 1.0734365455196504, 1.0748795838100185, 1.0761809945781484, 1.0772650479854484, 1.0780581951435395, 1.0784894350647698, 1.0784906721908627, 1.0779970615022216, 1.0769473382646033, 1.0752841295593687, 1.0729542448669076, 1.069908943128256, 1.0661041738952812, 1.061500790392475, 1.0560647325507724, 1.0497671783327465, 1.042584661946057, 1.0344991578347227, 1.025498129642442, 1.0155745436553048, 1.004726846549496, 0.9929589075894906, 0.980279925740608, 0.9667043024731207, 0.9522514813404033, 0.936945755707672, 0.9208160462877226, 0.9038956504030173, 0.8862219651367405, 0.8678361867566744, 0.8487829889926489, 0.8291101829188968, 0.8088683613352036, 0.7881105306537349, 0.7668917333807403, 0.7452686643331403, 0.7232992837487833], \"yaxis\": \"y\"}, {\"legendgroup\": \"seqU\", \"marker\": {\"color\": \"rgb(255, 127, 14)\"}, \"mode\": \"lines\", \"name\": \"seqU\", \"showlegend\": false, \"type\": \"scatter\", \"x\": [0.5, 0.5009333333333333, 0.5018666666666667, 0.5028, 0.5037333333333334, 0.5046666666666667, 0.5056, 0.5065333333333333, 0.5074666666666666, 0.5084, 0.5093333333333333, 0.5102666666666666, 0.5112, 0.5121333333333333, 0.5130666666666667, 0.514, 0.5149333333333334, 0.5158666666666667, 0.5168, 0.5177333333333334, 0.5186666666666666, 0.5196, 0.5205333333333333, 0.5214666666666666, 0.5224, 0.5233333333333333, 0.5242666666666667, 0.5252, 0.5261333333333333, 0.5270666666666667, 0.528, 0.5289333333333334, 0.5298666666666667, 0.5307999999999999, 0.5317333333333333, 0.5326666666666666, 0.5336, 0.5345333333333333, 0.5354666666666666, 0.5364, 0.5373333333333333, 0.5382666666666667, 0.5392, 0.5401333333333334, 0.5410666666666667, 0.542, 0.5429333333333333, 0.5438666666666666, 0.5448, 0.5457333333333333, 0.5466666666666666, 0.5476, 0.5485333333333333, 0.5494666666666667, 0.5504, 0.5513333333333333, 0.5522666666666667, 0.5532, 0.5541333333333334, 0.5550666666666666, 0.5559999999999999, 0.5569333333333333, 0.5578666666666666, 0.5588, 0.5597333333333333, 0.5606666666666666, 0.5616, 0.5625333333333333, 0.5634666666666667, 0.5644, 0.5653333333333334, 0.5662666666666667, 0.5671999999999999, 0.5681333333333333, 0.5690666666666666, 0.57, 0.5709333333333333, 0.5718666666666666, 0.5728, 0.5737333333333333, 0.5746666666666667, 0.5756, 0.5765333333333333, 0.5774666666666667, 0.5784, 0.5793333333333333, 0.5802666666666667, 0.5811999999999999, 0.5821333333333333, 0.5830666666666666, 0.584, 0.5849333333333333, 0.5858666666666666, 0.5868, 0.5877333333333333, 0.5886666666666667, 0.5896, 0.5905333333333334, 0.5914666666666666, 0.5924, 0.5933333333333333, 0.5942666666666666, 0.5952, 0.5961333333333333, 0.5970666666666666, 0.598, 0.5989333333333333, 0.5998666666666667, 0.6008, 0.6017333333333333, 0.6026666666666667, 0.6036, 0.6045333333333333, 0.6054666666666666, 0.6063999999999999, 0.6073333333333333, 0.6082666666666666, 0.6092, 0.6101333333333333, 0.6110666666666666, 0.612, 0.6129333333333333, 0.6138666666666667, 0.6148, 0.6157333333333332, 0.6166666666666667, 0.6175999999999999, 0.6185333333333333, 0.6194666666666666, 0.6204, 0.6213333333333333, 0.6222666666666666, 0.6232, 0.6241333333333333, 0.6250666666666667, 0.626, 0.6269333333333333, 0.6278666666666666, 0.6288, 0.6297333333333333, 0.6306666666666666, 0.6315999999999999, 0.6325333333333333, 0.6334666666666666, 0.6344, 0.6353333333333333, 0.6362666666666666, 0.6372, 0.6381333333333333, 0.6390666666666667, 0.6399999999999999, 0.6409333333333334, 0.6418666666666666, 0.6427999999999999, 0.6437333333333333, 0.6446666666666666, 0.6456, 0.6465333333333333, 0.6474666666666666, 0.6484, 0.6493333333333333, 0.6502666666666667, 0.6512, 0.6521333333333332, 0.6530666666666667, 0.6539999999999999, 0.6549333333333334, 0.6558666666666666, 0.6567999999999999, 0.6577333333333333, 0.6586666666666666, 0.6596, 0.6605333333333333, 0.6614666666666666, 0.6624, 0.6633333333333333, 0.6642666666666666, 0.6652, 0.6661333333333332, 0.6670666666666667, 0.6679999999999999, 0.6689333333333333, 0.6698666666666666, 0.6708, 0.6717333333333333, 0.6726666666666666, 0.6736, 0.6745333333333333, 0.6754666666666667, 0.6763999999999999, 0.6773333333333333, 0.6782666666666666, 0.6792, 0.6801333333333333, 0.6810666666666666, 0.6819999999999999, 0.6829333333333333, 0.6838666666666666, 0.6848, 0.6857333333333333, 0.6866666666666666, 0.6876, 0.6885333333333333, 0.6894666666666667, 0.6903999999999999, 0.6913333333333334, 0.6922666666666666, 0.6931999999999999, 0.6941333333333333, 0.6950666666666666, 0.696, 0.6969333333333333, 0.6978666666666666, 0.6988, 0.6997333333333333, 0.7006666666666667, 0.7016, 0.7025333333333332, 0.7034666666666666, 0.7043999999999999, 0.7053333333333333, 0.7062666666666666, 0.7071999999999999, 0.7081333333333333, 0.7090666666666666, 0.71, 0.7109333333333333, 0.7118666666666666, 0.7128, 0.7137333333333333, 0.7146666666666666, 0.7156, 0.7165333333333332, 0.7174666666666666, 0.7183999999999999, 0.7193333333333333, 0.7202666666666666, 0.7212, 0.7221333333333333, 0.7230666666666666, 0.724, 0.7249333333333333, 0.7258666666666667, 0.7267999999999999, 0.7277333333333333, 0.7286666666666666, 0.7295999999999999, 0.7305333333333333, 0.7314666666666666, 0.7323999999999999, 0.7333333333333333, 0.7342666666666666, 0.7352, 0.7361333333333333, 0.7370666666666665, 0.738, 0.7389333333333332, 0.7398666666666667, 0.7407999999999999, 0.7417333333333334, 0.7426666666666666, 0.7435999999999999, 0.7445333333333333, 0.7454666666666666, 0.7464, 0.7473333333333333, 0.7482666666666666, 0.7491999999999999, 0.7501333333333333, 0.7510666666666665, 0.752, 0.7529333333333332, 0.7538666666666667, 0.7547999999999999, 0.7557333333333333, 0.7566666666666666, 0.7575999999999999, 0.7585333333333333, 0.7594666666666665, 0.7604, 0.7613333333333332, 0.7622666666666666, 0.7631999999999999, 0.7641333333333333, 0.7650666666666666, 0.766, 0.7669333333333332, 0.7678666666666667, 0.7687999999999999, 0.7697333333333333, 0.7706666666666666, 0.7716, 0.7725333333333333, 0.7734666666666665, 0.7744, 0.7753333333333332, 0.7762666666666667, 0.7771999999999999, 0.7781333333333333, 0.7790666666666666, 0.7799999999999999, 0.7809333333333333, 0.7818666666666666, 0.7827999999999999, 0.7837333333333333, 0.7846666666666666, 0.7855999999999999, 0.7865333333333333, 0.7874666666666665, 0.7884, 0.7893333333333332, 0.7902666666666667, 0.7911999999999999, 0.7921333333333332, 0.7930666666666666, 0.7939999999999999, 0.7949333333333333, 0.7958666666666666, 0.7968, 0.7977333333333333, 0.7986666666666666, 0.7995999999999999, 0.8005333333333333, 0.8014666666666665, 0.8024, 0.8033333333333332, 0.8042666666666666, 0.8051999999999999, 0.8061333333333333, 0.8070666666666666, 0.8079999999999999, 0.8089333333333333, 0.8098666666666666, 0.8108, 0.8117333333333333, 0.8126666666666666, 0.8135999999999999, 0.8145333333333332, 0.8154666666666666, 0.8163999999999999, 0.8173333333333332, 0.8182666666666666, 0.8191999999999999, 0.8201333333333333, 0.8210666666666666, 0.822, 0.8229333333333333, 0.8238666666666666, 0.8248, 0.8257333333333332, 0.8266666666666665, 0.8275999999999999, 0.8285333333333332, 0.8294666666666666, 0.8303999999999999, 0.8313333333333333, 0.8322666666666666, 0.8331999999999999, 0.8341333333333333, 0.8350666666666666, 0.836, 0.8369333333333333, 0.8378666666666665, 0.8387999999999999, 0.8397333333333332, 0.8406666666666666, 0.8415999999999999, 0.8425333333333332, 0.8434666666666666, 0.8443999999999999, 0.8453333333333333, 0.8462666666666666, 0.8472, 0.8481333333333333, 0.8490666666666666, 0.8499999999999999, 0.8509333333333333, 0.8518666666666665, 0.8527999999999999, 0.8537333333333332, 0.8546666666666666, 0.8555999999999999, 0.8565333333333333, 0.8574666666666666, 0.8583999999999999, 0.8593333333333333, 0.8602666666666665, 0.8612, 0.8621333333333332, 0.8630666666666666, 0.8639999999999999, 0.8649333333333333, 0.8658666666666666, 0.8667999999999999, 0.8677333333333332, 0.8686666666666666, 0.8695999999999999, 0.8705333333333333, 0.8714666666666666, 0.8723999999999998, 0.8733333333333333, 0.8742666666666665, 0.8752, 0.8761333333333332, 0.8770666666666667, 0.8779999999999999, 0.8789333333333332, 0.8798666666666666, 0.8807999999999999, 0.8817333333333333, 0.8826666666666666, 0.8835999999999999, 0.8845333333333332, 0.8854666666666666, 0.8863999999999999, 0.8873333333333333, 0.8882666666666665, 0.8892, 0.8901333333333332, 0.8910666666666667, 0.8919999999999999, 0.8929333333333332, 0.8938666666666666, 0.8947999999999998, 0.8957333333333333, 0.8966666666666665, 0.8976, 0.8985333333333332, 0.8994666666666666, 0.9003999999999999, 0.9013333333333333, 0.9022666666666666, 0.9032, 0.9041333333333332, 0.9050666666666666, 0.9059999999999999, 0.9069333333333331, 0.9078666666666666, 0.9087999999999998, 0.9097333333333333, 0.9106666666666665, 0.9116, 0.9125333333333332, 0.9134666666666666, 0.9143999999999999, 0.9153333333333333, 0.9162666666666666, 0.9171999999999999, 0.9181333333333332, 0.9190666666666665, 0.9199999999999999, 0.9209333333333332, 0.9218666666666666, 0.9227999999999998, 0.9237333333333333, 0.9246666666666665, 0.9256, 0.9265333333333332, 0.9274666666666667, 0.9283999999999999, 0.9293333333333332, 0.9302666666666666, 0.9311999999999999, 0.9321333333333333, 0.9330666666666665, 0.9339999999999999, 0.9349333333333332, 0.9358666666666666, 0.9367999999999999, 0.9377333333333333, 0.9386666666666665, 0.9396, 0.9405333333333332, 0.9414666666666666, 0.9423999999999999, 0.9433333333333332, 0.9442666666666666, 0.9451999999999998, 0.9461333333333333, 0.9470666666666665, 0.948, 0.9489333333333332, 0.9498666666666666, 0.9507999999999999, 0.9517333333333332, 0.9526666666666666, 0.9535999999999999, 0.9545333333333332, 0.9554666666666666, 0.9563999999999999, 0.9573333333333333, 0.9582666666666666, 0.9591999999999998, 0.9601333333333333, 0.9610666666666665, 0.962, 0.9629333333333332, 0.9638666666666665, 0.9647999999999999, 0.9657333333333332], \"xaxis\": \"x\", \"y\": [0.22488428909925723, 0.23193311279519874, 0.23924569721036215, 0.24685156653730297, 0.254781858346105, 0.2630691534410148, 0.2717472822051318, 0.2808511085236401, 0.29041629265911884, 0.30047903472325177, 0.31107580064415735, 0.3222430327637347, 0.3340168474118709, 0.34643272199094494, 0.3595251742624051, 0.373327436655215, 0.38787112851200467, 0.403185929251783, 0.41929925545752494, 0.43623594489265244, 0.4540179504129235, 0.47266404667049466, 0.4921895524061179, 0.5126060709958002, 0.5339212517615999, 0.5561385743754867, 0.5792571584831712, 0.6032716004545363, 0.6281718389322491, 0.6539430506037816, 0.680565577367641, 0.7080148858060177, 0.7362615596162553, 0.76527132539605, 0.7950051119251212, 0.8254191428416802, 0.8564650623783967, 0.8880900936010369, 0.9202372283857453, 0.9528454481790557, 0.9858499744087581, 1.0191825472542102, 1.0527717313413796, 1.086543246800025, 1.120420324007176, 1.1543240802410721, 1.1881739163810863, 1.2218879317101863, 1.2553833548049735, 1.2885769884322267, 1.321385666307726, 1.353726719511185, 1.3855184502883744, 1.4166806109061856, 1.4471348851574657, 1.4768053700390655, 1.5056190550482278, 1.5335062964596546, 1.560401283859151, 1.5862424961209796, 1.6109731439272466, 1.6345415958413891, 1.656901784867489, 1.6780135923562531, 1.6978432060615765, 1.716363449112896, 1.7335540766528752, 1.7494020369020626, 1.7639016934568899, 1.777055005709033, 1.7888716643970717, 1.7993691794691342, 1.8085729176507357, 1.8165160873775577, 1.8232396690698052, 1.8287922890931392, 1.8332300361704097, 1.8366162194763729, 1.8390210681612682, 1.8405213726041973, 1.841200068288243, 1.841145763809702, 1.8404522151761176, 1.8392177492035238, 1.8375446394833723, 1.8355384390440572, 1.8333072744707015, 1.8309611068593272, 1.8286109655572276, 1.8263681611698848, 1.8243434847860065, 1.822646400776795, 1.8213842408544187, 1.8206614073200442, 1.820578593586765, 1.8212320301215603, 1.8227127639087772, 1.8251059793923785, 1.8284903686039025, 1.832937557827694, 1.8385115976959392, 1.8452685230465973, 1.853255988221821, 1.8625129827392466, 1.8730696314408535, 1.8849470823230055, 1.8981574842866942, 1.9127040560302722, 1.9285812462502543, 1.9457749842321606, 1.9642630188167258, 1.9840153426314913, 2.004994697398486, 2.0271571550804546, 2.050452768625781, 2.0748262851307833, 2.1002179133716252, 2.126564136880722, 2.153798563067144, 2.1818527983190568, 2.210657338589554, 2.2401424646647463, 2.270239131152156, 2.300879838214448, 2.331999475212137, 2.363536125710803, 2.3954318237529653, 2.4276332518895067, 2.4600923722041426, 2.492766982440113, 2.52562119033946, 2.5586258004197715, 2.591758608625687, 2.625004601585051, 2.658356058553397, 2.691812555523787, 2.7253808723895663, 2.759074805451707, 2.792914888935466, 2.8269280304986673, 2.861147066952139, 2.895610247546975, 2.9303606531927633, 2.9654455608334938, 3.000915762906556, 3.036824852329035, 3.0732284837821933, 3.1101836221910713, 3.147747789216785, 3.185978318293767, 3.2249316282566842, 3.2646625249207513, 3.305223539116536, 3.346664308654471, 3.3890310105245525, 3.432365848349876, 3.476706598735177, 3.5220862187154056, 3.568532515047209, 3.616067874632317, 3.6647090539513756, 3.7144670240547906, 3.7653468664368965, 3.81734771404356, 3.8704627307603086, 3.924679122023031, 3.979978168708992, 4.036335276216271, 4.093720030638519, 4.152096254190212, 4.211422052537547, 4.2716498474305, 4.332726388999895, 4.394592743257916, 4.457184251694863, 4.520430461366752, 4.584255025480635, 4.6485755761666265, 4.71330357283247, 4.778344131183865, 4.843595839612141, 4.908950571156525, 4.974293300592929, 5.03950193734532, 5.104447185818248, 5.168992445377941, 5.232993762536059, 5.296299847894247, 5.358752170075346, 5.420185138193525, 5.480426383404162, 5.539297148735658, 5.596612794761705, 5.652183426749531, 5.70581464675631, 5.757308431782097, 5.806464136574988, 5.853079617073874, 5.8969524678255265, 5.937881364083885, 5.975667496751581, 6.010116085916461, 6.041037956526435, 6.0682511577890565, 6.091582606226364, 6.110869731004038, 6.125962099222079, 6.136722998330005, 6.143030952730525, 6.144781151971724, 6.141886768697446, 6.134280145718656, 6.121913833164869, 6.104761458645006, 6.082818415653857, 6.056102358058323, 6.024653491335405, 5.9885346542547655, 5.947831187841774, 5.9026505916594445, 5.853121970645661, 5.799395278871784, 5.741640369589601, 5.68004586374681, 5.614817851724095, 5.546178445332609, 5.47436419906761, 5.3996244212107, 5.3222193965848055, 5.2424185435764095, 5.160498528442884, 5.076741359919805, 4.991432486746351, 4.904858919951664, 4.8173074006220675, 4.7290626324266105, 4.640405596457808, 4.551611963988493, 4.4629506205997735, 4.37468231284957, 4.287058426276343, 4.20031990111727, 4.114696289714741, 4.030404957236268, 3.9476504250831814, 3.8666238542541898, 3.7875026639940867, 3.7104502793267953, 3.6356159995672357, 3.5631349786477253, 3.493128307091501, 3.425703184725298, 3.36095317274242, 3.298958513502176, 3.2397865064692253, 3.1834919289399637, 3.1301174906536633, 3.0796943120185167, 3.032242416471976, 2.9877712284108022, 2.9462800691418796, 2.9077586443875467, 2.8721875180025376, 2.83953856769242, 2.8097754196410394, 2.7828538600310075, 2.7587222224558414, 2.737321751155261, 2.718586940841514, 2.702445854612351, 2.6888204220563394, 2.6776267201448802, 2.66877523986995, 2.662171141830153, 2.6577145040943195, 2.6553005656897817, 2.6548199689809984, 2.6561590040357315, 2.659199857833187, 2.663820870866015, 2.6698968033402273, 2.677299112798732, 2.6858962445994647, 2.6955539362815277, 2.706135536464377, 2.71750233855689, 2.7295139292136468, 2.742028551172481, 2.754903479844669, 2.7679954128104356, 2.781160871198047, 2.794256611793845, 2.807140048639864, 2.8196696828207357, 2.831705539116434, 2.843109608195087, 2.8537462930332054, 2.863482858270694, 2.872189881227948, 2.8797417033236044, 2.886016880628138, 2.8908986322640544, 2.894275285313781, 2.896040714818068, 2.896094777339684, 2.8943437364294318, 2.890700678166288, 2.8850859147544363, 2.8774273739526555, 2.867660971892639, 2.855730966620814, 2.84159028948172, 2.8252008512604596, 2.8065338198264915, 2.7855698658820702, 2.762299373324998, 2.736722610696479, 2.70884986020878, 2.6787015009403845, 2.646308042953667, 2.6117101093350286, 2.574958363480565, 2.536113379351153, 2.4952454528962376, 2.4524343533893154, 2.4077690140245194, 2.3613471617814183, 2.3132748872653246, 2.263666155958831, 2.2126422630648923, 2.160331234867164, 2.106867180265766, 2.0523895968502726, 1.9970426365331697, 1.9409743363714491, 1.8843358207397227, 1.8272804814726253, 1.7699631429582694, 1.7125392194305271, 1.655163871868046, 1.5979911719613558, 1.5411732805516052, 1.484859647777931, 1.4291962418977213, 1.3743248133692951, 1.3203822003175045, 1.2674996809481933, 1.2158023778467526, 1.1654087184016213, 1.1164299548480103, 1.0689697466429442, 1.0231238070748032, 0.9789796151920975, 0.936616193321201, 0.8961039496451113, 0.8575045845469235, 0.8208710586952467, 0.7862476201749581, 0.7536698873546421, 0.7231649836405444, 0.6947517198026011, 0.668440819175893, 0.6442351807448566, 0.6221301749097764, 0.6021139666158071, 0.5841678604932006, 0.5682666627115867, 0.5543790543866356, 0.5424679715900154, 0.5324909872969849, 0.5244006909531953, 0.5181450617457392, 0.513667832114682, 0.5109088385311331, 0.5098043570871676, 0.5102874219818945, 0.5122881255369315, 0.5157338989239135, 0.5205497733268338, 0.5266586217838325, 0.5339813824477322, 0.5424372644638957, 0.5519439380803495, 0.5624177109716268, 0.5737736930686216, 0.5859259524367924, 0.598787664930278, 0.6122712604671139, 0.6262885688188043, 0.6407509677855989, 0.6555695365372993, 0.6706552167404716, 0.6859189838689965, 0.7012720308109016, 0.7166259655447726, 0.7318930242709145, 0.7469863009525772, 0.7618199937592569, 0.7763096684163368, 0.7903725379624011, 0.8039277579072577, 0.8168967352802414, 0.829203449569927, 0.8407747830923226, 0.8515408578956856, 0.8614353759240727, 0.8703959588281395, 0.8783644835371076, 0.8852874094973555, 0.8911160933452867, 0.8958070867194461, 0.899322412931333, 0.9016298183071016, 0.9027029941828136, 0.9025217657818808, 0.901072244521314, 0.8983469406782439, 0.8943448337935531, 0.8890713986877418, 0.8825385855065789, 0.874764752791257, 0.8657745531691683, 0.8555987718765762, 0.8442741189420895, 0.8318429764691527, 0.8183531030457681, 0.8038572978699862, 0.7884130277007015, 0.7720820202157224, 0.7549298277755839, 0.7370253659446181, 0.7184404314058885, 0.6992492041187047, 0.6795277387048432, 0.6593534501103888, 0.6388045985754792, 0.6179597788550992, 0.5968974184743837, 0.5756952895758548, 0.5544300386288187, 0.5331767379304713, 0.5120084624403526, 0.4909958950639766, 0.4702069630453852, 0.44970650765197123, 0.4295559888460775, 0.4098132261468333, 0.3905321763997895, 0.37176274870048553, 0.35355065626785614, 0.3359373046417787, 0.3189597151917786, 0.30265048257599847, 0.28703776448523827, 0.2721453017486767, 0.25799246666832887, 0.24459433728831234, 0.2319617951933005, 0.2201016443659353, 0.20901674861410505, 0.19870618510218038, 0.18916541158244293, 0.18038644501903703, 0.1723580494226906, 0.16506593086438698, 0.15849293780512022, 0.15261926506125595, 0.14742265991519374, 0.14287862907408327, 0.1389606453698558, 0.1356403532775596, 0.13288777250142503, 0.13067149903600886, 0.128958903249796, 0.1277163246588002, 0.12690926315608034, 0.12650256653888106, 0.12646061422796498, 0.1267474971040574, 0.1273271933951654, 0.1281637405374836, 0.12922140290373485, 0.13046483524869368, 0.13185924166517143, 0.13337052977811548, 0.13496545983299754, 0.13661178826081938, 0.1382784052292237, 0.1399354656207362, 0.1415545128181711, 0.14310859462663245, 0.14457237062383682, 0.1459222102078273, 0.14713628060525386, 0.14819462411545706, 0.1490792238963389, 0.14977405764760668, 0.15026513861514243, 0.15054054342610876, 0.1505904263667068], \"yaxis\": \"y\"}, {\"legendgroup\": \"stdU\", \"marker\": {\"color\": \"rgb(31, 119, 180)\", \"symbol\": \"line-ns-open\"}, \"mode\": \"markers\", \"name\": \"stdU\", \"showlegend\": false, \"type\": \"scatter\", \"x\": [0.6399999999999999, 0.6399999999999999, 0.6399999999999999, 0.6399999999999999, 0.6399999999999999, 0.6399999999999999, 0.6399999999999999, 0.6399999999999999, 0.7, 0.7, 0.7, 0.7, 0.7, 0.7, 0.7, 0.7, 0.5555555555555555, 0.5555555555555555, 0.5555555555555555, 0.5555555555555555, 0.5555555555555555, 0.5555555555555555, 0.5555555555555555, 0.5555555555555555, 0.5700000000000001, 0.5700000000000001, 0.5700000000000001, 0.5700000000000001, 0.5700000000000001, 0.5700000000000001, 0.5700000000000001, 0.5700000000000001, 0.6, 0.6, 0.6, 0.6, 0.6, 0.6, 0.6, 0.6, 0.6083333333333333, 0.6083333333333333, 0.6083333333333333, 0.6083333333333333, 0.6083333333333333, 0.6083333333333333, 0.6083333333333333, 0.6083333333333333, 0.6, 0.6, 0.6, 0.6, 0.6, 0.6, 0.6, 0.6, 0.6666666666666665, 0.6666666666666665, 0.6666666666666665, 0.6666666666666665, 0.6666666666666665, 0.6666666666666665, 0.6666666666666665, 0.6666666666666665, 0.675, 0.675, 0.675, 0.675, 0.675, 0.675, 0.675, 0.675, 0.4999999999999999, 0.4999999999999999, 0.4999999999999999, 0.4999999999999999, 0.4999999999999999, 0.4999999999999999, 0.4999999999999999, 0.4999999999999999, 0.7, 0.7, 0.7, 0.7, 0.7, 0.7, 0.7, 0.7, 0.7775000000000001, 0.7775000000000001, 0.7775000000000001, 0.7775000000000001, 0.7775000000000001, 0.7775000000000001, 0.7775000000000001, 0.7775000000000001, 0.5555555555555556, 0.5555555555555556, 0.5555555555555556, 0.5555555555555556, 0.5555555555555556, 0.5555555555555556, 0.5555555555555556, 0.5555555555555556, 0.5599999999999999, 0.5599999999999999, 0.5599999999999999, 0.5599999999999999, 0.5599999999999999, 0.5599999999999999, 0.5599999999999999, 0.5599999999999999, 0.6, 0.6, 0.6, 0.6, 0.6, 0.6, 0.6, 0.6, 0.525, 0.525, 0.525, 0.525, 0.525, 0.525, 0.525, 0.525, 0.7777777777777778, 0.7777777777777778, 0.7777777777777778, 0.7777777777777778, 0.7777777777777778, 0.7777777777777778, 0.7777777777777778, 0.7777777777777778, 0.48148148148148145, 0.48148148148148145, 0.48148148148148145, 0.48148148148148145, 0.48148148148148145, 0.48148148148148145, 0.48148148148148145, 0.48148148148148145, 0.8175000000000001, 0.8175000000000001, 0.8175000000000001, 0.8175000000000001, 0.8175000000000001, 0.8175000000000001, 0.8175000000000001, 0.8175000000000001, 0.6, 0.6, 0.6, 0.6, 0.6, 0.6, 0.6, 0.6, 0.5133333333333334, 0.5133333333333334, 0.5133333333333334, 0.5133333333333334, 0.5133333333333334, 0.5133333333333334, 0.5133333333333334, 0.5133333333333334, 0.8055555555555556, 0.8055555555555556, 0.8055555555555556, 0.8055555555555556, 0.8055555555555556, 0.8055555555555556, 0.8055555555555556, 0.8055555555555556, 0.5249999999999999, 0.5249999999999999, 0.5249999999999999, 0.5249999999999999, 0.5249999999999999, 0.5249999999999999, 0.5249999999999999, 0.5249999999999999, 0.4722222222222222, 0.4722222222222222, 0.4722222222222222, 0.4722222222222222, 0.4722222222222222, 0.4722222222222222, 0.4722222222222222, 0.4722222222222222, 0.61, 0.61, 0.61, 0.61, 0.61, 0.61, 0.61, 0.61, 0.6759259259259259, 0.6759259259259259, 0.6759259259259259, 0.6759259259259259, 0.6759259259259259, 0.6759259259259259, 0.6759259259259259, 0.6759259259259259, 0.6666666666666666, 0.6666666666666666, 0.6666666666666666, 0.6666666666666666, 0.6666666666666666, 0.6666666666666666, 0.6666666666666666, 0.6666666666666666, 0.6888888888888889, 0.6888888888888889, 0.6888888888888889, 0.6888888888888889, 0.6888888888888889, 0.6888888888888889, 0.6888888888888889, 0.6888888888888889, 0.6855555555555556, 0.6855555555555556, 0.6855555555555556, 0.6855555555555556, 0.6855555555555556, 0.6855555555555556, 0.6855555555555556, 0.4666666666666667, 0.4666666666666667, 0.6855555555555556, 0.4666666666666667, 0.4666666666666667, 0.4666666666666667, 0.4666666666666667, 0.4666666666666667, 0.6666666666666666, 0.4666666666666667, 0.6666666666666666, 0.6666666666666666, 0.6666666666666666, 0.6666666666666666, 0.6666666666666666, 0.6666666666666666, 0.6666666666666666, 0.6733333333333333, 0.6733333333333333, 0.6733333333333333, 0.6733333333333333, 0.6733333333333333, 0.6733333333333333, 0.6733333333333333, 0.6733333333333333, 0.5999999999999999, 0.5999999999999999, 0.5999999999999999, 0.5999999999999999, 0.5999999999999999, 0.5999999999999999, 0.5999999999999999, 0.5999999999999999, 0.64, 0.64, 0.64, 0.64, 0.64, 0.64, 0.64, 0.7, 0.64, 0.7, 0.7, 0.7, 0.7, 0.7, 0.7, 0.6733333333333332, 0.7, 0.6733333333333332, 0.6733333333333332, 0.6733333333333332, 0.6733333333333332, 0.6733333333333332, 0.4097222222222222, 0.6733333333333332, 0.4097222222222222, 0.6733333333333332, 0.4097222222222222, 0.4097222222222222, 0.4097222222222222, 0.4097222222222222, 0.6629629629629629, 0.4097222222222222, 0.6629629629629629, 0.4097222222222222, 0.6629629629629629, 0.6629629629629629, 0.6629629629629629, 0.6629629629629629, 0.6629629629629629, 0.5, 0.6629629629629629, 0.5, 0.5, 0.5, 0.5, 0.5, 0.5, 0.5309999999999999, 0.5, 0.5309999999999999, 0.5309999999999999, 0.5309999999999999, 0.5309999999999999, 0.5309999999999999, 0.5309999999999999, 0.316, 0.5309999999999999, 0.316, 0.316, 0.316, 0.316, 0.316, 0.316, 0.6394444444444445, 0.316, 0.6394444444444445, 0.6394444444444445, 0.6394444444444445, 0.6394444444444445, 0.6394444444444445, 0.6394444444444445, 0.8, 0.6394444444444445, 0.8, 0.8, 0.8, 0.8, 0.8, 0.8, 0.8, 0.8, 0.8, 0.8, 0.8, 0.8, 0.8, 0.5427469135802468, 0.8, 0.5427469135802468, 0.5427469135802468, 0.8, 0.5427469135802468, 0.5427469135802468, 0.5427469135802468, 0.4444444444444444, 0.5427469135802468, 0.4444444444444444, 0.4444444444444444, 0.5427469135802468, 0.4444444444444444, 0.4444444444444444, 0.4444444444444444, 0.575, 0.4444444444444444, 0.4444444444444444, 0.575, 0.575, 0.575, 0.575, 0.575, 0.4, 0.4, 0.575, 0.4, 0.4, 0.4, 0.575, 0.4, 0.4999999999999999, 0.4, 0.4999999999999999, 0.4, 0.4999999999999999, 0.4999999999999999, 0.4999999999999999, 0.4999999999999999, 0.47916666666666663, 0.4999999999999999, 0.47916666666666663, 0.4999999999999999, 0.47916666666666663, 0.47916666666666663, 0.47916666666666663, 0.47916666666666663, 0.7438271604938271, 0.7438271604938271, 0.47916666666666663, 0.7438271604938271, 0.7438271604938271, 0.47916666666666663, 0.7438271604938271, 0.7438271604938271, 0.7222222222222222, 0.7438271604938271, 0.7222222222222222, 0.7438271604938271, 0.7222222222222222, 0.7222222222222222, 0.7222222222222222, 0.25, 0.7222222222222222, 0.25, 0.25, 0.25, 0.7222222222222222, 0.25, 0.7222222222222222, 0.25, 0.6816666666666666, 0.25, 0.6816666666666666, 0.25, 0.6816666666666666, 0.6816666666666666, 0.6816666666666666, 0.6816666666666666, 0.5925925925925927, 0.5925925925925927, 0.6816666666666666, 0.5925925925925927, 0.5925925925925927, 0.5925925925925927, 0.6816666666666666, 0.5925925925925927, 0.6194444444444445, 0.6194444444444445, 0.5925925925925927, 0.6194444444444445, 0.6194444444444445, 0.6194444444444445, 0.5925925925925927, 0.6194444444444445, 0.6666666666666666, 0.6666666666666666, 0.6194444444444445, 0.6666666666666666, 0.6666666666666666, 0.6666666666666666, 0.6194444444444445, 0.6666666666666666, 0.5525, 0.6666666666666666, 0.5525, 0.5525, 0.6666666666666666, 0.5525, 0.5525, 0.5525, 0.6666666666666667, 0.5525, 0.6666666666666667, 0.6666666666666667, 0.6666666666666667, 0.5525, 0.6666666666666667, 0.6666666666666667, 0.7, 0.6666666666666667, 0.7, 0.7, 0.7, 0.6666666666666667, 0.7, 0.7, 0.5999999999999999, 0.7, 0.5999999999999999, 0.5999999999999999, 0.5999999999999999, 0.7, 0.5999999999999999, 0.5999999999999999, 0.49333333333333335, 0.5999999999999999, 0.49333333333333335, 0.49333333333333335, 0.49333333333333335, 0.49333333333333335, 0.5999999999999999, 0.49333333333333335, 0.5, 0.49333333333333335, 0.5, 0.5, 0.5, 0.5, 0.49333333333333335, 0.5, 0.6666666666666666, 0.6666666666666666, 0.6666666666666666, 0.6666666666666666, 0.5, 0.6666666666666666, 0.6666666666666666, 0.5, 0.6666666666666666, 0.6666666666666666, 0.6666666666666666, 0.6666666666666666, 0.6666666666666666, 0.6666666666666666, 0.6666666666666666, 0.6666666666666666, 0.6666666666666666, 0.6666666666666666, 0.6666666666666666, 0.6666666666666666, 0.6666666666666666, 0.6666666666666666, 0.6666666666666666, 0.6666666666666666, 0.65, 0.65, 0.6666666666666666, 0.65, 0.65, 0.65, 0.6666666666666666, 0.65, 0.6199999999999999, 0.6199999999999999, 0.65, 0.6199999999999999, 0.6199999999999999, 0.6199999999999999, 0.65, 0.6199999999999999, 0.5999999999999999, 0.5999999999999999, 0.6199999999999999, 0.5999999999999999, 0.5999999999999999, 0.5999999999999999, 0.6199999999999999, 0.5999999999999999, 0.5555555555555556, 0.5555555555555556, 0.5555555555555556, 0.5555555555555556, 0.5555555555555556, 0.5999999999999999, 0.5555555555555556, 0.5999999999999999, 0.4925, 0.4925, 0.5555555555555556, 0.4925, 0.4925, 0.4925, 0.5555555555555556, 0.4925, 0.5416666666666666, 0.5416666666666666, 0.4925, 0.5416666666666666, 0.5416666666666666, 0.5416666666666666, 0.4925, 0.5416666666666666, 0.7, 0.7, 0.7, 0.5416666666666666, 0.7, 0.7, 0.5416666666666666, 0.7, 0.6733333333333333, 0.6733333333333333, 0.6733333333333333, 0.7, 0.6733333333333333, 0.6733333333333333, 0.7, 0.44999999999999996, 0.6733333333333333, 0.44999999999999996, 0.44999999999999996, 0.44999999999999996, 0.44999999999999996, 0.6733333333333333, 0.44999999999999996, 0.7336111111111111, 0.6733333333333333, 0.7336111111111111, 0.7336111111111111, 0.44999999999999996, 0.7336111111111111, 0.7336111111111111, 0.5583333333333332, 0.7336111111111111, 0.44999999999999996, 0.5583333333333332, 0.5583333333333332, 0.5583333333333332, 0.5583333333333332, 0.5, 0.7336111111111111, 0.5583333333333332, 0.5, 0.5, 0.5, 0.5, 0.7336111111111111, 0.5583333333333332, 0.5, 0.5222222222222223, 0.5222222222222223, 0.5583333333333332, 0.5222222222222223, 0.5, 0.5222222222222223, 0.5222222222222223, 0.6666666666666666, 0.5222222222222223, 0.5, 0.6666666666666666, 0.6666666666666666, 0.6666666666666666, 0.6666666666666666, 0.5222222222222223, 0.6666666666666666, 0.58, 0.5222222222222223, 0.58, 0.58, 0.6666666666666666, 0.58, 0.58, 0.4444444444444444, 0.58, 0.6666666666666666, 0.4444444444444444, 0.4444444444444444, 0.4444444444444444, 0.4444444444444444, 0.58, 0.4444444444444444, 0.5, 0.58, 0.5, 0.5, 0.4444444444444444, 0.5, 0.5, 0.5722222222222223, 0.5, 0.4444444444444444, 0.5722222222222223, 0.5722222222222223, 0.5722222222222223, 0.5722222222222223, 0.5, 0.5722222222222223, 0.7999999999999999, 0.5, 0.7999999999999999, 0.7999999999999999, 0.5722222222222223, 0.7999999999999999, 0.7999999999999999, 0.711111111111111, 0.7999999999999999, 0.5722222222222223, 0.711111111111111, 0.711111111111111, 0.711111111111111, 0.711111111111111, 0.7999999999999999, 0.6666666666666666, 0.711111111111111, 0.6666666666666666, 0.6666666666666666, 0.7999999999999999, 0.6666666666666666, 0.6666666666666666, 0.711111111111111, 0.5037037037037038, 0.6666666666666666, 0.5037037037037038, 0.5037037037037038, 0.711111111111111, 0.5037037037037038, 0.5037037037037038, 0.6666666666666666, 0.5037037037037038, 0.5, 0.5, 0.6666666666666666, 0.5, 0.5, 0.5037037037037038, 0.5, 0.7333333333333333, 0.5, 0.7333333333333333, 0.5037037037037038, 0.7333333333333333, 0.7333333333333333, 0.7333333333333333, 0.6, 0.5, 0.6, 0.7333333333333333, 0.6, 0.6, 0.5, 0.6, 0.6, 0.7333333333333333, 0.6, 0.6, 0.6, 0.7333333333333333, 0.6, 0.6, 0.6, 0.6, 0.6, 0.6, 0.6, 0.6, 0.6, 0.6, 0.6, 0.6, 0.7, 0.6, 0.7, 0.7, 0.7, 0.7, 0.6, 0.7, 0.5000000000000001, 0.6, 0.5000000000000001, 0.5000000000000001, 0.5000000000000001, 0.5000000000000001, 0.7, 0.5000000000000001, 0.4, 0.7, 0.4, 0.4, 0.4, 0.4, 0.71875, 0.5000000000000001, 0.71875, 0.4, 0.71875, 0.5000000000000001, 0.71875, 0.71875, 0.5, 0.71875, 0.4, 0.5, 0.5, 0.4, 0.5, 0.5, 0.751851851851852, 0.71875, 0.751851851851852, 0.5, 0.71875, 0.751851851851852, 0.751851851851852, 0.751851851851852, 0.6, 0.5, 0.751851851851852, 0.6, 0.5, 0.6, 0.6, 0.6, 0.751851851851852, 0.6, 0.6, 0.6, 0.751851851851852, 0.6, 0.6, 0.6, 0.6, 0.7024999999999999, 0.6, 0.7024999999999999, 0.6, 0.7024999999999999, 0.7024999999999999, 0.7024999999999999, 0.6, 0.6, 0.7024999999999999, 0.6, 0.6, 0.6, 0.6, 0.6, 0.5872222222222223, 0.7024999999999999, 0.6, 0.5872222222222223, 0.7024999999999999, 0.5872222222222223, 0.5872222222222223, 0.5872222222222223, 0.7777777777777778, 0.7777777777777778, 0.6, 0.5872222222222223, 0.7777777777777778, 0.6, 0.7777777777777778, 0.7777777777777778, 0.6234567901234569, 0.6234567901234569, 0.7777777777777778, 0.5872222222222223, 0.6234567901234569, 0.6234567901234569, 0.6234567901234569, 0.5872222222222223, 0.7, 0.7, 0.6234567901234569, 0.7777777777777778, 0.7, 0.7777777777777778, 0.7, 0.7, 0.7, 0.6234567901234569, 0.7, 0.7, 0.6234567901234569, 0.7, 0.7, 0.7, 0.6466666666666667, 0.7, 0.6466666666666667, 0.7, 0.7, 0.6466666666666667, 0.6466666666666667, 0.6466666666666667, 0.6, 0.6, 0.7, 0.6466666666666667, 0.7, 0.6, 0.6, 0.6, 0.5199999999999999, 0.5199999999999999, 0.6466666666666667, 0.6, 0.6466666666666667, 0.5199999999999999, 0.5199999999999999, 0.5199999999999999, 0.4225, 0.4225, 0.6, 0.5199999999999999, 0.6, 0.4225, 0.5555555555555556, 0.4225, 0.4225, 0.5555555555555556, 0.5199999999999999, 0.4225, 0.5555555555555556, 0.5199999999999999, 0.5555555555555556, 0.5555555555555556, 0.5533333333333333, 0.5533333333333333, 0.5555555555555556, 0.4225, 0.5533333333333333, 0.4225, 0.5533333333333333, 0.5533333333333333, 0.5999999999999999, 0.5999999999999999, 0.5555555555555556, 0.5533333333333333, 0.5999999999999999, 0.5555555555555556, 0.5999999999999999, 0.5999999999999999, 0.7833333333333334, 0.7833333333333334, 0.5533333333333333, 0.5999999999999999, 0.7833333333333334, 0.5533333333333333, 0.7833333333333334, 0.7833333333333334, 0.6841666666666667, 0.6841666666666667, 0.5999999999999999, 0.7833333333333334, 0.6841666666666667, 0.5999999999999999, 0.6841666666666667, 0.5333333333333333, 0.6841666666666667, 0.5333333333333333, 0.7833333333333334, 0.6841666666666667, 0.5333333333333333, 0.7833333333333334, 0.5333333333333333, 0.6325, 0.5333333333333333, 0.6325, 0.6841666666666667, 0.5333333333333333, 0.6325, 0.6841666666666667, 0.6325, 0.6625, 0.6325, 0.6625, 0.6325, 0.5333333333333333, 0.6625, 0.5333333333333333, 0.6018518518518519, 0.6625, 0.6018518518518519, 0.6625, 0.6625, 0.6325, 0.6018518518518519, 0.6018518518518519, 0.6666666666666666, 0.6325, 0.6018518518518519, 0.6666666666666666, 0.6018518518518519, 0.6625, 0.6666666666666666, 0.6666666666666666, 0.5583333333333333, 0.6625, 0.6666666666666666, 0.5583333333333333, 0.6666666666666666, 0.6018518518518519, 0.5583333333333333, 0.6666666666666665, 0.6018518518518519, 0.5583333333333333, 0.6666666666666665, 0.5583333333333333, 0.5583333333333333, 0.6666666666666666, 0.6666666666666665, 0.6666666666666665, 0.5800000000000001, 0.6666666666666666, 0.6666666666666665, 0.5800000000000001, 0.6666666666666665, 0.5583333333333333, 0.5800000000000001, 0.5800000000000001, 0.64, 0.5800000000000001, 0.5583333333333333, 0.64, 0.5800000000000001, 0.6666666666666665, 0.64], \"xaxis\": \"x\", \"y\": [\"stdU\", \"stdU\", \"stdU\", \"stdU\", \"stdU\", \"stdU\", \"stdU\", \"stdU\", \"stdU\", \"stdU\", \"stdU\", \"stdU\", \"stdU\", \"stdU\", \"stdU\", \"stdU\", \"stdU\", \"stdU\", \"stdU\", \"stdU\", \"stdU\", \"stdU\", \"stdU\", \"stdU\", \"stdU\", \"stdU\", \"stdU\", \"stdU\", \"stdU\", \"stdU\", \"stdU\", \"stdU\", \"stdU\", \"stdU\", \"stdU\", \"stdU\", \"stdU\", \"stdU\", \"stdU\", \"stdU\", \"stdU\", \"stdU\", \"stdU\", \"stdU\", \"stdU\", \"stdU\", \"stdU\", \"stdU\", \"stdU\", \"stdU\", \"stdU\", \"stdU\", \"stdU\", \"stdU\", \"stdU\", \"stdU\", \"stdU\", \"stdU\", \"stdU\", \"stdU\", \"stdU\", \"stdU\", \"stdU\", \"stdU\", \"stdU\", \"stdU\", \"stdU\", \"stdU\", \"stdU\", \"stdU\", \"stdU\", \"stdU\", \"stdU\", \"stdU\", \"stdU\", \"stdU\", \"stdU\", \"stdU\", \"stdU\", \"stdU\", \"stdU\", \"stdU\", \"stdU\", \"stdU\", \"stdU\", \"stdU\", \"stdU\", \"stdU\", \"stdU\", \"stdU\", \"stdU\", \"stdU\", \"stdU\", \"stdU\", \"stdU\", \"stdU\", \"stdU\", \"stdU\", \"stdU\", \"stdU\", \"stdU\", \"stdU\", \"stdU\", \"stdU\", \"stdU\", \"stdU\", \"stdU\", \"stdU\", \"stdU\", \"stdU\", \"stdU\", \"stdU\", \"stdU\", \"stdU\", \"stdU\", \"stdU\", \"stdU\", \"stdU\", \"stdU\", \"stdU\", \"stdU\", \"stdU\", \"stdU\", \"stdU\", \"stdU\", \"stdU\", \"stdU\", \"stdU\", \"stdU\", \"stdU\", \"stdU\", \"stdU\", \"stdU\", \"stdU\", \"stdU\", \"stdU\", \"stdU\", \"stdU\", \"stdU\", \"stdU\", \"stdU\", \"stdU\", \"stdU\", \"stdU\", \"stdU\", \"stdU\", \"stdU\", \"stdU\", \"stdU\", \"stdU\", \"stdU\", \"stdU\", \"stdU\", \"stdU\", \"stdU\", \"stdU\", \"stdU\", \"stdU\", \"stdU\", \"stdU\", \"stdU\", \"stdU\", \"stdU\", \"stdU\", \"stdU\", \"stdU\", \"stdU\", \"stdU\", \"stdU\", \"stdU\", \"stdU\", \"stdU\", \"stdU\", \"stdU\", \"stdU\", \"stdU\", \"stdU\", \"stdU\", \"stdU\", \"stdU\", \"stdU\", \"stdU\", \"stdU\", \"stdU\", \"stdU\", \"stdU\", \"stdU\", \"stdU\", \"stdU\", \"stdU\", \"stdU\", \"stdU\", \"stdU\", \"stdU\", \"stdU\", \"stdU\", \"stdU\", \"stdU\", \"stdU\", \"stdU\", \"stdU\", \"stdU\", \"stdU\", \"stdU\", \"stdU\", \"stdU\", \"stdU\", \"stdU\", \"stdU\", \"stdU\", \"stdU\", \"stdU\", \"stdU\", \"stdU\", \"stdU\", \"stdU\", \"stdU\", \"stdU\", \"stdU\", \"stdU\", \"stdU\", \"stdU\", \"stdU\", \"stdU\", \"stdU\", \"stdU\", \"stdU\", \"stdU\", \"stdU\", \"stdU\", \"stdU\", \"stdU\", \"stdU\", \"stdU\", \"stdU\", \"stdU\", \"stdU\", \"stdU\", \"stdU\", \"stdU\", \"stdU\", \"stdU\", \"stdU\", \"stdU\", \"stdU\", \"stdU\", \"stdU\", \"stdU\", \"stdU\", \"stdU\", \"stdU\", \"stdU\", \"stdU\", \"stdU\", \"stdU\", \"stdU\", \"stdU\", \"stdU\", \"stdU\", \"stdU\", \"stdU\", \"stdU\", \"stdU\", \"stdU\", \"stdU\", \"stdU\", \"stdU\", \"stdU\", \"stdU\", \"stdU\", \"stdU\", \"stdU\", \"stdU\", \"stdU\", \"stdU\", \"stdU\", \"stdU\", \"stdU\", \"stdU\", \"stdU\", \"stdU\", \"stdU\", \"stdU\", \"stdU\", \"stdU\", \"stdU\", \"stdU\", \"stdU\", \"stdU\", \"stdU\", \"stdU\", \"stdU\", \"stdU\", \"stdU\", \"stdU\", \"stdU\", \"stdU\", \"stdU\", \"stdU\", \"stdU\", \"stdU\", \"stdU\", \"stdU\", \"stdU\", \"stdU\", \"stdU\", \"stdU\", \"stdU\", \"stdU\", \"stdU\", \"stdU\", \"stdU\", \"stdU\", \"stdU\", \"stdU\", \"stdU\", \"stdU\", \"stdU\", \"stdU\", \"stdU\", \"stdU\", \"stdU\", \"stdU\", \"stdU\", \"stdU\", \"stdU\", \"stdU\", \"stdU\", \"stdU\", \"stdU\", \"stdU\", \"stdU\", \"stdU\", \"stdU\", \"stdU\", \"stdU\", \"stdU\", \"stdU\", \"stdU\", \"stdU\", \"stdU\", \"stdU\", \"stdU\", \"stdU\", \"stdU\", \"stdU\", \"stdU\", \"stdU\", \"stdU\", \"stdU\", \"stdU\", \"stdU\", \"stdU\", \"stdU\", \"stdU\", \"stdU\", \"stdU\", \"stdU\", \"stdU\", \"stdU\", \"stdU\", \"stdU\", \"stdU\", \"stdU\", \"stdU\", \"stdU\", \"stdU\", \"stdU\", \"stdU\", \"stdU\", \"stdU\", \"stdU\", \"stdU\", \"stdU\", \"stdU\", \"stdU\", \"stdU\", \"stdU\", \"stdU\", \"stdU\", \"stdU\", \"stdU\", \"stdU\", \"stdU\", \"stdU\", \"stdU\", \"stdU\", \"stdU\", \"stdU\", \"stdU\", \"stdU\", \"stdU\", \"stdU\", \"stdU\", \"stdU\", \"stdU\", \"stdU\", \"stdU\", \"stdU\", \"stdU\", \"stdU\", \"stdU\", \"stdU\", \"stdU\", \"stdU\", \"stdU\", \"stdU\", \"stdU\", \"stdU\", \"stdU\", \"stdU\", \"stdU\", \"stdU\", \"stdU\", \"stdU\", \"stdU\", \"stdU\", \"stdU\", \"stdU\", \"stdU\", \"stdU\", \"stdU\", \"stdU\", \"stdU\", \"stdU\", \"stdU\", \"stdU\", \"stdU\", \"stdU\", \"stdU\", \"stdU\", \"stdU\", \"stdU\", \"stdU\", \"stdU\", \"stdU\", \"stdU\", \"stdU\", \"stdU\", \"stdU\", \"stdU\", \"stdU\", \"stdU\", \"stdU\", \"stdU\", \"stdU\", \"stdU\", \"stdU\", \"stdU\", \"stdU\", \"stdU\", \"stdU\", \"stdU\", \"stdU\", \"stdU\", \"stdU\", \"stdU\", \"stdU\", \"stdU\", \"stdU\", \"stdU\", \"stdU\", \"stdU\", \"stdU\", \"stdU\", \"stdU\", \"stdU\", \"stdU\", \"stdU\", \"stdU\", \"stdU\", \"stdU\", \"stdU\", \"stdU\", \"stdU\", \"stdU\", \"stdU\", \"stdU\", \"stdU\", \"stdU\", \"stdU\", \"stdU\", \"stdU\", \"stdU\", \"stdU\", \"stdU\", \"stdU\", \"stdU\", \"stdU\", \"stdU\", \"stdU\", \"stdU\", \"stdU\", \"stdU\", \"stdU\", \"stdU\", \"stdU\", \"stdU\", \"stdU\", \"stdU\", \"stdU\", \"stdU\", \"stdU\", \"stdU\", \"stdU\", \"stdU\", \"stdU\", \"stdU\", \"stdU\", \"stdU\", \"stdU\", \"stdU\", \"stdU\", \"stdU\", \"stdU\", \"stdU\", \"stdU\", \"stdU\", \"stdU\", \"stdU\", \"stdU\", \"stdU\", \"stdU\", \"stdU\", \"stdU\", \"stdU\", \"stdU\", \"stdU\", \"stdU\", \"stdU\", \"stdU\", \"stdU\", \"stdU\", \"stdU\", \"stdU\", \"stdU\", \"stdU\", \"stdU\", \"stdU\", \"stdU\", \"stdU\", \"stdU\", \"stdU\", \"stdU\", \"stdU\", \"stdU\", \"stdU\", \"stdU\", \"stdU\", \"stdU\", \"stdU\", \"stdU\", \"stdU\", \"stdU\", \"stdU\", \"stdU\", \"stdU\", \"stdU\", \"stdU\", \"stdU\", \"stdU\", \"stdU\", \"stdU\", \"stdU\", \"stdU\", \"stdU\", \"stdU\", \"stdU\", \"stdU\", \"stdU\", \"stdU\", \"stdU\", \"stdU\", \"stdU\", \"stdU\", \"stdU\", \"stdU\", \"stdU\", \"stdU\", \"stdU\", \"stdU\", \"stdU\", \"stdU\", \"stdU\", \"stdU\", \"stdU\", \"stdU\", \"stdU\", \"stdU\", \"stdU\", \"stdU\", \"stdU\", \"stdU\", \"stdU\", \"stdU\", \"stdU\", \"stdU\", \"stdU\", \"stdU\", \"stdU\", \"stdU\", \"stdU\", \"stdU\", \"stdU\", \"stdU\", \"stdU\", \"stdU\", \"stdU\", \"stdU\", \"stdU\", \"stdU\", \"stdU\", \"stdU\", \"stdU\", \"stdU\", \"stdU\", \"stdU\", \"stdU\", \"stdU\", \"stdU\", \"stdU\", \"stdU\", \"stdU\", \"stdU\", \"stdU\", \"stdU\", \"stdU\", \"stdU\", \"stdU\", \"stdU\", \"stdU\", \"stdU\", \"stdU\", \"stdU\", \"stdU\", \"stdU\", \"stdU\", \"stdU\", \"stdU\", \"stdU\", \"stdU\", \"stdU\", \"stdU\", \"stdU\", \"stdU\", \"stdU\", \"stdU\", \"stdU\", \"stdU\", \"stdU\", \"stdU\", \"stdU\", \"stdU\", \"stdU\", \"stdU\", \"stdU\", \"stdU\", \"stdU\", \"stdU\", \"stdU\", \"stdU\", \"stdU\", \"stdU\", \"stdU\", \"stdU\", \"stdU\", \"stdU\", \"stdU\", \"stdU\", \"stdU\", \"stdU\", \"stdU\", \"stdU\", \"stdU\", \"stdU\", \"stdU\", \"stdU\", \"stdU\", \"stdU\", \"stdU\", \"stdU\", \"stdU\", \"stdU\", \"stdU\", \"stdU\", \"stdU\", \"stdU\", \"stdU\", \"stdU\", \"stdU\", \"stdU\", \"stdU\", \"stdU\", \"stdU\", \"stdU\", \"stdU\", \"stdU\", \"stdU\", \"stdU\", \"stdU\", \"stdU\", \"stdU\", \"stdU\", \"stdU\", \"stdU\", \"stdU\", \"stdU\", \"stdU\", \"stdU\", \"stdU\", \"stdU\", \"stdU\", \"stdU\", \"stdU\", \"stdU\", \"stdU\", \"stdU\", \"stdU\", \"stdU\", \"stdU\", \"stdU\", \"stdU\", \"stdU\", \"stdU\", \"stdU\", \"stdU\", \"stdU\", \"stdU\", \"stdU\", \"stdU\", \"stdU\", \"stdU\", \"stdU\", \"stdU\", \"stdU\", \"stdU\", \"stdU\", \"stdU\", \"stdU\", \"stdU\", \"stdU\", \"stdU\", \"stdU\", \"stdU\", \"stdU\", \"stdU\", \"stdU\", \"stdU\", \"stdU\", \"stdU\", \"stdU\", \"stdU\", \"stdU\", \"stdU\", \"stdU\", \"stdU\", \"stdU\", \"stdU\", \"stdU\", \"stdU\", \"stdU\", \"stdU\", \"stdU\", \"stdU\", \"stdU\", \"stdU\", \"stdU\", \"stdU\", \"stdU\", \"stdU\", \"stdU\", \"stdU\", \"stdU\", \"stdU\", \"stdU\", \"stdU\", \"stdU\", \"stdU\", \"stdU\", \"stdU\", \"stdU\", \"stdU\", \"stdU\", \"stdU\", \"stdU\", \"stdU\", \"stdU\", \"stdU\", \"stdU\", \"stdU\", \"stdU\", \"stdU\", \"stdU\", \"stdU\", \"stdU\", \"stdU\", \"stdU\", \"stdU\", \"stdU\", \"stdU\", \"stdU\", \"stdU\", \"stdU\", \"stdU\", \"stdU\", \"stdU\", \"stdU\", \"stdU\", \"stdU\", \"stdU\", \"stdU\", \"stdU\", \"stdU\", \"stdU\", \"stdU\", \"stdU\", \"stdU\", \"stdU\", \"stdU\", \"stdU\", \"stdU\", \"stdU\", \"stdU\", \"stdU\", \"stdU\", \"stdU\", \"stdU\", \"stdU\", \"stdU\", \"stdU\", \"stdU\", \"stdU\", \"stdU\", \"stdU\", \"stdU\", \"stdU\", \"stdU\", \"stdU\", \"stdU\", \"stdU\", \"stdU\", \"stdU\", \"stdU\", \"stdU\", \"stdU\", \"stdU\", \"stdU\", \"stdU\", \"stdU\", \"stdU\", \"stdU\", \"stdU\", \"stdU\", \"stdU\", \"stdU\", \"stdU\", \"stdU\", \"stdU\", \"stdU\", \"stdU\", \"stdU\", \"stdU\", \"stdU\", \"stdU\", \"stdU\", \"stdU\", \"stdU\", \"stdU\", \"stdU\", \"stdU\", \"stdU\", \"stdU\", \"stdU\", \"stdU\", \"stdU\", \"stdU\", \"stdU\", \"stdU\", \"stdU\", \"stdU\", \"stdU\", \"stdU\", \"stdU\", \"stdU\", \"stdU\", \"stdU\", \"stdU\", \"stdU\", \"stdU\", \"stdU\", \"stdU\", \"stdU\", \"stdU\", \"stdU\", \"stdU\", \"stdU\", \"stdU\", \"stdU\", \"stdU\", \"stdU\", \"stdU\", \"stdU\", \"stdU\", \"stdU\", \"stdU\", \"stdU\", \"stdU\", \"stdU\", \"stdU\", \"stdU\", \"stdU\", \"stdU\", \"stdU\", \"stdU\", \"stdU\", \"stdU\", \"stdU\", \"stdU\", \"stdU\", \"stdU\", \"stdU\", \"stdU\", \"stdU\", \"stdU\", \"stdU\", \"stdU\", \"stdU\", \"stdU\", \"stdU\", \"stdU\", \"stdU\", \"stdU\", \"stdU\", \"stdU\", \"stdU\", \"stdU\", \"stdU\", \"stdU\", \"stdU\", \"stdU\", \"stdU\", \"stdU\", \"stdU\", \"stdU\", \"stdU\", \"stdU\", \"stdU\", \"stdU\", \"stdU\", \"stdU\", \"stdU\", \"stdU\", \"stdU\", \"stdU\", \"stdU\", \"stdU\", \"stdU\", \"stdU\", \"stdU\", \"stdU\", \"stdU\", \"stdU\", \"stdU\", \"stdU\", \"stdU\", \"stdU\", \"stdU\", \"stdU\", \"stdU\", \"stdU\", \"stdU\", \"stdU\", \"stdU\", \"stdU\", \"stdU\", \"stdU\", \"stdU\", \"stdU\", \"stdU\", \"stdU\", \"stdU\", \"stdU\", \"stdU\", \"stdU\", \"stdU\", \"stdU\", \"stdU\", \"stdU\", \"stdU\", \"stdU\", \"stdU\", \"stdU\", \"stdU\", \"stdU\", \"stdU\", \"stdU\", \"stdU\", \"stdU\", \"stdU\", \"stdU\"], \"yaxis\": \"y2\"}, {\"legendgroup\": \"seqU\", \"marker\": {\"color\": \"rgb(255, 127, 14)\", \"symbol\": \"line-ns-open\"}, \"mode\": \"markers\", \"name\": \"seqU\", \"showlegend\": false, \"type\": \"scatter\", \"x\": [0.6900000000000001, 0.6900000000000001, 0.6900000000000001, 0.6900000000000001, 0.6900000000000001, 0.6900000000000001, 0.6900000000000001, 0.6900000000000001, 0.7, 0.7, 0.7, 0.7, 0.7, 0.7, 0.7, 0.7, 0.6666666666666666, 0.6666666666666666, 0.6666666666666666, 0.6666666666666666, 0.6666666666666666, 0.6666666666666666, 0.6666666666666666, 0.6666666666666666, 0.6599999999999999, 0.6599999999999999, 0.6599999999999999, 0.6599999999999999, 0.6599999999999999, 0.6599999999999999, 0.6599999999999999, 0.6599999999999999, 0.7, 0.7, 0.7, 0.7, 0.7, 0.7, 0.7, 0.7, 0.7125, 0.7125, 0.7125, 0.7125, 0.7125, 0.7125, 0.7125, 0.7125, 0.7, 0.7, 0.7, 0.7, 0.7, 0.7, 0.7, 0.7, 0.8888888888888888, 0.8888888888888888, 0.8888888888888888, 0.8888888888888888, 0.8888888888888888, 0.8888888888888888, 0.8888888888888888, 0.8888888888888888, 0.775, 0.775, 0.775, 0.775, 0.775, 0.775, 0.775, 0.775, 0.7, 0.7, 0.7, 0.7, 0.7, 0.7, 0.7, 0.7, 0.7999999999999999, 0.7999999999999999, 0.7999999999999999, 0.7999999999999999, 0.7999999999999999, 0.7999999999999999, 0.7999999999999999, 0.7999999999999999, 0.7766666666666666, 0.7766666666666666, 0.7766666666666666, 0.7766666666666666, 0.7766666666666666, 0.7766666666666666, 0.7766666666666666, 0.7766666666666666, 0.8888888888888888, 0.8888888888888888, 0.8888888888888888, 0.8888888888888888, 0.8888888888888888, 0.8888888888888888, 0.8888888888888888, 0.8888888888888888, 0.7, 0.7, 0.7, 0.7, 0.7, 0.7, 0.7, 0.7, 0.8125, 0.8125, 0.8125, 0.8125, 0.8125, 0.8125, 0.8125, 0.8125, 0.7999999999999999, 0.7999999999999999, 0.7999999999999999, 0.7999999999999999, 0.7999999999999999, 0.7999999999999999, 0.7999999999999999, 0.7999999999999999, 0.8888888888888888, 0.8888888888888888, 0.8888888888888888, 0.8888888888888888, 0.8888888888888888, 0.8888888888888888, 0.8888888888888888, 0.8888888888888888, 0.7481481481481481, 0.7481481481481481, 0.7481481481481481, 0.7481481481481481, 0.7481481481481481, 0.7481481481481481, 0.7481481481481481, 0.7481481481481481, 0.7, 0.7, 0.7, 0.7, 0.7, 0.7, 0.7, 0.7, 0.6708333333333334, 0.6708333333333334, 0.6708333333333334, 0.6708333333333334, 0.6708333333333334, 0.6708333333333334, 0.6708333333333334, 0.6708333333333334, 0.735, 0.735, 0.735, 0.735, 0.735, 0.735, 0.735, 0.735, 0.6666666666666666, 0.6666666666666666, 0.6666666666666666, 0.6666666666666666, 0.6666666666666666, 0.6666666666666666, 0.6666666666666666, 0.6666666666666666, 0.7, 0.7, 0.7, 0.7, 0.7, 0.7, 0.7, 0.7, 0.6351851851851852, 0.6351851851851852, 0.6351851851851852, 0.6351851851851852, 0.6351851851851852, 0.6351851851851852, 0.6351851851851852, 0.6351851851851852, 0.615, 0.615, 0.615, 0.615, 0.615, 0.615, 0.615, 0.615, 0.675925925925926, 0.675925925925926, 0.675925925925926, 0.675925925925926, 0.675925925925926, 0.675925925925926, 0.675925925925926, 0.675925925925926, 0.6635802469135802, 0.6635802469135802, 0.6635802469135802, 0.6635802469135802, 0.6635802469135802, 0.6635802469135802, 0.6635802469135802, 0.6635802469135802, 0.7777777777777778, 0.7777777777777778, 0.7777777777777778, 0.7777777777777778, 0.7777777777777778, 0.7777777777777778, 0.7777777777777778, 0.7777777777777778, 0.7755555555555557, 0.7755555555555557, 0.7755555555555557, 0.7755555555555557, 0.7755555555555557, 0.7755555555555557, 0.7755555555555557, 0.6888888888888889, 0.6888888888888889, 0.7755555555555557, 0.6888888888888889, 0.6888888888888889, 0.6888888888888889, 0.6888888888888889, 0.6888888888888889, 0.6777777777777777, 0.6888888888888889, 0.6777777777777777, 0.6777777777777777, 0.6777777777777777, 0.6777777777777777, 0.6777777777777777, 0.6777777777777777, 0.6777777777777777, 0.8733333333333334, 0.8733333333333334, 0.8733333333333334, 0.8733333333333334, 0.8733333333333334, 0.8733333333333334, 0.8733333333333334, 0.8733333333333334, 0.7, 0.7, 0.7, 0.7, 0.7, 0.7, 0.7, 0.7, 0.7, 0.7, 0.7, 0.7, 0.7, 0.7, 0.7, 0.765, 0.7, 0.765, 0.765, 0.765, 0.765, 0.765, 0.765, 0.6733333333333333, 0.765, 0.6733333333333333, 0.6733333333333333, 0.6733333333333333, 0.6733333333333333, 0.6733333333333333, 0.7925925925925926, 0.6733333333333333, 0.7925925925925926, 0.6733333333333333, 0.7925925925925926, 0.7925925925925926, 0.7925925925925926, 0.7925925925925926, 0.7296296296296296, 0.7925925925925926, 0.7296296296296296, 0.7925925925925926, 0.7296296296296296, 0.7296296296296296, 0.7296296296296296, 0.7296296296296296, 0.7296296296296296, 0.7108333333333333, 0.7296296296296296, 0.7108333333333333, 0.7108333333333333, 0.7108333333333333, 0.7108333333333333, 0.7108333333333333, 0.7108333333333333, 0.7566666666666667, 0.7108333333333333, 0.7566666666666667, 0.7566666666666667, 0.7566666666666667, 0.7566666666666667, 0.7566666666666667, 0.7566666666666667, 0.7, 0.7566666666666667, 0.7, 0.7, 0.7, 0.7, 0.7, 0.7, 0.5783333333333334, 0.7, 0.5783333333333334, 0.5783333333333334, 0.5783333333333334, 0.5783333333333334, 0.5783333333333334, 0.5783333333333334, 0.9, 0.5783333333333334, 0.9, 0.9, 0.9, 0.9, 0.9, 0.9, 0.8, 0.9, 0.8, 0.8, 0.8, 0.8, 0.8, 0.5950617283950618, 0.8, 0.5950617283950618, 0.5950617283950618, 0.8, 0.5950617283950618, 0.5950617283950618, 0.5950617283950618, 0.8888888888888888, 0.5950617283950618, 0.8888888888888888, 0.8888888888888888, 0.5950617283950618, 0.8888888888888888, 0.8888888888888888, 0.8888888888888888, 0.5783333333333334, 0.8888888888888888, 0.8888888888888888, 0.5783333333333334, 0.5783333333333334, 0.5783333333333334, 0.5783333333333334, 0.5783333333333334, 0.6229166666666667, 0.6229166666666667, 0.5783333333333334, 0.6229166666666667, 0.6229166666666667, 0.6229166666666667, 0.5783333333333334, 0.6229166666666667, 0.775, 0.6229166666666667, 0.775, 0.6229166666666667, 0.775, 0.775, 0.775, 0.775, 0.7, 0.775, 0.7, 0.775, 0.7, 0.7, 0.7, 0.7, 0.8592592592592593, 0.8592592592592593, 0.7, 0.8592592592592593, 0.8592592592592593, 0.7, 0.8592592592592593, 0.8592592592592593, 0.6125, 0.8592592592592593, 0.6125, 0.8592592592592593, 0.6125, 0.6125, 0.6125, 0.75, 0.6125, 0.75, 0.75, 0.75, 0.6125, 0.75, 0.6125, 0.75, 0.675, 0.75, 0.675, 0.75, 0.675, 0.675, 0.675, 0.675, 0.7453703703703703, 0.7453703703703703, 0.675, 0.7453703703703703, 0.7453703703703703, 0.7453703703703703, 0.675, 0.7453703703703703, 0.6666666666666665, 0.6666666666666665, 0.7453703703703703, 0.6666666666666665, 0.6666666666666665, 0.6666666666666665, 0.7453703703703703, 0.6666666666666665, 0.6888888888888889, 0.6888888888888889, 0.6666666666666665, 0.6888888888888889, 0.6888888888888889, 0.6888888888888889, 0.6666666666666665, 0.6888888888888889, 0.575, 0.6888888888888889, 0.575, 0.575, 0.6888888888888889, 0.575, 0.575, 0.575, 0.9666666666666666, 0.575, 0.9666666666666666, 0.9666666666666666, 0.9666666666666666, 0.575, 0.9666666666666666, 0.9666666666666666, 0.575, 0.9666666666666666, 0.575, 0.575, 0.575, 0.9666666666666666, 0.575, 0.575, 0.7183333333333333, 0.575, 0.7183333333333333, 0.7183333333333333, 0.7183333333333333, 0.575, 0.7183333333333333, 0.7183333333333333, 0.7166666666666666, 0.7183333333333333, 0.7166666666666666, 0.7166666666666666, 0.7166666666666666, 0.7166666666666666, 0.7183333333333333, 0.7166666666666666, 0.7, 0.7166666666666666, 0.7, 0.7, 0.7, 0.7, 0.7166666666666666, 0.7, 0.7138888888888889, 0.7138888888888889, 0.7138888888888889, 0.7138888888888889, 0.7, 0.7138888888888889, 0.7138888888888889, 0.7, 0.5555555555555556, 0.5555555555555556, 0.5555555555555556, 0.5555555555555556, 0.7138888888888889, 0.5555555555555556, 0.5555555555555556, 0.7138888888888889, 0.5555555555555556, 0.5555555555555556, 0.5555555555555556, 0.5555555555555556, 0.5555555555555556, 0.5555555555555556, 0.5555555555555556, 0.5555555555555556, 0.775, 0.775, 0.5555555555555556, 0.775, 0.775, 0.775, 0.5555555555555556, 0.775, 0.8, 0.8, 0.775, 0.8, 0.8, 0.8, 0.775, 0.8, 0.7, 0.7, 0.8, 0.7, 0.7, 0.7, 0.8, 0.7, 0.7777777777777778, 0.7777777777777778, 0.7777777777777778, 0.7777777777777778, 0.7777777777777778, 0.7, 0.7777777777777778, 0.7, 0.5355555555555556, 0.5355555555555556, 0.7777777777777778, 0.5355555555555556, 0.5355555555555556, 0.5355555555555556, 0.7777777777777778, 0.5355555555555556, 0.8, 0.8, 0.5355555555555556, 0.8, 0.8, 0.8, 0.5355555555555556, 0.8, 0.7, 0.7, 0.7, 0.8, 0.7, 0.7, 0.8, 0.7, 0.5733333333333334, 0.5733333333333334, 0.5733333333333334, 0.7, 0.5733333333333334, 0.5733333333333334, 0.7, 0.7, 0.5733333333333334, 0.7, 0.7, 0.7, 0.7, 0.5733333333333334, 0.7, 0.6566666666666666, 0.5733333333333334, 0.6566666666666666, 0.6566666666666666, 0.7, 0.6566666666666666, 0.6566666666666666, 0.8138888888888889, 0.6566666666666666, 0.7, 0.8138888888888889, 0.8138888888888889, 0.8138888888888889, 0.8138888888888889, 0.75, 0.6566666666666666, 0.8138888888888889, 0.75, 0.75, 0.75, 0.75, 0.6566666666666666, 0.8138888888888889, 0.75, 0.55, 0.55, 0.8138888888888889, 0.55, 0.75, 0.55, 0.55, 0.6666666666666666, 0.55, 0.75, 0.6666666666666666, 0.6666666666666666, 0.6666666666666666, 0.6666666666666666, 0.55, 0.6666666666666666, 0.5716666666666665, 0.55, 0.5716666666666665, 0.5716666666666665, 0.6666666666666666, 0.5716666666666665, 0.5716666666666665, 0.5555555555555556, 0.5716666666666665, 0.6666666666666666, 0.5555555555555556, 0.5555555555555556, 0.5555555555555556, 0.5555555555555556, 0.5716666666666665, 0.5555555555555556, 0.7, 0.5716666666666665, 0.7, 0.7, 0.5555555555555556, 0.7, 0.7, 0.6111111111111112, 0.7, 0.5555555555555556, 0.6111111111111112, 0.6111111111111112, 0.6111111111111112, 0.6111111111111112, 0.7, 0.6111111111111112, 0.8, 0.7, 0.8, 0.8, 0.6111111111111112, 0.8, 0.8, 0.7, 0.8, 0.6111111111111112, 0.7, 0.7, 0.7, 0.7, 0.8, 0.7277777777777777, 0.7, 0.7277777777777777, 0.7277777777777777, 0.8, 0.7277777777777777, 0.7277777777777777, 0.7, 0.6935185185185185, 0.7277777777777777, 0.6935185185185185, 0.6935185185185185, 0.7, 0.6935185185185185, 0.6935185185185185, 0.7277777777777777, 0.6935185185185185, 0.7, 0.7, 0.7277777777777777, 0.7, 0.7, 0.6935185185185185, 0.7, 0.7777777777777778, 0.7, 0.7777777777777778, 0.6935185185185185, 0.7777777777777778, 0.7777777777777778, 0.7777777777777778, 0.625, 0.7, 0.625, 0.7777777777777778, 0.625, 0.625, 0.7, 0.625, 0.625, 0.7777777777777778, 0.7, 0.7, 0.7, 0.7777777777777778, 0.7, 0.625, 0.7, 0.7, 0.8, 0.625, 0.8, 0.8, 0.8, 0.7, 0.8, 0.8, 0.7, 0.7, 0.7, 0.7, 0.7, 0.7, 0.8, 0.7, 0.6666666666666667, 0.8, 0.6666666666666667, 0.6666666666666667, 0.6666666666666667, 0.6666666666666667, 0.7, 0.6666666666666667, 0.6599999999999999, 0.7, 0.6599999999999999, 0.6599999999999999, 0.6599999999999999, 0.6599999999999999, 0.625, 0.6666666666666667, 0.625, 0.6599999999999999, 0.625, 0.6666666666666667, 0.625, 0.625, 0.5, 0.625, 0.6599999999999999, 0.5, 0.5, 0.6599999999999999, 0.5, 0.5, 0.637037037037037, 0.625, 0.637037037037037, 0.5, 0.625, 0.637037037037037, 0.637037037037037, 0.637037037037037, 0.8, 0.5, 0.637037037037037, 0.8, 0.5, 0.8, 0.8, 0.8, 0.637037037037037, 0.6755555555555555, 0.8, 0.6755555555555555, 0.637037037037037, 0.6755555555555555, 0.6755555555555555, 0.6755555555555555, 0.8, 0.7016666666666667, 0.6755555555555555, 0.7016666666666667, 0.8, 0.7016666666666667, 0.7016666666666667, 0.7016666666666667, 0.6755555555555555, 0.5700000000000001, 0.7016666666666667, 0.5700000000000001, 0.6755555555555555, 0.5700000000000001, 0.5700000000000001, 0.5700000000000001, 0.6475, 0.7016666666666667, 0.5700000000000001, 0.6475, 0.7016666666666667, 0.6475, 0.6475, 0.6475, 0.7777777777777778, 0.7777777777777778, 0.5700000000000001, 0.6475, 0.7777777777777778, 0.5700000000000001, 0.7777777777777778, 0.7777777777777778, 0.7314814814814814, 0.7314814814814814, 0.7777777777777778, 0.6475, 0.7314814814814814, 0.7314814814814814, 0.7314814814814814, 0.6475, 0.8, 0.8, 0.7314814814814814, 0.7777777777777778, 0.8, 0.7777777777777778, 0.8, 0.8, 0.7, 0.7314814814814814, 0.7, 0.8, 0.7314814814814814, 0.7, 0.7, 0.7, 0.7, 0.8, 0.7, 0.7, 0.8, 0.7, 0.7, 0.7, 0.6399999999999999, 0.6399999999999999, 0.7, 0.7, 0.7, 0.6399999999999999, 0.6399999999999999, 0.6399999999999999, 0.73, 0.73, 0.7, 0.6399999999999999, 0.7, 0.73, 0.73, 0.73, 0.675, 0.675, 0.6399999999999999, 0.73, 0.6399999999999999, 0.675, 0.6277777777777778, 0.675, 0.675, 0.6277777777777778, 0.73, 0.675, 0.6277777777777778, 0.73, 0.6277777777777778, 0.6277777777777778, 0.7333333333333334, 0.7333333333333334, 0.6277777777777778, 0.675, 0.7333333333333334, 0.675, 0.7333333333333334, 0.7333333333333334, 0.5499999999999999, 0.5499999999999999, 0.6277777777777778, 0.7333333333333334, 0.5499999999999999, 0.6277777777777778, 0.5499999999999999, 0.5499999999999999, 0.625, 0.625, 0.7333333333333334, 0.5499999999999999, 0.625, 0.7333333333333334, 0.625, 0.625, 0.6291666666666667, 0.6291666666666667, 0.5499999999999999, 0.625, 0.6291666666666667, 0.5499999999999999, 0.6291666666666667, 0.6399999999999999, 0.6291666666666667, 0.6399999999999999, 0.625, 0.6291666666666667, 0.6399999999999999, 0.625, 0.6399999999999999, 0.6611111111111111, 0.6399999999999999, 0.6611111111111111, 0.6291666666666667, 0.6399999999999999, 0.6611111111111111, 0.6291666666666667, 0.6611111111111111, 0.5999999999999999, 0.6611111111111111, 0.5999999999999999, 0.6611111111111111, 0.6399999999999999, 0.5999999999999999, 0.6399999999999999, 0.6296296296296297, 0.5999999999999999, 0.6296296296296297, 0.5999999999999999, 0.5999999999999999, 0.6611111111111111, 0.6296296296296297, 0.6296296296296297, 0.6666666666666667, 0.6611111111111111, 0.6296296296296297, 0.6666666666666667, 0.6296296296296297, 0.5999999999999999, 0.6666666666666667, 0.6666666666666667, 0.6583333333333334, 0.5999999999999999, 0.6666666666666667, 0.6583333333333334, 0.6666666666666667, 0.6296296296296297, 0.6583333333333334, 0.6888888888888888, 0.6296296296296297, 0.6583333333333334, 0.6888888888888888, 0.6583333333333334, 0.6583333333333334, 0.6666666666666667, 0.6888888888888888, 0.6888888888888888, 0.7222222222222222, 0.6666666666666667, 0.6888888888888888, 0.7222222222222222, 0.6888888888888888, 0.6583333333333334, 0.7222222222222222, 0.7222222222222222, 0.73, 0.7222222222222222, 0.6583333333333334, 0.73, 0.7222222222222222, 0.6888888888888888, 0.73], \"xaxis\": \"x\", \"y\": [\"seqU\", \"seqU\", \"seqU\", \"seqU\", \"seqU\", \"seqU\", \"seqU\", \"seqU\", \"seqU\", \"seqU\", \"seqU\", \"seqU\", \"seqU\", \"seqU\", \"seqU\", \"seqU\", \"seqU\", \"seqU\", \"seqU\", \"seqU\", \"seqU\", \"seqU\", \"seqU\", \"seqU\", \"seqU\", \"seqU\", \"seqU\", \"seqU\", \"seqU\", \"seqU\", \"seqU\", \"seqU\", \"seqU\", \"seqU\", \"seqU\", \"seqU\", \"seqU\", \"seqU\", \"seqU\", \"seqU\", \"seqU\", \"seqU\", \"seqU\", \"seqU\", \"seqU\", \"seqU\", \"seqU\", \"seqU\", \"seqU\", \"seqU\", \"seqU\", \"seqU\", \"seqU\", \"seqU\", \"seqU\", \"seqU\", \"seqU\", \"seqU\", \"seqU\", \"seqU\", \"seqU\", \"seqU\", \"seqU\", \"seqU\", \"seqU\", \"seqU\", \"seqU\", \"seqU\", \"seqU\", \"seqU\", \"seqU\", \"seqU\", \"seqU\", \"seqU\", \"seqU\", \"seqU\", \"seqU\", \"seqU\", \"seqU\", \"seqU\", \"seqU\", \"seqU\", \"seqU\", \"seqU\", \"seqU\", \"seqU\", \"seqU\", \"seqU\", \"seqU\", \"seqU\", \"seqU\", \"seqU\", \"seqU\", \"seqU\", \"seqU\", \"seqU\", \"seqU\", \"seqU\", \"seqU\", \"seqU\", \"seqU\", \"seqU\", \"seqU\", \"seqU\", \"seqU\", \"seqU\", \"seqU\", \"seqU\", \"seqU\", \"seqU\", \"seqU\", \"seqU\", \"seqU\", \"seqU\", \"seqU\", \"seqU\", \"seqU\", \"seqU\", \"seqU\", \"seqU\", \"seqU\", \"seqU\", \"seqU\", \"seqU\", \"seqU\", \"seqU\", \"seqU\", \"seqU\", \"seqU\", \"seqU\", \"seqU\", \"seqU\", \"seqU\", \"seqU\", \"seqU\", \"seqU\", \"seqU\", \"seqU\", \"seqU\", \"seqU\", \"seqU\", \"seqU\", \"seqU\", \"seqU\", \"seqU\", \"seqU\", \"seqU\", \"seqU\", \"seqU\", \"seqU\", \"seqU\", \"seqU\", \"seqU\", \"seqU\", \"seqU\", \"seqU\", \"seqU\", \"seqU\", \"seqU\", \"seqU\", \"seqU\", \"seqU\", \"seqU\", \"seqU\", \"seqU\", \"seqU\", \"seqU\", \"seqU\", \"seqU\", \"seqU\", \"seqU\", \"seqU\", \"seqU\", \"seqU\", \"seqU\", \"seqU\", \"seqU\", \"seqU\", \"seqU\", \"seqU\", \"seqU\", \"seqU\", \"seqU\", \"seqU\", \"seqU\", \"seqU\", \"seqU\", \"seqU\", \"seqU\", \"seqU\", \"seqU\", \"seqU\", \"seqU\", \"seqU\", \"seqU\", \"seqU\", \"seqU\", \"seqU\", \"seqU\", \"seqU\", \"seqU\", \"seqU\", \"seqU\", \"seqU\", \"seqU\", \"seqU\", \"seqU\", \"seqU\", \"seqU\", \"seqU\", \"seqU\", \"seqU\", \"seqU\", \"seqU\", \"seqU\", \"seqU\", \"seqU\", \"seqU\", \"seqU\", \"seqU\", \"seqU\", \"seqU\", \"seqU\", \"seqU\", \"seqU\", \"seqU\", \"seqU\", \"seqU\", \"seqU\", \"seqU\", \"seqU\", \"seqU\", \"seqU\", \"seqU\", \"seqU\", \"seqU\", \"seqU\", \"seqU\", \"seqU\", \"seqU\", \"seqU\", \"seqU\", \"seqU\", \"seqU\", \"seqU\", \"seqU\", \"seqU\", \"seqU\", \"seqU\", \"seqU\", \"seqU\", \"seqU\", \"seqU\", \"seqU\", \"seqU\", \"seqU\", \"seqU\", \"seqU\", \"seqU\", \"seqU\", \"seqU\", \"seqU\", \"seqU\", \"seqU\", \"seqU\", \"seqU\", \"seqU\", \"seqU\", \"seqU\", \"seqU\", \"seqU\", \"seqU\", \"seqU\", \"seqU\", \"seqU\", \"seqU\", \"seqU\", \"seqU\", \"seqU\", \"seqU\", \"seqU\", \"seqU\", \"seqU\", \"seqU\", \"seqU\", \"seqU\", \"seqU\", \"seqU\", \"seqU\", \"seqU\", \"seqU\", \"seqU\", \"seqU\", \"seqU\", \"seqU\", \"seqU\", \"seqU\", \"seqU\", \"seqU\", \"seqU\", \"seqU\", \"seqU\", \"seqU\", \"seqU\", \"seqU\", \"seqU\", \"seqU\", \"seqU\", \"seqU\", \"seqU\", \"seqU\", \"seqU\", \"seqU\", \"seqU\", \"seqU\", \"seqU\", \"seqU\", \"seqU\", \"seqU\", \"seqU\", \"seqU\", \"seqU\", \"seqU\", \"seqU\", \"seqU\", \"seqU\", \"seqU\", \"seqU\", \"seqU\", \"seqU\", \"seqU\", \"seqU\", \"seqU\", \"seqU\", \"seqU\", \"seqU\", \"seqU\", \"seqU\", \"seqU\", \"seqU\", \"seqU\", \"seqU\", \"seqU\", \"seqU\", \"seqU\", \"seqU\", \"seqU\", \"seqU\", \"seqU\", \"seqU\", \"seqU\", \"seqU\", \"seqU\", \"seqU\", \"seqU\", \"seqU\", \"seqU\", \"seqU\", \"seqU\", \"seqU\", \"seqU\", \"seqU\", \"seqU\", \"seqU\", \"seqU\", \"seqU\", \"seqU\", \"seqU\", \"seqU\", \"seqU\", \"seqU\", \"seqU\", \"seqU\", \"seqU\", \"seqU\", \"seqU\", \"seqU\", \"seqU\", \"seqU\", \"seqU\", \"seqU\", \"seqU\", \"seqU\", \"seqU\", \"seqU\", \"seqU\", \"seqU\", \"seqU\", \"seqU\", \"seqU\", \"seqU\", \"seqU\", \"seqU\", \"seqU\", \"seqU\", \"seqU\", \"seqU\", \"seqU\", \"seqU\", \"seqU\", \"seqU\", \"seqU\", \"seqU\", \"seqU\", \"seqU\", \"seqU\", \"seqU\", \"seqU\", \"seqU\", \"seqU\", \"seqU\", \"seqU\", \"seqU\", \"seqU\", \"seqU\", \"seqU\", \"seqU\", \"seqU\", \"seqU\", \"seqU\", \"seqU\", \"seqU\", \"seqU\", \"seqU\", \"seqU\", \"seqU\", \"seqU\", \"seqU\", \"seqU\", \"seqU\", \"seqU\", \"seqU\", \"seqU\", \"seqU\", \"seqU\", \"seqU\", \"seqU\", \"seqU\", \"seqU\", \"seqU\", \"seqU\", \"seqU\", \"seqU\", \"seqU\", \"seqU\", \"seqU\", \"seqU\", \"seqU\", \"seqU\", \"seqU\", \"seqU\", \"seqU\", \"seqU\", \"seqU\", \"seqU\", \"seqU\", \"seqU\", \"seqU\", \"seqU\", \"seqU\", \"seqU\", \"seqU\", \"seqU\", \"seqU\", \"seqU\", \"seqU\", \"seqU\", \"seqU\", \"seqU\", \"seqU\", \"seqU\", \"seqU\", \"seqU\", \"seqU\", \"seqU\", \"seqU\", \"seqU\", \"seqU\", \"seqU\", \"seqU\", \"seqU\", \"seqU\", \"seqU\", \"seqU\", \"seqU\", \"seqU\", \"seqU\", \"seqU\", \"seqU\", \"seqU\", \"seqU\", \"seqU\", \"seqU\", \"seqU\", \"seqU\", \"seqU\", \"seqU\", \"seqU\", \"seqU\", \"seqU\", \"seqU\", \"seqU\", \"seqU\", \"seqU\", \"seqU\", \"seqU\", \"seqU\", \"seqU\", \"seqU\", \"seqU\", \"seqU\", \"seqU\", \"seqU\", \"seqU\", \"seqU\", \"seqU\", \"seqU\", \"seqU\", \"seqU\", \"seqU\", \"seqU\", \"seqU\", \"seqU\", \"seqU\", \"seqU\", \"seqU\", \"seqU\", \"seqU\", \"seqU\", \"seqU\", \"seqU\", \"seqU\", \"seqU\", \"seqU\", \"seqU\", \"seqU\", \"seqU\", \"seqU\", \"seqU\", \"seqU\", \"seqU\", \"seqU\", \"seqU\", \"seqU\", \"seqU\", \"seqU\", \"seqU\", \"seqU\", \"seqU\", \"seqU\", \"seqU\", \"seqU\", \"seqU\", \"seqU\", \"seqU\", \"seqU\", \"seqU\", \"seqU\", \"seqU\", \"seqU\", \"seqU\", \"seqU\", \"seqU\", \"seqU\", \"seqU\", \"seqU\", \"seqU\", \"seqU\", \"seqU\", \"seqU\", \"seqU\", \"seqU\", \"seqU\", \"seqU\", \"seqU\", \"seqU\", \"seqU\", \"seqU\", \"seqU\", \"seqU\", \"seqU\", \"seqU\", \"seqU\", \"seqU\", \"seqU\", \"seqU\", \"seqU\", \"seqU\", \"seqU\", \"seqU\", \"seqU\", \"seqU\", \"seqU\", \"seqU\", \"seqU\", \"seqU\", \"seqU\", \"seqU\", \"seqU\", \"seqU\", \"seqU\", \"seqU\", \"seqU\", \"seqU\", \"seqU\", \"seqU\", \"seqU\", \"seqU\", \"seqU\", \"seqU\", \"seqU\", \"seqU\", \"seqU\", \"seqU\", \"seqU\", \"seqU\", \"seqU\", \"seqU\", \"seqU\", \"seqU\", \"seqU\", \"seqU\", \"seqU\", \"seqU\", \"seqU\", \"seqU\", \"seqU\", \"seqU\", \"seqU\", \"seqU\", \"seqU\", \"seqU\", \"seqU\", \"seqU\", \"seqU\", \"seqU\", \"seqU\", \"seqU\", \"seqU\", \"seqU\", \"seqU\", \"seqU\", \"seqU\", \"seqU\", \"seqU\", \"seqU\", \"seqU\", \"seqU\", \"seqU\", \"seqU\", \"seqU\", \"seqU\", \"seqU\", \"seqU\", \"seqU\", \"seqU\", \"seqU\", \"seqU\", \"seqU\", \"seqU\", \"seqU\", \"seqU\", \"seqU\", \"seqU\", \"seqU\", \"seqU\", \"seqU\", \"seqU\", \"seqU\", \"seqU\", \"seqU\", \"seqU\", \"seqU\", \"seqU\", \"seqU\", \"seqU\", \"seqU\", \"seqU\", \"seqU\", \"seqU\", \"seqU\", \"seqU\", \"seqU\", \"seqU\", \"seqU\", \"seqU\", \"seqU\", \"seqU\", \"seqU\", \"seqU\", \"seqU\", \"seqU\", \"seqU\", \"seqU\", \"seqU\", \"seqU\", \"seqU\", \"seqU\", \"seqU\", \"seqU\", \"seqU\", \"seqU\", \"seqU\", \"seqU\", \"seqU\", \"seqU\", \"seqU\", \"seqU\", \"seqU\", \"seqU\", \"seqU\", \"seqU\", \"seqU\", \"seqU\", \"seqU\", \"seqU\", \"seqU\", \"seqU\", \"seqU\", \"seqU\", \"seqU\", \"seqU\", \"seqU\", \"seqU\", \"seqU\", \"seqU\", \"seqU\", \"seqU\", \"seqU\", \"seqU\", \"seqU\", \"seqU\", \"seqU\", \"seqU\", \"seqU\", \"seqU\", \"seqU\", \"seqU\", \"seqU\", \"seqU\", \"seqU\", \"seqU\", \"seqU\", \"seqU\", \"seqU\", \"seqU\", \"seqU\", \"seqU\", \"seqU\", \"seqU\", \"seqU\", \"seqU\", \"seqU\", \"seqU\", \"seqU\", \"seqU\", \"seqU\", \"seqU\", \"seqU\", \"seqU\", \"seqU\", \"seqU\", \"seqU\", \"seqU\", \"seqU\", \"seqU\", \"seqU\", \"seqU\", \"seqU\", \"seqU\", \"seqU\", \"seqU\", \"seqU\", \"seqU\", \"seqU\", \"seqU\", \"seqU\", \"seqU\", \"seqU\", \"seqU\", \"seqU\", \"seqU\", \"seqU\", \"seqU\", \"seqU\", \"seqU\", \"seqU\", \"seqU\", \"seqU\", \"seqU\", \"seqU\", \"seqU\", \"seqU\", \"seqU\", \"seqU\", \"seqU\", \"seqU\", \"seqU\", \"seqU\", \"seqU\", \"seqU\", \"seqU\", \"seqU\", \"seqU\", \"seqU\", \"seqU\", \"seqU\", \"seqU\", \"seqU\", \"seqU\", \"seqU\", \"seqU\", \"seqU\", \"seqU\", \"seqU\", \"seqU\", \"seqU\", \"seqU\", \"seqU\", \"seqU\", \"seqU\", \"seqU\", \"seqU\", \"seqU\", \"seqU\", \"seqU\", \"seqU\", \"seqU\", \"seqU\", \"seqU\", \"seqU\", \"seqU\", \"seqU\", \"seqU\", \"seqU\", \"seqU\", \"seqU\", \"seqU\", \"seqU\", \"seqU\", \"seqU\", \"seqU\", \"seqU\", \"seqU\", \"seqU\", \"seqU\", \"seqU\", \"seqU\", \"seqU\", \"seqU\", \"seqU\", \"seqU\", \"seqU\", \"seqU\", \"seqU\", \"seqU\", \"seqU\", \"seqU\", \"seqU\", \"seqU\", \"seqU\", \"seqU\", \"seqU\", \"seqU\", \"seqU\", \"seqU\", \"seqU\", \"seqU\", \"seqU\", \"seqU\", \"seqU\", \"seqU\", \"seqU\", \"seqU\", \"seqU\", \"seqU\", \"seqU\", \"seqU\", \"seqU\", \"seqU\", \"seqU\", \"seqU\", \"seqU\", \"seqU\", \"seqU\", \"seqU\", \"seqU\", \"seqU\", \"seqU\", \"seqU\", \"seqU\", \"seqU\", \"seqU\", \"seqU\", \"seqU\", \"seqU\", \"seqU\", \"seqU\", \"seqU\", \"seqU\", \"seqU\", \"seqU\", \"seqU\", \"seqU\", \"seqU\", \"seqU\", \"seqU\", \"seqU\", \"seqU\", \"seqU\", \"seqU\", \"seqU\", \"seqU\", \"seqU\", \"seqU\", \"seqU\", \"seqU\", \"seqU\", \"seqU\", \"seqU\", \"seqU\", \"seqU\", \"seqU\", \"seqU\", \"seqU\", \"seqU\", \"seqU\", \"seqU\", \"seqU\", \"seqU\", \"seqU\", \"seqU\", \"seqU\", \"seqU\", \"seqU\", \"seqU\", \"seqU\", \"seqU\", \"seqU\", \"seqU\", \"seqU\", \"seqU\", \"seqU\", \"seqU\", \"seqU\", \"seqU\", \"seqU\", \"seqU\", \"seqU\", \"seqU\", \"seqU\", \"seqU\", \"seqU\", \"seqU\", \"seqU\", \"seqU\", \"seqU\", \"seqU\", \"seqU\", \"seqU\", \"seqU\", \"seqU\", \"seqU\", \"seqU\", \"seqU\", \"seqU\", \"seqU\", \"seqU\", \"seqU\", \"seqU\", \"seqU\", \"seqU\", \"seqU\", \"seqU\", \"seqU\", \"seqU\", \"seqU\", \"seqU\", \"seqU\", \"seqU\", \"seqU\", \"seqU\", \"seqU\", \"seqU\", \"seqU\", \"seqU\", \"seqU\", \"seqU\", \"seqU\", \"seqU\", \"seqU\", \"seqU\", \"seqU\", \"seqU\", \"seqU\", \"seqU\", \"seqU\", \"seqU\", \"seqU\", \"seqU\"], \"yaxis\": \"y2\"}],                        {\"barmode\": \"overlay\", \"hovermode\": \"closest\", \"legend\": {\"traceorder\": \"reversed\"}, \"template\": {\"data\": {\"bar\": [{\"error_x\": {\"color\": \"#2a3f5f\"}, \"error_y\": {\"color\": \"#2a3f5f\"}, \"marker\": {\"line\": {\"color\": \"#E5ECF6\", \"width\": 0.5}}, \"type\": \"bar\"}], \"barpolar\": [{\"marker\": {\"line\": {\"color\": \"#E5ECF6\", \"width\": 0.5}}, \"type\": \"barpolar\"}], \"carpet\": [{\"aaxis\": {\"endlinecolor\": \"#2a3f5f\", \"gridcolor\": \"white\", \"linecolor\": \"white\", \"minorgridcolor\": \"white\", \"startlinecolor\": \"#2a3f5f\"}, \"baxis\": {\"endlinecolor\": \"#2a3f5f\", \"gridcolor\": \"white\", \"linecolor\": \"white\", \"minorgridcolor\": \"white\", \"startlinecolor\": \"#2a3f5f\"}, \"type\": \"carpet\"}], \"choropleth\": [{\"colorbar\": {\"outlinewidth\": 0, \"ticks\": \"\"}, \"type\": \"choropleth\"}], \"contour\": [{\"colorbar\": {\"outlinewidth\": 0, \"ticks\": \"\"}, \"colorscale\": [[0.0, \"#0d0887\"], [0.1111111111111111, \"#46039f\"], [0.2222222222222222, \"#7201a8\"], [0.3333333333333333, \"#9c179e\"], [0.4444444444444444, \"#bd3786\"], [0.5555555555555556, \"#d8576b\"], [0.6666666666666666, \"#ed7953\"], [0.7777777777777778, \"#fb9f3a\"], [0.8888888888888888, \"#fdca26\"], [1.0, \"#f0f921\"]], \"type\": \"contour\"}], \"contourcarpet\": [{\"colorbar\": {\"outlinewidth\": 0, \"ticks\": \"\"}, \"type\": \"contourcarpet\"}], \"heatmap\": [{\"colorbar\": {\"outlinewidth\": 0, \"ticks\": \"\"}, \"colorscale\": [[0.0, \"#0d0887\"], [0.1111111111111111, \"#46039f\"], [0.2222222222222222, \"#7201a8\"], [0.3333333333333333, \"#9c179e\"], [0.4444444444444444, \"#bd3786\"], [0.5555555555555556, \"#d8576b\"], [0.6666666666666666, \"#ed7953\"], [0.7777777777777778, \"#fb9f3a\"], [0.8888888888888888, \"#fdca26\"], [1.0, \"#f0f921\"]], \"type\": \"heatmap\"}], \"heatmapgl\": [{\"colorbar\": {\"outlinewidth\": 0, \"ticks\": \"\"}, \"colorscale\": [[0.0, \"#0d0887\"], [0.1111111111111111, \"#46039f\"], [0.2222222222222222, \"#7201a8\"], [0.3333333333333333, \"#9c179e\"], [0.4444444444444444, \"#bd3786\"], [0.5555555555555556, \"#d8576b\"], [0.6666666666666666, \"#ed7953\"], [0.7777777777777778, \"#fb9f3a\"], [0.8888888888888888, \"#fdca26\"], [1.0, \"#f0f921\"]], \"type\": \"heatmapgl\"}], \"histogram\": [{\"marker\": {\"colorbar\": {\"outlinewidth\": 0, \"ticks\": \"\"}}, \"type\": \"histogram\"}], \"histogram2d\": [{\"colorbar\": {\"outlinewidth\": 0, \"ticks\": \"\"}, \"colorscale\": [[0.0, \"#0d0887\"], [0.1111111111111111, \"#46039f\"], [0.2222222222222222, \"#7201a8\"], [0.3333333333333333, \"#9c179e\"], [0.4444444444444444, \"#bd3786\"], [0.5555555555555556, \"#d8576b\"], [0.6666666666666666, \"#ed7953\"], [0.7777777777777778, \"#fb9f3a\"], [0.8888888888888888, \"#fdca26\"], [1.0, \"#f0f921\"]], \"type\": \"histogram2d\"}], \"histogram2dcontour\": [{\"colorbar\": {\"outlinewidth\": 0, \"ticks\": \"\"}, \"colorscale\": [[0.0, \"#0d0887\"], [0.1111111111111111, \"#46039f\"], [0.2222222222222222, \"#7201a8\"], [0.3333333333333333, \"#9c179e\"], [0.4444444444444444, \"#bd3786\"], [0.5555555555555556, \"#d8576b\"], [0.6666666666666666, \"#ed7953\"], [0.7777777777777778, \"#fb9f3a\"], [0.8888888888888888, \"#fdca26\"], [1.0, \"#f0f921\"]], \"type\": \"histogram2dcontour\"}], \"mesh3d\": [{\"colorbar\": {\"outlinewidth\": 0, \"ticks\": \"\"}, \"type\": \"mesh3d\"}], \"parcoords\": [{\"line\": {\"colorbar\": {\"outlinewidth\": 0, \"ticks\": \"\"}}, \"type\": \"parcoords\"}], \"pie\": [{\"automargin\": true, \"type\": \"pie\"}], \"scatter\": [{\"marker\": {\"colorbar\": {\"outlinewidth\": 0, \"ticks\": \"\"}}, \"type\": \"scatter\"}], \"scatter3d\": [{\"line\": {\"colorbar\": {\"outlinewidth\": 0, \"ticks\": \"\"}}, \"marker\": {\"colorbar\": {\"outlinewidth\": 0, \"ticks\": \"\"}}, \"type\": \"scatter3d\"}], \"scattercarpet\": [{\"marker\": {\"colorbar\": {\"outlinewidth\": 0, \"ticks\": \"\"}}, \"type\": \"scattercarpet\"}], \"scattergeo\": [{\"marker\": {\"colorbar\": {\"outlinewidth\": 0, \"ticks\": \"\"}}, \"type\": \"scattergeo\"}], \"scattergl\": [{\"marker\": {\"colorbar\": {\"outlinewidth\": 0, \"ticks\": \"\"}}, \"type\": \"scattergl\"}], \"scattermapbox\": [{\"marker\": {\"colorbar\": {\"outlinewidth\": 0, \"ticks\": \"\"}}, \"type\": \"scattermapbox\"}], \"scatterpolar\": [{\"marker\": {\"colorbar\": {\"outlinewidth\": 0, \"ticks\": \"\"}}, \"type\": \"scatterpolar\"}], \"scatterpolargl\": [{\"marker\": {\"colorbar\": {\"outlinewidth\": 0, \"ticks\": \"\"}}, \"type\": \"scatterpolargl\"}], \"scatterternary\": [{\"marker\": {\"colorbar\": {\"outlinewidth\": 0, \"ticks\": \"\"}}, \"type\": \"scatterternary\"}], \"surface\": [{\"colorbar\": {\"outlinewidth\": 0, \"ticks\": \"\"}, \"colorscale\": [[0.0, \"#0d0887\"], [0.1111111111111111, \"#46039f\"], [0.2222222222222222, \"#7201a8\"], [0.3333333333333333, \"#9c179e\"], [0.4444444444444444, \"#bd3786\"], [0.5555555555555556, \"#d8576b\"], [0.6666666666666666, \"#ed7953\"], [0.7777777777777778, \"#fb9f3a\"], [0.8888888888888888, \"#fdca26\"], [1.0, \"#f0f921\"]], \"type\": \"surface\"}], \"table\": [{\"cells\": {\"fill\": {\"color\": \"#EBF0F8\"}, \"line\": {\"color\": \"white\"}}, \"header\": {\"fill\": {\"color\": \"#C8D4E3\"}, \"line\": {\"color\": \"white\"}}, \"type\": \"table\"}]}, \"layout\": {\"annotationdefaults\": {\"arrowcolor\": \"#2a3f5f\", \"arrowhead\": 0, \"arrowwidth\": 1}, \"autotypenumbers\": \"strict\", \"coloraxis\": {\"colorbar\": {\"outlinewidth\": 0, \"ticks\": \"\"}}, \"colorscale\": {\"diverging\": [[0, \"#8e0152\"], [0.1, \"#c51b7d\"], [0.2, \"#de77ae\"], [0.3, \"#f1b6da\"], [0.4, \"#fde0ef\"], [0.5, \"#f7f7f7\"], [0.6, \"#e6f5d0\"], [0.7, \"#b8e186\"], [0.8, \"#7fbc41\"], [0.9, \"#4d9221\"], [1, \"#276419\"]], \"sequential\": [[0.0, \"#0d0887\"], [0.1111111111111111, \"#46039f\"], [0.2222222222222222, \"#7201a8\"], [0.3333333333333333, \"#9c179e\"], [0.4444444444444444, \"#bd3786\"], [0.5555555555555556, \"#d8576b\"], [0.6666666666666666, \"#ed7953\"], [0.7777777777777778, \"#fb9f3a\"], [0.8888888888888888, \"#fdca26\"], [1.0, \"#f0f921\"]], \"sequentialminus\": [[0.0, \"#0d0887\"], [0.1111111111111111, \"#46039f\"], [0.2222222222222222, \"#7201a8\"], [0.3333333333333333, \"#9c179e\"], [0.4444444444444444, \"#bd3786\"], [0.5555555555555556, \"#d8576b\"], [0.6666666666666666, \"#ed7953\"], [0.7777777777777778, \"#fb9f3a\"], [0.8888888888888888, \"#fdca26\"], [1.0, \"#f0f921\"]]}, \"colorway\": [\"#636efa\", \"#EF553B\", \"#00cc96\", \"#ab63fa\", \"#FFA15A\", \"#19d3f3\", \"#FF6692\", \"#B6E880\", \"#FF97FF\", \"#FECB52\"], \"font\": {\"color\": \"#2a3f5f\"}, \"geo\": {\"bgcolor\": \"white\", \"lakecolor\": \"white\", \"landcolor\": \"#E5ECF6\", \"showlakes\": true, \"showland\": true, \"subunitcolor\": \"white\"}, \"hoverlabel\": {\"align\": \"left\"}, \"hovermode\": \"closest\", \"mapbox\": {\"style\": \"light\"}, \"paper_bgcolor\": \"white\", \"plot_bgcolor\": \"#E5ECF6\", \"polar\": {\"angularaxis\": {\"gridcolor\": \"white\", \"linecolor\": \"white\", \"ticks\": \"\"}, \"bgcolor\": \"#E5ECF6\", \"radialaxis\": {\"gridcolor\": \"white\", \"linecolor\": \"white\", \"ticks\": \"\"}}, \"scene\": {\"xaxis\": {\"backgroundcolor\": \"#E5ECF6\", \"gridcolor\": \"white\", \"gridwidth\": 2, \"linecolor\": \"white\", \"showbackground\": true, \"ticks\": \"\", \"zerolinecolor\": \"white\"}, \"yaxis\": {\"backgroundcolor\": \"#E5ECF6\", \"gridcolor\": \"white\", \"gridwidth\": 2, \"linecolor\": \"white\", \"showbackground\": true, \"ticks\": \"\", \"zerolinecolor\": \"white\"}, \"zaxis\": {\"backgroundcolor\": \"#E5ECF6\", \"gridcolor\": \"white\", \"gridwidth\": 2, \"linecolor\": \"white\", \"showbackground\": true, \"ticks\": \"\", \"zerolinecolor\": \"white\"}}, \"shapedefaults\": {\"line\": {\"color\": \"#2a3f5f\"}}, \"ternary\": {\"aaxis\": {\"gridcolor\": \"white\", \"linecolor\": \"white\", \"ticks\": \"\"}, \"baxis\": {\"gridcolor\": \"white\", \"linecolor\": \"white\", \"ticks\": \"\"}, \"bgcolor\": \"#E5ECF6\", \"caxis\": {\"gridcolor\": \"white\", \"linecolor\": \"white\", \"ticks\": \"\"}}, \"title\": {\"x\": 0.05}, \"xaxis\": {\"automargin\": true, \"gridcolor\": \"white\", \"linecolor\": \"white\", \"ticks\": \"\", \"title\": {\"standoff\": 15}, \"zerolinecolor\": \"white\", \"zerolinewidth\": 2}, \"yaxis\": {\"automargin\": true, \"gridcolor\": \"white\", \"linecolor\": \"white\", \"ticks\": \"\", \"title\": {\"standoff\": 15}, \"zerolinecolor\": \"white\", \"zerolinewidth\": 2}}}, \"xaxis\": {\"anchor\": \"y2\", \"domain\": [0.0, 1.0], \"zeroline\": false}, \"yaxis\": {\"anchor\": \"free\", \"domain\": [0.35, 1], \"position\": 0.0}, \"yaxis2\": {\"anchor\": \"x\", \"domain\": [0, 0.25], \"dtick\": 1, \"showticklabels\": false}},                        {\"responsive\": true}                    ).then(function(){\n",
              "                            \n",
              "var gd = document.getElementById('d4922a06-7bb2-4ff0-9569-0f5dd92ddbc5');\n",
              "var x = new MutationObserver(function (mutations, observer) {{\n",
              "        var display = window.getComputedStyle(gd).display;\n",
              "        if (!display || display === 'none') {{\n",
              "            console.log([gd, 'removed!']);\n",
              "            Plotly.purge(gd);\n",
              "            observer.disconnect();\n",
              "        }}\n",
              "}});\n",
              "\n",
              "// Listen for the removal of the full notebook cells\n",
              "var notebookContainer = gd.closest('#notebook-container');\n",
              "if (notebookContainer) {{\n",
              "    x.observe(notebookContainer, {childList: true});\n",
              "}}\n",
              "\n",
              "// Listen for the clearing of the current output cell\n",
              "var outputEl = gd.closest('.output');\n",
              "if (outputEl) {{\n",
              "    x.observe(outputEl, {childList: true});\n",
              "}}\n",
              "\n",
              "                        })                };                            </script>        </div>\n",
              "</body>\n",
              "</html>"
            ]
          },
          "metadata": {
            "tags": []
          }
        }
      ]
    },
    {
      "cell_type": "markdown",
      "metadata": {
        "id": "mmKok1o1Sz0w"
      },
      "source": [
        "SNIPPET 4.10 DETERMINATION OF SAMPLE WEIGHT BY ABSOLUTE RETURN ATTRIBUTION\n",
        "\n",
        "SampleW:\n",
        "* close: A pd series of prices\n",
        "* events: A Pd dataframe\n",
        "  -   t1: the timestamp of vertical barrier. if the value is np.nan, no vertical barrier\n",
        "  -   trgr: the unit width of the horizontal barriers, e.g. standard deviation\n",
        "* numThreads: constant, The no. of threads concurrently used by the function"
      ]
    },
    {
      "cell_type": "code",
      "metadata": {
        "id": "8OmUl-ZgS9Tu"
      },
      "source": [
        "def mpSampleW(t1, numCoEvents, close, molecule):\n",
        "    # Derive sample weight by return attribution\n",
        "    ret = np.log(close).diff() # log-returns, so that they are additive\n",
        "    wght = pd.Series(index = molecule, dtype=\"float64\")\n",
        "    for tIn, tOut in t1.loc[wght.index].iteritems():\n",
        "        wght.loc[tIn] = (ret.loc[tIn : tOut] / numCoEvents.loc[tIn : tOut]).sum()\n",
        "    return wght.abs()\n",
        "\n",
        "def SampleW(close, events, numThreads):\n",
        "    out = events[['t1']].copy(deep = True)\n",
        "    numCoEvents = mpPandasObj(mpNumCoEvents,('molecule', events.index),numThreads, closeIdx = close.index, t1 = events['t1'])\n",
        "    numCoEvents = numCoEvents.loc[~numCoEvents.index.duplicated(keep = 'last')]\n",
        "    numCoEvents = numCoEvents.reindex(close.index).fillna(0)\n",
        "    out['w'] = mpPandasObj(mpSampleW, ('molecule', events.index), numThreads, t1 = events['t1'], numCoEvents = numCoEvents, close = close)\n",
        "    out['w'] *= out.shape[0] / out['w'].sum() # normalised, sum up to sample size\n",
        "    return out, numCoEvents"
      ],
      "execution_count": null,
      "outputs": []
    },
    {
      "cell_type": "code",
      "metadata": {
        "colab": {
          "base_uri": "https://localhost:8080/",
          "height": 542
        },
        "id": "_uuqeBKI8zVj",
        "outputId": "c1fa9d49-9b15-42a2-844f-83b9433c5416"
      },
      "source": [
        "out_w, numCoEvents_w = SampleW(close, events, numThreads=1)\n",
        "fig = make_subplots(specs=[[{\"secondary_y\": True}]])\n",
        "fig.add_trace(go.Scatter(x=numCoEvents_w.index, y=numCoEvents_w.values, mode=\"lines\", marker=dict(color='blue'), name=\"Count\"), secondary_y=False) \n",
        "fig.add_trace(go.Scatter(x=out_w.index, y=out_w['w'], mode=\"lines\", marker=dict(color='green'), name=\"Weight_W\"), secondary_y=True) \n",
        "fig.add_trace(go.Scatter(x=out.index, y=out['tW'], mode=\"lines\", marker=dict(color='red'), name=\"Weight_TW\"), secondary_y=True) "
      ],
      "execution_count": null,
      "outputs": [
        {
          "output_type": "display_data",
          "data": {
            "text/html": [
              "<html>\n",
              "<head><meta charset=\"utf-8\" /></head>\n",
              "<body>\n",
              "    <div>            <script src=\"https://cdnjs.cloudflare.com/ajax/libs/mathjax/2.7.5/MathJax.js?config=TeX-AMS-MML_SVG\"></script><script type=\"text/javascript\">if (window.MathJax) {MathJax.Hub.Config({SVG: {font: \"STIX-Web\"}});}</script>                <script type=\"text/javascript\">window.PlotlyConfig = {MathJaxConfig: 'local'};</script>\n",
              "        <script src=\"https://cdn.plot.ly/plotly-latest.min.js\"></script>                <div id=\"3328344b-bfcb-4891-b9a1-54a0e466a5a2\" class=\"plotly-graph-div\" style=\"height:525px; width:100%;\"></div>            <script type=\"text/javascript\">                                    window.PLOTLYENV=window.PLOTLYENV || {};                                    if (document.getElementById(\"3328344b-bfcb-4891-b9a1-54a0e466a5a2\")) {                    Plotly.newPlot(                        \"3328344b-bfcb-4891-b9a1-54a0e466a5a2\",                        [{\"marker\": {\"color\": \"blue\"}, \"mode\": \"lines\", \"name\": \"Count\", \"type\": \"scatter\", \"x\": [\"2020-01-03T00:00:00\", \"2020-01-06T00:00:00\", \"2020-01-07T00:00:00\", \"2020-01-08T00:00:00\", \"2020-01-09T00:00:00\", \"2020-01-10T00:00:00\", \"2020-01-13T00:00:00\", \"2020-01-14T00:00:00\", \"2020-01-15T00:00:00\", \"2020-01-16T00:00:00\", \"2020-01-17T00:00:00\", \"2020-01-22T00:00:00\", \"2020-01-23T00:00:00\", \"2020-01-24T00:00:00\", \"2020-01-27T00:00:00\", \"2020-01-28T00:00:00\", \"2020-01-29T00:00:00\", \"2020-01-30T00:00:00\", \"2020-01-31T00:00:00\", \"2020-02-03T00:00:00\", \"2020-02-04T00:00:00\", \"2020-02-05T00:00:00\", \"2020-02-06T00:00:00\", \"2020-02-07T00:00:00\", \"2020-02-10T00:00:00\", \"2020-02-11T00:00:00\", \"2020-02-12T00:00:00\", \"2020-02-13T00:00:00\", \"2020-02-14T00:00:00\", \"2020-02-19T00:00:00\", \"2020-02-20T00:00:00\", \"2020-02-21T00:00:00\", \"2020-02-24T00:00:00\", \"2020-02-25T00:00:00\", \"2020-02-26T00:00:00\", \"2020-02-27T00:00:00\", \"2020-02-28T00:00:00\", \"2020-03-02T00:00:00\", \"2020-03-03T00:00:00\", \"2020-03-04T00:00:00\", \"2020-03-05T00:00:00\", \"2020-03-06T00:00:00\", \"2020-03-09T00:00:00\", \"2020-03-10T00:00:00\", \"2020-03-11T00:00:00\", \"2020-03-12T00:00:00\", \"2020-03-13T00:00:00\", \"2020-03-16T00:00:00\", \"2020-03-17T00:00:00\", \"2020-03-18T00:00:00\", \"2020-03-19T00:00:00\", \"2020-03-20T00:00:00\", \"2020-03-23T00:00:00\", \"2020-03-24T00:00:00\", \"2020-03-25T00:00:00\", \"2020-03-26T00:00:00\", \"2020-03-27T00:00:00\", \"2020-03-30T00:00:00\", \"2020-03-31T00:00:00\", \"2020-04-01T00:00:00\", \"2020-04-02T00:00:00\", \"2020-04-03T00:00:00\", \"2020-04-06T00:00:00\", \"2020-04-07T00:00:00\", \"2020-04-08T00:00:00\", \"2020-04-09T00:00:00\", \"2020-04-14T00:00:00\", \"2020-04-15T00:00:00\", \"2020-04-16T00:00:00\", \"2020-04-17T00:00:00\", \"2020-04-20T00:00:00\", \"2020-04-21T00:00:00\", \"2020-04-22T00:00:00\", \"2020-04-23T00:00:00\", \"2020-04-24T00:00:00\", \"2020-04-27T00:00:00\", \"2020-04-28T00:00:00\", \"2020-04-29T00:00:00\", \"2020-04-30T00:00:00\", \"2020-05-01T00:00:00\", \"2020-05-04T00:00:00\", \"2020-05-05T00:00:00\", \"2020-05-06T00:00:00\", \"2020-05-07T00:00:00\", \"2020-05-08T00:00:00\", \"2020-05-11T00:00:00\", \"2020-05-12T00:00:00\", \"2020-05-13T00:00:00\", \"2020-05-14T00:00:00\", \"2020-05-15T00:00:00\", \"2020-05-18T00:00:00\", \"2020-05-19T00:00:00\", \"2020-05-20T00:00:00\", \"2020-05-21T00:00:00\", \"2020-05-22T00:00:00\", \"2020-05-27T00:00:00\", \"2020-05-28T00:00:00\", \"2020-05-29T00:00:00\", \"2020-06-01T00:00:00\", \"2020-06-02T00:00:00\", \"2020-06-03T00:00:00\", \"2020-06-04T00:00:00\", \"2020-06-05T00:00:00\", \"2020-06-08T00:00:00\", \"2020-06-09T00:00:00\", \"2020-06-10T00:00:00\", \"2020-06-11T00:00:00\", \"2020-06-12T00:00:00\", \"2020-06-15T00:00:00\", \"2020-06-16T00:00:00\", \"2020-06-17T00:00:00\", \"2020-06-18T00:00:00\", \"2020-06-19T00:00:00\", \"2020-06-22T00:00:00\", \"2020-06-23T00:00:00\", \"2020-06-24T00:00:00\", \"2020-06-25T00:00:00\", \"2020-06-26T00:00:00\", \"2020-06-29T00:00:00\", \"2020-06-30T00:00:00\", \"2020-07-01T00:00:00\", \"2020-07-02T00:00:00\", \"2020-07-07T00:00:00\", \"2020-07-08T00:00:00\", \"2020-07-09T00:00:00\", \"2020-07-10T00:00:00\", \"2020-07-13T00:00:00\", \"2020-07-14T00:00:00\", \"2020-07-15T00:00:00\", \"2020-07-16T00:00:00\", \"2020-07-17T00:00:00\", \"2020-07-20T00:00:00\", \"2020-07-21T00:00:00\", \"2020-07-22T00:00:00\", \"2020-07-23T00:00:00\", \"2020-07-24T00:00:00\", \"2020-07-27T00:00:00\", \"2020-07-28T00:00:00\", \"2020-07-29T00:00:00\", \"2020-07-30T00:00:00\", \"2020-07-31T00:00:00\", \"2020-08-03T00:00:00\", \"2020-08-04T00:00:00\", \"2020-08-05T00:00:00\", \"2020-08-06T00:00:00\", \"2020-08-07T00:00:00\", \"2020-08-10T00:00:00\", \"2020-08-11T00:00:00\", \"2020-08-12T00:00:00\", \"2020-08-13T00:00:00\", \"2020-08-14T00:00:00\", \"2020-08-17T00:00:00\", \"2020-08-18T00:00:00\", \"2020-08-19T00:00:00\", \"2020-08-20T00:00:00\", \"2020-08-21T00:00:00\", \"2020-08-24T00:00:00\", \"2020-08-25T00:00:00\", \"2020-08-26T00:00:00\", \"2020-08-27T00:00:00\", \"2020-08-28T00:00:00\", \"2020-08-31T00:00:00\", \"2020-09-01T00:00:00\", \"2020-09-02T00:00:00\", \"2020-09-03T00:00:00\", \"2020-09-04T00:00:00\", \"2020-09-09T00:00:00\", \"2020-09-10T00:00:00\", \"2020-09-11T00:00:00\", \"2020-09-14T00:00:00\", \"2020-09-15T00:00:00\", \"2020-09-16T00:00:00\", \"2020-09-17T00:00:00\", \"2020-09-18T00:00:00\", \"2020-09-21T00:00:00\", \"2020-09-22T00:00:00\", \"2020-09-23T00:00:00\", \"2020-09-24T00:00:00\", \"2020-09-25T00:00:00\", \"2020-09-28T00:00:00\", \"2020-09-29T00:00:00\", \"2020-09-30T00:00:00\", \"2020-10-01T00:00:00\", \"2020-10-02T00:00:00\", \"2020-10-05T00:00:00\", \"2020-10-06T00:00:00\", \"2020-10-07T00:00:00\", \"2020-10-08T00:00:00\", \"2020-10-09T00:00:00\", \"2020-10-12T00:00:00\", \"2020-10-13T00:00:00\", \"2020-10-14T00:00:00\", \"2020-10-15T00:00:00\", \"2020-10-16T00:00:00\", \"2020-10-19T00:00:00\", \"2020-10-20T00:00:00\", \"2020-10-21T00:00:00\", \"2020-10-22T00:00:00\", \"2020-10-23T00:00:00\", \"2020-10-26T00:00:00\", \"2020-10-27T00:00:00\", \"2020-10-28T00:00:00\", \"2020-10-29T00:00:00\", \"2020-10-30T00:00:00\", \"2020-11-02T00:00:00\", \"2020-11-03T00:00:00\", \"2020-11-04T00:00:00\", \"2020-11-05T00:00:00\", \"2020-11-06T00:00:00\", \"2020-11-09T00:00:00\", \"2020-11-10T00:00:00\", \"2020-11-11T00:00:00\", \"2020-11-12T00:00:00\", \"2020-11-13T00:00:00\", \"2020-11-16T00:00:00\", \"2020-11-17T00:00:00\", \"2020-11-18T00:00:00\", \"2020-11-19T00:00:00\", \"2020-11-20T00:00:00\", \"2020-11-23T00:00:00\", \"2020-11-24T00:00:00\", \"2020-11-25T00:00:00\", \"2020-11-30T00:00:00\", \"2020-12-01T00:00:00\", \"2020-12-02T00:00:00\", \"2020-12-03T00:00:00\", \"2020-12-04T00:00:00\", \"2020-12-07T00:00:00\", \"2020-12-08T00:00:00\", \"2020-12-09T00:00:00\", \"2020-12-10T00:00:00\", \"2020-12-11T00:00:00\", \"2020-12-14T00:00:00\", \"2020-12-15T00:00:00\", \"2020-12-16T00:00:00\", \"2020-12-17T00:00:00\", \"2020-12-18T00:00:00\", \"2020-12-21T00:00:00\", \"2020-12-22T00:00:00\", \"2020-12-23T00:00:00\", \"2020-12-24T00:00:00\", \"2020-12-29T00:00:00\", \"2020-12-30T00:00:00\", \"2020-12-31T00:00:00\"], \"xaxis\": \"x\", \"y\": [0.0, 0.0, 0.0, 0.0, 0.0, 0.0, 0.0, 0.0, 0.0, 0.0, 0.0, 0.0, 0.0, 0.0, 0.0, 0.0, 0.0, 0.0, 1.0, 1.0, 1.0, 0.0, 0.0, 0.0, 0.0, 0.0, 1.0, 1.0, 1.0, 1.0, 1.0, 1.0, 2.0, 1.0, 1.0, 2.0, 1.0, 2.0, 1.0, 1.0, 1.0, 2.0, 2.0, 1.0, 1.0, 2.0, 2.0, 2.0, 2.0, 2.0, 1.0, 1.0, 1.0, 2.0, 1.0, 2.0, 1.0, 1.0, 1.0, 2.0, 1.0, 1.0, 2.0, 1.0, 1.0, 2.0, 1.0, 1.0, 1.0, 1.0, 1.0, 1.0, 1.0, 1.0, 1.0, 2.0, 2.0, 2.0, 2.0, 2.0, 2.0, 2.0, 2.0, 2.0, 2.0, 2.0, 2.0, 3.0, 2.0, 2.0, 3.0, 2.0, 2.0, 2.0, 2.0, 2.0, 1.0, 1.0, 1.0, 1.0, 1.0, 1.0, 1.0, 1.0, 1.0, 1.0, 2.0, 1.0, 1.0, 1.0, 0.0, 0.0, 0.0, 0.0, 0.0, 1.0, 1.0, 1.0, 1.0, 1.0, 1.0, 1.0, 1.0, 1.0, 1.0, 1.0, 1.0, 2.0, 1.0, 1.0, 1.0, 1.0, 1.0, 1.0, 0.0, 0.0, 0.0, 0.0, 0.0, 0.0, 0.0, 0.0, 0.0, 0.0, 0.0, 0.0, 1.0, 1.0, 1.0, 1.0, 1.0, 1.0, 1.0, 1.0, 1.0, 0.0, 0.0, 0.0, 0.0, 0.0, 0.0, 0.0, 0.0, 0.0, 0.0, 0.0, 0.0, 0.0, 0.0, 0.0, 0.0, 0.0, 0.0, 0.0, 1.0, 1.0, 1.0, 0.0, 0.0, 0.0, 0.0, 0.0, 0.0, 0.0, 1.0, 1.0, 1.0, 1.0, 0.0, 0.0, 0.0, 0.0, 0.0, 0.0, 0.0, 0.0, 0.0, 0.0, 0.0, 0.0, 0.0, 1.0, 1.0, 1.0, 1.0, 0.0, 0.0, 1.0, 1.0, 1.0, 1.0, 1.0, 1.0, 1.0, 1.0, 1.0, 1.0, 1.0, 1.0, 1.0, 2.0, 1.0, 1.0, 1.0, 1.0, 1.0, 1.0, 1.0, 1.0, 1.0, 1.0, 1.0, 1.0, 1.0, 0.0, 0.0, 0.0, 0.0, 0.0, 0.0, 0.0, 0.0, 0.0, 0.0], \"yaxis\": \"y\"}, {\"marker\": {\"color\": \"green\"}, \"mode\": \"lines\", \"name\": \"Weight_W\", \"type\": \"scatter\", \"x\": [\"2020-01-31T00:00:00\", \"2020-02-12T00:00:00\", \"2020-02-24T00:00:00\", \"2020-02-26T00:00:00\", \"2020-02-27T00:00:00\", \"2020-03-02T00:00:00\", \"2020-03-06T00:00:00\", \"2020-03-09T00:00:00\", \"2020-03-11T00:00:00\", \"2020-03-12T00:00:00\", \"2020-03-13T00:00:00\", \"2020-03-16T00:00:00\", \"2020-03-17T00:00:00\", \"2020-03-18T00:00:00\", \"2020-03-23T00:00:00\", \"2020-03-24T00:00:00\", \"2020-03-26T00:00:00\", \"2020-04-01T00:00:00\", \"2020-04-06T00:00:00\", \"2020-04-09T00:00:00\", \"2020-04-27T00:00:00\", \"2020-05-01T00:00:00\", \"2020-05-13T00:00:00\", \"2020-05-18T00:00:00\", \"2020-05-27T00:00:00\", \"2020-06-05T00:00:00\", \"2020-06-11T00:00:00\", \"2020-06-24T00:00:00\", \"2020-07-14T00:00:00\", \"2020-08-10T00:00:00\", \"2020-09-21T00:00:00\", \"2020-10-05T00:00:00\", \"2020-10-28T00:00:00\", \"2020-11-05T00:00:00\", \"2020-11-10T00:00:00\", \"2020-11-24T00:00:00\"], \"xaxis\": \"x\", \"y\": [0.09849721270961108, 0.6919467708429163, 1.6831965388424364, 1.0878793191991893, 0.5091455577263224, 0.27514165182234934, 1.8108440853955772, 0.04116810004881908, 3.675714037882841, 0.3481811776297025, 0.5914694242725731, 1.018808611847716, 0.06760666486364705, 2.9851530993784015, 0.13655815247703817, 3.211846127384823, 0.3536034627724649, 0.5612994698588546, 2.983904587126287, 0.4004331866316706, 0.48297784662029086, 0.2971296288657431, 0.457744048575054, 1.1698439363680886, 1.9846905512660549, 0.8942734950915022, 0.10055483193191224, 0.07452550519947303, 1.1933051522943414, 0.23642332204837083, 1.6843802979437579, 1.2063729168644464, 0.206050989956908, 1.7942587688685485, 1.2932854492657628, 0.3917860201265037], \"yaxis\": \"y2\"}, {\"marker\": {\"color\": \"red\"}, \"mode\": \"lines\", \"name\": \"Weight_TW\", \"type\": \"scatter\", \"x\": [\"2020-01-31T00:00:00\", \"2020-02-12T00:00:00\", \"2020-02-24T00:00:00\", \"2020-02-26T00:00:00\", \"2020-02-27T00:00:00\", \"2020-03-02T00:00:00\", \"2020-03-06T00:00:00\", \"2020-03-09T00:00:00\", \"2020-03-11T00:00:00\", \"2020-03-12T00:00:00\", \"2020-03-13T00:00:00\", \"2020-03-16T00:00:00\", \"2020-03-17T00:00:00\", \"2020-03-18T00:00:00\", \"2020-03-23T00:00:00\", \"2020-03-24T00:00:00\", \"2020-03-26T00:00:00\", \"2020-04-01T00:00:00\", \"2020-04-06T00:00:00\", \"2020-04-09T00:00:00\", \"2020-04-27T00:00:00\", \"2020-05-01T00:00:00\", \"2020-05-13T00:00:00\", \"2020-05-18T00:00:00\", \"2020-05-27T00:00:00\", \"2020-06-05T00:00:00\", \"2020-06-11T00:00:00\", \"2020-06-24T00:00:00\", \"2020-07-14T00:00:00\", \"2020-08-10T00:00:00\", \"2020-09-21T00:00:00\", \"2020-10-05T00:00:00\", \"2020-10-28T00:00:00\", \"2020-11-05T00:00:00\", \"2020-11-10T00:00:00\", \"2020-11-24T00:00:00\"], \"xaxis\": \"x\", \"y\": [1.0, 0.9285714285714286, 0.75, 0.75, 0.6666666666666666, 0.8, 0.5, 0.75, 0.75, 0.5, 0.5, 0.5, 0.5, 0.8333333333333334, 0.75, 0.6666666666666666, 0.8, 0.75, 0.75, 0.8214285714285714, 0.48717948717948717, 0.47916666666666663, 0.41666666666666663, 0.47222222222222215, 0.9285714285714286, 0.9, 0.875, 0.9615384615384616, 0.9285714285714286, 1.0, 1.0, 1.0, 1.0, 1.0, 0.9545454545454546, 0.9642857142857143], \"yaxis\": \"y2\"}],                        {\"template\": {\"data\": {\"bar\": [{\"error_x\": {\"color\": \"#2a3f5f\"}, \"error_y\": {\"color\": \"#2a3f5f\"}, \"marker\": {\"line\": {\"color\": \"#E5ECF6\", \"width\": 0.5}}, \"type\": \"bar\"}], \"barpolar\": [{\"marker\": {\"line\": {\"color\": \"#E5ECF6\", \"width\": 0.5}}, \"type\": \"barpolar\"}], \"carpet\": [{\"aaxis\": {\"endlinecolor\": \"#2a3f5f\", \"gridcolor\": \"white\", \"linecolor\": \"white\", \"minorgridcolor\": \"white\", \"startlinecolor\": \"#2a3f5f\"}, \"baxis\": {\"endlinecolor\": \"#2a3f5f\", \"gridcolor\": \"white\", \"linecolor\": \"white\", \"minorgridcolor\": \"white\", \"startlinecolor\": \"#2a3f5f\"}, \"type\": \"carpet\"}], \"choropleth\": [{\"colorbar\": {\"outlinewidth\": 0, \"ticks\": \"\"}, \"type\": \"choropleth\"}], \"contour\": [{\"colorbar\": {\"outlinewidth\": 0, \"ticks\": \"\"}, \"colorscale\": [[0.0, \"#0d0887\"], [0.1111111111111111, \"#46039f\"], [0.2222222222222222, \"#7201a8\"], [0.3333333333333333, \"#9c179e\"], [0.4444444444444444, \"#bd3786\"], [0.5555555555555556, \"#d8576b\"], [0.6666666666666666, \"#ed7953\"], [0.7777777777777778, \"#fb9f3a\"], [0.8888888888888888, \"#fdca26\"], [1.0, \"#f0f921\"]], \"type\": \"contour\"}], \"contourcarpet\": [{\"colorbar\": {\"outlinewidth\": 0, \"ticks\": \"\"}, \"type\": \"contourcarpet\"}], \"heatmap\": [{\"colorbar\": {\"outlinewidth\": 0, \"ticks\": \"\"}, \"colorscale\": [[0.0, \"#0d0887\"], [0.1111111111111111, \"#46039f\"], [0.2222222222222222, \"#7201a8\"], [0.3333333333333333, \"#9c179e\"], [0.4444444444444444, \"#bd3786\"], [0.5555555555555556, \"#d8576b\"], [0.6666666666666666, \"#ed7953\"], [0.7777777777777778, \"#fb9f3a\"], [0.8888888888888888, \"#fdca26\"], [1.0, \"#f0f921\"]], \"type\": \"heatmap\"}], \"heatmapgl\": [{\"colorbar\": {\"outlinewidth\": 0, \"ticks\": \"\"}, \"colorscale\": [[0.0, \"#0d0887\"], [0.1111111111111111, \"#46039f\"], [0.2222222222222222, \"#7201a8\"], [0.3333333333333333, \"#9c179e\"], [0.4444444444444444, \"#bd3786\"], [0.5555555555555556, \"#d8576b\"], [0.6666666666666666, \"#ed7953\"], [0.7777777777777778, \"#fb9f3a\"], [0.8888888888888888, \"#fdca26\"], [1.0, \"#f0f921\"]], \"type\": \"heatmapgl\"}], \"histogram\": [{\"marker\": {\"colorbar\": {\"outlinewidth\": 0, \"ticks\": \"\"}}, \"type\": \"histogram\"}], \"histogram2d\": [{\"colorbar\": {\"outlinewidth\": 0, \"ticks\": \"\"}, \"colorscale\": [[0.0, \"#0d0887\"], [0.1111111111111111, \"#46039f\"], [0.2222222222222222, \"#7201a8\"], [0.3333333333333333, \"#9c179e\"], [0.4444444444444444, \"#bd3786\"], [0.5555555555555556, \"#d8576b\"], [0.6666666666666666, \"#ed7953\"], [0.7777777777777778, \"#fb9f3a\"], [0.8888888888888888, \"#fdca26\"], [1.0, \"#f0f921\"]], \"type\": \"histogram2d\"}], \"histogram2dcontour\": [{\"colorbar\": {\"outlinewidth\": 0, \"ticks\": \"\"}, \"colorscale\": [[0.0, \"#0d0887\"], [0.1111111111111111, \"#46039f\"], [0.2222222222222222, \"#7201a8\"], [0.3333333333333333, \"#9c179e\"], [0.4444444444444444, \"#bd3786\"], [0.5555555555555556, \"#d8576b\"], [0.6666666666666666, \"#ed7953\"], [0.7777777777777778, \"#fb9f3a\"], [0.8888888888888888, \"#fdca26\"], [1.0, \"#f0f921\"]], \"type\": \"histogram2dcontour\"}], \"mesh3d\": [{\"colorbar\": {\"outlinewidth\": 0, \"ticks\": \"\"}, \"type\": \"mesh3d\"}], \"parcoords\": [{\"line\": {\"colorbar\": {\"outlinewidth\": 0, \"ticks\": \"\"}}, \"type\": \"parcoords\"}], \"pie\": [{\"automargin\": true, \"type\": \"pie\"}], \"scatter\": [{\"marker\": {\"colorbar\": {\"outlinewidth\": 0, \"ticks\": \"\"}}, \"type\": \"scatter\"}], \"scatter3d\": [{\"line\": {\"colorbar\": {\"outlinewidth\": 0, \"ticks\": \"\"}}, \"marker\": {\"colorbar\": {\"outlinewidth\": 0, \"ticks\": \"\"}}, \"type\": \"scatter3d\"}], \"scattercarpet\": [{\"marker\": {\"colorbar\": {\"outlinewidth\": 0, \"ticks\": \"\"}}, \"type\": \"scattercarpet\"}], \"scattergeo\": [{\"marker\": {\"colorbar\": {\"outlinewidth\": 0, \"ticks\": \"\"}}, \"type\": \"scattergeo\"}], \"scattergl\": [{\"marker\": {\"colorbar\": {\"outlinewidth\": 0, \"ticks\": \"\"}}, \"type\": \"scattergl\"}], \"scattermapbox\": [{\"marker\": {\"colorbar\": {\"outlinewidth\": 0, \"ticks\": \"\"}}, \"type\": \"scattermapbox\"}], \"scatterpolar\": [{\"marker\": {\"colorbar\": {\"outlinewidth\": 0, \"ticks\": \"\"}}, \"type\": \"scatterpolar\"}], \"scatterpolargl\": [{\"marker\": {\"colorbar\": {\"outlinewidth\": 0, \"ticks\": \"\"}}, \"type\": \"scatterpolargl\"}], \"scatterternary\": [{\"marker\": {\"colorbar\": {\"outlinewidth\": 0, \"ticks\": \"\"}}, \"type\": \"scatterternary\"}], \"surface\": [{\"colorbar\": {\"outlinewidth\": 0, \"ticks\": \"\"}, \"colorscale\": [[0.0, \"#0d0887\"], [0.1111111111111111, \"#46039f\"], [0.2222222222222222, \"#7201a8\"], [0.3333333333333333, \"#9c179e\"], [0.4444444444444444, \"#bd3786\"], [0.5555555555555556, \"#d8576b\"], [0.6666666666666666, \"#ed7953\"], [0.7777777777777778, \"#fb9f3a\"], [0.8888888888888888, \"#fdca26\"], [1.0, \"#f0f921\"]], \"type\": \"surface\"}], \"table\": [{\"cells\": {\"fill\": {\"color\": \"#EBF0F8\"}, \"line\": {\"color\": \"white\"}}, \"header\": {\"fill\": {\"color\": \"#C8D4E3\"}, \"line\": {\"color\": \"white\"}}, \"type\": \"table\"}]}, \"layout\": {\"annotationdefaults\": {\"arrowcolor\": \"#2a3f5f\", \"arrowhead\": 0, \"arrowwidth\": 1}, \"autotypenumbers\": \"strict\", \"coloraxis\": {\"colorbar\": {\"outlinewidth\": 0, \"ticks\": \"\"}}, \"colorscale\": {\"diverging\": [[0, \"#8e0152\"], [0.1, \"#c51b7d\"], [0.2, \"#de77ae\"], [0.3, \"#f1b6da\"], [0.4, \"#fde0ef\"], [0.5, \"#f7f7f7\"], [0.6, \"#e6f5d0\"], [0.7, \"#b8e186\"], [0.8, \"#7fbc41\"], [0.9, \"#4d9221\"], [1, \"#276419\"]], \"sequential\": [[0.0, \"#0d0887\"], [0.1111111111111111, \"#46039f\"], [0.2222222222222222, \"#7201a8\"], [0.3333333333333333, \"#9c179e\"], [0.4444444444444444, \"#bd3786\"], [0.5555555555555556, \"#d8576b\"], [0.6666666666666666, \"#ed7953\"], [0.7777777777777778, \"#fb9f3a\"], [0.8888888888888888, \"#fdca26\"], [1.0, \"#f0f921\"]], \"sequentialminus\": [[0.0, \"#0d0887\"], [0.1111111111111111, \"#46039f\"], [0.2222222222222222, \"#7201a8\"], [0.3333333333333333, \"#9c179e\"], [0.4444444444444444, \"#bd3786\"], [0.5555555555555556, \"#d8576b\"], [0.6666666666666666, \"#ed7953\"], [0.7777777777777778, \"#fb9f3a\"], [0.8888888888888888, \"#fdca26\"], [1.0, \"#f0f921\"]]}, \"colorway\": [\"#636efa\", \"#EF553B\", \"#00cc96\", \"#ab63fa\", \"#FFA15A\", \"#19d3f3\", \"#FF6692\", \"#B6E880\", \"#FF97FF\", \"#FECB52\"], \"font\": {\"color\": \"#2a3f5f\"}, \"geo\": {\"bgcolor\": \"white\", \"lakecolor\": \"white\", \"landcolor\": \"#E5ECF6\", \"showlakes\": true, \"showland\": true, \"subunitcolor\": \"white\"}, \"hoverlabel\": {\"align\": \"left\"}, \"hovermode\": \"closest\", \"mapbox\": {\"style\": \"light\"}, \"paper_bgcolor\": \"white\", \"plot_bgcolor\": \"#E5ECF6\", \"polar\": {\"angularaxis\": {\"gridcolor\": \"white\", \"linecolor\": \"white\", \"ticks\": \"\"}, \"bgcolor\": \"#E5ECF6\", \"radialaxis\": {\"gridcolor\": \"white\", \"linecolor\": \"white\", \"ticks\": \"\"}}, \"scene\": {\"xaxis\": {\"backgroundcolor\": \"#E5ECF6\", \"gridcolor\": \"white\", \"gridwidth\": 2, \"linecolor\": \"white\", \"showbackground\": true, \"ticks\": \"\", \"zerolinecolor\": \"white\"}, \"yaxis\": {\"backgroundcolor\": \"#E5ECF6\", \"gridcolor\": \"white\", \"gridwidth\": 2, \"linecolor\": \"white\", \"showbackground\": true, \"ticks\": \"\", \"zerolinecolor\": \"white\"}, \"zaxis\": {\"backgroundcolor\": \"#E5ECF6\", \"gridcolor\": \"white\", \"gridwidth\": 2, \"linecolor\": \"white\", \"showbackground\": true, \"ticks\": \"\", \"zerolinecolor\": \"white\"}}, \"shapedefaults\": {\"line\": {\"color\": \"#2a3f5f\"}}, \"ternary\": {\"aaxis\": {\"gridcolor\": \"white\", \"linecolor\": \"white\", \"ticks\": \"\"}, \"baxis\": {\"gridcolor\": \"white\", \"linecolor\": \"white\", \"ticks\": \"\"}, \"bgcolor\": \"#E5ECF6\", \"caxis\": {\"gridcolor\": \"white\", \"linecolor\": \"white\", \"ticks\": \"\"}}, \"title\": {\"x\": 0.05}, \"xaxis\": {\"automargin\": true, \"gridcolor\": \"white\", \"linecolor\": \"white\", \"ticks\": \"\", \"title\": {\"standoff\": 15}, \"zerolinecolor\": \"white\", \"zerolinewidth\": 2}, \"yaxis\": {\"automargin\": true, \"gridcolor\": \"white\", \"linecolor\": \"white\", \"ticks\": \"\", \"title\": {\"standoff\": 15}, \"zerolinecolor\": \"white\", \"zerolinewidth\": 2}}}, \"xaxis\": {\"anchor\": \"y\", \"domain\": [0.0, 0.94]}, \"yaxis\": {\"anchor\": \"x\", \"domain\": [0.0, 1.0]}, \"yaxis2\": {\"anchor\": \"x\", \"overlaying\": \"y\", \"side\": \"right\"}},                        {\"responsive\": true}                    ).then(function(){\n",
              "                            \n",
              "var gd = document.getElementById('3328344b-bfcb-4891-b9a1-54a0e466a5a2');\n",
              "var x = new MutationObserver(function (mutations, observer) {{\n",
              "        var display = window.getComputedStyle(gd).display;\n",
              "        if (!display || display === 'none') {{\n",
              "            console.log([gd, 'removed!']);\n",
              "            Plotly.purge(gd);\n",
              "            observer.disconnect();\n",
              "        }}\n",
              "}});\n",
              "\n",
              "// Listen for the removal of the full notebook cells\n",
              "var notebookContainer = gd.closest('#notebook-container');\n",
              "if (notebookContainer) {{\n",
              "    x.observe(notebookContainer, {childList: true});\n",
              "}}\n",
              "\n",
              "// Listen for the clearing of the current output cell\n",
              "var outputEl = gd.closest('.output');\n",
              "if (outputEl) {{\n",
              "    x.observe(outputEl, {childList: true});\n",
              "}}\n",
              "\n",
              "                        })                };                            </script>        </div>\n",
              "</body>\n",
              "</html>"
            ]
          },
          "metadata": {
            "tags": []
          }
        }
      ]
    },
    {
      "cell_type": "markdown",
      "metadata": {
        "id": "TBaeUuqQS9no"
      },
      "source": [
        "SNIPPET 4.11 IMPLEMENTATION OF TIME-DECAY FACTORS\n",
        "\n",
        "apply piecewise-linear decay to observed uniqueness (tW)\n",
        "* clfLastW = 1: no time decay\n",
        "* 0 <= clfLastW <= 1: weights decay linearly over time, but every obersevation still receives a strictly positive weight\n",
        "  - c = 0: weights converge linearly to 0 as they become older\n",
        "  - c < 0: the oldest portion cT of the observations receive 0 weight\n",
        "  - c > 1: weights increase as they get older"
      ]
    },
    {
      "cell_type": "code",
      "metadata": {
        "id": "N_FnnjW_TChl"
      },
      "source": [
        "def getTimeDecay(tW, clfLastW = 1.):\n",
        "    # newest observation gets weight=1, oldest observation gets weight=clfLastW\n",
        "    clfW = tW.sort_index().cumsum() # cumulative sum of the observed uniqueness\n",
        "    if clfLastW >= 0: # if 0 <= clfLastW <= 1\n",
        "        slope = (1. - clfLastW) / clfW.iloc[-1]\n",
        "    else: # if -1 < clfLastW < 0\n",
        "        slope=1. / ((clfLastW + 1) * clfW.iloc[-1])\n",
        "    const = 1. - slope * clfW.iloc[-1]\n",
        "    clfW = const + slope * clfW\n",
        "    clfW[clfW < 0] = 0 # neg weight -> 0\n",
        "    print(const, slope)\n",
        "    return clfW"
      ],
      "execution_count": null,
      "outputs": []
    },
    {
      "cell_type": "code",
      "metadata": {
        "colab": {
          "base_uri": "https://localhost:8080/",
          "height": 888
        },
        "id": "7V3HLY0u_bvr",
        "outputId": "ea1165e9-596d-4e1c-bcb9-03ec4a881e23"
      },
      "source": [
        "fig = go.Figure()\n",
        "for i in range(-9,11):\n",
        "  temp = getTimeDecay(out['tW'], clfLastW = i/10)\n",
        "  fig.add_trace(go.Scatter(x=temp.index, y=temp, name=\"clfLastW_{}\".format(i/10)))\n",
        "fig.show()"
      ],
      "execution_count": null,
      "outputs": [
        {
          "output_type": "stream",
          "text": [
            "-9.000000000000002 0.3618676310177278\n",
            "-4.000000000000001 0.1809338155088639\n",
            "-2.333333333333333 0.1206225436725759\n",
            "-1.5 0.09046690775443192\n",
            "-0.9999999999999998 0.07237352620354554\n",
            "-0.6666666666666665 0.06031127183628795\n",
            "-0.4285714285714286 0.05169537585967539\n",
            "-0.25 0.04523345387721596\n",
            "-0.11111111111111094 0.040207514557525297\n",
            "1.1102230246251565e-16 0.03618676310177277\n",
            "0.09999999999999998 0.032568086791595494\n",
            "0.19999999999999996 0.02894941048141822\n",
            "0.30000000000000004 0.02533073417124094\n",
            "0.4 0.02171205786106366\n",
            "0.5 0.018093381550886384\n",
            "0.6 0.01447470524070911\n",
            "0.7 0.010856028930531832\n",
            "0.8 0.007237352620354552\n",
            "0.9 0.003618676310177276\n",
            "1.0 0.0\n"
          ],
          "name": "stdout"
        },
        {
          "output_type": "display_data",
          "data": {
            "text/html": [
              "<html>\n",
              "<head><meta charset=\"utf-8\" /></head>\n",
              "<body>\n",
              "    <div>            <script src=\"https://cdnjs.cloudflare.com/ajax/libs/mathjax/2.7.5/MathJax.js?config=TeX-AMS-MML_SVG\"></script><script type=\"text/javascript\">if (window.MathJax) {MathJax.Hub.Config({SVG: {font: \"STIX-Web\"}});}</script>                <script type=\"text/javascript\">window.PlotlyConfig = {MathJaxConfig: 'local'};</script>\n",
              "        <script src=\"https://cdn.plot.ly/plotly-latest.min.js\"></script>                <div id=\"64790b0e-c5d6-481e-a8b5-fda855a97f6f\" class=\"plotly-graph-div\" style=\"height:525px; width:100%;\"></div>            <script type=\"text/javascript\">                                    window.PLOTLYENV=window.PLOTLYENV || {};                                    if (document.getElementById(\"64790b0e-c5d6-481e-a8b5-fda855a97f6f\")) {                    Plotly.newPlot(                        \"64790b0e-c5d6-481e-a8b5-fda855a97f6f\",                        [{\"name\": \"clfLastW_-0.9\", \"type\": \"scatter\", \"x\": [\"2020-01-31T00:00:00\", \"2020-02-12T00:00:00\", \"2020-02-24T00:00:00\", \"2020-02-26T00:00:00\", \"2020-02-27T00:00:00\", \"2020-03-02T00:00:00\", \"2020-03-06T00:00:00\", \"2020-03-09T00:00:00\", \"2020-03-11T00:00:00\", \"2020-03-12T00:00:00\", \"2020-03-13T00:00:00\", \"2020-03-16T00:00:00\", \"2020-03-17T00:00:00\", \"2020-03-18T00:00:00\", \"2020-03-23T00:00:00\", \"2020-03-24T00:00:00\", \"2020-03-26T00:00:00\", \"2020-04-01T00:00:00\", \"2020-04-06T00:00:00\", \"2020-04-09T00:00:00\", \"2020-04-27T00:00:00\", \"2020-05-01T00:00:00\", \"2020-05-13T00:00:00\", \"2020-05-18T00:00:00\", \"2020-05-27T00:00:00\", \"2020-06-05T00:00:00\", \"2020-06-11T00:00:00\", \"2020-06-24T00:00:00\", \"2020-07-14T00:00:00\", \"2020-08-10T00:00:00\", \"2020-09-21T00:00:00\", \"2020-10-05T00:00:00\", \"2020-10-28T00:00:00\", \"2020-11-05T00:00:00\", \"2020-11-10T00:00:00\", \"2020-11-24T00:00:00\"], \"y\": [0.0, 0.0, 0.0, 0.0, 0.0, 0.0, 0.0, 0.0, 0.0, 0.0, 0.0, 0.0, 0.0, 0.0, 0.0, 0.0, 0.0, 0.0, 0.0, 0.0, 0.0, 0.0, 0.0, 0.0, 0.0, 0.0, 0.0, 0.0, 0.0, 0.0, 0.0, 0.0, 0.0, 0.3056371106120874, 0.6510562129471911, 1.0]}, {\"name\": \"clfLastW_-0.8\", \"type\": \"scatter\", \"x\": [\"2020-01-31T00:00:00\", \"2020-02-12T00:00:00\", \"2020-02-24T00:00:00\", \"2020-02-26T00:00:00\", \"2020-02-27T00:00:00\", \"2020-03-02T00:00:00\", \"2020-03-06T00:00:00\", \"2020-03-09T00:00:00\", \"2020-03-11T00:00:00\", \"2020-03-12T00:00:00\", \"2020-03-13T00:00:00\", \"2020-03-16T00:00:00\", \"2020-03-17T00:00:00\", \"2020-03-18T00:00:00\", \"2020-03-23T00:00:00\", \"2020-03-24T00:00:00\", \"2020-03-26T00:00:00\", \"2020-04-01T00:00:00\", \"2020-04-06T00:00:00\", \"2020-04-09T00:00:00\", \"2020-04-27T00:00:00\", \"2020-05-01T00:00:00\", \"2020-05-13T00:00:00\", \"2020-05-18T00:00:00\", \"2020-05-27T00:00:00\", \"2020-06-05T00:00:00\", \"2020-06-11T00:00:00\", \"2020-06-24T00:00:00\", \"2020-07-14T00:00:00\", \"2020-08-10T00:00:00\", \"2020-09-21T00:00:00\", \"2020-10-05T00:00:00\", \"2020-10-28T00:00:00\", \"2020-11-05T00:00:00\", \"2020-11-10T00:00:00\", \"2020-11-24T00:00:00\"], \"y\": [0.0, 0.0, 0.0, 0.0, 0.0, 0.0, 0.0, 0.0, 0.0, 0.0, 0.0, 0.0, 0.0, 0.0, 0.0, 0.0, 0.0, 0.0, 0.0, 0.0, 0.0, 0.0, 0.0, 0.0, 0.0, 0.0, 0.0, 0.0, 0.0, 0.0, 0.11001710877945214, 0.2909509242883157, 0.47188473979718015, 0.6528185553060437, 0.8255281064735955, 1.0]}, {\"name\": \"clfLastW_-0.7\", \"type\": \"scatter\", \"x\": [\"2020-01-31T00:00:00\", \"2020-02-12T00:00:00\", \"2020-02-24T00:00:00\", \"2020-02-26T00:00:00\", \"2020-02-27T00:00:00\", \"2020-03-02T00:00:00\", \"2020-03-06T00:00:00\", \"2020-03-09T00:00:00\", \"2020-03-11T00:00:00\", \"2020-03-12T00:00:00\", \"2020-03-13T00:00:00\", \"2020-03-16T00:00:00\", \"2020-03-17T00:00:00\", \"2020-03-18T00:00:00\", \"2020-03-23T00:00:00\", \"2020-03-24T00:00:00\", \"2020-03-26T00:00:00\", \"2020-04-01T00:00:00\", \"2020-04-06T00:00:00\", \"2020-04-09T00:00:00\", \"2020-04-27T00:00:00\", \"2020-05-01T00:00:00\", \"2020-05-13T00:00:00\", \"2020-05-18T00:00:00\", \"2020-05-27T00:00:00\", \"2020-06-05T00:00:00\", \"2020-06-11T00:00:00\", \"2020-06-24T00:00:00\", \"2020-07-14T00:00:00\", \"2020-08-10T00:00:00\", \"2020-09-21T00:00:00\", \"2020-10-05T00:00:00\", \"2020-10-28T00:00:00\", \"2020-11-05T00:00:00\", \"2020-11-10T00:00:00\", \"2020-11-24T00:00:00\"], \"y\": [0.0, 0.0, 0.0, 0.0, 0.0, 0.0, 0.0, 0.0, 0.0, 0.0, 0.0, 0.0, 0.0, 0.0, 0.0, 0.0, 0.0, 0.0, 0.0, 0.0, 0.0, 0.0, 0.0, 0.0, 0.0, 0.0, 0.0, 0.053426337478520214, 0.16543298517448335, 0.2860555288470592, 0.40667807251963506, 0.5273006161922109, 0.6479231598647868, 0.7685457035373626, 0.8836854043157305, 1.0]}, {\"name\": \"clfLastW_-0.6\", \"type\": \"scatter\", \"x\": [\"2020-01-31T00:00:00\", \"2020-02-12T00:00:00\", \"2020-02-24T00:00:00\", \"2020-02-26T00:00:00\", \"2020-02-27T00:00:00\", \"2020-03-02T00:00:00\", \"2020-03-06T00:00:00\", \"2020-03-09T00:00:00\", \"2020-03-11T00:00:00\", \"2020-03-12T00:00:00\", \"2020-03-13T00:00:00\", \"2020-03-16T00:00:00\", \"2020-03-17T00:00:00\", \"2020-03-18T00:00:00\", \"2020-03-23T00:00:00\", \"2020-03-24T00:00:00\", \"2020-03-26T00:00:00\", \"2020-04-01T00:00:00\", \"2020-04-06T00:00:00\", \"2020-04-09T00:00:00\", \"2020-04-27T00:00:00\", \"2020-05-01T00:00:00\", \"2020-05-13T00:00:00\", \"2020-05-18T00:00:00\", \"2020-05-27T00:00:00\", \"2020-06-05T00:00:00\", \"2020-06-11T00:00:00\", \"2020-06-24T00:00:00\", \"2020-07-14T00:00:00\", \"2020-08-10T00:00:00\", \"2020-09-21T00:00:00\", \"2020-10-05T00:00:00\", \"2020-10-28T00:00:00\", \"2020-11-05T00:00:00\", \"2020-11-10T00:00:00\", \"2020-11-24T00:00:00\"], \"y\": [0.0, 0.0, 0.0, 0.0, 0.0, 0.0, 0.0, 0.0, 0.0, 0.0, 0.0, 0.0, 0.0, 0.0, 0.0, 0.0, 0.0, 0.0, 0.0, 0.0, 0.0, 0.0, 0.0, 0.0, 0.04250358054243497, 0.12392379752142357, 0.2030823418065515, 0.2900697531088898, 0.37407473888086207, 0.46454164663529407, 0.5550085543897261, 0.6454754621441579, 0.7359423698985896, 0.8264092776530219, 0.9127640532367973, 1.0]}, {\"name\": \"clfLastW_-0.5\", \"type\": \"scatter\", \"x\": [\"2020-01-31T00:00:00\", \"2020-02-12T00:00:00\", \"2020-02-24T00:00:00\", \"2020-02-26T00:00:00\", \"2020-02-27T00:00:00\", \"2020-03-02T00:00:00\", \"2020-03-06T00:00:00\", \"2020-03-09T00:00:00\", \"2020-03-11T00:00:00\", \"2020-03-12T00:00:00\", \"2020-03-13T00:00:00\", \"2020-03-16T00:00:00\", \"2020-03-17T00:00:00\", \"2020-03-18T00:00:00\", \"2020-03-23T00:00:00\", \"2020-03-24T00:00:00\", \"2020-03-26T00:00:00\", \"2020-04-01T00:00:00\", \"2020-04-06T00:00:00\", \"2020-04-09T00:00:00\", \"2020-04-27T00:00:00\", \"2020-05-01T00:00:00\", \"2020-05-13T00:00:00\", \"2020-05-18T00:00:00\", \"2020-05-27T00:00:00\", \"2020-06-05T00:00:00\", \"2020-06-11T00:00:00\", \"2020-06-24T00:00:00\", \"2020-07-14T00:00:00\", \"2020-08-10T00:00:00\", \"2020-09-21T00:00:00\", \"2020-10-05T00:00:00\", \"2020-10-28T00:00:00\", \"2020-11-05T00:00:00\", \"2020-11-10T00:00:00\", \"2020-11-24T00:00:00\"], \"y\": [0.0, 0.0, 0.0, 0.0, 0.0, 0.0, 0.0, 0.0, 0.0, 0.0, 0.0, 0.0, 0.0, 0.0, 0.0, 0.0, 0.0, 0.0, 0.0, 0.03252897383724984, 0.0677878712184643, 0.10246685252432997, 0.13262248844247382, 0.16679887581637032, 0.23400286443394824, 0.29913903801713904, 0.3624658734452415, 0.43205580248711195, 0.4992597911046899, 0.5716333173082355, 0.644006843511781, 0.7163803697153266, 0.788753895918872, 0.8611274221224177, 0.9302112425894382, 1.0]}, {\"name\": \"clfLastW_-0.4\", \"type\": \"scatter\", \"x\": [\"2020-01-31T00:00:00\", \"2020-02-12T00:00:00\", \"2020-02-24T00:00:00\", \"2020-02-26T00:00:00\", \"2020-02-27T00:00:00\", \"2020-03-02T00:00:00\", \"2020-03-06T00:00:00\", \"2020-03-09T00:00:00\", \"2020-03-11T00:00:00\", \"2020-03-12T00:00:00\", \"2020-03-13T00:00:00\", \"2020-03-16T00:00:00\", \"2020-03-17T00:00:00\", \"2020-03-18T00:00:00\", \"2020-03-23T00:00:00\", \"2020-03-24T00:00:00\", \"2020-03-26T00:00:00\", \"2020-04-01T00:00:00\", \"2020-04-06T00:00:00\", \"2020-04-09T00:00:00\", \"2020-04-27T00:00:00\", \"2020-05-01T00:00:00\", \"2020-05-13T00:00:00\", \"2020-05-18T00:00:00\", \"2020-05-27T00:00:00\", \"2020-06-05T00:00:00\", \"2020-06-11T00:00:00\", \"2020-06-24T00:00:00\", \"2020-07-14T00:00:00\", \"2020-08-10T00:00:00\", \"2020-09-21T00:00:00\", \"2020-10-05T00:00:00\", \"2020-10-28T00:00:00\", \"2020-11-05T00:00:00\", \"2020-11-10T00:00:00\", \"2020-11-24T00:00:00\"], \"y\": [0.0, 0.0, 0.0, 0.0, 0.0, 0.0, 0.0, 0.0, 0.0, 0.0, 0.0, 0.0, 0.0, 0.0, 0.0, 0.00551681777539037, 0.0537658352444208, 0.09899928912163669, 0.1442327429988527, 0.19377414486437494, 0.22315655934872036, 0.25205571043694164, 0.27718540703539485, 0.30566572984697526, 0.36166905369495694, 0.415949198347616, 0.4687215612043678, 0.5267131687392601, 0.5827164925872417, 0.6430277644235296, 0.7033390362598175, 0.7636503080961055, 0.8239615799323934, 0.8842728517686813, 0.9418427021578653, 1.0]}, {\"name\": \"clfLastW_-0.3\", \"type\": \"scatter\", \"x\": [\"2020-01-31T00:00:00\", \"2020-02-12T00:00:00\", \"2020-02-24T00:00:00\", \"2020-02-26T00:00:00\", \"2020-02-27T00:00:00\", \"2020-03-02T00:00:00\", \"2020-03-06T00:00:00\", \"2020-03-09T00:00:00\", \"2020-03-11T00:00:00\", \"2020-03-12T00:00:00\", \"2020-03-13T00:00:00\", \"2020-03-16T00:00:00\", \"2020-03-17T00:00:00\", \"2020-03-18T00:00:00\", \"2020-03-23T00:00:00\", \"2020-03-24T00:00:00\", \"2020-03-26T00:00:00\", \"2020-04-01T00:00:00\", \"2020-04-06T00:00:00\", \"2020-04-09T00:00:00\", \"2020-04-27T00:00:00\", \"2020-05-01T00:00:00\", \"2020-05-13T00:00:00\", \"2020-05-18T00:00:00\", \"2020-05-27T00:00:00\", \"2020-06-05T00:00:00\", \"2020-06-11T00:00:00\", \"2020-06-24T00:00:00\", \"2020-07-14T00:00:00\", \"2020-08-10T00:00:00\", \"2020-09-21T00:00:00\", \"2020-10-05T00:00:00\", \"2020-10-28T00:00:00\", \"2020-11-05T00:00:00\", \"2020-11-10T00:00:00\", \"2020-11-24T00:00:00\"], \"y\": [0.0, 0.0, 0.0, 0.0, 0.0, 0.0, 0.0, 0.0, 0.0, 0.0, 0.0, 0.005423560193370036, 0.03127124812320775, 0.07435072800627063, 0.11312225990102709, 0.1475858438074773, 0.18894214449521773, 0.2277136763899742, 0.26648520828473077, 0.30894926702660697, 0.33413419372747444, 0.35890489466023556, 0.3804446346017669, 0.40485633986883585, 0.45285918888139143, 0.49938502715509925, 0.5446184810323152, 0.5943255732050798, 0.6423284222176355, 0.694023798077311, 0.7457191739369864, 0.7974145497966618, 0.849109925656337, 0.9008053015160125, 0.9501508875638844, 1.0]}, {\"name\": \"clfLastW_-0.2\", \"type\": \"scatter\", \"x\": [\"2020-01-31T00:00:00\", \"2020-02-12T00:00:00\", \"2020-02-24T00:00:00\", \"2020-02-26T00:00:00\", \"2020-02-27T00:00:00\", \"2020-03-02T00:00:00\", \"2020-03-06T00:00:00\", \"2020-03-09T00:00:00\", \"2020-03-11T00:00:00\", \"2020-03-12T00:00:00\", \"2020-03-13T00:00:00\", \"2020-03-16T00:00:00\", \"2020-03-17T00:00:00\", \"2020-03-18T00:00:00\", \"2020-03-23T00:00:00\", \"2020-03-24T00:00:00\", \"2020-03-26T00:00:00\", \"2020-04-01T00:00:00\", \"2020-04-06T00:00:00\", \"2020-04-09T00:00:00\", \"2020-04-27T00:00:00\", \"2020-05-01T00:00:00\", \"2020-05-13T00:00:00\", \"2020-05-18T00:00:00\", \"2020-05-27T00:00:00\", \"2020-06-05T00:00:00\", \"2020-06-11T00:00:00\", \"2020-06-24T00:00:00\", \"2020-07-14T00:00:00\", \"2020-08-10T00:00:00\", \"2020-09-21T00:00:00\", \"2020-10-05T00:00:00\", \"2020-10-28T00:00:00\", \"2020-11-05T00:00:00\", \"2020-11-10T00:00:00\", \"2020-11-24T00:00:00\"], \"y\": [0.0, 0.0, 0.0, 0.0, 0.0, 0.0, 0.0, 0.027970343945462828, 0.0618954343533748, 0.0845121612919828, 0.1071288882305908, 0.12974561516919875, 0.15236234210780675, 0.19005688700548673, 0.2239819774133987, 0.2541376133315426, 0.29032437643331543, 0.32424946684122746, 0.3581745572491394, 0.39533060864828107, 0.4173674195115401, 0.4390417828277061, 0.457889055276546, 0.47924929738523125, 0.5212517902712175, 0.5619618987607118, 0.6015411709032757, 0.6450348765544449, 0.687037369440431, 0.732270823317647, 0.777504277194863, 0.8227377310720789, 0.8679711849492948, 0.9132046388265109, 0.9563820266183987, 1.0]}, {\"name\": \"clfLastW_-0.1\", \"type\": \"scatter\", \"x\": [\"2020-01-31T00:00:00\", \"2020-02-12T00:00:00\", \"2020-02-24T00:00:00\", \"2020-02-26T00:00:00\", \"2020-02-27T00:00:00\", \"2020-03-02T00:00:00\", \"2020-03-06T00:00:00\", \"2020-03-09T00:00:00\", \"2020-03-11T00:00:00\", \"2020-03-12T00:00:00\", \"2020-03-13T00:00:00\", \"2020-03-16T00:00:00\", \"2020-03-17T00:00:00\", \"2020-03-18T00:00:00\", \"2020-03-23T00:00:00\", \"2020-03-24T00:00:00\", \"2020-03-26T00:00:00\", \"2020-04-01T00:00:00\", \"2020-04-06T00:00:00\", \"2020-04-09T00:00:00\", \"2020-04-27T00:00:00\", \"2020-05-01T00:00:00\", \"2020-05-13T00:00:00\", \"2020-05-18T00:00:00\", \"2020-05-27T00:00:00\", \"2020-06-05T00:00:00\", \"2020-06-11T00:00:00\", \"2020-06-24T00:00:00\", \"2020-07-14T00:00:00\", \"2020-08-10T00:00:00\", \"2020-09-21T00:00:00\", \"2020-10-05T00:00:00\", \"2020-10-28T00:00:00\", \"2020-11-05T00:00:00\", \"2020-11-10T00:00:00\", \"2020-11-24T00:00:00\"], \"y\": [0.0, 0.0, 0.0, 0.026743224514690078, 0.053548234219706975, 0.0857142458657272, 0.10581800314448983, 0.13597363906263382, 0.16612927498077779, 0.1862330322595404, 0.2063367895383031, 0.2264405468170657, 0.2465443040958284, 0.2800505662270995, 0.31020620214524347, 0.3370112118502603, 0.36917722349628057, 0.39933285941442453, 0.4294884953325685, 0.46251609657625004, 0.482104372899147, 0.5013704736246278, 0.5181236046902633, 0.5371104865646502, 0.5744460357966379, 0.6106327988984106, 0.6458143741362453, 0.6844754458261734, 0.721810995058161, 0.7620185096156864, 0.8022260241732116, 0.842433538730737, 0.8826410532882623, 0.9228485678457876, 0.9612284681052434, 1.0]}, {\"name\": \"clfLastW_0.0\", \"type\": \"scatter\", \"x\": [\"2020-01-31T00:00:00\", \"2020-02-12T00:00:00\", \"2020-02-24T00:00:00\", \"2020-02-26T00:00:00\", \"2020-02-27T00:00:00\", \"2020-03-02T00:00:00\", \"2020-03-06T00:00:00\", \"2020-03-09T00:00:00\", \"2020-03-11T00:00:00\", \"2020-03-12T00:00:00\", \"2020-03-13T00:00:00\", \"2020-03-16T00:00:00\", \"2020-03-17T00:00:00\", \"2020-03-18T00:00:00\", \"2020-03-23T00:00:00\", \"2020-03-24T00:00:00\", \"2020-03-26T00:00:00\", \"2020-04-01T00:00:00\", \"2020-04-06T00:00:00\", \"2020-04-09T00:00:00\", \"2020-04-27T00:00:00\", \"2020-05-01T00:00:00\", \"2020-05-13T00:00:00\", \"2020-05-18T00:00:00\", \"2020-05-27T00:00:00\", \"2020-06-05T00:00:00\", \"2020-06-11T00:00:00\", \"2020-06-24T00:00:00\", \"2020-07-14T00:00:00\", \"2020-08-10T00:00:00\", \"2020-09-21T00:00:00\", \"2020-10-05T00:00:00\", \"2020-10-28T00:00:00\", \"2020-11-05T00:00:00\", \"2020-11-10T00:00:00\", \"2020-11-24T00:00:00\"], \"y\": [0.03618676310177288, 0.06978875741056188, 0.09692882973689146, 0.12406890206322103, 0.14819341079773624, 0.17714282127915443, 0.1952362028300408, 0.2223762751563704, 0.24951634748269996, 0.2676097290335864, 0.28570311058447273, 0.30379649213535914, 0.3218898736862455, 0.3520455096043895, 0.37918558193071905, 0.4033100906652342, 0.43225950114665246, 0.45939957347298205, 0.48653964579931164, 0.5162644869186249, 0.5338939356092322, 0.551233426262165, 0.5663112442212369, 0.5833994379081852, 0.6170014322169741, 0.6495695190085695, 0.6812329367226208, 0.716027901243556, 0.7496298955523449, 0.7858166586541178, 0.8220034217558905, 0.8581901848576633, 0.894376947959436, 0.9305637110612088, 0.9651056212947191, 1.0]}, {\"name\": \"clfLastW_0.1\", \"type\": \"scatter\", \"x\": [\"2020-01-31T00:00:00\", \"2020-02-12T00:00:00\", \"2020-02-24T00:00:00\", \"2020-02-26T00:00:00\", \"2020-02-27T00:00:00\", \"2020-03-02T00:00:00\", \"2020-03-06T00:00:00\", \"2020-03-09T00:00:00\", \"2020-03-11T00:00:00\", \"2020-03-12T00:00:00\", \"2020-03-13T00:00:00\", \"2020-03-16T00:00:00\", \"2020-03-17T00:00:00\", \"2020-03-18T00:00:00\", \"2020-03-23T00:00:00\", \"2020-03-24T00:00:00\", \"2020-03-26T00:00:00\", \"2020-04-01T00:00:00\", \"2020-04-06T00:00:00\", \"2020-04-09T00:00:00\", \"2020-04-27T00:00:00\", \"2020-05-01T00:00:00\", \"2020-05-13T00:00:00\", \"2020-05-18T00:00:00\", \"2020-05-27T00:00:00\", \"2020-06-05T00:00:00\", \"2020-06-11T00:00:00\", \"2020-06-24T00:00:00\", \"2020-07-14T00:00:00\", \"2020-08-10T00:00:00\", \"2020-09-21T00:00:00\", \"2020-10-05T00:00:00\", \"2020-10-28T00:00:00\", \"2020-11-05T00:00:00\", \"2020-11-10T00:00:00\", \"2020-11-24T00:00:00\"], \"y\": [0.13256808679159549, 0.16280988166950558, 0.1872359467632022, 0.2116620118568988, 0.23337406971796248, 0.25942853915123887, 0.2757125825470366, 0.3001386476407333, 0.3245647127344299, 0.3408487561302276, 0.3571327995260254, 0.3734168429218231, 0.38970088631762084, 0.41684095864395043, 0.4412670237376471, 0.4629790815987107, 0.48903355103198715, 0.5134596161256837, 0.5378856812193804, 0.5646380382267624, 0.5805045420483089, 0.5961100836359484, 0.6096801197991132, 0.6250594941173666, 0.6553012889952766, 0.6846125671077126, 0.7131096430503586, 0.7444251111192003, 0.7746669059971104, 0.8072349927887059, 0.8398030795803014, 0.8723711663718968, 0.9049392531634923, 0.9375073399550878, 0.9685950591652471, 1.0]}, {\"name\": \"clfLastW_0.2\", \"type\": \"scatter\", \"x\": [\"2020-01-31T00:00:00\", \"2020-02-12T00:00:00\", \"2020-02-24T00:00:00\", \"2020-02-26T00:00:00\", \"2020-02-27T00:00:00\", \"2020-03-02T00:00:00\", \"2020-03-06T00:00:00\", \"2020-03-09T00:00:00\", \"2020-03-11T00:00:00\", \"2020-03-12T00:00:00\", \"2020-03-13T00:00:00\", \"2020-03-16T00:00:00\", \"2020-03-17T00:00:00\", \"2020-03-18T00:00:00\", \"2020-03-23T00:00:00\", \"2020-03-24T00:00:00\", \"2020-03-26T00:00:00\", \"2020-04-01T00:00:00\", \"2020-04-06T00:00:00\", \"2020-04-09T00:00:00\", \"2020-04-27T00:00:00\", \"2020-05-01T00:00:00\", \"2020-05-13T00:00:00\", \"2020-05-18T00:00:00\", \"2020-05-27T00:00:00\", \"2020-06-05T00:00:00\", \"2020-06-11T00:00:00\", \"2020-06-24T00:00:00\", \"2020-07-14T00:00:00\", \"2020-08-10T00:00:00\", \"2020-09-21T00:00:00\", \"2020-10-05T00:00:00\", \"2020-10-28T00:00:00\", \"2020-11-05T00:00:00\", \"2020-11-10T00:00:00\", \"2020-11-24T00:00:00\"], \"y\": [0.22894941048141818, 0.2558310059284494, 0.27754306378951304, 0.2992551216505767, 0.3185547286381889, 0.3417142570233235, 0.3561889622640325, 0.3779010201250962, 0.39961307798615986, 0.414087783226869, 0.4285624884675781, 0.4430371937082872, 0.4575118989489963, 0.4816364076835115, 0.5033484655445752, 0.5226480725321874, 0.5458076009173218, 0.5675196587783855, 0.5892317166394492, 0.6130115895349, 0.6271151484873857, 0.6409867410097319, 0.6530489953769896, 0.6667195503265481, 0.6936011457735792, 0.7196556152068556, 0.7449863493780965, 0.7728223209948448, 0.799703916441876, 0.8286533269232942, 0.8576027374047124, 0.8865521478861306, 0.9155015583675489, 0.9444509688489671, 0.9720844970357753, 1.0]}, {\"name\": \"clfLastW_0.3\", \"type\": \"scatter\", \"x\": [\"2020-01-31T00:00:00\", \"2020-02-12T00:00:00\", \"2020-02-24T00:00:00\", \"2020-02-26T00:00:00\", \"2020-02-27T00:00:00\", \"2020-03-02T00:00:00\", \"2020-03-06T00:00:00\", \"2020-03-09T00:00:00\", \"2020-03-11T00:00:00\", \"2020-03-12T00:00:00\", \"2020-03-13T00:00:00\", \"2020-03-16T00:00:00\", \"2020-03-17T00:00:00\", \"2020-03-18T00:00:00\", \"2020-03-23T00:00:00\", \"2020-03-24T00:00:00\", \"2020-03-26T00:00:00\", \"2020-04-01T00:00:00\", \"2020-04-06T00:00:00\", \"2020-04-09T00:00:00\", \"2020-04-27T00:00:00\", \"2020-05-01T00:00:00\", \"2020-05-13T00:00:00\", \"2020-05-18T00:00:00\", \"2020-05-27T00:00:00\", \"2020-06-05T00:00:00\", \"2020-06-11T00:00:00\", \"2020-06-24T00:00:00\", \"2020-07-14T00:00:00\", \"2020-08-10T00:00:00\", \"2020-09-21T00:00:00\", \"2020-10-05T00:00:00\", \"2020-10-28T00:00:00\", \"2020-11-05T00:00:00\", \"2020-11-10T00:00:00\", \"2020-11-24T00:00:00\"], \"y\": [0.325330734171241, 0.3488521301873933, 0.367850180815824, 0.38684823144425473, 0.4037353875584153, 0.4239999748954081, 0.4366653419810286, 0.45566339260945926, 0.47466144323788995, 0.48732681032351044, 0.49999217740913093, 0.5126575444947514, 0.5253229115803718, 0.5464318567230726, 0.5654299073515033, 0.5823170634656639, 0.6025816508026567, 0.6215797014310874, 0.6405777520595182, 0.6613851408430375, 0.6737257549264626, 0.6858633983835154, 0.6964178709548658, 0.7083796065357296, 0.7319010025518818, 0.7546986633059987, 0.7768630557058345, 0.8012195308704892, 0.8247409268866415, 0.8500716610578823, 0.8754023952291233, 0.9007331294003643, 0.9260638635716052, 0.9513945977428462, 0.9755739349063034, 1.0]}, {\"name\": \"clfLastW_0.4\", \"type\": \"scatter\", \"x\": [\"2020-01-31T00:00:00\", \"2020-02-12T00:00:00\", \"2020-02-24T00:00:00\", \"2020-02-26T00:00:00\", \"2020-02-27T00:00:00\", \"2020-03-02T00:00:00\", \"2020-03-06T00:00:00\", \"2020-03-09T00:00:00\", \"2020-03-11T00:00:00\", \"2020-03-12T00:00:00\", \"2020-03-13T00:00:00\", \"2020-03-16T00:00:00\", \"2020-03-17T00:00:00\", \"2020-03-18T00:00:00\", \"2020-03-23T00:00:00\", \"2020-03-24T00:00:00\", \"2020-03-26T00:00:00\", \"2020-04-01T00:00:00\", \"2020-04-06T00:00:00\", \"2020-04-09T00:00:00\", \"2020-04-27T00:00:00\", \"2020-05-01T00:00:00\", \"2020-05-13T00:00:00\", \"2020-05-18T00:00:00\", \"2020-05-27T00:00:00\", \"2020-06-05T00:00:00\", \"2020-06-11T00:00:00\", \"2020-06-24T00:00:00\", \"2020-07-14T00:00:00\", \"2020-08-10T00:00:00\", \"2020-09-21T00:00:00\", \"2020-10-05T00:00:00\", \"2020-10-28T00:00:00\", \"2020-11-05T00:00:00\", \"2020-11-10T00:00:00\", \"2020-11-24T00:00:00\"], \"y\": [0.4217120578610637, 0.44187325444633707, 0.4581572978421348, 0.4744413412379326, 0.4889160464786417, 0.5062856927674926, 0.5171417216980244, 0.5334257650938222, 0.5497098084896199, 0.5605658374201518, 0.5714218663506836, 0.5822778952812154, 0.5931339242117473, 0.6112273057626336, 0.6275113491584314, 0.6419860543991405, 0.6593557006879914, 0.6756397440837891, 0.6919237874795869, 0.7097586921511749, 0.7203363613655394, 0.730740055757299, 0.7397867465327421, 0.7500396627449111, 0.7702008593301845, 0.7897417114051417, 0.8087397620335723, 0.8296167407461336, 0.8497779373314069, 0.8714899951924706, 0.8932020530535343, 0.914914110914598, 0.9366261687756616, 0.9583382266367253, 0.9790633727768314, 1.0]}, {\"name\": \"clfLastW_0.5\", \"type\": \"scatter\", \"x\": [\"2020-01-31T00:00:00\", \"2020-02-12T00:00:00\", \"2020-02-24T00:00:00\", \"2020-02-26T00:00:00\", \"2020-02-27T00:00:00\", \"2020-03-02T00:00:00\", \"2020-03-06T00:00:00\", \"2020-03-09T00:00:00\", \"2020-03-11T00:00:00\", \"2020-03-12T00:00:00\", \"2020-03-13T00:00:00\", \"2020-03-16T00:00:00\", \"2020-03-17T00:00:00\", \"2020-03-18T00:00:00\", \"2020-03-23T00:00:00\", \"2020-03-24T00:00:00\", \"2020-03-26T00:00:00\", \"2020-04-01T00:00:00\", \"2020-04-06T00:00:00\", \"2020-04-09T00:00:00\", \"2020-04-27T00:00:00\", \"2020-05-01T00:00:00\", \"2020-05-13T00:00:00\", \"2020-05-18T00:00:00\", \"2020-05-27T00:00:00\", \"2020-06-05T00:00:00\", \"2020-06-11T00:00:00\", \"2020-06-24T00:00:00\", \"2020-07-14T00:00:00\", \"2020-08-10T00:00:00\", \"2020-09-21T00:00:00\", \"2020-10-05T00:00:00\", \"2020-10-28T00:00:00\", \"2020-11-05T00:00:00\", \"2020-11-10T00:00:00\", \"2020-11-24T00:00:00\"], \"y\": [0.5180933815508864, 0.5348943787052809, 0.5484644148684457, 0.5620344510316104, 0.574096705398868, 0.5885714106395772, 0.5976181014150204, 0.6111881375781851, 0.6247581737413499, 0.6338048645167931, 0.6428515552922363, 0.6518982460676795, 0.6609449368431227, 0.6760227548021946, 0.6895927909653594, 0.701655045332617, 0.7161297505733262, 0.7296997867364909, 0.7432698228996557, 0.7581322434593124, 0.766946967804616, 0.7756167131310825, 0.7831556221106184, 0.7916997189540925, 0.808500716108487, 0.8247847595042848, 0.8406164683613103, 0.8580139506217779, 0.8748149477761724, 0.8929083293270588, 0.9110017108779451, 0.9290950924288316, 0.947188473979718, 0.9652818555306044, 0.9825528106473596, 1.0]}, {\"name\": \"clfLastW_0.6\", \"type\": \"scatter\", \"x\": [\"2020-01-31T00:00:00\", \"2020-02-12T00:00:00\", \"2020-02-24T00:00:00\", \"2020-02-26T00:00:00\", \"2020-02-27T00:00:00\", \"2020-03-02T00:00:00\", \"2020-03-06T00:00:00\", \"2020-03-09T00:00:00\", \"2020-03-11T00:00:00\", \"2020-03-12T00:00:00\", \"2020-03-13T00:00:00\", \"2020-03-16T00:00:00\", \"2020-03-17T00:00:00\", \"2020-03-18T00:00:00\", \"2020-03-23T00:00:00\", \"2020-03-24T00:00:00\", \"2020-03-26T00:00:00\", \"2020-04-01T00:00:00\", \"2020-04-06T00:00:00\", \"2020-04-09T00:00:00\", \"2020-04-27T00:00:00\", \"2020-05-01T00:00:00\", \"2020-05-13T00:00:00\", \"2020-05-18T00:00:00\", \"2020-05-27T00:00:00\", \"2020-06-05T00:00:00\", \"2020-06-11T00:00:00\", \"2020-06-24T00:00:00\", \"2020-07-14T00:00:00\", \"2020-08-10T00:00:00\", \"2020-09-21T00:00:00\", \"2020-10-05T00:00:00\", \"2020-10-28T00:00:00\", \"2020-11-05T00:00:00\", \"2020-11-10T00:00:00\", \"2020-11-24T00:00:00\"], \"y\": [0.6144747052407091, 0.6279155029642247, 0.6387715318947566, 0.6496275608252884, 0.6592773643190944, 0.6708571285116617, 0.6780944811320163, 0.6889505100625481, 0.69980653899308, 0.7070438916134345, 0.714281244233789, 0.7215185968541435, 0.7287559494744982, 0.7408182038417558, 0.7516742327722876, 0.7613240362660937, 0.7729038004586609, 0.7837598293891928, 0.7946158583197246, 0.80650579476745, 0.8135575742436929, 0.8204933705048659, 0.8265244976884948, 0.833359775163274, 0.8468005728867896, 0.8598278076034278, 0.8724931746890483, 0.8864111604974224, 0.899851958220938, 0.9143266634616471, 0.9288013687023562, 0.9432760739430652, 0.9577507791837745, 0.9722254844244835, 0.9860422485178877, 1.0]}, {\"name\": \"clfLastW_0.7\", \"type\": \"scatter\", \"x\": [\"2020-01-31T00:00:00\", \"2020-02-12T00:00:00\", \"2020-02-24T00:00:00\", \"2020-02-26T00:00:00\", \"2020-02-27T00:00:00\", \"2020-03-02T00:00:00\", \"2020-03-06T00:00:00\", \"2020-03-09T00:00:00\", \"2020-03-11T00:00:00\", \"2020-03-12T00:00:00\", \"2020-03-13T00:00:00\", \"2020-03-16T00:00:00\", \"2020-03-17T00:00:00\", \"2020-03-18T00:00:00\", \"2020-03-23T00:00:00\", \"2020-03-24T00:00:00\", \"2020-03-26T00:00:00\", \"2020-04-01T00:00:00\", \"2020-04-06T00:00:00\", \"2020-04-09T00:00:00\", \"2020-04-27T00:00:00\", \"2020-05-01T00:00:00\", \"2020-05-13T00:00:00\", \"2020-05-18T00:00:00\", \"2020-05-27T00:00:00\", \"2020-06-05T00:00:00\", \"2020-06-11T00:00:00\", \"2020-06-24T00:00:00\", \"2020-07-14T00:00:00\", \"2020-08-10T00:00:00\", \"2020-09-21T00:00:00\", \"2020-10-05T00:00:00\", \"2020-10-28T00:00:00\", \"2020-11-05T00:00:00\", \"2020-11-10T00:00:00\", \"2020-11-24T00:00:00\"], \"y\": [0.7108560289305318, 0.7209366272231685, 0.7290786489210673, 0.7372206706189662, 0.7444580232393208, 0.7531428463837463, 0.7585708608490122, 0.7667128825469111, 0.77485490424481, 0.7802829187100758, 0.7857109331753418, 0.7911389476406077, 0.7965669621058736, 0.8056136528813168, 0.8137556745792156, 0.8209930271995702, 0.8296778503439957, 0.8378198720418946, 0.8459618937397935, 0.8548793460755875, 0.8601681806827697, 0.8653700278786495, 0.8698933732663711, 0.8750198313724555, 0.8851004296650922, 0.8948708557025709, 0.9043698810167862, 0.9148083703730667, 0.9248889686657035, 0.9357449975962353, 0.9466010265267671, 0.957457055457299, 0.9683130843878307, 0.9791691133183626, 0.9895316863884157, 1.0]}, {\"name\": \"clfLastW_0.8\", \"type\": \"scatter\", \"x\": [\"2020-01-31T00:00:00\", \"2020-02-12T00:00:00\", \"2020-02-24T00:00:00\", \"2020-02-26T00:00:00\", \"2020-02-27T00:00:00\", \"2020-03-02T00:00:00\", \"2020-03-06T00:00:00\", \"2020-03-09T00:00:00\", \"2020-03-11T00:00:00\", \"2020-03-12T00:00:00\", \"2020-03-13T00:00:00\", \"2020-03-16T00:00:00\", \"2020-03-17T00:00:00\", \"2020-03-18T00:00:00\", \"2020-03-23T00:00:00\", \"2020-03-24T00:00:00\", \"2020-03-26T00:00:00\", \"2020-04-01T00:00:00\", \"2020-04-06T00:00:00\", \"2020-04-09T00:00:00\", \"2020-04-27T00:00:00\", \"2020-05-01T00:00:00\", \"2020-05-13T00:00:00\", \"2020-05-18T00:00:00\", \"2020-05-27T00:00:00\", \"2020-06-05T00:00:00\", \"2020-06-11T00:00:00\", \"2020-06-24T00:00:00\", \"2020-07-14T00:00:00\", \"2020-08-10T00:00:00\", \"2020-09-21T00:00:00\", \"2020-10-05T00:00:00\", \"2020-10-28T00:00:00\", \"2020-11-05T00:00:00\", \"2020-11-10T00:00:00\", \"2020-11-24T00:00:00\"], \"y\": [0.8072373526203546, 0.8139577514821124, 0.8193857659473783, 0.8248137804126442, 0.8296386821595473, 0.8354285642558309, 0.8390472405660082, 0.8444752550312741, 0.84990326949654, 0.8535219458067173, 0.8571406221168946, 0.8607592984270719, 0.8643779747372491, 0.870409101920878, 0.8758371163861438, 0.8806620181330469, 0.8864519002293305, 0.8918799146945964, 0.8973079291598623, 0.903252897383725, 0.9067787871218465, 0.910246685252433, 0.9132622488442474, 0.916679887581637, 0.9234002864433948, 0.9299139038017139, 0.9362465873445242, 0.9432055802487112, 0.949925979110469, 0.9571633317308236, 0.9644006843511781, 0.9716380369715326, 0.9788753895918871, 0.9861127422122418, 0.9930211242589438, 1.0]}, {\"name\": \"clfLastW_0.9\", \"type\": \"scatter\", \"x\": [\"2020-01-31T00:00:00\", \"2020-02-12T00:00:00\", \"2020-02-24T00:00:00\", \"2020-02-26T00:00:00\", \"2020-02-27T00:00:00\", \"2020-03-02T00:00:00\", \"2020-03-06T00:00:00\", \"2020-03-09T00:00:00\", \"2020-03-11T00:00:00\", \"2020-03-12T00:00:00\", \"2020-03-13T00:00:00\", \"2020-03-16T00:00:00\", \"2020-03-17T00:00:00\", \"2020-03-18T00:00:00\", \"2020-03-23T00:00:00\", \"2020-03-24T00:00:00\", \"2020-03-26T00:00:00\", \"2020-04-01T00:00:00\", \"2020-04-06T00:00:00\", \"2020-04-09T00:00:00\", \"2020-04-27T00:00:00\", \"2020-05-01T00:00:00\", \"2020-05-13T00:00:00\", \"2020-05-18T00:00:00\", \"2020-05-27T00:00:00\", \"2020-06-05T00:00:00\", \"2020-06-11T00:00:00\", \"2020-06-24T00:00:00\", \"2020-07-14T00:00:00\", \"2020-08-10T00:00:00\", \"2020-09-21T00:00:00\", \"2020-10-05T00:00:00\", \"2020-10-28T00:00:00\", \"2020-11-05T00:00:00\", \"2020-11-10T00:00:00\", \"2020-11-24T00:00:00\"], \"y\": [0.9036186763101773, 0.9069788757410562, 0.9096928829736891, 0.9124068902063222, 0.9148193410797736, 0.9177142821279155, 0.919523620283004, 0.9222376275156371, 0.92495163474827, 0.9267609729033587, 0.9285703110584472, 0.9303796492135359, 0.9321889873686245, 0.935204550960439, 0.9379185581930719, 0.9403310090665234, 0.9432259501146653, 0.9459399573472982, 0.9486539645799311, 0.9516264486918625, 0.9533893935609232, 0.9551233426262165, 0.9566311244221237, 0.9583399437908185, 0.9617001432216974, 0.964956951900857, 0.9681232936722621, 0.9716027901243556, 0.9749629895552345, 0.9785816658654117, 0.982200342175589, 0.9858190184857664, 0.9894376947959436, 0.9930563711061209, 0.9965105621294719, 1.0]}, {\"name\": \"clfLastW_1.0\", \"type\": \"scatter\", \"x\": [\"2020-01-31T00:00:00\", \"2020-02-12T00:00:00\", \"2020-02-24T00:00:00\", \"2020-02-26T00:00:00\", \"2020-02-27T00:00:00\", \"2020-03-02T00:00:00\", \"2020-03-06T00:00:00\", \"2020-03-09T00:00:00\", \"2020-03-11T00:00:00\", \"2020-03-12T00:00:00\", \"2020-03-13T00:00:00\", \"2020-03-16T00:00:00\", \"2020-03-17T00:00:00\", \"2020-03-18T00:00:00\", \"2020-03-23T00:00:00\", \"2020-03-24T00:00:00\", \"2020-03-26T00:00:00\", \"2020-04-01T00:00:00\", \"2020-04-06T00:00:00\", \"2020-04-09T00:00:00\", \"2020-04-27T00:00:00\", \"2020-05-01T00:00:00\", \"2020-05-13T00:00:00\", \"2020-05-18T00:00:00\", \"2020-05-27T00:00:00\", \"2020-06-05T00:00:00\", \"2020-06-11T00:00:00\", \"2020-06-24T00:00:00\", \"2020-07-14T00:00:00\", \"2020-08-10T00:00:00\", \"2020-09-21T00:00:00\", \"2020-10-05T00:00:00\", \"2020-10-28T00:00:00\", \"2020-11-05T00:00:00\", \"2020-11-10T00:00:00\", \"2020-11-24T00:00:00\"], \"y\": [1.0, 1.0, 1.0, 1.0, 1.0, 1.0, 1.0, 1.0, 1.0, 1.0, 1.0, 1.0, 1.0, 1.0, 1.0, 1.0, 1.0, 1.0, 1.0, 1.0, 1.0, 1.0, 1.0, 1.0, 1.0, 1.0, 1.0, 1.0, 1.0, 1.0, 1.0, 1.0, 1.0, 1.0, 1.0, 1.0]}],                        {\"template\": {\"data\": {\"bar\": [{\"error_x\": {\"color\": \"#2a3f5f\"}, \"error_y\": {\"color\": \"#2a3f5f\"}, \"marker\": {\"line\": {\"color\": \"#E5ECF6\", \"width\": 0.5}}, \"type\": \"bar\"}], \"barpolar\": [{\"marker\": {\"line\": {\"color\": \"#E5ECF6\", \"width\": 0.5}}, \"type\": \"barpolar\"}], \"carpet\": [{\"aaxis\": {\"endlinecolor\": \"#2a3f5f\", \"gridcolor\": \"white\", \"linecolor\": \"white\", \"minorgridcolor\": \"white\", \"startlinecolor\": \"#2a3f5f\"}, \"baxis\": {\"endlinecolor\": \"#2a3f5f\", \"gridcolor\": \"white\", \"linecolor\": \"white\", \"minorgridcolor\": \"white\", \"startlinecolor\": \"#2a3f5f\"}, \"type\": \"carpet\"}], \"choropleth\": [{\"colorbar\": {\"outlinewidth\": 0, \"ticks\": \"\"}, \"type\": \"choropleth\"}], \"contour\": [{\"colorbar\": {\"outlinewidth\": 0, \"ticks\": \"\"}, \"colorscale\": [[0.0, \"#0d0887\"], [0.1111111111111111, \"#46039f\"], [0.2222222222222222, \"#7201a8\"], [0.3333333333333333, \"#9c179e\"], [0.4444444444444444, \"#bd3786\"], [0.5555555555555556, \"#d8576b\"], [0.6666666666666666, \"#ed7953\"], [0.7777777777777778, \"#fb9f3a\"], [0.8888888888888888, \"#fdca26\"], [1.0, \"#f0f921\"]], \"type\": \"contour\"}], \"contourcarpet\": [{\"colorbar\": {\"outlinewidth\": 0, \"ticks\": \"\"}, \"type\": \"contourcarpet\"}], \"heatmap\": [{\"colorbar\": {\"outlinewidth\": 0, \"ticks\": \"\"}, \"colorscale\": [[0.0, \"#0d0887\"], [0.1111111111111111, \"#46039f\"], [0.2222222222222222, \"#7201a8\"], [0.3333333333333333, \"#9c179e\"], [0.4444444444444444, \"#bd3786\"], [0.5555555555555556, \"#d8576b\"], [0.6666666666666666, \"#ed7953\"], [0.7777777777777778, \"#fb9f3a\"], [0.8888888888888888, \"#fdca26\"], [1.0, \"#f0f921\"]], \"type\": \"heatmap\"}], \"heatmapgl\": [{\"colorbar\": {\"outlinewidth\": 0, \"ticks\": \"\"}, \"colorscale\": [[0.0, \"#0d0887\"], [0.1111111111111111, \"#46039f\"], [0.2222222222222222, \"#7201a8\"], [0.3333333333333333, \"#9c179e\"], [0.4444444444444444, \"#bd3786\"], [0.5555555555555556, \"#d8576b\"], [0.6666666666666666, \"#ed7953\"], [0.7777777777777778, \"#fb9f3a\"], [0.8888888888888888, \"#fdca26\"], [1.0, \"#f0f921\"]], \"type\": \"heatmapgl\"}], \"histogram\": [{\"marker\": {\"colorbar\": {\"outlinewidth\": 0, \"ticks\": \"\"}}, \"type\": \"histogram\"}], \"histogram2d\": [{\"colorbar\": {\"outlinewidth\": 0, \"ticks\": \"\"}, \"colorscale\": [[0.0, \"#0d0887\"], [0.1111111111111111, \"#46039f\"], [0.2222222222222222, \"#7201a8\"], [0.3333333333333333, \"#9c179e\"], [0.4444444444444444, \"#bd3786\"], [0.5555555555555556, \"#d8576b\"], [0.6666666666666666, \"#ed7953\"], [0.7777777777777778, \"#fb9f3a\"], [0.8888888888888888, \"#fdca26\"], [1.0, \"#f0f921\"]], \"type\": \"histogram2d\"}], \"histogram2dcontour\": [{\"colorbar\": {\"outlinewidth\": 0, \"ticks\": \"\"}, \"colorscale\": [[0.0, \"#0d0887\"], [0.1111111111111111, \"#46039f\"], [0.2222222222222222, \"#7201a8\"], [0.3333333333333333, \"#9c179e\"], [0.4444444444444444, \"#bd3786\"], [0.5555555555555556, \"#d8576b\"], [0.6666666666666666, \"#ed7953\"], [0.7777777777777778, \"#fb9f3a\"], [0.8888888888888888, \"#fdca26\"], [1.0, \"#f0f921\"]], \"type\": \"histogram2dcontour\"}], \"mesh3d\": [{\"colorbar\": {\"outlinewidth\": 0, \"ticks\": \"\"}, \"type\": \"mesh3d\"}], \"parcoords\": [{\"line\": {\"colorbar\": {\"outlinewidth\": 0, \"ticks\": \"\"}}, \"type\": \"parcoords\"}], \"pie\": [{\"automargin\": true, \"type\": \"pie\"}], \"scatter\": [{\"marker\": {\"colorbar\": {\"outlinewidth\": 0, \"ticks\": \"\"}}, \"type\": \"scatter\"}], \"scatter3d\": [{\"line\": {\"colorbar\": {\"outlinewidth\": 0, \"ticks\": \"\"}}, \"marker\": {\"colorbar\": {\"outlinewidth\": 0, \"ticks\": \"\"}}, \"type\": \"scatter3d\"}], \"scattercarpet\": [{\"marker\": {\"colorbar\": {\"outlinewidth\": 0, \"ticks\": \"\"}}, \"type\": \"scattercarpet\"}], \"scattergeo\": [{\"marker\": {\"colorbar\": {\"outlinewidth\": 0, \"ticks\": \"\"}}, \"type\": \"scattergeo\"}], \"scattergl\": [{\"marker\": {\"colorbar\": {\"outlinewidth\": 0, \"ticks\": \"\"}}, \"type\": \"scattergl\"}], \"scattermapbox\": [{\"marker\": {\"colorbar\": {\"outlinewidth\": 0, \"ticks\": \"\"}}, \"type\": \"scattermapbox\"}], \"scatterpolar\": [{\"marker\": {\"colorbar\": {\"outlinewidth\": 0, \"ticks\": \"\"}}, \"type\": \"scatterpolar\"}], \"scatterpolargl\": [{\"marker\": {\"colorbar\": {\"outlinewidth\": 0, \"ticks\": \"\"}}, \"type\": \"scatterpolargl\"}], \"scatterternary\": [{\"marker\": {\"colorbar\": {\"outlinewidth\": 0, \"ticks\": \"\"}}, \"type\": \"scatterternary\"}], \"surface\": [{\"colorbar\": {\"outlinewidth\": 0, \"ticks\": \"\"}, \"colorscale\": [[0.0, \"#0d0887\"], [0.1111111111111111, \"#46039f\"], [0.2222222222222222, \"#7201a8\"], [0.3333333333333333, \"#9c179e\"], [0.4444444444444444, \"#bd3786\"], [0.5555555555555556, \"#d8576b\"], [0.6666666666666666, \"#ed7953\"], [0.7777777777777778, \"#fb9f3a\"], [0.8888888888888888, \"#fdca26\"], [1.0, \"#f0f921\"]], \"type\": \"surface\"}], \"table\": [{\"cells\": {\"fill\": {\"color\": \"#EBF0F8\"}, \"line\": {\"color\": \"white\"}}, \"header\": {\"fill\": {\"color\": \"#C8D4E3\"}, \"line\": {\"color\": \"white\"}}, \"type\": \"table\"}]}, \"layout\": {\"annotationdefaults\": {\"arrowcolor\": \"#2a3f5f\", \"arrowhead\": 0, \"arrowwidth\": 1}, \"autotypenumbers\": \"strict\", \"coloraxis\": {\"colorbar\": {\"outlinewidth\": 0, \"ticks\": \"\"}}, \"colorscale\": {\"diverging\": [[0, \"#8e0152\"], [0.1, \"#c51b7d\"], [0.2, \"#de77ae\"], [0.3, \"#f1b6da\"], [0.4, \"#fde0ef\"], [0.5, \"#f7f7f7\"], [0.6, \"#e6f5d0\"], [0.7, \"#b8e186\"], [0.8, \"#7fbc41\"], [0.9, \"#4d9221\"], [1, \"#276419\"]], \"sequential\": [[0.0, \"#0d0887\"], [0.1111111111111111, \"#46039f\"], [0.2222222222222222, \"#7201a8\"], [0.3333333333333333, \"#9c179e\"], [0.4444444444444444, \"#bd3786\"], [0.5555555555555556, \"#d8576b\"], [0.6666666666666666, \"#ed7953\"], [0.7777777777777778, \"#fb9f3a\"], [0.8888888888888888, \"#fdca26\"], [1.0, \"#f0f921\"]], \"sequentialminus\": [[0.0, \"#0d0887\"], [0.1111111111111111, \"#46039f\"], [0.2222222222222222, \"#7201a8\"], [0.3333333333333333, \"#9c179e\"], [0.4444444444444444, \"#bd3786\"], [0.5555555555555556, \"#d8576b\"], [0.6666666666666666, \"#ed7953\"], [0.7777777777777778, \"#fb9f3a\"], [0.8888888888888888, \"#fdca26\"], [1.0, \"#f0f921\"]]}, \"colorway\": [\"#636efa\", \"#EF553B\", \"#00cc96\", \"#ab63fa\", \"#FFA15A\", \"#19d3f3\", \"#FF6692\", \"#B6E880\", \"#FF97FF\", \"#FECB52\"], \"font\": {\"color\": \"#2a3f5f\"}, \"geo\": {\"bgcolor\": \"white\", \"lakecolor\": \"white\", \"landcolor\": \"#E5ECF6\", \"showlakes\": true, \"showland\": true, \"subunitcolor\": \"white\"}, \"hoverlabel\": {\"align\": \"left\"}, \"hovermode\": \"closest\", \"mapbox\": {\"style\": \"light\"}, \"paper_bgcolor\": \"white\", \"plot_bgcolor\": \"#E5ECF6\", \"polar\": {\"angularaxis\": {\"gridcolor\": \"white\", \"linecolor\": \"white\", \"ticks\": \"\"}, \"bgcolor\": \"#E5ECF6\", \"radialaxis\": {\"gridcolor\": \"white\", \"linecolor\": \"white\", \"ticks\": \"\"}}, \"scene\": {\"xaxis\": {\"backgroundcolor\": \"#E5ECF6\", \"gridcolor\": \"white\", \"gridwidth\": 2, \"linecolor\": \"white\", \"showbackground\": true, \"ticks\": \"\", \"zerolinecolor\": \"white\"}, \"yaxis\": {\"backgroundcolor\": \"#E5ECF6\", \"gridcolor\": \"white\", \"gridwidth\": 2, \"linecolor\": \"white\", \"showbackground\": true, \"ticks\": \"\", \"zerolinecolor\": \"white\"}, \"zaxis\": {\"backgroundcolor\": \"#E5ECF6\", \"gridcolor\": \"white\", \"gridwidth\": 2, \"linecolor\": \"white\", \"showbackground\": true, \"ticks\": \"\", \"zerolinecolor\": \"white\"}}, \"shapedefaults\": {\"line\": {\"color\": \"#2a3f5f\"}}, \"ternary\": {\"aaxis\": {\"gridcolor\": \"white\", \"linecolor\": \"white\", \"ticks\": \"\"}, \"baxis\": {\"gridcolor\": \"white\", \"linecolor\": \"white\", \"ticks\": \"\"}, \"bgcolor\": \"#E5ECF6\", \"caxis\": {\"gridcolor\": \"white\", \"linecolor\": \"white\", \"ticks\": \"\"}}, \"title\": {\"x\": 0.05}, \"xaxis\": {\"automargin\": true, \"gridcolor\": \"white\", \"linecolor\": \"white\", \"ticks\": \"\", \"title\": {\"standoff\": 15}, \"zerolinecolor\": \"white\", \"zerolinewidth\": 2}, \"yaxis\": {\"automargin\": true, \"gridcolor\": \"white\", \"linecolor\": \"white\", \"ticks\": \"\", \"title\": {\"standoff\": 15}, \"zerolinecolor\": \"white\", \"zerolinewidth\": 2}}}},                        {\"responsive\": true}                    ).then(function(){\n",
              "                            \n",
              "var gd = document.getElementById('64790b0e-c5d6-481e-a8b5-fda855a97f6f');\n",
              "var x = new MutationObserver(function (mutations, observer) {{\n",
              "        var display = window.getComputedStyle(gd).display;\n",
              "        if (!display || display === 'none') {{\n",
              "            console.log([gd, 'removed!']);\n",
              "            Plotly.purge(gd);\n",
              "            observer.disconnect();\n",
              "        }}\n",
              "}});\n",
              "\n",
              "// Listen for the removal of the full notebook cells\n",
              "var notebookContainer = gd.closest('#notebook-container');\n",
              "if (notebookContainer) {{\n",
              "    x.observe(notebookContainer, {childList: true});\n",
              "}}\n",
              "\n",
              "// Listen for the clearing of the current output cell\n",
              "var outputEl = gd.closest('.output');\n",
              "if (outputEl) {{\n",
              "    x.observe(outputEl, {childList: true});\n",
              "}}\n",
              "\n",
              "                        })                };                            </script>        </div>\n",
              "</body>\n",
              "</html>"
            ]
          },
          "metadata": {
            "tags": []
          }
        }
      ]
    },
    {
      "cell_type": "code",
      "metadata": {
        "id": "M9zVysF4RHYV"
      },
      "source": [
        "def get_Concur_Uniqueness(close, events, numThreads):\n",
        "    out = events[['t1']].copy(deep = True)\n",
        "    out['t1'] = out['t1'].fillna(close.index[-1])\n",
        "    events['t1'] = events['t1'].fillna(close.index[-1])\n",
        "    numCoEvents = mpPandasObj(mpNumCoEvents, ('molecule', events.index), numThreads, closeIdx = close.index, t1 = out['t1'])\n",
        "    numCoEvents = numCoEvents.loc[~numCoEvents.index.duplicated(keep = 'last')]\n",
        "    numCoEvents = numCoEvents.reindex(close.index).fillna(0)\n",
        "    out['tW'] = mpPandasObj(mpSampleTW, ('molecule', events.index), numThreads, t1 = out['t1'], numCoEvents = numCoEvents)\n",
        "    out['w'] = mpPandasObj(mpSampleW, ('molecule', events.index), numThreads, t1 = events['t1'], numCoEvents = numCoEvents, close = close)\n",
        "    out['w'] *= out.shape[0] / out['w'].sum() # normalised, sum up to sample size\n",
        "    return out"
      ],
      "execution_count": null,
      "outputs": []
    }
  ]
}